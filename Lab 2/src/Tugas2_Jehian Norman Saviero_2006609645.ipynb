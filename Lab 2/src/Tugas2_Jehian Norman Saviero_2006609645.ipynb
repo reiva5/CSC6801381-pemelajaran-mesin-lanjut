{
  "nbformat": 4,
  "nbformat_minor": 0,
  "metadata": {
    "kernelspec": {
      "display_name": "Python 3",
      "language": "python",
      "name": "python3"
    },
    "language_info": {
      "codemirror_mode": {
        "name": "ipython",
        "version": 3
      },
      "file_extension": ".py",
      "mimetype": "text/x-python",
      "name": "python",
      "nbconvert_exporter": "python",
      "pygments_lexer": "ipython3",
      "version": "3.6.9"
    },
    "colab": {
      "name": "Tugas2_Jehian Norman Saviero_2006609645.ipynb",
      "provenance": []
    }
  },
  "cells": [
    {
      "cell_type": "code",
      "metadata": {
        "id": "_UkWLwx1Lxq-"
      },
      "source": [
        "import numpy as np\n",
        "import matplotlib.pyplot as plt\n",
        "import pandas as pd\n",
        "import random\n",
        "import tensorflow as tf\n",
        "\n",
        "from skimage import color, exposure, filters, io, morphology, util\n",
        "from math import sqrt\n",
        "from numpy import loadtxt\n",
        "from tensorflow import keras\n",
        "from keras.models import Sequential\n",
        "from keras.layers import Dense"
      ],
      "execution_count": 46,
      "outputs": []
    },
    {
      "cell_type": "code",
      "metadata": {
        "id": "vTjrGfhRLxrE"
      },
      "source": [
        "(x_train, y_train), (x_test, y_test) = keras.datasets.cifar10.load_data()"
      ],
      "execution_count": 47,
      "outputs": []
    },
    {
      "cell_type": "markdown",
      "metadata": {
        "id": "iUHtdMWtMKT_"
      },
      "source": [
        "### A. _Fully Connected Neural Networks_\n",
        "1. Lakukan klasifikasi untuk dataset cifar menggunakan **_Fully Connected Neural Networks_** dengan arsitektur dasar sebagai berikut:\n",
        "    - _Fully Connected Layer_ ($1000$ _hidden node_).\n",
        "    - _Activation Layer_ ($\\text{ReLU function}$).\n",
        "    - _Fully Connected Layer_ ($1000$ _hidden node_)\n",
        "    - _Activation Layer_ ($\\text{ReLU function}$).\n",
        "    - _Output Layer_ (10 kelas).\n",
        "    - _Activation Layer_ ($\\text{Softmax function}$).\n",
        "    - _Classification Result_.\n",
        "\n",
        "Fitur yang digunakan bebas (_handcrafted_/_non-convolution_). Hitung metrik ($\\text{accuracy}$, $\\text{sensitivity}$, $\\text{specificity}$, dan $\\text{f1-score}$) untuk data train dan data test."
      ]
    },
    {
      "cell_type": "code",
      "metadata": {
        "id": "H7Gs8hIdeEIM"
      },
      "source": [
        "## Fungsi Bantuan\n",
        "def f1_m(y_true, y_pred): # F1 Score\n",
        "    precision = precision_m(y_true, y_pred)\n",
        "    recall = recall_m(y_true, y_pred)\n",
        "    return 2*((precision*recall)/(precision+recall+K.epsilon()))"
      ],
      "execution_count": 54,
      "outputs": []
    },
    {
      "cell_type": "code",
      "metadata": {
        "id": "Kmnfvpq3LxrI"
      },
      "source": [
        "## Melakukan inisialisasi node per layer\n",
        "nodes_per_layer = [1000, 1000]\n",
        "\n",
        "## Inisialisasi Layer Model Parameter\n",
        "layers = []\n",
        "layers.append(tf.keras.layers.Flatten())\n",
        "\n",
        "### Hidden Layer\n",
        "for i in range(len(nodes_per_layer)):\n",
        "  node = nodes_per_layer[i]\n",
        "  activation_function = activation_function_per_layer[i]\n",
        "  layers.append(keras.layers.Dense(node, activation=tf.nn.relu))\n",
        "\n",
        "### Output Layer\n",
        "layers.append(keras.layers.Softmax())\n",
        "\n",
        "## Mendefinisikan model\n",
        "model = Sequential(layers)"
      ],
      "execution_count": 49,
      "outputs": []
    },
    {
      "cell_type": "code",
      "metadata": {
        "id": "JAWVwVj9M9ky"
      },
      "source": [
        "## Melakukan kompilasi ke dalam model\n",
        "model.compile(optimizer=tf.optimizers.Adam(0.001), loss='sparse_categorical_crossentropy', metrics=['accuracy'])"
      ],
      "execution_count": 57,
      "outputs": []
    },
    {
      "cell_type": "code",
      "metadata": {
        "id": "P2GXVW5dZd0c",
        "outputId": "a9a4fb14-f51d-4f79-e36a-29970dd509f1",
        "colab": {
          "base_uri": "https://localhost:8080/",
          "height": 187
        }
      },
      "source": [
        "## Melakukan fitting\n",
        "beginning_hist = model.fit(x_train, y_train, epochs=5, batch_size=128, validation_data=(x_test,y_test), use_multiprocessing=True)"
      ],
      "execution_count": 58,
      "outputs": [
        {
          "output_type": "stream",
          "text": [
            "Epoch 1/5\n",
            "391/391 [==============================] - 28s 70ms/step - loss: 65.4673 - accuracy: 0.1028 - val_loss: 6.9089 - val_accuracy: 0.1001\n",
            "Epoch 2/5\n",
            "391/391 [==============================] - 26s 68ms/step - loss: 6.9077 - accuracy: 0.1000 - val_loss: 6.9107 - val_accuracy: 0.1001\n",
            "Epoch 3/5\n",
            "391/391 [==============================] - 27s 68ms/step - loss: 6.9077 - accuracy: 0.1000 - val_loss: 6.9084 - val_accuracy: 0.1001\n",
            "Epoch 4/5\n",
            "391/391 [==============================] - 26s 68ms/step - loss: 6.9076 - accuracy: 0.1000 - val_loss: 6.9084 - val_accuracy: 0.1001\n",
            "Epoch 5/5\n",
            "391/391 [==============================] - 28s 70ms/step - loss: 6.9076 - accuracy: 0.1000 - val_loss: 6.9084 - val_accuracy: 0.1001\n"
          ],
          "name": "stdout"
        }
      ]
    },
    {
      "cell_type": "code",
      "metadata": {
        "id": "yRdERNwKaIW-"
      },
      "source": [
        ""
      ],
      "execution_count": null,
      "outputs": []
    }
  ]
}