{
  "nbformat": 4,
  "nbformat_minor": 0,
  "metadata": {
    "kernelspec": {
      "display_name": "Python 3",
      "language": "python",
      "name": "python3"
    },
    "language_info": {
      "codemirror_mode": {
        "name": "ipython",
        "version": 3
      },
      "file_extension": ".py",
      "mimetype": "text/x-python",
      "name": "python",
      "nbconvert_exporter": "python",
      "pygments_lexer": "ipython3",
      "version": "3.6.9"
    },
    "colab": {
      "name": "Tugas2_Jehian Norman Saviero_2006609645.ipynb",
      "provenance": []
    }
  },
  "cells": [
    {
      "cell_type": "code",
      "metadata": {
        "id": "_UkWLwx1Lxq-"
      },
      "source": [
        "import numpy as np\n",
        "import matplotlib.pyplot as plt\n",
        "import pandas as pd\n",
        "import random\n",
        "import tensorflow as tf\n",
        "\n",
        "from skimage import color, exposure, filters, io, morphology, util\n",
        "from math import sqrt\n",
        "from numpy import loadtxt\n",
        "from tensorflow import keras\n",
        "from keras import backend as K\n",
        "from keras.models import Sequential\n",
        "from keras.layers import Conv2D, Dense, Dropout, Flatten, MaxPooling2D, Reshape\n",
        "from keras.optimizers import SGD"
      ],
      "execution_count": null,
      "outputs": []
    },
    {
      "cell_type": "markdown",
      "metadata": {
        "id": "iUHtdMWtMKT_"
      },
      "source": [
        "### A. _Fully Connected Neural Networks_"
      ]
    },
    {
      "cell_type": "markdown",
      "metadata": {
        "id": "XpePD_3kHxIQ"
      },
      "source": [
        "1. Lakukan klasifikasi untuk dataset cifar menggunakan **_Fully Connected Neural Networks_** dengan arsitektur dasar sebagai berikut:\n",
        "    - _Fully Connected Layer_ ($1000$ _hidden node_).\n",
        "    - _Activation Layer_ ($\\text{ReLU function}$).\n",
        "    - _Fully Connected Layer_ ($1000$ _hidden node_)\n",
        "    - _Activation Layer_ ($\\text{ReLU function}$).\n",
        "    - _Output Layer_ (10 kelas).\n",
        "    - _Activation Layer_ ($\\text{Softmax function}$).\n",
        "    - _Classification Result_.\n",
        "\n",
        "Fitur yang digunakan bebas (_handcrafted_/_non-convolution_). Hitung metrik ($\\text{accuracy}$, $\\text{sensitivity}$, $\\text{specificity}$, dan $f_{1}\\text{ score}$) untuk data train dan data test."
      ]
    },
    {
      "cell_type": "markdown",
      "metadata": {
        "id": "pYyeOEI2FyIW"
      },
      "source": [
        "#### Mendefinisikan Fungsi Bantuan\n",
        "Untuk memudahkan implementasi, berikut beberapa fungsi bantuan yang akan dipakai"
      ]
    },
    {
      "cell_type": "markdown",
      "metadata": {
        "id": "sGhJfOY7F9Ba"
      },
      "source": [
        "##### Menghitung $\\text{recall}$ atau $\\text{sensitivity}$\n",
        "$$\\text{recall} = \\frac{t_p}{t_p+t_n}$$"
      ]
    },
    {
      "cell_type": "code",
      "metadata": {
        "id": "H7Gs8hIdeEIM"
      },
      "source": [
        "def recall(y_true, y_pred): \n",
        "  true_positives = K.sum(K.round(K.clip(y_true * y_pred, 0, 1)))\n",
        "  possible_positives = K.sum(K.round(K.clip(y_true, 0, 1)))\n",
        "  return true_positives / (possible_positives + K.epsilon())"
      ],
      "execution_count": null,
      "outputs": []
    },
    {
      "cell_type": "markdown",
      "metadata": {
        "id": "BPeOb1sCLoHc"
      },
      "source": [
        "##### Menghitung $\\text{precision}$\n",
        "$$\\text{precision} = \\frac{t_p}{t_p + f_p}$$"
      ]
    },
    {
      "cell_type": "code",
      "metadata": {
        "id": "J8S7McQZLsHs"
      },
      "source": [
        "def precision(y_true, y_pred):\n",
        "  true_positives = K.sum(K.round(K.clip(y_true * y_pred, 0, 1)))\n",
        "  predicted_positives = K.sum(K.round(K.clip(y_pred, 0, 1)))\n",
        "  return true_positives / (predicted_positives + K.epsilon())"
      ],
      "execution_count": null,
      "outputs": []
    },
    {
      "cell_type": "markdown",
      "metadata": {
        "id": "hwgynhuqMU8f"
      },
      "source": [
        "##### Menghitung $\\text{specificity}$\n",
        "$$\\text{specificity} = \\frac{t_n}{t_n + f_p}$$"
      ]
    },
    {
      "cell_type": "code",
      "metadata": {
        "id": "L0pJ0OO6M21C"
      },
      "source": [
        "def specificity(y_true, y_pred):\n",
        "  true_negatives = K.sum(K.round(K.clip((1 - y_true) * (1 - y_pred), 0, 1)))\n",
        "  possible_negatives = K.sum(K.round(K.clip(1 - y_true, 0, 1)))\n",
        "  return true_negatives / (possible_negatives + K.epsilon())"
      ],
      "execution_count": null,
      "outputs": []
    },
    {
      "cell_type": "markdown",
      "metadata": {
        "id": "hb5zxKH7NDif"
      },
      "source": [
        "##### Menghitung $f_{1}\\text{ Score}$\n",
        "Kita tau bahwa\n",
        "$$f_{\\beta} = (1 + \\beta^{2}) \\cdot \\frac{\\text{precition} \\cdot \\text{recall}}{(\\beta^{2} \\cdot \\text{precision}) + \\text{recall}}$$\n",
        "Sehingga \n",
        "$$f_{1} = (1 + 1^{2}) \\cdot \\frac{\\text{precition} \\cdot \\text{recall}}{(1^{2} \\cdot \\text{precision}) + \\text{recall}}$$\n",
        "$$f_{1} = (2) \\cdot \\frac{\\text{precition} \\cdot \\text{recall}}{(\\text{precision}) + \\text{recall}}$$\n",
        "\n"
      ]
    },
    {
      "cell_type": "code",
      "metadata": {
        "id": "CAvpJm0mNXDH"
      },
      "source": [
        "def f1_score(y_true, y_pred):\n",
        "  precision_val = precision(y_true, y_pred)\n",
        "  recall_val = recall(y_true, y_pred)\n",
        "  return 2*((precision_val * recall_val)/(precision_val + recall_val + K.epsilon()))"
      ],
      "execution_count": null,
      "outputs": []
    },
    {
      "cell_type": "markdown",
      "metadata": {
        "id": "MJuaKKBEO4QX"
      },
      "source": [
        "**n.b.: Semua fungsi pada bagian penyebut ditambah epsilon untuk menghindari dibagi $0$ dikarenakan memasukkan input sebanyak $0$**"
      ]
    },
    {
      "cell_type": "markdown",
      "metadata": {
        "id": "JGVbeXdqMOW8"
      },
      "source": [
        "##### Fungsi Bantuan untuk Melakukan Prediksi dan Menampilkan Metric"
      ]
    },
    {
      "cell_type": "code",
      "metadata": {
        "id": "zkfajhUQ6zyP"
      },
      "source": [
        "def predict_and_get_metrics(model, x_test, y_test, label):\n",
        "  _, accuracy, sensitivity, specificity, score_f1 = model.evaluate(x_test, y_test, verbose=0)\n",
        "  return pd.DataFrame([[accuracy, sensitivity, specificity, score_f1]], columns=['Accuracy', 'Sensitivity', 'Specificity', 'F1 Score'], index=[label])\n",
        "\n",
        "def compare_train_and_test(model, x_train, y_train, x_test, y_test, extra_label=''):\n",
        "  metric_train = predict_and_get_metrics(model, x_train, y_train, 'Data Train %s' % (extra_label))\n",
        "  metric_test = predict_and_get_metrics(model, x_test, y_test, 'Data Test %s' % (extra_label))\n",
        "  return pd.concat([metric_train, metric_test])"
      ],
      "execution_count": null,
      "outputs": []
    },
    {
      "cell_type": "markdown",
      "metadata": {
        "id": "LVxJChOEOtBi"
      },
      "source": [
        "##### Fungsi Bantuan untuk _Load Dataset_"
      ]
    },
    {
      "cell_type": "code",
      "metadata": {
        "id": "08UNFWeTOxco"
      },
      "source": [
        "def load_dataset():\n",
        "\t(trainX, trainY), (testX, testY) = keras.datasets.cifar10.load_data()\n",
        "\ttrainY = tf.keras.utils.to_categorical(trainY) ## Di ubah ke matrix persegi representasi binari\n",
        "\ttestY = tf.keras.utils.to_categorical(testY) ## Di ubah ke matrix persegi representasi binari\n",
        "\treturn trainX, trainY, testX, testY"
      ],
      "execution_count": null,
      "outputs": []
    },
    {
      "cell_type": "markdown",
      "metadata": {
        "id": "zv9BtCLp2u5H"
      },
      "source": [
        "#### Load Dataset"
      ]
    },
    {
      "cell_type": "code",
      "metadata": {
        "id": "vTjrGfhRLxrE"
      },
      "source": [
        "x_train, y_train, x_test, y_test = load_dataset()"
      ],
      "execution_count": null,
      "outputs": []
    },
    {
      "cell_type": "markdown",
      "metadata": {
        "id": "mAFk5_LI9X9v"
      },
      "source": [
        "#### Membangun Model _Fully Connected Neural Network_ dengan spesifikasi minimum memenuhi deskripsi Lab"
      ]
    },
    {
      "cell_type": "code",
      "metadata": {
        "id": "Kmnfvpq3LxrI",
        "colab": {
          "base_uri": "https://localhost:8080/",
          "height": 34
        },
        "outputId": "324f2fbc-cc62-4023-8e74-342d67e51bcc"
      },
      "source": [
        "## Melakukan inisialisasi node per layer\n",
        "nodes_per_layer = [1000, 1000, 10]\n",
        "activation_function_per_layer = [tf.nn.relu, tf.nn.relu, tf.nn.softmax]\n",
        "\n",
        "## Inisialisasi Layer Model Parameter\n",
        "layers = []\n",
        "layers.append(tf.keras.layers.Flatten())\n",
        "\n",
        "## Menyisipkan parameter node dan fungsi aktivasinya\n",
        "for i in range(len(nodes_per_layer)):\n",
        "  node = nodes_per_layer[i]\n",
        "  activation = activation_function_per_layer[i]\n",
        "  layers.append(keras.layers.Dense(node, activation=activation))\n",
        "\n",
        "## Mendefinisikan model\n",
        "model = Sequential(layers)\n",
        "\n",
        "## Membangun model\n",
        "model.build(input_shape=x_train.shape)\n",
        "model.output_shape"
      ],
      "execution_count": null,
      "outputs": [
        {
          "output_type": "execute_result",
          "data": {
            "text/plain": [
              "(50000, 10)"
            ]
          },
          "metadata": {
            "tags": []
          },
          "execution_count": 10
        }
      ]
    },
    {
      "cell_type": "markdown",
      "metadata": {
        "id": "SrnHRVZuQ0lj"
      },
      "source": [
        "#### Melakukan kompilasi ke dalam model"
      ]
    },
    {
      "cell_type": "code",
      "metadata": {
        "id": "JAWVwVj9M9ky"
      },
      "source": [
        "model.compile(\n",
        "    optimizer=SGD(lr=0.001, momentum=0.9),\n",
        "    loss='categorical_crossentropy',\n",
        "    metrics=[\n",
        "      'accuracy',\n",
        "      recall,\n",
        "      specificity,\n",
        "      f1_score\n",
        "    ])"
      ],
      "execution_count": null,
      "outputs": []
    },
    {
      "cell_type": "markdown",
      "metadata": {
        "id": "JCeP_L31Q22u"
      },
      "source": [
        "#### Melakukan Fitting"
      ]
    },
    {
      "cell_type": "code",
      "metadata": {
        "id": "P2GXVW5dZd0c",
        "colab": {
          "base_uri": "https://localhost:8080/",
          "height": 377
        },
        "outputId": "fb76fd18-c2b0-4627-d0dd-131d7343def4"
      },
      "source": [
        "beginning_hist = model.fit(x_train, y_train, epochs=10, batch_size=5000, validation_data=(x_test,y_test), use_multiprocessing=True)"
      ],
      "execution_count": null,
      "outputs": [
        {
          "output_type": "stream",
          "text": [
            "Epoch 1/10\n",
            "10/10 [==============================] - 16s 2s/step - loss: 1054907.8750 - accuracy: 0.0991 - recall: 0.0991 - specificity: 0.8999 - f1_score: 0.0991 - val_loss: 2450754.0000 - val_accuracy: 0.1000 - val_recall: 0.1000 - val_specificity: 0.9000 - val_f1_score: 0.1000\n",
            "Epoch 2/10\n",
            "10/10 [==============================] - 15s 2s/step - loss: 400731.0938 - accuracy: 0.0983 - recall: 0.0524 - specificity: 0.9468 - f1_score: 0.0534 - val_loss: 2.3237 - val_accuracy: 0.1000 - val_recall: 0.0000e+00 - val_specificity: 1.0000 - val_f1_score: 0.0000e+00\n",
            "Epoch 3/10\n",
            "10/10 [==============================] - 15s 2s/step - loss: 2.3440 - accuracy: 0.1000 - recall: 4.0000e-05 - specificity: 1.0000 - f1_score: 7.9960e-05 - val_loss: 2.3188 - val_accuracy: 0.1000 - val_recall: 0.0000e+00 - val_specificity: 1.0000 - val_f1_score: 0.0000e+00\n",
            "Epoch 4/10\n",
            "10/10 [==============================] - 15s 2s/step - loss: 2.3051 - accuracy: 0.1000 - recall: 0.0000e+00 - specificity: 1.0000 - f1_score: 0.0000e+00 - val_loss: 2.3159 - val_accuracy: 0.1000 - val_recall: 0.0000e+00 - val_specificity: 1.0000 - val_f1_score: 0.0000e+00\n",
            "Epoch 5/10\n",
            "10/10 [==============================] - 15s 2s/step - loss: 2.3036 - accuracy: 0.1000 - recall: 0.0000e+00 - specificity: 1.0000 - f1_score: 0.0000e+00 - val_loss: 2.3144 - val_accuracy: 0.1000 - val_recall: 0.0000e+00 - val_specificity: 1.0000 - val_f1_score: 0.0000e+00\n",
            "Epoch 6/10\n",
            "10/10 [==============================] - 15s 2s/step - loss: 2.3029 - accuracy: 0.1000 - recall: 0.0000e+00 - specificity: 1.0000 - f1_score: 0.0000e+00 - val_loss: 2.3139 - val_accuracy: 0.1000 - val_recall: 0.0000e+00 - val_specificity: 1.0000 - val_f1_score: 0.0000e+00\n",
            "Epoch 7/10\n",
            "10/10 [==============================] - 15s 2s/step - loss: 2.3027 - accuracy: 0.1000 - recall: 0.0000e+00 - specificity: 1.0000 - f1_score: 0.0000e+00 - val_loss: 2.3137 - val_accuracy: 0.1000 - val_recall: 0.0000e+00 - val_specificity: 1.0000 - val_f1_score: 0.0000e+00\n",
            "Epoch 8/10\n",
            "10/10 [==============================] - 15s 2s/step - loss: 2.3026 - accuracy: 0.1000 - recall: 0.0000e+00 - specificity: 1.0000 - f1_score: 0.0000e+00 - val_loss: 2.3137 - val_accuracy: 0.1000 - val_recall: 0.0000e+00 - val_specificity: 1.0000 - val_f1_score: 0.0000e+00\n",
            "Epoch 9/10\n",
            "10/10 [==============================] - 15s 2s/step - loss: 2.3026 - accuracy: 0.1000 - recall: 0.0000e+00 - specificity: 1.0000 - f1_score: 0.0000e+00 - val_loss: 2.3137 - val_accuracy: 0.1000 - val_recall: 0.0000e+00 - val_specificity: 1.0000 - val_f1_score: 0.0000e+00\n",
            "Epoch 10/10\n",
            "10/10 [==============================] - 15s 2s/step - loss: 2.3026 - accuracy: 0.1000 - recall: 0.0000e+00 - specificity: 1.0000 - f1_score: 0.0000e+00 - val_loss: 2.3137 - val_accuracy: 0.1000 - val_recall: 0.0000e+00 - val_specificity: 1.0000 - val_f1_score: 0.0000e+00\n"
          ],
          "name": "stdout"
        }
      ]
    },
    {
      "cell_type": "markdown",
      "metadata": {
        "id": "mc5VMtrmTJZl"
      },
      "source": [
        "#### Melakukan Prediksi ke _Data Test_ dan Menampilkan _Metric_-nya"
      ]
    },
    {
      "cell_type": "code",
      "metadata": {
        "id": "yRdERNwKaIW-",
        "colab": {
          "base_uri": "https://localhost:8080/",
          "height": 173
        },
        "outputId": "2bce83f9-3ac2-4c15-eac1-87c710552235"
      },
      "source": [
        "compare_train_and_test(model, x_train, y_train, x_test, y_test).transpose()"
      ],
      "execution_count": null,
      "outputs": [
        {
          "output_type": "execute_result",
          "data": {
            "text/html": [
              "<div>\n",
              "<style scoped>\n",
              "    .dataframe tbody tr th:only-of-type {\n",
              "        vertical-align: middle;\n",
              "    }\n",
              "\n",
              "    .dataframe tbody tr th {\n",
              "        vertical-align: top;\n",
              "    }\n",
              "\n",
              "    .dataframe thead th {\n",
              "        text-align: right;\n",
              "    }\n",
              "</style>\n",
              "<table border=\"1\" class=\"dataframe\">\n",
              "  <thead>\n",
              "    <tr style=\"text-align: right;\">\n",
              "      <th></th>\n",
              "      <th>Data Train</th>\n",
              "      <th>Data Test</th>\n",
              "    </tr>\n",
              "  </thead>\n",
              "  <tbody>\n",
              "    <tr>\n",
              "      <th>Accuracy</th>\n",
              "      <td>0.1</td>\n",
              "      <td>0.100000</td>\n",
              "    </tr>\n",
              "    <tr>\n",
              "      <th>Sensitivity</th>\n",
              "      <td>0.0</td>\n",
              "      <td>0.000000</td>\n",
              "    </tr>\n",
              "    <tr>\n",
              "      <th>Specificity</th>\n",
              "      <td>1.0</td>\n",
              "      <td>0.999989</td>\n",
              "    </tr>\n",
              "    <tr>\n",
              "      <th>F1 Score</th>\n",
              "      <td>0.0</td>\n",
              "      <td>0.000000</td>\n",
              "    </tr>\n",
              "  </tbody>\n",
              "</table>\n",
              "</div>"
            ],
            "text/plain": [
              "             Data Train   Data Test \n",
              "Accuracy             0.1    0.100000\n",
              "Sensitivity          0.0    0.000000\n",
              "Specificity          1.0    0.999989\n",
              "F1 Score             0.0    0.000000"
            ]
          },
          "metadata": {
            "tags": []
          },
          "execution_count": 13
        }
      ]
    },
    {
      "cell_type": "markdown",
      "metadata": {
        "id": "_d9EEUDNV1hq"
      },
      "source": [
        "2. Anda dapat memperbaiki hasil yang diperoleh dengan melakukan  (tiga) skenario eksperimen, yaitu: _feature engineering_, menambahkan _layer_, dan _hyperparameter tuning_ (pada classifier)."
      ]
    },
    {
      "cell_type": "markdown",
      "metadata": {
        "id": "0j6xlAZ4Xf6f"
      },
      "source": [
        "#### _Feature Engineering_"
      ]
    },
    {
      "cell_type": "markdown",
      "metadata": {
        "id": "L-QLq6iZZUm9"
      },
      "source": [
        "- Untuk _feature engineering_ pada sesi lab kali ini, akan dilakukan normalisasi input agar berada pada rentang $[0...1]$."
      ]
    },
    {
      "cell_type": "code",
      "metadata": {
        "id": "E_ZonltpXckB"
      },
      "source": [
        "def normalize(x):\n",
        "  return x / 255.0\n",
        "\n",
        "normalize_x_train = normalize(x_train)\n",
        "normalize_x_test = normalize(x_test)"
      ],
      "execution_count": null,
      "outputs": []
    },
    {
      "cell_type": "markdown",
      "metadata": {
        "id": "HZv5jAjTCD9e"
      },
      "source": [
        "##### Membangun Model _Fully Connected Neural Network_ sebagai _dedicated model_ untuk eksperimen _Feature Engineering_"
      ]
    },
    {
      "cell_type": "code",
      "metadata": {
        "id": "NwEDxmrW5hfM",
        "colab": {
          "base_uri": "https://localhost:8080/",
          "height": 34
        },
        "outputId": "8ef78618-647c-4920-d3fd-49fb4129e537"
      },
      "source": [
        "## Melakukan inisialisasi node per layer\n",
        "nodes_per_layer_for_feature_engineering = [1000, 1000, 10]\n",
        "activation_function_per_layer_for_feature_engineering = [tf.nn.relu, tf.nn.relu, tf.nn.softmax]\n",
        "\n",
        "## Inisialisasi Layer Model Parameter\n",
        "layers_for_feature_engineering = []\n",
        "layers_for_feature_engineering.append(tf.keras.layers.Flatten())\n",
        "\n",
        "## Menyisipkan parameter node dan fungsi aktivasinya\n",
        "for i in range(len(nodes_per_layer_for_feature_engineering)):\n",
        "  node = nodes_per_layer_for_feature_engineering[i]\n",
        "  activation = activation_function_per_layer_for_feature_engineering[i]\n",
        "  layers_for_feature_engineering.append(keras.layers.Dense(node, activation=activation))\n",
        "\n",
        "## Mendefinisikan model\n",
        "model_for_feature_engineering = Sequential(layers_for_feature_engineering)\n",
        "\n",
        "## Membangun model\n",
        "model_for_feature_engineering.build(input_shape=x_train.shape)\n",
        "model_for_feature_engineering.output_shape"
      ],
      "execution_count": null,
      "outputs": [
        {
          "output_type": "execute_result",
          "data": {
            "text/plain": [
              "(50000, 10)"
            ]
          },
          "metadata": {
            "tags": []
          },
          "execution_count": 83
        }
      ]
    },
    {
      "cell_type": "markdown",
      "metadata": {
        "id": "JAU3M-8SCYQq"
      },
      "source": [
        "##### Melakukan kompilasi ke dalam model"
      ]
    },
    {
      "cell_type": "code",
      "metadata": {
        "id": "apJ3siNf5-TL"
      },
      "source": [
        "model_for_feature_engineering.compile(\n",
        "    optimizer=SGD(lr=0.001, momentum=0.9),\n",
        "    loss='categorical_crossentropy',\n",
        "    metrics=[\n",
        "      'accuracy',\n",
        "      recall,\n",
        "      specificity,\n",
        "      f1_score\n",
        "    ])"
      ],
      "execution_count": null,
      "outputs": []
    },
    {
      "cell_type": "markdown",
      "metadata": {
        "id": "MVBu6q_OC_-S"
      },
      "source": [
        "##### Melakukan _fitting_"
      ]
    },
    {
      "cell_type": "code",
      "metadata": {
        "id": "bDEXGljoZ8Fy",
        "colab": {
          "base_uri": "https://localhost:8080/",
          "height": 377
        },
        "outputId": "43ddf7de-6ebf-4546-87ae-2732654f0917"
      },
      "source": [
        "feature_engineering_hist = model_for_feature_engineering.fit(normalize_x_train, y_train, epochs=10, batch_size=5000, validation_data=(normalize_x_test, y_test), use_multiprocessing=True)"
      ],
      "execution_count": null,
      "outputs": [
        {
          "output_type": "stream",
          "text": [
            "Epoch 1/10\n",
            "10/10 [==============================] - 16s 2s/step - loss: 2.3174 - accuracy: 0.1373 - recall: 0.0000e+00 - specificity: 1.0000 - f1_score: 0.0000e+00 - val_loss: 2.2718 - val_accuracy: 0.1444 - val_recall: 0.0000e+00 - val_specificity: 1.0000 - val_f1_score: 0.0000e+00\n",
            "Epoch 2/10\n",
            "10/10 [==============================] - 15s 2s/step - loss: 2.2522 - accuracy: 0.1684 - recall: 0.0000e+00 - specificity: 1.0000 - f1_score: 0.0000e+00 - val_loss: 2.2108 - val_accuracy: 0.2226 - val_recall: 0.0000e+00 - val_specificity: 1.0000 - val_f1_score: 0.0000e+00\n",
            "Epoch 3/10\n",
            "10/10 [==============================] - 15s 2s/step - loss: 2.1918 - accuracy: 0.2126 - recall: 0.0000e+00 - specificity: 1.0000 - f1_score: 0.0000e+00 - val_loss: 2.1632 - val_accuracy: 0.2283 - val_recall: 0.0000e+00 - val_specificity: 1.0000 - val_f1_score: 0.0000e+00\n",
            "Epoch 4/10\n",
            "10/10 [==============================] - 15s 2s/step - loss: 2.1463 - accuracy: 0.2538 - recall: 0.0000e+00 - specificity: 1.0000 - f1_score: 0.0000e+00 - val_loss: 2.1224 - val_accuracy: 0.2776 - val_recall: 0.0000e+00 - val_specificity: 1.0000 - val_f1_score: 0.0000e+00\n",
            "Epoch 5/10\n",
            "10/10 [==============================] - 15s 2s/step - loss: 2.1103 - accuracy: 0.2759 - recall: 0.0000e+00 - specificity: 1.0000 - f1_score: 0.0000e+00 - val_loss: 2.0894 - val_accuracy: 0.2812 - val_recall: 0.0000e+00 - val_specificity: 1.0000 - val_f1_score: 0.0000e+00\n",
            "Epoch 6/10\n",
            "10/10 [==============================] - 15s 2s/step - loss: 2.0803 - accuracy: 0.2881 - recall: 1.6000e-04 - specificity: 1.0000 - f1_score: 3.1986e-04 - val_loss: 2.0626 - val_accuracy: 0.2957 - val_recall: 1.0000e-04 - val_specificity: 1.0000 - val_f1_score: 1.9992e-04\n",
            "Epoch 7/10\n",
            "10/10 [==============================] - 15s 2s/step - loss: 2.0550 - accuracy: 0.2968 - recall: 3.2000e-04 - specificity: 1.0000 - f1_score: 6.3964e-04 - val_loss: 2.0394 - val_accuracy: 0.2981 - val_recall: 2.0000e-04 - val_specificity: 1.0000 - val_f1_score: 3.9988e-04\n",
            "Epoch 8/10\n",
            "10/10 [==============================] - 15s 2s/step - loss: 2.0333 - accuracy: 0.3024 - recall: 9.8000e-04 - specificity: 1.0000 - f1_score: 0.0020 - val_loss: 2.0192 - val_accuracy: 0.3077 - val_recall: 9.0000e-04 - val_specificity: 0.9999 - val_f1_score: 0.0018\n",
            "Epoch 9/10\n",
            "10/10 [==============================] - 15s 2s/step - loss: 2.0141 - accuracy: 0.3086 - recall: 0.0020 - specificity: 0.9999 - f1_score: 0.0039 - val_loss: 2.0012 - val_accuracy: 0.3121 - val_recall: 0.0020 - val_specificity: 0.9999 - val_f1_score: 0.0040\n",
            "Epoch 10/10\n",
            "10/10 [==============================] - 15s 2s/step - loss: 1.9972 - accuracy: 0.3152 - recall: 0.0032 - specificity: 0.9998 - f1_score: 0.0064 - val_loss: 1.9853 - val_accuracy: 0.3162 - val_recall: 0.0045 - val_specificity: 0.9998 - val_f1_score: 0.0089\n"
          ],
          "name": "stdout"
        }
      ]
    },
    {
      "cell_type": "markdown",
      "metadata": {
        "id": "UnRnLzWsDQXd"
      },
      "source": [
        "#### Melakukan Prediksi ke _Data Test_ dan Menampilkan _Metric_-nya"
      ]
    },
    {
      "cell_type": "code",
      "metadata": {
        "id": "pGPHffRr6uOb",
        "colab": {
          "base_uri": "https://localhost:8080/",
          "height": 173
        },
        "outputId": "0d6091ad-5e6f-45d2-b94a-392017d0fe43"
      },
      "source": [
        "compare_train_and_test(model_for_feature_engineering, normalize_x_train, y_train, normalize_x_test, y_test).transpose()"
      ],
      "execution_count": null,
      "outputs": [
        {
          "output_type": "execute_result",
          "data": {
            "text/html": [
              "<div>\n",
              "<style scoped>\n",
              "    .dataframe tbody tr th:only-of-type {\n",
              "        vertical-align: middle;\n",
              "    }\n",
              "\n",
              "    .dataframe tbody tr th {\n",
              "        vertical-align: top;\n",
              "    }\n",
              "\n",
              "    .dataframe thead th {\n",
              "        text-align: right;\n",
              "    }\n",
              "</style>\n",
              "<table border=\"1\" class=\"dataframe\">\n",
              "  <thead>\n",
              "    <tr style=\"text-align: right;\">\n",
              "      <th></th>\n",
              "      <th>Data Train</th>\n",
              "      <th>Data Test</th>\n",
              "    </tr>\n",
              "  </thead>\n",
              "  <tbody>\n",
              "    <tr>\n",
              "      <th>Accuracy</th>\n",
              "      <td>0.317200</td>\n",
              "      <td>0.316200</td>\n",
              "    </tr>\n",
              "    <tr>\n",
              "      <th>Sensitivity</th>\n",
              "      <td>0.004299</td>\n",
              "      <td>0.004493</td>\n",
              "    </tr>\n",
              "    <tr>\n",
              "      <th>Specificity</th>\n",
              "      <td>0.999801</td>\n",
              "      <td>0.999844</td>\n",
              "    </tr>\n",
              "    <tr>\n",
              "      <th>F1 Score</th>\n",
              "      <td>0.008296</td>\n",
              "      <td>0.008696</td>\n",
              "    </tr>\n",
              "  </tbody>\n",
              "</table>\n",
              "</div>"
            ],
            "text/plain": [
              "             Data Train   Data Test \n",
              "Accuracy        0.317200    0.316200\n",
              "Sensitivity     0.004299    0.004493\n",
              "Specificity     0.999801    0.999844\n",
              "F1 Score        0.008296    0.008696"
            ]
          },
          "metadata": {
            "tags": []
          },
          "execution_count": 86
        }
      ]
    },
    {
      "cell_type": "markdown",
      "metadata": {
        "id": "SLnv9eLa1MeU"
      },
      "source": [
        "#### Menambahkan _Layer_"
      ]
    },
    {
      "cell_type": "markdown",
      "metadata": {
        "id": "ckS1GwFf1WBW"
      },
      "source": [
        "- Untuk eksperimen menambahkan _layer_ pada sesi laboratorium kali ini, saya akan menambahkan layer dua buah _hidden layer_ lagi dengan jumlah _node_ sama dengan _hidden layer_ yang lain."
      ]
    },
    {
      "cell_type": "markdown",
      "metadata": {
        "id": "72UA-P0BDup1"
      },
      "source": [
        "##### Membangun Model _Fully Connected Neural Network_ sebagai _dedicated model_ untuk eksperimen Menambahkan _Layer_"
      ]
    },
    {
      "cell_type": "code",
      "metadata": {
        "id": "uoGiqNj81QML",
        "colab": {
          "base_uri": "https://localhost:8080/",
          "height": 34
        },
        "outputId": "1f0bb502-9020-4309-c910-e9cebd6d7e2c"
      },
      "source": [
        "## Melakukan inisialisasi node per layer\n",
        "nodes_per_new_layer = [1000, 1000, 1000, 1000, 10]\n",
        "activation_function_per_new_layer = [tf.nn.relu, tf.nn.relu, tf.nn.relu, tf.nn.relu, tf.nn.softmax]\n",
        "\n",
        "## Inisialisasi Layer Model Parameter\n",
        "new_layers = []\n",
        "new_layers.append(tf.keras.layers.Flatten())\n",
        "\n",
        "## Menyisipkan parameter node dan fungsi aktivasinya\n",
        "for i in range(len(nodes_per_new_layer)):\n",
        "  node = nodes_per_new_layer[i]\n",
        "  activation = activation_function_per_new_layer[i]\n",
        "  new_layers.append(keras.layers.Dense(node, activation=activation))\n",
        "\n",
        "## Mendefinisikan model\n",
        "new_model = Sequential(new_layers)\n",
        "\n",
        "## Membangun model\n",
        "new_model.build(input_shape=x_train.shape)\n",
        "new_model.output_shape"
      ],
      "execution_count": null,
      "outputs": [
        {
          "output_type": "execute_result",
          "data": {
            "text/plain": [
              "(50000, 10)"
            ]
          },
          "metadata": {
            "tags": []
          },
          "execution_count": 77
        }
      ]
    },
    {
      "cell_type": "markdown",
      "metadata": {
        "id": "5UNpNJYnEERv"
      },
      "source": [
        "##### Melakukan kompilasi ke dalam model"
      ]
    },
    {
      "cell_type": "code",
      "metadata": {
        "id": "C9Agzyxj19xN"
      },
      "source": [
        "new_model.compile(\n",
        "    optimizer=tf.keras.optimizers.Adam(0.001),\n",
        "    loss='categorical_crossentropy',\n",
        "    metrics=[\n",
        "      'accuracy',\n",
        "      recall,\n",
        "      specificity,\n",
        "      f1_score\n",
        "    ])"
      ],
      "execution_count": null,
      "outputs": []
    },
    {
      "cell_type": "markdown",
      "metadata": {
        "id": "GVihcJe8EJwM"
      },
      "source": [
        "##### Melakukan _fitting_"
      ]
    },
    {
      "cell_type": "code",
      "metadata": {
        "id": "dfFaOzlp1_UB",
        "colab": {
          "base_uri": "https://localhost:8080/",
          "height": 377
        },
        "outputId": "df00e73e-cd29-4ab4-9f30-bf1db455e216"
      },
      "source": [
        "new_model_hist = new_model.fit(x_train, y_train, epochs=10, batch_size=5000, validation_data=(x_test, y_test), use_multiprocessing=True)"
      ],
      "execution_count": null,
      "outputs": [
        {
          "output_type": "stream",
          "text": [
            "Epoch 1/10\n",
            "10/10 [==============================] - 25s 2s/step - loss: 650.1035 - accuracy: 0.1079 - recall: 0.1079 - specificity: 0.9009 - f1_score: 0.1079 - val_loss: 84.4537 - val_accuracy: 0.1000 - val_recall: 0.1000 - val_specificity: 0.9000 - val_f1_score: 0.1000\n",
            "Epoch 2/10\n",
            "10/10 [==============================] - 25s 2s/step - loss: 46.4477 - accuracy: 0.1037 - recall: 0.1032 - specificity: 0.9007 - f1_score: 0.1034 - val_loss: 18.1942 - val_accuracy: 0.1002 - val_recall: 0.1000 - val_specificity: 0.9002 - val_f1_score: 0.1001\n",
            "Epoch 3/10\n",
            "10/10 [==============================] - 25s 2s/step - loss: 8.3422 - accuracy: 0.1106 - recall: 0.0953 - specificity: 0.9175 - f1_score: 0.1030 - val_loss: 5.9730 - val_accuracy: 0.1267 - val_recall: 0.0902 - val_specificity: 0.9442 - val_f1_score: 0.1133\n",
            "Epoch 4/10\n",
            "10/10 [==============================] - 25s 2s/step - loss: 4.3884 - accuracy: 0.1356 - recall: 0.0680 - specificity: 0.9584 - f1_score: 0.0938 - val_loss: 2.9894 - val_accuracy: 0.1516 - val_recall: 0.0728 - val_specificity: 0.9609 - val_f1_score: 0.1022\n",
            "Epoch 5/10\n",
            "10/10 [==============================] - 25s 2s/step - loss: 2.5491 - accuracy: 0.1779 - recall: 0.0531 - specificity: 0.9814 - f1_score: 0.0855 - val_loss: 2.2128 - val_accuracy: 0.2202 - val_recall: 0.0465 - val_specificity: 0.9933 - val_f1_score: 0.0840\n",
            "Epoch 6/10\n",
            "10/10 [==============================] - 25s 2s/step - loss: 2.1538 - accuracy: 0.2364 - recall: 0.0364 - specificity: 0.9951 - f1_score: 0.0673 - val_loss: 2.0659 - val_accuracy: 0.2597 - val_recall: 0.0323 - val_specificity: 0.9953 - val_f1_score: 0.0601\n",
            "Epoch 7/10\n",
            "10/10 [==============================] - 25s 2s/step - loss: 2.0248 - accuracy: 0.2675 - recall: 0.0341 - specificity: 0.9960 - f1_score: 0.0637 - val_loss: 1.9835 - val_accuracy: 0.2860 - val_recall: 0.0346 - val_specificity: 0.9970 - val_f1_score: 0.0652\n",
            "Epoch 8/10\n",
            "10/10 [==============================] - 25s 3s/step - loss: 1.9512 - accuracy: 0.2997 - recall: 0.0423 - specificity: 0.9961 - f1_score: 0.0784 - val_loss: 1.9212 - val_accuracy: 0.3105 - val_recall: 0.0439 - val_specificity: 0.9966 - val_f1_score: 0.0817\n",
            "Epoch 9/10\n",
            "10/10 [==============================] - 25s 2s/step - loss: 1.9036 - accuracy: 0.3174 - recall: 0.0525 - specificity: 0.9955 - f1_score: 0.0959 - val_loss: 1.8915 - val_accuracy: 0.3254 - val_recall: 0.0611 - val_specificity: 0.9950 - val_f1_score: 0.1105\n",
            "Epoch 10/10\n",
            "10/10 [==============================] - 25s 2s/step - loss: 1.8701 - accuracy: 0.3321 - recall: 0.0663 - specificity: 0.9947 - f1_score: 0.1190 - val_loss: 1.8589 - val_accuracy: 0.3368 - val_recall: 0.0675 - val_specificity: 0.9946 - val_f1_score: 0.1209\n"
          ],
          "name": "stdout"
        }
      ]
    },
    {
      "cell_type": "markdown",
      "metadata": {
        "id": "43G2qJwGENvr"
      },
      "source": [
        "##### Melakukan Prediksi ke _Data Test_ dan Menampilkan _Metric_-nya"
      ]
    },
    {
      "cell_type": "code",
      "metadata": {
        "id": "zDh9K53p2GKe",
        "colab": {
          "base_uri": "https://localhost:8080/",
          "height": 173
        },
        "outputId": "191f498e-1dd7-47af-e212-28fd9a0fe5e3"
      },
      "source": [
        "compare_train_and_test(new_model, x_train, y_train, x_test, y_test).transpose()"
      ],
      "execution_count": null,
      "outputs": [
        {
          "output_type": "execute_result",
          "data": {
            "text/html": [
              "<div>\n",
              "<style scoped>\n",
              "    .dataframe tbody tr th:only-of-type {\n",
              "        vertical-align: middle;\n",
              "    }\n",
              "\n",
              "    .dataframe tbody tr th {\n",
              "        vertical-align: top;\n",
              "    }\n",
              "\n",
              "    .dataframe thead th {\n",
              "        text-align: right;\n",
              "    }\n",
              "</style>\n",
              "<table border=\"1\" class=\"dataframe\">\n",
              "  <thead>\n",
              "    <tr style=\"text-align: right;\">\n",
              "      <th></th>\n",
              "      <th>Data Train</th>\n",
              "      <th>Data Test</th>\n",
              "    </tr>\n",
              "  </thead>\n",
              "  <tbody>\n",
              "    <tr>\n",
              "      <th>Accuracy</th>\n",
              "      <td>0.340520</td>\n",
              "      <td>0.336800</td>\n",
              "    </tr>\n",
              "    <tr>\n",
              "      <th>Sensitivity</th>\n",
              "      <td>0.069078</td>\n",
              "      <td>0.067392</td>\n",
              "    </tr>\n",
              "    <tr>\n",
              "      <th>Specificity</th>\n",
              "      <td>0.994668</td>\n",
              "      <td>0.994574</td>\n",
              "    </tr>\n",
              "    <tr>\n",
              "      <th>F1 Score</th>\n",
              "      <td>0.120937</td>\n",
              "      <td>0.118002</td>\n",
              "    </tr>\n",
              "  </tbody>\n",
              "</table>\n",
              "</div>"
            ],
            "text/plain": [
              "             Data Train   Data Test \n",
              "Accuracy        0.340520    0.336800\n",
              "Sensitivity     0.069078    0.067392\n",
              "Specificity     0.994668    0.994574\n",
              "F1 Score        0.120937    0.118002"
            ]
          },
          "metadata": {
            "tags": []
          },
          "execution_count": 87
        }
      ]
    },
    {
      "cell_type": "markdown",
      "metadata": {
        "id": "buFDyTlQ9xzU"
      },
      "source": [
        "#### _Hyperparameter Tuning_"
      ]
    },
    {
      "cell_type": "markdown",
      "metadata": {
        "id": "_ON7Vk9cXF7F"
      },
      "source": [
        "- Untuk eksperimen _hyperparameter tuning_ pada sesi laboratorium kali ini, saya akan membagi eksperimen menjadi:\n",
        "    1. Meningkatkan epoch dari $10$ menjadi $30$.\n",
        "    2. Menaikkan $\\text{learning rate}$ dari $0.001$ menjadi $0.005$.\n",
        "    3. Menurunkan $\\text{learning rate}$ dari $0.001$ menjadi $0.0001$.\n",
        "    4. Meningkatkan epoch dari $10$ menjadi $30$ dan menaikkan $\\text{learning rate}$ dari $0.001$ menjadi $0.005$.\n",
        "    5. Meningkatkan epoch dari $10$ menjadi $30$ dan menurunkan $\\text{learning rate}$ dari $0.001$ menjadi $0.0001$."
      ]
    },
    {
      "cell_type": "markdown",
      "metadata": {
        "id": "3gGhGxXOE1uU"
      },
      "source": [
        "- Membangun Model _Fully Connected Neural Network_ sebagai _dedicated model_ untuk eksperimen _Hyperparameter Tuning_"
      ]
    },
    {
      "cell_type": "code",
      "metadata": {
        "id": "Q5gGHuh58Fka"
      },
      "source": [
        "## Melakukan inisialisasi node per layer\n",
        "nodes_per_layer_for_hyperparameter = [1000, 1000, 10]\n",
        "activation_function_per_layer_for_hyperparameter = [tf.nn.relu, tf.nn.relu, tf.nn.softmax]\n",
        "\n",
        "## Inisialisasi Layer Model Parameter\n",
        "layers_for_hyperparameter = []\n",
        "layers_for_hyperparameter.append(tf.keras.layers.Flatten())\n",
        "\n",
        "## Menyisipkan parameter node dan fungsi aktivasinya\n",
        "for i in range(len(nodes_per_layer_for_hyperparameter)):\n",
        "  node = nodes_per_layer_for_hyperparameter[i]\n",
        "  activation = activation_function_per_layer_for_hyperparameter[i]\n",
        "  layers_for_hyperparameter.append(keras.layers.Dense(node, activation=activation))\n",
        "\n",
        "## Mendefinisikan model\n",
        "model_for_hyperparameter = [\n",
        "  Sequential(layers_for_hyperparameter)\n",
        "  for _ in range(5) # 5 Mini Scenario\n",
        "]\n",
        "\n",
        "## Membangun model\n",
        "for i in range(5): # 5 Mini Scenario\n",
        "  model_for_hyperparameter[i].build(input_shape=x_train.shape)"
      ],
      "execution_count": null,
      "outputs": []
    },
    {
      "cell_type": "markdown",
      "metadata": {
        "id": "aOOLwfkeFlna"
      },
      "source": [
        "- Melakukan kompilasi ke dalam model"
      ]
    },
    {
      "cell_type": "code",
      "metadata": {
        "id": "p3HQZU6j7xBO"
      },
      "source": [
        "parameter_learning_setiap_skenario = [0.001, 0.005, 0.0001, 0.005, 0.0001]\n",
        "for i in range(5):\n",
        "  learning_rate = parameter_learning_setiap_skenario[i]\n",
        "  model_for_hyperparameter[i].compile(\n",
        "    optimizer=tf.keras.optimizers.Adam(learning_rate),\n",
        "    loss='categorical_crossentropy',\n",
        "    metrics=[\n",
        "      'accuracy',\n",
        "      recall,\n",
        "      specificity,\n",
        "      f1_score\n",
        "    ]      \n",
        "  )\n",
        "\n",
        "model_for_hyperparameter_hist = np.zeros(5, dtype=object)"
      ],
      "execution_count": null,
      "outputs": []
    },
    {
      "cell_type": "markdown",
      "metadata": {
        "id": "L8hRX9QsFy6n"
      },
      "source": [
        "- Melakukan _fitting_"
      ]
    },
    {
      "cell_type": "code",
      "metadata": {
        "id": "tPRryYJcASbB",
        "colab": {
          "base_uri": "https://localhost:8080/",
          "height": 1000
        },
        "outputId": "12242e41-5be3-4553-c5f3-427b3a236228"
      },
      "source": [
        "epochs = [30, 10, 10, 30, 30]\n",
        "for i in range(5):\n",
        "  model_for_hyperparameter_hist[i] = model_for_hyperparameter[i].fit(x_train, y_train, epochs=epochs[i], batch_size=5000, validation_data=(x_test, y_test), use_multiprocessing=True)"
      ],
      "execution_count": null,
      "outputs": [
        {
          "output_type": "stream",
          "text": [
            "Epoch 1/30\n",
            "10/10 [==============================] - 15s 2s/step - loss: 122907.3516 - accuracy: 0.0993 - recall: 0.0993 - specificity: 0.8999 - f1_score: 0.0993 - val_loss: 740560.5625 - val_accuracy: 0.1000 - val_recall: 0.1000 - val_specificity: 0.9000 - val_f1_score: 0.1000\n",
            "Epoch 2/30\n",
            "10/10 [==============================] - 15s 1s/step - loss: 92653611489689600.0000 - accuracy: 0.0996 - recall: 0.0996 - specificity: 0.9000 - f1_score: 0.0996 - val_loss: 81669894123852660736.0000 - val_accuracy: 0.1000 - val_recall: 0.1000 - val_specificity: 0.9000 - val_f1_score: 0.1000\n",
            "Epoch 3/30\n",
            "10/10 [==============================] - 15s 1s/step - loss: 8314836782730444800.0000 - accuracy: 0.0994 - recall: 0.0994 - specificity: 0.8999 - f1_score: 0.0994 - val_loss: 9464814.0000 - val_accuracy: 0.1000 - val_recall: 0.1000 - val_specificity: 0.9000 - val_f1_score: 0.1000\n",
            "Epoch 4/30\n",
            "10/10 [==============================] - 15s 1s/step - loss: 955383.8750 - accuracy: 0.0996 - recall: 0.0996 - specificity: 0.9000 - f1_score: 0.0996 - val_loss: 3802.9648 - val_accuracy: 0.1000 - val_recall: 0.1000 - val_specificity: 0.9000 - val_f1_score: 0.1000\n",
            "Epoch 5/30\n",
            "10/10 [==============================] - 15s 2s/step - loss: 2993.6848 - accuracy: 0.1000 - recall: 0.1000 - specificity: 0.9000 - f1_score: 0.1000 - val_loss: 1474.2155 - val_accuracy: 0.1000 - val_recall: 0.1000 - val_specificity: 0.9000 - val_f1_score: 0.1000\n",
            "Epoch 6/30\n",
            "10/10 [==============================] - 15s 1s/step - loss: 364.5294 - accuracy: 0.0989 - recall: 0.0398 - specificity: 0.9600 - f1_score: 0.0398 - val_loss: 2.3046 - val_accuracy: 0.1000 - val_recall: 0.0000e+00 - val_specificity: 1.0000 - val_f1_score: 0.0000e+00\n",
            "Epoch 7/30\n",
            "10/10 [==============================] - 15s 1s/step - loss: 2.3048 - accuracy: 0.1000 - recall: 2.0000e-05 - specificity: 1.0000 - f1_score: 3.9992e-05 - val_loss: 2.3050 - val_accuracy: 0.1000 - val_recall: 0.0000e+00 - val_specificity: 1.0000 - val_f1_score: 0.0000e+00\n",
            "Epoch 8/30\n",
            "10/10 [==============================] - 15s 2s/step - loss: 2.3051 - accuracy: 0.1000 - recall: 2.0000e-05 - specificity: 1.0000 - f1_score: 3.9992e-05 - val_loss: 2.3052 - val_accuracy: 0.1000 - val_recall: 0.0000e+00 - val_specificity: 1.0000 - val_f1_score: 0.0000e+00\n",
            "Epoch 9/30\n",
            "10/10 [==============================] - 15s 1s/step - loss: 2.3052 - accuracy: 0.1000 - recall: 2.0000e-05 - specificity: 1.0000 - f1_score: 3.9992e-05 - val_loss: 2.3052 - val_accuracy: 0.1000 - val_recall: 0.0000e+00 - val_specificity: 1.0000 - val_f1_score: 0.0000e+00\n",
            "Epoch 10/30\n",
            "10/10 [==============================] - 15s 1s/step - loss: 2.3052 - accuracy: 0.1000 - recall: 2.0000e-05 - specificity: 1.0000 - f1_score: 3.9992e-05 - val_loss: 2.3052 - val_accuracy: 0.1000 - val_recall: 0.0000e+00 - val_specificity: 1.0000 - val_f1_score: 0.0000e+00\n",
            "Epoch 11/30\n",
            "10/10 [==============================] - 15s 1s/step - loss: 2.3051 - accuracy: 0.1000 - recall: 2.0000e-05 - specificity: 1.0000 - f1_score: 3.9992e-05 - val_loss: 2.3052 - val_accuracy: 0.1000 - val_recall: 0.0000e+00 - val_specificity: 1.0000 - val_f1_score: 0.0000e+00\n",
            "Epoch 12/30\n",
            "10/10 [==============================] - 15s 2s/step - loss: 2.3051 - accuracy: 0.1000 - recall: 2.0000e-05 - specificity: 1.0000 - f1_score: 3.9992e-05 - val_loss: 2.3051 - val_accuracy: 0.1000 - val_recall: 0.0000e+00 - val_specificity: 1.0000 - val_f1_score: 0.0000e+00\n",
            "Epoch 13/30\n",
            "10/10 [==============================] - 15s 2s/step - loss: 2.3050 - accuracy: 0.1000 - recall: 2.0000e-05 - specificity: 1.0000 - f1_score: 3.9992e-05 - val_loss: 2.3051 - val_accuracy: 0.1000 - val_recall: 0.0000e+00 - val_specificity: 1.0000 - val_f1_score: 0.0000e+00\n",
            "Epoch 14/30\n",
            "10/10 [==============================] - 15s 2s/step - loss: 2.3050 - accuracy: 0.1000 - recall: 2.0000e-05 - specificity: 1.0000 - f1_score: 3.9992e-05 - val_loss: 2.3050 - val_accuracy: 0.1000 - val_recall: 0.0000e+00 - val_specificity: 1.0000 - val_f1_score: 0.0000e+00\n",
            "Epoch 15/30\n",
            "10/10 [==============================] - 15s 2s/step - loss: 2.3050 - accuracy: 0.1000 - recall: 2.0000e-05 - specificity: 1.0000 - f1_score: 3.9992e-05 - val_loss: 2.3050 - val_accuracy: 0.1000 - val_recall: 0.0000e+00 - val_specificity: 1.0000 - val_f1_score: 0.0000e+00\n",
            "Epoch 16/30\n",
            "10/10 [==============================] - 15s 2s/step - loss: 2.3049 - accuracy: 0.1000 - recall: 2.0000e-05 - specificity: 1.0000 - f1_score: 3.9992e-05 - val_loss: 2.3049 - val_accuracy: 0.1000 - val_recall: 0.0000e+00 - val_specificity: 1.0000 - val_f1_score: 0.0000e+00\n",
            "Epoch 17/30\n",
            "10/10 [==============================] - 15s 1s/step - loss: 2.3049 - accuracy: 0.1000 - recall: 2.0000e-05 - specificity: 1.0000 - f1_score: 3.9992e-05 - val_loss: 2.3049 - val_accuracy: 0.1000 - val_recall: 0.0000e+00 - val_specificity: 1.0000 - val_f1_score: 0.0000e+00\n",
            "Epoch 18/30\n",
            "10/10 [==============================] - 15s 1s/step - loss: 2.3048 - accuracy: 0.1000 - recall: 2.0000e-05 - specificity: 1.0000 - f1_score: 3.9992e-05 - val_loss: 2.3049 - val_accuracy: 0.1000 - val_recall: 0.0000e+00 - val_specificity: 1.0000 - val_f1_score: 0.0000e+00\n",
            "Epoch 19/30\n",
            "10/10 [==============================] - 15s 2s/step - loss: 2.3048 - accuracy: 0.1000 - recall: 2.0000e-05 - specificity: 1.0000 - f1_score: 3.9992e-05 - val_loss: 2.3048 - val_accuracy: 0.1000 - val_recall: 0.0000e+00 - val_specificity: 1.0000 - val_f1_score: 0.0000e+00\n",
            "Epoch 20/30\n",
            "10/10 [==============================] - 15s 1s/step - loss: 2.3047 - accuracy: 0.1000 - recall: 2.0000e-05 - specificity: 1.0000 - f1_score: 3.9992e-05 - val_loss: 2.3048 - val_accuracy: 0.1000 - val_recall: 0.0000e+00 - val_specificity: 1.0000 - val_f1_score: 0.0000e+00\n",
            "Epoch 21/30\n",
            "10/10 [==============================] - 15s 2s/step - loss: 2.3047 - accuracy: 0.1000 - recall: 2.0000e-05 - specificity: 1.0000 - f1_score: 3.9992e-05 - val_loss: 2.3047 - val_accuracy: 0.1000 - val_recall: 0.0000e+00 - val_specificity: 1.0000 - val_f1_score: 0.0000e+00\n",
            "Epoch 22/30\n",
            "10/10 [==============================] - 15s 1s/step - loss: 2.3047 - accuracy: 0.1000 - recall: 2.0000e-05 - specificity: 1.0000 - f1_score: 3.9992e-05 - val_loss: 2.3047 - val_accuracy: 0.1000 - val_recall: 0.0000e+00 - val_specificity: 1.0000 - val_f1_score: 0.0000e+00\n",
            "Epoch 23/30\n",
            "10/10 [==============================] - 15s 2s/step - loss: 2.3046 - accuracy: 0.1000 - recall: 2.0000e-05 - specificity: 1.0000 - f1_score: 3.9992e-05 - val_loss: 2.3047 - val_accuracy: 0.1000 - val_recall: 0.0000e+00 - val_specificity: 1.0000 - val_f1_score: 0.0000e+00\n",
            "Epoch 24/30\n",
            "10/10 [==============================] - 15s 2s/step - loss: 2.3046 - accuracy: 0.1000 - recall: 2.0000e-05 - specificity: 1.0000 - f1_score: 3.9992e-05 - val_loss: 2.3046 - val_accuracy: 0.1000 - val_recall: 0.0000e+00 - val_specificity: 1.0000 - val_f1_score: 0.0000e+00\n",
            "Epoch 25/30\n",
            "10/10 [==============================] - 15s 1s/step - loss: 2.3046 - accuracy: 0.1000 - recall: 2.0000e-05 - specificity: 1.0000 - f1_score: 3.9992e-05 - val_loss: 2.3046 - val_accuracy: 0.1000 - val_recall: 0.0000e+00 - val_specificity: 1.0000 - val_f1_score: 0.0000e+00\n",
            "Epoch 26/30\n",
            "10/10 [==============================] - 15s 2s/step - loss: 2.3045 - accuracy: 0.1000 - recall: 2.0000e-05 - specificity: 1.0000 - f1_score: 3.9992e-05 - val_loss: 2.3045 - val_accuracy: 0.1000 - val_recall: 0.0000e+00 - val_specificity: 1.0000 - val_f1_score: 0.0000e+00\n",
            "Epoch 27/30\n",
            "10/10 [==============================] - 15s 1s/step - loss: 2.3045 - accuracy: 0.1000 - recall: 2.0000e-05 - specificity: 1.0000 - f1_score: 3.9992e-05 - val_loss: 2.3045 - val_accuracy: 0.1000 - val_recall: 0.0000e+00 - val_specificity: 1.0000 - val_f1_score: 0.0000e+00\n",
            "Epoch 28/30\n",
            "10/10 [==============================] - 15s 1s/step - loss: 2.3044 - accuracy: 0.1000 - recall: 2.0000e-05 - specificity: 1.0000 - f1_score: 3.9992e-05 - val_loss: 2.3045 - val_accuracy: 0.1000 - val_recall: 0.0000e+00 - val_specificity: 1.0000 - val_f1_score: 0.0000e+00\n",
            "Epoch 29/30\n",
            "10/10 [==============================] - 15s 1s/step - loss: 2.3044 - accuracy: 0.1000 - recall: 2.0000e-05 - specificity: 1.0000 - f1_score: 3.9992e-05 - val_loss: 2.3044 - val_accuracy: 0.1000 - val_recall: 0.0000e+00 - val_specificity: 1.0000 - val_f1_score: 0.0000e+00\n",
            "Epoch 30/30\n",
            "10/10 [==============================] - 15s 2s/step - loss: 2.3044 - accuracy: 0.1000 - recall: 2.0000e-05 - specificity: 1.0000 - f1_score: 3.9992e-05 - val_loss: 2.3044 - val_accuracy: 0.1000 - val_recall: 0.0000e+00 - val_specificity: 1.0000 - val_f1_score: 0.0000e+00\n",
            "Epoch 1/10\n",
            "10/10 [==============================] - 15s 2s/step - loss: 2.3043 - accuracy: 0.1000 - recall: 2.0000e-05 - specificity: 1.0000 - f1_score: 3.9992e-05 - val_loss: 2.3043 - val_accuracy: 0.1000 - val_recall: 0.0000e+00 - val_specificity: 1.0000 - val_f1_score: 0.0000e+00\n",
            "Epoch 2/10\n",
            "10/10 [==============================] - 15s 1s/step - loss: 2.3042 - accuracy: 0.1000 - recall: 2.0000e-05 - specificity: 1.0000 - f1_score: 3.9992e-05 - val_loss: 2.3042 - val_accuracy: 0.1000 - val_recall: 0.0000e+00 - val_specificity: 1.0000 - val_f1_score: 0.0000e+00\n",
            "Epoch 3/10\n",
            "10/10 [==============================] - 15s 1s/step - loss: 2.3041 - accuracy: 0.1000 - recall: 2.0000e-05 - specificity: 1.0000 - f1_score: 3.9992e-05 - val_loss: 2.3041 - val_accuracy: 0.1000 - val_recall: 0.0000e+00 - val_specificity: 1.0000 - val_f1_score: 0.0000e+00\n",
            "Epoch 4/10\n",
            "10/10 [==============================] - 15s 1s/step - loss: 2.3040 - accuracy: 0.1000 - recall: 2.0000e-05 - specificity: 1.0000 - f1_score: 3.9992e-05 - val_loss: 2.3039 - val_accuracy: 0.1000 - val_recall: 0.0000e+00 - val_specificity: 1.0000 - val_f1_score: 0.0000e+00\n",
            "Epoch 5/10\n",
            "10/10 [==============================] - 15s 2s/step - loss: 2.3038 - accuracy: 0.1000 - recall: 2.0000e-05 - specificity: 1.0000 - f1_score: 3.9992e-05 - val_loss: 2.3038 - val_accuracy: 0.1000 - val_recall: 0.0000e+00 - val_specificity: 1.0000 - val_f1_score: 0.0000e+00\n",
            "Epoch 6/10\n",
            "10/10 [==============================] - 15s 1s/step - loss: 2.3037 - accuracy: 0.1000 - recall: 2.0000e-05 - specificity: 1.0000 - f1_score: 3.9992e-05 - val_loss: 2.3037 - val_accuracy: 0.1000 - val_recall: 0.0000e+00 - val_specificity: 1.0000 - val_f1_score: 0.0000e+00\n",
            "Epoch 7/10\n",
            "10/10 [==============================] - 15s 1s/step - loss: 2.3036 - accuracy: 0.1000 - recall: 2.0000e-05 - specificity: 1.0000 - f1_score: 3.9992e-05 - val_loss: 2.3036 - val_accuracy: 0.1000 - val_recall: 0.0000e+00 - val_specificity: 1.0000 - val_f1_score: 0.0000e+00\n",
            "Epoch 8/10\n",
            "10/10 [==============================] - 15s 1s/step - loss: 2.3035 - accuracy: 0.1000 - recall: 2.0000e-05 - specificity: 1.0000 - f1_score: 3.9992e-05 - val_loss: 2.3035 - val_accuracy: 0.1000 - val_recall: 0.0000e+00 - val_specificity: 1.0000 - val_f1_score: 0.0000e+00\n",
            "Epoch 9/10\n",
            "10/10 [==============================] - 15s 1s/step - loss: 2.3034 - accuracy: 0.1000 - recall: 2.0000e-05 - specificity: 1.0000 - f1_score: 3.9992e-05 - val_loss: 2.3034 - val_accuracy: 0.1000 - val_recall: 0.0000e+00 - val_specificity: 1.0000 - val_f1_score: 0.0000e+00\n",
            "Epoch 10/10\n",
            "10/10 [==============================] - 15s 1s/step - loss: 2.3033 - accuracy: 0.1000 - recall: 2.0000e-05 - specificity: 1.0000 - f1_score: 3.9992e-05 - val_loss: 2.3033 - val_accuracy: 0.1000 - val_recall: 0.0000e+00 - val_specificity: 1.0000 - val_f1_score: 0.0000e+00\n",
            "Epoch 1/10\n",
            "10/10 [==============================] - 15s 2s/step - loss: 2.3033 - accuracy: 0.1000 - recall: 2.0000e-05 - specificity: 1.0000 - f1_score: 3.9992e-05 - val_loss: 2.3033 - val_accuracy: 0.1000 - val_recall: 0.0000e+00 - val_specificity: 1.0000 - val_f1_score: 0.0000e+00\n",
            "Epoch 2/10\n",
            "10/10 [==============================] - 15s 2s/step - loss: 2.3033 - accuracy: 0.1000 - recall: 2.0000e-05 - specificity: 1.0000 - f1_score: 3.9992e-05 - val_loss: 2.3033 - val_accuracy: 0.1000 - val_recall: 0.0000e+00 - val_specificity: 1.0000 - val_f1_score: 0.0000e+00\n",
            "Epoch 3/10\n",
            "10/10 [==============================] - 15s 1s/step - loss: 2.3033 - accuracy: 0.1000 - recall: 2.0000e-05 - specificity: 1.0000 - f1_score: 3.9992e-05 - val_loss: 2.3033 - val_accuracy: 0.1000 - val_recall: 0.0000e+00 - val_specificity: 1.0000 - val_f1_score: 0.0000e+00\n",
            "Epoch 4/10\n",
            "10/10 [==============================] - 15s 1s/step - loss: 2.3033 - accuracy: 0.1000 - recall: 2.0000e-05 - specificity: 1.0000 - f1_score: 3.9992e-05 - val_loss: 2.3033 - val_accuracy: 0.1000 - val_recall: 0.0000e+00 - val_specificity: 1.0000 - val_f1_score: 0.0000e+00\n",
            "Epoch 5/10\n",
            "10/10 [==============================] - 15s 1s/step - loss: 2.3033 - accuracy: 0.1000 - recall: 2.0000e-05 - specificity: 1.0000 - f1_score: 3.9992e-05 - val_loss: 2.3033 - val_accuracy: 0.1000 - val_recall: 0.0000e+00 - val_specificity: 1.0000 - val_f1_score: 0.0000e+00\n",
            "Epoch 6/10\n",
            "10/10 [==============================] - 15s 1s/step - loss: 2.3033 - accuracy: 0.1000 - recall: 2.0000e-05 - specificity: 1.0000 - f1_score: 3.9992e-05 - val_loss: 2.3033 - val_accuracy: 0.1000 - val_recall: 0.0000e+00 - val_specificity: 1.0000 - val_f1_score: 0.0000e+00\n",
            "Epoch 7/10\n",
            "10/10 [==============================] - 15s 1s/step - loss: 2.3033 - accuracy: 0.1000 - recall: 2.0000e-05 - specificity: 1.0000 - f1_score: 3.9992e-05 - val_loss: 2.3033 - val_accuracy: 0.1000 - val_recall: 0.0000e+00 - val_specificity: 1.0000 - val_f1_score: 0.0000e+00\n",
            "Epoch 8/10\n",
            "10/10 [==============================] - 15s 1s/step - loss: 2.3033 - accuracy: 0.1000 - recall: 2.0000e-05 - specificity: 1.0000 - f1_score: 3.9992e-05 - val_loss: 2.3033 - val_accuracy: 0.1000 - val_recall: 0.0000e+00 - val_specificity: 1.0000 - val_f1_score: 0.0000e+00\n",
            "Epoch 9/10\n",
            "10/10 [==============================] - 15s 1s/step - loss: 2.3033 - accuracy: 0.1000 - recall: 2.0000e-05 - specificity: 1.0000 - f1_score: 3.9992e-05 - val_loss: 2.3033 - val_accuracy: 0.1000 - val_recall: 0.0000e+00 - val_specificity: 1.0000 - val_f1_score: 0.0000e+00\n",
            "Epoch 10/10\n",
            "10/10 [==============================] - 15s 2s/step - loss: 2.3033 - accuracy: 0.1000 - recall: 2.0000e-05 - specificity: 1.0000 - f1_score: 3.9992e-05 - val_loss: 2.3033 - val_accuracy: 0.1000 - val_recall: 0.0000e+00 - val_specificity: 1.0000 - val_f1_score: 0.0000e+00\n",
            "Epoch 1/30\n",
            "10/10 [==============================] - 15s 2s/step - loss: 2.3033 - accuracy: 0.1000 - recall: 2.0000e-05 - specificity: 1.0000 - f1_score: 3.9992e-05 - val_loss: 2.3033 - val_accuracy: 0.1000 - val_recall: 0.0000e+00 - val_specificity: 1.0000 - val_f1_score: 0.0000e+00\n",
            "Epoch 2/30\n",
            "10/10 [==============================] - 15s 2s/step - loss: 2.3032 - accuracy: 0.1000 - recall: 2.0000e-05 - specificity: 1.0000 - f1_score: 3.9992e-05 - val_loss: 2.3032 - val_accuracy: 0.1000 - val_recall: 0.0000e+00 - val_specificity: 1.0000 - val_f1_score: 0.0000e+00\n",
            "Epoch 3/30\n",
            "10/10 [==============================] - 15s 2s/step - loss: 2.3032 - accuracy: 0.1000 - recall: 2.0000e-05 - specificity: 1.0000 - f1_score: 3.9992e-05 - val_loss: 2.3032 - val_accuracy: 0.1000 - val_recall: 0.0000e+00 - val_specificity: 1.0000 - val_f1_score: 0.0000e+00\n",
            "Epoch 4/30\n",
            "10/10 [==============================] - 15s 1s/step - loss: 2.3031 - accuracy: 0.1000 - recall: 2.0000e-05 - specificity: 1.0000 - f1_score: 3.9992e-05 - val_loss: 2.3031 - val_accuracy: 0.1000 - val_recall: 0.0000e+00 - val_specificity: 1.0000 - val_f1_score: 0.0000e+00\n",
            "Epoch 5/30\n",
            "10/10 [==============================] - 15s 2s/step - loss: 2.3031 - accuracy: 0.1000 - recall: 2.0000e-05 - specificity: 1.0000 - f1_score: 3.9992e-05 - val_loss: 2.3031 - val_accuracy: 0.1000 - val_recall: 0.0000e+00 - val_specificity: 1.0000 - val_f1_score: 0.0000e+00\n",
            "Epoch 6/30\n",
            "10/10 [==============================] - 15s 1s/step - loss: 2.3030 - accuracy: 0.1000 - recall: 2.0000e-05 - specificity: 1.0000 - f1_score: 3.9992e-05 - val_loss: 2.3030 - val_accuracy: 0.1000 - val_recall: 0.0000e+00 - val_specificity: 1.0000 - val_f1_score: 0.0000e+00\n",
            "Epoch 7/30\n",
            "10/10 [==============================] - 15s 1s/step - loss: 2.3030 - accuracy: 0.1000 - recall: 2.0000e-05 - specificity: 1.0000 - f1_score: 3.9992e-05 - val_loss: 2.3030 - val_accuracy: 0.1000 - val_recall: 0.0000e+00 - val_specificity: 1.0000 - val_f1_score: 0.0000e+00\n",
            "Epoch 8/30\n",
            "10/10 [==============================] - 15s 1s/step - loss: 2.3029 - accuracy: 0.1000 - recall: 2.0000e-05 - specificity: 1.0000 - f1_score: 3.9992e-05 - val_loss: 2.3030 - val_accuracy: 0.1000 - val_recall: 0.0000e+00 - val_specificity: 1.0000 - val_f1_score: 0.0000e+00\n",
            "Epoch 9/30\n",
            "10/10 [==============================] - 15s 2s/step - loss: 2.3029 - accuracy: 0.1000 - recall: 2.0000e-05 - specificity: 1.0000 - f1_score: 3.9992e-05 - val_loss: 2.3029 - val_accuracy: 0.1000 - val_recall: 0.0000e+00 - val_specificity: 1.0000 - val_f1_score: 0.0000e+00\n",
            "Epoch 10/30\n",
            "10/10 [==============================] - 15s 2s/step - loss: 2.3029 - accuracy: 0.1000 - recall: 2.0000e-05 - specificity: 1.0000 - f1_score: 3.9992e-05 - val_loss: 2.3029 - val_accuracy: 0.1000 - val_recall: 0.0000e+00 - val_specificity: 1.0000 - val_f1_score: 0.0000e+00\n",
            "Epoch 11/30\n",
            "10/10 [==============================] - 15s 2s/step - loss: 2.3028 - accuracy: 0.1000 - recall: 2.0000e-05 - specificity: 1.0000 - f1_score: 3.9992e-05 - val_loss: 2.3029 - val_accuracy: 0.1000 - val_recall: 0.0000e+00 - val_specificity: 1.0000 - val_f1_score: 0.0000e+00\n",
            "Epoch 12/30\n",
            "10/10 [==============================] - 15s 2s/step - loss: 2.3028 - accuracy: 0.1000 - recall: 2.0000e-05 - specificity: 1.0000 - f1_score: 3.9992e-05 - val_loss: 2.3028 - val_accuracy: 0.1000 - val_recall: 0.0000e+00 - val_specificity: 1.0000 - val_f1_score: 0.0000e+00\n",
            "Epoch 13/30\n",
            "10/10 [==============================] - 15s 2s/step - loss: 2.3028 - accuracy: 0.1000 - recall: 2.0000e-05 - specificity: 1.0000 - f1_score: 3.9992e-05 - val_loss: 2.3028 - val_accuracy: 0.1000 - val_recall: 0.0000e+00 - val_specificity: 1.0000 - val_f1_score: 0.0000e+00\n",
            "Epoch 14/30\n",
            "10/10 [==============================] - 15s 2s/step - loss: 2.3028 - accuracy: 0.1000 - recall: 2.0000e-05 - specificity: 1.0000 - f1_score: 3.9992e-05 - val_loss: 2.3028 - val_accuracy: 0.1000 - val_recall: 0.0000e+00 - val_specificity: 1.0000 - val_f1_score: 0.0000e+00\n",
            "Epoch 15/30\n",
            "10/10 [==============================] - 15s 2s/step - loss: 2.3027 - accuracy: 0.1000 - recall: 2.0000e-05 - specificity: 1.0000 - f1_score: 3.9992e-05 - val_loss: 2.3028 - val_accuracy: 0.1000 - val_recall: 0.0000e+00 - val_specificity: 1.0000 - val_f1_score: 0.0000e+00\n",
            "Epoch 16/30\n",
            "10/10 [==============================] - 15s 2s/step - loss: 2.3027 - accuracy: 0.1000 - recall: 2.0000e-05 - specificity: 1.0000 - f1_score: 3.9992e-05 - val_loss: 2.3027 - val_accuracy: 0.1000 - val_recall: 0.0000e+00 - val_specificity: 1.0000 - val_f1_score: 0.0000e+00\n",
            "Epoch 17/30\n",
            "10/10 [==============================] - 15s 2s/step - loss: 2.3027 - accuracy: 0.1000 - recall: 2.0000e-05 - specificity: 1.0000 - f1_score: 3.9992e-05 - val_loss: 2.3027 - val_accuracy: 0.1000 - val_recall: 0.0000e+00 - val_specificity: 1.0000 - val_f1_score: 0.0000e+00\n",
            "Epoch 18/30\n",
            "10/10 [==============================] - 15s 2s/step - loss: 2.3027 - accuracy: 0.1000 - recall: 2.0000e-05 - specificity: 1.0000 - f1_score: 3.9992e-05 - val_loss: 2.3027 - val_accuracy: 0.1000 - val_recall: 0.0000e+00 - val_specificity: 1.0000 - val_f1_score: 0.0000e+00\n",
            "Epoch 19/30\n",
            "10/10 [==============================] - 15s 2s/step - loss: 2.3027 - accuracy: 0.1000 - recall: 2.0000e-05 - specificity: 1.0000 - f1_score: 3.9992e-05 - val_loss: 2.3027 - val_accuracy: 0.1000 - val_recall: 0.0000e+00 - val_specificity: 1.0000 - val_f1_score: 0.0000e+00\n",
            "Epoch 20/30\n",
            "10/10 [==============================] - 15s 2s/step - loss: 2.3027 - accuracy: 0.1000 - recall: 2.0000e-05 - specificity: 1.0000 - f1_score: 3.9992e-05 - val_loss: 2.3027 - val_accuracy: 0.1000 - val_recall: 0.0000e+00 - val_specificity: 1.0000 - val_f1_score: 0.0000e+00\n",
            "Epoch 21/30\n",
            "10/10 [==============================] - 15s 2s/step - loss: 2.3026 - accuracy: 0.1000 - recall: 2.0000e-05 - specificity: 1.0000 - f1_score: 3.9992e-05 - val_loss: 2.3027 - val_accuracy: 0.1000 - val_recall: 0.0000e+00 - val_specificity: 1.0000 - val_f1_score: 0.0000e+00\n",
            "Epoch 22/30\n",
            "10/10 [==============================] - 15s 2s/step - loss: 2.3026 - accuracy: 0.1000 - recall: 2.0000e-05 - specificity: 1.0000 - f1_score: 3.9992e-05 - val_loss: 2.3027 - val_accuracy: 0.1000 - val_recall: 0.0000e+00 - val_specificity: 1.0000 - val_f1_score: 0.0000e+00\n",
            "Epoch 23/30\n",
            "10/10 [==============================] - 15s 2s/step - loss: 2.3026 - accuracy: 0.1000 - recall: 2.0000e-05 - specificity: 1.0000 - f1_score: 3.9992e-05 - val_loss: 2.3027 - val_accuracy: 0.1000 - val_recall: 0.0000e+00 - val_specificity: 1.0000 - val_f1_score: 0.0000e+00\n",
            "Epoch 24/30\n",
            "10/10 [==============================] - 15s 2s/step - loss: 2.3026 - accuracy: 0.1000 - recall: 2.0000e-05 - specificity: 1.0000 - f1_score: 3.9992e-05 - val_loss: 2.3027 - val_accuracy: 0.1000 - val_recall: 0.0000e+00 - val_specificity: 1.0000 - val_f1_score: 0.0000e+00\n",
            "Epoch 25/30\n",
            "10/10 [==============================] - 15s 2s/step - loss: 2.3026 - accuracy: 0.1000 - recall: 2.0000e-05 - specificity: 1.0000 - f1_score: 3.9992e-05 - val_loss: 2.3027 - val_accuracy: 0.1000 - val_recall: 0.0000e+00 - val_specificity: 1.0000 - val_f1_score: 0.0000e+00\n",
            "Epoch 26/30\n",
            "10/10 [==============================] - 15s 2s/step - loss: 2.3026 - accuracy: 0.1000 - recall: 2.0000e-05 - specificity: 1.0000 - f1_score: 3.9992e-05 - val_loss: 2.3026 - val_accuracy: 0.1000 - val_recall: 0.0000e+00 - val_specificity: 1.0000 - val_f1_score: 0.0000e+00\n",
            "Epoch 27/30\n",
            "10/10 [==============================] - 15s 2s/step - loss: 2.3026 - accuracy: 0.1000 - recall: 2.0000e-05 - specificity: 1.0000 - f1_score: 3.9992e-05 - val_loss: 2.3026 - val_accuracy: 0.1000 - val_recall: 0.0000e+00 - val_specificity: 1.0000 - val_f1_score: 0.0000e+00\n",
            "Epoch 28/30\n",
            "10/10 [==============================] - 15s 2s/step - loss: 2.3026 - accuracy: 0.1000 - recall: 2.0000e-05 - specificity: 1.0000 - f1_score: 3.9992e-05 - val_loss: 2.3026 - val_accuracy: 0.1000 - val_recall: 0.0000e+00 - val_specificity: 1.0000 - val_f1_score: 0.0000e+00\n",
            "Epoch 29/30\n",
            "10/10 [==============================] - 15s 2s/step - loss: 2.3026 - accuracy: 0.1000 - recall: 2.0000e-05 - specificity: 1.0000 - f1_score: 3.9992e-05 - val_loss: 2.3026 - val_accuracy: 0.1000 - val_recall: 0.0000e+00 - val_specificity: 1.0000 - val_f1_score: 0.0000e+00\n",
            "Epoch 30/30\n",
            "10/10 [==============================] - 15s 2s/step - loss: 2.3026 - accuracy: 0.1000 - recall: 2.0000e-05 - specificity: 1.0000 - f1_score: 3.9992e-05 - val_loss: 2.3026 - val_accuracy: 0.1000 - val_recall: 0.0000e+00 - val_specificity: 1.0000 - val_f1_score: 0.0000e+00\n",
            "Epoch 1/30\n",
            "10/10 [==============================] - 16s 2s/step - loss: 2.3026 - accuracy: 0.1000 - recall: 2.0000e-05 - specificity: 1.0000 - f1_score: 3.9992e-05 - val_loss: 2.3026 - val_accuracy: 0.1000 - val_recall: 0.0000e+00 - val_specificity: 1.0000 - val_f1_score: 0.0000e+00\n",
            "Epoch 2/30\n",
            "10/10 [==============================] - 15s 2s/step - loss: 2.3026 - accuracy: 0.1000 - recall: 2.0000e-05 - specificity: 1.0000 - f1_score: 3.9992e-05 - val_loss: 2.3026 - val_accuracy: 0.1000 - val_recall: 0.0000e+00 - val_specificity: 1.0000 - val_f1_score: 0.0000e+00\n",
            "Epoch 3/30\n",
            "10/10 [==============================] - 15s 2s/step - loss: 2.3026 - accuracy: 0.1000 - recall: 2.0000e-05 - specificity: 1.0000 - f1_score: 3.9992e-05 - val_loss: 2.3026 - val_accuracy: 0.1000 - val_recall: 0.0000e+00 - val_specificity: 1.0000 - val_f1_score: 0.0000e+00\n",
            "Epoch 4/30\n",
            "10/10 [==============================] - 15s 2s/step - loss: 2.3026 - accuracy: 0.1000 - recall: 2.0000e-05 - specificity: 1.0000 - f1_score: 3.9992e-05 - val_loss: 2.3026 - val_accuracy: 0.1000 - val_recall: 0.0000e+00 - val_specificity: 1.0000 - val_f1_score: 0.0000e+00\n",
            "Epoch 5/30\n",
            "10/10 [==============================] - 15s 2s/step - loss: 2.3026 - accuracy: 0.1000 - recall: 2.0000e-05 - specificity: 1.0000 - f1_score: 3.9992e-05 - val_loss: 2.3026 - val_accuracy: 0.1000 - val_recall: 0.0000e+00 - val_specificity: 1.0000 - val_f1_score: 0.0000e+00\n",
            "Epoch 6/30\n",
            "10/10 [==============================] - 15s 2s/step - loss: 2.3026 - accuracy: 0.1000 - recall: 2.0000e-05 - specificity: 1.0000 - f1_score: 3.9992e-05 - val_loss: 2.3026 - val_accuracy: 0.1000 - val_recall: 0.0000e+00 - val_specificity: 1.0000 - val_f1_score: 0.0000e+00\n",
            "Epoch 7/30\n",
            "10/10 [==============================] - 15s 2s/step - loss: 2.3026 - accuracy: 0.1000 - recall: 2.0000e-05 - specificity: 1.0000 - f1_score: 3.9992e-05 - val_loss: 2.3026 - val_accuracy: 0.1000 - val_recall: 0.0000e+00 - val_specificity: 1.0000 - val_f1_score: 0.0000e+00\n",
            "Epoch 8/30\n",
            "10/10 [==============================] - 15s 2s/step - loss: 2.3026 - accuracy: 0.1000 - recall: 2.0000e-05 - specificity: 1.0000 - f1_score: 3.9992e-05 - val_loss: 2.3026 - val_accuracy: 0.1000 - val_recall: 0.0000e+00 - val_specificity: 1.0000 - val_f1_score: 0.0000e+00\n",
            "Epoch 9/30\n",
            "10/10 [==============================] - 15s 2s/step - loss: 2.3026 - accuracy: 0.1000 - recall: 2.0000e-05 - specificity: 1.0000 - f1_score: 3.9992e-05 - val_loss: 2.3026 - val_accuracy: 0.1000 - val_recall: 0.0000e+00 - val_specificity: 1.0000 - val_f1_score: 0.0000e+00\n",
            "Epoch 10/30\n",
            "10/10 [==============================] - 15s 2s/step - loss: 2.3026 - accuracy: 0.1000 - recall: 2.0000e-05 - specificity: 1.0000 - f1_score: 3.9992e-05 - val_loss: 2.3026 - val_accuracy: 0.1000 - val_recall: 0.0000e+00 - val_specificity: 1.0000 - val_f1_score: 0.0000e+00\n",
            "Epoch 11/30\n",
            "10/10 [==============================] - 15s 2s/step - loss: 2.3026 - accuracy: 0.1000 - recall: 2.0000e-05 - specificity: 1.0000 - f1_score: 3.9992e-05 - val_loss: 2.3026 - val_accuracy: 0.1000 - val_recall: 0.0000e+00 - val_specificity: 1.0000 - val_f1_score: 0.0000e+00\n",
            "Epoch 12/30\n",
            "10/10 [==============================] - 15s 2s/step - loss: 2.3026 - accuracy: 0.1000 - recall: 2.0000e-05 - specificity: 1.0000 - f1_score: 3.9992e-05 - val_loss: 2.3026 - val_accuracy: 0.1000 - val_recall: 0.0000e+00 - val_specificity: 1.0000 - val_f1_score: 0.0000e+00\n",
            "Epoch 13/30\n",
            "10/10 [==============================] - 15s 2s/step - loss: 2.3026 - accuracy: 0.1000 - recall: 2.0000e-05 - specificity: 1.0000 - f1_score: 3.9992e-05 - val_loss: 2.3026 - val_accuracy: 0.1000 - val_recall: 0.0000e+00 - val_specificity: 1.0000 - val_f1_score: 0.0000e+00\n",
            "Epoch 14/30\n",
            "10/10 [==============================] - 15s 2s/step - loss: 2.3026 - accuracy: 0.1000 - recall: 2.0000e-05 - specificity: 1.0000 - f1_score: 3.9992e-05 - val_loss: 2.3026 - val_accuracy: 0.1000 - val_recall: 0.0000e+00 - val_specificity: 1.0000 - val_f1_score: 0.0000e+00\n",
            "Epoch 15/30\n",
            "10/10 [==============================] - 15s 2s/step - loss: 2.3026 - accuracy: 0.1000 - recall: 2.0000e-05 - specificity: 1.0000 - f1_score: 3.9992e-05 - val_loss: 2.3026 - val_accuracy: 0.1000 - val_recall: 0.0000e+00 - val_specificity: 1.0000 - val_f1_score: 0.0000e+00\n",
            "Epoch 16/30\n",
            "10/10 [==============================] - 15s 2s/step - loss: 2.3026 - accuracy: 0.1000 - recall: 2.0000e-05 - specificity: 1.0000 - f1_score: 3.9992e-05 - val_loss: 2.3026 - val_accuracy: 0.1000 - val_recall: 0.0000e+00 - val_specificity: 1.0000 - val_f1_score: 0.0000e+00\n",
            "Epoch 17/30\n",
            "10/10 [==============================] - 15s 2s/step - loss: 2.3026 - accuracy: 0.1000 - recall: 2.0000e-05 - specificity: 1.0000 - f1_score: 3.9992e-05 - val_loss: 2.3026 - val_accuracy: 0.1000 - val_recall: 0.0000e+00 - val_specificity: 1.0000 - val_f1_score: 0.0000e+00\n",
            "Epoch 18/30\n",
            "10/10 [==============================] - 15s 2s/step - loss: 2.3026 - accuracy: 0.1000 - recall: 2.0000e-05 - specificity: 1.0000 - f1_score: 3.9992e-05 - val_loss: 2.3026 - val_accuracy: 0.1000 - val_recall: 0.0000e+00 - val_specificity: 1.0000 - val_f1_score: 0.0000e+00\n",
            "Epoch 19/30\n",
            "10/10 [==============================] - 15s 2s/step - loss: 2.3026 - accuracy: 0.1000 - recall: 2.0000e-05 - specificity: 1.0000 - f1_score: 3.9992e-05 - val_loss: 2.3026 - val_accuracy: 0.1000 - val_recall: 0.0000e+00 - val_specificity: 1.0000 - val_f1_score: 0.0000e+00\n",
            "Epoch 20/30\n",
            "10/10 [==============================] - 15s 2s/step - loss: 2.3026 - accuracy: 0.1000 - recall: 2.0000e-05 - specificity: 1.0000 - f1_score: 3.9992e-05 - val_loss: 2.3026 - val_accuracy: 0.1000 - val_recall: 0.0000e+00 - val_specificity: 1.0000 - val_f1_score: 0.0000e+00\n",
            "Epoch 21/30\n",
            "10/10 [==============================] - 15s 2s/step - loss: 2.3026 - accuracy: 0.1000 - recall: 2.0000e-05 - specificity: 1.0000 - f1_score: 3.9992e-05 - val_loss: 2.3026 - val_accuracy: 0.1000 - val_recall: 0.0000e+00 - val_specificity: 1.0000 - val_f1_score: 0.0000e+00\n",
            "Epoch 22/30\n",
            "10/10 [==============================] - 15s 2s/step - loss: 2.3026 - accuracy: 0.1000 - recall: 2.0000e-05 - specificity: 1.0000 - f1_score: 3.9992e-05 - val_loss: 2.3026 - val_accuracy: 0.1000 - val_recall: 0.0000e+00 - val_specificity: 1.0000 - val_f1_score: 0.0000e+00\n",
            "Epoch 23/30\n",
            "10/10 [==============================] - 15s 2s/step - loss: 2.3026 - accuracy: 0.1000 - recall: 2.0000e-05 - specificity: 1.0000 - f1_score: 3.9992e-05 - val_loss: 2.3026 - val_accuracy: 0.1000 - val_recall: 0.0000e+00 - val_specificity: 1.0000 - val_f1_score: 0.0000e+00\n",
            "Epoch 24/30\n",
            "10/10 [==============================] - 15s 2s/step - loss: 2.3026 - accuracy: 0.1000 - recall: 2.0000e-05 - specificity: 1.0000 - f1_score: 3.9992e-05 - val_loss: 2.3026 - val_accuracy: 0.1000 - val_recall: 0.0000e+00 - val_specificity: 1.0000 - val_f1_score: 0.0000e+00\n",
            "Epoch 25/30\n",
            "10/10 [==============================] - 15s 2s/step - loss: 2.3026 - accuracy: 0.1000 - recall: 2.0000e-05 - specificity: 1.0000 - f1_score: 3.9992e-05 - val_loss: 2.3026 - val_accuracy: 0.1000 - val_recall: 0.0000e+00 - val_specificity: 1.0000 - val_f1_score: 0.0000e+00\n",
            "Epoch 26/30\n",
            "10/10 [==============================] - 15s 2s/step - loss: 2.3026 - accuracy: 0.1000 - recall: 2.0000e-05 - specificity: 1.0000 - f1_score: 3.9992e-05 - val_loss: 2.3026 - val_accuracy: 0.1000 - val_recall: 0.0000e+00 - val_specificity: 1.0000 - val_f1_score: 0.0000e+00\n",
            "Epoch 27/30\n",
            "10/10 [==============================] - 15s 2s/step - loss: 2.3026 - accuracy: 0.1000 - recall: 2.0000e-05 - specificity: 1.0000 - f1_score: 3.9992e-05 - val_loss: 2.3026 - val_accuracy: 0.1000 - val_recall: 0.0000e+00 - val_specificity: 1.0000 - val_f1_score: 0.0000e+00\n",
            "Epoch 28/30\n",
            "10/10 [==============================] - 15s 2s/step - loss: 2.3026 - accuracy: 0.1000 - recall: 2.0000e-05 - specificity: 1.0000 - f1_score: 3.9992e-05 - val_loss: 2.3026 - val_accuracy: 0.1000 - val_recall: 0.0000e+00 - val_specificity: 1.0000 - val_f1_score: 0.0000e+00\n",
            "Epoch 29/30\n",
            "10/10 [==============================] - 15s 2s/step - loss: 2.3026 - accuracy: 0.1000 - recall: 2.0000e-05 - specificity: 1.0000 - f1_score: 3.9992e-05 - val_loss: 2.3026 - val_accuracy: 0.1000 - val_recall: 0.0000e+00 - val_specificity: 1.0000 - val_f1_score: 0.0000e+00\n",
            "Epoch 30/30\n",
            "10/10 [==============================] - 15s 2s/step - loss: 2.3026 - accuracy: 0.1000 - recall: 2.0000e-05 - specificity: 1.0000 - f1_score: 3.9992e-05 - val_loss: 2.3026 - val_accuracy: 0.1000 - val_recall: 0.0000e+00 - val_specificity: 1.0000 - val_f1_score: 0.0000e+00\n"
          ],
          "name": "stdout"
        }
      ]
    },
    {
      "cell_type": "markdown",
      "metadata": {
        "id": "ouZIDZsqGv3c"
      },
      "source": [
        "- Melakukan Prediksi ke _Data Test_ dan Menampilkan _Metric_-nya"
      ]
    },
    {
      "cell_type": "code",
      "metadata": {
        "id": "FBJWfLYRGxY9",
        "colab": {
          "base_uri": "https://localhost:8080/",
          "height": 190
        },
        "outputId": "92bd7f0b-04a1-4445-865f-8866d819dfab"
      },
      "source": [
        "val = []\n",
        "for i in range(5):\n",
        "  val.append(compare_train_and_test(model_for_hyperparameter[i], x_train, y_train, x_test, y_test, str(i+1)))\n",
        "pd.concat(val).transpose()"
      ],
      "execution_count": null,
      "outputs": [
        {
          "output_type": "execute_result",
          "data": {
            "text/html": [
              "<div>\n",
              "<style scoped>\n",
              "    .dataframe tbody tr th:only-of-type {\n",
              "        vertical-align: middle;\n",
              "    }\n",
              "\n",
              "    .dataframe tbody tr th {\n",
              "        vertical-align: top;\n",
              "    }\n",
              "\n",
              "    .dataframe thead th {\n",
              "        text-align: right;\n",
              "    }\n",
              "</style>\n",
              "<table border=\"1\" class=\"dataframe\">\n",
              "  <thead>\n",
              "    <tr style=\"text-align: right;\">\n",
              "      <th></th>\n",
              "      <th>Data Train 1</th>\n",
              "      <th>Data Test 1</th>\n",
              "      <th>Data Train 2</th>\n",
              "      <th>Data Test 2</th>\n",
              "      <th>Data Train 3</th>\n",
              "      <th>Data Test 3</th>\n",
              "      <th>Data Train 4</th>\n",
              "      <th>Data Test 4</th>\n",
              "      <th>Data Train 5</th>\n",
              "      <th>Data Test 5</th>\n",
              "    </tr>\n",
              "  </thead>\n",
              "  <tbody>\n",
              "    <tr>\n",
              "      <th>Accuracy</th>\n",
              "      <td>0.100020</td>\n",
              "      <td>0.1</td>\n",
              "      <td>0.100020</td>\n",
              "      <td>0.1</td>\n",
              "      <td>0.100020</td>\n",
              "      <td>0.1</td>\n",
              "      <td>0.100020</td>\n",
              "      <td>0.1</td>\n",
              "      <td>0.100020</td>\n",
              "      <td>0.1</td>\n",
              "    </tr>\n",
              "    <tr>\n",
              "      <th>Sensitivity</th>\n",
              "      <td>0.000020</td>\n",
              "      <td>0.0</td>\n",
              "      <td>0.000020</td>\n",
              "      <td>0.0</td>\n",
              "      <td>0.000020</td>\n",
              "      <td>0.0</td>\n",
              "      <td>0.000020</td>\n",
              "      <td>0.0</td>\n",
              "      <td>0.000020</td>\n",
              "      <td>0.0</td>\n",
              "    </tr>\n",
              "    <tr>\n",
              "      <th>Specificity</th>\n",
              "      <td>1.000000</td>\n",
              "      <td>1.0</td>\n",
              "      <td>1.000000</td>\n",
              "      <td>1.0</td>\n",
              "      <td>1.000000</td>\n",
              "      <td>1.0</td>\n",
              "      <td>1.000000</td>\n",
              "      <td>1.0</td>\n",
              "      <td>1.000000</td>\n",
              "      <td>1.0</td>\n",
              "    </tr>\n",
              "    <tr>\n",
              "      <th>F1 Score</th>\n",
              "      <td>0.000039</td>\n",
              "      <td>0.0</td>\n",
              "      <td>0.000039</td>\n",
              "      <td>0.0</td>\n",
              "      <td>0.000039</td>\n",
              "      <td>0.0</td>\n",
              "      <td>0.000039</td>\n",
              "      <td>0.0</td>\n",
              "      <td>0.000039</td>\n",
              "      <td>0.0</td>\n",
              "    </tr>\n",
              "  </tbody>\n",
              "</table>\n",
              "</div>"
            ],
            "text/plain": [
              "             Data Train 1  Data Test 1  ...  Data Train 5  Data Test 5\n",
              "Accuracy         0.100020          0.1  ...      0.100020          0.1\n",
              "Sensitivity      0.000020          0.0  ...      0.000020          0.0\n",
              "Specificity      1.000000          1.0  ...      1.000000          1.0\n",
              "F1 Score         0.000039          0.0  ...      0.000039          0.0\n",
              "\n",
              "[4 rows x 10 columns]"
            ]
          },
          "metadata": {
            "tags": []
          },
          "execution_count": 26
        }
      ]
    },
    {
      "cell_type": "markdown",
      "metadata": {
        "id": "mVuRjpkrIUkY"
      },
      "source": [
        "#### Gabungan _Feature Engineering_, Menambahkan _Layer_, dan _Hyperparameter tuning_ ($\\text{learning rate} = 0.001$, $\\text{epoch} = 30$)"
      ]
    },
    {
      "cell_type": "markdown",
      "metadata": {
        "id": "Eo3AOVnQjqqK"
      },
      "source": [
        "- Membangun Model _Fully Connected Neural Network_ sebagai _dedicated model_ untuk eksperimen _multiple parameter_."
      ]
    },
    {
      "cell_type": "code",
      "metadata": {
        "id": "9hdTuM3tIYIH",
        "colab": {
          "base_uri": "https://localhost:8080/",
          "height": 34
        },
        "outputId": "b99d2747-4790-4220-afd2-11c8c1abf2c4"
      },
      "source": [
        "## Melakukan inisialisasi node per layer\n",
        "nodes_per_layer_for_combined_trick = [1000, 1000, 1000, 1000, 10]\n",
        "activation_function_per_layer_for_combined_trick = [tf.nn.relu, tf.nn.relu, tf.nn.relu, tf.nn.relu, tf.nn.softmax]\n",
        "\n",
        "## Inisialisasi Layer Model Parameter\n",
        "layers_for_combined_trick = []\n",
        "layers_for_combined_trick.append(tf.keras.layers.Flatten())\n",
        "\n",
        "## Menyisipkan parameter node dan fungsi aktivasinya\n",
        "for i in range(len(nodes_per_layer_for_combined_trick)):\n",
        "  node = nodes_per_layer_for_combined_trick[i]\n",
        "  activation = activation_function_per_layer_for_combined_trick[i]\n",
        "  layers_for_combined_trick.append(keras.layers.Dense(node, activation=activation))\n",
        "\n",
        "## Mendefinisikan model\n",
        "model_for_combined_trick = Sequential(layers_for_combined_trick)\n",
        "\n",
        "## Membangun model\n",
        "model_for_combined_trick.build(input_shape=x_train.shape)\n",
        "model_for_combined_trick.output_shape"
      ],
      "execution_count": null,
      "outputs": [
        {
          "output_type": "execute_result",
          "data": {
            "text/plain": [
              "(50000, 10)"
            ]
          },
          "metadata": {
            "tags": []
          },
          "execution_count": 88
        }
      ]
    },
    {
      "cell_type": "markdown",
      "metadata": {
        "id": "i4TTJ4kXjdHC"
      },
      "source": [
        "- Melakukan kompilasi ke dalam model"
      ]
    },
    {
      "cell_type": "code",
      "metadata": {
        "id": "F7AecTxmJelu"
      },
      "source": [
        "model_for_combined_trick.compile(\n",
        "    optimizer=tf.keras.optimizers.Adam(0.001),\n",
        "    loss='categorical_crossentropy',\n",
        "    metrics=[\n",
        "      'accuracy',\n",
        "      recall,\n",
        "      specificity,\n",
        "      f1_score\n",
        "    ])"
      ],
      "execution_count": null,
      "outputs": []
    },
    {
      "cell_type": "markdown",
      "metadata": {
        "id": "DrpraaUxjaaU"
      },
      "source": [
        "- Melakukan _fitting_"
      ]
    },
    {
      "cell_type": "code",
      "metadata": {
        "id": "4YfUv0yyJkWo",
        "colab": {
          "base_uri": "https://localhost:8080/",
          "height": 1000
        },
        "outputId": "cf083b0a-b9e2-497b-cf48-884685864079"
      },
      "source": [
        "model_for_combined_trick_hist = model_for_combined_trick.fit(normalize_x_train, y_train, epochs=30, batch_size=5000, validation_data=(normalize_x_test, y_test), use_multiprocessing=True)"
      ],
      "execution_count": null,
      "outputs": [
        {
          "output_type": "stream",
          "text": [
            "Epoch 1/30\n",
            "10/10 [==============================] - 26s 3s/step - loss: 2.6113 - accuracy: 0.1169 - recall: 0.0066 - specificity: 0.9957 - f1_score: 0.0093 - val_loss: 2.2036 - val_accuracy: 0.1675 - val_recall: 0.0000e+00 - val_specificity: 1.0000 - val_f1_score: 0.0000e+00\n",
            "Epoch 2/30\n",
            "10/10 [==============================] - 25s 2s/step - loss: 2.1889 - accuracy: 0.1732 - recall: 0.0000e+00 - specificity: 1.0000 - f1_score: 0.0000e+00 - val_loss: 2.1035 - val_accuracy: 0.2131 - val_recall: 0.0000e+00 - val_specificity: 1.0000 - val_f1_score: 0.0000e+00\n",
            "Epoch 3/30\n",
            "10/10 [==============================] - 24s 2s/step - loss: 2.0780 - accuracy: 0.2270 - recall: 2.4000e-04 - specificity: 1.0000 - f1_score: 4.7893e-04 - val_loss: 2.0072 - val_accuracy: 0.2524 - val_recall: 0.0063 - val_specificity: 0.9998 - val_f1_score: 0.0125\n",
            "Epoch 4/30\n",
            "10/10 [==============================] - 24s 2s/step - loss: 1.9690 - accuracy: 0.2760 - recall: 0.0258 - specificity: 0.9983 - f1_score: 0.0491 - val_loss: 1.9375 - val_accuracy: 0.2978 - val_recall: 0.0379 - val_specificity: 0.9965 - val_f1_score: 0.0709\n",
            "Epoch 5/30\n",
            "10/10 [==============================] - 24s 2s/step - loss: 1.8974 - accuracy: 0.3133 - recall: 0.0434 - specificity: 0.9970 - f1_score: 0.0808 - val_loss: 1.8597 - val_accuracy: 0.3318 - val_recall: 0.0595 - val_specificity: 0.9962 - val_f1_score: 0.1088\n",
            "Epoch 6/30\n",
            "10/10 [==============================] - 24s 2s/step - loss: 1.8518 - accuracy: 0.3309 - recall: 0.0585 - specificity: 0.9956 - f1_score: 0.1064 - val_loss: 1.8318 - val_accuracy: 0.3384 - val_recall: 0.0461 - val_specificity: 0.9972 - val_f1_score: 0.0861\n",
            "Epoch 7/30\n",
            "10/10 [==============================] - 24s 2s/step - loss: 1.8044 - accuracy: 0.3480 - recall: 0.0729 - specificity: 0.9949 - f1_score: 0.1300 - val_loss: 1.7735 - val_accuracy: 0.3646 - val_recall: 0.0911 - val_specificity: 0.9945 - val_f1_score: 0.1598\n",
            "Epoch 8/30\n",
            "10/10 [==============================] - 24s 2s/step - loss: 1.7576 - accuracy: 0.3660 - recall: 0.0948 - specificity: 0.9939 - f1_score: 0.1648 - val_loss: 1.7275 - val_accuracy: 0.3817 - val_recall: 0.0991 - val_specificity: 0.9940 - val_f1_score: 0.1719\n",
            "Epoch 9/30\n",
            "10/10 [==============================] - 24s 2s/step - loss: 1.7197 - accuracy: 0.3807 - recall: 0.1158 - specificity: 0.9926 - f1_score: 0.1957 - val_loss: 1.7069 - val_accuracy: 0.3861 - val_recall: 0.1168 - val_specificity: 0.9927 - val_f1_score: 0.1975\n",
            "Epoch 10/30\n",
            "10/10 [==============================] - 24s 2s/step - loss: 1.7452 - accuracy: 0.3755 - recall: 0.1226 - specificity: 0.9911 - f1_score: 0.2033 - val_loss: 1.7463 - val_accuracy: 0.3660 - val_recall: 0.1213 - val_specificity: 0.9912 - val_f1_score: 0.2021\n",
            "Epoch 11/30\n",
            "10/10 [==============================] - 24s 2s/step - loss: 1.7184 - accuracy: 0.3823 - recall: 0.1036 - specificity: 0.9934 - f1_score: 0.1759 - val_loss: 1.6819 - val_accuracy: 0.3949 - val_recall: 0.1367 - val_specificity: 0.9920 - val_f1_score: 0.2261\n",
            "Epoch 12/30\n",
            "10/10 [==============================] - 24s 2s/step - loss: 1.6572 - accuracy: 0.4046 - recall: 0.1512 - specificity: 0.9903 - f1_score: 0.2440 - val_loss: 1.6364 - val_accuracy: 0.4137 - val_recall: 0.1612 - val_specificity: 0.9904 - val_f1_score: 0.2585\n",
            "Epoch 13/30\n",
            "10/10 [==============================] - 25s 2s/step - loss: 1.6146 - accuracy: 0.4209 - recall: 0.1671 - specificity: 0.9901 - f1_score: 0.2659 - val_loss: 1.6080 - val_accuracy: 0.4275 - val_recall: 0.1800 - val_specificity: 0.9892 - val_f1_score: 0.2819\n",
            "Epoch 14/30\n",
            "10/10 [==============================] - 24s 2s/step - loss: 1.7457 - accuracy: 0.3758 - recall: 0.1381 - specificity: 0.9889 - f1_score: 0.2208 - val_loss: 1.7251 - val_accuracy: 0.3767 - val_recall: 0.0929 - val_specificity: 0.9951 - val_f1_score: 0.1633\n",
            "Epoch 15/30\n",
            "10/10 [==============================] - 24s 2s/step - loss: 1.6739 - accuracy: 0.4022 - recall: 0.1256 - specificity: 0.9927 - f1_score: 0.2082 - val_loss: 1.6234 - val_accuracy: 0.4215 - val_recall: 0.1650 - val_specificity: 0.9898 - val_f1_score: 0.2625\n",
            "Epoch 16/30\n",
            "10/10 [==============================] - 24s 2s/step - loss: 1.5999 - accuracy: 0.4288 - recall: 0.1768 - specificity: 0.9900 - f1_score: 0.2790 - val_loss: 1.5990 - val_accuracy: 0.4311 - val_recall: 0.1809 - val_specificity: 0.9903 - val_f1_score: 0.2853\n",
            "Epoch 17/30\n",
            "10/10 [==============================] - 24s 2s/step - loss: 1.5639 - accuracy: 0.4431 - recall: 0.1960 - specificity: 0.9893 - f1_score: 0.3031 - val_loss: 1.5639 - val_accuracy: 0.4467 - val_recall: 0.2038 - val_specificity: 0.9889 - val_f1_score: 0.3125\n",
            "Epoch 18/30\n",
            "10/10 [==============================] - 24s 2s/step - loss: 1.5336 - accuracy: 0.4530 - recall: 0.2143 - specificity: 0.9887 - f1_score: 0.3256 - val_loss: 1.5415 - val_accuracy: 0.4554 - val_recall: 0.2110 - val_specificity: 0.9894 - val_f1_score: 0.3230\n",
            "Epoch 19/30\n",
            "10/10 [==============================] - 24s 2s/step - loss: 1.5444 - accuracy: 0.4470 - recall: 0.2087 - specificity: 0.9884 - f1_score: 0.3176 - val_loss: 1.5473 - val_accuracy: 0.4476 - val_recall: 0.2124 - val_specificity: 0.9881 - val_f1_score: 0.3218\n",
            "Epoch 20/30\n",
            "10/10 [==============================] - 24s 2s/step - loss: 1.5080 - accuracy: 0.4645 - recall: 0.2275 - specificity: 0.9880 - f1_score: 0.3407 - val_loss: 1.5247 - val_accuracy: 0.4572 - val_recall: 0.2329 - val_specificity: 0.9869 - val_f1_score: 0.3448\n",
            "Epoch 21/30\n",
            "10/10 [==============================] - 24s 2s/step - loss: 1.4785 - accuracy: 0.4704 - recall: 0.2379 - specificity: 0.9880 - f1_score: 0.3534 - val_loss: 1.4849 - val_accuracy: 0.4725 - val_recall: 0.2570 - val_specificity: 0.9864 - val_f1_score: 0.3726\n",
            "Epoch 22/30\n",
            "10/10 [==============================] - 24s 2s/step - loss: 1.4661 - accuracy: 0.4786 - recall: 0.2535 - specificity: 0.9872 - f1_score: 0.3703 - val_loss: 1.5038 - val_accuracy: 0.4619 - val_recall: 0.2468 - val_specificity: 0.9860 - val_f1_score: 0.3594\n",
            "Epoch 23/30\n",
            "10/10 [==============================] - 24s 2s/step - loss: 1.4437 - accuracy: 0.4847 - recall: 0.2620 - specificity: 0.9872 - f1_score: 0.3804 - val_loss: 1.4958 - val_accuracy: 0.4730 - val_recall: 0.2401 - val_specificity: 0.9886 - val_f1_score: 0.3576\n",
            "Epoch 24/30\n",
            "10/10 [==============================] - 24s 2s/step - loss: 1.4391 - accuracy: 0.4897 - recall: 0.2631 - specificity: 0.9877 - f1_score: 0.3830 - val_loss: 1.4554 - val_accuracy: 0.4812 - val_recall: 0.2544 - val_specificity: 0.9879 - val_f1_score: 0.3732\n",
            "Epoch 25/30\n",
            "10/10 [==============================] - 25s 2s/step - loss: 1.4118 - accuracy: 0.4975 - recall: 0.2809 - specificity: 0.9866 - f1_score: 0.4008 - val_loss: 1.4414 - val_accuracy: 0.4862 - val_recall: 0.2806 - val_specificity: 0.9859 - val_f1_score: 0.3988\n",
            "Epoch 26/30\n",
            "10/10 [==============================] - 25s 2s/step - loss: 1.3785 - accuracy: 0.5082 - recall: 0.2963 - specificity: 0.9865 - f1_score: 0.4178 - val_loss: 1.4498 - val_accuracy: 0.4843 - val_recall: 0.2850 - val_specificity: 0.9850 - val_f1_score: 0.4015\n",
            "Epoch 27/30\n",
            "10/10 [==============================] - 24s 2s/step - loss: 1.3625 - accuracy: 0.5144 - recall: 0.3052 - specificity: 0.9863 - f1_score: 0.4274 - val_loss: 1.4228 - val_accuracy: 0.4919 - val_recall: 0.2940 - val_specificity: 0.9851 - val_f1_score: 0.4118\n",
            "Epoch 28/30\n",
            "10/10 [==============================] - 24s 2s/step - loss: 1.3584 - accuracy: 0.5180 - recall: 0.3098 - specificity: 0.9861 - f1_score: 0.4318 - val_loss: 1.4474 - val_accuracy: 0.4805 - val_recall: 0.2864 - val_specificity: 0.9849 - val_f1_score: 0.4026\n",
            "Epoch 29/30\n",
            "10/10 [==============================] - 24s 2s/step - loss: 1.3617 - accuracy: 0.5154 - recall: 0.3046 - specificity: 0.9861 - f1_score: 0.4258 - val_loss: 1.4033 - val_accuracy: 0.5007 - val_recall: 0.2975 - val_specificity: 0.9859 - val_f1_score: 0.4178\n",
            "Epoch 30/30\n",
            "10/10 [==============================] - 24s 2s/step - loss: 1.3159 - accuracy: 0.5324 - recall: 0.3289 - specificity: 0.9859 - f1_score: 0.4519 - val_loss: 1.4104 - val_accuracy: 0.5009 - val_recall: 0.3200 - val_specificity: 0.9837 - val_f1_score: 0.4363\n"
          ],
          "name": "stdout"
        }
      ]
    },
    {
      "cell_type": "markdown",
      "metadata": {
        "id": "cE_CJqtAjXPX"
      },
      "source": [
        "- Melakukan Prediksi ke _Data Test_ dan Menampilkan _Metric_-nya"
      ]
    },
    {
      "cell_type": "code",
      "metadata": {
        "id": "6r-f5J9CTm4C",
        "colab": {
          "base_uri": "https://localhost:8080/",
          "height": 173
        },
        "outputId": "7777e1b0-d64b-4c6c-f000-a3ed6e308474"
      },
      "source": [
        "compare_train_and_test(model_for_combined_trick, normalize_x_train, y_train, normalize_x_test, y_test).transpose()"
      ],
      "execution_count": null,
      "outputs": [
        {
          "output_type": "execute_result",
          "data": {
            "text/html": [
              "<div>\n",
              "<style scoped>\n",
              "    .dataframe tbody tr th:only-of-type {\n",
              "        vertical-align: middle;\n",
              "    }\n",
              "\n",
              "    .dataframe tbody tr th {\n",
              "        vertical-align: top;\n",
              "    }\n",
              "\n",
              "    .dataframe thead th {\n",
              "        text-align: right;\n",
              "    }\n",
              "</style>\n",
              "<table border=\"1\" class=\"dataframe\">\n",
              "  <thead>\n",
              "    <tr style=\"text-align: right;\">\n",
              "      <th></th>\n",
              "      <th>Data Train</th>\n",
              "      <th>Data Test</th>\n",
              "    </tr>\n",
              "  </thead>\n",
              "  <tbody>\n",
              "    <tr>\n",
              "      <th>Accuracy</th>\n",
              "      <td>0.539960</td>\n",
              "      <td>0.500900</td>\n",
              "    </tr>\n",
              "    <tr>\n",
              "      <th>Sensitivity</th>\n",
              "      <td>0.344690</td>\n",
              "      <td>0.319888</td>\n",
              "    </tr>\n",
              "    <tr>\n",
              "      <th>Specificity</th>\n",
              "      <td>0.985574</td>\n",
              "      <td>0.983693</td>\n",
              "    </tr>\n",
              "    <tr>\n",
              "      <th>F1 Score</th>\n",
              "      <td>0.463908</td>\n",
              "      <td>0.432194</td>\n",
              "    </tr>\n",
              "  </tbody>\n",
              "</table>\n",
              "</div>"
            ],
            "text/plain": [
              "             Data Train   Data Test \n",
              "Accuracy        0.539960    0.500900\n",
              "Sensitivity     0.344690    0.319888\n",
              "Specificity     0.985574    0.983693\n",
              "F1 Score        0.463908    0.432194"
            ]
          },
          "metadata": {
            "tags": []
          },
          "execution_count": 91
        }
      ]
    },
    {
      "cell_type": "markdown",
      "metadata": {
        "id": "WtA9nXujHomd"
      },
      "source": [
        "3. Analisis hasil yang anda dapatkan untuk masing-masing skenario."
      ]
    },
    {
      "cell_type": "markdown",
      "metadata": {
        "id": "B_v5q_o_IQRs"
      },
      "source": [
        "- Untuk skenario _feature engineering_, normalisasi nilai citra dapat meningkatkan akurasi. Ide normalisasi didasari dengan inputan awalnya bisa pada rentang $[0...255]$, hal ini dapat mengakibatkan beberapa _node_ dapat memiliki nilai yang cenderung sangat kecil dan cenderung sangat besar agar keluaran _node_-nya bisa diantara $[0...1]$. Untuk mengatasi hal itu, saya normalisasi nilainya agar berada pada rentang $[0...1]$.\n",
        "- Untuk skenario menambahkan _layer_, menambahkan layer sebanyak dua dapat meningkatkan akurasi. Ide menambahkan layer sebanyak dua sebenarnya muncul karena untuk mempercepat proses eksperimen saja dan pengalaman pribadi. Semakin banyak layer, semakin baik karena dapat memodelkan ke tahap yang lebih kompleks. _Tradeoff_-nya semakin banyak layer, semakin lama eksperimen berjalan. Setelah ditambahkan sebanyak\n",
        "- Untuk skenario melakukan _hyperparameter tuning_, saya hanya melakukan improvisasi pada $\\text{Learning Rate}$ dan $\\text{Epoch}$-nya saja. Setelah dilakukan mini skenario, _adjustment_ $\\text{Learning Rate}$ dan $\\text{epoch}$ saja tidak memberikan perubahan yang signifikan dan cenderung sama untuk setiap mini skenario.\n",
        "- Untuk skenario gabungan ketiganya dan mengambil _hyperparameter tuning_ untuk mini skenario $1$, terlihat bahwa hasil eksperimennya mengalami peningkatan dibanding skenario-skenario yang berdiri sendiri sebelumnya."
      ]
    },
    {
      "cell_type": "markdown",
      "metadata": {
        "id": "8VUY1leF4v5o"
      },
      "source": [
        "### B. _Convolutional Neural Networks_"
      ]
    },
    {
      "cell_type": "markdown",
      "metadata": {
        "id": "Q_ZVbr9Mh5p_"
      },
      "source": [
        "1. Lakukan Klasifikasi untuk dataset cifar menggunakan _Convolutional Neural Networks_ dengan arsitektur dasar sebagai berikut:\n",
        "    - _Convolutional Layer_ ($25 \\text{ maps}$, $\\text{kernel }3 \\times 3$)\n",
        "    - Pooling Layer ($2 \\times 2$)\n",
        "    - Convolutional Layer ($50 \\text{ maps}$, $\\text{kernel }3 \\times 3$)\n",
        "    - Pooling Layer ($2 \\times 2$)\n",
        "    - Hidden Layer ($100 \\text{ neuron}$)\n",
        "    - Activation Function ($\\text{ReLU function}$)\n",
        "    - Output Layer ($10 \\text{ class}$)\n",
        "    - Activation Function ($\\text{Softmax function}$)\n",
        "    - Classification Result\n",
        "2. Hitung metrik ($\\text{accuracy}$, $\\text{sensitivity}$ , $\\text{specificity}$, dan $f_{1}\\text{ score}$) untuk untuk data train\n",
        "dan data test."
      ]
    },
    {
      "cell_type": "code",
      "metadata": {
        "id": "yIwqeQ5chCNf",
        "colab": {
          "base_uri": "https://localhost:8080/",
          "height": 34
        },
        "outputId": "c1a7c864-0146-49dc-f0d0-f8544f12870e"
      },
      "source": [
        "convolutional_layers = []\n",
        "convolutional_layers.append(Conv2D(25, kernel_size=(3, 3), activation=tf.nn.relu, padding='SAME', kernel_initializer=tf.keras.initializers.HeUniform()))\n",
        "convolutional_layers.append(MaxPooling2D(2,2))\n",
        "convolutional_layers.append(Conv2D(50, kernel_size=(3, 3), activation=tf.nn.relu, padding='SAME', kernel_initializer=tf.keras.initializers.HeUniform()))\n",
        "convolutional_layers.append(MaxPooling2D(2,2))\n",
        "convolutional_layers.append(Flatten())\n",
        "convolutional_layers.append(Dense(100, activation=tf.nn.relu))\n",
        "convolutional_layers.append(Dense(10, activation=tf.nn.softmax))\n",
        "\n",
        "convolutional_model = Sequential(convolutional_layers)\n",
        "\n",
        "## Membangun model\n",
        "convolutional_model.build(input_shape=x_train.shape)\n",
        "convolutional_model.output_shape"
      ],
      "execution_count": null,
      "outputs": [
        {
          "output_type": "execute_result",
          "data": {
            "text/plain": [
              "(50000, 10)"
            ]
          },
          "metadata": {
            "tags": []
          },
          "execution_count": 118
        }
      ]
    },
    {
      "cell_type": "code",
      "metadata": {
        "id": "R0YiE-chr6eY"
      },
      "source": [
        "convolutional_model.compile(\n",
        "    optimizer=tf.keras.optimizers.Adam(0.001),\n",
        "    loss='categorical_crossentropy',\n",
        "    metrics=[\n",
        "      'accuracy',\n",
        "      recall,\n",
        "      specificity,\n",
        "      f1_score\n",
        "    ])"
      ],
      "execution_count": null,
      "outputs": []
    },
    {
      "cell_type": "code",
      "metadata": {
        "id": "RigQ_onVwEQ_",
        "colab": {
          "base_uri": "https://localhost:8080/",
          "height": 377
        },
        "outputId": "be68b71c-b5da-4aae-a2d1-9ec145947a07"
      },
      "source": [
        "convolutional_model_hist = convolutional_model.fit(normalize_x_train, y_train, epochs=10, batch_size=50, validation_data=(normalize_x_test, y_test), use_multiprocessing=True)"
      ],
      "execution_count": null,
      "outputs": [
        {
          "output_type": "stream",
          "text": [
            "Epoch 1/10\n",
            "1000/1000 [==============================] - 73s 73ms/step - loss: 1.4219 - accuracy: 0.4938 - recall: 0.2791 - specificity: 0.9879 - f1_score: 0.3814 - val_loss: 1.1370 - val_accuracy: 0.6029 - val_recall: 0.4506 - val_specificity: 0.9830 - val_f1_score: 0.5601\n",
            "Epoch 2/10\n",
            "1000/1000 [==============================] - 71s 71ms/step - loss: 1.0432 - accuracy: 0.6350 - recall: 0.4916 - specificity: 0.9837 - f1_score: 0.5983 - val_loss: 1.0150 - val_accuracy: 0.6506 - val_recall: 0.5306 - val_specificity: 0.9823 - val_f1_score: 0.6267\n",
            "Epoch 3/10\n",
            "1000/1000 [==============================] - 71s 71ms/step - loss: 0.9204 - accuracy: 0.6800 - recall: 0.5647 - specificity: 0.9836 - f1_score: 0.6583 - val_loss: 0.9730 - val_accuracy: 0.6712 - val_recall: 0.5551 - val_specificity: 0.9812 - val_f1_score: 0.6427\n",
            "Epoch 4/10\n",
            "1000/1000 [==============================] - 71s 71ms/step - loss: 0.8400 - accuracy: 0.7088 - recall: 0.6096 - specificity: 0.9838 - f1_score: 0.6935 - val_loss: 0.9345 - val_accuracy: 0.6742 - val_recall: 0.5886 - val_specificity: 0.9797 - val_f1_score: 0.6635\n",
            "Epoch 5/10\n",
            "1000/1000 [==============================] - 71s 71ms/step - loss: 0.7684 - accuracy: 0.7304 - recall: 0.6449 - specificity: 0.9842 - f1_score: 0.7208 - val_loss: 0.9018 - val_accuracy: 0.6897 - val_recall: 0.6022 - val_specificity: 0.9808 - val_f1_score: 0.6776\n",
            "Epoch 6/10\n",
            "1000/1000 [==============================] - 71s 71ms/step - loss: 0.7083 - accuracy: 0.7535 - recall: 0.6748 - specificity: 0.9850 - f1_score: 0.7447 - val_loss: 0.9186 - val_accuracy: 0.6938 - val_recall: 0.6245 - val_specificity: 0.9785 - val_f1_score: 0.6864\n",
            "Epoch 7/10\n",
            "1000/1000 [==============================] - 71s 71ms/step - loss: 0.6555 - accuracy: 0.7718 - recall: 0.7032 - specificity: 0.9853 - f1_score: 0.7654 - val_loss: 0.9077 - val_accuracy: 0.6992 - val_recall: 0.6431 - val_specificity: 0.9776 - val_f1_score: 0.6969\n",
            "Epoch 8/10\n",
            "1000/1000 [==============================] - 72s 72ms/step - loss: 0.6090 - accuracy: 0.7868 - recall: 0.7267 - specificity: 0.9858 - f1_score: 0.7829 - val_loss: 0.9520 - val_accuracy: 0.6857 - val_recall: 0.6265 - val_specificity: 0.9777 - val_f1_score: 0.6852\n",
            "Epoch 9/10\n",
            "1000/1000 [==============================] - 71s 71ms/step - loss: 0.5644 - accuracy: 0.8009 - recall: 0.7470 - specificity: 0.9862 - f1_score: 0.7978 - val_loss: 0.9563 - val_accuracy: 0.6960 - val_recall: 0.6421 - val_specificity: 0.9768 - val_f1_score: 0.6931\n",
            "Epoch 10/10\n",
            "1000/1000 [==============================] - 71s 71ms/step - loss: 0.5223 - accuracy: 0.8149 - recall: 0.7674 - specificity: 0.9869 - f1_score: 0.8136 - val_loss: 0.9900 - val_accuracy: 0.6906 - val_recall: 0.6389 - val_specificity: 0.9753 - val_f1_score: 0.6861\n"
          ],
          "name": "stdout"
        }
      ]
    },
    {
      "cell_type": "code",
      "metadata": {
        "id": "GOliRak1wO0X",
        "colab": {
          "base_uri": "https://localhost:8080/",
          "height": 173
        },
        "outputId": "75371720-9073-46d8-90f4-4db7b8c0996d"
      },
      "source": [
        "compare_train_and_test(convolutional_model, normalize_x_train, y_train, normalize_x_test, y_test).transpose()"
      ],
      "execution_count": null,
      "outputs": [
        {
          "output_type": "execute_result",
          "data": {
            "text/html": [
              "<div>\n",
              "<style scoped>\n",
              "    .dataframe tbody tr th:only-of-type {\n",
              "        vertical-align: middle;\n",
              "    }\n",
              "\n",
              "    .dataframe tbody tr th {\n",
              "        vertical-align: top;\n",
              "    }\n",
              "\n",
              "    .dataframe thead th {\n",
              "        text-align: right;\n",
              "    }\n",
              "</style>\n",
              "<table border=\"1\" class=\"dataframe\">\n",
              "  <thead>\n",
              "    <tr style=\"text-align: right;\">\n",
              "      <th></th>\n",
              "      <th>Data Train</th>\n",
              "      <th>Data Test</th>\n",
              "    </tr>\n",
              "  </thead>\n",
              "  <tbody>\n",
              "    <tr>\n",
              "      <th>Accuracy</th>\n",
              "      <td>0.830500</td>\n",
              "      <td>0.690600</td>\n",
              "    </tr>\n",
              "    <tr>\n",
              "      <th>Sensitivity</th>\n",
              "      <td>0.780090</td>\n",
              "      <td>0.638878</td>\n",
              "    </tr>\n",
              "    <tr>\n",
              "      <th>Specificity</th>\n",
              "      <td>0.988639</td>\n",
              "      <td>0.975273</td>\n",
              "    </tr>\n",
              "    <tr>\n",
              "      <th>F1 Score</th>\n",
              "      <td>0.828022</td>\n",
              "      <td>0.685496</td>\n",
              "    </tr>\n",
              "  </tbody>\n",
              "</table>\n",
              "</div>"
            ],
            "text/plain": [
              "             Data Train   Data Test \n",
              "Accuracy        0.830500    0.690600\n",
              "Sensitivity     0.780090    0.638878\n",
              "Specificity     0.988639    0.975273\n",
              "F1 Score        0.828022    0.685496"
            ]
          },
          "metadata": {
            "tags": []
          },
          "execution_count": 121
        }
      ]
    },
    {
      "cell_type": "markdown",
      "metadata": {
        "id": "wjeXlkf_Ctyw"
      },
      "source": [
        "3. Anda dapat memperbaiki hasil yang didapat dengan melakukan 2 (dua) skenario eksperimen, yaitu menambah _layer_ dan _hyperparameter tuning_ (pada classifier)."
      ]
    },
    {
      "cell_type": "markdown",
      "metadata": {
        "id": "5xyg_ndiDBgf"
      },
      "source": [
        "##### Menambahkan _layer_"
      ]
    },
    {
      "cell_type": "markdown",
      "metadata": {
        "id": "vdOKN-whCxes"
      },
      "source": [
        "- Pada sesi laboratorium kali ini, saya menambahkan $\\text{Convolutional Layer}$ sebanyak $2$ dengan masing-masing spesifikasi adalah:\n",
        "    - $25 \\text{ maps}$ dan $\\text{kernel } 3 \\times 3$ yang ditambahkan setelah layer pertama.\n",
        "    - $50 \\text{ maps}$ dan $\\text{kernel } 3 \\times 3$ yang ditambahkan setelah _pooling layer_ pertama."
      ]
    },
    {
      "cell_type": "code",
      "metadata": {
        "id": "LBH1HUHryrNc",
        "colab": {
          "base_uri": "https://localhost:8080/",
          "height": 34
        },
        "outputId": "883c1ec0-dd9b-462e-a9d3-6c67c8c58d52"
      },
      "source": [
        "convolutional_extra_layers = []\n",
        "convolutional_extra_layers.append(Conv2D(25, kernel_size=(3, 3), activation=tf.nn.relu, padding='SAME', kernel_initializer=tf.keras.initializers.HeUniform()))\n",
        "convolutional_extra_layers.append(Conv2D(25, kernel_size=(3, 3), activation=tf.nn.relu, padding='SAME', kernel_initializer=tf.keras.initializers.HeUniform()))\n",
        "convolutional_extra_layers.append(MaxPooling2D(2,2))\n",
        "convolutional_extra_layers.append(Conv2D(50, kernel_size=(3, 3), activation=tf.nn.relu, padding='SAME', kernel_initializer=tf.keras.initializers.HeUniform()))\n",
        "convolutional_extra_layers.append(Conv2D(50, kernel_size=(3, 3), activation=tf.nn.relu, padding='SAME', kernel_initializer=tf.keras.initializers.HeUniform()))\n",
        "convolutional_extra_layers.append(MaxPooling2D(2,2))\n",
        "convolutional_extra_layers.append(Flatten())\n",
        "convolutional_extra_layers.append(Dense(200, activation=tf.nn.relu, kernel_initializer=tf.keras.initializers.HeUniform()))\n",
        "convolutional_extra_layers.append(Dense(10, activation=tf.nn.softmax))\n",
        "\n",
        "convolutional_extra_model = Sequential(convolutional_extra_layers)\n",
        "\n",
        "## Membangun model\n",
        "convolutional_extra_model.build(input_shape=x_train.shape)\n",
        "convolutional_extra_model.output_shape"
      ],
      "execution_count": null,
      "outputs": [
        {
          "output_type": "execute_result",
          "data": {
            "text/plain": [
              "(50000, 10)"
            ]
          },
          "metadata": {
            "tags": []
          },
          "execution_count": 110
        }
      ]
    },
    {
      "cell_type": "code",
      "metadata": {
        "id": "EgDlW3V8DnGw"
      },
      "source": [
        "convolutional_extra_model.compile(\n",
        "    optimizer=tf.keras.optimizers.Adam(0.001),\n",
        "    loss='categorical_crossentropy',\n",
        "    metrics=[\n",
        "      'accuracy',\n",
        "      recall,\n",
        "      specificity,\n",
        "      f1_score\n",
        "    ])"
      ],
      "execution_count": null,
      "outputs": []
    },
    {
      "cell_type": "code",
      "metadata": {
        "id": "ORWrHHVND5K4",
        "colab": {
          "base_uri": "https://localhost:8080/",
          "height": 377
        },
        "outputId": "e11f1c6d-18c7-4a21-ec43-c42b10cde6dd"
      },
      "source": [
        "convolutional_extra_model_hist = convolutional_extra_model.fit(normalize_x_train, y_train, epochs=10, batch_size=50, validation_data=(normalize_x_test, y_test), use_multiprocessing=True)"
      ],
      "execution_count": null,
      "outputs": [
        {
          "output_type": "stream",
          "text": [
            "Epoch 1/10\n",
            "1000/1000 [==============================] - 219s 219ms/step - loss: 1.3353 - accuracy: 0.5228 - recall: 0.3358 - specificity: 0.9856 - f1_score: 0.4385 - val_loss: 1.0289 - val_accuracy: 0.6372 - val_recall: 0.4906 - val_specificity: 0.9838 - val_f1_score: 0.5980\n",
            "Epoch 2/10\n",
            "1000/1000 [==============================] - 218s 218ms/step - loss: 0.9139 - accuracy: 0.6786 - recall: 0.5689 - specificity: 0.9833 - f1_score: 0.6604 - val_loss: 0.9229 - val_accuracy: 0.6750 - val_recall: 0.5656 - val_specificity: 0.9828 - val_f1_score: 0.6563\n",
            "Epoch 3/10\n",
            "1000/1000 [==============================] - 218s 218ms/step - loss: 0.7375 - accuracy: 0.7404 - recall: 0.6594 - specificity: 0.9847 - f1_score: 0.7327 - val_loss: 0.8408 - val_accuracy: 0.7075 - val_recall: 0.6322 - val_specificity: 0.9814 - val_f1_score: 0.7016\n",
            "Epoch 4/10\n",
            "1000/1000 [==============================] - 217s 217ms/step - loss: 0.5962 - accuracy: 0.7901 - recall: 0.7303 - specificity: 0.9863 - f1_score: 0.7873 - val_loss: 0.8087 - val_accuracy: 0.7235 - val_recall: 0.6592 - val_specificity: 0.9808 - val_f1_score: 0.7189\n",
            "Epoch 5/10\n",
            "1000/1000 [==============================] - 218s 218ms/step - loss: 0.4599 - accuracy: 0.8384 - recall: 0.7974 - specificity: 0.9881 - f1_score: 0.8371 - val_loss: 0.8815 - val_accuracy: 0.7239 - val_recall: 0.6844 - val_specificity: 0.9778 - val_f1_score: 0.7259\n",
            "Epoch 6/10\n",
            "1000/1000 [==============================] - 219s 219ms/step - loss: 0.3464 - accuracy: 0.8768 - recall: 0.8506 - specificity: 0.9902 - f1_score: 0.8771 - val_loss: 0.9566 - val_accuracy: 0.7160 - val_recall: 0.6852 - val_specificity: 0.9755 - val_f1_score: 0.7189\n",
            "Epoch 7/10\n",
            "1000/1000 [==============================] - 218s 218ms/step - loss: 0.2518 - accuracy: 0.9123 - recall: 0.8964 - specificity: 0.9924 - f1_score: 0.9124 - val_loss: 1.0957 - val_accuracy: 0.7124 - val_recall: 0.6887 - val_specificity: 0.9738 - val_f1_score: 0.7153\n",
            "Epoch 8/10\n",
            "1000/1000 [==============================] - 219s 219ms/step - loss: 0.1887 - accuracy: 0.9337 - recall: 0.9239 - specificity: 0.9940 - f1_score: 0.9340 - val_loss: 1.1898 - val_accuracy: 0.7159 - val_recall: 0.7013 - val_specificity: 0.9726 - val_f1_score: 0.7197\n",
            "Epoch 9/10\n",
            "1000/1000 [==============================] - 219s 219ms/step - loss: 0.1470 - accuracy: 0.9488 - recall: 0.9423 - specificity: 0.9952 - f1_score: 0.9492 - val_loss: 1.3797 - val_accuracy: 0.7207 - val_recall: 0.7095 - val_specificity: 0.9720 - val_f1_score: 0.7231\n",
            "Epoch 10/10\n",
            "1000/1000 [==============================] - 219s 219ms/step - loss: 0.1275 - accuracy: 0.9555 - recall: 0.9506 - specificity: 0.9957 - f1_score: 0.9555 - val_loss: 1.4527 - val_accuracy: 0.7197 - val_recall: 0.7108 - val_specificity: 0.9715 - val_f1_score: 0.7226\n"
          ],
          "name": "stdout"
        }
      ]
    },
    {
      "cell_type": "code",
      "metadata": {
        "id": "J6MHTuQiFxcj",
        "colab": {
          "base_uri": "https://localhost:8080/",
          "height": 173
        },
        "outputId": "aba79489-c4ae-4e32-f0ae-9ac0d8f2921a"
      },
      "source": [
        "compare_train_and_test(convolutional_extra_model, normalize_x_train, y_train, normalize_x_test, y_test).transpose()"
      ],
      "execution_count": null,
      "outputs": [
        {
          "output_type": "execute_result",
          "data": {
            "text/html": [
              "<div>\n",
              "<style scoped>\n",
              "    .dataframe tbody tr th:only-of-type {\n",
              "        vertical-align: middle;\n",
              "    }\n",
              "\n",
              "    .dataframe tbody tr th {\n",
              "        vertical-align: top;\n",
              "    }\n",
              "\n",
              "    .dataframe thead th {\n",
              "        text-align: right;\n",
              "    }\n",
              "</style>\n",
              "<table border=\"1\" class=\"dataframe\">\n",
              "  <thead>\n",
              "    <tr style=\"text-align: right;\">\n",
              "      <th></th>\n",
              "      <th>Data Train</th>\n",
              "      <th>Data Test</th>\n",
              "    </tr>\n",
              "  </thead>\n",
              "  <tbody>\n",
              "    <tr>\n",
              "      <th>Accuracy</th>\n",
              "      <td>0.977240</td>\n",
              "      <td>0.719700</td>\n",
              "    </tr>\n",
              "    <tr>\n",
              "      <th>Sensitivity</th>\n",
              "      <td>0.974228</td>\n",
              "      <td>0.710863</td>\n",
              "    </tr>\n",
              "    <tr>\n",
              "      <th>Specificity</th>\n",
              "      <td>0.997804</td>\n",
              "      <td>0.971534</td>\n",
              "    </tr>\n",
              "    <tr>\n",
              "      <th>F1 Score</th>\n",
              "      <td>0.977103</td>\n",
              "      <td>0.722493</td>\n",
              "    </tr>\n",
              "  </tbody>\n",
              "</table>\n",
              "</div>"
            ],
            "text/plain": [
              "             Data Train   Data Test \n",
              "Accuracy        0.977240    0.719700\n",
              "Sensitivity     0.974228    0.710863\n",
              "Specificity     0.997804    0.971534\n",
              "F1 Score        0.977103    0.722493"
            ]
          },
          "metadata": {
            "tags": []
          },
          "execution_count": 113
        }
      ]
    },
    {
      "cell_type": "markdown",
      "metadata": {
        "id": "55OndTKwCbS_"
      },
      "source": [
        "##### Melakukan _Hyperparameter Tuning_"
      ]
    },
    {
      "cell_type": "markdown",
      "metadata": {
        "id": "0m0fmSTBCfob"
      },
      "source": [
        "- Pada sesi laboratorium kali ini, saya mengubah optimizer yang digunakan dari $\\text{Adam}$ menjadi $\\text{Stochastic Gradient Descent}$"
      ]
    },
    {
      "cell_type": "code",
      "metadata": {
        "id": "MviYdsz-F4MC",
        "colab": {
          "base_uri": "https://localhost:8080/",
          "height": 34
        },
        "outputId": "9ab135a2-433c-4db0-957c-98330b4aef07"
      },
      "source": [
        "convolutional_with_hyperparameter_tuning_layers = []\n",
        "convolutional_with_hyperparameter_tuning_layers.append(Conv2D(25, kernel_size=(3, 3), activation=tf.nn.relu, padding='SAME', kernel_initializer=tf.keras.initializers.HeUniform()))\n",
        "convolutional_with_hyperparameter_tuning_layers.append(MaxPooling2D(2,2))\n",
        "convolutional_with_hyperparameter_tuning_layers.append(Conv2D(50, kernel_size=(3, 3), activation=tf.nn.relu, padding='SAME', kernel_initializer=tf.keras.initializers.HeUniform()))\n",
        "convolutional_with_hyperparameter_tuning_layers.append(MaxPooling2D(2,2))\n",
        "convolutional_with_hyperparameter_tuning_layers.append(Flatten())\n",
        "convolutional_with_hyperparameter_tuning_layers.append(Dense(100, activation=tf.nn.relu))\n",
        "convolutional_with_hyperparameter_tuning_layers.append(Dense(10, activation=tf.nn.softmax))\n",
        "\n",
        "convolutional_with_hyperparameter_model = Sequential(convolutional_with_hyperparameter_tuning_layers)\n",
        "\n",
        "## Membangun model\n",
        "convolutional_with_hyperparameter_model.build(input_shape=x_train.shape)\n",
        "convolutional_with_hyperparameter_model.output_shape"
      ],
      "execution_count": null,
      "outputs": [
        {
          "output_type": "execute_result",
          "data": {
            "text/plain": [
              "(50000, 10)"
            ]
          },
          "metadata": {
            "tags": []
          },
          "execution_count": 114
        }
      ]
    },
    {
      "cell_type": "code",
      "metadata": {
        "id": "ve3ezG8aBleK"
      },
      "source": [
        "convolutional_with_hyperparameter_model.compile(\n",
        "    optimizer=SGD(lr=0.001, momentum=0.9),\n",
        "    loss='categorical_crossentropy',\n",
        "    metrics=[\n",
        "      'accuracy',\n",
        "      recall,\n",
        "      specificity,\n",
        "      f1_score\n",
        "    ])"
      ],
      "execution_count": null,
      "outputs": []
    },
    {
      "cell_type": "code",
      "metadata": {
        "id": "Y6bJINkTB0fJ",
        "colab": {
          "base_uri": "https://localhost:8080/",
          "height": 377
        },
        "outputId": "d2847508-8dc7-4e14-df0f-fe6e25bc72d5"
      },
      "source": [
        "convolutional_with_hyperparameter_model_hist = convolutional_with_hyperparameter_model.fit(normalize_x_train, y_train, epochs=10, batch_size=50, validation_data=(normalize_x_test, y_test), use_multiprocessing=True)"
      ],
      "execution_count": null,
      "outputs": [
        {
          "output_type": "stream",
          "text": [
            "Epoch 1/10\n",
            "1000/1000 [==============================] - 71s 71ms/step - loss: 1.7909 - accuracy: 0.3612 - recall: 0.0766 - specificity: 0.9960 - f1_score: 0.1296 - val_loss: 1.5731 - val_accuracy: 0.4410 - val_recall: 0.1651 - val_specificity: 0.9917 - val_f1_score: 0.2628\n",
            "Epoch 2/10\n",
            "1000/1000 [==============================] - 71s 71ms/step - loss: 1.4470 - accuracy: 0.4871 - recall: 0.2313 - specificity: 0.9895 - f1_score: 0.3445 - val_loss: 1.3597 - val_accuracy: 0.5224 - val_recall: 0.2854 - val_specificity: 0.9876 - val_f1_score: 0.4053\n",
            "Epoch 3/10\n",
            "1000/1000 [==============================] - 71s 71ms/step - loss: 1.2931 - accuracy: 0.5429 - recall: 0.3237 - specificity: 0.9872 - f1_score: 0.4473 - val_loss: 1.2638 - val_accuracy: 0.5490 - val_recall: 0.3609 - val_specificity: 0.9848 - val_f1_score: 0.4796\n",
            "Epoch 4/10\n",
            "1000/1000 [==============================] - 71s 71ms/step - loss: 1.1980 - accuracy: 0.5784 - recall: 0.3866 - specificity: 0.9857 - f1_score: 0.5083 - val_loss: 1.2178 - val_accuracy: 0.5655 - val_recall: 0.3790 - val_specificity: 0.9841 - val_f1_score: 0.4957\n",
            "Epoch 5/10\n",
            "1000/1000 [==============================] - 71s 71ms/step - loss: 1.1221 - accuracy: 0.6088 - recall: 0.4351 - specificity: 0.9852 - f1_score: 0.5529 - val_loss: 1.1087 - val_accuracy: 0.6103 - val_recall: 0.4498 - val_specificity: 0.9846 - val_f1_score: 0.5645\n",
            "Epoch 6/10\n",
            "1000/1000 [==============================] - 71s 71ms/step - loss: 1.0695 - accuracy: 0.6275 - recall: 0.4699 - specificity: 0.9847 - f1_score: 0.5829 - val_loss: 1.0781 - val_accuracy: 0.6215 - val_recall: 0.4702 - val_specificity: 0.9838 - val_f1_score: 0.5801\n",
            "Epoch 7/10\n",
            "1000/1000 [==============================] - 72s 72ms/step - loss: 1.0205 - accuracy: 0.6466 - recall: 0.5012 - specificity: 0.9848 - f1_score: 0.6101 - val_loss: 1.0360 - val_accuracy: 0.6395 - val_recall: 0.4976 - val_specificity: 0.9839 - val_f1_score: 0.6043\n",
            "Epoch 8/10\n",
            "1000/1000 [==============================] - 72s 72ms/step - loss: 0.9727 - accuracy: 0.6639 - recall: 0.5281 - specificity: 0.9845 - f1_score: 0.6317 - val_loss: 1.1058 - val_accuracy: 0.6152 - val_recall: 0.5075 - val_specificity: 0.9785 - val_f1_score: 0.5956\n",
            "Epoch 9/10\n",
            "1000/1000 [==============================] - 73s 73ms/step - loss: 0.9372 - accuracy: 0.6775 - recall: 0.5492 - specificity: 0.9844 - f1_score: 0.6488 - val_loss: 1.0142 - val_accuracy: 0.6466 - val_recall: 0.5195 - val_specificity: 0.9815 - val_f1_score: 0.6147\n",
            "Epoch 10/10\n",
            "1000/1000 [==============================] - 72s 72ms/step - loss: 0.9060 - accuracy: 0.6866 - recall: 0.5671 - specificity: 0.9846 - f1_score: 0.6635 - val_loss: 0.9910 - val_accuracy: 0.6574 - val_recall: 0.5343 - val_specificity: 0.9829 - val_f1_score: 0.6314\n"
          ],
          "name": "stdout"
        }
      ]
    },
    {
      "cell_type": "code",
      "metadata": {
        "id": "UBTP-uttB84q",
        "colab": {
          "base_uri": "https://localhost:8080/",
          "height": 173
        },
        "outputId": "aa3f254f-cf7e-4730-aa05-017c87d0369b"
      },
      "source": [
        "compare_train_and_test(convolutional_with_hyperparameter_model, normalize_x_train, y_train, normalize_x_test, y_test).transpose()"
      ],
      "execution_count": null,
      "outputs": [
        {
          "output_type": "execute_result",
          "data": {
            "text/html": [
              "<div>\n",
              "<style scoped>\n",
              "    .dataframe tbody tr th:only-of-type {\n",
              "        vertical-align: middle;\n",
              "    }\n",
              "\n",
              "    .dataframe tbody tr th {\n",
              "        vertical-align: top;\n",
              "    }\n",
              "\n",
              "    .dataframe thead th {\n",
              "        text-align: right;\n",
              "    }\n",
              "</style>\n",
              "<table border=\"1\" class=\"dataframe\">\n",
              "  <thead>\n",
              "    <tr style=\"text-align: right;\">\n",
              "      <th></th>\n",
              "      <th>Data Train</th>\n",
              "      <th>Data Test</th>\n",
              "    </tr>\n",
              "  </thead>\n",
              "  <tbody>\n",
              "    <tr>\n",
              "      <th>Accuracy</th>\n",
              "      <td>0.709100</td>\n",
              "      <td>0.657400</td>\n",
              "    </tr>\n",
              "    <tr>\n",
              "      <th>Sensitivity</th>\n",
              "      <td>0.578195</td>\n",
              "      <td>0.534345</td>\n",
              "    </tr>\n",
              "    <tr>\n",
              "      <th>Specificity</th>\n",
              "      <td>0.986873</td>\n",
              "      <td>0.982905</td>\n",
              "    </tr>\n",
              "    <tr>\n",
              "      <th>F1 Score</th>\n",
              "      <td>0.679644</td>\n",
              "      <td>0.629716</td>\n",
              "    </tr>\n",
              "  </tbody>\n",
              "</table>\n",
              "</div>"
            ],
            "text/plain": [
              "             Data Train   Data Test \n",
              "Accuracy        0.709100    0.657400\n",
              "Sensitivity     0.578195    0.534345\n",
              "Specificity     0.986873    0.982905\n",
              "F1 Score        0.679644    0.629716"
            ]
          },
          "metadata": {
            "tags": []
          },
          "execution_count": 117
        }
      ]
    },
    {
      "cell_type": "markdown",
      "metadata": {
        "id": "xbBbzsw5EbL4"
      },
      "source": [
        "4. Analisis hasil yang anda dapatkan untuk masing-masing skenario."
      ]
    },
    {
      "cell_type": "markdown",
      "metadata": {
        "id": "rRD4bX_2Edd8"
      },
      "source": [
        "- Untuk skenario pertama, melakukan penambahan _layer_, ternyata pada epoch ketiga sudah _convergent_. Hal ini ditunjukkan ketika kita lanjutkan _learning_-nya hingga _epoch_ ke-$10$, pada saat evaluasi perbedaan akurasi kedua model cukup jauh dan menyebabkan model sudah _overfitting_ pada bila melakukan train hingga _epoch_ ke-$10$. Hasil skenario pertama juga menunjukkan bahwa menambah layer meningkatkan akurasi model. Hal ini juga didukung dengan menambahkan layer dapat memodelkan suatu permasalahan yang lebih kompleks/spesifik.\n",
        "- Untuk skenario kedua, melakukan _hyperparameter tuning_ dengan merubah _optimizer_ dari $\\text{Adam}$ menjadi $\\text{Stochastic Gradient Descent}$ tidak dapat meningkatkan akurasi dari model.\n",
        "- Belum ditest lebih lanjut untuk merubah parameter _learning rate_ dikarenakan koneksi internet tidak memadai dan sering disconnect pada saat eksperimen menggunakan Google Collab. Sudah menggunakan laptop pribadi tetapi ternyata waktu eksperimennya memakan waktu bila dijalankan di _local_."
      ]
    },
    {
      "cell_type": "markdown",
      "metadata": {
        "id": "ZXWbJu6fFpcR"
      },
      "source": [
        "### C. Bandingkan hasil yang anda peroleh dari poin A dan Poin B, berikan analisis dari hasil anda"
      ]
    },
    {
      "cell_type": "markdown",
      "metadata": {
        "id": "Hnrtk02nFvgF"
      },
      "source": [
        "- Ambil model terbaik dari $\\text{Poin A}$ adalah **metode eksperimen gabungan semua skenario**, dan model terbaik dari $\\text{Poin B}$ adalah **metode eksperimen menambahkan layer**.\n",
        "- Kita bisa lihat bahwa model terbaik dari $\\text{Poin B}$ memiliki metric $\\text{Accuracy}$ yang lebih baik dibandingkan dengan model terbaik dari $\\text{Poin A}$.\n",
        "- Hal menunjukkan bahwa klasifikasi citra lebih apabila menggunakan $\\text{Convolutional Neural Network}$ dibandingkan $\\text{Fully Connected Neural Network}$.\n",
        "- Hal ini didasari dengan klasifikasi citra menggunakan $\\text{Fully Connected Neural Network}$ memperlakukan input piksel masing-masing citra sebagai suatu hal yang berdiri sendiri, berbeda dengan $\\text{Convolutional Neural Network}$ yang memperlakukan input piksel sebagai suatu yang berdiri dalam kelompok."
      ]
    }
  ]
}