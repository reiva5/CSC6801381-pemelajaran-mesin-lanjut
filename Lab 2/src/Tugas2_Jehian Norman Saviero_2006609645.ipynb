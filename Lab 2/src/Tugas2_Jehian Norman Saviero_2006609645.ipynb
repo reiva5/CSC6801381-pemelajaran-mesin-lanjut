{
  "nbformat": 4,
  "nbformat_minor": 0,
  "metadata": {
    "kernelspec": {
      "display_name": "Python 3",
      "language": "python",
      "name": "python3"
    },
    "language_info": {
      "codemirror_mode": {
        "name": "ipython",
        "version": 3
      },
      "file_extension": ".py",
      "mimetype": "text/x-python",
      "name": "python",
      "nbconvert_exporter": "python",
      "pygments_lexer": "ipython3",
      "version": "3.6.9"
    },
    "colab": {
      "name": "Tugas2_Jehian Norman Saviero_2006609645.ipynb",
      "provenance": []
    }
  },
  "cells": [
    {
      "cell_type": "code",
      "metadata": {
        "id": "_UkWLwx1Lxq-"
      },
      "source": [
        "import numpy as np\n",
        "import matplotlib.pyplot as plt\n",
        "import pandas as pd\n",
        "import random\n",
        "import tensorflow as tf\n",
        "\n",
        "from skimage import color, exposure, filters, io, morphology, util\n",
        "from math import sqrt\n",
        "from numpy import loadtxt\n",
        "from tensorflow import keras\n",
        "from keras import backend as K\n",
        "from keras.models import Sequential\n",
        "from keras.layers import Dense\n",
        "from keras.optimizers import SGD"
      ],
      "execution_count": 1,
      "outputs": []
    },
    {
      "cell_type": "markdown",
      "metadata": {
        "id": "iUHtdMWtMKT_"
      },
      "source": [
        "### A. _Fully Connected Neural Networks_\n",
        "1. Lakukan klasifikasi untuk dataset cifar menggunakan **_Fully Connected Neural Networks_** dengan arsitektur dasar sebagai berikut:\n",
        "    - _Fully Connected Layer_ ($1000$ _hidden node_).\n",
        "    - _Activation Layer_ ($\\text{ReLU function}$).\n",
        "    - _Fully Connected Layer_ ($1000$ _hidden node_)\n",
        "    - _Activation Layer_ ($\\text{ReLU function}$).\n",
        "    - _Output Layer_ (10 kelas).\n",
        "    - _Activation Layer_ ($\\text{Softmax function}$).\n",
        "    - _Classification Result_.\n",
        "\n",
        "Fitur yang digunakan bebas (_handcrafted_/_non-convolution_). Hitung metrik ($\\text{accuracy}$, $\\text{sensitivity}$, $\\text{specificity}$, dan $f_{1}\\text{ score}$) untuk data train dan data test."
      ]
    },
    {
      "cell_type": "markdown",
      "metadata": {
        "id": "pYyeOEI2FyIW"
      },
      "source": [
        "#### Mendefinisikan Fungsi Bantuan\n",
        "Untuk memudahkan implementasi, berikut beberapa fungsi bantuan yang akan dipakai"
      ]
    },
    {
      "cell_type": "markdown",
      "metadata": {
        "id": "sGhJfOY7F9Ba"
      },
      "source": [
        "##### Menghitung $\\text{recall}$ atau $\\text{sensitivity}$\n",
        "$$\\text{recall} = \\frac{t_p}{t_p+t_n}$$"
      ]
    },
    {
      "cell_type": "code",
      "metadata": {
        "id": "H7Gs8hIdeEIM"
      },
      "source": [
        "def recall(y_true, y_pred): \n",
        "  true_positives = K.sum(K.round(K.clip(y_true * y_pred, 0, 1)))\n",
        "  possible_positives = K.sum(K.round(K.clip(y_true, 0, 1)))\n",
        "  return true_positives / (possible_positives + K.epsilon())"
      ],
      "execution_count": 2,
      "outputs": []
    },
    {
      "cell_type": "markdown",
      "metadata": {
        "id": "BPeOb1sCLoHc"
      },
      "source": [
        "##### Menghitung $\\text{precision}$\n",
        "$$\\text{precision} = \\frac{t_p}{t_p + f_p}$$"
      ]
    },
    {
      "cell_type": "code",
      "metadata": {
        "id": "J8S7McQZLsHs"
      },
      "source": [
        "def precision(y_true, y_pred):\n",
        "  true_positives = K.sum(K.round(K.clip(y_true * y_pred, 0, 1)))\n",
        "  predicted_positives = K.sum(K.round(K.clip(y_pred, 0, 1)))\n",
        "  return true_positives / (predicted_positives + K.epsilon())"
      ],
      "execution_count": 3,
      "outputs": []
    },
    {
      "cell_type": "markdown",
      "metadata": {
        "id": "hwgynhuqMU8f"
      },
      "source": [
        "##### Menghitung $\\text{specificity}$\n",
        "$$\\text{specificity} = \\frac{t_n}{t_n + f_p}$$"
      ]
    },
    {
      "cell_type": "code",
      "metadata": {
        "id": "L0pJ0OO6M21C"
      },
      "source": [
        "def specificity(y_true, y_pred):\n",
        "  true_negatives = K.sum(K.round(K.clip((1 - y_true) * (1 - y_pred), 0, 1)))\n",
        "  possible_negatives = K.sum(K.round(K.clip(1 - y_true, 0, 1)))\n",
        "  return true_negatives / (possible_negatives + K.epsilon())"
      ],
      "execution_count": 4,
      "outputs": []
    },
    {
      "cell_type": "markdown",
      "metadata": {
        "id": "hb5zxKH7NDif"
      },
      "source": [
        "##### Menghitung $f_{1}\\text{ Score}$\n",
        "Kita tau bahwa\n",
        "$$f_{\\beta} = (1 + \\beta^{2}) \\cdot \\frac{\\text{precition} \\cdot \\text{recall}}{(\\beta^{2} \\cdot \\text{precision}) + \\text{recall}}$$\n",
        "Sehingga \n",
        "$$f_{1} = (1 + 1^{2}) \\cdot \\frac{\\text{precition} \\cdot \\text{recall}}{(1^{2} \\cdot \\text{precision}) + \\text{recall}}$$\n",
        "$$f_{1} = (2) \\cdot \\frac{\\text{precition} \\cdot \\text{recall}}{(\\text{precision}) + \\text{recall}}$$\n",
        "\n"
      ]
    },
    {
      "cell_type": "code",
      "metadata": {
        "id": "CAvpJm0mNXDH"
      },
      "source": [
        "def f1_score(y_true, y_pred):\n",
        "  precision_val = precision(y_true, y_pred)\n",
        "  recall_val = recall(y_true, y_pred)\n",
        "  return 2*((precision_val * recall_val)/(precision_val + recall_val + K.epsilon()))"
      ],
      "execution_count": 5,
      "outputs": []
    },
    {
      "cell_type": "markdown",
      "metadata": {
        "id": "MJuaKKBEO4QX"
      },
      "source": [
        "**n.b.: Semua fungsi pada bagian penyebut ditambah epsilon untuk menghindari dibagi $0$ dikarenakan memasukkan input sebanyak $0$**"
      ]
    },
    {
      "cell_type": "code",
      "metadata": {
        "id": "zkfajhUQ6zyP"
      },
      "source": [
        "def predict_and_print_metrics(model, x_test, y_test):\n",
        "  _, accuracy, sensitivity, specificity, score_f1 = model.evaluate(x_test, y_test, verbose=0)\n",
        "  print(\"Accuracy: %.9f\" % (accuracy))\n",
        "  print(\"Sensitivity: %.9f\" % (sensitivity))\n",
        "  print(\"Specificity: %.9f\" % (specificity))\n",
        "  print(\"F1 Score: %.9f\" % (score_f1))"
      ],
      "execution_count": 25,
      "outputs": []
    },
    {
      "cell_type": "markdown",
      "metadata": {
        "id": "LVxJChOEOtBi"
      },
      "source": [
        "##### Fungsi Bantuan untuk _Load Dataset_"
      ]
    },
    {
      "cell_type": "code",
      "metadata": {
        "id": "08UNFWeTOxco"
      },
      "source": [
        "def load_dataset():\n",
        "\t(trainX, trainY), (testX, testY) = keras.datasets.cifar10.load_data()\n",
        "\ttrainY = tf.keras.utils.to_categorical(trainY) ## Di ubah ke matrix persegi representasi binari\n",
        "\ttestY = tf.keras.utils.to_categorical(testY) ## Di ubah ke matrix persegi representasi binari\n",
        "\treturn trainX, trainY, testX, testY"
      ],
      "execution_count": 6,
      "outputs": []
    },
    {
      "cell_type": "markdown",
      "metadata": {
        "id": "zv9BtCLp2u5H"
      },
      "source": [
        "#### Load Dataset"
      ]
    },
    {
      "cell_type": "code",
      "metadata": {
        "id": "vTjrGfhRLxrE"
      },
      "source": [
        "x_train, y_train, x_test, y_test = load_dataset()"
      ],
      "execution_count": 7,
      "outputs": []
    },
    {
      "cell_type": "markdown",
      "metadata": {
        "id": "mAFk5_LI9X9v"
      },
      "source": [
        "#### Membangun Model _Fully Connected Neural Network_ dengan spesifikasi minimum memenuhi deskripsi Lab"
      ]
    },
    {
      "cell_type": "code",
      "metadata": {
        "id": "Kmnfvpq3LxrI",
        "outputId": "51a21bb4-990a-4cff-d354-65d5da2fbe62",
        "colab": {
          "base_uri": "https://localhost:8080/",
          "height": 34
        }
      },
      "source": [
        "## Melakukan inisialisasi node per layer\n",
        "nodes_per_layer = [1000, 1000, 10]\n",
        "activation_function_per_layer = [tf.nn.relu, tf.nn.relu, tf.nn.softmax]\n",
        "\n",
        "## Inisialisasi Layer Model Parameter\n",
        "layers = []\n",
        "layers.append(tf.keras.layers.Flatten())\n",
        "\n",
        "## Menyisipkan parameter node dan fungsi aktivasinya\n",
        "for i in range(len(nodes_per_layer)):\n",
        "  node = nodes_per_layer[i]\n",
        "  activation = activation_function_per_layer[i]\n",
        "  layers.append(keras.layers.Dense(node, activation=activation))\n",
        "\n",
        "## Mendefinisikan model\n",
        "model = Sequential(layers)\n",
        "\n",
        "## Membangun model\n",
        "model.build(input_shape=x_train.shape)\n",
        "model.output_shape"
      ],
      "execution_count": 8,
      "outputs": [
        {
          "output_type": "execute_result",
          "data": {
            "text/plain": [
              "(50000, 10)"
            ]
          },
          "metadata": {
            "tags": []
          },
          "execution_count": 8
        }
      ]
    },
    {
      "cell_type": "markdown",
      "metadata": {
        "id": "SrnHRVZuQ0lj"
      },
      "source": [
        "#### Melakukan kompilasi ke dalam model"
      ]
    },
    {
      "cell_type": "code",
      "metadata": {
        "id": "JAWVwVj9M9ky"
      },
      "source": [
        "model.compile(\n",
        "    optimizer=tf.optimizers.Adam(0.001),\n",
        "    loss='categorical_crossentropy',\n",
        "    metrics=[\n",
        "      'accuracy',\n",
        "      recall,\n",
        "      specificity,\n",
        "      f1_score\n",
        "    ])"
      ],
      "execution_count": 9,
      "outputs": []
    },
    {
      "cell_type": "markdown",
      "metadata": {
        "id": "JCeP_L31Q22u"
      },
      "source": [
        "#### Melakukan Fitting"
      ]
    },
    {
      "cell_type": "code",
      "metadata": {
        "id": "P2GXVW5dZd0c",
        "outputId": "8f40247f-3e18-4ed5-98e0-501591338ff8",
        "colab": {
          "base_uri": "https://localhost:8080/",
          "height": 377
        }
      },
      "source": [
        "beginning_hist = model.fit(x_train, y_train, epochs=10, batch_size=5000, validation_data=(x_test,y_test), use_multiprocessing=True)"
      ],
      "execution_count": 10,
      "outputs": [
        {
          "output_type": "stream",
          "text": [
            "Epoch 1/10\n",
            "10/10 [==============================] - 16s 2s/step - loss: 1628.5453 - accuracy: 0.1072 - recall: 0.1072 - specificity: 0.9008 - f1_score: 0.1072 - val_loss: 900.7686 - val_accuracy: 0.1000 - val_recall: 0.1000 - val_specificity: 0.9000 - val_f1_score: 0.1000\n",
            "Epoch 2/10\n",
            "10/10 [==============================] - 16s 2s/step - loss: 271.6966 - accuracy: 0.1099 - recall: 0.1099 - specificity: 0.9011 - f1_score: 0.1099 - val_loss: 65.4536 - val_accuracy: 0.0983 - val_recall: 0.0979 - val_specificity: 0.8999 - val_f1_score: 0.0980\n",
            "Epoch 3/10\n",
            "10/10 [==============================] - 15s 2s/step - loss: 42.3713 - accuracy: 0.1222 - recall: 0.1215 - specificity: 0.9033 - f1_score: 0.1220 - val_loss: 22.3440 - val_accuracy: 0.1498 - val_recall: 0.1483 - val_specificity: 0.9068 - val_f1_score: 0.1492\n",
            "Epoch 4/10\n",
            "10/10 [==============================] - 15s 2s/step - loss: 12.5823 - accuracy: 0.1404 - recall: 0.1329 - specificity: 0.9107 - f1_score: 0.1371 - val_loss: 4.5477 - val_accuracy: 0.1340 - val_recall: 0.1001 - val_specificity: 0.9323 - val_f1_score: 0.1171\n",
            "Epoch 5/10\n",
            "10/10 [==============================] - 15s 2s/step - loss: 3.2060 - accuracy: 0.1135 - recall: 0.0333 - specificity: 0.9730 - f1_score: 0.0449 - val_loss: 2.3052 - val_accuracy: 0.1275 - val_recall: 7.0000e-04 - val_specificity: 0.9997 - val_f1_score: 0.0014\n",
            "Epoch 6/10\n",
            "10/10 [==============================] - 15s 2s/step - loss: 2.3059 - accuracy: 0.1096 - recall: 4.8000e-04 - specificity: 0.9999 - f1_score: 9.5786e-04 - val_loss: 2.3028 - val_accuracy: 0.1012 - val_recall: 0.0000e+00 - val_specificity: 0.9999 - val_f1_score: 0.0000e+00\n",
            "Epoch 7/10\n",
            "10/10 [==============================] - 15s 2s/step - loss: 2.3032 - accuracy: 0.1009 - recall: 3.0000e-04 - specificity: 1.0000 - f1_score: 5.9949e-04 - val_loss: 2.3028 - val_accuracy: 0.0994 - val_recall: 0.0000e+00 - val_specificity: 0.9999 - val_f1_score: 0.0000e+00\n",
            "Epoch 8/10\n",
            "10/10 [==============================] - 15s 2s/step - loss: 2.3021 - accuracy: 0.1005 - recall: 2.4000e-04 - specificity: 1.0000 - f1_score: 4.7968e-04 - val_loss: 2.3030 - val_accuracy: 0.0994 - val_recall: 0.0000e+00 - val_specificity: 0.9999 - val_f1_score: 0.0000e+00\n",
            "Epoch 9/10\n",
            "10/10 [==============================] - 15s 2s/step - loss: 2.3017 - accuracy: 0.1007 - recall: 2.6000e-04 - specificity: 1.0000 - f1_score: 5.1972e-04 - val_loss: 2.3030 - val_accuracy: 0.1011 - val_recall: 0.0000e+00 - val_specificity: 0.9999 - val_f1_score: 0.0000e+00\n",
            "Epoch 10/10\n",
            "10/10 [==============================] - 16s 2s/step - loss: 2.3013 - accuracy: 0.1014 - recall: 3.2000e-04 - specificity: 1.0000 - f1_score: 6.3957e-04 - val_loss: 2.3030 - val_accuracy: 0.1011 - val_recall: 0.0000e+00 - val_specificity: 0.9999 - val_f1_score: 0.0000e+00\n"
          ],
          "name": "stdout"
        }
      ]
    },
    {
      "cell_type": "markdown",
      "metadata": {
        "id": "mc5VMtrmTJZl"
      },
      "source": [
        "#### Melakukan Prediksi ke _Data Test_ dan Menampilkan _Metric_-nya"
      ]
    },
    {
      "cell_type": "code",
      "metadata": {
        "id": "yRdERNwKaIW-",
        "outputId": "5435d537-711d-4c25-b0d4-4d89cfadcca4",
        "colab": {
          "base_uri": "https://localhost:8080/",
          "height": 85
        }
      },
      "source": [
        "predict_and_print_metrics(model, x_test, y_test)"
      ],
      "execution_count": 26,
      "outputs": [
        {
          "output_type": "stream",
          "text": [
            "Accuracy: 0.101099998\n",
            "Sensitivity: 0.000000000\n",
            "Specificity: 0.999944508\n",
            "F1 Score: 0.000000000\n"
          ],
          "name": "stdout"
        }
      ]
    },
    {
      "cell_type": "markdown",
      "metadata": {
        "id": "_d9EEUDNV1hq"
      },
      "source": [
        "2. Anda dapat memperbaiki hasil yang diperoleh dengan melakukan  (tiga) skenario eksperimen, yaitu: _feature engineering_, menambahkan _layer_, dan _hyperparameter tuning_ (pada classifier)."
      ]
    },
    {
      "cell_type": "markdown",
      "metadata": {
        "id": "0j6xlAZ4Xf6f"
      },
      "source": [
        "#### _Feature Engineering_"
      ]
    },
    {
      "cell_type": "markdown",
      "metadata": {
        "id": "L-QLq6iZZUm9"
      },
      "source": [
        "- Untuk _feature engineering_ pada sesi lab kali ini, akan dilakukan normalisasi input agar berada pada rentang $[0...1]$."
      ]
    },
    {
      "cell_type": "code",
      "metadata": {
        "id": "E_ZonltpXckB"
      },
      "source": [
        "def normalize(x):\n",
        "  return x / 255.0\n",
        "\n",
        "normalize_x_train = normalize(x_train)\n",
        "normalize_x_test = normalize(x_test)"
      ],
      "execution_count": 38,
      "outputs": []
    },
    {
      "cell_type": "markdown",
      "metadata": {
        "id": "HZv5jAjTCD9e"
      },
      "source": [
        "##### Membangun Model _Fully Connected Neural Network_ sebagai _dedicated model_ untuk eksperimen _Feature Engineering_"
      ]
    },
    {
      "cell_type": "code",
      "metadata": {
        "id": "NwEDxmrW5hfM",
        "outputId": "02782bb1-b887-413d-bcad-0b11fb96801b",
        "colab": {
          "base_uri": "https://localhost:8080/",
          "height": 34
        }
      },
      "source": [
        "## Melakukan inisialisasi node per layer\n",
        "nodes_per_layer_for_feature_engineering = [1000, 1000, 10]\n",
        "activation_function_per_layer_for_feature_engineering = [tf.nn.relu, tf.nn.relu, tf.nn.softmax]\n",
        "\n",
        "## Inisialisasi Layer Model Parameter\n",
        "layers_for_feature_engineering = []\n",
        "layers_for_feature_engineering.append(tf.keras.layers.Flatten())\n",
        "\n",
        "## Menyisipkan parameter node dan fungsi aktivasinya\n",
        "for i in range(len(nodes_per_layer_for_feature_engineering)):\n",
        "  node = nodes_per_layer_for_feature_engineering[i]\n",
        "  activation = activation_function_per_layer_for_feature_engineering[i]\n",
        "  layers_for_feature_engineering.append(keras.layers.Dense(node, activation=activation))\n",
        "\n",
        "## Mendefinisikan model\n",
        "model_for_feature_engineering = Sequential(layers_for_feature_engineering)\n",
        "\n",
        "## Membangun model\n",
        "model_for_feature_engineering.build(input_shape=x_train.shape)\n",
        "model_for_feature_engineering.output_shape"
      ],
      "execution_count": 39,
      "outputs": [
        {
          "output_type": "execute_result",
          "data": {
            "text/plain": [
              "(50000, 10)"
            ]
          },
          "metadata": {
            "tags": []
          },
          "execution_count": 39
        }
      ]
    },
    {
      "cell_type": "markdown",
      "metadata": {
        "id": "JAU3M-8SCYQq"
      },
      "source": [
        "##### Melakukan kompilasi ke dalam model"
      ]
    },
    {
      "cell_type": "code",
      "metadata": {
        "id": "apJ3siNf5-TL"
      },
      "source": [
        "model_for_feature_engineering.compile(\n",
        "    optimizer=tf.optimizers.Adam(0.001),\n",
        "    loss='categorical_crossentropy',\n",
        "    metrics=[\n",
        "      'accuracy',\n",
        "      recall,\n",
        "      specificity,\n",
        "      f1_score\n",
        "    ])"
      ],
      "execution_count": 40,
      "outputs": []
    },
    {
      "cell_type": "markdown",
      "metadata": {
        "id": "MVBu6q_OC_-S"
      },
      "source": [
        "##### Melakukan _fitting_"
      ]
    },
    {
      "cell_type": "code",
      "metadata": {
        "id": "bDEXGljoZ8Fy",
        "outputId": "9d6a9e1d-ce3c-45f6-f15e-cd3f064e424c",
        "colab": {
          "base_uri": "https://localhost:8080/",
          "height": 377
        }
      },
      "source": [
        "feature_engineering_hist = model_for_feature_engineering.fit(normalize_x_train, y_train, epochs=10, batch_size=5000, validation_data=(normalize_x_test, y_test), use_multiprocessing=True)"
      ],
      "execution_count": 41,
      "outputs": [
        {
          "output_type": "stream",
          "text": [
            "Epoch 1/10\n",
            "10/10 [==============================] - 15s 2s/step - loss: 3.6769 - accuracy: 0.1210 - recall: 0.0182 - specificity: 0.9867 - f1_score: 0.0250 - val_loss: 2.3240 - val_accuracy: 0.1288 - val_recall: 0.0000e+00 - val_specificity: 1.0000 - val_f1_score: 0.0000e+00\n",
            "Epoch 2/10\n",
            "10/10 [==============================] - 15s 1s/step - loss: 2.2371 - accuracy: 0.1627 - recall: 0.0000e+00 - specificity: 1.0000 - f1_score: 0.0000e+00 - val_loss: 2.1277 - val_accuracy: 0.2018 - val_recall: 0.0000e+00 - val_specificity: 1.0000 - val_f1_score: 0.0000e+00\n",
            "Epoch 3/10\n",
            "10/10 [==============================] - 15s 1s/step - loss: 2.0700 - accuracy: 0.2424 - recall: 9.8000e-04 - specificity: 0.9999 - f1_score: 0.0019 - val_loss: 2.0168 - val_accuracy: 0.2758 - val_recall: 0.0080 - val_specificity: 0.9994 - val_f1_score: 0.0158\n",
            "Epoch 4/10\n",
            "10/10 [==============================] - 15s 1s/step - loss: 1.9709 - accuracy: 0.2896 - recall: 0.0117 - specificity: 0.9990 - f1_score: 0.0228 - val_loss: 1.9310 - val_accuracy: 0.3115 - val_recall: 0.0195 - val_specificity: 0.9988 - val_f1_score: 0.0378\n",
            "Epoch 5/10\n",
            "10/10 [==============================] - 15s 1s/step - loss: 1.8893 - accuracy: 0.3307 - recall: 0.0333 - specificity: 0.9978 - f1_score: 0.0630 - val_loss: 1.8523 - val_accuracy: 0.3442 - val_recall: 0.0462 - val_specificity: 0.9974 - val_f1_score: 0.0864\n",
            "Epoch 6/10\n",
            "10/10 [==============================] - 15s 1s/step - loss: 1.8222 - accuracy: 0.3578 - recall: 0.0566 - specificity: 0.9967 - f1_score: 0.1042 - val_loss: 1.7931 - val_accuracy: 0.3726 - val_recall: 0.0749 - val_specificity: 0.9959 - val_f1_score: 0.1347\n",
            "Epoch 7/10\n",
            "10/10 [==============================] - 15s 1s/step - loss: 1.7744 - accuracy: 0.3747 - recall: 0.0787 - specificity: 0.9955 - f1_score: 0.1406 - val_loss: 1.7571 - val_accuracy: 0.3745 - val_recall: 0.0863 - val_specificity: 0.9953 - val_f1_score: 0.1529\n",
            "Epoch 8/10\n",
            "10/10 [==============================] - 15s 1s/step - loss: 1.7404 - accuracy: 0.3828 - recall: 0.0960 - specificity: 0.9945 - f1_score: 0.1675 - val_loss: 1.7192 - val_accuracy: 0.3941 - val_recall: 0.1048 - val_specificity: 0.9942 - val_f1_score: 0.1812\n",
            "Epoch 9/10\n",
            "10/10 [==============================] - 15s 1s/step - loss: 1.7075 - accuracy: 0.3962 - recall: 0.1105 - specificity: 0.9937 - f1_score: 0.1892 - val_loss: 1.6902 - val_accuracy: 0.4055 - val_recall: 0.1288 - val_specificity: 0.9924 - val_f1_score: 0.2151\n",
            "Epoch 10/10\n",
            "10/10 [==============================] - 15s 1s/step - loss: 1.6807 - accuracy: 0.4056 - recall: 0.1236 - specificity: 0.9933 - f1_score: 0.2086 - val_loss: 1.6749 - val_accuracy: 0.4053 - val_recall: 0.1301 - val_specificity: 0.9928 - val_f1_score: 0.2177\n"
          ],
          "name": "stdout"
        }
      ]
    },
    {
      "cell_type": "markdown",
      "metadata": {
        "id": "UnRnLzWsDQXd"
      },
      "source": [
        "#### Melakukan Prediksi ke _Data Test_ dan Menampilkan _Metric_-nya"
      ]
    },
    {
      "cell_type": "code",
      "metadata": {
        "id": "pGPHffRr6uOb",
        "outputId": "96eb3b03-20d1-4b0b-b9c9-e724e231bfd2",
        "colab": {
          "base_uri": "https://localhost:8080/",
          "height": 85
        }
      },
      "source": [
        "predict_and_print_metrics(model_for_feature_engineering, normalize_x_test, y_test)"
      ],
      "execution_count": 42,
      "outputs": [
        {
          "output_type": "stream",
          "text": [
            "Accuracy: 0.405299991\n",
            "Sensitivity: 0.129992008\n",
            "Specificity: 0.992755175\n",
            "F1 Score: 0.213728368\n"
          ],
          "name": "stdout"
        }
      ]
    },
    {
      "cell_type": "markdown",
      "metadata": {
        "id": "SLnv9eLa1MeU"
      },
      "source": [
        "#### Menambahkan _Layer_"
      ]
    },
    {
      "cell_type": "markdown",
      "metadata": {
        "id": "ckS1GwFf1WBW"
      },
      "source": [
        "- Untuk eksperimen menambahkan _layer_ pada sesi laboratorium kali ini, saya akan menambahkan layer dua buah _hidden layer_ lagi dengan jumlah _node_ sama dengan _hidden layer_ yang lain."
      ]
    },
    {
      "cell_type": "markdown",
      "metadata": {
        "id": "72UA-P0BDup1"
      },
      "source": [
        "##### Membangun Model _Fully Connected Neural Network_ sebagai _dedicated model_ untuk eksperimen Menambahkan _Layer_"
      ]
    },
    {
      "cell_type": "code",
      "metadata": {
        "id": "uoGiqNj81QML",
        "outputId": "874219a2-c8f9-4cee-f2ea-aee9f333f2ce",
        "colab": {
          "base_uri": "https://localhost:8080/",
          "height": 34
        }
      },
      "source": [
        "## Melakukan inisialisasi node per layer\n",
        "nodes_per_new_layer = [1000, 1000, 1000, 1000, 10]\n",
        "activation_function_per_new_layer = [tf.nn.relu, tf.nn.relu, tf.nn.relu, tf.nn.relu, tf.nn.softmax]\n",
        "\n",
        "## Inisialisasi Layer Model Parameter\n",
        "new_layers = []\n",
        "new_layers.append(tf.keras.layers.Flatten())\n",
        "\n",
        "## Menyisipkan parameter node dan fungsi aktivasinya\n",
        "for i in range(len(nodes_per_new_layer)):\n",
        "  node = nodes_per_new_layer[i]\n",
        "  activation = activation_function_per_new_layer[i]\n",
        "  new_layers.append(keras.layers.Dense(node, activation=activation))\n",
        "\n",
        "## Mendefinisikan model\n",
        "new_model = Sequential(new_layers)\n",
        "\n",
        "## Membangun model\n",
        "new_model.build(input_shape=x_train.shape)\n",
        "new_model.output_shape"
      ],
      "execution_count": 11,
      "outputs": [
        {
          "output_type": "execute_result",
          "data": {
            "text/plain": [
              "(50000, 10)"
            ]
          },
          "metadata": {
            "tags": []
          },
          "execution_count": 11
        }
      ]
    },
    {
      "cell_type": "markdown",
      "metadata": {
        "id": "5UNpNJYnEERv"
      },
      "source": [
        "##### Melakukan kompilasi ke dalam model"
      ]
    },
    {
      "cell_type": "code",
      "metadata": {
        "id": "C9Agzyxj19xN"
      },
      "source": [
        "new_model.compile(\n",
        "    optimizer=tf.optimizers.Adam(0.001),\n",
        "    loss='categorical_crossentropy',\n",
        "    metrics=[\n",
        "      'accuracy',\n",
        "      recall,\n",
        "      specificity,\n",
        "      f1_score\n",
        "    ])"
      ],
      "execution_count": 14,
      "outputs": []
    },
    {
      "cell_type": "markdown",
      "metadata": {
        "id": "GVihcJe8EJwM"
      },
      "source": [
        "##### Melakukan _fitting_"
      ]
    },
    {
      "cell_type": "code",
      "metadata": {
        "id": "dfFaOzlp1_UB",
        "outputId": "868c803b-d734-4ebb-b309-adb49d6402be",
        "colab": {
          "base_uri": "https://localhost:8080/",
          "height": 377
        }
      },
      "source": [
        "new_model_hist = new_model.fit(x_train, y_train, epochs=10, batch_size=5000, validation_data=(x_test, y_test), use_multiprocessing=True)"
      ],
      "execution_count": 15,
      "outputs": [
        {
          "output_type": "stream",
          "text": [
            "Epoch 1/10\n",
            "10/10 [==============================] - 25s 3s/step - loss: 518.4105 - accuracy: 0.0992 - recall: 0.0991 - specificity: 0.9000 - f1_score: 0.0992 - val_loss: 117.4641 - val_accuracy: 0.1032 - val_recall: 0.1032 - val_specificity: 0.9004 - val_f1_score: 0.1032\n",
            "Epoch 2/10\n",
            "10/10 [==============================] - 25s 2s/step - loss: 99.3295 - accuracy: 0.1021 - recall: 0.1019 - specificity: 0.9005 - f1_score: 0.1020 - val_loss: 46.6571 - val_accuracy: 0.1027 - val_recall: 0.1027 - val_specificity: 0.9003 - val_f1_score: 0.1027\n",
            "Epoch 3/10\n",
            "10/10 [==============================] - 25s 3s/step - loss: 30.8576 - accuracy: 0.1068 - recall: 0.1062 - specificity: 0.9014 - f1_score: 0.1065 - val_loss: 7.8620 - val_accuracy: 0.1195 - val_recall: 0.1049 - val_specificity: 0.9178 - val_f1_score: 0.1138\n",
            "Epoch 4/10\n",
            "10/10 [==============================] - 25s 2s/step - loss: 7.9246 - accuracy: 0.1112 - recall: 0.1008 - specificity: 0.9127 - f1_score: 0.1066 - val_loss: 4.6546 - val_accuracy: 0.1335 - val_recall: 0.0890 - val_specificity: 0.9442 - val_f1_score: 0.1118\n",
            "Epoch 5/10\n",
            "10/10 [==============================] - 25s 2s/step - loss: 3.4803 - accuracy: 0.1401 - recall: 0.0524 - specificity: 0.9674 - f1_score: 0.0753 - val_loss: 2.5137 - val_accuracy: 0.1671 - val_recall: 0.0181 - val_specificity: 0.9921 - val_f1_score: 0.0332\n",
            "Epoch 6/10\n",
            "10/10 [==============================] - 25s 3s/step - loss: 2.2777 - accuracy: 0.1921 - recall: 0.0180 - specificity: 0.9955 - f1_score: 0.0337 - val_loss: 2.1323 - val_accuracy: 0.2263 - val_recall: 0.0153 - val_specificity: 0.9971 - val_f1_score: 0.0294\n",
            "Epoch 7/10\n",
            "10/10 [==============================] - 25s 2s/step - loss: 2.0565 - accuracy: 0.2551 - recall: 0.0282 - specificity: 0.9965 - f1_score: 0.0531 - val_loss: 1.9888 - val_accuracy: 0.2816 - val_recall: 0.0388 - val_specificity: 0.9965 - val_f1_score: 0.0725\n",
            "Epoch 8/10\n",
            "10/10 [==============================] - 25s 3s/step - loss: 1.9476 - accuracy: 0.2995 - recall: 0.0527 - specificity: 0.9954 - f1_score: 0.0962 - val_loss: 1.9192 - val_accuracy: 0.3115 - val_recall: 0.0665 - val_specificity: 0.9941 - val_f1_score: 0.1188\n",
            "Epoch 9/10\n",
            "10/10 [==============================] - 25s 2s/step - loss: 1.8869 - accuracy: 0.3208 - recall: 0.0740 - specificity: 0.9941 - f1_score: 0.1312 - val_loss: 1.8713 - val_accuracy: 0.3267 - val_recall: 0.0732 - val_specificity: 0.9943 - val_f1_score: 0.1302\n",
            "Epoch 10/10\n",
            "10/10 [==============================] - 25s 2s/step - loss: 1.8440 - accuracy: 0.3374 - recall: 0.0846 - specificity: 0.9937 - f1_score: 0.1482 - val_loss: 1.8406 - val_accuracy: 0.3383 - val_recall: 0.0916 - val_specificity: 0.9935 - val_f1_score: 0.1593\n"
          ],
          "name": "stdout"
        }
      ]
    },
    {
      "cell_type": "markdown",
      "metadata": {
        "id": "43G2qJwGENvr"
      },
      "source": [
        "##### Melakukan Prediksi ke _Data Test_ dan Menampilkan _Metric_-nya"
      ]
    },
    {
      "cell_type": "code",
      "metadata": {
        "id": "zDh9K53p2GKe",
        "outputId": "b097d19d-934e-40a9-ef34-a82745a3acc6",
        "colab": {
          "base_uri": "https://localhost:8080/",
          "height": 85
        }
      },
      "source": [
        "predict_and_print_metrics(new_model, x_test, y_test)"
      ],
      "execution_count": 30,
      "outputs": [
        {
          "output_type": "stream",
          "text": [
            "Accuracy: 0.338299990\n",
            "Sensitivity: 0.091553517\n",
            "Specificity: 0.993520021\n",
            "F1 Score: 0.155747622\n"
          ],
          "name": "stdout"
        }
      ]
    },
    {
      "cell_type": "markdown",
      "metadata": {
        "id": "buFDyTlQ9xzU"
      },
      "source": [
        "#### _Hyperparameter Tuning_"
      ]
    },
    {
      "cell_type": "code",
      "metadata": {
        "id": "Q5gGHuh58Fka",
        "outputId": "04fe54ae-1e2c-493e-be37-64010b36e92c",
        "colab": {
          "base_uri": "https://localhost:8080/",
          "height": 34
        }
      },
      "source": [
        "## Melakukan inisialisasi node per layer\n",
        "nodes_per_layer_for_hyperparameter = [1000, 1000, 10]\n",
        "activation_function_per_layer_for_hyperparameter = [tf.nn.relu, tf.nn.relu, tf.nn.softmax]\n",
        "\n",
        "## Inisialisasi Layer Model Parameter\n",
        "layers_for_hyperparameter = []\n",
        "layers_for_hyperparameter.append(tf.keras.layers.Flatten())\n",
        "\n",
        "## Menyisipkan parameter node dan fungsi aktivasinya\n",
        "for i in range(len(nodes_per_layer_for_hyperparameter)):\n",
        "  node = nodes_per_layer_for_hyperparameter[i]\n",
        "  activation = activation_function_per_layer_for_hyperparameter[i]\n",
        "  layers_for_hyperparameter.append(keras.layers.Dense(node, activation=activation))\n",
        "\n",
        "## Mendefinisikan model\n",
        "model_for_hyperparameter = Sequential(layers_for_hyperparameter)\n",
        "\n",
        "## Membangun model\n",
        "model_for_hyperparameter.build(input_shape=x_train.shape)\n",
        "model_for_hyperparameter.output_shape"
      ],
      "execution_count": 45,
      "outputs": [
        {
          "output_type": "execute_result",
          "data": {
            "text/plain": [
              "(50000, 10)"
            ]
          },
          "metadata": {
            "tags": []
          },
          "execution_count": 45
        }
      ]
    },
    {
      "cell_type": "code",
      "metadata": {
        "id": "p3HQZU6j7xBO"
      },
      "source": [
        "model_for_hyperparameter.compile(\n",
        "    optimizer=tf.optimizers.Adam(0.005),\n",
        "    loss='categorical_crossentropy',\n",
        "    metrics=[\n",
        "      'accuracy',\n",
        "      recall,\n",
        "      specificity,\n",
        "      f1_score\n",
        "    ])"
      ],
      "execution_count": 49,
      "outputs": []
    },
    {
      "cell_type": "code",
      "metadata": {
        "id": "tPRryYJcASbB",
        "outputId": "cb0388d1-a630-4e29-cb98-7e4af87e83f1",
        "colab": {
          "base_uri": "https://localhost:8080/",
          "height": 717
        }
      },
      "source": [
        "model_for_hyperparameter_hist = model_for_hyperparameter.fit(x_train, y_train, epochs=20, batch_size=10000, validation_data=(x_test, y_test), use_multiprocessing=True)"
      ],
      "execution_count": 50,
      "outputs": [
        {
          "output_type": "stream",
          "text": [
            "Epoch 1/20\n",
            "5/5 [==============================] - 14s 3s/step - loss: 16854.2305 - accuracy: 0.0992 - recall: 0.0992 - specificity: 0.8999 - f1_score: 0.0992 - val_loss: 13292.7100 - val_accuracy: 0.1000 - val_recall: 0.1000 - val_specificity: 0.9000 - val_f1_score: 0.1000\n",
            "Epoch 2/20\n",
            "5/5 [==============================] - 14s 3s/step - loss: 4728.6680 - accuracy: 0.1001 - recall: 0.1001 - specificity: 0.9000 - f1_score: 0.1001 - val_loss: 4.6146 - val_accuracy: 0.1000 - val_recall: 0.0225 - val_specificity: 0.9787 - val_f1_score: 0.0370\n",
            "Epoch 3/20\n",
            "5/5 [==============================] - 14s 3s/step - loss: 2.7818 - accuracy: 0.1000 - recall: 0.0046 - specificity: 0.9955 - f1_score: 0.0076 - val_loss: 2.3038 - val_accuracy: 0.1001 - val_recall: 1.0000e-04 - val_specificity: 1.0000 - val_f1_score: 1.9994e-04\n",
            "Epoch 4/20\n",
            "5/5 [==============================] - 14s 3s/step - loss: 2.3049 - accuracy: 0.1000 - recall: 2.0000e-05 - specificity: 1.0000 - f1_score: 3.9996e-05 - val_loss: 2.3027 - val_accuracy: 0.1001 - val_recall: 1.0000e-04 - val_specificity: 1.0000 - val_f1_score: 1.9996e-04\n",
            "Epoch 5/20\n",
            "5/5 [==============================] - 14s 3s/step - loss: 2.3026 - accuracy: 0.1001 - recall: 2.0000e-05 - specificity: 1.0000 - f1_score: 3.9996e-05 - val_loss: 2.3024 - val_accuracy: 0.1003 - val_recall: 3.0000e-04 - val_specificity: 1.0000 - val_f1_score: 5.9982e-04\n",
            "Epoch 6/20\n",
            "5/5 [==============================] - 14s 3s/step - loss: 2.3025 - accuracy: 0.0990 - recall: 8.0000e-05 - specificity: 1.0000 - f1_score: 1.5997e-04 - val_loss: 2.3024 - val_accuracy: 0.1002 - val_recall: 3.0000e-04 - val_specificity: 1.0000 - val_f1_score: 5.9982e-04\n",
            "Epoch 7/20\n",
            "5/5 [==============================] - 14s 3s/step - loss: 2.3024 - accuracy: 0.1001 - recall: 1.0000e-04 - specificity: 1.0000 - f1_score: 1.9996e-04 - val_loss: 2.3024 - val_accuracy: 0.1003 - val_recall: 3.0000e-04 - val_specificity: 1.0000 - val_f1_score: 5.9982e-04\n",
            "Epoch 8/20\n",
            "5/5 [==============================] - 14s 3s/step - loss: 2.3024 - accuracy: 0.1001 - recall: 1.0000e-04 - specificity: 1.0000 - f1_score: 1.9997e-04 - val_loss: 2.3023 - val_accuracy: 0.1002 - val_recall: 3.0000e-04 - val_specificity: 1.0000 - val_f1_score: 5.9982e-04\n",
            "Epoch 9/20\n",
            "5/5 [==============================] - 14s 3s/step - loss: 2.3024 - accuracy: 0.1001 - recall: 1.2000e-04 - specificity: 1.0000 - f1_score: 2.3991e-04 - val_loss: 2.3023 - val_accuracy: 0.1002 - val_recall: 3.0000e-04 - val_specificity: 1.0000 - val_f1_score: 5.9982e-04\n",
            "Epoch 10/20\n",
            "5/5 [==============================] - 14s 3s/step - loss: 2.3023 - accuracy: 0.1001 - recall: 1.2000e-04 - specificity: 1.0000 - f1_score: 2.3996e-04 - val_loss: 2.3023 - val_accuracy: 0.1002 - val_recall: 3.0000e-04 - val_specificity: 1.0000 - val_f1_score: 5.9982e-04\n",
            "Epoch 11/20\n",
            "5/5 [==============================] - 14s 3s/step - loss: 2.3023 - accuracy: 0.1001 - recall: 1.2000e-04 - specificity: 1.0000 - f1_score: 2.3994e-04 - val_loss: 2.3023 - val_accuracy: 0.1002 - val_recall: 3.0000e-04 - val_specificity: 1.0000 - val_f1_score: 5.9982e-04\n",
            "Epoch 12/20\n",
            "5/5 [==============================] - 16s 3s/step - loss: 2.3023 - accuracy: 0.0978 - recall: 1.2000e-04 - specificity: 1.0000 - f1_score: 2.3994e-04 - val_loss: 2.3023 - val_accuracy: 0.1003 - val_recall: 3.0000e-04 - val_specificity: 1.0000 - val_f1_score: 5.9982e-04\n",
            "Epoch 13/20\n",
            "5/5 [==============================] - 14s 3s/step - loss: 2.3160 - accuracy: 0.1005 - recall: 1.4000e-04 - specificity: 1.0000 - f1_score: 2.7991e-04 - val_loss: 2.3023 - val_accuracy: 0.1000 - val_recall: 3.0000e-04 - val_specificity: 1.0000 - val_f1_score: 5.9982e-04\n",
            "Epoch 14/20\n",
            "5/5 [==============================] - 14s 3s/step - loss: 2.3023 - accuracy: 0.1000 - recall: 1.2000e-04 - specificity: 1.0000 - f1_score: 2.3993e-04 - val_loss: 2.3023 - val_accuracy: 0.1000 - val_recall: 3.0000e-04 - val_specificity: 1.0000 - val_f1_score: 5.9982e-04\n",
            "Epoch 15/20\n",
            "5/5 [==============================] - 14s 3s/step - loss: 2.3023 - accuracy: 0.0995 - recall: 1.2000e-04 - specificity: 1.0000 - f1_score: 2.3995e-04 - val_loss: 2.3023 - val_accuracy: 0.1003 - val_recall: 3.0000e-04 - val_specificity: 1.0000 - val_f1_score: 5.9982e-04\n",
            "Epoch 16/20\n",
            "5/5 [==============================] - 14s 3s/step - loss: 2.3024 - accuracy: 0.0989 - recall: 1.0000e-04 - specificity: 1.0000 - f1_score: 1.9997e-04 - val_loss: 2.3023 - val_accuracy: 0.1003 - val_recall: 3.0000e-04 - val_specificity: 1.0000 - val_f1_score: 5.9982e-04\n",
            "Epoch 17/20\n",
            "5/5 [==============================] - 14s 3s/step - loss: 2.3023 - accuracy: 0.1001 - recall: 1.0000e-04 - specificity: 1.0000 - f1_score: 1.9996e-04 - val_loss: 2.3023 - val_accuracy: 0.1003 - val_recall: 3.0000e-04 - val_specificity: 1.0000 - val_f1_score: 5.9982e-04\n",
            "Epoch 18/20\n",
            "5/5 [==============================] - 14s 3s/step - loss: 2.3023 - accuracy: 0.1001 - recall: 1.0000e-04 - specificity: 1.0000 - f1_score: 1.9997e-04 - val_loss: 2.3023 - val_accuracy: 0.1003 - val_recall: 3.0000e-04 - val_specificity: 1.0000 - val_f1_score: 5.9982e-04\n",
            "Epoch 19/20\n",
            "5/5 [==============================] - 14s 3s/step - loss: 2.3023 - accuracy: 0.1001 - recall: 1.0000e-04 - specificity: 1.0000 - f1_score: 1.9993e-04 - val_loss: 2.3023 - val_accuracy: 0.1003 - val_recall: 3.0000e-04 - val_specificity: 1.0000 - val_f1_score: 5.9982e-04\n",
            "Epoch 20/20\n",
            "5/5 [==============================] - 14s 3s/step - loss: 2.3023 - accuracy: 0.1001 - recall: 1.0000e-04 - specificity: 1.0000 - f1_score: 1.9996e-04 - val_loss: 2.3023 - val_accuracy: 0.1003 - val_recall: 3.0000e-04 - val_specificity: 1.0000 - val_f1_score: 5.9982e-04\n"
          ],
          "name": "stdout"
        }
      ]
    },
    {
      "cell_type": "code",
      "metadata": {
        "id": "9Zqci17bAlzl"
      },
      "source": [
        ""
      ],
      "execution_count": null,
      "outputs": []
    }
  ]
}