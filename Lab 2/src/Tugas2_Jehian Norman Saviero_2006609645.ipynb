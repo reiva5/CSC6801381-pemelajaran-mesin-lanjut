{
  "nbformat": 4,
  "nbformat_minor": 0,
  "metadata": {
    "kernelspec": {
      "display_name": "Python 3",
      "language": "python",
      "name": "python3"
    },
    "language_info": {
      "codemirror_mode": {
        "name": "ipython",
        "version": 3
      },
      "file_extension": ".py",
      "mimetype": "text/x-python",
      "name": "python",
      "nbconvert_exporter": "python",
      "pygments_lexer": "ipython3",
      "version": "3.6.9"
    },
    "colab": {
      "name": "Tugas2_Jehian Norman Saviero_2006609645.ipynb",
      "provenance": []
    }
  },
  "cells": [
    {
      "cell_type": "code",
      "metadata": {
        "id": "_UkWLwx1Lxq-"
      },
      "source": [
        "import numpy as np\n",
        "import matplotlib.pyplot as plt\n",
        "import pandas as pd\n",
        "import random\n",
        "import tensorflow as tf\n",
        "\n",
        "from skimage import color, exposure, filters, io, morphology, util\n",
        "from math import sqrt\n",
        "from numpy import loadtxt\n",
        "from tensorflow import keras\n",
        "from keras import backend as K\n",
        "from keras.models import Sequential\n",
        "from keras.layers import Conv2D, Dense, Dropout, Flatten, MaxPooling2D, Reshape\n",
        "from keras.optimizers import SGD"
      ],
      "execution_count": 2,
      "outputs": []
    },
    {
      "cell_type": "markdown",
      "metadata": {
        "id": "iUHtdMWtMKT_"
      },
      "source": [
        "### A. _Fully Connected Neural Networks_"
      ]
    },
    {
      "cell_type": "markdown",
      "metadata": {
        "id": "XpePD_3kHxIQ"
      },
      "source": [
        "1. Lakukan klasifikasi untuk dataset cifar menggunakan **_Fully Connected Neural Networks_** dengan arsitektur dasar sebagai berikut:\n",
        "    - _Fully Connected Layer_ ($1000$ _hidden node_).\n",
        "    - _Activation Layer_ ($\\text{ReLU function}$).\n",
        "    - _Fully Connected Layer_ ($1000$ _hidden node_)\n",
        "    - _Activation Layer_ ($\\text{ReLU function}$).\n",
        "    - _Output Layer_ (10 kelas).\n",
        "    - _Activation Layer_ ($\\text{Softmax function}$).\n",
        "    - _Classification Result_.\n",
        "\n",
        "Fitur yang digunakan bebas (_handcrafted_/_non-convolution_). Hitung metrik ($\\text{accuracy}$, $\\text{sensitivity}$, $\\text{specificity}$, dan $f_{1}\\text{ score}$) untuk data train dan data test."
      ]
    },
    {
      "cell_type": "markdown",
      "metadata": {
        "id": "pYyeOEI2FyIW"
      },
      "source": [
        "#### Mendefinisikan Fungsi Bantuan\n",
        "Untuk memudahkan implementasi, berikut beberapa fungsi bantuan yang akan dipakai"
      ]
    },
    {
      "cell_type": "markdown",
      "metadata": {
        "id": "sGhJfOY7F9Ba"
      },
      "source": [
        "##### Menghitung $\\text{recall}$ atau $\\text{sensitivity}$\n",
        "$$\\text{recall} = \\frac{t_p}{t_p+t_n}$$"
      ]
    },
    {
      "cell_type": "code",
      "metadata": {
        "id": "H7Gs8hIdeEIM"
      },
      "source": [
        "def recall(y_true, y_pred): \n",
        "  true_positives = K.sum(K.round(K.clip(y_true * y_pred, 0, 1)))\n",
        "  possible_positives = K.sum(K.round(K.clip(y_true, 0, 1)))\n",
        "  return true_positives / (possible_positives + K.epsilon())"
      ],
      "execution_count": 3,
      "outputs": []
    },
    {
      "cell_type": "markdown",
      "metadata": {
        "id": "BPeOb1sCLoHc"
      },
      "source": [
        "##### Menghitung $\\text{precision}$\n",
        "$$\\text{precision} = \\frac{t_p}{t_p + f_p}$$"
      ]
    },
    {
      "cell_type": "code",
      "metadata": {
        "id": "J8S7McQZLsHs"
      },
      "source": [
        "def precision(y_true, y_pred):\n",
        "  true_positives = K.sum(K.round(K.clip(y_true * y_pred, 0, 1)))\n",
        "  predicted_positives = K.sum(K.round(K.clip(y_pred, 0, 1)))\n",
        "  return true_positives / (predicted_positives + K.epsilon())"
      ],
      "execution_count": 4,
      "outputs": []
    },
    {
      "cell_type": "markdown",
      "metadata": {
        "id": "hwgynhuqMU8f"
      },
      "source": [
        "##### Menghitung $\\text{specificity}$\n",
        "$$\\text{specificity} = \\frac{t_n}{t_n + f_p}$$"
      ]
    },
    {
      "cell_type": "code",
      "metadata": {
        "id": "L0pJ0OO6M21C"
      },
      "source": [
        "def specificity(y_true, y_pred):\n",
        "  true_negatives = K.sum(K.round(K.clip((1 - y_true) * (1 - y_pred), 0, 1)))\n",
        "  possible_negatives = K.sum(K.round(K.clip(1 - y_true, 0, 1)))\n",
        "  return true_negatives / (possible_negatives + K.epsilon())"
      ],
      "execution_count": 5,
      "outputs": []
    },
    {
      "cell_type": "markdown",
      "metadata": {
        "id": "hb5zxKH7NDif"
      },
      "source": [
        "##### Menghitung $f_{1}\\text{ Score}$\n",
        "Kita tau bahwa\n",
        "$$f_{\\beta} = (1 + \\beta^{2}) \\cdot \\frac{\\text{precition} \\cdot \\text{recall}}{(\\beta^{2} \\cdot \\text{precision}) + \\text{recall}}$$\n",
        "Sehingga \n",
        "$$f_{1} = (1 + 1^{2}) \\cdot \\frac{\\text{precition} \\cdot \\text{recall}}{(1^{2} \\cdot \\text{precision}) + \\text{recall}}$$\n",
        "$$f_{1} = (2) \\cdot \\frac{\\text{precition} \\cdot \\text{recall}}{(\\text{precision}) + \\text{recall}}$$\n",
        "\n"
      ]
    },
    {
      "cell_type": "code",
      "metadata": {
        "id": "CAvpJm0mNXDH"
      },
      "source": [
        "def f1_score(y_true, y_pred):\n",
        "  precision_val = precision(y_true, y_pred)\n",
        "  recall_val = recall(y_true, y_pred)\n",
        "  return 2*((precision_val * recall_val)/(precision_val + recall_val + K.epsilon()))"
      ],
      "execution_count": 6,
      "outputs": []
    },
    {
      "cell_type": "markdown",
      "metadata": {
        "id": "MJuaKKBEO4QX"
      },
      "source": [
        "**n.b.: Semua fungsi pada bagian penyebut ditambah epsilon untuk menghindari dibagi $0$ dikarenakan memasukkan input sebanyak $0$**"
      ]
    },
    {
      "cell_type": "markdown",
      "metadata": {
        "id": "JGVbeXdqMOW8"
      },
      "source": [
        "##### Fungsi Bantuan untuk Melakukan Prediksi dan Menampilkan Metric"
      ]
    },
    {
      "cell_type": "code",
      "metadata": {
        "id": "zkfajhUQ6zyP"
      },
      "source": [
        "def predict_and_get_metrics(model, x_test, y_test, label):\n",
        "  _, accuracy, sensitivity, specificity, score_f1 = model.evaluate(x_test, y_test, verbose=0)\n",
        "  return pd.DataFrame([[accuracy, sensitivity, specificity, score_f1]], columns=['Accuracy', 'Sensitivity', 'Specificity', 'F1 Score'], index=[label])\n",
        "\n",
        "def compare_train_and_test(model, x_train, y_train, x_test, y_test, extra_label=''):\n",
        "  metric_train = predict_and_get_metrics(model, x_train, y_train, 'Data Train %s' % (extra_label))\n",
        "  metric_test = predict_and_get_metrics(model, x_test, y_test, 'Data Test %s' % (extra_label))\n",
        "  return pd.concat([metric_train, metric_test])"
      ],
      "execution_count": 7,
      "outputs": []
    },
    {
      "cell_type": "markdown",
      "metadata": {
        "id": "LVxJChOEOtBi"
      },
      "source": [
        "##### Fungsi Bantuan untuk _Load Dataset_"
      ]
    },
    {
      "cell_type": "code",
      "metadata": {
        "id": "08UNFWeTOxco"
      },
      "source": [
        "def load_dataset():\n",
        "\t(trainX, trainY), (testX, testY) = keras.datasets.cifar10.load_data()\n",
        "\ttrainY = tf.keras.utils.to_categorical(trainY) ## Di ubah ke matrix persegi representasi binari\n",
        "\ttestY = tf.keras.utils.to_categorical(testY) ## Di ubah ke matrix persegi representasi binari\n",
        "\treturn trainX, trainY, testX, testY"
      ],
      "execution_count": 8,
      "outputs": []
    },
    {
      "cell_type": "markdown",
      "metadata": {
        "id": "zv9BtCLp2u5H"
      },
      "source": [
        "#### Load Dataset"
      ]
    },
    {
      "cell_type": "code",
      "metadata": {
        "id": "vTjrGfhRLxrE",
        "outputId": "cf88d042-cfe2-449f-9355-9c01067de852",
        "colab": {
          "base_uri": "https://localhost:8080/",
          "height": 51
        }
      },
      "source": [
        "x_train, y_train, x_test, y_test = load_dataset()"
      ],
      "execution_count": 9,
      "outputs": [
        {
          "output_type": "stream",
          "text": [
            "Downloading data from https://www.cs.toronto.edu/~kriz/cifar-10-python.tar.gz\n",
            "170500096/170498071 [==============================] - 2s 0us/step\n"
          ],
          "name": "stdout"
        }
      ]
    },
    {
      "cell_type": "markdown",
      "metadata": {
        "id": "mAFk5_LI9X9v"
      },
      "source": [
        "#### Membangun Model _Fully Connected Neural Network_ dengan spesifikasi minimum memenuhi deskripsi Lab"
      ]
    },
    {
      "cell_type": "code",
      "metadata": {
        "id": "Kmnfvpq3LxrI",
        "outputId": "324f2fbc-cc62-4023-8e74-342d67e51bcc",
        "colab": {
          "base_uri": "https://localhost:8080/",
          "height": 34
        }
      },
      "source": [
        "## Melakukan inisialisasi node per layer\n",
        "nodes_per_layer = [1000, 1000, 10]\n",
        "activation_function_per_layer = [tf.nn.relu, tf.nn.relu, tf.nn.softmax]\n",
        "\n",
        "## Inisialisasi Layer Model Parameter\n",
        "layers = []\n",
        "layers.append(tf.keras.layers.Flatten())\n",
        "\n",
        "## Menyisipkan parameter node dan fungsi aktivasinya\n",
        "for i in range(len(nodes_per_layer)):\n",
        "  node = nodes_per_layer[i]\n",
        "  activation = activation_function_per_layer[i]\n",
        "  layers.append(keras.layers.Dense(node, activation=activation))\n",
        "\n",
        "## Mendefinisikan model\n",
        "model = Sequential(layers)\n",
        "\n",
        "## Membangun model\n",
        "model.build(input_shape=x_train.shape)\n",
        "model.output_shape"
      ],
      "execution_count": 10,
      "outputs": [
        {
          "output_type": "execute_result",
          "data": {
            "text/plain": [
              "(50000, 10)"
            ]
          },
          "metadata": {
            "tags": []
          },
          "execution_count": 10
        }
      ]
    },
    {
      "cell_type": "markdown",
      "metadata": {
        "id": "SrnHRVZuQ0lj"
      },
      "source": [
        "#### Melakukan kompilasi ke dalam model"
      ]
    },
    {
      "cell_type": "code",
      "metadata": {
        "id": "JAWVwVj9M9ky"
      },
      "source": [
        "model.compile(\n",
        "    optimizer=SGD(lr=0.001, momentum=0.9),\n",
        "    loss='categorical_crossentropy',\n",
        "    metrics=[\n",
        "      'accuracy',\n",
        "      recall,\n",
        "      specificity,\n",
        "      f1_score\n",
        "    ])"
      ],
      "execution_count": 11,
      "outputs": []
    },
    {
      "cell_type": "markdown",
      "metadata": {
        "id": "JCeP_L31Q22u"
      },
      "source": [
        "#### Melakukan Fitting"
      ]
    },
    {
      "cell_type": "code",
      "metadata": {
        "id": "P2GXVW5dZd0c",
        "outputId": "fb76fd18-c2b0-4627-d0dd-131d7343def4",
        "colab": {
          "base_uri": "https://localhost:8080/",
          "height": 377
        }
      },
      "source": [
        "beginning_hist = model.fit(x_train, y_train, epochs=10, batch_size=5000, validation_data=(x_test,y_test), use_multiprocessing=True)"
      ],
      "execution_count": 12,
      "outputs": [
        {
          "output_type": "stream",
          "text": [
            "Epoch 1/10\n",
            "10/10 [==============================] - 16s 2s/step - loss: 1054907.8750 - accuracy: 0.0991 - recall: 0.0991 - specificity: 0.8999 - f1_score: 0.0991 - val_loss: 2450754.0000 - val_accuracy: 0.1000 - val_recall: 0.1000 - val_specificity: 0.9000 - val_f1_score: 0.1000\n",
            "Epoch 2/10\n",
            "10/10 [==============================] - 15s 2s/step - loss: 400731.0938 - accuracy: 0.0983 - recall: 0.0524 - specificity: 0.9468 - f1_score: 0.0534 - val_loss: 2.3237 - val_accuracy: 0.1000 - val_recall: 0.0000e+00 - val_specificity: 1.0000 - val_f1_score: 0.0000e+00\n",
            "Epoch 3/10\n",
            "10/10 [==============================] - 15s 2s/step - loss: 2.3440 - accuracy: 0.1000 - recall: 4.0000e-05 - specificity: 1.0000 - f1_score: 7.9960e-05 - val_loss: 2.3188 - val_accuracy: 0.1000 - val_recall: 0.0000e+00 - val_specificity: 1.0000 - val_f1_score: 0.0000e+00\n",
            "Epoch 4/10\n",
            "10/10 [==============================] - 15s 2s/step - loss: 2.3051 - accuracy: 0.1000 - recall: 0.0000e+00 - specificity: 1.0000 - f1_score: 0.0000e+00 - val_loss: 2.3159 - val_accuracy: 0.1000 - val_recall: 0.0000e+00 - val_specificity: 1.0000 - val_f1_score: 0.0000e+00\n",
            "Epoch 5/10\n",
            "10/10 [==============================] - 15s 2s/step - loss: 2.3036 - accuracy: 0.1000 - recall: 0.0000e+00 - specificity: 1.0000 - f1_score: 0.0000e+00 - val_loss: 2.3144 - val_accuracy: 0.1000 - val_recall: 0.0000e+00 - val_specificity: 1.0000 - val_f1_score: 0.0000e+00\n",
            "Epoch 6/10\n",
            "10/10 [==============================] - 15s 2s/step - loss: 2.3029 - accuracy: 0.1000 - recall: 0.0000e+00 - specificity: 1.0000 - f1_score: 0.0000e+00 - val_loss: 2.3139 - val_accuracy: 0.1000 - val_recall: 0.0000e+00 - val_specificity: 1.0000 - val_f1_score: 0.0000e+00\n",
            "Epoch 7/10\n",
            "10/10 [==============================] - 15s 2s/step - loss: 2.3027 - accuracy: 0.1000 - recall: 0.0000e+00 - specificity: 1.0000 - f1_score: 0.0000e+00 - val_loss: 2.3137 - val_accuracy: 0.1000 - val_recall: 0.0000e+00 - val_specificity: 1.0000 - val_f1_score: 0.0000e+00\n",
            "Epoch 8/10\n",
            "10/10 [==============================] - 15s 2s/step - loss: 2.3026 - accuracy: 0.1000 - recall: 0.0000e+00 - specificity: 1.0000 - f1_score: 0.0000e+00 - val_loss: 2.3137 - val_accuracy: 0.1000 - val_recall: 0.0000e+00 - val_specificity: 1.0000 - val_f1_score: 0.0000e+00\n",
            "Epoch 9/10\n",
            "10/10 [==============================] - 15s 2s/step - loss: 2.3026 - accuracy: 0.1000 - recall: 0.0000e+00 - specificity: 1.0000 - f1_score: 0.0000e+00 - val_loss: 2.3137 - val_accuracy: 0.1000 - val_recall: 0.0000e+00 - val_specificity: 1.0000 - val_f1_score: 0.0000e+00\n",
            "Epoch 10/10\n",
            "10/10 [==============================] - 15s 2s/step - loss: 2.3026 - accuracy: 0.1000 - recall: 0.0000e+00 - specificity: 1.0000 - f1_score: 0.0000e+00 - val_loss: 2.3137 - val_accuracy: 0.1000 - val_recall: 0.0000e+00 - val_specificity: 1.0000 - val_f1_score: 0.0000e+00\n"
          ],
          "name": "stdout"
        }
      ]
    },
    {
      "cell_type": "markdown",
      "metadata": {
        "id": "mc5VMtrmTJZl"
      },
      "source": [
        "#### Melakukan Prediksi ke _Data Test_ dan Menampilkan _Metric_-nya"
      ]
    },
    {
      "cell_type": "code",
      "metadata": {
        "id": "yRdERNwKaIW-",
        "outputId": "2bce83f9-3ac2-4c15-eac1-87c710552235",
        "colab": {
          "base_uri": "https://localhost:8080/",
          "height": 173
        }
      },
      "source": [
        "compare_train_and_test(model, x_train, y_train, x_test, y_test).transpose()"
      ],
      "execution_count": 13,
      "outputs": [
        {
          "output_type": "execute_result",
          "data": {
            "text/html": [
              "<div>\n",
              "<style scoped>\n",
              "    .dataframe tbody tr th:only-of-type {\n",
              "        vertical-align: middle;\n",
              "    }\n",
              "\n",
              "    .dataframe tbody tr th {\n",
              "        vertical-align: top;\n",
              "    }\n",
              "\n",
              "    .dataframe thead th {\n",
              "        text-align: right;\n",
              "    }\n",
              "</style>\n",
              "<table border=\"1\" class=\"dataframe\">\n",
              "  <thead>\n",
              "    <tr style=\"text-align: right;\">\n",
              "      <th></th>\n",
              "      <th>Data Train</th>\n",
              "      <th>Data Test</th>\n",
              "    </tr>\n",
              "  </thead>\n",
              "  <tbody>\n",
              "    <tr>\n",
              "      <th>Accuracy</th>\n",
              "      <td>0.1</td>\n",
              "      <td>0.100000</td>\n",
              "    </tr>\n",
              "    <tr>\n",
              "      <th>Sensitivity</th>\n",
              "      <td>0.0</td>\n",
              "      <td>0.000000</td>\n",
              "    </tr>\n",
              "    <tr>\n",
              "      <th>Specificity</th>\n",
              "      <td>1.0</td>\n",
              "      <td>0.999989</td>\n",
              "    </tr>\n",
              "    <tr>\n",
              "      <th>F1 Score</th>\n",
              "      <td>0.0</td>\n",
              "      <td>0.000000</td>\n",
              "    </tr>\n",
              "  </tbody>\n",
              "</table>\n",
              "</div>"
            ],
            "text/plain": [
              "             Data Train   Data Test \n",
              "Accuracy             0.1    0.100000\n",
              "Sensitivity          0.0    0.000000\n",
              "Specificity          1.0    0.999989\n",
              "F1 Score             0.0    0.000000"
            ]
          },
          "metadata": {
            "tags": []
          },
          "execution_count": 13
        }
      ]
    },
    {
      "cell_type": "markdown",
      "metadata": {
        "id": "_d9EEUDNV1hq"
      },
      "source": [
        "2. Anda dapat memperbaiki hasil yang diperoleh dengan melakukan  (tiga) skenario eksperimen, yaitu: _feature engineering_, menambahkan _layer_, dan _hyperparameter tuning_ (pada classifier)."
      ]
    },
    {
      "cell_type": "markdown",
      "metadata": {
        "id": "0j6xlAZ4Xf6f"
      },
      "source": [
        "#### _Feature Engineering_"
      ]
    },
    {
      "cell_type": "markdown",
      "metadata": {
        "id": "L-QLq6iZZUm9"
      },
      "source": [
        "- Untuk _feature engineering_ pada sesi lab kali ini, akan dilakukan normalisasi input agar berada pada rentang $[0...1]$."
      ]
    },
    {
      "cell_type": "code",
      "metadata": {
        "id": "E_ZonltpXckB"
      },
      "source": [
        "def normalize(x):\n",
        "  return x / 255.0\n",
        "\n",
        "normalize_x_train = normalize(x_train)\n",
        "normalize_x_test = normalize(x_test)"
      ],
      "execution_count": 14,
      "outputs": []
    },
    {
      "cell_type": "markdown",
      "metadata": {
        "id": "HZv5jAjTCD9e"
      },
      "source": [
        "##### Membangun Model _Fully Connected Neural Network_ sebagai _dedicated model_ untuk eksperimen _Feature Engineering_"
      ]
    },
    {
      "cell_type": "code",
      "metadata": {
        "id": "NwEDxmrW5hfM",
        "outputId": "4fcb98ff-514f-4177-c207-e75cf02e3a21",
        "colab": {
          "base_uri": "https://localhost:8080/",
          "height": 34
        }
      },
      "source": [
        "## Melakukan inisialisasi node per layer\n",
        "nodes_per_layer_for_feature_engineering = [1000, 1000, 10]\n",
        "activation_function_per_layer_for_feature_engineering = [tf.nn.relu, tf.nn.relu, tf.nn.softmax]\n",
        "\n",
        "## Inisialisasi Layer Model Parameter\n",
        "layers_for_feature_engineering = []\n",
        "layers_for_feature_engineering.append(tf.keras.layers.Flatten())\n",
        "\n",
        "## Menyisipkan parameter node dan fungsi aktivasinya\n",
        "for i in range(len(nodes_per_layer_for_feature_engineering)):\n",
        "  node = nodes_per_layer_for_feature_engineering[i]\n",
        "  activation = activation_function_per_layer_for_feature_engineering[i]\n",
        "  layers_for_feature_engineering.append(keras.layers.Dense(node, activation=activation))\n",
        "\n",
        "## Mendefinisikan model\n",
        "model_for_feature_engineering = Sequential(layers_for_feature_engineering)\n",
        "\n",
        "## Membangun model\n",
        "model_for_feature_engineering.build(input_shape=x_train.shape)\n",
        "model_for_feature_engineering.output_shape"
      ],
      "execution_count": 15,
      "outputs": [
        {
          "output_type": "execute_result",
          "data": {
            "text/plain": [
              "(50000, 10)"
            ]
          },
          "metadata": {
            "tags": []
          },
          "execution_count": 15
        }
      ]
    },
    {
      "cell_type": "markdown",
      "metadata": {
        "id": "JAU3M-8SCYQq"
      },
      "source": [
        "##### Melakukan kompilasi ke dalam model"
      ]
    },
    {
      "cell_type": "code",
      "metadata": {
        "id": "apJ3siNf5-TL"
      },
      "source": [
        "model_for_feature_engineering.compile(\n",
        "    optimizer=SGD(lr=0.001, momentum=0.9),\n",
        "    loss='categorical_crossentropy',\n",
        "    metrics=[\n",
        "      'accuracy',\n",
        "      recall,\n",
        "      specificity,\n",
        "      f1_score\n",
        "    ])"
      ],
      "execution_count": 16,
      "outputs": []
    },
    {
      "cell_type": "markdown",
      "metadata": {
        "id": "MVBu6q_OC_-S"
      },
      "source": [
        "##### Melakukan _fitting_"
      ]
    },
    {
      "cell_type": "code",
      "metadata": {
        "id": "bDEXGljoZ8Fy",
        "outputId": "c51d008f-cac5-4771-9081-24c1812e5204",
        "colab": {
          "base_uri": "https://localhost:8080/",
          "height": 377
        }
      },
      "source": [
        "feature_engineering_hist = model_for_feature_engineering.fit(normalize_x_train, y_train, epochs=10, batch_size=5000, validation_data=(normalize_x_test, y_test), use_multiprocessing=True)"
      ],
      "execution_count": 17,
      "outputs": [
        {
          "output_type": "stream",
          "text": [
            "Epoch 1/10\n",
            "10/10 [==============================] - 16s 2s/step - loss: 2.3496 - accuracy: 0.0949 - recall: 0.0000e+00 - specificity: 1.0000 - f1_score: 0.0000e+00 - val_loss: 2.2955 - val_accuracy: 0.1186 - val_recall: 0.0000e+00 - val_specificity: 1.0000 - val_f1_score: 0.0000e+00\n",
            "Epoch 2/10\n",
            "10/10 [==============================] - 15s 2s/step - loss: 2.2699 - accuracy: 0.1527 - recall: 0.0000e+00 - specificity: 1.0000 - f1_score: 0.0000e+00 - val_loss: 2.2300 - val_accuracy: 0.2030 - val_recall: 0.0000e+00 - val_specificity: 1.0000 - val_f1_score: 0.0000e+00\n",
            "Epoch 3/10\n",
            "10/10 [==============================] - 15s 2s/step - loss: 2.2033 - accuracy: 0.2125 - recall: 0.0000e+00 - specificity: 1.0000 - f1_score: 0.0000e+00 - val_loss: 2.1749 - val_accuracy: 0.2308 - val_recall: 0.0000e+00 - val_specificity: 1.0000 - val_f1_score: 0.0000e+00\n",
            "Epoch 4/10\n",
            "10/10 [==============================] - 15s 2s/step - loss: 2.1538 - accuracy: 0.2409 - recall: 0.0000e+00 - specificity: 1.0000 - f1_score: 0.0000e+00 - val_loss: 2.1300 - val_accuracy: 0.2551 - val_recall: 0.0000e+00 - val_specificity: 1.0000 - val_f1_score: 0.0000e+00\n",
            "Epoch 5/10\n",
            "10/10 [==============================] - 15s 2s/step - loss: 2.1140 - accuracy: 0.2621 - recall: 0.0000e+00 - specificity: 1.0000 - f1_score: 0.0000e+00 - val_loss: 2.0951 - val_accuracy: 0.2691 - val_recall: 0.0000e+00 - val_specificity: 1.0000 - val_f1_score: 0.0000e+00\n",
            "Epoch 6/10\n",
            "10/10 [==============================] - 15s 2s/step - loss: 2.0820 - accuracy: 0.2759 - recall: 0.0000e+00 - specificity: 1.0000 - f1_score: 0.0000e+00 - val_loss: 2.0664 - val_accuracy: 0.2841 - val_recall: 0.0000e+00 - val_specificity: 1.0000 - val_f1_score: 0.0000e+00\n",
            "Epoch 7/10\n",
            "10/10 [==============================] - 15s 2s/step - loss: 2.0556 - accuracy: 0.2856 - recall: 4.0000e-05 - specificity: 1.0000 - f1_score: 7.9984e-05 - val_loss: 2.0421 - val_accuracy: 0.2936 - val_recall: 1.0000e-04 - val_specificity: 1.0000 - val_f1_score: 1.9996e-04\n",
            "Epoch 8/10\n",
            "10/10 [==============================] - 15s 2s/step - loss: 2.0334 - accuracy: 0.2942 - recall: 4.4000e-04 - specificity: 1.0000 - f1_score: 8.7931e-04 - val_loss: 2.0213 - val_accuracy: 0.3030 - val_recall: 5.0000e-04 - val_specificity: 1.0000 - val_f1_score: 9.9928e-04\n",
            "Epoch 9/10\n",
            "10/10 [==============================] - 15s 2s/step - loss: 2.0140 - accuracy: 0.3025 - recall: 0.0012 - specificity: 1.0000 - f1_score: 0.0024 - val_loss: 2.0032 - val_accuracy: 0.3104 - val_recall: 0.0021 - val_specificity: 1.0000 - val_f1_score: 0.0042\n",
            "Epoch 10/10\n",
            "10/10 [==============================] - 15s 2s/step - loss: 1.9970 - accuracy: 0.3086 - recall: 0.0027 - specificity: 0.9999 - f1_score: 0.0055 - val_loss: 1.9870 - val_accuracy: 0.3142 - val_recall: 0.0044 - val_specificity: 0.9999 - val_f1_score: 0.0088\n"
          ],
          "name": "stdout"
        }
      ]
    },
    {
      "cell_type": "markdown",
      "metadata": {
        "id": "UnRnLzWsDQXd"
      },
      "source": [
        "#### Melakukan Prediksi ke _Data Test_ dan Menampilkan _Metric_-nya"
      ]
    },
    {
      "cell_type": "code",
      "metadata": {
        "id": "pGPHffRr6uOb",
        "outputId": "383710fb-a49d-4b89-9c37-14bb1dc484e9",
        "colab": {
          "base_uri": "https://localhost:8080/",
          "height": 173
        }
      },
      "source": [
        "compare_train_and_test(model_for_feature_engineering, normalize_x_train, y_train, normalize_x_test, y_test).transpose()"
      ],
      "execution_count": 18,
      "outputs": [
        {
          "output_type": "execute_result",
          "data": {
            "text/html": [
              "<div>\n",
              "<style scoped>\n",
              "    .dataframe tbody tr th:only-of-type {\n",
              "        vertical-align: middle;\n",
              "    }\n",
              "\n",
              "    .dataframe tbody tr th {\n",
              "        vertical-align: top;\n",
              "    }\n",
              "\n",
              "    .dataframe thead th {\n",
              "        text-align: right;\n",
              "    }\n",
              "</style>\n",
              "<table border=\"1\" class=\"dataframe\">\n",
              "  <thead>\n",
              "    <tr style=\"text-align: right;\">\n",
              "      <th></th>\n",
              "      <th>Data Train</th>\n",
              "      <th>Data Test</th>\n",
              "    </tr>\n",
              "  </thead>\n",
              "  <tbody>\n",
              "    <tr>\n",
              "      <th>Accuracy</th>\n",
              "      <td>0.310140</td>\n",
              "      <td>0.314200</td>\n",
              "    </tr>\n",
              "    <tr>\n",
              "      <th>Sensitivity</th>\n",
              "      <td>0.004019</td>\n",
              "      <td>0.004393</td>\n",
              "    </tr>\n",
              "    <tr>\n",
              "      <th>Specificity</th>\n",
              "      <td>0.999865</td>\n",
              "      <td>0.999933</td>\n",
              "    </tr>\n",
              "    <tr>\n",
              "      <th>F1 Score</th>\n",
              "      <td>0.007749</td>\n",
              "      <td>0.008514</td>\n",
              "    </tr>\n",
              "  </tbody>\n",
              "</table>\n",
              "</div>"
            ],
            "text/plain": [
              "             Data Train   Data Test \n",
              "Accuracy        0.310140    0.314200\n",
              "Sensitivity     0.004019    0.004393\n",
              "Specificity     0.999865    0.999933\n",
              "F1 Score        0.007749    0.008514"
            ]
          },
          "metadata": {
            "tags": []
          },
          "execution_count": 18
        }
      ]
    },
    {
      "cell_type": "markdown",
      "metadata": {
        "id": "SLnv9eLa1MeU"
      },
      "source": [
        "#### Menambahkan _Layer_"
      ]
    },
    {
      "cell_type": "markdown",
      "metadata": {
        "id": "ckS1GwFf1WBW"
      },
      "source": [
        "- Untuk eksperimen menambahkan _layer_ pada sesi laboratorium kali ini, saya akan menambahkan layer dua buah _hidden layer_ lagi dengan jumlah _node_ sama dengan _hidden layer_ yang lain."
      ]
    },
    {
      "cell_type": "markdown",
      "metadata": {
        "id": "72UA-P0BDup1"
      },
      "source": [
        "##### Membangun Model _Fully Connected Neural Network_ sebagai _dedicated model_ untuk eksperimen Menambahkan _Layer_"
      ]
    },
    {
      "cell_type": "code",
      "metadata": {
        "id": "uoGiqNj81QML",
        "outputId": "d0964e33-16cf-4d6e-a55c-77422fb90e80",
        "colab": {
          "base_uri": "https://localhost:8080/",
          "height": 34
        }
      },
      "source": [
        "## Melakukan inisialisasi node per layer\n",
        "nodes_per_new_layer = [1000, 1000, 1000, 1000, 10]\n",
        "activation_function_per_new_layer = [tf.nn.relu, tf.nn.relu, tf.nn.relu, tf.nn.relu, tf.nn.softmax]\n",
        "\n",
        "## Inisialisasi Layer Model Parameter\n",
        "new_layers = []\n",
        "new_layers.append(tf.keras.layers.Flatten())\n",
        "\n",
        "## Menyisipkan parameter node dan fungsi aktivasinya\n",
        "for i in range(len(nodes_per_new_layer)):\n",
        "  node = nodes_per_new_layer[i]\n",
        "  activation = activation_function_per_new_layer[i]\n",
        "  new_layers.append(keras.layers.Dense(node, activation=activation))\n",
        "\n",
        "## Mendefinisikan model\n",
        "new_model = Sequential(new_layers)\n",
        "\n",
        "## Membangun model\n",
        "new_model.build(input_shape=x_train.shape)\n",
        "new_model.output_shape"
      ],
      "execution_count": 19,
      "outputs": [
        {
          "output_type": "execute_result",
          "data": {
            "text/plain": [
              "(50000, 10)"
            ]
          },
          "metadata": {
            "tags": []
          },
          "execution_count": 19
        }
      ]
    },
    {
      "cell_type": "markdown",
      "metadata": {
        "id": "5UNpNJYnEERv"
      },
      "source": [
        "##### Melakukan kompilasi ke dalam model"
      ]
    },
    {
      "cell_type": "code",
      "metadata": {
        "id": "C9Agzyxj19xN"
      },
      "source": [
        "new_model.compile(\n",
        "    optimizer=SGD(lr=0.001, momentum=0.9),\n",
        "    loss='categorical_crossentropy',\n",
        "    metrics=[\n",
        "      'accuracy',\n",
        "      recall,\n",
        "      specificity,\n",
        "      f1_score\n",
        "    ])"
      ],
      "execution_count": 20,
      "outputs": []
    },
    {
      "cell_type": "markdown",
      "metadata": {
        "id": "GVihcJe8EJwM"
      },
      "source": [
        "##### Melakukan _fitting_"
      ]
    },
    {
      "cell_type": "code",
      "metadata": {
        "id": "dfFaOzlp1_UB",
        "outputId": "ddabe3eb-cc67-493e-a2a7-7d0a57b0389f",
        "colab": {
          "base_uri": "https://localhost:8080/",
          "height": 377
        }
      },
      "source": [
        "new_model_hist = new_model.fit(x_train, y_train, epochs=10, batch_size=5000, validation_data=(x_test, y_test), use_multiprocessing=True)"
      ],
      "execution_count": 21,
      "outputs": [
        {
          "output_type": "stream",
          "text": [
            "Epoch 1/10\n",
            "10/10 [==============================] - 25s 2s/step - loss: nan - accuracy: 0.0987 - recall: nan - specificity: nan - f1_score: nan - val_loss: nan - val_accuracy: 0.1000 - val_recall: nan - val_specificity: nan - val_f1_score: nan\n",
            "Epoch 2/10\n",
            "10/10 [==============================] - 25s 2s/step - loss: nan - accuracy: 0.1000 - recall: nan - specificity: nan - f1_score: nan - val_loss: nan - val_accuracy: 0.1000 - val_recall: nan - val_specificity: nan - val_f1_score: nan\n",
            "Epoch 3/10\n",
            "10/10 [==============================] - 25s 2s/step - loss: nan - accuracy: 0.1000 - recall: nan - specificity: nan - f1_score: nan - val_loss: nan - val_accuracy: 0.1000 - val_recall: nan - val_specificity: nan - val_f1_score: nan\n",
            "Epoch 4/10\n",
            "10/10 [==============================] - 25s 2s/step - loss: nan - accuracy: 0.1000 - recall: nan - specificity: nan - f1_score: nan - val_loss: nan - val_accuracy: 0.1000 - val_recall: nan - val_specificity: nan - val_f1_score: nan\n",
            "Epoch 5/10\n",
            "10/10 [==============================] - 25s 2s/step - loss: nan - accuracy: 0.1000 - recall: nan - specificity: nan - f1_score: nan - val_loss: nan - val_accuracy: 0.1000 - val_recall: nan - val_specificity: nan - val_f1_score: nan\n",
            "Epoch 6/10\n",
            "10/10 [==============================] - 25s 2s/step - loss: nan - accuracy: 0.1000 - recall: nan - specificity: nan - f1_score: nan - val_loss: nan - val_accuracy: 0.1000 - val_recall: nan - val_specificity: nan - val_f1_score: nan\n",
            "Epoch 7/10\n",
            "10/10 [==============================] - 25s 2s/step - loss: nan - accuracy: 0.1000 - recall: nan - specificity: nan - f1_score: nan - val_loss: nan - val_accuracy: 0.1000 - val_recall: nan - val_specificity: nan - val_f1_score: nan\n",
            "Epoch 8/10\n",
            "10/10 [==============================] - 25s 2s/step - loss: nan - accuracy: 0.1000 - recall: nan - specificity: nan - f1_score: nan - val_loss: nan - val_accuracy: 0.1000 - val_recall: nan - val_specificity: nan - val_f1_score: nan\n",
            "Epoch 9/10\n",
            "10/10 [==============================] - 25s 2s/step - loss: nan - accuracy: 0.1000 - recall: nan - specificity: nan - f1_score: nan - val_loss: nan - val_accuracy: 0.1000 - val_recall: nan - val_specificity: nan - val_f1_score: nan\n",
            "Epoch 10/10\n",
            "10/10 [==============================] - 25s 2s/step - loss: nan - accuracy: 0.1000 - recall: nan - specificity: nan - f1_score: nan - val_loss: nan - val_accuracy: 0.1000 - val_recall: nan - val_specificity: nan - val_f1_score: nan\n"
          ],
          "name": "stdout"
        }
      ]
    },
    {
      "cell_type": "markdown",
      "metadata": {
        "id": "43G2qJwGENvr"
      },
      "source": [
        "##### Melakukan Prediksi ke _Data Test_ dan Menampilkan _Metric_-nya"
      ]
    },
    {
      "cell_type": "code",
      "metadata": {
        "id": "zDh9K53p2GKe",
        "outputId": "50988712-3064-4d96-a1c5-f1f932cdbc4f",
        "colab": {
          "base_uri": "https://localhost:8080/",
          "height": 173
        }
      },
      "source": [
        "compare_train_and_test(new_model, x_train, y_train, x_test, y_test).transpose()"
      ],
      "execution_count": 22,
      "outputs": [
        {
          "output_type": "execute_result",
          "data": {
            "text/html": [
              "<div>\n",
              "<style scoped>\n",
              "    .dataframe tbody tr th:only-of-type {\n",
              "        vertical-align: middle;\n",
              "    }\n",
              "\n",
              "    .dataframe tbody tr th {\n",
              "        vertical-align: top;\n",
              "    }\n",
              "\n",
              "    .dataframe thead th {\n",
              "        text-align: right;\n",
              "    }\n",
              "</style>\n",
              "<table border=\"1\" class=\"dataframe\">\n",
              "  <thead>\n",
              "    <tr style=\"text-align: right;\">\n",
              "      <th></th>\n",
              "      <th>Data Train</th>\n",
              "      <th>Data Test</th>\n",
              "    </tr>\n",
              "  </thead>\n",
              "  <tbody>\n",
              "    <tr>\n",
              "      <th>Accuracy</th>\n",
              "      <td>0.1</td>\n",
              "      <td>0.1</td>\n",
              "    </tr>\n",
              "    <tr>\n",
              "      <th>Sensitivity</th>\n",
              "      <td>NaN</td>\n",
              "      <td>NaN</td>\n",
              "    </tr>\n",
              "    <tr>\n",
              "      <th>Specificity</th>\n",
              "      <td>NaN</td>\n",
              "      <td>NaN</td>\n",
              "    </tr>\n",
              "    <tr>\n",
              "      <th>F1 Score</th>\n",
              "      <td>NaN</td>\n",
              "      <td>NaN</td>\n",
              "    </tr>\n",
              "  </tbody>\n",
              "</table>\n",
              "</div>"
            ],
            "text/plain": [
              "             Data Train   Data Test \n",
              "Accuracy             0.1         0.1\n",
              "Sensitivity          NaN         NaN\n",
              "Specificity          NaN         NaN\n",
              "F1 Score             NaN         NaN"
            ]
          },
          "metadata": {
            "tags": []
          },
          "execution_count": 22
        }
      ]
    },
    {
      "cell_type": "markdown",
      "metadata": {
        "id": "buFDyTlQ9xzU"
      },
      "source": [
        "#### _Hyperparameter Tuning_"
      ]
    },
    {
      "cell_type": "markdown",
      "metadata": {
        "id": "_ON7Vk9cXF7F"
      },
      "source": [
        "- Untuk eksperimen _hyperparameter tuning_ pada sesi laboratorium kali ini, saya akan membagi eksperimen menjadi:\n",
        "    1. Meningkatkan epoch dari $10$ menjadi $30$.\n",
        "    2. Menaikkan $\\text{learning rate}$ dari $0.001$ menjadi $0.005$.\n",
        "    3. Menurunkan $\\text{learning rate}$ dari $0.001$ menjadi $0.0001$.\n",
        "    4. Meningkatkan epoch dari $10$ menjadi $30$ dan menaikkan $\\text{learning rate}$ dari $0.001$ menjadi $0.005$.\n",
        "    5. Meningkatkan epoch dari $10$ menjadi $30$ dan menurunkan $\\text{learning rate}$ dari $0.001$ menjadi $0.0001$."
      ]
    },
    {
      "cell_type": "markdown",
      "metadata": {
        "id": "3gGhGxXOE1uU"
      },
      "source": [
        "- Membangun Model _Fully Connected Neural Network_ sebagai _dedicated model_ untuk eksperimen _Hyperparameter Tuning_"
      ]
    },
    {
      "cell_type": "code",
      "metadata": {
        "id": "Q5gGHuh58Fka"
      },
      "source": [
        "## Melakukan inisialisasi node per layer\n",
        "nodes_per_layer_for_hyperparameter = [1000, 1000, 10]\n",
        "activation_function_per_layer_for_hyperparameter = [tf.nn.relu, tf.nn.relu, tf.nn.softmax]\n",
        "\n",
        "## Inisialisasi Layer Model Parameter\n",
        "layers_for_hyperparameter = []\n",
        "layers_for_hyperparameter.append(tf.keras.layers.Flatten())\n",
        "\n",
        "## Menyisipkan parameter node dan fungsi aktivasinya\n",
        "for i in range(len(nodes_per_layer_for_hyperparameter)):\n",
        "  node = nodes_per_layer_for_hyperparameter[i]\n",
        "  activation = activation_function_per_layer_for_hyperparameter[i]\n",
        "  layers_for_hyperparameter.append(keras.layers.Dense(node, activation=activation))\n",
        "\n",
        "## Mendefinisikan model\n",
        "model_for_hyperparameter = [\n",
        "  Sequential(layers_for_hyperparameter)\n",
        "  for _ in range(5) # 5 Mini Scenario\n",
        "]\n",
        "\n",
        "## Membangun model\n",
        "for i in range(5): # 5 Mini Scenario\n",
        "  model_for_hyperparameter[i].build(input_shape=x_train.shape)"
      ],
      "execution_count": 23,
      "outputs": []
    },
    {
      "cell_type": "markdown",
      "metadata": {
        "id": "aOOLwfkeFlna"
      },
      "source": [
        "- Melakukan kompilasi ke dalam model"
      ]
    },
    {
      "cell_type": "code",
      "metadata": {
        "id": "p3HQZU6j7xBO"
      },
      "source": [
        "parameter_learning_setiap_skenario = [0.001, 0.005, 0.0001, 0.005, 0.0001]\n",
        "for i in range(5):\n",
        "  learning_rate = parameter_learning_setiap_skenario[i]\n",
        "  model_for_hyperparameter[i].compile(\n",
        "    optimizer=SGD(lr=learning_rate, momentum=0.9),\n",
        "    loss='categorical_crossentropy',\n",
        "    metrics=[\n",
        "      'accuracy',\n",
        "      recall,\n",
        "      specificity,\n",
        "      f1_score\n",
        "    ]      \n",
        "  )\n",
        "\n",
        "model_for_hyperparameter_hist = np.zeros(5, dtype=object)"
      ],
      "execution_count": 24,
      "outputs": []
    },
    {
      "cell_type": "markdown",
      "metadata": {
        "id": "L8hRX9QsFy6n"
      },
      "source": [
        "- Melakukan _fitting_"
      ]
    },
    {
      "cell_type": "code",
      "metadata": {
        "id": "tPRryYJcASbB",
        "outputId": "12242e41-5be3-4553-c5f3-427b3a236228",
        "colab": {
          "base_uri": "https://localhost:8080/",
          "height": 1000
        }
      },
      "source": [
        "epochs = [30, 10, 10, 30, 30]\n",
        "for i in range(5):\n",
        "  model_for_hyperparameter_hist[i] = model_for_hyperparameter[i].fit(x_train, y_train, epochs=epochs[i], batch_size=5000, validation_data=(x_test, y_test), use_multiprocessing=True)"
      ],
      "execution_count": 25,
      "outputs": [
        {
          "output_type": "stream",
          "text": [
            "Epoch 1/30\n",
            "10/10 [==============================] - 15s 2s/step - loss: 122907.3516 - accuracy: 0.0993 - recall: 0.0993 - specificity: 0.8999 - f1_score: 0.0993 - val_loss: 740560.5625 - val_accuracy: 0.1000 - val_recall: 0.1000 - val_specificity: 0.9000 - val_f1_score: 0.1000\n",
            "Epoch 2/30\n",
            "10/10 [==============================] - 15s 1s/step - loss: 92653611489689600.0000 - accuracy: 0.0996 - recall: 0.0996 - specificity: 0.9000 - f1_score: 0.0996 - val_loss: 81669894123852660736.0000 - val_accuracy: 0.1000 - val_recall: 0.1000 - val_specificity: 0.9000 - val_f1_score: 0.1000\n",
            "Epoch 3/30\n",
            "10/10 [==============================] - 15s 1s/step - loss: 8314836782730444800.0000 - accuracy: 0.0994 - recall: 0.0994 - specificity: 0.8999 - f1_score: 0.0994 - val_loss: 9464814.0000 - val_accuracy: 0.1000 - val_recall: 0.1000 - val_specificity: 0.9000 - val_f1_score: 0.1000\n",
            "Epoch 4/30\n",
            "10/10 [==============================] - 15s 1s/step - loss: 955383.8750 - accuracy: 0.0996 - recall: 0.0996 - specificity: 0.9000 - f1_score: 0.0996 - val_loss: 3802.9648 - val_accuracy: 0.1000 - val_recall: 0.1000 - val_specificity: 0.9000 - val_f1_score: 0.1000\n",
            "Epoch 5/30\n",
            "10/10 [==============================] - 15s 2s/step - loss: 2993.6848 - accuracy: 0.1000 - recall: 0.1000 - specificity: 0.9000 - f1_score: 0.1000 - val_loss: 1474.2155 - val_accuracy: 0.1000 - val_recall: 0.1000 - val_specificity: 0.9000 - val_f1_score: 0.1000\n",
            "Epoch 6/30\n",
            "10/10 [==============================] - 15s 1s/step - loss: 364.5294 - accuracy: 0.0989 - recall: 0.0398 - specificity: 0.9600 - f1_score: 0.0398 - val_loss: 2.3046 - val_accuracy: 0.1000 - val_recall: 0.0000e+00 - val_specificity: 1.0000 - val_f1_score: 0.0000e+00\n",
            "Epoch 7/30\n",
            "10/10 [==============================] - 15s 1s/step - loss: 2.3048 - accuracy: 0.1000 - recall: 2.0000e-05 - specificity: 1.0000 - f1_score: 3.9992e-05 - val_loss: 2.3050 - val_accuracy: 0.1000 - val_recall: 0.0000e+00 - val_specificity: 1.0000 - val_f1_score: 0.0000e+00\n",
            "Epoch 8/30\n",
            "10/10 [==============================] - 15s 2s/step - loss: 2.3051 - accuracy: 0.1000 - recall: 2.0000e-05 - specificity: 1.0000 - f1_score: 3.9992e-05 - val_loss: 2.3052 - val_accuracy: 0.1000 - val_recall: 0.0000e+00 - val_specificity: 1.0000 - val_f1_score: 0.0000e+00\n",
            "Epoch 9/30\n",
            "10/10 [==============================] - 15s 1s/step - loss: 2.3052 - accuracy: 0.1000 - recall: 2.0000e-05 - specificity: 1.0000 - f1_score: 3.9992e-05 - val_loss: 2.3052 - val_accuracy: 0.1000 - val_recall: 0.0000e+00 - val_specificity: 1.0000 - val_f1_score: 0.0000e+00\n",
            "Epoch 10/30\n",
            "10/10 [==============================] - 15s 1s/step - loss: 2.3052 - accuracy: 0.1000 - recall: 2.0000e-05 - specificity: 1.0000 - f1_score: 3.9992e-05 - val_loss: 2.3052 - val_accuracy: 0.1000 - val_recall: 0.0000e+00 - val_specificity: 1.0000 - val_f1_score: 0.0000e+00\n",
            "Epoch 11/30\n",
            "10/10 [==============================] - 15s 1s/step - loss: 2.3051 - accuracy: 0.1000 - recall: 2.0000e-05 - specificity: 1.0000 - f1_score: 3.9992e-05 - val_loss: 2.3052 - val_accuracy: 0.1000 - val_recall: 0.0000e+00 - val_specificity: 1.0000 - val_f1_score: 0.0000e+00\n",
            "Epoch 12/30\n",
            "10/10 [==============================] - 15s 2s/step - loss: 2.3051 - accuracy: 0.1000 - recall: 2.0000e-05 - specificity: 1.0000 - f1_score: 3.9992e-05 - val_loss: 2.3051 - val_accuracy: 0.1000 - val_recall: 0.0000e+00 - val_specificity: 1.0000 - val_f1_score: 0.0000e+00\n",
            "Epoch 13/30\n",
            "10/10 [==============================] - 15s 2s/step - loss: 2.3050 - accuracy: 0.1000 - recall: 2.0000e-05 - specificity: 1.0000 - f1_score: 3.9992e-05 - val_loss: 2.3051 - val_accuracy: 0.1000 - val_recall: 0.0000e+00 - val_specificity: 1.0000 - val_f1_score: 0.0000e+00\n",
            "Epoch 14/30\n",
            "10/10 [==============================] - 15s 2s/step - loss: 2.3050 - accuracy: 0.1000 - recall: 2.0000e-05 - specificity: 1.0000 - f1_score: 3.9992e-05 - val_loss: 2.3050 - val_accuracy: 0.1000 - val_recall: 0.0000e+00 - val_specificity: 1.0000 - val_f1_score: 0.0000e+00\n",
            "Epoch 15/30\n",
            "10/10 [==============================] - 15s 2s/step - loss: 2.3050 - accuracy: 0.1000 - recall: 2.0000e-05 - specificity: 1.0000 - f1_score: 3.9992e-05 - val_loss: 2.3050 - val_accuracy: 0.1000 - val_recall: 0.0000e+00 - val_specificity: 1.0000 - val_f1_score: 0.0000e+00\n",
            "Epoch 16/30\n",
            "10/10 [==============================] - 15s 2s/step - loss: 2.3049 - accuracy: 0.1000 - recall: 2.0000e-05 - specificity: 1.0000 - f1_score: 3.9992e-05 - val_loss: 2.3049 - val_accuracy: 0.1000 - val_recall: 0.0000e+00 - val_specificity: 1.0000 - val_f1_score: 0.0000e+00\n",
            "Epoch 17/30\n",
            "10/10 [==============================] - 15s 1s/step - loss: 2.3049 - accuracy: 0.1000 - recall: 2.0000e-05 - specificity: 1.0000 - f1_score: 3.9992e-05 - val_loss: 2.3049 - val_accuracy: 0.1000 - val_recall: 0.0000e+00 - val_specificity: 1.0000 - val_f1_score: 0.0000e+00\n",
            "Epoch 18/30\n",
            "10/10 [==============================] - 15s 1s/step - loss: 2.3048 - accuracy: 0.1000 - recall: 2.0000e-05 - specificity: 1.0000 - f1_score: 3.9992e-05 - val_loss: 2.3049 - val_accuracy: 0.1000 - val_recall: 0.0000e+00 - val_specificity: 1.0000 - val_f1_score: 0.0000e+00\n",
            "Epoch 19/30\n",
            "10/10 [==============================] - 15s 2s/step - loss: 2.3048 - accuracy: 0.1000 - recall: 2.0000e-05 - specificity: 1.0000 - f1_score: 3.9992e-05 - val_loss: 2.3048 - val_accuracy: 0.1000 - val_recall: 0.0000e+00 - val_specificity: 1.0000 - val_f1_score: 0.0000e+00\n",
            "Epoch 20/30\n",
            "10/10 [==============================] - 15s 1s/step - loss: 2.3047 - accuracy: 0.1000 - recall: 2.0000e-05 - specificity: 1.0000 - f1_score: 3.9992e-05 - val_loss: 2.3048 - val_accuracy: 0.1000 - val_recall: 0.0000e+00 - val_specificity: 1.0000 - val_f1_score: 0.0000e+00\n",
            "Epoch 21/30\n",
            "10/10 [==============================] - 15s 2s/step - loss: 2.3047 - accuracy: 0.1000 - recall: 2.0000e-05 - specificity: 1.0000 - f1_score: 3.9992e-05 - val_loss: 2.3047 - val_accuracy: 0.1000 - val_recall: 0.0000e+00 - val_specificity: 1.0000 - val_f1_score: 0.0000e+00\n",
            "Epoch 22/30\n",
            "10/10 [==============================] - 15s 1s/step - loss: 2.3047 - accuracy: 0.1000 - recall: 2.0000e-05 - specificity: 1.0000 - f1_score: 3.9992e-05 - val_loss: 2.3047 - val_accuracy: 0.1000 - val_recall: 0.0000e+00 - val_specificity: 1.0000 - val_f1_score: 0.0000e+00\n",
            "Epoch 23/30\n",
            "10/10 [==============================] - 15s 2s/step - loss: 2.3046 - accuracy: 0.1000 - recall: 2.0000e-05 - specificity: 1.0000 - f1_score: 3.9992e-05 - val_loss: 2.3047 - val_accuracy: 0.1000 - val_recall: 0.0000e+00 - val_specificity: 1.0000 - val_f1_score: 0.0000e+00\n",
            "Epoch 24/30\n",
            "10/10 [==============================] - 15s 2s/step - loss: 2.3046 - accuracy: 0.1000 - recall: 2.0000e-05 - specificity: 1.0000 - f1_score: 3.9992e-05 - val_loss: 2.3046 - val_accuracy: 0.1000 - val_recall: 0.0000e+00 - val_specificity: 1.0000 - val_f1_score: 0.0000e+00\n",
            "Epoch 25/30\n",
            "10/10 [==============================] - 15s 1s/step - loss: 2.3046 - accuracy: 0.1000 - recall: 2.0000e-05 - specificity: 1.0000 - f1_score: 3.9992e-05 - val_loss: 2.3046 - val_accuracy: 0.1000 - val_recall: 0.0000e+00 - val_specificity: 1.0000 - val_f1_score: 0.0000e+00\n",
            "Epoch 26/30\n",
            "10/10 [==============================] - 15s 2s/step - loss: 2.3045 - accuracy: 0.1000 - recall: 2.0000e-05 - specificity: 1.0000 - f1_score: 3.9992e-05 - val_loss: 2.3045 - val_accuracy: 0.1000 - val_recall: 0.0000e+00 - val_specificity: 1.0000 - val_f1_score: 0.0000e+00\n",
            "Epoch 27/30\n",
            "10/10 [==============================] - 15s 1s/step - loss: 2.3045 - accuracy: 0.1000 - recall: 2.0000e-05 - specificity: 1.0000 - f1_score: 3.9992e-05 - val_loss: 2.3045 - val_accuracy: 0.1000 - val_recall: 0.0000e+00 - val_specificity: 1.0000 - val_f1_score: 0.0000e+00\n",
            "Epoch 28/30\n",
            "10/10 [==============================] - 15s 1s/step - loss: 2.3044 - accuracy: 0.1000 - recall: 2.0000e-05 - specificity: 1.0000 - f1_score: 3.9992e-05 - val_loss: 2.3045 - val_accuracy: 0.1000 - val_recall: 0.0000e+00 - val_specificity: 1.0000 - val_f1_score: 0.0000e+00\n",
            "Epoch 29/30\n",
            "10/10 [==============================] - 15s 1s/step - loss: 2.3044 - accuracy: 0.1000 - recall: 2.0000e-05 - specificity: 1.0000 - f1_score: 3.9992e-05 - val_loss: 2.3044 - val_accuracy: 0.1000 - val_recall: 0.0000e+00 - val_specificity: 1.0000 - val_f1_score: 0.0000e+00\n",
            "Epoch 30/30\n",
            "10/10 [==============================] - 15s 2s/step - loss: 2.3044 - accuracy: 0.1000 - recall: 2.0000e-05 - specificity: 1.0000 - f1_score: 3.9992e-05 - val_loss: 2.3044 - val_accuracy: 0.1000 - val_recall: 0.0000e+00 - val_specificity: 1.0000 - val_f1_score: 0.0000e+00\n",
            "Epoch 1/10\n",
            "10/10 [==============================] - 15s 2s/step - loss: 2.3043 - accuracy: 0.1000 - recall: 2.0000e-05 - specificity: 1.0000 - f1_score: 3.9992e-05 - val_loss: 2.3043 - val_accuracy: 0.1000 - val_recall: 0.0000e+00 - val_specificity: 1.0000 - val_f1_score: 0.0000e+00\n",
            "Epoch 2/10\n",
            "10/10 [==============================] - 15s 1s/step - loss: 2.3042 - accuracy: 0.1000 - recall: 2.0000e-05 - specificity: 1.0000 - f1_score: 3.9992e-05 - val_loss: 2.3042 - val_accuracy: 0.1000 - val_recall: 0.0000e+00 - val_specificity: 1.0000 - val_f1_score: 0.0000e+00\n",
            "Epoch 3/10\n",
            "10/10 [==============================] - 15s 1s/step - loss: 2.3041 - accuracy: 0.1000 - recall: 2.0000e-05 - specificity: 1.0000 - f1_score: 3.9992e-05 - val_loss: 2.3041 - val_accuracy: 0.1000 - val_recall: 0.0000e+00 - val_specificity: 1.0000 - val_f1_score: 0.0000e+00\n",
            "Epoch 4/10\n",
            "10/10 [==============================] - 15s 1s/step - loss: 2.3040 - accuracy: 0.1000 - recall: 2.0000e-05 - specificity: 1.0000 - f1_score: 3.9992e-05 - val_loss: 2.3039 - val_accuracy: 0.1000 - val_recall: 0.0000e+00 - val_specificity: 1.0000 - val_f1_score: 0.0000e+00\n",
            "Epoch 5/10\n",
            "10/10 [==============================] - 15s 2s/step - loss: 2.3038 - accuracy: 0.1000 - recall: 2.0000e-05 - specificity: 1.0000 - f1_score: 3.9992e-05 - val_loss: 2.3038 - val_accuracy: 0.1000 - val_recall: 0.0000e+00 - val_specificity: 1.0000 - val_f1_score: 0.0000e+00\n",
            "Epoch 6/10\n",
            "10/10 [==============================] - 15s 1s/step - loss: 2.3037 - accuracy: 0.1000 - recall: 2.0000e-05 - specificity: 1.0000 - f1_score: 3.9992e-05 - val_loss: 2.3037 - val_accuracy: 0.1000 - val_recall: 0.0000e+00 - val_specificity: 1.0000 - val_f1_score: 0.0000e+00\n",
            "Epoch 7/10\n",
            "10/10 [==============================] - 15s 1s/step - loss: 2.3036 - accuracy: 0.1000 - recall: 2.0000e-05 - specificity: 1.0000 - f1_score: 3.9992e-05 - val_loss: 2.3036 - val_accuracy: 0.1000 - val_recall: 0.0000e+00 - val_specificity: 1.0000 - val_f1_score: 0.0000e+00\n",
            "Epoch 8/10\n",
            "10/10 [==============================] - 15s 1s/step - loss: 2.3035 - accuracy: 0.1000 - recall: 2.0000e-05 - specificity: 1.0000 - f1_score: 3.9992e-05 - val_loss: 2.3035 - val_accuracy: 0.1000 - val_recall: 0.0000e+00 - val_specificity: 1.0000 - val_f1_score: 0.0000e+00\n",
            "Epoch 9/10\n",
            "10/10 [==============================] - 15s 1s/step - loss: 2.3034 - accuracy: 0.1000 - recall: 2.0000e-05 - specificity: 1.0000 - f1_score: 3.9992e-05 - val_loss: 2.3034 - val_accuracy: 0.1000 - val_recall: 0.0000e+00 - val_specificity: 1.0000 - val_f1_score: 0.0000e+00\n",
            "Epoch 10/10\n",
            "10/10 [==============================] - 15s 1s/step - loss: 2.3033 - accuracy: 0.1000 - recall: 2.0000e-05 - specificity: 1.0000 - f1_score: 3.9992e-05 - val_loss: 2.3033 - val_accuracy: 0.1000 - val_recall: 0.0000e+00 - val_specificity: 1.0000 - val_f1_score: 0.0000e+00\n",
            "Epoch 1/10\n",
            "10/10 [==============================] - 15s 2s/step - loss: 2.3033 - accuracy: 0.1000 - recall: 2.0000e-05 - specificity: 1.0000 - f1_score: 3.9992e-05 - val_loss: 2.3033 - val_accuracy: 0.1000 - val_recall: 0.0000e+00 - val_specificity: 1.0000 - val_f1_score: 0.0000e+00\n",
            "Epoch 2/10\n",
            "10/10 [==============================] - 15s 2s/step - loss: 2.3033 - accuracy: 0.1000 - recall: 2.0000e-05 - specificity: 1.0000 - f1_score: 3.9992e-05 - val_loss: 2.3033 - val_accuracy: 0.1000 - val_recall: 0.0000e+00 - val_specificity: 1.0000 - val_f1_score: 0.0000e+00\n",
            "Epoch 3/10\n",
            "10/10 [==============================] - 15s 1s/step - loss: 2.3033 - accuracy: 0.1000 - recall: 2.0000e-05 - specificity: 1.0000 - f1_score: 3.9992e-05 - val_loss: 2.3033 - val_accuracy: 0.1000 - val_recall: 0.0000e+00 - val_specificity: 1.0000 - val_f1_score: 0.0000e+00\n",
            "Epoch 4/10\n",
            "10/10 [==============================] - 15s 1s/step - loss: 2.3033 - accuracy: 0.1000 - recall: 2.0000e-05 - specificity: 1.0000 - f1_score: 3.9992e-05 - val_loss: 2.3033 - val_accuracy: 0.1000 - val_recall: 0.0000e+00 - val_specificity: 1.0000 - val_f1_score: 0.0000e+00\n",
            "Epoch 5/10\n",
            "10/10 [==============================] - 15s 1s/step - loss: 2.3033 - accuracy: 0.1000 - recall: 2.0000e-05 - specificity: 1.0000 - f1_score: 3.9992e-05 - val_loss: 2.3033 - val_accuracy: 0.1000 - val_recall: 0.0000e+00 - val_specificity: 1.0000 - val_f1_score: 0.0000e+00\n",
            "Epoch 6/10\n",
            "10/10 [==============================] - 15s 1s/step - loss: 2.3033 - accuracy: 0.1000 - recall: 2.0000e-05 - specificity: 1.0000 - f1_score: 3.9992e-05 - val_loss: 2.3033 - val_accuracy: 0.1000 - val_recall: 0.0000e+00 - val_specificity: 1.0000 - val_f1_score: 0.0000e+00\n",
            "Epoch 7/10\n",
            "10/10 [==============================] - 15s 1s/step - loss: 2.3033 - accuracy: 0.1000 - recall: 2.0000e-05 - specificity: 1.0000 - f1_score: 3.9992e-05 - val_loss: 2.3033 - val_accuracy: 0.1000 - val_recall: 0.0000e+00 - val_specificity: 1.0000 - val_f1_score: 0.0000e+00\n",
            "Epoch 8/10\n",
            "10/10 [==============================] - 15s 1s/step - loss: 2.3033 - accuracy: 0.1000 - recall: 2.0000e-05 - specificity: 1.0000 - f1_score: 3.9992e-05 - val_loss: 2.3033 - val_accuracy: 0.1000 - val_recall: 0.0000e+00 - val_specificity: 1.0000 - val_f1_score: 0.0000e+00\n",
            "Epoch 9/10\n",
            "10/10 [==============================] - 15s 1s/step - loss: 2.3033 - accuracy: 0.1000 - recall: 2.0000e-05 - specificity: 1.0000 - f1_score: 3.9992e-05 - val_loss: 2.3033 - val_accuracy: 0.1000 - val_recall: 0.0000e+00 - val_specificity: 1.0000 - val_f1_score: 0.0000e+00\n",
            "Epoch 10/10\n",
            "10/10 [==============================] - 15s 2s/step - loss: 2.3033 - accuracy: 0.1000 - recall: 2.0000e-05 - specificity: 1.0000 - f1_score: 3.9992e-05 - val_loss: 2.3033 - val_accuracy: 0.1000 - val_recall: 0.0000e+00 - val_specificity: 1.0000 - val_f1_score: 0.0000e+00\n",
            "Epoch 1/30\n",
            "10/10 [==============================] - 15s 2s/step - loss: 2.3033 - accuracy: 0.1000 - recall: 2.0000e-05 - specificity: 1.0000 - f1_score: 3.9992e-05 - val_loss: 2.3033 - val_accuracy: 0.1000 - val_recall: 0.0000e+00 - val_specificity: 1.0000 - val_f1_score: 0.0000e+00\n",
            "Epoch 2/30\n",
            "10/10 [==============================] - 15s 2s/step - loss: 2.3032 - accuracy: 0.1000 - recall: 2.0000e-05 - specificity: 1.0000 - f1_score: 3.9992e-05 - val_loss: 2.3032 - val_accuracy: 0.1000 - val_recall: 0.0000e+00 - val_specificity: 1.0000 - val_f1_score: 0.0000e+00\n",
            "Epoch 3/30\n",
            "10/10 [==============================] - 15s 2s/step - loss: 2.3032 - accuracy: 0.1000 - recall: 2.0000e-05 - specificity: 1.0000 - f1_score: 3.9992e-05 - val_loss: 2.3032 - val_accuracy: 0.1000 - val_recall: 0.0000e+00 - val_specificity: 1.0000 - val_f1_score: 0.0000e+00\n",
            "Epoch 4/30\n",
            "10/10 [==============================] - 15s 1s/step - loss: 2.3031 - accuracy: 0.1000 - recall: 2.0000e-05 - specificity: 1.0000 - f1_score: 3.9992e-05 - val_loss: 2.3031 - val_accuracy: 0.1000 - val_recall: 0.0000e+00 - val_specificity: 1.0000 - val_f1_score: 0.0000e+00\n",
            "Epoch 5/30\n",
            "10/10 [==============================] - 15s 2s/step - loss: 2.3031 - accuracy: 0.1000 - recall: 2.0000e-05 - specificity: 1.0000 - f1_score: 3.9992e-05 - val_loss: 2.3031 - val_accuracy: 0.1000 - val_recall: 0.0000e+00 - val_specificity: 1.0000 - val_f1_score: 0.0000e+00\n",
            "Epoch 6/30\n",
            "10/10 [==============================] - 15s 1s/step - loss: 2.3030 - accuracy: 0.1000 - recall: 2.0000e-05 - specificity: 1.0000 - f1_score: 3.9992e-05 - val_loss: 2.3030 - val_accuracy: 0.1000 - val_recall: 0.0000e+00 - val_specificity: 1.0000 - val_f1_score: 0.0000e+00\n",
            "Epoch 7/30\n",
            "10/10 [==============================] - 15s 1s/step - loss: 2.3030 - accuracy: 0.1000 - recall: 2.0000e-05 - specificity: 1.0000 - f1_score: 3.9992e-05 - val_loss: 2.3030 - val_accuracy: 0.1000 - val_recall: 0.0000e+00 - val_specificity: 1.0000 - val_f1_score: 0.0000e+00\n",
            "Epoch 8/30\n",
            "10/10 [==============================] - 15s 1s/step - loss: 2.3029 - accuracy: 0.1000 - recall: 2.0000e-05 - specificity: 1.0000 - f1_score: 3.9992e-05 - val_loss: 2.3030 - val_accuracy: 0.1000 - val_recall: 0.0000e+00 - val_specificity: 1.0000 - val_f1_score: 0.0000e+00\n",
            "Epoch 9/30\n",
            "10/10 [==============================] - 15s 2s/step - loss: 2.3029 - accuracy: 0.1000 - recall: 2.0000e-05 - specificity: 1.0000 - f1_score: 3.9992e-05 - val_loss: 2.3029 - val_accuracy: 0.1000 - val_recall: 0.0000e+00 - val_specificity: 1.0000 - val_f1_score: 0.0000e+00\n",
            "Epoch 10/30\n",
            "10/10 [==============================] - 15s 2s/step - loss: 2.3029 - accuracy: 0.1000 - recall: 2.0000e-05 - specificity: 1.0000 - f1_score: 3.9992e-05 - val_loss: 2.3029 - val_accuracy: 0.1000 - val_recall: 0.0000e+00 - val_specificity: 1.0000 - val_f1_score: 0.0000e+00\n",
            "Epoch 11/30\n",
            "10/10 [==============================] - 15s 2s/step - loss: 2.3028 - accuracy: 0.1000 - recall: 2.0000e-05 - specificity: 1.0000 - f1_score: 3.9992e-05 - val_loss: 2.3029 - val_accuracy: 0.1000 - val_recall: 0.0000e+00 - val_specificity: 1.0000 - val_f1_score: 0.0000e+00\n",
            "Epoch 12/30\n",
            "10/10 [==============================] - 15s 2s/step - loss: 2.3028 - accuracy: 0.1000 - recall: 2.0000e-05 - specificity: 1.0000 - f1_score: 3.9992e-05 - val_loss: 2.3028 - val_accuracy: 0.1000 - val_recall: 0.0000e+00 - val_specificity: 1.0000 - val_f1_score: 0.0000e+00\n",
            "Epoch 13/30\n",
            "10/10 [==============================] - 15s 2s/step - loss: 2.3028 - accuracy: 0.1000 - recall: 2.0000e-05 - specificity: 1.0000 - f1_score: 3.9992e-05 - val_loss: 2.3028 - val_accuracy: 0.1000 - val_recall: 0.0000e+00 - val_specificity: 1.0000 - val_f1_score: 0.0000e+00\n",
            "Epoch 14/30\n",
            "10/10 [==============================] - 15s 2s/step - loss: 2.3028 - accuracy: 0.1000 - recall: 2.0000e-05 - specificity: 1.0000 - f1_score: 3.9992e-05 - val_loss: 2.3028 - val_accuracy: 0.1000 - val_recall: 0.0000e+00 - val_specificity: 1.0000 - val_f1_score: 0.0000e+00\n",
            "Epoch 15/30\n",
            "10/10 [==============================] - 15s 2s/step - loss: 2.3027 - accuracy: 0.1000 - recall: 2.0000e-05 - specificity: 1.0000 - f1_score: 3.9992e-05 - val_loss: 2.3028 - val_accuracy: 0.1000 - val_recall: 0.0000e+00 - val_specificity: 1.0000 - val_f1_score: 0.0000e+00\n",
            "Epoch 16/30\n",
            "10/10 [==============================] - 15s 2s/step - loss: 2.3027 - accuracy: 0.1000 - recall: 2.0000e-05 - specificity: 1.0000 - f1_score: 3.9992e-05 - val_loss: 2.3027 - val_accuracy: 0.1000 - val_recall: 0.0000e+00 - val_specificity: 1.0000 - val_f1_score: 0.0000e+00\n",
            "Epoch 17/30\n",
            "10/10 [==============================] - 15s 2s/step - loss: 2.3027 - accuracy: 0.1000 - recall: 2.0000e-05 - specificity: 1.0000 - f1_score: 3.9992e-05 - val_loss: 2.3027 - val_accuracy: 0.1000 - val_recall: 0.0000e+00 - val_specificity: 1.0000 - val_f1_score: 0.0000e+00\n",
            "Epoch 18/30\n",
            "10/10 [==============================] - 15s 2s/step - loss: 2.3027 - accuracy: 0.1000 - recall: 2.0000e-05 - specificity: 1.0000 - f1_score: 3.9992e-05 - val_loss: 2.3027 - val_accuracy: 0.1000 - val_recall: 0.0000e+00 - val_specificity: 1.0000 - val_f1_score: 0.0000e+00\n",
            "Epoch 19/30\n",
            "10/10 [==============================] - 15s 2s/step - loss: 2.3027 - accuracy: 0.1000 - recall: 2.0000e-05 - specificity: 1.0000 - f1_score: 3.9992e-05 - val_loss: 2.3027 - val_accuracy: 0.1000 - val_recall: 0.0000e+00 - val_specificity: 1.0000 - val_f1_score: 0.0000e+00\n",
            "Epoch 20/30\n",
            "10/10 [==============================] - 15s 2s/step - loss: 2.3027 - accuracy: 0.1000 - recall: 2.0000e-05 - specificity: 1.0000 - f1_score: 3.9992e-05 - val_loss: 2.3027 - val_accuracy: 0.1000 - val_recall: 0.0000e+00 - val_specificity: 1.0000 - val_f1_score: 0.0000e+00\n",
            "Epoch 21/30\n",
            "10/10 [==============================] - 15s 2s/step - loss: 2.3026 - accuracy: 0.1000 - recall: 2.0000e-05 - specificity: 1.0000 - f1_score: 3.9992e-05 - val_loss: 2.3027 - val_accuracy: 0.1000 - val_recall: 0.0000e+00 - val_specificity: 1.0000 - val_f1_score: 0.0000e+00\n",
            "Epoch 22/30\n",
            "10/10 [==============================] - 15s 2s/step - loss: 2.3026 - accuracy: 0.1000 - recall: 2.0000e-05 - specificity: 1.0000 - f1_score: 3.9992e-05 - val_loss: 2.3027 - val_accuracy: 0.1000 - val_recall: 0.0000e+00 - val_specificity: 1.0000 - val_f1_score: 0.0000e+00\n",
            "Epoch 23/30\n",
            "10/10 [==============================] - 15s 2s/step - loss: 2.3026 - accuracy: 0.1000 - recall: 2.0000e-05 - specificity: 1.0000 - f1_score: 3.9992e-05 - val_loss: 2.3027 - val_accuracy: 0.1000 - val_recall: 0.0000e+00 - val_specificity: 1.0000 - val_f1_score: 0.0000e+00\n",
            "Epoch 24/30\n",
            "10/10 [==============================] - 15s 2s/step - loss: 2.3026 - accuracy: 0.1000 - recall: 2.0000e-05 - specificity: 1.0000 - f1_score: 3.9992e-05 - val_loss: 2.3027 - val_accuracy: 0.1000 - val_recall: 0.0000e+00 - val_specificity: 1.0000 - val_f1_score: 0.0000e+00\n",
            "Epoch 25/30\n",
            "10/10 [==============================] - 15s 2s/step - loss: 2.3026 - accuracy: 0.1000 - recall: 2.0000e-05 - specificity: 1.0000 - f1_score: 3.9992e-05 - val_loss: 2.3027 - val_accuracy: 0.1000 - val_recall: 0.0000e+00 - val_specificity: 1.0000 - val_f1_score: 0.0000e+00\n",
            "Epoch 26/30\n",
            "10/10 [==============================] - 15s 2s/step - loss: 2.3026 - accuracy: 0.1000 - recall: 2.0000e-05 - specificity: 1.0000 - f1_score: 3.9992e-05 - val_loss: 2.3026 - val_accuracy: 0.1000 - val_recall: 0.0000e+00 - val_specificity: 1.0000 - val_f1_score: 0.0000e+00\n",
            "Epoch 27/30\n",
            "10/10 [==============================] - 15s 2s/step - loss: 2.3026 - accuracy: 0.1000 - recall: 2.0000e-05 - specificity: 1.0000 - f1_score: 3.9992e-05 - val_loss: 2.3026 - val_accuracy: 0.1000 - val_recall: 0.0000e+00 - val_specificity: 1.0000 - val_f1_score: 0.0000e+00\n",
            "Epoch 28/30\n",
            "10/10 [==============================] - 15s 2s/step - loss: 2.3026 - accuracy: 0.1000 - recall: 2.0000e-05 - specificity: 1.0000 - f1_score: 3.9992e-05 - val_loss: 2.3026 - val_accuracy: 0.1000 - val_recall: 0.0000e+00 - val_specificity: 1.0000 - val_f1_score: 0.0000e+00\n",
            "Epoch 29/30\n",
            "10/10 [==============================] - 15s 2s/step - loss: 2.3026 - accuracy: 0.1000 - recall: 2.0000e-05 - specificity: 1.0000 - f1_score: 3.9992e-05 - val_loss: 2.3026 - val_accuracy: 0.1000 - val_recall: 0.0000e+00 - val_specificity: 1.0000 - val_f1_score: 0.0000e+00\n",
            "Epoch 30/30\n",
            "10/10 [==============================] - 15s 2s/step - loss: 2.3026 - accuracy: 0.1000 - recall: 2.0000e-05 - specificity: 1.0000 - f1_score: 3.9992e-05 - val_loss: 2.3026 - val_accuracy: 0.1000 - val_recall: 0.0000e+00 - val_specificity: 1.0000 - val_f1_score: 0.0000e+00\n",
            "Epoch 1/30\n",
            "10/10 [==============================] - 16s 2s/step - loss: 2.3026 - accuracy: 0.1000 - recall: 2.0000e-05 - specificity: 1.0000 - f1_score: 3.9992e-05 - val_loss: 2.3026 - val_accuracy: 0.1000 - val_recall: 0.0000e+00 - val_specificity: 1.0000 - val_f1_score: 0.0000e+00\n",
            "Epoch 2/30\n",
            "10/10 [==============================] - 15s 2s/step - loss: 2.3026 - accuracy: 0.1000 - recall: 2.0000e-05 - specificity: 1.0000 - f1_score: 3.9992e-05 - val_loss: 2.3026 - val_accuracy: 0.1000 - val_recall: 0.0000e+00 - val_specificity: 1.0000 - val_f1_score: 0.0000e+00\n",
            "Epoch 3/30\n",
            "10/10 [==============================] - 15s 2s/step - loss: 2.3026 - accuracy: 0.1000 - recall: 2.0000e-05 - specificity: 1.0000 - f1_score: 3.9992e-05 - val_loss: 2.3026 - val_accuracy: 0.1000 - val_recall: 0.0000e+00 - val_specificity: 1.0000 - val_f1_score: 0.0000e+00\n",
            "Epoch 4/30\n",
            "10/10 [==============================] - 15s 2s/step - loss: 2.3026 - accuracy: 0.1000 - recall: 2.0000e-05 - specificity: 1.0000 - f1_score: 3.9992e-05 - val_loss: 2.3026 - val_accuracy: 0.1000 - val_recall: 0.0000e+00 - val_specificity: 1.0000 - val_f1_score: 0.0000e+00\n",
            "Epoch 5/30\n",
            "10/10 [==============================] - 15s 2s/step - loss: 2.3026 - accuracy: 0.1000 - recall: 2.0000e-05 - specificity: 1.0000 - f1_score: 3.9992e-05 - val_loss: 2.3026 - val_accuracy: 0.1000 - val_recall: 0.0000e+00 - val_specificity: 1.0000 - val_f1_score: 0.0000e+00\n",
            "Epoch 6/30\n",
            "10/10 [==============================] - 15s 2s/step - loss: 2.3026 - accuracy: 0.1000 - recall: 2.0000e-05 - specificity: 1.0000 - f1_score: 3.9992e-05 - val_loss: 2.3026 - val_accuracy: 0.1000 - val_recall: 0.0000e+00 - val_specificity: 1.0000 - val_f1_score: 0.0000e+00\n",
            "Epoch 7/30\n",
            "10/10 [==============================] - 15s 2s/step - loss: 2.3026 - accuracy: 0.1000 - recall: 2.0000e-05 - specificity: 1.0000 - f1_score: 3.9992e-05 - val_loss: 2.3026 - val_accuracy: 0.1000 - val_recall: 0.0000e+00 - val_specificity: 1.0000 - val_f1_score: 0.0000e+00\n",
            "Epoch 8/30\n",
            "10/10 [==============================] - 15s 2s/step - loss: 2.3026 - accuracy: 0.1000 - recall: 2.0000e-05 - specificity: 1.0000 - f1_score: 3.9992e-05 - val_loss: 2.3026 - val_accuracy: 0.1000 - val_recall: 0.0000e+00 - val_specificity: 1.0000 - val_f1_score: 0.0000e+00\n",
            "Epoch 9/30\n",
            "10/10 [==============================] - 15s 2s/step - loss: 2.3026 - accuracy: 0.1000 - recall: 2.0000e-05 - specificity: 1.0000 - f1_score: 3.9992e-05 - val_loss: 2.3026 - val_accuracy: 0.1000 - val_recall: 0.0000e+00 - val_specificity: 1.0000 - val_f1_score: 0.0000e+00\n",
            "Epoch 10/30\n",
            "10/10 [==============================] - 15s 2s/step - loss: 2.3026 - accuracy: 0.1000 - recall: 2.0000e-05 - specificity: 1.0000 - f1_score: 3.9992e-05 - val_loss: 2.3026 - val_accuracy: 0.1000 - val_recall: 0.0000e+00 - val_specificity: 1.0000 - val_f1_score: 0.0000e+00\n",
            "Epoch 11/30\n",
            "10/10 [==============================] - 15s 2s/step - loss: 2.3026 - accuracy: 0.1000 - recall: 2.0000e-05 - specificity: 1.0000 - f1_score: 3.9992e-05 - val_loss: 2.3026 - val_accuracy: 0.1000 - val_recall: 0.0000e+00 - val_specificity: 1.0000 - val_f1_score: 0.0000e+00\n",
            "Epoch 12/30\n",
            "10/10 [==============================] - 15s 2s/step - loss: 2.3026 - accuracy: 0.1000 - recall: 2.0000e-05 - specificity: 1.0000 - f1_score: 3.9992e-05 - val_loss: 2.3026 - val_accuracy: 0.1000 - val_recall: 0.0000e+00 - val_specificity: 1.0000 - val_f1_score: 0.0000e+00\n",
            "Epoch 13/30\n",
            "10/10 [==============================] - 15s 2s/step - loss: 2.3026 - accuracy: 0.1000 - recall: 2.0000e-05 - specificity: 1.0000 - f1_score: 3.9992e-05 - val_loss: 2.3026 - val_accuracy: 0.1000 - val_recall: 0.0000e+00 - val_specificity: 1.0000 - val_f1_score: 0.0000e+00\n",
            "Epoch 14/30\n",
            "10/10 [==============================] - 15s 2s/step - loss: 2.3026 - accuracy: 0.1000 - recall: 2.0000e-05 - specificity: 1.0000 - f1_score: 3.9992e-05 - val_loss: 2.3026 - val_accuracy: 0.1000 - val_recall: 0.0000e+00 - val_specificity: 1.0000 - val_f1_score: 0.0000e+00\n",
            "Epoch 15/30\n",
            "10/10 [==============================] - 15s 2s/step - loss: 2.3026 - accuracy: 0.1000 - recall: 2.0000e-05 - specificity: 1.0000 - f1_score: 3.9992e-05 - val_loss: 2.3026 - val_accuracy: 0.1000 - val_recall: 0.0000e+00 - val_specificity: 1.0000 - val_f1_score: 0.0000e+00\n",
            "Epoch 16/30\n",
            "10/10 [==============================] - 15s 2s/step - loss: 2.3026 - accuracy: 0.1000 - recall: 2.0000e-05 - specificity: 1.0000 - f1_score: 3.9992e-05 - val_loss: 2.3026 - val_accuracy: 0.1000 - val_recall: 0.0000e+00 - val_specificity: 1.0000 - val_f1_score: 0.0000e+00\n",
            "Epoch 17/30\n",
            "10/10 [==============================] - 15s 2s/step - loss: 2.3026 - accuracy: 0.1000 - recall: 2.0000e-05 - specificity: 1.0000 - f1_score: 3.9992e-05 - val_loss: 2.3026 - val_accuracy: 0.1000 - val_recall: 0.0000e+00 - val_specificity: 1.0000 - val_f1_score: 0.0000e+00\n",
            "Epoch 18/30\n",
            "10/10 [==============================] - 15s 2s/step - loss: 2.3026 - accuracy: 0.1000 - recall: 2.0000e-05 - specificity: 1.0000 - f1_score: 3.9992e-05 - val_loss: 2.3026 - val_accuracy: 0.1000 - val_recall: 0.0000e+00 - val_specificity: 1.0000 - val_f1_score: 0.0000e+00\n",
            "Epoch 19/30\n",
            "10/10 [==============================] - 15s 2s/step - loss: 2.3026 - accuracy: 0.1000 - recall: 2.0000e-05 - specificity: 1.0000 - f1_score: 3.9992e-05 - val_loss: 2.3026 - val_accuracy: 0.1000 - val_recall: 0.0000e+00 - val_specificity: 1.0000 - val_f1_score: 0.0000e+00\n",
            "Epoch 20/30\n",
            "10/10 [==============================] - 15s 2s/step - loss: 2.3026 - accuracy: 0.1000 - recall: 2.0000e-05 - specificity: 1.0000 - f1_score: 3.9992e-05 - val_loss: 2.3026 - val_accuracy: 0.1000 - val_recall: 0.0000e+00 - val_specificity: 1.0000 - val_f1_score: 0.0000e+00\n",
            "Epoch 21/30\n",
            "10/10 [==============================] - 15s 2s/step - loss: 2.3026 - accuracy: 0.1000 - recall: 2.0000e-05 - specificity: 1.0000 - f1_score: 3.9992e-05 - val_loss: 2.3026 - val_accuracy: 0.1000 - val_recall: 0.0000e+00 - val_specificity: 1.0000 - val_f1_score: 0.0000e+00\n",
            "Epoch 22/30\n",
            "10/10 [==============================] - 15s 2s/step - loss: 2.3026 - accuracy: 0.1000 - recall: 2.0000e-05 - specificity: 1.0000 - f1_score: 3.9992e-05 - val_loss: 2.3026 - val_accuracy: 0.1000 - val_recall: 0.0000e+00 - val_specificity: 1.0000 - val_f1_score: 0.0000e+00\n",
            "Epoch 23/30\n",
            "10/10 [==============================] - 15s 2s/step - loss: 2.3026 - accuracy: 0.1000 - recall: 2.0000e-05 - specificity: 1.0000 - f1_score: 3.9992e-05 - val_loss: 2.3026 - val_accuracy: 0.1000 - val_recall: 0.0000e+00 - val_specificity: 1.0000 - val_f1_score: 0.0000e+00\n",
            "Epoch 24/30\n",
            "10/10 [==============================] - 15s 2s/step - loss: 2.3026 - accuracy: 0.1000 - recall: 2.0000e-05 - specificity: 1.0000 - f1_score: 3.9992e-05 - val_loss: 2.3026 - val_accuracy: 0.1000 - val_recall: 0.0000e+00 - val_specificity: 1.0000 - val_f1_score: 0.0000e+00\n",
            "Epoch 25/30\n",
            "10/10 [==============================] - 15s 2s/step - loss: 2.3026 - accuracy: 0.1000 - recall: 2.0000e-05 - specificity: 1.0000 - f1_score: 3.9992e-05 - val_loss: 2.3026 - val_accuracy: 0.1000 - val_recall: 0.0000e+00 - val_specificity: 1.0000 - val_f1_score: 0.0000e+00\n",
            "Epoch 26/30\n",
            "10/10 [==============================] - 15s 2s/step - loss: 2.3026 - accuracy: 0.1000 - recall: 2.0000e-05 - specificity: 1.0000 - f1_score: 3.9992e-05 - val_loss: 2.3026 - val_accuracy: 0.1000 - val_recall: 0.0000e+00 - val_specificity: 1.0000 - val_f1_score: 0.0000e+00\n",
            "Epoch 27/30\n",
            "10/10 [==============================] - 15s 2s/step - loss: 2.3026 - accuracy: 0.1000 - recall: 2.0000e-05 - specificity: 1.0000 - f1_score: 3.9992e-05 - val_loss: 2.3026 - val_accuracy: 0.1000 - val_recall: 0.0000e+00 - val_specificity: 1.0000 - val_f1_score: 0.0000e+00\n",
            "Epoch 28/30\n",
            "10/10 [==============================] - 15s 2s/step - loss: 2.3026 - accuracy: 0.1000 - recall: 2.0000e-05 - specificity: 1.0000 - f1_score: 3.9992e-05 - val_loss: 2.3026 - val_accuracy: 0.1000 - val_recall: 0.0000e+00 - val_specificity: 1.0000 - val_f1_score: 0.0000e+00\n",
            "Epoch 29/30\n",
            "10/10 [==============================] - 15s 2s/step - loss: 2.3026 - accuracy: 0.1000 - recall: 2.0000e-05 - specificity: 1.0000 - f1_score: 3.9992e-05 - val_loss: 2.3026 - val_accuracy: 0.1000 - val_recall: 0.0000e+00 - val_specificity: 1.0000 - val_f1_score: 0.0000e+00\n",
            "Epoch 30/30\n",
            "10/10 [==============================] - 15s 2s/step - loss: 2.3026 - accuracy: 0.1000 - recall: 2.0000e-05 - specificity: 1.0000 - f1_score: 3.9992e-05 - val_loss: 2.3026 - val_accuracy: 0.1000 - val_recall: 0.0000e+00 - val_specificity: 1.0000 - val_f1_score: 0.0000e+00\n"
          ],
          "name": "stdout"
        }
      ]
    },
    {
      "cell_type": "markdown",
      "metadata": {
        "id": "ouZIDZsqGv3c"
      },
      "source": [
        "- Melakukan Prediksi ke _Data Test_ dan Menampilkan _Metric_-nya"
      ]
    },
    {
      "cell_type": "code",
      "metadata": {
        "id": "FBJWfLYRGxY9",
        "outputId": "92bd7f0b-04a1-4445-865f-8866d819dfab",
        "colab": {
          "base_uri": "https://localhost:8080/",
          "height": 190
        }
      },
      "source": [
        "val = []\n",
        "for i in range(5):\n",
        "  val.append(compare_train_and_test(model_for_hyperparameter[i], x_train, y_train, x_test, y_test, str(i+1)))\n",
        "pd.concat(val).transpose()"
      ],
      "execution_count": 26,
      "outputs": [
        {
          "output_type": "execute_result",
          "data": {
            "text/html": [
              "<div>\n",
              "<style scoped>\n",
              "    .dataframe tbody tr th:only-of-type {\n",
              "        vertical-align: middle;\n",
              "    }\n",
              "\n",
              "    .dataframe tbody tr th {\n",
              "        vertical-align: top;\n",
              "    }\n",
              "\n",
              "    .dataframe thead th {\n",
              "        text-align: right;\n",
              "    }\n",
              "</style>\n",
              "<table border=\"1\" class=\"dataframe\">\n",
              "  <thead>\n",
              "    <tr style=\"text-align: right;\">\n",
              "      <th></th>\n",
              "      <th>Data Train 1</th>\n",
              "      <th>Data Test 1</th>\n",
              "      <th>Data Train 2</th>\n",
              "      <th>Data Test 2</th>\n",
              "      <th>Data Train 3</th>\n",
              "      <th>Data Test 3</th>\n",
              "      <th>Data Train 4</th>\n",
              "      <th>Data Test 4</th>\n",
              "      <th>Data Train 5</th>\n",
              "      <th>Data Test 5</th>\n",
              "    </tr>\n",
              "  </thead>\n",
              "  <tbody>\n",
              "    <tr>\n",
              "      <th>Accuracy</th>\n",
              "      <td>0.100020</td>\n",
              "      <td>0.1</td>\n",
              "      <td>0.100020</td>\n",
              "      <td>0.1</td>\n",
              "      <td>0.100020</td>\n",
              "      <td>0.1</td>\n",
              "      <td>0.100020</td>\n",
              "      <td>0.1</td>\n",
              "      <td>0.100020</td>\n",
              "      <td>0.1</td>\n",
              "    </tr>\n",
              "    <tr>\n",
              "      <th>Sensitivity</th>\n",
              "      <td>0.000020</td>\n",
              "      <td>0.0</td>\n",
              "      <td>0.000020</td>\n",
              "      <td>0.0</td>\n",
              "      <td>0.000020</td>\n",
              "      <td>0.0</td>\n",
              "      <td>0.000020</td>\n",
              "      <td>0.0</td>\n",
              "      <td>0.000020</td>\n",
              "      <td>0.0</td>\n",
              "    </tr>\n",
              "    <tr>\n",
              "      <th>Specificity</th>\n",
              "      <td>1.000000</td>\n",
              "      <td>1.0</td>\n",
              "      <td>1.000000</td>\n",
              "      <td>1.0</td>\n",
              "      <td>1.000000</td>\n",
              "      <td>1.0</td>\n",
              "      <td>1.000000</td>\n",
              "      <td>1.0</td>\n",
              "      <td>1.000000</td>\n",
              "      <td>1.0</td>\n",
              "    </tr>\n",
              "    <tr>\n",
              "      <th>F1 Score</th>\n",
              "      <td>0.000039</td>\n",
              "      <td>0.0</td>\n",
              "      <td>0.000039</td>\n",
              "      <td>0.0</td>\n",
              "      <td>0.000039</td>\n",
              "      <td>0.0</td>\n",
              "      <td>0.000039</td>\n",
              "      <td>0.0</td>\n",
              "      <td>0.000039</td>\n",
              "      <td>0.0</td>\n",
              "    </tr>\n",
              "  </tbody>\n",
              "</table>\n",
              "</div>"
            ],
            "text/plain": [
              "             Data Train 1  Data Test 1  ...  Data Train 5  Data Test 5\n",
              "Accuracy         0.100020          0.1  ...      0.100020          0.1\n",
              "Sensitivity      0.000020          0.0  ...      0.000020          0.0\n",
              "Specificity      1.000000          1.0  ...      1.000000          1.0\n",
              "F1 Score         0.000039          0.0  ...      0.000039          0.0\n",
              "\n",
              "[4 rows x 10 columns]"
            ]
          },
          "metadata": {
            "tags": []
          },
          "execution_count": 26
        }
      ]
    },
    {
      "cell_type": "markdown",
      "metadata": {
        "id": "mVuRjpkrIUkY"
      },
      "source": [
        "#### Gabungan _Feature Engineering_, Menambahkan _Layer_, dan _Hyperparameter tuning_ ($\\text{learning rate} = 0.001$, $\\text{epoch} = 30$)"
      ]
    },
    {
      "cell_type": "markdown",
      "metadata": {
        "id": "Eo3AOVnQjqqK"
      },
      "source": [
        "- Membangun Model _Fully Connected Neural Network_ sebagai _dedicated model_ untuk eksperimen _multiple parameter_."
      ]
    },
    {
      "cell_type": "code",
      "metadata": {
        "id": "9hdTuM3tIYIH",
        "outputId": "43737e0c-59b8-4ba5-dca3-6d8a51b97770",
        "colab": {
          "base_uri": "https://localhost:8080/",
          "height": 34
        }
      },
      "source": [
        "## Melakukan inisialisasi node per layer\n",
        "nodes_per_layer_for_combined_trick = [1000, 1000, 1000, 1000, 10]\n",
        "activation_function_per_layer_for_combined_trick = [tf.nn.relu, tf.nn.relu, tf.nn.relu, tf.nn.relu, tf.nn.softmax]\n",
        "\n",
        "## Inisialisasi Layer Model Parameter\n",
        "layers_for_combined_trick = []\n",
        "layers_for_combined_trick.append(tf.keras.layers.Flatten())\n",
        "\n",
        "## Menyisipkan parameter node dan fungsi aktivasinya\n",
        "for i in range(len(nodes_per_layer_for_combined_trick)):\n",
        "  node = nodes_per_layer_for_combined_trick[i]\n",
        "  activation = activation_function_per_layer_for_combined_trick[i]\n",
        "  layers_for_combined_trick.append(keras.layers.Dense(node, activation=activation))\n",
        "\n",
        "## Mendefinisikan model\n",
        "model_for_combined_trick = Sequential(layers_for_combined_trick)\n",
        "\n",
        "## Membangun model\n",
        "model_for_combined_trick.build(input_shape=x_train.shape)\n",
        "model_for_combined_trick.output_shape"
      ],
      "execution_count": 27,
      "outputs": [
        {
          "output_type": "execute_result",
          "data": {
            "text/plain": [
              "(50000, 10)"
            ]
          },
          "metadata": {
            "tags": []
          },
          "execution_count": 27
        }
      ]
    },
    {
      "cell_type": "markdown",
      "metadata": {
        "id": "i4TTJ4kXjdHC"
      },
      "source": [
        "- Melakukan kompilasi ke dalam model"
      ]
    },
    {
      "cell_type": "code",
      "metadata": {
        "id": "F7AecTxmJelu"
      },
      "source": [
        "model_for_combined_trick.compile(\n",
        "    optimizer=SGD(lr=0.001, momentum=0.9),\n",
        "    loss='categorical_crossentropy',\n",
        "    metrics=[\n",
        "      'accuracy',\n",
        "      recall,\n",
        "      specificity,\n",
        "      f1_score\n",
        "    ])"
      ],
      "execution_count": 28,
      "outputs": []
    },
    {
      "cell_type": "markdown",
      "metadata": {
        "id": "DrpraaUxjaaU"
      },
      "source": [
        "- Melakukan _fitting_"
      ]
    },
    {
      "cell_type": "code",
      "metadata": {
        "id": "4YfUv0yyJkWo",
        "outputId": "4ce4f479-0b39-4016-98fb-3f830b1c3a0b",
        "colab": {
          "base_uri": "https://localhost:8080/",
          "height": 1000
        }
      },
      "source": [
        "model_for_combined_trick_hist = model_for_combined_trick.fit(normalize_x_train, y_train, epochs=30, batch_size=5000, validation_data=(normalize_x_test, y_test), use_multiprocessing=True)"
      ],
      "execution_count": 29,
      "outputs": [
        {
          "output_type": "stream",
          "text": [
            "Epoch 1/30\n",
            "10/10 [==============================] - 25s 2s/step - loss: 2.3070 - accuracy: 0.0839 - recall: 0.0000e+00 - specificity: 1.0000 - f1_score: 0.0000e+00 - val_loss: 2.2928 - val_accuracy: 0.1202 - val_recall: 0.0000e+00 - val_specificity: 1.0000 - val_f1_score: 0.0000e+00\n",
            "Epoch 2/30\n",
            "10/10 [==============================] - 24s 2s/step - loss: 2.2815 - accuracy: 0.1197 - recall: 0.0000e+00 - specificity: 1.0000 - f1_score: 0.0000e+00 - val_loss: 2.2675 - val_accuracy: 0.1310 - val_recall: 0.0000e+00 - val_specificity: 1.0000 - val_f1_score: 0.0000e+00\n",
            "Epoch 3/30\n",
            "10/10 [==============================] - 24s 2s/step - loss: 2.2568 - accuracy: 0.1463 - recall: 0.0000e+00 - specificity: 1.0000 - f1_score: 0.0000e+00 - val_loss: 2.2429 - val_accuracy: 0.1773 - val_recall: 0.0000e+00 - val_specificity: 1.0000 - val_f1_score: 0.0000e+00\n",
            "Epoch 4/30\n",
            "10/10 [==============================] - 24s 2s/step - loss: 2.2329 - accuracy: 0.1958 - recall: 0.0000e+00 - specificity: 1.0000 - f1_score: 0.0000e+00 - val_loss: 2.2202 - val_accuracy: 0.2145 - val_recall: 0.0000e+00 - val_specificity: 1.0000 - val_f1_score: 0.0000e+00\n",
            "Epoch 5/30\n",
            "10/10 [==============================] - 24s 2s/step - loss: 2.2108 - accuracy: 0.2199 - recall: 0.0000e+00 - specificity: 1.0000 - f1_score: 0.0000e+00 - val_loss: 2.1985 - val_accuracy: 0.2285 - val_recall: 0.0000e+00 - val_specificity: 1.0000 - val_f1_score: 0.0000e+00\n",
            "Epoch 6/30\n",
            "10/10 [==============================] - 24s 2s/step - loss: 2.1892 - accuracy: 0.2341 - recall: 0.0000e+00 - specificity: 1.0000 - f1_score: 0.0000e+00 - val_loss: 2.1773 - val_accuracy: 0.2463 - val_recall: 0.0000e+00 - val_specificity: 1.0000 - val_f1_score: 0.0000e+00\n",
            "Epoch 7/30\n",
            "10/10 [==============================] - 24s 2s/step - loss: 2.1681 - accuracy: 0.2525 - recall: 0.0000e+00 - specificity: 1.0000 - f1_score: 0.0000e+00 - val_loss: 2.1565 - val_accuracy: 0.2599 - val_recall: 0.0000e+00 - val_specificity: 1.0000 - val_f1_score: 0.0000e+00\n",
            "Epoch 8/30\n",
            "10/10 [==============================] - 24s 2s/step - loss: 2.1473 - accuracy: 0.2634 - recall: 0.0000e+00 - specificity: 1.0000 - f1_score: 0.0000e+00 - val_loss: 2.1359 - val_accuracy: 0.2665 - val_recall: 0.0000e+00 - val_specificity: 1.0000 - val_f1_score: 0.0000e+00\n",
            "Epoch 9/30\n",
            "10/10 [==============================] - 24s 2s/step - loss: 2.1269 - accuracy: 0.2699 - recall: 0.0000e+00 - specificity: 1.0000 - f1_score: 0.0000e+00 - val_loss: 2.1158 - val_accuracy: 0.2733 - val_recall: 0.0000e+00 - val_specificity: 1.0000 - val_f1_score: 0.0000e+00\n",
            "Epoch 10/30\n",
            "10/10 [==============================] - 24s 2s/step - loss: 2.1068 - accuracy: 0.2804 - recall: 0.0000e+00 - specificity: 1.0000 - f1_score: 0.0000e+00 - val_loss: 2.0964 - val_accuracy: 0.2805 - val_recall: 0.0000e+00 - val_specificity: 1.0000 - val_f1_score: 0.0000e+00\n",
            "Epoch 11/30\n",
            "10/10 [==============================] - 24s 2s/step - loss: 2.0875 - accuracy: 0.2838 - recall: 0.0000e+00 - specificity: 1.0000 - f1_score: 0.0000e+00 - val_loss: 2.0776 - val_accuracy: 0.2813 - val_recall: 0.0000e+00 - val_specificity: 1.0000 - val_f1_score: 0.0000e+00\n",
            "Epoch 12/30\n",
            "10/10 [==============================] - 24s 2s/step - loss: 2.0690 - accuracy: 0.2876 - recall: 0.0000e+00 - specificity: 1.0000 - f1_score: 0.0000e+00 - val_loss: 2.0598 - val_accuracy: 0.2891 - val_recall: 0.0000e+00 - val_specificity: 1.0000 - val_f1_score: 0.0000e+00\n",
            "Epoch 13/30\n",
            "10/10 [==============================] - 24s 2s/step - loss: 2.0515 - accuracy: 0.2971 - recall: 0.0000e+00 - specificity: 1.0000 - f1_score: 0.0000e+00 - val_loss: 2.0431 - val_accuracy: 0.2991 - val_recall: 0.0000e+00 - val_specificity: 1.0000 - val_f1_score: 0.0000e+00\n",
            "Epoch 14/30\n",
            "10/10 [==============================] - 24s 2s/step - loss: 2.0351 - accuracy: 0.2990 - recall: 8.0000e-05 - specificity: 1.0000 - f1_score: 1.5995e-04 - val_loss: 2.0271 - val_accuracy: 0.2986 - val_recall: 3.0000e-04 - val_specificity: 1.0000 - val_f1_score: 5.9980e-04\n",
            "Epoch 15/30\n",
            "10/10 [==============================] - 24s 2s/step - loss: 2.0196 - accuracy: 0.3029 - recall: 4.8000e-04 - specificity: 1.0000 - f1_score: 9.5922e-04 - val_loss: 2.0123 - val_accuracy: 0.3030 - val_recall: 8.0000e-04 - val_specificity: 1.0000 - val_f1_score: 0.0016\n",
            "Epoch 16/30\n",
            "10/10 [==============================] - 24s 2s/step - loss: 2.0051 - accuracy: 0.3064 - recall: 0.0014 - specificity: 1.0000 - f1_score: 0.0028 - val_loss: 1.9984 - val_accuracy: 0.3098 - val_recall: 0.0022 - val_specificity: 1.0000 - val_f1_score: 0.0044\n",
            "Epoch 17/30\n",
            "10/10 [==============================] - 24s 2s/step - loss: 1.9915 - accuracy: 0.3129 - recall: 0.0020 - specificity: 1.0000 - f1_score: 0.0041 - val_loss: 1.9852 - val_accuracy: 0.3129 - val_recall: 0.0034 - val_specificity: 0.9999 - val_f1_score: 0.0068\n",
            "Epoch 18/30\n",
            "10/10 [==============================] - 24s 2s/step - loss: 1.9785 - accuracy: 0.3141 - recall: 0.0042 - specificity: 0.9999 - f1_score: 0.0083 - val_loss: 1.9728 - val_accuracy: 0.3169 - val_recall: 0.0049 - val_specificity: 0.9999 - val_f1_score: 0.0097\n",
            "Epoch 19/30\n",
            "10/10 [==============================] - 24s 2s/step - loss: 1.9664 - accuracy: 0.3185 - recall: 0.0050 - specificity: 0.9998 - f1_score: 0.0100 - val_loss: 1.9612 - val_accuracy: 0.3184 - val_recall: 0.0075 - val_specificity: 0.9998 - val_f1_score: 0.0149\n",
            "Epoch 20/30\n",
            "10/10 [==============================] - 24s 2s/step - loss: 1.9549 - accuracy: 0.3225 - recall: 0.0075 - specificity: 0.9997 - f1_score: 0.0148 - val_loss: 1.9502 - val_accuracy: 0.3240 - val_recall: 0.0088 - val_specificity: 0.9997 - val_f1_score: 0.0174\n",
            "Epoch 21/30\n",
            "10/10 [==============================] - 24s 2s/step - loss: 1.9441 - accuracy: 0.3251 - recall: 0.0095 - specificity: 0.9996 - f1_score: 0.0187 - val_loss: 1.9399 - val_accuracy: 0.3240 - val_recall: 0.0115 - val_specificity: 0.9995 - val_f1_score: 0.0226\n",
            "Epoch 22/30\n",
            "10/10 [==============================] - 24s 2s/step - loss: 1.9341 - accuracy: 0.3285 - recall: 0.0115 - specificity: 0.9994 - f1_score: 0.0227 - val_loss: 1.9301 - val_accuracy: 0.3267 - val_recall: 0.0141 - val_specificity: 0.9994 - val_f1_score: 0.0277\n",
            "Epoch 23/30\n",
            "10/10 [==============================] - 24s 2s/step - loss: 1.9244 - accuracy: 0.3316 - recall: 0.0140 - specificity: 0.9993 - f1_score: 0.0274 - val_loss: 1.9209 - val_accuracy: 0.3279 - val_recall: 0.0178 - val_specificity: 0.9992 - val_f1_score: 0.0347\n",
            "Epoch 24/30\n",
            "10/10 [==============================] - 24s 2s/step - loss: 1.9153 - accuracy: 0.3339 - recall: 0.0164 - specificity: 0.9992 - f1_score: 0.0321 - val_loss: 1.9124 - val_accuracy: 0.3354 - val_recall: 0.0188 - val_specificity: 0.9992 - val_f1_score: 0.0366\n",
            "Epoch 25/30\n",
            "10/10 [==============================] - 24s 2s/step - loss: 1.9067 - accuracy: 0.3370 - recall: 0.0188 - specificity: 0.9991 - f1_score: 0.0365 - val_loss: 1.9038 - val_accuracy: 0.3352 - val_recall: 0.0221 - val_specificity: 0.9990 - val_f1_score: 0.0428\n",
            "Epoch 26/30\n",
            "10/10 [==============================] - 24s 2s/step - loss: 1.8985 - accuracy: 0.3389 - recall: 0.0213 - specificity: 0.9990 - f1_score: 0.0414 - val_loss: 1.8960 - val_accuracy: 0.3390 - val_recall: 0.0243 - val_specificity: 0.9988 - val_f1_score: 0.0470\n",
            "Epoch 27/30\n",
            "10/10 [==============================] - 24s 2s/step - loss: 1.8908 - accuracy: 0.3412 - recall: 0.0239 - specificity: 0.9988 - f1_score: 0.0463 - val_loss: 1.8886 - val_accuracy: 0.3400 - val_recall: 0.0258 - val_specificity: 0.9987 - val_f1_score: 0.0497\n",
            "Epoch 28/30\n",
            "10/10 [==============================] - 24s 2s/step - loss: 1.8835 - accuracy: 0.3446 - recall: 0.0255 - specificity: 0.9988 - f1_score: 0.0491 - val_loss: 1.8816 - val_accuracy: 0.3430 - val_recall: 0.0280 - val_specificity: 0.9987 - val_f1_score: 0.0538\n",
            "Epoch 29/30\n",
            "10/10 [==============================] - 24s 2s/step - loss: 1.8766 - accuracy: 0.3453 - recall: 0.0283 - specificity: 0.9987 - f1_score: 0.0545 - val_loss: 1.8750 - val_accuracy: 0.3458 - val_recall: 0.0299 - val_specificity: 0.9985 - val_f1_score: 0.0573\n",
            "Epoch 30/30\n",
            "10/10 [==============================] - 24s 2s/step - loss: 1.8698 - accuracy: 0.3490 - recall: 0.0294 - specificity: 0.9986 - f1_score: 0.0564 - val_loss: 1.8683 - val_accuracy: 0.3497 - val_recall: 0.0325 - val_specificity: 0.9984 - val_f1_score: 0.0621\n"
          ],
          "name": "stdout"
        }
      ]
    },
    {
      "cell_type": "markdown",
      "metadata": {
        "id": "cE_CJqtAjXPX"
      },
      "source": [
        "- Melakukan Prediksi ke _Data Test_ dan Menampilkan _Metric_-nya"
      ]
    },
    {
      "cell_type": "code",
      "metadata": {
        "id": "6r-f5J9CTm4C",
        "outputId": "f97a07e1-9661-4ab4-fdf1-68c7f9b36c06",
        "colab": {
          "base_uri": "https://localhost:8080/",
          "height": 173
        }
      },
      "source": [
        "compare_train_and_test(model_for_combined_trick, normalize_x_train, y_train, normalize_x_test, y_test).transpose()"
      ],
      "execution_count": 30,
      "outputs": [
        {
          "output_type": "execute_result",
          "data": {
            "text/html": [
              "<div>\n",
              "<style scoped>\n",
              "    .dataframe tbody tr th:only-of-type {\n",
              "        vertical-align: middle;\n",
              "    }\n",
              "\n",
              "    .dataframe tbody tr th {\n",
              "        vertical-align: top;\n",
              "    }\n",
              "\n",
              "    .dataframe thead th {\n",
              "        text-align: right;\n",
              "    }\n",
              "</style>\n",
              "<table border=\"1\" class=\"dataframe\">\n",
              "  <thead>\n",
              "    <tr style=\"text-align: right;\">\n",
              "      <th></th>\n",
              "      <th>Data Train</th>\n",
              "      <th>Data Test</th>\n",
              "    </tr>\n",
              "  </thead>\n",
              "  <tbody>\n",
              "    <tr>\n",
              "      <th>Accuracy</th>\n",
              "      <td>0.349980</td>\n",
              "      <td>0.349700</td>\n",
              "    </tr>\n",
              "    <tr>\n",
              "      <th>Sensitivity</th>\n",
              "      <td>0.031230</td>\n",
              "      <td>0.032448</td>\n",
              "    </tr>\n",
              "    <tr>\n",
              "      <th>Specificity</th>\n",
              "      <td>0.998460</td>\n",
              "      <td>0.998412</td>\n",
              "    </tr>\n",
              "    <tr>\n",
              "      <th>F1 Score</th>\n",
              "      <td>0.058135</td>\n",
              "      <td>0.060360</td>\n",
              "    </tr>\n",
              "  </tbody>\n",
              "</table>\n",
              "</div>"
            ],
            "text/plain": [
              "             Data Train   Data Test \n",
              "Accuracy        0.349980    0.349700\n",
              "Sensitivity     0.031230    0.032448\n",
              "Specificity     0.998460    0.998412\n",
              "F1 Score        0.058135    0.060360"
            ]
          },
          "metadata": {
            "tags": []
          },
          "execution_count": 30
        }
      ]
    },
    {
      "cell_type": "markdown",
      "metadata": {
        "id": "WtA9nXujHomd"
      },
      "source": [
        "3. Analisis hasil yang anda dapatkan untuk masing-masing skenario."
      ]
    },
    {
      "cell_type": "markdown",
      "metadata": {
        "id": "B_v5q_o_IQRs"
      },
      "source": [
        "- Untuk skenario _feature engineering_, normalisasi nilai citra dapat meningkatkan akurasi. Ide normalisasi didasari dengan inputan awalnya bisa pada rentang $[0...255]$, hal ini dapat mengakibatkan beberapa _node_ dapat memiliki nilai yang cenderung sangat kecil dan cenderung sangat besar agar keluaran _node_-nya bisa diantara $[0...1]$. Untuk mengatasi hal itu, saya normalisasi nilainya agar berada pada rentang $[0...1]$.\n",
        "- Untuk skenario menambahkan _layer_, menambahkan layer sebanyak dua dapat meningkatkan akurasi. Ide menambahkan layer sebanyak dua sebenarnya muncul karena untuk mempercepat proses eksperimen saja dan pengalaman pribadi. Semakin banyak layer, semakin baik karena dapat memodelkan ke tahap yang lebih kompleks. _Tradeoff_-nya semakin banyak layer, semakin lama eksperimen berjalan. Setelah ditambahkan sebanyak\n",
        "- Untuk skenario melakukan _hyperparameter tuning_, saya hanya melakukan improvisasi pada $\\text{Learning Rate}$ dan $\\text{Epoch}$-nya saja. Setelah dilakukan mini skenario, _adjustment_ $\\text{Learning Rate}$ dan $\\text{epoch}$ saja tidak memberikan perubahan yang signifikan dan cenderung sama untuk setiap mini skenario.\n",
        "- Untuk skenario gabungan ketiganya dan mengambil _hyperparameter tuning_ untuk mini skenario $1$, terlihat bahwa hasil eksperimennya mengalami peningkatan dibanding skenario-skenario yang berdiri sendiri sebelumnya."
      ]
    },
    {
      "cell_type": "markdown",
      "metadata": {
        "id": "8VUY1leF4v5o"
      },
      "source": [
        "### B. _Convolutional Neural Networks_"
      ]
    },
    {
      "cell_type": "markdown",
      "metadata": {
        "id": "Q_ZVbr9Mh5p_"
      },
      "source": [
        "1. Lakukan Klasifikasi untuk dataset cifar menggunakan _Convolutional Neural Networks_ dengan arsitektur dasar sebagai berikut:\n",
        "    - _Convolutional Layer_ ($25 \\text{ maps}$, $\\text{kernel }3 \\times 3$)\n",
        "    - Pooling Layer ($2 \\times 2$)\n",
        "    - Convolutional Layer ($50 \\text{ maps}$, $\\text{kernel }3 \\times 3$)\n",
        "    - Pooling Layer ($2 \\times 2$)\n",
        "    - Hidden Layer ($100 \\text{ neuron}$)\n",
        "    - Activation Function ($\\text{ReLU function}$)\n",
        "    - Output Layer ($10 \\text{ class}$)\n",
        "    - Activation Function ($\\text{Softmax function}$)\n",
        "    - Classification Result\n",
        "2. Hitung metrik ($\\text{accuracy}$, $\\text{sensitivity}$ , $\\text{specificity}$, dan $f_{1}\\text{ score}$) untuk untuk data train\n",
        "dan data test."
      ]
    },
    {
      "cell_type": "code",
      "metadata": {
        "id": "yIwqeQ5chCNf",
        "outputId": "48d9c4cb-18a1-4e13-c0ac-085ca6f93c21",
        "colab": {
          "base_uri": "https://localhost:8080/",
          "height": 34
        }
      },
      "source": [
        "convolutional_layers = []\n",
        "convolutional_layers.append(Conv2D(25, kernel_size=(3, 3), activation=tf.nn.relu, padding='SAME', kernel_initializer=tf.keras.initializers.HeUniform()))\n",
        "convolutional_layers.append(MaxPooling2D(2,2))\n",
        "convolutional_layers.append(Conv2D(50, kernel_size=(3, 3), activation=tf.nn.relu, padding='SAME', kernel_initializer=tf.keras.initializers.HeUniform()))\n",
        "convolutional_layers.append(MaxPooling2D(2,2))\n",
        "convolutional_layers.append(Flatten())\n",
        "convolutional_layers.append(Dense(100, activation=tf.nn.relu))\n",
        "convolutional_layers.append(Dense(10, activation=tf.nn.softmax))\n",
        "\n",
        "convolutional_model = Sequential(convolutional_layers)\n",
        "\n",
        "## Membangun model\n",
        "convolutional_model.build(input_shape=x_train.shape)\n",
        "convolutional_model.output_shape"
      ],
      "execution_count": 31,
      "outputs": [
        {
          "output_type": "execute_result",
          "data": {
            "text/plain": [
              "(50000, 10)"
            ]
          },
          "metadata": {
            "tags": []
          },
          "execution_count": 31
        }
      ]
    },
    {
      "cell_type": "code",
      "metadata": {
        "id": "R0YiE-chr6eY"
      },
      "source": [
        "convolutional_model.compile(\n",
        "    optimizer=SGD(lr=0.001, momentum=0.9),\n",
        "    loss='categorical_crossentropy',\n",
        "    metrics=[\n",
        "      'accuracy',\n",
        "      recall,\n",
        "      specificity,\n",
        "      f1_score\n",
        "    ])"
      ],
      "execution_count": 32,
      "outputs": []
    },
    {
      "cell_type": "code",
      "metadata": {
        "id": "RigQ_onVwEQ_",
        "outputId": "dbcd9c93-d766-49ef-a43d-c1d4f08aeb0b",
        "colab": {
          "base_uri": "https://localhost:8080/",
          "height": 105
        }
      },
      "source": [
        "convolutional_model_hist = convolutional_model.fit(x_train, y_train, epochs=25, batch_size=50, validation_data=(x_test, y_test), use_multiprocessing=True)"
      ],
      "execution_count": null,
      "outputs": [
        {
          "output_type": "stream",
          "text": [
            "Epoch 1/25\n",
            "WARNING:tensorflow:Model was constructed with shape (50000, 32, 32, 3) for input Tensor(\"conv2d_input:0\", shape=(50000, 32, 32, 3), dtype=float32), but it was called on an input with incompatible shape (50, 32, 32, 3).\n",
            "WARNING:tensorflow:Model was constructed with shape (50000, 32, 32, 3) for input Tensor(\"conv2d_input:0\", shape=(50000, 32, 32, 3), dtype=float32), but it was called on an input with incompatible shape (50, 32, 32, 3).\n",
            " 397/1000 [==========>...................] - ETA: 39s - loss: 26.4562 - accuracy: 0.0967 - recall: 0.0012 - specificity: 0.9988 - f1_score: 0.0014"
          ],
          "name": "stdout"
        }
      ]
    },
    {
      "cell_type": "code",
      "metadata": {
        "id": "GOliRak1wO0X"
      },
      "source": [
        "compare_train_and_test(convolutional_model, x_train, y_train, x_test, y_test).transpose()"
      ],
      "execution_count": null,
      "outputs": []
    },
    {
      "cell_type": "markdown",
      "metadata": {
        "id": "wjeXlkf_Ctyw"
      },
      "source": [
        "3. Anda dapat memperbaiki hasil yang didapat dengan melakukan 2 (dua) skenario eksperimen, yaitu menambah _layer_ dan _hyperparameter tuning_ (pada classifier)."
      ]
    },
    {
      "cell_type": "markdown",
      "metadata": {
        "id": "5xyg_ndiDBgf"
      },
      "source": [
        "##### Menambahkan _layer_"
      ]
    },
    {
      "cell_type": "code",
      "metadata": {
        "id": "LBH1HUHryrNc"
      },
      "source": [
        "convolutional_extra_layers = []\n",
        "convolutional_extra_layers.append(Conv2D(25, kernel_size=(3, 3), activation=tf.nn.relu, padding='SAME', kernel_initializer=tf.keras.initializers.HeUniform()))\n",
        "convolutional_extra_layers.append(Reshape(50000, 32, 32, 3))\n",
        "convolutional_extra_layers.append(Conv2D(25, kernel_size=(3, 3), activation=tf.nn.relu, padding='SAME', kernel_initializer=tf.keras.initializers.HeUniform()))\n",
        "convolutional_extra_layers.append(Reshape(50000, 32, 32, 3))\n",
        "convolutional_extra_layers.append(MaxPooling2D(2,2))\n",
        "convolutional_extra_layers.append(Conv2D(50, kernel_size=(3, 3), activation=tf.nn.relu, padding='SAME', kernel_initializer=tf.keras.initializers.HeUniform()))\n",
        "convolutional_extra_layers.append(Reshape(50000, 32, 32, 3))\n",
        "convolutional_extra_layers.append(Conv2D(50, kernel_size=(3, 3), activation=tf.nn.relu, padding='SAME', kernel_initializer=tf.keras.initializers.HeUniform()))\n",
        "convolutional_extra_layers.append(Reshape(50000, 32, 32, 3))\n",
        "convolutional_extra_layers.append(MaxPooling2D(2,2))\n",
        "convolutional_extra_layers.append(Flatten())\n",
        "convolutional_extra_layers.append(Dense(200, activation=tf.nn.relu, kernel_initializer=tf.keras.initializers.HeUniform()))\n",
        "convolutional_extra_layers.append(Dense(10, activation=tf.nn.softmax))\n",
        "\n",
        "convolutional_extra_model = Sequential(convolutional_extra_layers)\n",
        "\n",
        "## Membangun model\n",
        "convolutional_extra_model.build(input_shape=x_train.shape)\n",
        "convolutional_extra_model.output_shape"
      ],
      "execution_count": null,
      "outputs": []
    },
    {
      "cell_type": "code",
      "metadata": {
        "id": "EgDlW3V8DnGw"
      },
      "source": [
        "convolutional_extra_model.compile(\n",
        "    optimizer=SGD(lr=0.001, momentum=0.9),\n",
        "    loss='categorical_crossentropy',\n",
        "    metrics=[\n",
        "      'accuracy',\n",
        "      recall,\n",
        "      specificity,\n",
        "      f1_score\n",
        "    ])"
      ],
      "execution_count": null,
      "outputs": []
    },
    {
      "cell_type": "code",
      "metadata": {
        "id": "ORWrHHVND5K4",
        "outputId": "1a69a4d4-27f5-4de0-d6a6-8710afb2a7e7",
        "colab": {
          "base_uri": "https://localhost:8080/",
          "height": 411
        }
      },
      "source": [
        "convolutional_extra_model_hist = convolutional_extra_model.fit(x_train, y_train, epochs=50, batch_size=50, validation_data=(x_test, y_test), use_multiprocessing=True)"
      ],
      "execution_count": 155,
      "outputs": [
        {
          "output_type": "stream",
          "text": [
            "Epoch 1/50\n",
            "WARNING:tensorflow:Model was constructed with shape (50000, 32, 32, 3) for input Tensor(\"conv2d_37_input:0\", shape=(50000, 32, 32, 3), dtype=float32), but it was called on an input with incompatible shape (50, 32, 32, 3).\n",
            "WARNING:tensorflow:Model was constructed with shape (50000, 32, 32, 3) for input Tensor(\"conv2d_37_input:0\", shape=(50000, 32, 32, 3), dtype=float32), but it was called on an input with incompatible shape (50, 32, 32, 3).\n",
            "  67/1000 [=>............................] - ETA: 59s - loss: 369.7099 - accuracy: 0.1030 - recall: 0.0310 - specificity: 0.9714 - f1_score: 0.0315"
          ],
          "name": "stdout"
        },
        {
          "output_type": "error",
          "ename": "KeyboardInterrupt",
          "evalue": "ignored",
          "traceback": [
            "\u001b[0;31m---------------------------------------------------------------------------\u001b[0m",
            "\u001b[0;31mKeyboardInterrupt\u001b[0m                         Traceback (most recent call last)",
            "\u001b[0;32m<ipython-input-155-1417dff00cae>\u001b[0m in \u001b[0;36m<module>\u001b[0;34m()\u001b[0m\n\u001b[0;32m----> 1\u001b[0;31m \u001b[0mconvolutional_extra_model_hist\u001b[0m \u001b[0;34m=\u001b[0m \u001b[0mconvolutional_extra_model\u001b[0m\u001b[0;34m.\u001b[0m\u001b[0mfit\u001b[0m\u001b[0;34m(\u001b[0m\u001b[0mx_train\u001b[0m\u001b[0;34m,\u001b[0m \u001b[0my_train\u001b[0m\u001b[0;34m,\u001b[0m \u001b[0mepochs\u001b[0m\u001b[0;34m=\u001b[0m\u001b[0;36m50\u001b[0m\u001b[0;34m,\u001b[0m \u001b[0mbatch_size\u001b[0m\u001b[0;34m=\u001b[0m\u001b[0;36m50\u001b[0m\u001b[0;34m,\u001b[0m \u001b[0mvalidation_data\u001b[0m\u001b[0;34m=\u001b[0m\u001b[0;34m(\u001b[0m\u001b[0mx_test\u001b[0m\u001b[0;34m,\u001b[0m \u001b[0my_test\u001b[0m\u001b[0;34m)\u001b[0m\u001b[0;34m,\u001b[0m \u001b[0muse_multiprocessing\u001b[0m\u001b[0;34m=\u001b[0m\u001b[0;32mTrue\u001b[0m\u001b[0;34m)\u001b[0m\u001b[0;34m\u001b[0m\u001b[0;34m\u001b[0m\u001b[0m\n\u001b[0m",
            "\u001b[0;32m/usr/local/lib/python3.6/dist-packages/tensorflow/python/keras/engine/training.py\u001b[0m in \u001b[0;36m_method_wrapper\u001b[0;34m(self, *args, **kwargs)\u001b[0m\n\u001b[1;32m    106\u001b[0m   \u001b[0;32mdef\u001b[0m \u001b[0m_method_wrapper\u001b[0m\u001b[0;34m(\u001b[0m\u001b[0mself\u001b[0m\u001b[0;34m,\u001b[0m \u001b[0;34m*\u001b[0m\u001b[0margs\u001b[0m\u001b[0;34m,\u001b[0m \u001b[0;34m**\u001b[0m\u001b[0mkwargs\u001b[0m\u001b[0;34m)\u001b[0m\u001b[0;34m:\u001b[0m\u001b[0;34m\u001b[0m\u001b[0;34m\u001b[0m\u001b[0m\n\u001b[1;32m    107\u001b[0m     \u001b[0;32mif\u001b[0m \u001b[0;32mnot\u001b[0m \u001b[0mself\u001b[0m\u001b[0;34m.\u001b[0m\u001b[0m_in_multi_worker_mode\u001b[0m\u001b[0;34m(\u001b[0m\u001b[0;34m)\u001b[0m\u001b[0;34m:\u001b[0m  \u001b[0;31m# pylint: disable=protected-access\u001b[0m\u001b[0;34m\u001b[0m\u001b[0;34m\u001b[0m\u001b[0m\n\u001b[0;32m--> 108\u001b[0;31m       \u001b[0;32mreturn\u001b[0m \u001b[0mmethod\u001b[0m\u001b[0;34m(\u001b[0m\u001b[0mself\u001b[0m\u001b[0;34m,\u001b[0m \u001b[0;34m*\u001b[0m\u001b[0margs\u001b[0m\u001b[0;34m,\u001b[0m \u001b[0;34m**\u001b[0m\u001b[0mkwargs\u001b[0m\u001b[0;34m)\u001b[0m\u001b[0;34m\u001b[0m\u001b[0;34m\u001b[0m\u001b[0m\n\u001b[0m\u001b[1;32m    109\u001b[0m \u001b[0;34m\u001b[0m\u001b[0m\n\u001b[1;32m    110\u001b[0m     \u001b[0;31m# Running inside `run_distribute_coordinator` already.\u001b[0m\u001b[0;34m\u001b[0m\u001b[0;34m\u001b[0m\u001b[0;34m\u001b[0m\u001b[0m\n",
            "\u001b[0;32m/usr/local/lib/python3.6/dist-packages/tensorflow/python/keras/engine/training.py\u001b[0m in \u001b[0;36mfit\u001b[0;34m(self, x, y, batch_size, epochs, verbose, callbacks, validation_split, validation_data, shuffle, class_weight, sample_weight, initial_epoch, steps_per_epoch, validation_steps, validation_batch_size, validation_freq, max_queue_size, workers, use_multiprocessing)\u001b[0m\n\u001b[1;32m   1096\u001b[0m                 batch_size=batch_size):\n\u001b[1;32m   1097\u001b[0m               \u001b[0mcallbacks\u001b[0m\u001b[0;34m.\u001b[0m\u001b[0mon_train_batch_begin\u001b[0m\u001b[0;34m(\u001b[0m\u001b[0mstep\u001b[0m\u001b[0;34m)\u001b[0m\u001b[0;34m\u001b[0m\u001b[0;34m\u001b[0m\u001b[0m\n\u001b[0;32m-> 1098\u001b[0;31m               \u001b[0mtmp_logs\u001b[0m \u001b[0;34m=\u001b[0m \u001b[0mtrain_function\u001b[0m\u001b[0;34m(\u001b[0m\u001b[0miterator\u001b[0m\u001b[0;34m)\u001b[0m\u001b[0;34m\u001b[0m\u001b[0;34m\u001b[0m\u001b[0m\n\u001b[0m\u001b[1;32m   1099\u001b[0m               \u001b[0;32mif\u001b[0m \u001b[0mdata_handler\u001b[0m\u001b[0;34m.\u001b[0m\u001b[0mshould_sync\u001b[0m\u001b[0;34m:\u001b[0m\u001b[0;34m\u001b[0m\u001b[0;34m\u001b[0m\u001b[0m\n\u001b[1;32m   1100\u001b[0m                 \u001b[0mcontext\u001b[0m\u001b[0;34m.\u001b[0m\u001b[0masync_wait\u001b[0m\u001b[0;34m(\u001b[0m\u001b[0;34m)\u001b[0m\u001b[0;34m\u001b[0m\u001b[0;34m\u001b[0m\u001b[0m\n",
            "\u001b[0;32m/usr/local/lib/python3.6/dist-packages/tensorflow/python/eager/def_function.py\u001b[0m in \u001b[0;36m__call__\u001b[0;34m(self, *args, **kwds)\u001b[0m\n\u001b[1;32m    778\u001b[0m       \u001b[0;32melse\u001b[0m\u001b[0;34m:\u001b[0m\u001b[0;34m\u001b[0m\u001b[0;34m\u001b[0m\u001b[0m\n\u001b[1;32m    779\u001b[0m         \u001b[0mcompiler\u001b[0m \u001b[0;34m=\u001b[0m \u001b[0;34m\"nonXla\"\u001b[0m\u001b[0;34m\u001b[0m\u001b[0;34m\u001b[0m\u001b[0m\n\u001b[0;32m--> 780\u001b[0;31m         \u001b[0mresult\u001b[0m \u001b[0;34m=\u001b[0m \u001b[0mself\u001b[0m\u001b[0;34m.\u001b[0m\u001b[0m_call\u001b[0m\u001b[0;34m(\u001b[0m\u001b[0;34m*\u001b[0m\u001b[0margs\u001b[0m\u001b[0;34m,\u001b[0m \u001b[0;34m**\u001b[0m\u001b[0mkwds\u001b[0m\u001b[0;34m)\u001b[0m\u001b[0;34m\u001b[0m\u001b[0;34m\u001b[0m\u001b[0m\n\u001b[0m\u001b[1;32m    781\u001b[0m \u001b[0;34m\u001b[0m\u001b[0m\n\u001b[1;32m    782\u001b[0m       \u001b[0mnew_tracing_count\u001b[0m \u001b[0;34m=\u001b[0m \u001b[0mself\u001b[0m\u001b[0;34m.\u001b[0m\u001b[0m_get_tracing_count\u001b[0m\u001b[0;34m(\u001b[0m\u001b[0;34m)\u001b[0m\u001b[0;34m\u001b[0m\u001b[0;34m\u001b[0m\u001b[0m\n",
            "\u001b[0;32m/usr/local/lib/python3.6/dist-packages/tensorflow/python/eager/def_function.py\u001b[0m in \u001b[0;36m_call\u001b[0;34m(self, *args, **kwds)\u001b[0m\n\u001b[1;32m    805\u001b[0m       \u001b[0;31m# In this case we have created variables on the first call, so we run the\u001b[0m\u001b[0;34m\u001b[0m\u001b[0;34m\u001b[0m\u001b[0;34m\u001b[0m\u001b[0m\n\u001b[1;32m    806\u001b[0m       \u001b[0;31m# defunned version which is guaranteed to never create variables.\u001b[0m\u001b[0;34m\u001b[0m\u001b[0;34m\u001b[0m\u001b[0;34m\u001b[0m\u001b[0m\n\u001b[0;32m--> 807\u001b[0;31m       \u001b[0;32mreturn\u001b[0m \u001b[0mself\u001b[0m\u001b[0;34m.\u001b[0m\u001b[0m_stateless_fn\u001b[0m\u001b[0;34m(\u001b[0m\u001b[0;34m*\u001b[0m\u001b[0margs\u001b[0m\u001b[0;34m,\u001b[0m \u001b[0;34m**\u001b[0m\u001b[0mkwds\u001b[0m\u001b[0;34m)\u001b[0m  \u001b[0;31m# pylint: disable=not-callable\u001b[0m\u001b[0;34m\u001b[0m\u001b[0;34m\u001b[0m\u001b[0m\n\u001b[0m\u001b[1;32m    808\u001b[0m     \u001b[0;32melif\u001b[0m \u001b[0mself\u001b[0m\u001b[0;34m.\u001b[0m\u001b[0m_stateful_fn\u001b[0m \u001b[0;32mis\u001b[0m \u001b[0;32mnot\u001b[0m \u001b[0;32mNone\u001b[0m\u001b[0;34m:\u001b[0m\u001b[0;34m\u001b[0m\u001b[0;34m\u001b[0m\u001b[0m\n\u001b[1;32m    809\u001b[0m       \u001b[0;31m# Release the lock early so that multiple threads can perform the call\u001b[0m\u001b[0;34m\u001b[0m\u001b[0;34m\u001b[0m\u001b[0;34m\u001b[0m\u001b[0m\n",
            "\u001b[0;32m/usr/local/lib/python3.6/dist-packages/tensorflow/python/eager/function.py\u001b[0m in \u001b[0;36m__call__\u001b[0;34m(self, *args, **kwargs)\u001b[0m\n\u001b[1;32m   2827\u001b[0m     \u001b[0;32mwith\u001b[0m \u001b[0mself\u001b[0m\u001b[0;34m.\u001b[0m\u001b[0m_lock\u001b[0m\u001b[0;34m:\u001b[0m\u001b[0;34m\u001b[0m\u001b[0;34m\u001b[0m\u001b[0m\n\u001b[1;32m   2828\u001b[0m       \u001b[0mgraph_function\u001b[0m\u001b[0;34m,\u001b[0m \u001b[0margs\u001b[0m\u001b[0;34m,\u001b[0m \u001b[0mkwargs\u001b[0m \u001b[0;34m=\u001b[0m \u001b[0mself\u001b[0m\u001b[0;34m.\u001b[0m\u001b[0m_maybe_define_function\u001b[0m\u001b[0;34m(\u001b[0m\u001b[0margs\u001b[0m\u001b[0;34m,\u001b[0m \u001b[0mkwargs\u001b[0m\u001b[0;34m)\u001b[0m\u001b[0;34m\u001b[0m\u001b[0;34m\u001b[0m\u001b[0m\n\u001b[0;32m-> 2829\u001b[0;31m     \u001b[0;32mreturn\u001b[0m \u001b[0mgraph_function\u001b[0m\u001b[0;34m.\u001b[0m\u001b[0m_filtered_call\u001b[0m\u001b[0;34m(\u001b[0m\u001b[0margs\u001b[0m\u001b[0;34m,\u001b[0m \u001b[0mkwargs\u001b[0m\u001b[0;34m)\u001b[0m  \u001b[0;31m# pylint: disable=protected-access\u001b[0m\u001b[0;34m\u001b[0m\u001b[0;34m\u001b[0m\u001b[0m\n\u001b[0m\u001b[1;32m   2830\u001b[0m \u001b[0;34m\u001b[0m\u001b[0m\n\u001b[1;32m   2831\u001b[0m   \u001b[0;34m@\u001b[0m\u001b[0mproperty\u001b[0m\u001b[0;34m\u001b[0m\u001b[0;34m\u001b[0m\u001b[0m\n",
            "\u001b[0;32m/usr/local/lib/python3.6/dist-packages/tensorflow/python/eager/function.py\u001b[0m in \u001b[0;36m_filtered_call\u001b[0;34m(self, args, kwargs, cancellation_manager)\u001b[0m\n\u001b[1;32m   1846\u001b[0m                            resource_variable_ops.BaseResourceVariable))],\n\u001b[1;32m   1847\u001b[0m         \u001b[0mcaptured_inputs\u001b[0m\u001b[0;34m=\u001b[0m\u001b[0mself\u001b[0m\u001b[0;34m.\u001b[0m\u001b[0mcaptured_inputs\u001b[0m\u001b[0;34m,\u001b[0m\u001b[0;34m\u001b[0m\u001b[0;34m\u001b[0m\u001b[0m\n\u001b[0;32m-> 1848\u001b[0;31m         cancellation_manager=cancellation_manager)\n\u001b[0m\u001b[1;32m   1849\u001b[0m \u001b[0;34m\u001b[0m\u001b[0m\n\u001b[1;32m   1850\u001b[0m   \u001b[0;32mdef\u001b[0m \u001b[0m_call_flat\u001b[0m\u001b[0;34m(\u001b[0m\u001b[0mself\u001b[0m\u001b[0;34m,\u001b[0m \u001b[0margs\u001b[0m\u001b[0;34m,\u001b[0m \u001b[0mcaptured_inputs\u001b[0m\u001b[0;34m,\u001b[0m \u001b[0mcancellation_manager\u001b[0m\u001b[0;34m=\u001b[0m\u001b[0;32mNone\u001b[0m\u001b[0;34m)\u001b[0m\u001b[0;34m:\u001b[0m\u001b[0;34m\u001b[0m\u001b[0;34m\u001b[0m\u001b[0m\n",
            "\u001b[0;32m/usr/local/lib/python3.6/dist-packages/tensorflow/python/eager/function.py\u001b[0m in \u001b[0;36m_call_flat\u001b[0;34m(self, args, captured_inputs, cancellation_manager)\u001b[0m\n\u001b[1;32m   1922\u001b[0m       \u001b[0;31m# No tape is watching; skip to running the function.\u001b[0m\u001b[0;34m\u001b[0m\u001b[0;34m\u001b[0m\u001b[0;34m\u001b[0m\u001b[0m\n\u001b[1;32m   1923\u001b[0m       return self._build_call_outputs(self._inference_function.call(\n\u001b[0;32m-> 1924\u001b[0;31m           ctx, args, cancellation_manager=cancellation_manager))\n\u001b[0m\u001b[1;32m   1925\u001b[0m     forward_backward = self._select_forward_and_backward_functions(\n\u001b[1;32m   1926\u001b[0m         \u001b[0margs\u001b[0m\u001b[0;34m,\u001b[0m\u001b[0;34m\u001b[0m\u001b[0;34m\u001b[0m\u001b[0m\n",
            "\u001b[0;32m/usr/local/lib/python3.6/dist-packages/tensorflow/python/eager/function.py\u001b[0m in \u001b[0;36mcall\u001b[0;34m(self, ctx, args, cancellation_manager)\u001b[0m\n\u001b[1;32m    548\u001b[0m               \u001b[0minputs\u001b[0m\u001b[0;34m=\u001b[0m\u001b[0margs\u001b[0m\u001b[0;34m,\u001b[0m\u001b[0;34m\u001b[0m\u001b[0;34m\u001b[0m\u001b[0m\n\u001b[1;32m    549\u001b[0m               \u001b[0mattrs\u001b[0m\u001b[0;34m=\u001b[0m\u001b[0mattrs\u001b[0m\u001b[0;34m,\u001b[0m\u001b[0;34m\u001b[0m\u001b[0;34m\u001b[0m\u001b[0m\n\u001b[0;32m--> 550\u001b[0;31m               ctx=ctx)\n\u001b[0m\u001b[1;32m    551\u001b[0m         \u001b[0;32melse\u001b[0m\u001b[0;34m:\u001b[0m\u001b[0;34m\u001b[0m\u001b[0;34m\u001b[0m\u001b[0m\n\u001b[1;32m    552\u001b[0m           outputs = execute.execute_with_cancellation(\n",
            "\u001b[0;32m/usr/local/lib/python3.6/dist-packages/tensorflow/python/eager/execute.py\u001b[0m in \u001b[0;36mquick_execute\u001b[0;34m(op_name, num_outputs, inputs, attrs, ctx, name)\u001b[0m\n\u001b[1;32m     58\u001b[0m     \u001b[0mctx\u001b[0m\u001b[0;34m.\u001b[0m\u001b[0mensure_initialized\u001b[0m\u001b[0;34m(\u001b[0m\u001b[0;34m)\u001b[0m\u001b[0;34m\u001b[0m\u001b[0;34m\u001b[0m\u001b[0m\n\u001b[1;32m     59\u001b[0m     tensors = pywrap_tfe.TFE_Py_Execute(ctx._handle, device_name, op_name,\n\u001b[0;32m---> 60\u001b[0;31m                                         inputs, attrs, num_outputs)\n\u001b[0m\u001b[1;32m     61\u001b[0m   \u001b[0;32mexcept\u001b[0m \u001b[0mcore\u001b[0m\u001b[0;34m.\u001b[0m\u001b[0m_NotOkStatusException\u001b[0m \u001b[0;32mas\u001b[0m \u001b[0me\u001b[0m\u001b[0;34m:\u001b[0m\u001b[0;34m\u001b[0m\u001b[0;34m\u001b[0m\u001b[0m\n\u001b[1;32m     62\u001b[0m     \u001b[0;32mif\u001b[0m \u001b[0mname\u001b[0m \u001b[0;32mis\u001b[0m \u001b[0;32mnot\u001b[0m \u001b[0;32mNone\u001b[0m\u001b[0;34m:\u001b[0m\u001b[0;34m\u001b[0m\u001b[0;34m\u001b[0m\u001b[0m\n",
            "\u001b[0;31mKeyboardInterrupt\u001b[0m: "
          ]
        }
      ]
    },
    {
      "cell_type": "code",
      "metadata": {
        "id": "J6MHTuQiFxcj"
      },
      "source": [
        "compare_train_and_test(convolutional_extra_model, x_train, y_train, x_test, y_test).transpose()"
      ],
      "execution_count": null,
      "outputs": []
    },
    {
      "cell_type": "code",
      "metadata": {
        "id": "MviYdsz-F4MC"
      },
      "source": [
        ""
      ],
      "execution_count": null,
      "outputs": []
    }
  ]
}