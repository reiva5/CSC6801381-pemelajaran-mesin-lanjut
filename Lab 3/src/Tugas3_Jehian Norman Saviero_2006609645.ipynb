{
  "nbformat": 4,
  "nbformat_minor": 0,
  "metadata": {
    "kernelspec": {
      "display_name": "Python 3",
      "language": "python",
      "name": "python3"
    },
    "language_info": {
      "codemirror_mode": {
        "name": "ipython",
        "version": 3
      },
      "file_extension": ".py",
      "mimetype": "text/x-python",
      "name": "python",
      "nbconvert_exporter": "python",
      "pygments_lexer": "ipython3",
      "version": "3.6.9"
    },
    "colab": {
      "name": "Tugas3_Jehian Norman Saviero_2006609645.ipynb",
      "provenance": []
    }
  },
  "cells": [
    {
      "cell_type": "code",
      "metadata": {
        "id": "Yd7Tu89UXts8"
      },
      "source": [
        "import numpy as np\n",
        "import matplotlib.pyplot as plt\n",
        "import pandas as pd\n",
        "import random\n",
        "import tensorflow as tf\n",
        "\n",
        "from sklearn.model_selection import train_test_split\n",
        "from skimage import color, exposure, filters, io, morphology, util\n",
        "from math import sqrt\n",
        "from numpy import loadtxt\n",
        "from tensorflow import keras\n",
        "from keras import backend as K\n",
        "from keras.callbacks import EarlyStopping, ModelCheckpoint\n",
        "from keras.models import Sequential, load_model\n",
        "from keras.layers import Conv2D, Dense, Dropout, Flatten, MaxPooling2D, Reshape\n",
        "from keras.optimizers import SGD"
      ],
      "execution_count": 1,
      "outputs": []
    },
    {
      "cell_type": "markdown",
      "metadata": {
        "id": "kVPkBzPOY3nD"
      },
      "source": [
        "### TRANSFER LEARNING"
      ]
    },
    {
      "cell_type": "markdown",
      "metadata": {
        "id": "-8f0GynyY9PB"
      },
      "source": [
        "#### 1.\n",
        "Bangun sebuah model $\\text{Convolutional Neural Network}$ dengan arsitektur dasar sebagai berikut :\n",
        "- Convolutional Layer ($25$ maps, kernel $3 \\times 3$)\n",
        "- Pooling Layer ($2 \\times 2$)\n",
        "- Activation Function ($\\text{ReLU function}$)\n",
        "- Convolutional Layer ($50$ maps, kernel $3 \\times 3$)\n",
        "- Pooling Layer ($2 \\times 2$)\n",
        "- Activation Function ($\\text{ReLU function}$)\n",
        "- Convolutional Layer ($100$ maps, kernel $3 \\times 3$)\n",
        "- Pooling Layer ($2 \\times 2$)\n",
        "- Activation Function ($\\text{ReLU function}$)\n",
        "- Hidden Layer ($100$ neuron)\n",
        "- Activation Function ($\\text{ReLU function}$)\n",
        "- Output Layer ($10$ kelas)\n",
        "- Activation Function ($\\text{Softmax function}$)\n",
        "- Classification Result\n",
        "\n",
        "Dengan tambahan beberapa seperti:\n",
        "- Adam optimization\n",
        "- Early Stop"
      ]
    },
    {
      "cell_type": "markdown",
      "metadata": {
        "id": "cRBOHdoNZwid"
      },
      "source": [
        "##### Mendefinisikan Fungsi Bantuan\n",
        "Untuk memudahkan implementasi, berikut beberapa fungsi bantuan yang akan dipakai"
      ]
    },
    {
      "cell_type": "markdown",
      "metadata": {
        "id": "Pu-1-wDXZ510"
      },
      "source": [
        "###### Menghitung $\\text{recall}$ atau $\\text{sensitivity}$\n",
        "$$\\text{recall} = \\frac{t_p}{t_p+t_n}$$"
      ]
    },
    {
      "cell_type": "code",
      "metadata": {
        "id": "73L3Si5GY8Bt"
      },
      "source": [
        "def recall(y_true, y_pred):\n",
        "    true_positives = K.sum(K.round(K.clip(y_true * y_pred, 0, 1)))\n",
        "    possible_positives = K.sum(K.round(K.clip(y_true, 0, 1)))\n",
        "    return true_positives / (possible_positives + K.epsilon())"
      ],
      "execution_count": 2,
      "outputs": []
    },
    {
      "cell_type": "markdown",
      "metadata": {
        "id": "vX56S8usaHok"
      },
      "source": [
        "###### Menghitung $\\text{precision}$\n",
        "$$\\text{precision} = \\frac{t_p}{t_p + f_p}$$"
      ]
    },
    {
      "cell_type": "code",
      "metadata": {
        "id": "b5R5nRHBaFxN"
      },
      "source": [
        "def precision(y_true, y_pred):\n",
        "    true_positives = K.sum(K.round(K.clip(y_true * y_pred, 0, 1)))\n",
        "    predicted_positives = K.sum(K.round(K.clip(y_pred, 0, 1)))\n",
        "    return true_positives / (predicted_positives + K.epsilon())"
      ],
      "execution_count": 3,
      "outputs": []
    },
    {
      "cell_type": "markdown",
      "metadata": {
        "id": "lSQF6ujjaR3u"
      },
      "source": [
        "###### Menghitung $\\text{specificity}$\n",
        "$$\\text{specificity} = \\frac{t_n}{t_n + f_p}$$"
      ]
    },
    {
      "cell_type": "code",
      "metadata": {
        "id": "HFNI1C0faMmF"
      },
      "source": [
        "def specificity(y_true, y_pred):\n",
        "    true_negatives = K.sum(K.round(K.clip((1 - y_true) * (1 - y_pred), 0, 1)))\n",
        "    possible_negatives = K.sum(K.round(K.clip(1 - y_true, 0, 1)))\n",
        "    return true_negatives / (possible_negatives + K.epsilon())"
      ],
      "execution_count": 4,
      "outputs": []
    },
    {
      "cell_type": "markdown",
      "metadata": {
        "id": "mTOySqnYaXMi"
      },
      "source": [
        "###### Menghitung $f_{1}\\text{ Score}$\n",
        "Kita tau bahwa\n",
        "$$f_{\\beta} = (1 + \\beta^{2}) \\cdot \\frac{\\text{precision} \\cdot \\text{recall}}{(\\beta^{2} \\cdot \\text{precision}) + \\text{recall}}$$\n",
        "Sehingga \n",
        "$$f_{1} = (1 + 1^{2}) \\cdot \\frac{\\text{precision} \\cdot \\text{recall}}{(1^{2} \\cdot \\text{precision}) + \\text{recall}}$$\n",
        "$$f_{1} = (2) \\cdot \\frac{\\text{precision} \\cdot \\text{recall}}{(\\text{precision}) + \\text{recall}}$$\n",
        "\n"
      ]
    },
    {
      "cell_type": "code",
      "metadata": {
        "id": "g29c08UWaVCZ"
      },
      "source": [
        "def f1_score(y_true, y_pred):\n",
        "    precision_val = precision(y_true, y_pred)\n",
        "    recall_val = recall(y_true, y_pred)\n",
        "    return 2*((precision_val * recall_val)/(precision_val + recall_val + K.epsilon()))"
      ],
      "execution_count": 5,
      "outputs": []
    },
    {
      "cell_type": "markdown",
      "metadata": {
        "id": "SJVCS5Q1aldQ"
      },
      "source": [
        "**n.b.: Semua fungsi pada bagian penyebut ditambah epsilon untuk menghindari dibagi $0$ dikarenakan memasukkan input sebanyak $0$**"
      ]
    },
    {
      "cell_type": "markdown",
      "metadata": {
        "id": "RJIOkA-caojX"
      },
      "source": [
        "###### Fungsi Bantuan untuk Melakukan Prediksi dan Menampilkan Metric"
      ]
    },
    {
      "cell_type": "code",
      "metadata": {
        "id": "PvFKE3jVagwj"
      },
      "source": [
        "def predict_and_get_metrics(model, x_test, y_test, label):\n",
        "    _, accuracy, sensitivity, specificity, score_f1 = model.evaluate(x_test, y_test, verbose=0)\n",
        "    return pd.DataFrame([[accuracy, sensitivity, specificity, score_f1]], columns=['Accuracy', 'Sensitivity', 'Specificity', 'F1 Score'], index=[label])\n",
        "\n",
        "def compare_train_and_test(model, x_train, y_train, x_test, y_test, extra_label=''):\n",
        "    metric_train = predict_and_get_metrics(model, x_train, y_train, 'Data Train %s' % (extra_label))\n",
        "    metric_test = predict_and_get_metrics(model, x_test, y_test, 'Data Test %s' % (extra_label))\n",
        "    return pd.concat([metric_train, metric_test])"
      ],
      "execution_count": 6,
      "outputs": []
    },
    {
      "cell_type": "markdown",
      "metadata": {
        "id": "E50lSCtWaxaP"
      },
      "source": [
        "###### Fungsi Bantuan untuk _Load Dataset_"
      ]
    },
    {
      "cell_type": "code",
      "metadata": {
        "id": "VRGsFnONasAe"
      },
      "source": [
        "def load_dataset_cifar10():\n",
        "\t(trainX, trainY), (testX, testY) = keras.datasets.cifar10.load_data()\n",
        "\treturn np.concatenate((trainX, testX), axis=0), np.concatenate((trainY, testY), axis=0)\n",
        " \n",
        "def load_dataset_cifar100():\n",
        "\t(trainX, trainY), (testX, testY) = keras.datasets.cifar100.load_data()\n",
        "\treturn np.concatenate((trainX, testX), axis=0), np.concatenate((trainY, testY), axis=0)"
      ],
      "execution_count": 7,
      "outputs": []
    },
    {
      "cell_type": "markdown",
      "metadata": {
        "id": "S2YPie55cC8B"
      },
      "source": [
        "##### Load Dataset"
      ]
    },
    {
      "cell_type": "code",
      "metadata": {
        "id": "De3BijFyavrp",
        "outputId": "e1431543-8311-40fa-c3a7-4b29c1aae6bf",
        "colab": {
          "base_uri": "https://localhost:8080/"
        }
      },
      "source": [
        "x, y = load_dataset_cifar10()\n",
        "x.shape"
      ],
      "execution_count": 8,
      "outputs": [
        {
          "output_type": "stream",
          "text": [
            "Downloading data from https://www.cs.toronto.edu/~kriz/cifar-10-python.tar.gz\n",
            "170500096/170498071 [==============================] - 11s 0us/step\n"
          ],
          "name": "stdout"
        },
        {
          "output_type": "execute_result",
          "data": {
            "text/plain": [
              "(60000, 32, 32, 3)"
            ]
          },
          "metadata": {
            "tags": []
          },
          "execution_count": 8
        }
      ]
    },
    {
      "cell_type": "markdown",
      "metadata": {
        "id": "Ol1gGZn1tXcU"
      },
      "source": [
        "##### Mengambil Dataset Sebanyak 1000 Per Kelasnya"
      ]
    },
    {
      "cell_type": "code",
      "metadata": {
        "id": "ZwB8cxdRcktx"
      },
      "source": [
        "idx_sample = np.array([],dtype=int)\n",
        "\n",
        "for i in range(10):\n",
        "    idx = (y == i).reshape(x.shape[0])\n",
        "    idx_data = np.where(idx == True)\n",
        "    sampled_list = np.random.choice(idx_data[0], size=1000, replace=False)\n",
        "    idx_sample = np.concatenate((idx_sample, sampled_list), axis=0)"
      ],
      "execution_count": 9,
      "outputs": []
    },
    {
      "cell_type": "markdown",
      "metadata": {
        "id": "BdnYBQdXtl16"
      },
      "source": [
        "##### Melakukan Validasi Apakah Shape-nya Sudah Valid atau Belum"
      ]
    },
    {
      "cell_type": "code",
      "metadata": {
        "id": "O_LteF08dnoP",
        "outputId": "c5c5e258-50b2-4fdf-fdf5-d8961a6bcf6a",
        "colab": {
          "base_uri": "https://localhost:8080/"
        }
      },
      "source": [
        "x_sample = x[idx_sample]\n",
        "y_sample = y[idx_sample]\n",
        "x_sample.shape, y_sample.shape"
      ],
      "execution_count": 10,
      "outputs": [
        {
          "output_type": "execute_result",
          "data": {
            "text/plain": [
              "((10000, 32, 32, 3), (10000, 1))"
            ]
          },
          "metadata": {
            "tags": []
          },
          "execution_count": 10
        }
      ]
    },
    {
      "cell_type": "markdown",
      "metadata": {
        "id": "D2EMwzQyvRWE"
      },
      "source": [
        "##### Melakukan Normalisasi untuk $x$"
      ]
    },
    {
      "cell_type": "code",
      "metadata": {
        "id": "oyFNEK_pvVPA"
      },
      "source": [
        "def normalize(x):\n",
        "    return x / 255.0\n",
        "\n",
        "x_sample = normalize(x_sample)"
      ],
      "execution_count": 11,
      "outputs": []
    },
    {
      "cell_type": "markdown",
      "metadata": {
        "id": "2IeZh_cyu5tM"
      },
      "source": [
        "##### Merubah Menjadi Matrix Binary untuk $y$"
      ]
    },
    {
      "cell_type": "code",
      "metadata": {
        "id": "HWALf5B-vPM3"
      },
      "source": [
        "y_sample = tf.keras.utils.to_categorical(y_sample)"
      ],
      "execution_count": 12,
      "outputs": []
    },
    {
      "cell_type": "markdown",
      "metadata": {
        "id": "JPEUQiXyvjTT"
      },
      "source": [
        "##### Memecah Menjadi 60 : 40 ~ Train : Test"
      ]
    },
    {
      "cell_type": "code",
      "metadata": {
        "id": "q4zKyVvRvoJ4"
      },
      "source": [
        "x_train, x_test, y_train, y_test = train_test_split(x_sample, y_sample, test_size=0.4)"
      ],
      "execution_count": 13,
      "outputs": []
    },
    {
      "cell_type": "markdown",
      "metadata": {
        "id": "UupbLpNXtxff"
      },
      "source": [
        "##### Membangun Model Convolutional Neural Network"
      ]
    },
    {
      "cell_type": "code",
      "metadata": {
        "id": "OBc6Q_8ckvaL"
      },
      "source": [
        "def create_model(learning_rate, pre_defined_layers=[]):\n",
        "    convolutional_layers = []\n",
        "    if len(pre_defined_layers) == 0:\n",
        "        ## Convolutional Layers 25 map, 3 x 3, activation = relu\n",
        "        convolutional_layers.append(Conv2D(25, kernel_size=(3, 3), activation=tf.nn.relu, padding='SAME', kernel_initializer=tf.keras.initializers.HeUniform()))\n",
        "\n",
        "        ## Pooling Layer 2 x 2\n",
        "        convolutional_layers.append(MaxPooling2D(2,2))\n",
        "\n",
        "        ## Convolutional Layers 50 map, 3 x 3, activation = relu\n",
        "        convolutional_layers.append(Conv2D(50, kernel_size=(3, 3), activation=tf.nn.relu, padding='SAME', kernel_initializer=tf.keras.initializers.HeUniform()))\n",
        "\n",
        "        ## Pooling Layer 2 x 2\n",
        "        convolutional_layers.append(MaxPooling2D(2,2))\n",
        "\n",
        "        ## Convolutional Layers 100 map, 3 x 3, activation = relu\n",
        "        convolutional_layers.append(Conv2D(100, kernel_size=(3, 3), activation=tf.nn.relu, padding='SAME', kernel_initializer=tf.keras.initializers.HeUniform()))\n",
        "\n",
        "        ## Pooling Layer 2 x 2\n",
        "        convolutional_layers.append(MaxPooling2D(2,2))\n",
        "\n",
        "        convolutional_layers.append(Flatten())\n",
        "\n",
        "        ## Hidden Layer 100 node\n",
        "        convolutional_layers.append(Dense(100, activation=tf.nn.relu))\n",
        "\n",
        "        ## Output 10 class\n",
        "        convolutional_layers.append(Dense(10, activation=tf.nn.softmax))\n",
        "    else:\n",
        "        convolutional_layers = pre_defined_layers\n",
        "\n",
        "    ## Menginisialisasi instance model\n",
        "    convolutional_model = Sequential(convolutional_layers)\n",
        "\n",
        "    ## Membangun model\n",
        "    convolutional_model.build(input_shape=x_train.shape)\n",
        "\n",
        "    ## Melakukan Kompilasi ke dalam Model\n",
        "    convolutional_model.compile(\n",
        "    optimizer=tf.keras.optimizers.Adam(learning_rate=learning_rate),\n",
        "    loss='categorical_crossentropy',\n",
        "    metrics=[\n",
        "      'accuracy',\n",
        "      recall,\n",
        "      specificity,\n",
        "      f1_score\n",
        "    ])\n",
        "\n",
        "    return convolutional_model"
      ],
      "execution_count": 14,
      "outputs": []
    },
    {
      "cell_type": "markdown",
      "metadata": {
        "id": "tbAYmxNOu70R"
      },
      "source": [
        "##### Melakukan _fitting_ dengan $\\text{epochs} = 100$, $\\text{batch_size} = 10$, dan $\\text{learning_rate} = 0.1$, dan $\\text{Early Stopping}$"
      ]
    },
    {
      "cell_type": "code",
      "metadata": {
        "id": "0OAsbnblUGyr"
      },
      "source": [
        "## Mendefinisikan Early Stopping untuk Semua Model CNN Awal\n",
        "es = EarlyStopping(monitor='val_loss', mode='min', verbose=1)"
      ],
      "execution_count": 15,
      "outputs": []
    },
    {
      "cell_type": "code",
      "metadata": {
        "id": "b0vPHzTdyB67",
        "outputId": "e7de960a-01a7-4502-b0de-fda178f91269",
        "colab": {
          "base_uri": "https://localhost:8080/"
        }
      },
      "source": [
        "convolutional_model = create_model(0.1)\n",
        "convolutional_model.fit(x_train, y_train, epochs=100, batch_size=10, validation_data=(x_test, y_test), use_multiprocessing=True, callbacks=[es])"
      ],
      "execution_count": 16,
      "outputs": [
        {
          "output_type": "stream",
          "text": [
            "Epoch 1/100\n",
            "600/600 [==============================] - 16s 27ms/step - loss: 32.2318 - accuracy: 0.0957 - recall: 6.6667e-04 - specificity: 0.9993 - f1_score: 6.6667e-04 - val_loss: 2.3136 - val_accuracy: 0.1055 - val_recall: 0.0000e+00 - val_specificity: 1.0000 - val_f1_score: 0.0000e+00\n",
            "Epoch 2/100\n",
            "600/600 [==============================] - 16s 27ms/step - loss: 2.3299 - accuracy: 0.0985 - recall: 0.0000e+00 - specificity: 1.0000 - f1_score: 0.0000e+00 - val_loss: 2.3191 - val_accuracy: 0.0995 - val_recall: 0.0000e+00 - val_specificity: 1.0000 - val_f1_score: 0.0000e+00\n",
            "Epoch 00002: early stopping\n"
          ],
          "name": "stdout"
        },
        {
          "output_type": "execute_result",
          "data": {
            "text/plain": [
              "<tensorflow.python.keras.callbacks.History at 0x7f2068f05f60>"
            ]
          },
          "metadata": {
            "tags": []
          },
          "execution_count": 16
        }
      ]
    },
    {
      "cell_type": "markdown",
      "metadata": {
        "id": "oeetNYtYv3ha"
      },
      "source": [
        "#### 3.\n",
        "Lakukan skenario eksperimen untuk mendapatkan metrik evaluasi optimal ($\\text{akurasi}$, $\\text{sensitivity}$, $\\text{specifity}$, dan $f_{1} \\text{ score}$) dengan mengubah parameter yaitu:\n",
        "1. Mengubah epoch, dengan $\\text{learning_rate} = 0.1$ dan $\\text\n",
        "{batch_number} = 10$.\n",
        "2. Mengubah jumlah $\\text{batch number}$ dengan $\\text{epoch}$ optimal dari skenario (1) dan $\\text{learning_rate} = 0.1$.\n",
        "3. Mengubah $\\text{learning_rate}$ dengan $\\text{epoch}$ optimal dari skenario (1) dan jumlah $\\text{batch_number}$ optimal dari skenario (2)."
      ]
    },
    {
      "cell_type": "markdown",
      "metadata": {
        "id": "fqK7vX6ExpeA"
      },
      "source": [
        "##### Melakukan Skenario 3.1. (Mengubah $\\text{epoch}$)"
      ]
    },
    {
      "cell_type": "markdown",
      "metadata": {
        "id": "iD-K6byWmwF9"
      },
      "source": [
        "###### Skenario 3.1.1. ($\\text{epoch} = 100$)"
      ]
    },
    {
      "cell_type": "code",
      "metadata": {
        "id": "iK9tJ5Qum1Wu",
        "outputId": "55b0d21d-1c47-4804-8eb6-5d10f9ee2dfe",
        "colab": {
          "base_uri": "https://localhost:8080/"
        }
      },
      "source": [
        "convolutional_model = create_model(0.1)\n",
        "convolutional_model.fit(x_train, y_train, epochs=100, batch_size=10, validation_data=(x_test, y_test), use_multiprocessing=True, callbacks=[es])"
      ],
      "execution_count": 17,
      "outputs": [
        {
          "output_type": "stream",
          "text": [
            "Epoch 1/100\n",
            "600/600 [==============================] - 16s 27ms/step - loss: 32.1379 - accuracy: 0.0972 - recall: 0.0015 - specificity: 0.9991 - f1_score: 0.0015 - val_loss: 2.3179 - val_accuracy: 0.0957 - val_recall: 0.0000e+00 - val_specificity: 1.0000 - val_f1_score: 0.0000e+00\n",
            "Epoch 2/100\n",
            "600/600 [==============================] - 16s 27ms/step - loss: 2.3264 - accuracy: 0.0975 - recall: 0.0000e+00 - specificity: 1.0000 - f1_score: 0.0000e+00 - val_loss: 2.3111 - val_accuracy: 0.1070 - val_recall: 0.0000e+00 - val_specificity: 1.0000 - val_f1_score: 0.0000e+00\n",
            "Epoch 3/100\n",
            "600/600 [==============================] - 16s 27ms/step - loss: 2.3248 - accuracy: 0.1002 - recall: 0.0000e+00 - specificity: 1.0000 - f1_score: 0.0000e+00 - val_loss: 2.3313 - val_accuracy: 0.0995 - val_recall: 0.0000e+00 - val_specificity: 1.0000 - val_f1_score: 0.0000e+00\n",
            "Epoch 00003: early stopping\n"
          ],
          "name": "stdout"
        },
        {
          "output_type": "execute_result",
          "data": {
            "text/plain": [
              "<tensorflow.python.keras.callbacks.History at 0x7f206570af28>"
            ]
          },
          "metadata": {
            "tags": []
          },
          "execution_count": 17
        }
      ]
    },
    {
      "cell_type": "markdown",
      "metadata": {
        "id": "eIKbzwL9xyGu"
      },
      "source": [
        "###### Skenario 3.1.2. ($\\text{epoch} = 50$)"
      ]
    },
    {
      "cell_type": "code",
      "metadata": {
        "id": "hiRP7I5HvzrS",
        "outputId": "ac70dc43-4b21-42e9-aa6e-dd935623b03f",
        "colab": {
          "base_uri": "https://localhost:8080/"
        }
      },
      "source": [
        "convolutional_model = create_model(0.1)\n",
        "convolutional_model.fit(x_train, y_train, epochs=50, batch_size=10, validation_data=(x_test, y_test), use_multiprocessing=True, callbacks=[es])"
      ],
      "execution_count": 18,
      "outputs": [
        {
          "output_type": "stream",
          "text": [
            "Epoch 1/50\n",
            "600/600 [==============================] - 19s 31ms/step - loss: 7.7161 - accuracy: 0.0992 - recall: 5.0000e-04 - specificity: 0.9996 - f1_score: 5.0000e-04 - val_loss: 2.3373 - val_accuracy: 0.0978 - val_recall: 0.0000e+00 - val_specificity: 1.0000 - val_f1_score: 0.0000e+00\n",
            "Epoch 2/50\n",
            "600/600 [==============================] - 17s 28ms/step - loss: 2.3289 - accuracy: 0.0935 - recall: 0.0000e+00 - specificity: 1.0000 - f1_score: 0.0000e+00 - val_loss: 2.3260 - val_accuracy: 0.0985 - val_recall: 0.0000e+00 - val_specificity: 1.0000 - val_f1_score: 0.0000e+00\n",
            "Epoch 3/50\n",
            "600/600 [==============================] - 16s 27ms/step - loss: 2.3253 - accuracy: 0.1017 - recall: 0.0000e+00 - specificity: 1.0000 - f1_score: 0.0000e+00 - val_loss: 2.3215 - val_accuracy: 0.1070 - val_recall: 0.0000e+00 - val_specificity: 1.0000 - val_f1_score: 0.0000e+00\n",
            "Epoch 4/50\n",
            "600/600 [==============================] - 16s 27ms/step - loss: 2.3261 - accuracy: 0.1020 - recall: 0.0000e+00 - specificity: 1.0000 - f1_score: 0.0000e+00 - val_loss: 2.3358 - val_accuracy: 0.0978 - val_recall: 0.0000e+00 - val_specificity: 1.0000 - val_f1_score: 0.0000e+00\n",
            "Epoch 00004: early stopping\n"
          ],
          "name": "stdout"
        },
        {
          "output_type": "execute_result",
          "data": {
            "text/plain": [
              "<tensorflow.python.keras.callbacks.History at 0x7f20655a6908>"
            ]
          },
          "metadata": {
            "tags": []
          },
          "execution_count": 18
        }
      ]
    },
    {
      "cell_type": "markdown",
      "metadata": {
        "id": "z50yWQxxyDKv"
      },
      "source": [
        "###### Skenario 3.1.3. ($\\text{epoch}$ = 25)"
      ]
    },
    {
      "cell_type": "code",
      "metadata": {
        "id": "qoFAMbV1yAqy",
        "outputId": "d4e7cd0d-2f01-4bd6-dee3-c8cfb6b319b5",
        "colab": {
          "base_uri": "https://localhost:8080/"
        }
      },
      "source": [
        "convolutional_model = create_model(0.1)\n",
        "convolutional_model.fit(x_train, y_train, epochs=25, batch_size=10, validation_data=(x_test, y_test), use_multiprocessing=True, callbacks=[es])"
      ],
      "execution_count": 19,
      "outputs": [
        {
          "output_type": "stream",
          "text": [
            "Epoch 1/25\n",
            "600/600 [==============================] - 18s 30ms/step - loss: 17.2212 - accuracy: 0.1007 - recall: 6.6667e-04 - specificity: 0.9997 - f1_score: 6.6667e-04 - val_loss: 2.3390 - val_accuracy: 0.0985 - val_recall: 0.0000e+00 - val_specificity: 1.0000 - val_f1_score: 0.0000e+00\n",
            "Epoch 2/25\n",
            "600/600 [==============================] - 18s 30ms/step - loss: 2.3244 - accuracy: 0.1047 - recall: 0.0000e+00 - specificity: 1.0000 - f1_score: 0.0000e+00 - val_loss: 2.3119 - val_accuracy: 0.0995 - val_recall: 0.0000e+00 - val_specificity: 1.0000 - val_f1_score: 0.0000e+00\n",
            "Epoch 3/25\n",
            "600/600 [==============================] - 19s 31ms/step - loss: 2.3276 - accuracy: 0.1027 - recall: 0.0000e+00 - specificity: 1.0000 - f1_score: 0.0000e+00 - val_loss: 2.3191 - val_accuracy: 0.0995 - val_recall: 0.0000e+00 - val_specificity: 1.0000 - val_f1_score: 0.0000e+00\n",
            "Epoch 00003: early stopping\n"
          ],
          "name": "stdout"
        },
        {
          "output_type": "execute_result",
          "data": {
            "text/plain": [
              "<tensorflow.python.keras.callbacks.History at 0x7f2064b78470>"
            ]
          },
          "metadata": {
            "tags": []
          },
          "execution_count": 19
        }
      ]
    },
    {
      "cell_type": "markdown",
      "metadata": {
        "id": "sfFd4JoiyVL0"
      },
      "source": [
        "###### Skenario 3.1.4. ($\\text{epoch}$ = 10)"
      ]
    },
    {
      "cell_type": "code",
      "metadata": {
        "id": "My0WoXDnyTVL",
        "outputId": "09624dfb-ed9b-4eb8-9812-95ae3226b31c",
        "colab": {
          "base_uri": "https://localhost:8080/"
        }
      },
      "source": [
        "convolutional_model = create_model(0.1)\n",
        "convolutional_model.fit(x_train, y_train, epochs=10, batch_size=10, validation_data=(x_test, y_test), use_multiprocessing=True, callbacks=[es])"
      ],
      "execution_count": 20,
      "outputs": [
        {
          "output_type": "stream",
          "text": [
            "Epoch 1/10\n",
            "600/600 [==============================] - 17s 29ms/step - loss: 39.9658 - accuracy: 0.0957 - recall: 3.3333e-04 - specificity: 0.9992 - f1_score: 3.3333e-04 - val_loss: 2.3241 - val_accuracy: 0.0995 - val_recall: 0.0000e+00 - val_specificity: 1.0000 - val_f1_score: 0.0000e+00\n",
            "Epoch 2/10\n",
            "600/600 [==============================] - 17s 28ms/step - loss: 2.3248 - accuracy: 0.0962 - recall: 0.0000e+00 - specificity: 1.0000 - f1_score: 0.0000e+00 - val_loss: 2.3251 - val_accuracy: 0.0957 - val_recall: 0.0000e+00 - val_specificity: 1.0000 - val_f1_score: 0.0000e+00\n",
            "Epoch 00002: early stopping\n"
          ],
          "name": "stdout"
        },
        {
          "output_type": "execute_result",
          "data": {
            "text/plain": [
              "<tensorflow.python.keras.callbacks.History at 0x7f20648976d8>"
            ]
          },
          "metadata": {
            "tags": []
          },
          "execution_count": 20
        }
      ]
    },
    {
      "cell_type": "markdown",
      "metadata": {
        "id": "yLEz9MpZnBNo"
      },
      "source": [
        "###### Skenario 3.1.5. ($\\text{epoch} = 5$)\n",
        "\n"
      ]
    },
    {
      "cell_type": "code",
      "metadata": {
        "id": "MAoiBFFOnGie",
        "outputId": "9064d326-9d64-4fb1-c2b4-11be51256462",
        "colab": {
          "base_uri": "https://localhost:8080/"
        }
      },
      "source": [
        "convolutional_model = create_model(0.1)\n",
        "convolutional_model.fit(x_train, y_train, epochs=5, batch_size=10, validation_data=(x_test, y_test), use_multiprocessing=True, callbacks=[es])"
      ],
      "execution_count": 21,
      "outputs": [
        {
          "output_type": "stream",
          "text": [
            "Epoch 1/5\n",
            "600/600 [==============================] - 17s 28ms/step - loss: 26.4503 - accuracy: 0.0945 - recall: 0.0012 - specificity: 0.9980 - f1_score: 0.0012 - val_loss: 2.3162 - val_accuracy: 0.1055 - val_recall: 0.0000e+00 - val_specificity: 1.0000 - val_f1_score: 0.0000e+00\n",
            "Epoch 2/5\n",
            "600/600 [==============================] - 17s 28ms/step - loss: 2.3200 - accuracy: 0.1068 - recall: 0.0000e+00 - specificity: 1.0000 - f1_score: 0.0000e+00 - val_loss: 2.3487 - val_accuracy: 0.0957 - val_recall: 0.0000e+00 - val_specificity: 1.0000 - val_f1_score: 0.0000e+00\n",
            "Epoch 00002: early stopping\n"
          ],
          "name": "stdout"
        },
        {
          "output_type": "execute_result",
          "data": {
            "text/plain": [
              "<tensorflow.python.keras.callbacks.History at 0x7f2061dc76a0>"
            ]
          },
          "metadata": {
            "tags": []
          },
          "execution_count": 21
        }
      ]
    },
    {
      "cell_type": "markdown",
      "metadata": {
        "id": "JDjlsyWmuOO2"
      },
      "source": [
        "###### Kesimpulan Skenario $3.1.$"
      ]
    },
    {
      "cell_type": "markdown",
      "metadata": {
        "id": "aZVma5oUyhZ8"
      },
      "source": [
        "Berdasarkan hasil dari skenario $3.1.1.$, $3.1.2.$, $3.1.3.$, $3.1.4.$, dan $3.1.5.$, kelima skenario mengalami _early stop_ pada $\\text{epoch} \\leq 5$. Kelima skenario menghasilkan akurasi yang rendah pula, dengan demikian, digunakan $\\text{epoch}$ terbesar ($\\text{epoch} = 100$) dikarenakan sudah ada penjaga _early stop_ untuk mengecek ke _convergen_-an."
      ]
    },
    {
      "cell_type": "markdown",
      "metadata": {
        "id": "UnZzodGOy-wu"
      },
      "source": [
        "##### Melakukan Skenario $3.2.$ (Mengubah $\\text{batch_number}$)"
      ]
    },
    {
      "cell_type": "markdown",
      "metadata": {
        "id": "u7w5FBuFcZmY"
      },
      "source": [
        "###### Skenario $3.2.1.$ ($\\text{batch_number} = 10$)"
      ]
    },
    {
      "cell_type": "code",
      "metadata": {
        "id": "nT-B9ojvcejI",
        "outputId": "a48193ee-40d1-4c5a-b6cd-3622ffa577e7",
        "colab": {
          "base_uri": "https://localhost:8080/"
        }
      },
      "source": [
        "convolutional_model = create_model(0.1)\n",
        "convolutional_model.fit(x_train, y_train, epochs=100, batch_size=10, validation_data=(x_test, y_test), use_multiprocessing=True, callbacks=[es])"
      ],
      "execution_count": 22,
      "outputs": [
        {
          "output_type": "stream",
          "text": [
            "Epoch 1/100\n",
            "600/600 [==============================] - 16s 27ms/step - loss: 12.4048 - accuracy: 0.0967 - recall: 8.3333e-04 - specificity: 0.9992 - f1_score: 8.3333e-04 - val_loss: 2.3358 - val_accuracy: 0.0978 - val_recall: 0.0000e+00 - val_specificity: 1.0000 - val_f1_score: 0.0000e+00\n",
            "Epoch 2/100\n",
            "600/600 [==============================] - 16s 27ms/step - loss: 2.3257 - accuracy: 0.1053 - recall: 0.0000e+00 - specificity: 1.0000 - f1_score: 0.0000e+00 - val_loss: 2.3442 - val_accuracy: 0.0957 - val_recall: 0.0000e+00 - val_specificity: 1.0000 - val_f1_score: 0.0000e+00\n",
            "Epoch 00002: early stopping\n"
          ],
          "name": "stdout"
        },
        {
          "output_type": "execute_result",
          "data": {
            "text/plain": [
              "<tensorflow.python.keras.callbacks.History at 0x7f2061b3b668>"
            ]
          },
          "metadata": {
            "tags": []
          },
          "execution_count": 22
        }
      ]
    },
    {
      "cell_type": "markdown",
      "metadata": {
        "id": "Jpmk_tBlzTpp"
      },
      "source": [
        "###### Skenario $3.2.2.$ ($\\text{batch_number} = 25$)"
      ]
    },
    {
      "cell_type": "code",
      "metadata": {
        "id": "OxvebtnPzSsX",
        "outputId": "809408da-42a6-4ef2-dfed-7bcbea22ecea",
        "colab": {
          "base_uri": "https://localhost:8080/"
        }
      },
      "source": [
        "convolutional_model = create_model(0.1)\n",
        "convolutional_model.fit(x_train, y_train, epochs=100, batch_size=25, validation_data=(x_test, y_test), use_multiprocessing=True, callbacks=[es])"
      ],
      "execution_count": 23,
      "outputs": [
        {
          "output_type": "stream",
          "text": [
            "Epoch 1/100\n",
            "240/240 [==============================] - 14s 57ms/step - loss: 48.9598 - accuracy: 0.0993 - recall: 0.0023 - specificity: 0.9984 - f1_score: 0.0024 - val_loss: 2.3298 - val_accuracy: 0.0957 - val_recall: 0.0000e+00 - val_specificity: 1.0000 - val_f1_score: 0.0000e+00\n",
            "Epoch 2/100\n",
            "240/240 [==============================] - 13s 56ms/step - loss: 2.3154 - accuracy: 0.0957 - recall: 0.0000e+00 - specificity: 1.0000 - f1_score: 0.0000e+00 - val_loss: 2.3136 - val_accuracy: 0.0957 - val_recall: 0.0000e+00 - val_specificity: 1.0000 - val_f1_score: 0.0000e+00\n",
            "Epoch 3/100\n",
            "240/240 [==============================] - 13s 56ms/step - loss: 2.3140 - accuracy: 0.1010 - recall: 0.0000e+00 - specificity: 1.0000 - f1_score: 0.0000e+00 - val_loss: 2.3234 - val_accuracy: 0.0957 - val_recall: 0.0000e+00 - val_specificity: 1.0000 - val_f1_score: 0.0000e+00\n",
            "Epoch 00003: early stopping\n"
          ],
          "name": "stdout"
        },
        {
          "output_type": "execute_result",
          "data": {
            "text/plain": [
              "<tensorflow.python.keras.callbacks.History at 0x7f20619356a0>"
            ]
          },
          "metadata": {
            "tags": []
          },
          "execution_count": 23
        }
      ]
    },
    {
      "cell_type": "markdown",
      "metadata": {
        "id": "DLCAlr4yzedO"
      },
      "source": [
        "###### Skenario $3.2.3.$ ($\\text{batch_number} = 50$)"
      ]
    },
    {
      "cell_type": "code",
      "metadata": {
        "id": "VyFLHqxczdk9",
        "outputId": "a40d97cf-40b7-43ff-9553-6a93ef58102b",
        "colab": {
          "base_uri": "https://localhost:8080/"
        }
      },
      "source": [
        "convolutional_model = create_model(0.1)\n",
        "convolutional_model.fit(x_train, y_train, epochs=100, batch_size=50, validation_data=(x_test, y_test), use_multiprocessing=True, callbacks=[es])"
      ],
      "execution_count": 24,
      "outputs": [
        {
          "output_type": "stream",
          "text": [
            "Epoch 1/100\n",
            "120/120 [==============================] - 13s 106ms/step - loss: 126.7917 - accuracy: 0.0967 - recall: 0.0028 - specificity: 0.9969 - f1_score: 0.0032 - val_loss: 2.3175 - val_accuracy: 0.1070 - val_recall: 0.0000e+00 - val_specificity: 1.0000 - val_f1_score: 0.0000e+00\n",
            "Epoch 2/100\n",
            "120/120 [==============================] - 13s 105ms/step - loss: 2.3100 - accuracy: 0.0957 - recall: 0.0000e+00 - specificity: 1.0000 - f1_score: 0.0000e+00 - val_loss: 2.3137 - val_accuracy: 0.1035 - val_recall: 0.0000e+00 - val_specificity: 1.0000 - val_f1_score: 0.0000e+00\n",
            "Epoch 3/100\n",
            "120/120 [==============================] - 13s 104ms/step - loss: 2.3113 - accuracy: 0.1012 - recall: 0.0000e+00 - specificity: 1.0000 - f1_score: 0.0000e+00 - val_loss: 2.3127 - val_accuracy: 0.0995 - val_recall: 0.0000e+00 - val_specificity: 1.0000 - val_f1_score: 0.0000e+00\n",
            "Epoch 4/100\n",
            "120/120 [==============================] - 14s 115ms/step - loss: 2.3119 - accuracy: 0.0990 - recall: 0.0000e+00 - specificity: 1.0000 - f1_score: 0.0000e+00 - val_loss: 2.3121 - val_accuracy: 0.0978 - val_recall: 0.0000e+00 - val_specificity: 1.0000 - val_f1_score: 0.0000e+00\n",
            "Epoch 5/100\n",
            "120/120 [==============================] - 17s 143ms/step - loss: 2.3132 - accuracy: 0.0947 - recall: 0.0000e+00 - specificity: 1.0000 - f1_score: 0.0000e+00 - val_loss: 2.3139 - val_accuracy: 0.0993 - val_recall: 0.0000e+00 - val_specificity: 1.0000 - val_f1_score: 0.0000e+00\n",
            "Epoch 00005: early stopping\n"
          ],
          "name": "stdout"
        },
        {
          "output_type": "execute_result",
          "data": {
            "text/plain": [
              "<tensorflow.python.keras.callbacks.History at 0x7f205dea05f8>"
            ]
          },
          "metadata": {
            "tags": []
          },
          "execution_count": 24
        }
      ]
    },
    {
      "cell_type": "markdown",
      "metadata": {
        "id": "idcvhcP_zmAj"
      },
      "source": [
        "###### Skenario $3.2.4.$ ($\\text{batch_number} = 75$)"
      ]
    },
    {
      "cell_type": "code",
      "metadata": {
        "id": "mzugkM5tzkEp",
        "outputId": "b732b335-e109-4ed4-c70a-cf7372290820",
        "colab": {
          "base_uri": "https://localhost:8080/"
        }
      },
      "source": [
        "convolutional_model = create_model(0.1)\n",
        "convolutional_model.fit(x_train, y_train, epochs=100, batch_size=75, validation_data=(x_test, y_test), use_multiprocessing=True, callbacks=[es])"
      ],
      "execution_count": 25,
      "outputs": [
        {
          "output_type": "stream",
          "text": [
            "Epoch 1/100\n",
            "80/80 [==============================] - 12s 154ms/step - loss: 204.4709 - accuracy: 0.0990 - recall: 0.0042 - specificity: 0.9947 - f1_score: 0.0044 - val_loss: 2.3115 - val_accuracy: 0.0995 - val_recall: 0.0000e+00 - val_specificity: 1.0000 - val_f1_score: 0.0000e+00\n",
            "Epoch 2/100\n",
            "80/80 [==============================] - 12s 147ms/step - loss: 2.3102 - accuracy: 0.0948 - recall: 0.0000e+00 - specificity: 1.0000 - f1_score: 0.0000e+00 - val_loss: 2.3107 - val_accuracy: 0.0993 - val_recall: 0.0000e+00 - val_specificity: 1.0000 - val_f1_score: 0.0000e+00\n",
            "Epoch 3/100\n",
            "80/80 [==============================] - 12s 148ms/step - loss: 2.3103 - accuracy: 0.0990 - recall: 0.0000e+00 - specificity: 1.0000 - f1_score: 0.0000e+00 - val_loss: 2.3068 - val_accuracy: 0.0978 - val_recall: 0.0000e+00 - val_specificity: 1.0000 - val_f1_score: 0.0000e+00\n",
            "Epoch 4/100\n",
            "80/80 [==============================] - 12s 147ms/step - loss: 2.3089 - accuracy: 0.0978 - recall: 0.0000e+00 - specificity: 1.0000 - f1_score: 0.0000e+00 - val_loss: 2.3086 - val_accuracy: 0.0975 - val_recall: 0.0000e+00 - val_specificity: 1.0000 - val_f1_score: 0.0000e+00\n",
            "Epoch 00004: early stopping\n"
          ],
          "name": "stdout"
        },
        {
          "output_type": "execute_result",
          "data": {
            "text/plain": [
              "<tensorflow.python.keras.callbacks.History at 0x7f205ddada58>"
            ]
          },
          "metadata": {
            "tags": []
          },
          "execution_count": 25
        }
      ]
    },
    {
      "cell_type": "markdown",
      "metadata": {
        "id": "mAd4eT5NzqlH"
      },
      "source": [
        "###### Skenario $3.2.5.$ ($\\text{batch_number} = 100$)"
      ]
    },
    {
      "cell_type": "code",
      "metadata": {
        "id": "7JLN26Grzp74",
        "outputId": "a33e4354-692d-44f5-90f5-68e52aac0014",
        "colab": {
          "base_uri": "https://localhost:8080/"
        }
      },
      "source": [
        "convolutional_model = create_model(0.1)\n",
        "convolutional_model.fit(x_train, y_train, epochs=100, batch_size=100, validation_data=(x_test, y_test), use_multiprocessing=True, callbacks=[es])"
      ],
      "execution_count": 26,
      "outputs": [
        {
          "output_type": "stream",
          "text": [
            "Epoch 1/100\n",
            "60/60 [==============================] - 12s 197ms/step - loss: 111.5377 - accuracy: 0.0987 - recall: 0.0058 - specificity: 0.9962 - f1_score: 0.0065 - val_loss: 2.3121 - val_accuracy: 0.0978 - val_recall: 0.0000e+00 - val_specificity: 1.0000 - val_f1_score: 0.0000e+00\n",
            "Epoch 2/100\n",
            "60/60 [==============================] - 12s 194ms/step - loss: 2.3077 - accuracy: 0.1035 - recall: 0.0000e+00 - specificity: 1.0000 - f1_score: 0.0000e+00 - val_loss: 2.3076 - val_accuracy: 0.0978 - val_recall: 0.0000e+00 - val_specificity: 1.0000 - val_f1_score: 0.0000e+00\n",
            "Epoch 3/100\n",
            "60/60 [==============================] - 12s 194ms/step - loss: 2.3080 - accuracy: 0.0973 - recall: 0.0000e+00 - specificity: 1.0000 - f1_score: 0.0000e+00 - val_loss: 2.3118 - val_accuracy: 0.0975 - val_recall: 0.0000e+00 - val_specificity: 1.0000 - val_f1_score: 0.0000e+00\n",
            "Epoch 00003: early stopping\n"
          ],
          "name": "stdout"
        },
        {
          "output_type": "execute_result",
          "data": {
            "text/plain": [
              "<tensorflow.python.keras.callbacks.History at 0x7f205d32ca90>"
            ]
          },
          "metadata": {
            "tags": []
          },
          "execution_count": 26
        }
      ]
    },
    {
      "cell_type": "markdown",
      "metadata": {
        "id": "vTera8DYdaGP"
      },
      "source": [
        "###### Skenario $3.2.6.$ ($\\text{batch_number} = 250$)"
      ]
    },
    {
      "cell_type": "code",
      "metadata": {
        "id": "1wsH2tCXdfta",
        "outputId": "18ae0ed7-11d2-4c38-ef0a-27b2b32bef2d",
        "colab": {
          "base_uri": "https://localhost:8080/"
        }
      },
      "source": [
        "convolutional_model = create_model(0.1)\n",
        "convolutional_model.fit(x_train, y_train, epochs=100, batch_size=250, validation_data=(x_test, y_test), use_multiprocessing=True, callbacks=[es])"
      ],
      "execution_count": 27,
      "outputs": [
        {
          "output_type": "stream",
          "text": [
            "Epoch 1/100\n",
            "24/24 [==============================] - 11s 461ms/step - loss: 378.4659 - accuracy: 0.0955 - recall: 0.0113 - specificity: 0.9874 - f1_score: 0.0113 - val_loss: 2.3064 - val_accuracy: 0.0957 - val_recall: 0.0000e+00 - val_specificity: 1.0000 - val_f1_score: 0.0000e+00\n",
            "Epoch 2/100\n",
            "24/24 [==============================] - 11s 448ms/step - loss: 2.3090 - accuracy: 0.0987 - recall: 0.0000e+00 - specificity: 1.0000 - f1_score: 0.0000e+00 - val_loss: 2.3041 - val_accuracy: 0.0993 - val_recall: 0.0000e+00 - val_specificity: 1.0000 - val_f1_score: 0.0000e+00\n",
            "Epoch 3/100\n",
            "24/24 [==============================] - 11s 448ms/step - loss: 2.3082 - accuracy: 0.0988 - recall: 0.0000e+00 - specificity: 1.0000 - f1_score: 0.0000e+00 - val_loss: 2.3087 - val_accuracy: 0.1035 - val_recall: 0.0000e+00 - val_specificity: 1.0000 - val_f1_score: 0.0000e+00\n",
            "Epoch 00003: early stopping\n"
          ],
          "name": "stdout"
        },
        {
          "output_type": "execute_result",
          "data": {
            "text/plain": [
              "<tensorflow.python.keras.callbacks.History at 0x7f205d09ff28>"
            ]
          },
          "metadata": {
            "tags": []
          },
          "execution_count": 27
        }
      ]
    },
    {
      "cell_type": "markdown",
      "metadata": {
        "id": "oyu38QLndioe"
      },
      "source": [
        "###### Skenario $3.2.7.$ ($\\text{batch_number} = 500$)"
      ]
    },
    {
      "cell_type": "code",
      "metadata": {
        "id": "fu3ogk-idoCy",
        "outputId": "3bf27de4-0117-457f-d2e6-decdd196794d",
        "colab": {
          "base_uri": "https://localhost:8080/"
        }
      },
      "source": [
        "convolutional_model = create_model(0.1)\n",
        "convolutional_model.fit(x_train, y_train, epochs=100, batch_size=500, validation_data=(x_test, y_test), use_multiprocessing=True, callbacks=[es])"
      ],
      "execution_count": 28,
      "outputs": [
        {
          "output_type": "stream",
          "text": [
            "Epoch 1/100\n",
            "12/12 [==============================] - 11s 877ms/step - loss: 538.6183 - accuracy: 0.0958 - recall: 0.0197 - specificity: 0.9804 - f1_score: 0.0214 - val_loss: 2.3223 - val_accuracy: 0.0978 - val_recall: 0.0000e+00 - val_specificity: 1.0000 - val_f1_score: 0.0000e+00\n",
            "Epoch 2/100\n",
            "12/12 [==============================] - 10s 860ms/step - loss: 2.3136 - accuracy: 0.0938 - recall: 0.0000e+00 - specificity: 1.0000 - f1_score: 0.0000e+00 - val_loss: 2.3054 - val_accuracy: 0.0985 - val_recall: 0.0000e+00 - val_specificity: 1.0000 - val_f1_score: 0.0000e+00\n",
            "Epoch 3/100\n",
            "12/12 [==============================] - 10s 862ms/step - loss: 2.3039 - accuracy: 0.0992 - recall: 0.0000e+00 - specificity: 1.0000 - f1_score: 0.0000e+00 - val_loss: 2.3053 - val_accuracy: 0.1035 - val_recall: 0.0000e+00 - val_specificity: 1.0000 - val_f1_score: 0.0000e+00\n",
            "Epoch 4/100\n",
            "12/12 [==============================] - 10s 857ms/step - loss: 2.3049 - accuracy: 0.0933 - recall: 0.0000e+00 - specificity: 1.0000 - f1_score: 0.0000e+00 - val_loss: 2.3051 - val_accuracy: 0.0957 - val_recall: 0.0000e+00 - val_specificity: 1.0000 - val_f1_score: 0.0000e+00\n",
            "Epoch 5/100\n",
            "12/12 [==============================] - 10s 858ms/step - loss: 2.3048 - accuracy: 0.0933 - recall: 0.0000e+00 - specificity: 1.0000 - f1_score: 0.0000e+00 - val_loss: 2.3034 - val_accuracy: 0.0978 - val_recall: 0.0000e+00 - val_specificity: 1.0000 - val_f1_score: 0.0000e+00\n",
            "Epoch 6/100\n",
            "12/12 [==============================] - 10s 856ms/step - loss: 2.3037 - accuracy: 0.1003 - recall: 0.0000e+00 - specificity: 1.0000 - f1_score: 0.0000e+00 - val_loss: 2.3057 - val_accuracy: 0.0957 - val_recall: 0.0000e+00 - val_specificity: 1.0000 - val_f1_score: 0.0000e+00\n",
            "Epoch 00006: early stopping\n"
          ],
          "name": "stdout"
        },
        {
          "output_type": "execute_result",
          "data": {
            "text/plain": [
              "<tensorflow.python.keras.callbacks.History at 0x7f2059e0fb00>"
            ]
          },
          "metadata": {
            "tags": []
          },
          "execution_count": 28
        }
      ]
    },
    {
      "cell_type": "markdown",
      "metadata": {
        "id": "oQ16LO-NdvlI"
      },
      "source": [
        "###### Skenario $3.2.8.$ ($\\text{batch_number} = 750$)"
      ]
    },
    {
      "cell_type": "code",
      "metadata": {
        "id": "NBAbTKnRdrLA",
        "outputId": "4aa0b337-9b89-4d7b-8eb2-c1c914396aba",
        "colab": {
          "base_uri": "https://localhost:8080/"
        }
      },
      "source": [
        "convolutional_model = create_model(0.1)\n",
        "convolutional_model.fit(x_train, y_train, epochs=100, batch_size=750, validation_data=(x_test, y_test), use_multiprocessing=True, callbacks=[es])"
      ],
      "execution_count": 29,
      "outputs": [
        {
          "output_type": "stream",
          "text": [
            "Epoch 1/100\n",
            "8/8 [==============================] - 10s 1s/step - loss: 520.3365 - accuracy: 0.0917 - recall: 0.0247 - specificity: 0.9743 - f1_score: 0.0248 - val_loss: 2.3651 - val_accuracy: 0.0957 - val_recall: 0.0000e+00 - val_specificity: 1.0000 - val_f1_score: 0.0000e+00\n",
            "Epoch 2/100\n",
            "8/8 [==============================] - 10s 1s/step - loss: 2.3425 - accuracy: 0.1013 - recall: 0.0000e+00 - specificity: 1.0000 - f1_score: 0.0000e+00 - val_loss: 2.3155 - val_accuracy: 0.0957 - val_recall: 0.0000e+00 - val_specificity: 1.0000 - val_f1_score: 0.0000e+00\n",
            "Epoch 3/100\n",
            "8/8 [==============================] - 10s 1s/step - loss: 2.3099 - accuracy: 0.1033 - recall: 0.0000e+00 - specificity: 1.0000 - f1_score: 0.0000e+00 - val_loss: 2.3057 - val_accuracy: 0.0995 - val_recall: 0.0000e+00 - val_specificity: 1.0000 - val_f1_score: 0.0000e+00\n",
            "Epoch 4/100\n",
            "8/8 [==============================] - 10s 1s/step - loss: 2.3067 - accuracy: 0.1003 - recall: 0.0000e+00 - specificity: 1.0000 - f1_score: 0.0000e+00 - val_loss: 2.3048 - val_accuracy: 0.0995 - val_recall: 0.0000e+00 - val_specificity: 1.0000 - val_f1_score: 0.0000e+00\n",
            "Epoch 5/100\n",
            "8/8 [==============================] - 10s 1s/step - loss: 2.3039 - accuracy: 0.0992 - recall: 0.0000e+00 - specificity: 1.0000 - f1_score: 0.0000e+00 - val_loss: 2.3050 - val_accuracy: 0.0985 - val_recall: 0.0000e+00 - val_specificity: 1.0000 - val_f1_score: 0.0000e+00\n",
            "Epoch 00005: early stopping\n"
          ],
          "name": "stdout"
        },
        {
          "output_type": "execute_result",
          "data": {
            "text/plain": [
              "<tensorflow.python.keras.callbacks.History at 0x7f2059b8b748>"
            ]
          },
          "metadata": {
            "tags": []
          },
          "execution_count": 29
        }
      ]
    },
    {
      "cell_type": "markdown",
      "metadata": {
        "id": "ZcsYBiaZd8Ca"
      },
      "source": [
        "###### Skenario $3.2.9.$ ($\\text{batch_number} = 1000$)"
      ]
    },
    {
      "cell_type": "code",
      "metadata": {
        "id": "K1l5Q8Cid4ZP",
        "outputId": "3ee85221-36ec-47e1-8519-8795cc5aadd2",
        "colab": {
          "base_uri": "https://localhost:8080/"
        }
      },
      "source": [
        "convolutional_model = create_model(0.1)\n",
        "convolutional_model.fit(x_train, y_train, epochs=100, batch_size=1000, validation_data=(x_test, y_test), use_multiprocessing=True, callbacks=[es])"
      ],
      "execution_count": 30,
      "outputs": [
        {
          "output_type": "stream",
          "text": [
            "Epoch 1/100\n",
            "6/6 [==============================] - 10s 2s/step - loss: 205.1836 - accuracy: 0.0982 - recall: 0.0650 - specificity: 0.9324 - f1_score: 0.0657 - val_loss: 11.8513 - val_accuracy: 0.0975 - val_recall: 0.0975 - val_specificity: 0.8997 - val_f1_score: 0.0975\n",
            "Epoch 2/100\n",
            "6/6 [==============================] - 10s 2s/step - loss: 4.9261 - accuracy: 0.1008 - recall: 0.0350 - specificity: 0.9698 - f1_score: 0.0425 - val_loss: 2.3778 - val_accuracy: 0.0985 - val_recall: 0.0000e+00 - val_specificity: 1.0000 - val_f1_score: 0.0000e+00\n",
            "Epoch 3/100\n",
            "6/6 [==============================] - 9s 2s/step - loss: 2.3626 - accuracy: 0.1010 - recall: 0.0000e+00 - specificity: 1.0000 - f1_score: 0.0000e+00 - val_loss: 2.3459 - val_accuracy: 0.0985 - val_recall: 0.0000e+00 - val_specificity: 1.0000 - val_f1_score: 0.0000e+00\n",
            "Epoch 4/100\n",
            "6/6 [==============================] - 9s 2s/step - loss: 2.3345 - accuracy: 0.1010 - recall: 0.0000e+00 - specificity: 1.0000 - f1_score: 0.0000e+00 - val_loss: 2.3273 - val_accuracy: 0.0957 - val_recall: 0.0000e+00 - val_specificity: 1.0000 - val_f1_score: 0.0000e+00\n",
            "Epoch 5/100\n",
            "6/6 [==============================] - 10s 2s/step - loss: 2.3169 - accuracy: 0.1028 - recall: 0.0000e+00 - specificity: 1.0000 - f1_score: 0.0000e+00 - val_loss: 2.3127 - val_accuracy: 0.0957 - val_recall: 0.0000e+00 - val_specificity: 1.0000 - val_f1_score: 0.0000e+00\n",
            "Epoch 6/100\n",
            "6/6 [==============================] - 10s 2s/step - loss: 2.3073 - accuracy: 0.1028 - recall: 0.0000e+00 - specificity: 1.0000 - f1_score: 0.0000e+00 - val_loss: 2.3060 - val_accuracy: 0.0957 - val_recall: 0.0000e+00 - val_specificity: 1.0000 - val_f1_score: 0.0000e+00\n",
            "Epoch 7/100\n",
            "6/6 [==============================] - 10s 2s/step - loss: 2.3045 - accuracy: 0.1055 - recall: 0.0000e+00 - specificity: 1.0000 - f1_score: 0.0000e+00 - val_loss: 2.3047 - val_accuracy: 0.0957 - val_recall: 0.0000e+00 - val_specificity: 1.0000 - val_f1_score: 0.0000e+00\n",
            "Epoch 8/100\n",
            "6/6 [==============================] - 10s 2s/step - loss: 2.3046 - accuracy: 0.0988 - recall: 0.0000e+00 - specificity: 1.0000 - f1_score: 0.0000e+00 - val_loss: 2.3041 - val_accuracy: 0.0995 - val_recall: 0.0000e+00 - val_specificity: 1.0000 - val_f1_score: 0.0000e+00\n",
            "Epoch 9/100\n",
            "6/6 [==============================] - 10s 2s/step - loss: 2.3042 - accuracy: 0.1003 - recall: 0.0000e+00 - specificity: 1.0000 - f1_score: 0.0000e+00 - val_loss: 2.3034 - val_accuracy: 0.0995 - val_recall: 0.0000e+00 - val_specificity: 1.0000 - val_f1_score: 0.0000e+00\n",
            "Epoch 10/100\n",
            "6/6 [==============================] - 10s 2s/step - loss: 2.3032 - accuracy: 0.0960 - recall: 0.0000e+00 - specificity: 1.0000 - f1_score: 0.0000e+00 - val_loss: 2.3035 - val_accuracy: 0.0978 - val_recall: 0.0000e+00 - val_specificity: 1.0000 - val_f1_score: 0.0000e+00\n",
            "Epoch 00010: early stopping\n"
          ],
          "name": "stdout"
        },
        {
          "output_type": "execute_result",
          "data": {
            "text/plain": [
              "<tensorflow.python.keras.callbacks.History at 0x7f2059900f60>"
            ]
          },
          "metadata": {
            "tags": []
          },
          "execution_count": 30
        }
      ]
    },
    {
      "cell_type": "markdown",
      "metadata": {
        "id": "8zO3MjDreEnc"
      },
      "source": [
        "###### Skenario $3.2.10.$ ($\\text{batch_number} = |\\text{data_train}|$)"
      ]
    },
    {
      "cell_type": "code",
      "metadata": {
        "id": "KvLwfuXmeZfP",
        "outputId": "436b3ef1-7357-45b9-f3fc-5b1f2b03cd6d",
        "colab": {
          "base_uri": "https://localhost:8080/"
        }
      },
      "source": [
        "convolutional_model = create_model(0.1)\n",
        "convolutional_model.fit(x_train, y_train, epochs=100, batch_size=len(x_train), validation_data=(x_test, y_test), use_multiprocessing=True, callbacks=[es])"
      ],
      "execution_count": 31,
      "outputs": [
        {
          "output_type": "stream",
          "text": [
            "Epoch 1/100\n",
            "1/1 [==============================] - 2s 2s/step - loss: 2.5930 - accuracy: 0.1075 - recall: 0.0000e+00 - specificity: 1.0000 - f1_score: 0.0000e+00 - val_loss: 4837.8730 - val_accuracy: 0.1055 - val_recall: 0.1055 - val_specificity: 0.9006 - val_f1_score: 0.1055\n",
            "Epoch 2/100\n",
            "1/1 [==============================] - 2s 2s/step - loss: 4837.3042 - accuracy: 0.0963 - recall: 0.0963 - specificity: 0.8996 - f1_score: 0.0963 - val_loss: 39.1218 - val_accuracy: 0.1070 - val_recall: 0.1070 - val_specificity: 0.9008 - val_f1_score: 0.1070\n",
            "Epoch 3/100\n",
            "1/1 [==============================] - 2s 2s/step - loss: 38.3197 - accuracy: 0.0953 - recall: 0.0953 - specificity: 0.8995 - f1_score: 0.0953 - val_loss: 2.3714 - val_accuracy: 0.0975 - val_recall: 0.0000e+00 - val_specificity: 1.0000 - val_f1_score: 0.0000e+00\n",
            "Epoch 4/100\n",
            "1/1 [==============================] - 2s 2s/step - loss: 2.3595 - accuracy: 0.1017 - recall: 0.0000e+00 - specificity: 1.0000 - f1_score: 0.0000e+00 - val_loss: 2.3632 - val_accuracy: 0.0957 - val_recall: 0.0000e+00 - val_specificity: 1.0000 - val_f1_score: 0.0000e+00\n",
            "Epoch 5/100\n",
            "1/1 [==============================] - 2s 2s/step - loss: 2.3501 - accuracy: 0.1028 - recall: 0.0000e+00 - specificity: 1.0000 - f1_score: 0.0000e+00 - val_loss: 2.3481 - val_accuracy: 0.0957 - val_recall: 0.0000e+00 - val_specificity: 1.0000 - val_f1_score: 0.0000e+00\n",
            "Epoch 6/100\n",
            "1/1 [==============================] - 2s 2s/step - loss: 2.3349 - accuracy: 0.1028 - recall: 0.0000e+00 - specificity: 1.0000 - f1_score: 0.0000e+00 - val_loss: 2.3294 - val_accuracy: 0.0985 - val_recall: 0.0000e+00 - val_specificity: 1.0000 - val_f1_score: 0.0000e+00\n",
            "Epoch 7/100\n",
            "1/1 [==============================] - 2s 2s/step - loss: 2.3183 - accuracy: 0.1010 - recall: 0.0000e+00 - specificity: 1.0000 - f1_score: 0.0000e+00 - val_loss: 2.3158 - val_accuracy: 0.0985 - val_recall: 0.0000e+00 - val_specificity: 1.0000 - val_f1_score: 0.0000e+00\n",
            "Epoch 8/100\n",
            "1/1 [==============================] - 2s 2s/step - loss: 2.3087 - accuracy: 0.1010 - recall: 0.0000e+00 - specificity: 1.0000 - f1_score: 0.0000e+00 - val_loss: 2.3405 - val_accuracy: 0.0978 - val_recall: 0.0000e+00 - val_specificity: 1.0000 - val_f1_score: 0.0000e+00\n",
            "Epoch 00008: early stopping\n"
          ],
          "name": "stdout"
        },
        {
          "output_type": "execute_result",
          "data": {
            "text/plain": [
              "<tensorflow.python.keras.callbacks.History at 0x7f2055673780>"
            ]
          },
          "metadata": {
            "tags": []
          },
          "execution_count": 31
        }
      ]
    },
    {
      "cell_type": "markdown",
      "metadata": {
        "id": "pll9r-Aw0Hpv"
      },
      "source": [
        "###### Kesimpulan Skenario $3.2.$"
      ]
    },
    {
      "cell_type": "markdown",
      "metadata": {
        "id": "xIjeqYBxuJBa"
      },
      "source": [
        "Berdasarkan hasil dari skenario $3.2.1.$, $3.2.2.$, $3.2.3.$, $3.2.4.$, $3.2.5.$, $3.2.6.$, $3.2.7.$, $3.2.8.$, $3.2.9.$, dan $3.2.10.$, kesepuluh skenario mengalami _early stop_ pada $\\text{epoch} \\leq 10$. Semua skenario memiliki nilai akurasi yang rendah (sekitar $\\pm 10\\%$). Sulit untuk menentukan parameter optimal dari kelima skenario dengan urutan pengambilan skenario dari $\\text{batch_size}$ terlebih dahulu ketimbang $\\text{learning_rate}$. Untuk keberlanjutan skenario, penentuan $\\text{batch_size}$ digunakan pendekatan $\\text{batch_size} \\geq \\sqrt{|sampel|} = \\sqrt{10000 \\cdot 0,6} \\approx 77$. Nilai $\\text{batch_size}$ yang mendekati dari skenario tersebut adalah nilai $\\text{batch_size}$ pada skenario $3.2.4.$ yaitu $75$."
      ]
    },
    {
      "cell_type": "markdown",
      "metadata": {
        "id": "YcX10i1J0cso"
      },
      "source": [
        "##### Melakukan Skenario $3.3.$ (Mengubah $\\text{learning_rate}$)"
      ]
    },
    {
      "cell_type": "markdown",
      "metadata": {
        "id": "urtNgG400yNq"
      },
      "source": [
        "###### Skenario $3.3.1.$ ($\\text{learning_rate} = 0.25$)"
      ]
    },
    {
      "cell_type": "code",
      "metadata": {
        "id": "OlsPZP911QSa",
        "outputId": "6d3e79e3-9c97-4d97-f3d7-0bf14d155ffd",
        "colab": {
          "base_uri": "https://localhost:8080/"
        }
      },
      "source": [
        "convolutional_model = create_model(0.25)\n",
        "convolutional_model.fit(x_train, y_train, epochs=100, batch_size=75, validation_data=(x_test, y_test), use_multiprocessing=True, callbacks=[es])"
      ],
      "execution_count": 32,
      "outputs": [
        {
          "output_type": "stream",
          "text": [
            "Epoch 1/100\n",
            "80/80 [==============================] - 12s 147ms/step - loss: 10590.9766 - accuracy: 0.1023 - recall: 0.0040 - specificity: 0.9963 - f1_score: 0.0040 - val_loss: 2.3108 - val_accuracy: 0.0957 - val_recall: 0.0000e+00 - val_specificity: 1.0000 - val_f1_score: 0.0000e+00\n",
            "Epoch 2/100\n",
            "80/80 [==============================] - 12s 145ms/step - loss: 2.3208 - accuracy: 0.1028 - recall: 0.0000e+00 - specificity: 1.0000 - f1_score: 0.0000e+00 - val_loss: 2.3338 - val_accuracy: 0.0993 - val_recall: 0.0000e+00 - val_specificity: 1.0000 - val_f1_score: 0.0000e+00\n",
            "Epoch 00002: early stopping\n"
          ],
          "name": "stdout"
        },
        {
          "output_type": "execute_result",
          "data": {
            "text/plain": [
              "<tensorflow.python.keras.callbacks.History at 0x7f20555ee5f8>"
            ]
          },
          "metadata": {
            "tags": []
          },
          "execution_count": 32
        }
      ]
    },
    {
      "cell_type": "markdown",
      "metadata": {
        "id": "R1gAH_kDvFh7"
      },
      "source": [
        "###### Skenario $3.3.2.$ ($\\text{learning_rate} = 0.1$)"
      ]
    },
    {
      "cell_type": "code",
      "metadata": {
        "id": "bJOIAForvHGC",
        "outputId": "179429b7-d708-435c-967f-bb82241ad86f",
        "colab": {
          "base_uri": "https://localhost:8080/"
        }
      },
      "source": [
        "convolutional_model = create_model(0.1)\n",
        "convolutional_model.fit(x_train, y_train, epochs=100, batch_size=75, validation_data=(x_test, y_test), use_multiprocessing=True, callbacks=[es])"
      ],
      "execution_count": 33,
      "outputs": [
        {
          "output_type": "stream",
          "text": [
            "Epoch 1/100\n",
            "80/80 [==============================] - 12s 150ms/step - loss: 86.2325 - accuracy: 0.0985 - recall: 0.0047 - specificity: 0.9949 - f1_score: 0.0048 - val_loss: 2.3077 - val_accuracy: 0.0957 - val_recall: 0.0000e+00 - val_specificity: 1.0000 - val_f1_score: 0.0000e+00\n",
            "Epoch 2/100\n",
            "80/80 [==============================] - 12s 147ms/step - loss: 2.3323 - accuracy: 0.1005 - recall: 0.0000e+00 - specificity: 1.0000 - f1_score: 0.0000e+00 - val_loss: 2.3141 - val_accuracy: 0.0995 - val_recall: 0.0000e+00 - val_specificity: 1.0000 - val_f1_score: 0.0000e+00\n",
            "Epoch 00002: early stopping\n"
          ],
          "name": "stdout"
        },
        {
          "output_type": "execute_result",
          "data": {
            "text/plain": [
              "<tensorflow.python.keras.callbacks.History at 0x7f20533d4e10>"
            ]
          },
          "metadata": {
            "tags": []
          },
          "execution_count": 33
        }
      ]
    },
    {
      "cell_type": "markdown",
      "metadata": {
        "id": "rN1n-0po08De"
      },
      "source": [
        "###### Skenario $3.3.3.$ ($\\text{learning_rate} = 0.05$)"
      ]
    },
    {
      "cell_type": "code",
      "metadata": {
        "id": "iuxjL3uI1Xxz",
        "outputId": "245d234b-0e20-4182-af78-8ef62ea80c58",
        "colab": {
          "base_uri": "https://localhost:8080/"
        }
      },
      "source": [
        "convolutional_model = create_model(0.05)\n",
        "convolutional_model.fit(x_train, y_train, epochs=100, batch_size=75, validation_data=(x_test, y_test), use_multiprocessing=True, callbacks=[es])"
      ],
      "execution_count": 34,
      "outputs": [
        {
          "output_type": "stream",
          "text": [
            "Epoch 1/100\n",
            "80/80 [==============================] - 12s 151ms/step - loss: 26.4783 - accuracy: 0.1043 - recall: 0.0042 - specificity: 0.9971 - f1_score: 0.0062 - val_loss: 2.3102 - val_accuracy: 0.0957 - val_recall: 0.0000e+00 - val_specificity: 1.0000 - val_f1_score: 0.0000e+00\n",
            "Epoch 2/100\n",
            "80/80 [==============================] - 12s 147ms/step - loss: 2.3060 - accuracy: 0.1007 - recall: 0.0000e+00 - specificity: 1.0000 - f1_score: 0.0000e+00 - val_loss: 2.3079 - val_accuracy: 0.0957 - val_recall: 0.0000e+00 - val_specificity: 1.0000 - val_f1_score: 0.0000e+00\n",
            "Epoch 3/100\n",
            "80/80 [==============================] - 12s 146ms/step - loss: 2.3062 - accuracy: 0.1062 - recall: 0.0000e+00 - specificity: 1.0000 - f1_score: 0.0000e+00 - val_loss: 2.3055 - val_accuracy: 0.0957 - val_recall: 0.0000e+00 - val_specificity: 1.0000 - val_f1_score: 0.0000e+00\n",
            "Epoch 4/100\n",
            "80/80 [==============================] - 12s 148ms/step - loss: 2.3061 - accuracy: 0.1020 - recall: 0.0000e+00 - specificity: 1.0000 - f1_score: 0.0000e+00 - val_loss: 2.3058 - val_accuracy: 0.1070 - val_recall: 0.0000e+00 - val_specificity: 1.0000 - val_f1_score: 0.0000e+00\n",
            "Epoch 00004: early stopping\n"
          ],
          "name": "stdout"
        },
        {
          "output_type": "execute_result",
          "data": {
            "text/plain": [
              "<tensorflow.python.keras.callbacks.History at 0x7f2052145fd0>"
            ]
          },
          "metadata": {
            "tags": []
          },
          "execution_count": 34
        }
      ]
    },
    {
      "cell_type": "markdown",
      "metadata": {
        "id": "mkMNveC-0-tK"
      },
      "source": [
        "###### Skenario $3.3.4.$ ($\\text{learning_rate} = 0.01$)"
      ]
    },
    {
      "cell_type": "code",
      "metadata": {
        "id": "eE2bPsLs1ayE",
        "outputId": "e21766aa-4933-4da6-a2a3-8859e1e9232e",
        "colab": {
          "base_uri": "https://localhost:8080/"
        }
      },
      "source": [
        "convolutional_model = create_model(0.01)\n",
        "convolutional_model.fit(x_train, y_train, epochs=100, batch_size=75, validation_data=(x_test, y_test), use_multiprocessing=True, callbacks=[es])"
      ],
      "execution_count": 35,
      "outputs": [
        {
          "output_type": "stream",
          "text": [
            "Epoch 1/100\n",
            "80/80 [==============================] - 12s 154ms/step - loss: 2.1981 - accuracy: 0.2237 - recall: 0.0205 - specificity: 0.9967 - f1_score: 0.0367 - val_loss: 1.8452 - val_accuracy: 0.3220 - val_recall: 0.0758 - val_specificity: 0.9925 - val_f1_score: 0.1308\n",
            "Epoch 2/100\n",
            "80/80 [==============================] - 12s 151ms/step - loss: 1.7267 - accuracy: 0.3652 - recall: 0.1113 - specificity: 0.9922 - f1_score: 0.1852 - val_loss: 1.5657 - val_accuracy: 0.4195 - val_recall: 0.1474 - val_specificity: 0.9909 - val_f1_score: 0.2383\n",
            "Epoch 3/100\n",
            "80/80 [==============================] - 12s 150ms/step - loss: 1.5638 - accuracy: 0.4268 - recall: 0.1902 - specificity: 0.9889 - f1_score: 0.2918 - val_loss: 1.5154 - val_accuracy: 0.4538 - val_recall: 0.1983 - val_specificity: 0.9880 - val_f1_score: 0.3027\n",
            "Epoch 4/100\n",
            "80/80 [==============================] - 14s 173ms/step - loss: 1.4506 - accuracy: 0.4727 - recall: 0.2583 - specificity: 0.9871 - f1_score: 0.3736 - val_loss: 1.5389 - val_accuracy: 0.4527 - val_recall: 0.2338 - val_specificity: 0.9853 - val_f1_score: 0.3407\n",
            "Epoch 00004: early stopping\n"
          ],
          "name": "stdout"
        },
        {
          "output_type": "execute_result",
          "data": {
            "text/plain": [
              "<tensorflow.python.keras.callbacks.History at 0x7f2050ec4fd0>"
            ]
          },
          "metadata": {
            "tags": []
          },
          "execution_count": 35
        }
      ]
    },
    {
      "cell_type": "markdown",
      "metadata": {
        "id": "vPZChoED1An_"
      },
      "source": [
        "###### Skenario $3.3.5.$ ($\\text{learning_rate} = 0.005$)"
      ]
    },
    {
      "cell_type": "code",
      "metadata": {
        "id": "SvPgU0-Z1dTI",
        "outputId": "45353fe2-c593-455a-ef46-77337719827d",
        "colab": {
          "base_uri": "https://localhost:8080/"
        }
      },
      "source": [
        "convolutional_model = create_model(0.005)\n",
        "convolutional_model.fit(x_train, y_train, epochs=100, batch_size=75, validation_data=(x_test, y_test), use_multiprocessing=True, callbacks=[es])"
      ],
      "execution_count": 36,
      "outputs": [
        {
          "output_type": "stream",
          "text": [
            "Epoch 1/100\n",
            "80/80 [==============================] - 13s 161ms/step - loss: 2.0960 - accuracy: 0.2602 - recall: 0.0310 - specificity: 0.9963 - f1_score: 0.0541 - val_loss: 1.7425 - val_accuracy: 0.3677 - val_recall: 0.1259 - val_specificity: 0.9888 - val_f1_score: 0.2038\n",
            "Epoch 2/100\n",
            "80/80 [==============================] - 12s 151ms/step - loss: 1.6501 - accuracy: 0.3833 - recall: 0.1330 - specificity: 0.9899 - f1_score: 0.2151 - val_loss: 1.5250 - val_accuracy: 0.4333 - val_recall: 0.2156 - val_specificity: 0.9857 - val_f1_score: 0.3192\n",
            "Epoch 3/100\n",
            "80/80 [==============================] - 12s 151ms/step - loss: 1.4967 - accuracy: 0.4510 - recall: 0.2240 - specificity: 0.9869 - f1_score: 0.3318 - val_loss: 1.4484 - val_accuracy: 0.4890 - val_recall: 0.1607 - val_specificity: 0.9940 - val_f1_score: 0.2626\n",
            "Epoch 4/100\n",
            "80/80 [==============================] - 12s 154ms/step - loss: 1.3777 - accuracy: 0.4947 - recall: 0.2857 - specificity: 0.9845 - f1_score: 0.3978 - val_loss: 1.4290 - val_accuracy: 0.4728 - val_recall: 0.2575 - val_specificity: 0.9848 - val_f1_score: 0.3683\n",
            "Epoch 5/100\n",
            "80/80 [==============================] - 13s 156ms/step - loss: 1.2674 - accuracy: 0.5412 - recall: 0.3615 - specificity: 0.9830 - f1_score: 0.4758 - val_loss: 1.4445 - val_accuracy: 0.4812 - val_recall: 0.3360 - val_specificity: 0.9779 - val_f1_score: 0.4365\n",
            "Epoch 00005: early stopping\n"
          ],
          "name": "stdout"
        },
        {
          "output_type": "execute_result",
          "data": {
            "text/plain": [
              "<tensorflow.python.keras.callbacks.History at 0x7f204fc4dcc0>"
            ]
          },
          "metadata": {
            "tags": []
          },
          "execution_count": 36
        }
      ]
    },
    {
      "cell_type": "markdown",
      "metadata": {
        "id": "3XPPdJU10lbS"
      },
      "source": [
        "###### Skenario $3.3.6.$ ($\\text{learning_rate} = 0.0025$)"
      ]
    },
    {
      "cell_type": "code",
      "metadata": {
        "id": "RzfJorGM0jDz",
        "outputId": "f06db65f-f761-47b4-b0b6-9dc7bbb6b27a",
        "colab": {
          "base_uri": "https://localhost:8080/"
        }
      },
      "source": [
        "convolutional_model = create_model(0.0025)\n",
        "convolutional_model.fit(x_train, y_train, epochs=100, batch_size=75, validation_data=(x_test, y_test), use_multiprocessing=True, callbacks=[es])"
      ],
      "execution_count": 77,
      "outputs": [
        {
          "output_type": "stream",
          "text": [
            "Epoch 1/100\n",
            "80/80 [==============================] - 13s 158ms/step - loss: 2.0453 - accuracy: 0.2622 - recall: 0.0310 - specificity: 0.9979 - f1_score: 0.0559 - val_loss: 1.7470 - val_accuracy: 0.3720 - val_recall: 0.0985 - val_specificity: 0.9928 - val_f1_score: 0.1681\n",
            "Epoch 2/100\n",
            "80/80 [==============================] - 13s 161ms/step - loss: 1.5803 - accuracy: 0.4293 - recall: 0.1717 - specificity: 0.9910 - f1_score: 0.2707 - val_loss: 1.4845 - val_accuracy: 0.4507 - val_recall: 0.2015 - val_specificity: 0.9888 - val_f1_score: 0.3077\n",
            "Epoch 3/100\n",
            "80/80 [==============================] - 13s 161ms/step - loss: 1.3868 - accuracy: 0.5017 - recall: 0.2765 - specificity: 0.9865 - f1_score: 0.3935 - val_loss: 1.3620 - val_accuracy: 0.4983 - val_recall: 0.3158 - val_specificity: 0.9835 - val_f1_score: 0.4290\n",
            "Epoch 4/100\n",
            "80/80 [==============================] - 13s 161ms/step - loss: 1.2641 - accuracy: 0.5392 - recall: 0.3455 - specificity: 0.9847 - f1_score: 0.4640 - val_loss: 1.3052 - val_accuracy: 0.5312 - val_recall: 0.3563 - val_specificity: 0.9825 - val_f1_score: 0.4691\n",
            "Epoch 5/100\n",
            "80/80 [==============================] - 13s 161ms/step - loss: 1.1248 - accuracy: 0.5880 - recall: 0.4313 - specificity: 0.9848 - f1_score: 0.5470 - val_loss: 1.2823 - val_accuracy: 0.5468 - val_recall: 0.4269 - val_specificity: 0.9776 - val_f1_score: 0.5231\n",
            "Epoch 6/100\n",
            "80/80 [==============================] - 13s 162ms/step - loss: 0.9772 - accuracy: 0.6512 - recall: 0.5135 - specificity: 0.9842 - f1_score: 0.6193 - val_loss: 1.2785 - val_accuracy: 0.5560 - val_recall: 0.4343 - val_specificity: 0.9767 - val_f1_score: 0.5273\n",
            "Epoch 7/100\n",
            "80/80 [==============================] - 13s 161ms/step - loss: 0.8292 - accuracy: 0.7093 - recall: 0.5957 - specificity: 0.9846 - f1_score: 0.6862 - val_loss: 1.3406 - val_accuracy: 0.5410 - val_recall: 0.4523 - val_specificity: 0.9717 - val_f1_score: 0.5296\n",
            "Epoch 00007: early stopping\n"
          ],
          "name": "stdout"
        },
        {
          "output_type": "execute_result",
          "data": {
            "text/plain": [
              "<tensorflow.python.keras.callbacks.History at 0x7f2043dddef0>"
            ]
          },
          "metadata": {
            "tags": []
          },
          "execution_count": 77
        }
      ]
    },
    {
      "cell_type": "markdown",
      "metadata": {
        "id": "wJr_rlhB1JGh"
      },
      "source": [
        "###### Skenario $3.3.7.$ ($\\text{learning_rate} = 0.001$)"
      ]
    },
    {
      "cell_type": "code",
      "metadata": {
        "id": "KFwKZqUP1fBz",
        "outputId": "3dc3dd1b-afd6-4862-a5cc-e5284b30ee6f",
        "colab": {
          "base_uri": "https://localhost:8080/"
        }
      },
      "source": [
        "convolutional_model = create_model(0.001)\n",
        "convolutional_model.fit(x_train, y_train, epochs=100, batch_size=75, validation_data=(x_test, y_test), use_multiprocessing=True, callbacks=[es])"
      ],
      "execution_count": 37,
      "outputs": [
        {
          "output_type": "stream",
          "text": [
            "Epoch 1/100\n",
            "80/80 [==============================] - 12s 156ms/step - loss: 2.0610 - accuracy: 0.2510 - recall: 0.0140 - specificity: 0.9988 - f1_score: 0.0259 - val_loss: 1.8292 - val_accuracy: 0.3305 - val_recall: 0.0881 - val_specificity: 0.9932 - val_f1_score: 0.1512\n",
            "Epoch 2/100\n",
            "80/80 [==============================] - 12s 153ms/step - loss: 1.6796 - accuracy: 0.4022 - recall: 0.1195 - specificity: 0.9934 - f1_score: 0.1985 - val_loss: 1.5171 - val_accuracy: 0.4470 - val_recall: 0.1568 - val_specificity: 0.9921 - val_f1_score: 0.2541\n",
            "Epoch 3/100\n",
            "80/80 [==============================] - 13s 156ms/step - loss: 1.4776 - accuracy: 0.4715 - recall: 0.2160 - specificity: 0.9893 - f1_score: 0.3271 - val_loss: 1.4771 - val_accuracy: 0.4560 - val_recall: 0.2556 - val_specificity: 0.9856 - val_f1_score: 0.3671\n",
            "Epoch 4/100\n",
            "80/80 [==============================] - 12s 154ms/step - loss: 1.3421 - accuracy: 0.5228 - recall: 0.2945 - specificity: 0.9879 - f1_score: 0.4177 - val_loss: 1.3596 - val_accuracy: 0.5113 - val_recall: 0.2904 - val_specificity: 0.9872 - val_f1_score: 0.4118\n",
            "Epoch 5/100\n",
            "80/80 [==============================] - 12s 154ms/step - loss: 1.2190 - accuracy: 0.5682 - recall: 0.3755 - specificity: 0.9858 - f1_score: 0.4985 - val_loss: 1.2740 - val_accuracy: 0.5455 - val_recall: 0.3560 - val_specificity: 0.9847 - val_f1_score: 0.4756\n",
            "Epoch 6/100\n",
            "80/80 [==============================] - 12s 154ms/step - loss: 1.1008 - accuracy: 0.6118 - recall: 0.4370 - specificity: 0.9859 - f1_score: 0.5577 - val_loss: 1.3100 - val_accuracy: 0.5393 - val_recall: 0.4146 - val_specificity: 0.9783 - val_f1_score: 0.5138\n",
            "Epoch 00006: early stopping\n"
          ],
          "name": "stdout"
        },
        {
          "output_type": "execute_result",
          "data": {
            "text/plain": [
              "<tensorflow.python.keras.callbacks.History at 0x7f204facd400>"
            ]
          },
          "metadata": {
            "tags": []
          },
          "execution_count": 37
        }
      ]
    },
    {
      "cell_type": "markdown",
      "metadata": {
        "id": "chaYJjvm0dsY"
      },
      "source": [
        "###### Skenario $3.3.8.$ ($\\text{learning_rate} = 0.0005$)"
      ]
    },
    {
      "cell_type": "code",
      "metadata": {
        "id": "XV34nIuE0cEE",
        "outputId": "7a6d8407-700c-4440-cdee-748bf90646f5",
        "colab": {
          "base_uri": "https://localhost:8080/"
        }
      },
      "source": [
        "convolutional_model = create_model(0.0005)\n",
        "convolutional_model.fit(x_train, y_train, epochs=100, batch_size=75, validation_data=(x_test, y_test), use_multiprocessing=True, callbacks=[es])"
      ],
      "execution_count": 76,
      "outputs": [
        {
          "output_type": "stream",
          "text": [
            "Epoch 1/100\n",
            "80/80 [==============================] - 13s 159ms/step - loss: 1.9880 - accuracy: 0.2780 - recall: 0.0238 - specificity: 0.9987 - f1_score: 0.0439 - val_loss: 1.7699 - val_accuracy: 0.3665 - val_recall: 0.0983 - val_specificity: 0.9951 - val_f1_score: 0.1708\n",
            "Epoch 2/100\n",
            "80/80 [==============================] - 12s 155ms/step - loss: 1.6330 - accuracy: 0.4123 - recall: 0.1303 - specificity: 0.9931 - f1_score: 0.2156 - val_loss: 1.5866 - val_accuracy: 0.4285 - val_recall: 0.1807 - val_specificity: 0.9906 - val_f1_score: 0.2835\n",
            "Epoch 3/100\n",
            "80/80 [==============================] - 12s 154ms/step - loss: 1.4766 - accuracy: 0.4808 - recall: 0.2182 - specificity: 0.9904 - f1_score: 0.3324 - val_loss: 1.4730 - val_accuracy: 0.4675 - val_recall: 0.2047 - val_specificity: 0.9887 - val_f1_score: 0.3114\n",
            "Epoch 4/100\n",
            "80/80 [==============================] - 12s 155ms/step - loss: 1.3546 - accuracy: 0.5230 - recall: 0.2793 - specificity: 0.9891 - f1_score: 0.4036 - val_loss: 1.3415 - val_accuracy: 0.5205 - val_recall: 0.2827 - val_specificity: 0.9880 - val_f1_score: 0.4050\n",
            "Epoch 5/100\n",
            "80/80 [==============================] - 13s 157ms/step - loss: 1.2555 - accuracy: 0.5525 - recall: 0.3347 - specificity: 0.9884 - f1_score: 0.4635 - val_loss: 1.2944 - val_accuracy: 0.5295 - val_recall: 0.3215 - val_specificity: 0.9852 - val_f1_score: 0.4399\n",
            "Epoch 6/100\n",
            "80/80 [==============================] - 13s 162ms/step - loss: 1.1928 - accuracy: 0.5737 - recall: 0.3778 - specificity: 0.9872 - f1_score: 0.5048 - val_loss: 1.2828 - val_accuracy: 0.5452 - val_recall: 0.3496 - val_specificity: 0.9847 - val_f1_score: 0.4684\n",
            "Epoch 7/100\n",
            "80/80 [==============================] - 13s 157ms/step - loss: 1.0963 - accuracy: 0.6190 - recall: 0.4253 - specificity: 0.9882 - f1_score: 0.5536 - val_loss: 1.2889 - val_accuracy: 0.5433 - val_recall: 0.3689 - val_specificity: 0.9823 - val_f1_score: 0.4812\n",
            "Epoch 00007: early stopping\n"
          ],
          "name": "stdout"
        },
        {
          "output_type": "execute_result",
          "data": {
            "text/plain": [
              "<tensorflow.python.keras.callbacks.History at 0x7f20447fc828>"
            ]
          },
          "metadata": {
            "tags": []
          },
          "execution_count": 76
        }
      ]
    },
    {
      "cell_type": "markdown",
      "metadata": {
        "id": "b0myOcJ50yDI"
      },
      "source": [
        "###### Skenario $3.3.9.$ ($\\text{learning_rate} = 0.00025$)"
      ]
    },
    {
      "cell_type": "code",
      "metadata": {
        "id": "-y01gL5C0vfM",
        "outputId": "a111cdf9-fce7-4ad9-e90d-6118fbad1788",
        "colab": {
          "base_uri": "https://localhost:8080/"
        }
      },
      "source": [
        "convolutional_model = create_model(0.00025)\n",
        "convolutional_model.fit(x_train, y_train, epochs=100, batch_size=75, validation_data=(x_test, y_test), use_multiprocessing=True, callbacks=[es])"
      ],
      "execution_count": 78,
      "outputs": [
        {
          "output_type": "stream",
          "text": [
            "Epoch 1/100\n",
            "80/80 [==============================] - 13s 164ms/step - loss: 2.1007 - accuracy: 0.2403 - recall: 0.0027 - specificity: 0.9997 - f1_score: 0.0052 - val_loss: 1.8844 - val_accuracy: 0.3282 - val_recall: 0.0193 - val_specificity: 0.9981 - val_f1_score: 0.0367\n",
            "Epoch 2/100\n",
            "80/80 [==============================] - 13s 158ms/step - loss: 1.7852 - accuracy: 0.3715 - recall: 0.0597 - specificity: 0.9966 - f1_score: 0.1063 - val_loss: 1.7661 - val_accuracy: 0.3643 - val_recall: 0.0911 - val_specificity: 0.9936 - val_f1_score: 0.1569\n",
            "Epoch 3/100\n",
            "80/80 [==============================] - 13s 159ms/step - loss: 1.6370 - accuracy: 0.4215 - recall: 0.1230 - specificity: 0.9937 - f1_score: 0.2057 - val_loss: 1.5746 - val_accuracy: 0.4462 - val_recall: 0.1136 - val_specificity: 0.9956 - val_f1_score: 0.1955\n",
            "Epoch 4/100\n",
            "80/80 [==============================] - 12s 155ms/step - loss: 1.5335 - accuracy: 0.4582 - recall: 0.1812 - specificity: 0.9920 - f1_score: 0.2864 - val_loss: 1.5280 - val_accuracy: 0.4380 - val_recall: 0.1916 - val_specificity: 0.9898 - val_f1_score: 0.2963\n",
            "Epoch 5/100\n",
            "80/80 [==============================] - 13s 159ms/step - loss: 1.4508 - accuracy: 0.4872 - recall: 0.2237 - specificity: 0.9904 - f1_score: 0.3391 - val_loss: 1.4514 - val_accuracy: 0.4742 - val_recall: 0.2200 - val_specificity: 0.9880 - val_f1_score: 0.3292\n",
            "Epoch 6/100\n",
            "80/80 [==============================] - 13s 158ms/step - loss: 1.3781 - accuracy: 0.5185 - recall: 0.2623 - specificity: 0.9897 - f1_score: 0.3853 - val_loss: 1.3991 - val_accuracy: 0.4980 - val_recall: 0.2472 - val_specificity: 0.9894 - val_f1_score: 0.3654\n",
            "Epoch 7/100\n",
            "80/80 [==============================] - 13s 157ms/step - loss: 1.3126 - accuracy: 0.5405 - recall: 0.2983 - specificity: 0.9894 - f1_score: 0.4258 - val_loss: 1.4224 - val_accuracy: 0.4825 - val_recall: 0.2807 - val_specificity: 0.9832 - val_f1_score: 0.3903\n",
            "Epoch 00007: early stopping\n"
          ],
          "name": "stdout"
        },
        {
          "output_type": "execute_result",
          "data": {
            "text/plain": [
              "<tensorflow.python.keras.callbacks.History at 0x7f20433595c0>"
            ]
          },
          "metadata": {
            "tags": []
          },
          "execution_count": 78
        }
      ]
    },
    {
      "cell_type": "markdown",
      "metadata": {
        "id": "0fLCCL96034t"
      },
      "source": [
        "###### Skenario $3.3.10.$ ($\\text{learning_rate} = 0.0001$)"
      ]
    },
    {
      "cell_type": "code",
      "metadata": {
        "id": "n-5t6VGz02Db",
        "outputId": "4a599b38-8438-4971-86f4-8b0b788adb0a",
        "colab": {
          "base_uri": "https://localhost:8080/"
        }
      },
      "source": [
        "convolutional_model = create_model(0.0001)\n",
        "convolutional_model.fit(x_train, y_train, epochs=100, batch_size=75, validation_data=(x_test, y_test), use_multiprocessing=True, callbacks=[es])"
      ],
      "execution_count": 79,
      "outputs": [
        {
          "output_type": "stream",
          "text": [
            "Epoch 1/100\n",
            "80/80 [==============================] - 14s 171ms/step - loss: 2.2271 - accuracy: 0.1882 - recall: 0.0000e+00 - specificity: 1.0000 - f1_score: 0.0000e+00 - val_loss: 2.0814 - val_accuracy: 0.2485 - val_recall: 0.0000e+00 - val_specificity: 1.0000 - val_f1_score: 0.0000e+00\n",
            "Epoch 2/100\n",
            "80/80 [==============================] - 13s 163ms/step - loss: 1.9743 - accuracy: 0.3053 - recall: 0.0060 - specificity: 0.9998 - f1_score: 0.0117 - val_loss: 1.8896 - val_accuracy: 0.3350 - val_recall: 0.0183 - val_specificity: 0.9987 - val_f1_score: 0.0350\n",
            "Epoch 3/100\n",
            "80/80 [==============================] - 13s 164ms/step - loss: 1.8135 - accuracy: 0.3667 - recall: 0.0308 - specificity: 0.9984 - f1_score: 0.0581 - val_loss: 1.7515 - val_accuracy: 0.3875 - val_recall: 0.0338 - val_specificity: 0.9979 - val_f1_score: 0.0634\n",
            "Epoch 4/100\n",
            "80/80 [==============================] - 13s 164ms/step - loss: 1.7141 - accuracy: 0.3988 - recall: 0.0600 - specificity: 0.9971 - f1_score: 0.1090 - val_loss: 1.6795 - val_accuracy: 0.4207 - val_recall: 0.0620 - val_specificity: 0.9966 - val_f1_score: 0.1120\n",
            "Epoch 5/100\n",
            "80/80 [==============================] - 13s 166ms/step - loss: 1.6432 - accuracy: 0.4245 - recall: 0.0973 - specificity: 0.9959 - f1_score: 0.1700 - val_loss: 1.6126 - val_accuracy: 0.4333 - val_recall: 0.1017 - val_specificity: 0.9944 - val_f1_score: 0.1749\n",
            "Epoch 6/100\n",
            "80/80 [==============================] - 13s 166ms/step - loss: 1.5806 - accuracy: 0.4402 - recall: 0.1213 - specificity: 0.9946 - f1_score: 0.2053 - val_loss: 1.5859 - val_accuracy: 0.4338 - val_recall: 0.1435 - val_specificity: 0.9927 - val_f1_score: 0.2353\n",
            "Epoch 7/100\n",
            "80/80 [==============================] - 13s 167ms/step - loss: 1.5245 - accuracy: 0.4683 - recall: 0.1562 - specificity: 0.9936 - f1_score: 0.2560 - val_loss: 1.5201 - val_accuracy: 0.4605 - val_recall: 0.1499 - val_specificity: 0.9935 - val_f1_score: 0.2454\n",
            "Epoch 8/100\n",
            "80/80 [==============================] - 14s 169ms/step - loss: 1.4935 - accuracy: 0.4693 - recall: 0.1820 - specificity: 0.9924 - f1_score: 0.2897 - val_loss: 1.5030 - val_accuracy: 0.4642 - val_recall: 0.1738 - val_specificity: 0.9919 - val_f1_score: 0.2768\n",
            "Epoch 9/100\n",
            "80/80 [==============================] - 14s 173ms/step - loss: 1.4445 - accuracy: 0.4962 - recall: 0.2040 - specificity: 0.9920 - f1_score: 0.3171 - val_loss: 1.4961 - val_accuracy: 0.4688 - val_recall: 0.2131 - val_specificity: 0.9902 - val_f1_score: 0.3256\n",
            "Epoch 10/100\n",
            "80/80 [==============================] - 14s 170ms/step - loss: 1.4245 - accuracy: 0.5000 - recall: 0.2303 - specificity: 0.9910 - f1_score: 0.3498 - val_loss: 1.4461 - val_accuracy: 0.4770 - val_recall: 0.2032 - val_specificity: 0.9902 - val_f1_score: 0.3121\n",
            "Epoch 11/100\n",
            "80/80 [==============================] - 13s 166ms/step - loss: 1.3843 - accuracy: 0.5217 - recall: 0.2385 - specificity: 0.9913 - f1_score: 0.3597 - val_loss: 1.4350 - val_accuracy: 0.4818 - val_recall: 0.2373 - val_specificity: 0.9881 - val_f1_score: 0.3512\n",
            "Epoch 12/100\n",
            "80/80 [==============================] - 13s 168ms/step - loss: 1.3497 - accuracy: 0.5290 - recall: 0.2587 - specificity: 0.9910 - f1_score: 0.3839 - val_loss: 1.3932 - val_accuracy: 0.5060 - val_recall: 0.2553 - val_specificity: 0.9894 - val_f1_score: 0.3758\n",
            "Epoch 13/100\n",
            "80/80 [==============================] - 13s 168ms/step - loss: 1.3170 - accuracy: 0.5420 - recall: 0.2888 - specificity: 0.9904 - f1_score: 0.4181 - val_loss: 1.3979 - val_accuracy: 0.4967 - val_recall: 0.2457 - val_specificity: 0.9876 - val_f1_score: 0.3603\n",
            "Epoch 00013: early stopping\n"
          ],
          "name": "stdout"
        },
        {
          "output_type": "execute_result",
          "data": {
            "text/plain": [
              "<tensorflow.python.keras.callbacks.History at 0x7f20430cdb38>"
            ]
          },
          "metadata": {
            "tags": []
          },
          "execution_count": 79
        }
      ]
    },
    {
      "cell_type": "markdown",
      "metadata": {
        "id": "eNWcw6jIuAx9"
      },
      "source": [
        "###### Kesimpulan Skenario $3.3.$"
      ]
    },
    {
      "cell_type": "markdown",
      "metadata": {
        "id": "yD3FdlZ8nCGT"
      },
      "source": [
        "Berdasarkan hasil dari skenario $3.3.1.$, $3.3.2.$, $3.3.3.$, $3.3.4.$, $3.3.5.$, $3.3.6.$, $3.3.7.$, $3.3.8.$, $3.3.9.$, dan $3.3.10.$, skenario $3.3.6.$ menghasilkan akurasi yang paling baik. Dengan demikian $\\text{learning_rate}$ optimal dari skenario-skenario tersebut adalah $\\text{learning_rate}$ dari skenario $3.3.6.$, yaitu $0.0025$."
      ]
    },
    {
      "cell_type": "markdown",
      "metadata": {
        "id": "W0ojZluBUfi6"
      },
      "source": [
        "#### 4.\n",
        "Simpan _checkpoint_ dari tiap _interval_ $\\text{epoch}$ dan model final dari proses training dari model $\\text{Convolutional Neural Network}$ dengan parameter optimal yang diperoleh dari skenario agar bisa digunakan kembali untuk proses training selanjutnya."
      ]
    },
    {
      "cell_type": "code",
      "metadata": {
        "id": "0pzItHWEz1u0",
        "outputId": "ef8e276e-aee1-4ad7-9635-c07771024fb1",
        "colab": {
          "base_uri": "https://localhost:8080/"
        }
      },
      "source": [
        "checkpoint = ModelCheckpoint(\"checkpoint_model.h5\", monitor='loss', verbose=1, mode='auto', save_freq=1)\n",
        "final_convolutional_model = create_model(0.0025)\n",
        "history = final_convolutional_model.fit(x_train, y_train, epochs=100, batch_size=75, validation_data=(x_test, y_test), use_multiprocessing=True, callbacks=[es, checkpoint])"
      ],
      "execution_count": 80,
      "outputs": [
        {
          "output_type": "stream",
          "text": [
            "Epoch 1/100\n",
            "\n",
            "Epoch 00001: saving model to checkpoint_model.h5\n",
            " 1/80 [..............................] - ETA: 0s - loss: 2.7706 - accuracy: 0.0933 - recall: 0.0000e+00 - specificity: 1.0000 - f1_score: 0.0000e+00\n",
            "Epoch 00001: saving model to checkpoint_model.h5\n",
            " 2/80 [..............................] - ETA: 6s - loss: 3.2793 - accuracy: 0.1067 - recall: 0.0000e+00 - specificity: 1.0000 - f1_score: 0.0000e+00\n",
            "Epoch 00001: saving model to checkpoint_model.h5\n",
            " 3/80 [>.............................] - ETA: 7s - loss: 3.3825 - accuracy: 0.0933 - recall: 0.0178 - specificity: 0.9684 - f1_score: 0.0186        \n",
            "Epoch 00001: saving model to checkpoint_model.h5\n",
            " 4/80 [>.............................] - ETA: 8s - loss: 3.2171 - accuracy: 0.0967 - recall: 0.0133 - specificity: 0.9763 - f1_score: 0.0140\n",
            "Epoch 00001: saving model to checkpoint_model.h5\n",
            " 5/80 [>.............................] - ETA: 9s - loss: 3.0580 - accuracy: 0.1067 - recall: 0.0107 - specificity: 0.9810 - f1_score: 0.0112\n",
            "Epoch 00001: saving model to checkpoint_model.h5\n",
            " 6/80 [=>............................] - ETA: 9s - loss: 2.9529 - accuracy: 0.1111 - recall: 0.0089 - specificity: 0.9842 - f1_score: 0.0093\n",
            "Epoch 00001: saving model to checkpoint_model.h5\n",
            " 7/80 [=>............................] - ETA: 9s - loss: 2.8582 - accuracy: 0.1124 - recall: 0.0076 - specificity: 0.9865 - f1_score: 0.0080\n",
            "Epoch 00001: saving model to checkpoint_model.h5\n",
            " 8/80 [==>...........................] - ETA: 9s - loss: 2.7878 - accuracy: 0.1133 - recall: 0.0067 - specificity: 0.9881 - f1_score: 0.0070\n",
            "Epoch 00001: saving model to checkpoint_model.h5\n",
            " 9/80 [==>...........................] - ETA: 9s - loss: 2.7337 - accuracy: 0.1067 - recall: 0.0059 - specificity: 0.9895 - f1_score: 0.0062\n",
            "Epoch 00001: saving model to checkpoint_model.h5\n",
            "10/80 [==>...........................] - ETA: 9s - loss: 2.6933 - accuracy: 0.1000 - recall: 0.0053 - specificity: 0.9905 - f1_score: 0.0056\n",
            "Epoch 00001: saving model to checkpoint_model.h5\n",
            "11/80 [===>..........................] - ETA: 9s - loss: 2.6547 - accuracy: 0.1042 - recall: 0.0048 - specificity: 0.9914 - f1_score: 0.0051\n",
            "Epoch 00001: saving model to checkpoint_model.h5\n",
            "12/80 [===>..........................] - ETA: 9s - loss: 2.6269 - accuracy: 0.0989 - recall: 0.0044 - specificity: 0.9921 - f1_score: 0.0047\n",
            "Epoch 00001: saving model to checkpoint_model.h5\n",
            "13/80 [===>..........................] - ETA: 9s - loss: 2.6005 - accuracy: 0.1015 - recall: 0.0041 - specificity: 0.9927 - f1_score: 0.0043\n",
            "Epoch 00001: saving model to checkpoint_model.h5\n",
            "14/80 [====>.........................] - ETA: 9s - loss: 2.5794 - accuracy: 0.1000 - recall: 0.0038 - specificity: 0.9932 - f1_score: 0.0040\n",
            "Epoch 00001: saving model to checkpoint_model.h5\n",
            "15/80 [====>.........................] - ETA: 9s - loss: 2.5591 - accuracy: 0.1013 - recall: 0.0036 - specificity: 0.9937 - f1_score: 0.0037\n",
            "Epoch 00001: saving model to checkpoint_model.h5\n",
            "16/80 [=====>........................] - ETA: 9s - loss: 2.5426 - accuracy: 0.1017 - recall: 0.0033 - specificity: 0.9941 - f1_score: 0.0035\n",
            "Epoch 00001: saving model to checkpoint_model.h5\n",
            "17/80 [=====>........................] - ETA: 9s - loss: 2.5268 - accuracy: 0.1051 - recall: 0.0031 - specificity: 0.9944 - f1_score: 0.0033\n",
            "Epoch 00001: saving model to checkpoint_model.h5\n",
            "18/80 [=====>........................] - ETA: 9s - loss: 2.5128 - accuracy: 0.1074 - recall: 0.0030 - specificity: 0.9947 - f1_score: 0.0031\n",
            "Epoch 00001: saving model to checkpoint_model.h5\n",
            "19/80 [======>.......................] - ETA: 9s - loss: 2.5004 - accuracy: 0.1074 - recall: 0.0028 - specificity: 0.9950 - f1_score: 0.0029\n",
            "Epoch 00001: saving model to checkpoint_model.h5\n",
            "20/80 [======>.......................] - ETA: 8s - loss: 2.4896 - accuracy: 0.1067 - recall: 0.0027 - specificity: 0.9953 - f1_score: 0.0028\n",
            "Epoch 00001: saving model to checkpoint_model.h5\n",
            "21/80 [======>.......................] - ETA: 8s - loss: 2.4791 - accuracy: 0.1073 - recall: 0.0025 - specificity: 0.9955 - f1_score: 0.0027\n",
            "Epoch 00001: saving model to checkpoint_model.h5\n",
            "22/80 [=======>......................] - ETA: 8s - loss: 2.4687 - accuracy: 0.1079 - recall: 0.0024 - specificity: 0.9957 - f1_score: 0.0025\n",
            "Epoch 00001: saving model to checkpoint_model.h5\n",
            "23/80 [=======>......................] - ETA: 8s - loss: 2.4584 - accuracy: 0.1130 - recall: 0.0023 - specificity: 0.9959 - f1_score: 0.0024\n",
            "Epoch 00001: saving model to checkpoint_model.h5\n",
            "24/80 [========>.....................] - ETA: 8s - loss: 2.4488 - accuracy: 0.1161 - recall: 0.0022 - specificity: 0.9960 - f1_score: 0.0023\n",
            "Epoch 00001: saving model to checkpoint_model.h5\n",
            "25/80 [========>.....................] - ETA: 8s - loss: 2.4404 - accuracy: 0.1173 - recall: 0.0021 - specificity: 0.9962 - f1_score: 0.0022\n",
            "Epoch 00001: saving model to checkpoint_model.h5\n",
            "26/80 [========>.....................] - ETA: 8s - loss: 2.4337 - accuracy: 0.1159 - recall: 0.0021 - specificity: 0.9964 - f1_score: 0.0022\n",
            "Epoch 00001: saving model to checkpoint_model.h5\n",
            "27/80 [=========>....................] - ETA: 8s - loss: 2.4270 - accuracy: 0.1146 - recall: 0.0020 - specificity: 0.9965 - f1_score: 0.0021\n",
            "Epoch 00001: saving model to checkpoint_model.h5\n",
            "28/80 [=========>....................] - ETA: 7s - loss: 2.4202 - accuracy: 0.1143 - recall: 0.0019 - specificity: 0.9966 - f1_score: 0.0020\n",
            "Epoch 00001: saving model to checkpoint_model.h5\n",
            "29/80 [=========>....................] - ETA: 7s - loss: 2.4147 - accuracy: 0.1154 - recall: 0.0018 - specificity: 0.9967 - f1_score: 0.0019\n",
            "Epoch 00001: saving model to checkpoint_model.h5\n",
            "30/80 [==========>...................] - ETA: 7s - loss: 2.4055 - accuracy: 0.1209 - recall: 0.0018 - specificity: 0.9968 - f1_score: 0.0019\n",
            "Epoch 00001: saving model to checkpoint_model.h5\n",
            "31/80 [==========>...................] - ETA: 7s - loss: 2.3998 - accuracy: 0.1213 - recall: 0.0017 - specificity: 0.9969 - f1_score: 0.0018\n",
            "Epoch 00001: saving model to checkpoint_model.h5\n",
            "32/80 [===========>..................] - ETA: 7s - loss: 2.3921 - accuracy: 0.1262 - recall: 0.0017 - specificity: 0.9970 - f1_score: 0.0017\n",
            "Epoch 00001: saving model to checkpoint_model.h5\n",
            "33/80 [===========>..................] - ETA: 7s - loss: 2.3856 - accuracy: 0.1297 - recall: 0.0016 - specificity: 0.9971 - f1_score: 0.0017\n",
            "Epoch 00001: saving model to checkpoint_model.h5\n",
            "34/80 [===========>..................] - ETA: 7s - loss: 2.3782 - accuracy: 0.1322 - recall: 0.0016 - specificity: 0.9972 - f1_score: 0.0016\n",
            "Epoch 00001: saving model to checkpoint_model.h5\n",
            "35/80 [============>.................] - ETA: 6s - loss: 2.3699 - accuracy: 0.1341 - recall: 0.0015 - specificity: 0.9973 - f1_score: 0.0016\n",
            "Epoch 00001: saving model to checkpoint_model.h5\n",
            "36/80 [============>.................] - ETA: 6s - loss: 2.3645 - accuracy: 0.1344 - recall: 0.0015 - specificity: 0.9974 - f1_score: 0.0016\n",
            "Epoch 00001: saving model to checkpoint_model.h5\n",
            "37/80 [============>.................] - ETA: 6s - loss: 2.3577 - accuracy: 0.1355 - recall: 0.0014 - specificity: 0.9974 - f1_score: 0.0015\n",
            "Epoch 00001: saving model to checkpoint_model.h5\n",
            "38/80 [=============>................] - ETA: 6s - loss: 2.3517 - accuracy: 0.1368 - recall: 0.0014 - specificity: 0.9975 - f1_score: 0.0015\n",
            "Epoch 00001: saving model to checkpoint_model.h5\n",
            "39/80 [=============>................] - ETA: 6s - loss: 2.3476 - accuracy: 0.1368 - recall: 0.0014 - specificity: 0.9976 - f1_score: 0.0014\n",
            "Epoch 00001: saving model to checkpoint_model.h5\n",
            "40/80 [==============>...............] - ETA: 6s - loss: 2.3412 - accuracy: 0.1393 - recall: 0.0013 - specificity: 0.9976 - f1_score: 0.0014\n",
            "Epoch 00001: saving model to checkpoint_model.h5\n",
            "41/80 [==============>...............] - ETA: 6s - loss: 2.3339 - accuracy: 0.1418 - recall: 0.0013 - specificity: 0.9977 - f1_score: 0.0014\n",
            "Epoch 00001: saving model to checkpoint_model.h5\n",
            "42/80 [==============>...............] - ETA: 5s - loss: 2.3296 - accuracy: 0.1422 - recall: 0.0013 - specificity: 0.9977 - f1_score: 0.0013\n",
            "Epoch 00001: saving model to checkpoint_model.h5\n",
            "43/80 [===============>..............] - ETA: 5s - loss: 2.3205 - accuracy: 0.1457 - recall: 0.0012 - specificity: 0.9978 - f1_score: 0.0013\n",
            "Epoch 00001: saving model to checkpoint_model.h5\n",
            "44/80 [===============>..............] - ETA: 5s - loss: 2.3149 - accuracy: 0.1473 - recall: 0.0012 - specificity: 0.9978 - f1_score: 0.0013\n",
            "Epoch 00001: saving model to checkpoint_model.h5\n",
            "45/80 [===============>..............] - ETA: 5s - loss: 2.3107 - accuracy: 0.1484 - recall: 0.0012 - specificity: 0.9979 - f1_score: 0.0012\n",
            "Epoch 00001: saving model to checkpoint_model.h5\n",
            "46/80 [================>.............] - ETA: 5s - loss: 2.3040 - accuracy: 0.1504 - recall: 0.0012 - specificity: 0.9979 - f1_score: 0.0012\n",
            "Epoch 00001: saving model to checkpoint_model.h5\n",
            "47/80 [================>.............] - ETA: 5s - loss: 2.2999 - accuracy: 0.1523 - recall: 0.0011 - specificity: 0.9980 - f1_score: 0.0012\n",
            "Epoch 00001: saving model to checkpoint_model.h5\n",
            "48/80 [=================>............] - ETA: 4s - loss: 2.2928 - accuracy: 0.1542 - recall: 0.0011 - specificity: 0.9980 - f1_score: 0.0012\n",
            "Epoch 00001: saving model to checkpoint_model.h5\n",
            "49/80 [=================>............] - ETA: 4s - loss: 2.2825 - accuracy: 0.1600 - recall: 0.0011 - specificity: 0.9981 - f1_score: 0.0011\n",
            "Epoch 00001: saving model to checkpoint_model.h5\n",
            "50/80 [=================>............] - ETA: 4s - loss: 2.2744 - accuracy: 0.1635 - recall: 0.0011 - specificity: 0.9981 - f1_score: 0.0011\n",
            "Epoch 00001: saving model to checkpoint_model.h5\n",
            "51/80 [==================>...........] - ETA: 4s - loss: 2.2672 - accuracy: 0.1660 - recall: 0.0013 - specificity: 0.9981 - f1_score: 0.0016\n",
            "Epoch 00001: saving model to checkpoint_model.h5\n",
            "52/80 [==================>...........] - ETA: 4s - loss: 2.2616 - accuracy: 0.1672 - recall: 0.0018 - specificity: 0.9981 - f1_score: 0.0026\n",
            "Epoch 00001: saving model to checkpoint_model.h5\n",
            "53/80 [==================>...........] - ETA: 4s - loss: 2.2560 - accuracy: 0.1691 - recall: 0.0028 - specificity: 0.9981 - f1_score: 0.0044\n",
            "Epoch 00001: saving model to checkpoint_model.h5\n",
            "54/80 [===================>..........] - ETA: 4s - loss: 2.2502 - accuracy: 0.1723 - recall: 0.0040 - specificity: 0.9979 - f1_score: 0.0064\n",
            "Epoch 00001: saving model to checkpoint_model.h5\n",
            "55/80 [===================>..........] - ETA: 3s - loss: 2.2477 - accuracy: 0.1753 - recall: 0.0051 - specificity: 0.9979 - f1_score: 0.0085\n",
            "Epoch 00001: saving model to checkpoint_model.h5\n",
            "56/80 [====================>.........] - ETA: 3s - loss: 2.2416 - accuracy: 0.1764 - recall: 0.0055 - specificity: 0.9979 - f1_score: 0.0092\n",
            "Epoch 00001: saving model to checkpoint_model.h5\n",
            "57/80 [====================>.........] - ETA: 3s - loss: 2.2375 - accuracy: 0.1766 - recall: 0.0063 - specificity: 0.9978 - f1_score: 0.0108\n",
            "Epoch 00001: saving model to checkpoint_model.h5\n",
            "58/80 [====================>.........] - ETA: 3s - loss: 2.2309 - accuracy: 0.1800 - recall: 0.0078 - specificity: 0.9978 - f1_score: 0.0134\n",
            "Epoch 00001: saving model to checkpoint_model.h5\n",
            "59/80 [=====================>........] - ETA: 3s - loss: 2.2251 - accuracy: 0.1828 - recall: 0.0081 - specificity: 0.9977 - f1_score: 0.0140\n",
            "Epoch 00001: saving model to checkpoint_model.h5\n",
            "60/80 [=====================>........] - ETA: 3s - loss: 2.2192 - accuracy: 0.1856 - recall: 0.0087 - specificity: 0.9977 - f1_score: 0.0150\n",
            "Epoch 00001: saving model to checkpoint_model.h5\n",
            "61/80 [=====================>........] - ETA: 2s - loss: 2.2144 - accuracy: 0.1871 - recall: 0.0087 - specificity: 0.9977 - f1_score: 0.0152\n",
            "Epoch 00001: saving model to checkpoint_model.h5\n",
            "62/80 [======================>.......] - ETA: 2s - loss: 2.2078 - accuracy: 0.1908 - recall: 0.0090 - specificity: 0.9977 - f1_score: 0.0158\n",
            "Epoch 00001: saving model to checkpoint_model.h5\n",
            "63/80 [======================>.......] - ETA: 2s - loss: 2.1995 - accuracy: 0.1939 - recall: 0.0097 - specificity: 0.9976 - f1_score: 0.0171\n",
            "Epoch 00001: saving model to checkpoint_model.h5\n",
            "64/80 [=======================>......] - ETA: 2s - loss: 2.1968 - accuracy: 0.1942 - recall: 0.0108 - specificity: 0.9975 - f1_score: 0.0189\n",
            "Epoch 00001: saving model to checkpoint_model.h5\n",
            "65/80 [=======================>......] - ETA: 2s - loss: 2.1909 - accuracy: 0.1965 - recall: 0.0115 - specificity: 0.9975 - f1_score: 0.0201\n",
            "Epoch 00001: saving model to checkpoint_model.h5\n",
            "66/80 [=======================>......] - ETA: 2s - loss: 2.1852 - accuracy: 0.1974 - recall: 0.0123 - specificity: 0.9974 - f1_score: 0.0216\n",
            "Epoch 00001: saving model to checkpoint_model.h5\n",
            "67/80 [========================>.....] - ETA: 2s - loss: 2.1802 - accuracy: 0.1988 - recall: 0.0125 - specificity: 0.9974 - f1_score: 0.0220\n",
            "Epoch 00001: saving model to checkpoint_model.h5\n",
            "68/80 [========================>.....] - ETA: 1s - loss: 2.1742 - accuracy: 0.2020 - recall: 0.0127 - specificity: 0.9974 - f1_score: 0.0225\n",
            "Epoch 00001: saving model to checkpoint_model.h5\n",
            "69/80 [========================>.....] - ETA: 1s - loss: 2.1653 - accuracy: 0.2054 - recall: 0.0139 - specificity: 0.9973 - f1_score: 0.0245\n",
            "Epoch 00001: saving model to checkpoint_model.h5\n",
            "70/80 [=========================>....] - ETA: 1s - loss: 2.1572 - accuracy: 0.2091 - recall: 0.0158 - specificity: 0.9972 - f1_score: 0.0275\n",
            "Epoch 00001: saving model to checkpoint_model.h5\n",
            "71/80 [=========================>....] - ETA: 1s - loss: 2.1522 - accuracy: 0.2103 - recall: 0.0175 - specificity: 0.9971 - f1_score: 0.0302\n",
            "Epoch 00001: saving model to checkpoint_model.h5\n",
            "72/80 [==========================>...] - ETA: 1s - loss: 2.1464 - accuracy: 0.2126 - recall: 0.0189 - specificity: 0.9970 - f1_score: 0.0324\n",
            "Epoch 00001: saving model to checkpoint_model.h5\n",
            "73/80 [==========================>...] - ETA: 1s - loss: 2.1402 - accuracy: 0.2152 - recall: 0.0201 - specificity: 0.9970 - f1_score: 0.0346\n",
            "Epoch 00001: saving model to checkpoint_model.h5\n",
            "74/80 [==========================>...] - ETA: 0s - loss: 2.1356 - accuracy: 0.2178 - recall: 0.0209 - specificity: 0.9970 - f1_score: 0.0361\n",
            "Epoch 00001: saving model to checkpoint_model.h5\n",
            "75/80 [===========================>..] - ETA: 0s - loss: 2.1303 - accuracy: 0.2192 - recall: 0.0219 - specificity: 0.9969 - f1_score: 0.0377\n",
            "Epoch 00001: saving model to checkpoint_model.h5\n",
            "76/80 [===========================>..] - ETA: 0s - loss: 2.1279 - accuracy: 0.2214 - recall: 0.0225 - specificity: 0.9969 - f1_score: 0.0388\n",
            "Epoch 00001: saving model to checkpoint_model.h5\n",
            "77/80 [===========================>..] - ETA: 0s - loss: 2.1236 - accuracy: 0.2235 - recall: 0.0229 - specificity: 0.9968 - f1_score: 0.0395\n",
            "Epoch 00001: saving model to checkpoint_model.h5\n",
            "78/80 [============================>.] - ETA: 0s - loss: 2.1187 - accuracy: 0.2256 - recall: 0.0241 - specificity: 0.9968 - f1_score: 0.0416\n",
            "Epoch 00001: saving model to checkpoint_model.h5\n",
            "79/80 [============================>.] - ETA: 0s - loss: 2.1139 - accuracy: 0.2273 - recall: 0.0250 - specificity: 0.9967 - f1_score: 0.0432\n",
            "Epoch 00001: saving model to checkpoint_model.h5\n",
            "80/80 [==============================] - 15s 186ms/step - loss: 2.1108 - accuracy: 0.2287 - recall: 0.0258 - specificity: 0.9966 - f1_score: 0.0446 - val_loss: 1.7784 - val_accuracy: 0.3352 - val_recall: 0.0985 - val_specificity: 0.9885 - val_f1_score: 0.1625\n",
            "Epoch 2/100\n",
            "\n",
            "Epoch 00002: saving model to checkpoint_model.h5\n",
            " 1/80 [..............................] - ETA: 0s - loss: 1.7292 - accuracy: 0.2800 - recall: 0.1333 - specificity: 0.9896 - f1_score: 0.2174\n",
            "Epoch 00002: saving model to checkpoint_model.h5\n",
            " 2/80 [..............................] - ETA: 6s - loss: 1.6793 - accuracy: 0.3733 - recall: 0.1133 - specificity: 0.9926 - f1_score: 0.1910\n",
            "Epoch 00002: saving model to checkpoint_model.h5\n",
            " 3/80 [>.............................] - ETA: 8s - loss: 1.6947 - accuracy: 0.3556 - recall: 0.1022 - specificity: 0.9946 - f1_score: 0.1761\n",
            "Epoch 00002: saving model to checkpoint_model.h5\n",
            " 4/80 [>.............................] - ETA: 9s - loss: 1.7131 - accuracy: 0.3433 - recall: 0.0967 - specificity: 0.9959 - f1_score: 0.1691\n",
            "Epoch 00002: saving model to checkpoint_model.h5\n",
            " 5/80 [>.............................] - ETA: 9s - loss: 1.7198 - accuracy: 0.3440 - recall: 0.0933 - specificity: 0.9959 - f1_score: 0.1639\n",
            "Epoch 00002: saving model to checkpoint_model.h5\n",
            " 6/80 [=>............................] - ETA: 10s - loss: 1.7329 - accuracy: 0.3533 - recall: 0.0933 - specificity: 0.9953 - f1_score: 0.1634\n",
            "Epoch 00002: saving model to checkpoint_model.h5\n",
            " 7/80 [=>............................] - ETA: 10s - loss: 1.7451 - accuracy: 0.3486 - recall: 0.0857 - specificity: 0.9949 - f1_score: 0.1504\n",
            "Epoch 00002: saving model to checkpoint_model.h5\n",
            " 8/80 [==>...........................] - ETA: 10s - loss: 1.7644 - accuracy: 0.3450 - recall: 0.0800 - specificity: 0.9948 - f1_score: 0.1407\n",
            "Epoch 00002: saving model to checkpoint_model.h5\n",
            " 9/80 [==>...........................] - ETA: 10s - loss: 1.7446 - accuracy: 0.3585 - recall: 0.0800 - specificity: 0.9954 - f1_score: 0.1416\n",
            "Epoch 00002: saving model to checkpoint_model.h5\n",
            "10/80 [==>...........................] - ETA: 10s - loss: 1.7404 - accuracy: 0.3560 - recall: 0.0813 - specificity: 0.9953 - f1_score: 0.1437\n",
            "Epoch 00002: saving model to checkpoint_model.h5\n",
            "11/80 [===>..........................] - ETA: 10s - loss: 1.7362 - accuracy: 0.3648 - recall: 0.0836 - specificity: 0.9949 - f1_score: 0.1470\n",
            "Epoch 00002: saving model to checkpoint_model.h5\n",
            "12/80 [===>..........................] - ETA: 10s - loss: 1.7320 - accuracy: 0.3678 - recall: 0.0856 - specificity: 0.9947 - f1_score: 0.1499\n",
            "Epoch 00002: saving model to checkpoint_model.h5\n",
            "13/80 [===>..........................] - ETA: 10s - loss: 1.7271 - accuracy: 0.3723 - recall: 0.0862 - specificity: 0.9946 - f1_score: 0.1509\n",
            "Epoch 00002: saving model to checkpoint_model.h5\n",
            "14/80 [====>.........................] - ETA: 10s - loss: 1.7265 - accuracy: 0.3762 - recall: 0.0848 - specificity: 0.9949 - f1_score: 0.1489\n",
            "Epoch 00002: saving model to checkpoint_model.h5\n",
            "15/80 [====>.........................] - ETA: 10s - loss: 1.7176 - accuracy: 0.3778 - recall: 0.0836 - specificity: 0.9953 - f1_score: 0.1473\n",
            "Epoch 00002: saving model to checkpoint_model.h5\n",
            "16/80 [=====>........................] - ETA: 10s - loss: 1.7182 - accuracy: 0.3808 - recall: 0.0825 - specificity: 0.9953 - f1_score: 0.1456\n",
            "Epoch 00002: saving model to checkpoint_model.h5\n",
            "17/80 [=====>........................] - ETA: 10s - loss: 1.7070 - accuracy: 0.3867 - recall: 0.0902 - specificity: 0.9953 - f1_score: 0.1571\n",
            "Epoch 00002: saving model to checkpoint_model.h5\n",
            "18/80 [=====>........................] - ETA: 10s - loss: 1.7000 - accuracy: 0.3881 - recall: 0.0904 - specificity: 0.9954 - f1_score: 0.1576\n",
            "Epoch 00002: saving model to checkpoint_model.h5\n",
            "19/80 [======>.......................] - ETA: 10s - loss: 1.7006 - accuracy: 0.3867 - recall: 0.0926 - specificity: 0.9950 - f1_score: 0.1606\n",
            "Epoch 00002: saving model to checkpoint_model.h5\n",
            "20/80 [======>.......................] - ETA: 10s - loss: 1.7076 - accuracy: 0.3847 - recall: 0.0913 - specificity: 0.9952 - f1_score: 0.1588\n",
            "Epoch 00002: saving model to checkpoint_model.h5\n",
            "21/80 [======>.......................] - ETA: 9s - loss: 1.7125 - accuracy: 0.3810 - recall: 0.0914 - specificity: 0.9951 - f1_score: 0.1589 \n",
            "Epoch 00002: saving model to checkpoint_model.h5\n",
            "22/80 [=======>......................] - ETA: 9s - loss: 1.7134 - accuracy: 0.3788 - recall: 0.0927 - specificity: 0.9946 - f1_score: 0.1604\n",
            "Epoch 00002: saving model to checkpoint_model.h5\n",
            "23/80 [=======>......................] - ETA: 9s - loss: 1.7139 - accuracy: 0.3780 - recall: 0.0945 - specificity: 0.9942 - f1_score: 0.1625\n",
            "Epoch 00002: saving model to checkpoint_model.h5\n",
            "24/80 [========>.....................] - ETA: 9s - loss: 1.7056 - accuracy: 0.3783 - recall: 0.0944 - specificity: 0.9943 - f1_score: 0.1626\n",
            "Epoch 00002: saving model to checkpoint_model.h5\n",
            "25/80 [========>.....................] - ETA: 9s - loss: 1.7084 - accuracy: 0.3787 - recall: 0.0939 - specificity: 0.9939 - f1_score: 0.1614\n",
            "Epoch 00002: saving model to checkpoint_model.h5\n",
            "26/80 [========>.....................] - ETA: 9s - loss: 1.7132 - accuracy: 0.3774 - recall: 0.0964 - specificity: 0.9938 - f1_score: 0.1651\n",
            "Epoch 00002: saving model to checkpoint_model.h5\n",
            "27/80 [=========>....................] - ETA: 8s - loss: 1.7051 - accuracy: 0.3802 - recall: 0.0983 - specificity: 0.9936 - f1_score: 0.1678\n",
            "Epoch 00002: saving model to checkpoint_model.h5\n",
            "28/80 [=========>....................] - ETA: 8s - loss: 1.7032 - accuracy: 0.3805 - recall: 0.0981 - specificity: 0.9935 - f1_score: 0.1675\n",
            "Epoch 00002: saving model to checkpoint_model.h5\n",
            "29/80 [=========>....................] - ETA: 8s - loss: 1.7041 - accuracy: 0.3798 - recall: 0.0975 - specificity: 0.9936 - f1_score: 0.1666\n",
            "Epoch 00002: saving model to checkpoint_model.h5\n",
            "30/80 [==========>...................] - ETA: 8s - loss: 1.7044 - accuracy: 0.3822 - recall: 0.0973 - specificity: 0.9936 - f1_score: 0.1664\n",
            "Epoch 00002: saving model to checkpoint_model.h5\n",
            "31/80 [==========>...................] - ETA: 8s - loss: 1.7041 - accuracy: 0.3806 - recall: 0.0968 - specificity: 0.9935 - f1_score: 0.1655\n",
            "Epoch 00002: saving model to checkpoint_model.h5\n",
            "32/80 [===========>..................] - ETA: 8s - loss: 1.6981 - accuracy: 0.3842 - recall: 0.0996 - specificity: 0.9933 - f1_score: 0.1694\n",
            "Epoch 00002: saving model to checkpoint_model.h5\n",
            "33/80 [===========>..................] - ETA: 8s - loss: 1.6983 - accuracy: 0.3810 - recall: 0.1002 - specificity: 0.9931 - f1_score: 0.1701\n",
            "Epoch 00002: saving model to checkpoint_model.h5\n",
            "34/80 [===========>..................] - ETA: 7s - loss: 1.6956 - accuracy: 0.3820 - recall: 0.1012 - specificity: 0.9932 - f1_score: 0.1717\n",
            "Epoch 00002: saving model to checkpoint_model.h5\n",
            "35/80 [============>.................] - ETA: 7s - loss: 1.6945 - accuracy: 0.3825 - recall: 0.1002 - specificity: 0.9933 - f1_score: 0.1703\n",
            "Epoch 00002: saving model to checkpoint_model.h5\n",
            "36/80 [============>.................] - ETA: 7s - loss: 1.6918 - accuracy: 0.3833 - recall: 0.1015 - specificity: 0.9934 - f1_score: 0.1726\n",
            "Epoch 00002: saving model to checkpoint_model.h5\n",
            "37/80 [============>.................] - ETA: 7s - loss: 1.6891 - accuracy: 0.3831 - recall: 0.1016 - specificity: 0.9933 - f1_score: 0.1727\n",
            "Epoch 00002: saving model to checkpoint_model.h5\n",
            "38/80 [=============>................] - ETA: 7s - loss: 1.6824 - accuracy: 0.3853 - recall: 0.1039 - specificity: 0.9933 - f1_score: 0.1761\n",
            "Epoch 00002: saving model to checkpoint_model.h5\n",
            "39/80 [=============>................] - ETA: 6s - loss: 1.6801 - accuracy: 0.3853 - recall: 0.1050 - specificity: 0.9933 - f1_score: 0.1778\n",
            "Epoch 00002: saving model to checkpoint_model.h5\n",
            "40/80 [==============>...............] - ETA: 6s - loss: 1.6774 - accuracy: 0.3853 - recall: 0.1053 - specificity: 0.9931 - f1_score: 0.1782\n",
            "Epoch 00002: saving model to checkpoint_model.h5\n",
            "41/80 [==============>...............] - ETA: 6s - loss: 1.6767 - accuracy: 0.3870 - recall: 0.1067 - specificity: 0.9933 - f1_score: 0.1805\n",
            "Epoch 00002: saving model to checkpoint_model.h5\n",
            "42/80 [==============>...............] - ETA: 6s - loss: 1.6720 - accuracy: 0.3873 - recall: 0.1089 - specificity: 0.9931 - f1_score: 0.1834\n",
            "Epoch 00002: saving model to checkpoint_model.h5\n",
            "43/80 [===============>..............] - ETA: 6s - loss: 1.6715 - accuracy: 0.3885 - recall: 0.1101 - specificity: 0.9930 - f1_score: 0.1850\n",
            "Epoch 00002: saving model to checkpoint_model.h5\n",
            "44/80 [===============>..............] - ETA: 6s - loss: 1.6750 - accuracy: 0.3894 - recall: 0.1118 - specificity: 0.9930 - f1_score: 0.1875\n",
            "Epoch 00002: saving model to checkpoint_model.h5\n",
            "45/80 [===============>..............] - ETA: 5s - loss: 1.6771 - accuracy: 0.3879 - recall: 0.1129 - specificity: 0.9929 - f1_score: 0.1890\n",
            "Epoch 00002: saving model to checkpoint_model.h5\n",
            "46/80 [================>.............] - ETA: 5s - loss: 1.6755 - accuracy: 0.3893 - recall: 0.1145 - specificity: 0.9928 - f1_score: 0.1912\n",
            "Epoch 00002: saving model to checkpoint_model.h5\n",
            "47/80 [================>.............] - ETA: 5s - loss: 1.6695 - accuracy: 0.3915 - recall: 0.1163 - specificity: 0.9928 - f1_score: 0.1938\n",
            "Epoch 00002: saving model to checkpoint_model.h5\n",
            "48/80 [=================>............] - ETA: 5s - loss: 1.6629 - accuracy: 0.3928 - recall: 0.1181 - specificity: 0.9927 - f1_score: 0.1963\n",
            "Epoch 00002: saving model to checkpoint_model.h5\n",
            "49/80 [=================>............] - ETA: 5s - loss: 1.6640 - accuracy: 0.3916 - recall: 0.1186 - specificity: 0.9926 - f1_score: 0.1969\n",
            "Epoch 00002: saving model to checkpoint_model.h5\n",
            "50/80 [=================>............] - ETA: 5s - loss: 1.6589 - accuracy: 0.3947 - recall: 0.1200 - specificity: 0.9927 - f1_score: 0.1992\n",
            "Epoch 00002: saving model to checkpoint_model.h5\n",
            "51/80 [==================>...........] - ETA: 4s - loss: 1.6599 - accuracy: 0.3927 - recall: 0.1197 - specificity: 0.9927 - f1_score: 0.1988\n",
            "Epoch 00002: saving model to checkpoint_model.h5\n",
            "52/80 [==================>...........] - ETA: 4s - loss: 1.6599 - accuracy: 0.3936 - recall: 0.1190 - specificity: 0.9927 - f1_score: 0.1978\n",
            "Epoch 00002: saving model to checkpoint_model.h5\n",
            "53/80 [==================>...........] - ETA: 4s - loss: 1.6579 - accuracy: 0.3932 - recall: 0.1197 - specificity: 0.9927 - f1_score: 0.1989\n",
            "Epoch 00002: saving model to checkpoint_model.h5\n",
            "54/80 [===================>..........] - ETA: 4s - loss: 1.6556 - accuracy: 0.3933 - recall: 0.1190 - specificity: 0.9926 - f1_score: 0.1977\n",
            "Epoch 00002: saving model to checkpoint_model.h5\n",
            "55/80 [===================>..........] - ETA: 4s - loss: 1.6529 - accuracy: 0.3935 - recall: 0.1200 - specificity: 0.9925 - f1_score: 0.1989\n",
            "Epoch 00002: saving model to checkpoint_model.h5\n",
            "56/80 [====================>.........] - ETA: 3s - loss: 1.6517 - accuracy: 0.3943 - recall: 0.1195 - specificity: 0.9925 - f1_score: 0.1983\n",
            "Epoch 00002: saving model to checkpoint_model.h5\n",
            "57/80 [====================>.........] - ETA: 3s - loss: 1.6535 - accuracy: 0.3951 - recall: 0.1195 - specificity: 0.9925 - f1_score: 0.1983\n",
            "Epoch 00002: saving model to checkpoint_model.h5\n",
            "58/80 [====================>.........] - ETA: 3s - loss: 1.6494 - accuracy: 0.3956 - recall: 0.1209 - specificity: 0.9924 - f1_score: 0.2001\n",
            "Epoch 00002: saving model to checkpoint_model.h5\n",
            "59/80 [=====================>........] - ETA: 3s - loss: 1.6482 - accuracy: 0.3959 - recall: 0.1209 - specificity: 0.9924 - f1_score: 0.2002\n",
            "Epoch 00002: saving model to checkpoint_model.h5\n",
            "60/80 [=====================>........] - ETA: 3s - loss: 1.6473 - accuracy: 0.3956 - recall: 0.1207 - specificity: 0.9923 - f1_score: 0.1998\n",
            "Epoch 00002: saving model to checkpoint_model.h5\n",
            "61/80 [=====================>........] - ETA: 3s - loss: 1.6453 - accuracy: 0.3961 - recall: 0.1211 - specificity: 0.9923 - f1_score: 0.2003\n",
            "Epoch 00002: saving model to checkpoint_model.h5\n",
            "62/80 [======================>.......] - ETA: 2s - loss: 1.6444 - accuracy: 0.3966 - recall: 0.1217 - specificity: 0.9923 - f1_score: 0.2014\n",
            "Epoch 00002: saving model to checkpoint_model.h5\n",
            "63/80 [======================>.......] - ETA: 2s - loss: 1.6435 - accuracy: 0.3968 - recall: 0.1223 - specificity: 0.9923 - f1_score: 0.2022\n",
            "Epoch 00002: saving model to checkpoint_model.h5\n",
            "64/80 [=======================>......] - ETA: 2s - loss: 1.6431 - accuracy: 0.3973 - recall: 0.1242 - specificity: 0.9922 - f1_score: 0.2046\n",
            "Epoch 00002: saving model to checkpoint_model.h5\n",
            "65/80 [=======================>......] - ETA: 2s - loss: 1.6423 - accuracy: 0.3982 - recall: 0.1247 - specificity: 0.9921 - f1_score: 0.2054\n",
            "Epoch 00002: saving model to checkpoint_model.h5\n",
            "66/80 [=======================>......] - ETA: 2s - loss: 1.6454 - accuracy: 0.3976 - recall: 0.1244 - specificity: 0.9921 - f1_score: 0.2050\n",
            "Epoch 00002: saving model to checkpoint_model.h5\n",
            "67/80 [========================>.....] - ETA: 2s - loss: 1.6443 - accuracy: 0.3988 - recall: 0.1260 - specificity: 0.9922 - f1_score: 0.2072\n",
            "Epoch 00002: saving model to checkpoint_model.h5\n",
            "68/80 [========================>.....] - ETA: 1s - loss: 1.6435 - accuracy: 0.3990 - recall: 0.1267 - specificity: 0.9921 - f1_score: 0.2082\n",
            "Epoch 00002: saving model to checkpoint_model.h5\n",
            "69/80 [========================>.....] - ETA: 1s - loss: 1.6443 - accuracy: 0.3988 - recall: 0.1273 - specificity: 0.9922 - f1_score: 0.2093\n",
            "Epoch 00002: saving model to checkpoint_model.h5\n",
            "70/80 [=========================>....] - ETA: 1s - loss: 1.6449 - accuracy: 0.3992 - recall: 0.1265 - specificity: 0.9922 - f1_score: 0.2080\n",
            "Epoch 00002: saving model to checkpoint_model.h5\n",
            "71/80 [=========================>....] - ETA: 1s - loss: 1.6435 - accuracy: 0.4000 - recall: 0.1277 - specificity: 0.9922 - f1_score: 0.2097\n",
            "Epoch 00002: saving model to checkpoint_model.h5\n",
            "72/80 [==========================>...] - ETA: 1s - loss: 1.6422 - accuracy: 0.4000 - recall: 0.1274 - specificity: 0.9921 - f1_score: 0.2092\n",
            "Epoch 00002: saving model to checkpoint_model.h5\n",
            "73/80 [==========================>...] - ETA: 1s - loss: 1.6421 - accuracy: 0.3991 - recall: 0.1269 - specificity: 0.9921 - f1_score: 0.2085\n",
            "Epoch 00002: saving model to checkpoint_model.h5\n",
            "74/80 [==========================>...] - ETA: 0s - loss: 1.6385 - accuracy: 0.3998 - recall: 0.1279 - specificity: 0.9920 - f1_score: 0.2098\n",
            "Epoch 00002: saving model to checkpoint_model.h5\n",
            "75/80 [===========================>..] - ETA: 0s - loss: 1.6369 - accuracy: 0.4007 - recall: 0.1284 - specificity: 0.9920 - f1_score: 0.2104\n",
            "Epoch 00002: saving model to checkpoint_model.h5\n",
            "76/80 [===========================>..] - ETA: 0s - loss: 1.6346 - accuracy: 0.4016 - recall: 0.1288 - specificity: 0.9920 - f1_score: 0.2110\n",
            "Epoch 00002: saving model to checkpoint_model.h5\n",
            "77/80 [===========================>..] - ETA: 0s - loss: 1.6345 - accuracy: 0.4016 - recall: 0.1294 - specificity: 0.9920 - f1_score: 0.2120\n",
            "Epoch 00002: saving model to checkpoint_model.h5\n",
            "78/80 [============================>.] - ETA: 0s - loss: 1.6331 - accuracy: 0.4022 - recall: 0.1303 - specificity: 0.9921 - f1_score: 0.2134\n",
            "Epoch 00002: saving model to checkpoint_model.h5\n",
            "79/80 [============================>.] - ETA: 0s - loss: 1.6327 - accuracy: 0.4017 - recall: 0.1303 - specificity: 0.9920 - f1_score: 0.2134\n",
            "Epoch 00002: saving model to checkpoint_model.h5\n",
            "80/80 [==============================] - 15s 190ms/step - loss: 1.6287 - accuracy: 0.4040 - recall: 0.1322 - specificity: 0.9920 - f1_score: 0.2160 - val_loss: 1.5851 - val_accuracy: 0.4047 - val_recall: 0.1607 - val_specificity: 0.9877 - val_f1_score: 0.2513\n",
            "Epoch 3/100\n",
            "\n",
            "Epoch 00003: saving model to checkpoint_model.h5\n",
            " 1/80 [..............................] - ETA: 0s - loss: 1.5445 - accuracy: 0.4667 - recall: 0.0933 - specificity: 0.9911 - f1_score: 0.1591\n",
            "Epoch 00003: saving model to checkpoint_model.h5\n",
            " 2/80 [..............................] - ETA: 6s - loss: 1.5000 - accuracy: 0.4467 - recall: 0.1733 - specificity: 0.9874 - f1_score: 0.2605\n",
            "Epoch 00003: saving model to checkpoint_model.h5\n",
            " 3/80 [>.............................] - ETA: 8s - loss: 1.5166 - accuracy: 0.4356 - recall: 0.1689 - specificity: 0.9891 - f1_score: 0.2606\n",
            "Epoch 00003: saving model to checkpoint_model.h5\n",
            " 4/80 [>.............................] - ETA: 9s - loss: 1.4824 - accuracy: 0.4633 - recall: 0.1967 - specificity: 0.9885 - f1_score: 0.2955\n",
            "Epoch 00003: saving model to checkpoint_model.h5\n",
            " 5/80 [>.............................] - ETA: 9s - loss: 1.5026 - accuracy: 0.4507 - recall: 0.1973 - specificity: 0.9887 - f1_score: 0.2982\n",
            "Epoch 00003: saving model to checkpoint_model.h5\n",
            " 6/80 [=>............................] - ETA: 10s - loss: 1.5148 - accuracy: 0.4489 - recall: 0.1956 - specificity: 0.9879 - f1_score: 0.2952\n",
            "Epoch 00003: saving model to checkpoint_model.h5\n",
            " 7/80 [=>............................] - ETA: 10s - loss: 1.5161 - accuracy: 0.4514 - recall: 0.2000 - specificity: 0.9890 - f1_score: 0.3041\n",
            "Epoch 00003: saving model to checkpoint_model.h5\n",
            " 8/80 [==>...........................] - ETA: 10s - loss: 1.5127 - accuracy: 0.4583 - recall: 0.1967 - specificity: 0.9887 - f1_score: 0.2996\n",
            "Epoch 00003: saving model to checkpoint_model.h5\n",
            " 9/80 [==>...........................] - ETA: 10s - loss: 1.5005 - accuracy: 0.4578 - recall: 0.1926 - specificity: 0.9890 - f1_score: 0.2950\n",
            "Epoch 00003: saving model to checkpoint_model.h5\n",
            "10/80 [==>...........................] - ETA: 10s - loss: 1.5007 - accuracy: 0.4600 - recall: 0.1973 - specificity: 0.9890 - f1_score: 0.3015\n",
            "Epoch 00003: saving model to checkpoint_model.h5\n",
            "11/80 [===>..........................] - ETA: 10s - loss: 1.4908 - accuracy: 0.4703 - recall: 0.2012 - specificity: 0.9894 - f1_score: 0.3075\n",
            "Epoch 00003: saving model to checkpoint_model.h5\n",
            "12/80 [===>..........................] - ETA: 10s - loss: 1.4905 - accuracy: 0.4656 - recall: 0.1978 - specificity: 0.9896 - f1_score: 0.3036\n",
            "Epoch 00003: saving model to checkpoint_model.h5\n",
            "13/80 [===>..........................] - ETA: 10s - loss: 1.4783 - accuracy: 0.4687 - recall: 0.2010 - specificity: 0.9896 - f1_score: 0.3080\n",
            "Epoch 00003: saving model to checkpoint_model.h5\n",
            "14/80 [====>.........................] - ETA: 9s - loss: 1.4732 - accuracy: 0.4676 - recall: 0.2000 - specificity: 0.9893 - f1_score: 0.3062 \n",
            "Epoch 00003: saving model to checkpoint_model.h5\n",
            "15/80 [====>.........................] - ETA: 9s - loss: 1.4663 - accuracy: 0.4649 - recall: 0.1956 - specificity: 0.9890 - f1_score: 0.2998\n",
            "Epoch 00003: saving model to checkpoint_model.h5\n",
            "16/80 [=====>........................] - ETA: 9s - loss: 1.4775 - accuracy: 0.4592 - recall: 0.1958 - specificity: 0.9892 - f1_score: 0.3006\n",
            "Epoch 00003: saving model to checkpoint_model.h5\n",
            "17/80 [=====>........................] - ETA: 9s - loss: 1.4893 - accuracy: 0.4565 - recall: 0.1969 - specificity: 0.9892 - f1_score: 0.3021\n",
            "Epoch 00003: saving model to checkpoint_model.h5\n",
            "18/80 [=====>........................] - ETA: 9s - loss: 1.4795 - accuracy: 0.4637 - recall: 0.2030 - specificity: 0.9891 - f1_score: 0.3094\n",
            "Epoch 00003: saving model to checkpoint_model.h5\n",
            "19/80 [======>.......................] - ETA: 9s - loss: 1.4780 - accuracy: 0.4667 - recall: 0.2077 - specificity: 0.9892 - f1_score: 0.3156\n",
            "Epoch 00003: saving model to checkpoint_model.h5\n",
            "20/80 [======>.......................] - ETA: 9s - loss: 1.4812 - accuracy: 0.4653 - recall: 0.2047 - specificity: 0.9889 - f1_score: 0.3111\n",
            "Epoch 00003: saving model to checkpoint_model.h5\n",
            "21/80 [======>.......................] - ETA: 9s - loss: 1.4868 - accuracy: 0.4635 - recall: 0.2057 - specificity: 0.9889 - f1_score: 0.3124\n",
            "Epoch 00003: saving model to checkpoint_model.h5\n",
            "22/80 [=======>......................] - ETA: 8s - loss: 1.4938 - accuracy: 0.4636 - recall: 0.2061 - specificity: 0.9884 - f1_score: 0.3120\n",
            "Epoch 00003: saving model to checkpoint_model.h5\n",
            "23/80 [=======>......................] - ETA: 8s - loss: 1.4927 - accuracy: 0.4620 - recall: 0.2099 - specificity: 0.9881 - f1_score: 0.3161\n",
            "Epoch 00003: saving model to checkpoint_model.h5\n",
            "24/80 [========>.....................] - ETA: 8s - loss: 1.4971 - accuracy: 0.4594 - recall: 0.2106 - specificity: 0.9880 - f1_score: 0.3168\n",
            "Epoch 00003: saving model to checkpoint_model.h5\n",
            "25/80 [========>.....................] - ETA: 8s - loss: 1.4919 - accuracy: 0.4613 - recall: 0.2112 - specificity: 0.9884 - f1_score: 0.3186\n",
            "Epoch 00003: saving model to checkpoint_model.h5\n",
            "26/80 [========>.....................] - ETA: 8s - loss: 1.4882 - accuracy: 0.4605 - recall: 0.2108 - specificity: 0.9885 - f1_score: 0.3185\n",
            "Epoch 00003: saving model to checkpoint_model.h5\n",
            "27/80 [=========>....................] - ETA: 8s - loss: 1.4964 - accuracy: 0.4583 - recall: 0.2064 - specificity: 0.9886 - f1_score: 0.3125\n",
            "Epoch 00003: saving model to checkpoint_model.h5\n",
            "28/80 [=========>....................] - ETA: 8s - loss: 1.4933 - accuracy: 0.4595 - recall: 0.2067 - specificity: 0.9888 - f1_score: 0.3135\n",
            "Epoch 00003: saving model to checkpoint_model.h5\n",
            "29/80 [=========>....................] - ETA: 7s - loss: 1.4949 - accuracy: 0.4575 - recall: 0.2051 - specificity: 0.9890 - f1_score: 0.3118\n",
            "Epoch 00003: saving model to checkpoint_model.h5\n",
            "30/80 [==========>...................] - ETA: 7s - loss: 1.4992 - accuracy: 0.4556 - recall: 0.2036 - specificity: 0.9890 - f1_score: 0.3099\n",
            "Epoch 00003: saving model to checkpoint_model.h5\n",
            "31/80 [==========>...................] - ETA: 7s - loss: 1.5042 - accuracy: 0.4576 - recall: 0.2043 - specificity: 0.9890 - f1_score: 0.3108\n",
            "Epoch 00003: saving model to checkpoint_model.h5\n",
            "32/80 [===========>..................] - ETA: 7s - loss: 1.5025 - accuracy: 0.4575 - recall: 0.2046 - specificity: 0.9890 - f1_score: 0.3113\n",
            "Epoch 00003: saving model to checkpoint_model.h5\n",
            "33/80 [===========>..................] - ETA: 7s - loss: 1.5068 - accuracy: 0.4558 - recall: 0.2012 - specificity: 0.9892 - f1_score: 0.3069\n",
            "Epoch 00003: saving model to checkpoint_model.h5\n",
            "34/80 [===========>..................] - ETA: 7s - loss: 1.5066 - accuracy: 0.4584 - recall: 0.2012 - specificity: 0.9894 - f1_score: 0.3073\n",
            "Epoch 00003: saving model to checkpoint_model.h5\n",
            "35/80 [============>.................] - ETA: 7s - loss: 1.4995 - accuracy: 0.4587 - recall: 0.2019 - specificity: 0.9894 - f1_score: 0.3083\n",
            "Epoch 00003: saving model to checkpoint_model.h5\n",
            "36/80 [============>.................] - ETA: 7s - loss: 1.4948 - accuracy: 0.4589 - recall: 0.2048 - specificity: 0.9894 - f1_score: 0.3120\n",
            "Epoch 00003: saving model to checkpoint_model.h5\n",
            "37/80 [============>.................] - ETA: 6s - loss: 1.4964 - accuracy: 0.4587 - recall: 0.2068 - specificity: 0.9891 - f1_score: 0.3138\n",
            "Epoch 00003: saving model to checkpoint_model.h5\n",
            "38/80 [=============>................] - ETA: 6s - loss: 1.4958 - accuracy: 0.4582 - recall: 0.2088 - specificity: 0.9890 - f1_score: 0.3160\n",
            "Epoch 00003: saving model to checkpoint_model.h5\n",
            "39/80 [=============>................] - ETA: 6s - loss: 1.4974 - accuracy: 0.4585 - recall: 0.2082 - specificity: 0.9889 - f1_score: 0.3152\n",
            "Epoch 00003: saving model to checkpoint_model.h5\n",
            "40/80 [==============>...............] - ETA: 6s - loss: 1.4952 - accuracy: 0.4573 - recall: 0.2083 - specificity: 0.9888 - f1_score: 0.3152\n",
            "Epoch 00003: saving model to checkpoint_model.h5\n",
            "41/80 [==============>...............] - ETA: 6s - loss: 1.4969 - accuracy: 0.4563 - recall: 0.2068 - specificity: 0.9887 - f1_score: 0.3130\n",
            "Epoch 00003: saving model to checkpoint_model.h5\n",
            "42/80 [==============>...............] - ETA: 6s - loss: 1.4934 - accuracy: 0.4594 - recall: 0.2086 - specificity: 0.9888 - f1_score: 0.3155\n",
            "Epoch 00003: saving model to checkpoint_model.h5\n",
            "43/80 [===============>..............] - ETA: 5s - loss: 1.4957 - accuracy: 0.4602 - recall: 0.2078 - specificity: 0.9889 - f1_score: 0.3147\n",
            "Epoch 00003: saving model to checkpoint_model.h5\n",
            "44/80 [===============>..............] - ETA: 5s - loss: 1.4947 - accuracy: 0.4600 - recall: 0.2061 - specificity: 0.9890 - f1_score: 0.3127\n",
            "Epoch 00003: saving model to checkpoint_model.h5\n",
            "45/80 [===============>..............] - ETA: 5s - loss: 1.4934 - accuracy: 0.4604 - recall: 0.2059 - specificity: 0.9891 - f1_score: 0.3128\n",
            "Epoch 00003: saving model to checkpoint_model.h5\n",
            "46/80 [================>.............] - ETA: 5s - loss: 1.4975 - accuracy: 0.4588 - recall: 0.2064 - specificity: 0.9890 - f1_score: 0.3132\n",
            "Epoch 00003: saving model to checkpoint_model.h5\n",
            "47/80 [================>.............] - ETA: 5s - loss: 1.5007 - accuracy: 0.4584 - recall: 0.2054 - specificity: 0.9889 - f1_score: 0.3117\n",
            "Epoch 00003: saving model to checkpoint_model.h5\n",
            "48/80 [=================>............] - ETA: 5s - loss: 1.4988 - accuracy: 0.4572 - recall: 0.2058 - specificity: 0.9887 - f1_score: 0.3120\n",
            "Epoch 00003: saving model to checkpoint_model.h5\n",
            "49/80 [=================>............] - ETA: 4s - loss: 1.4971 - accuracy: 0.4582 - recall: 0.2071 - specificity: 0.9889 - f1_score: 0.3140\n",
            "Epoch 00003: saving model to checkpoint_model.h5\n",
            "50/80 [=================>............] - ETA: 4s - loss: 1.4979 - accuracy: 0.4579 - recall: 0.2075 - specificity: 0.9889 - f1_score: 0.3147\n",
            "Epoch 00003: saving model to checkpoint_model.h5\n",
            "51/80 [==================>...........] - ETA: 4s - loss: 1.4964 - accuracy: 0.4596 - recall: 0.2089 - specificity: 0.9890 - f1_score: 0.3166\n",
            "Epoch 00003: saving model to checkpoint_model.h5\n",
            "52/80 [==================>...........] - ETA: 4s - loss: 1.4945 - accuracy: 0.4610 - recall: 0.2105 - specificity: 0.9891 - f1_score: 0.3190\n",
            "Epoch 00003: saving model to checkpoint_model.h5\n",
            "53/80 [==================>...........] - ETA: 4s - loss: 1.4940 - accuracy: 0.4591 - recall: 0.2106 - specificity: 0.9891 - f1_score: 0.3191\n",
            "Epoch 00003: saving model to checkpoint_model.h5\n",
            "54/80 [===================>..........] - ETA: 4s - loss: 1.4965 - accuracy: 0.4588 - recall: 0.2094 - specificity: 0.9890 - f1_score: 0.3174\n",
            "Epoch 00003: saving model to checkpoint_model.h5\n",
            "55/80 [===================>..........] - ETA: 3s - loss: 1.4966 - accuracy: 0.4599 - recall: 0.2102 - specificity: 0.9891 - f1_score: 0.3186\n",
            "Epoch 00003: saving model to checkpoint_model.h5\n",
            "56/80 [====================>.........] - ETA: 3s - loss: 1.4976 - accuracy: 0.4595 - recall: 0.2098 - specificity: 0.9891 - f1_score: 0.3181\n",
            "Epoch 00003: saving model to checkpoint_model.h5\n",
            "57/80 [====================>.........] - ETA: 3s - loss: 1.4983 - accuracy: 0.4601 - recall: 0.2101 - specificity: 0.9890 - f1_score: 0.3183\n",
            "Epoch 00003: saving model to checkpoint_model.h5\n",
            "58/80 [====================>.........] - ETA: 3s - loss: 1.5004 - accuracy: 0.4586 - recall: 0.2094 - specificity: 0.9889 - f1_score: 0.3174\n",
            "Epoch 00003: saving model to checkpoint_model.h5\n",
            "59/80 [=====================>........] - ETA: 3s - loss: 1.5007 - accuracy: 0.4592 - recall: 0.2104 - specificity: 0.9889 - f1_score: 0.3187\n",
            "Epoch 00003: saving model to checkpoint_model.h5\n",
            "60/80 [=====================>........] - ETA: 3s - loss: 1.5021 - accuracy: 0.4589 - recall: 0.2102 - specificity: 0.9888 - f1_score: 0.3182\n",
            "Epoch 00003: saving model to checkpoint_model.h5\n",
            "61/80 [=====================>........] - ETA: 3s - loss: 1.5055 - accuracy: 0.4568 - recall: 0.2090 - specificity: 0.9886 - f1_score: 0.3163\n",
            "Epoch 00003: saving model to checkpoint_model.h5\n",
            "62/80 [======================>.......] - ETA: 2s - loss: 1.5059 - accuracy: 0.4566 - recall: 0.2082 - specificity: 0.9887 - f1_score: 0.3154\n",
            "Epoch 00003: saving model to checkpoint_model.h5\n",
            "63/80 [======================>.......] - ETA: 2s - loss: 1.5077 - accuracy: 0.4546 - recall: 0.2070 - specificity: 0.9886 - f1_score: 0.3137\n",
            "Epoch 00003: saving model to checkpoint_model.h5\n",
            "64/80 [=======================>......] - ETA: 2s - loss: 1.5060 - accuracy: 0.4552 - recall: 0.2067 - specificity: 0.9887 - f1_score: 0.3135\n",
            "Epoch 00003: saving model to checkpoint_model.h5\n",
            "65/80 [=======================>......] - ETA: 2s - loss: 1.5045 - accuracy: 0.4552 - recall: 0.2064 - specificity: 0.9888 - f1_score: 0.3133\n",
            "Epoch 00003: saving model to checkpoint_model.h5\n",
            "66/80 [=======================>......] - ETA: 2s - loss: 1.5022 - accuracy: 0.4560 - recall: 0.2071 - specificity: 0.9889 - f1_score: 0.3145\n",
            "Epoch 00003: saving model to checkpoint_model.h5\n",
            "67/80 [========================>.....] - ETA: 2s - loss: 1.5006 - accuracy: 0.4565 - recall: 0.2080 - specificity: 0.9890 - f1_score: 0.3159\n",
            "Epoch 00003: saving model to checkpoint_model.h5\n",
            "68/80 [========================>.....] - ETA: 1s - loss: 1.5006 - accuracy: 0.4571 - recall: 0.2088 - specificity: 0.9891 - f1_score: 0.3172\n",
            "Epoch 00003: saving model to checkpoint_model.h5\n",
            "69/80 [========================>.....] - ETA: 1s - loss: 1.4974 - accuracy: 0.4580 - recall: 0.2091 - specificity: 0.9891 - f1_score: 0.3177\n",
            "Epoch 00003: saving model to checkpoint_model.h5\n",
            "70/80 [=========================>....] - ETA: 1s - loss: 1.4954 - accuracy: 0.4592 - recall: 0.2099 - specificity: 0.9891 - f1_score: 0.3186\n",
            "Epoch 00003: saving model to checkpoint_model.h5\n",
            "71/80 [=========================>....] - ETA: 1s - loss: 1.4921 - accuracy: 0.4607 - recall: 0.2107 - specificity: 0.9890 - f1_score: 0.3194\n",
            "Epoch 00003: saving model to checkpoint_model.h5\n",
            "72/80 [==========================>...] - ETA: 1s - loss: 1.4911 - accuracy: 0.4615 - recall: 0.2122 - specificity: 0.9890 - f1_score: 0.3212\n",
            "Epoch 00003: saving model to checkpoint_model.h5\n",
            "73/80 [==========================>...] - ETA: 1s - loss: 1.4892 - accuracy: 0.4617 - recall: 0.2146 - specificity: 0.9889 - f1_score: 0.3236\n",
            "Epoch 00003: saving model to checkpoint_model.h5\n",
            "74/80 [==========================>...] - ETA: 0s - loss: 1.4874 - accuracy: 0.4623 - recall: 0.2155 - specificity: 0.9888 - f1_score: 0.3245\n",
            "Epoch 00003: saving model to checkpoint_model.h5\n",
            "75/80 [===========================>..] - ETA: 0s - loss: 1.4861 - accuracy: 0.4626 - recall: 0.2158 - specificity: 0.9888 - f1_score: 0.3249\n",
            "Epoch 00003: saving model to checkpoint_model.h5\n",
            "76/80 [===========================>..] - ETA: 0s - loss: 1.4854 - accuracy: 0.4625 - recall: 0.2160 - specificity: 0.9887 - f1_score: 0.3250\n",
            "Epoch 00003: saving model to checkpoint_model.h5\n",
            "77/80 [===========================>..] - ETA: 0s - loss: 1.4855 - accuracy: 0.4622 - recall: 0.2159 - specificity: 0.9887 - f1_score: 0.3249\n",
            "Epoch 00003: saving model to checkpoint_model.h5\n",
            "78/80 [============================>.] - ETA: 0s - loss: 1.4846 - accuracy: 0.4629 - recall: 0.2174 - specificity: 0.9887 - f1_score: 0.3269\n",
            "Epoch 00003: saving model to checkpoint_model.h5\n",
            "79/80 [============================>.] - ETA: 0s - loss: 1.4833 - accuracy: 0.4630 - recall: 0.2182 - specificity: 0.9886 - f1_score: 0.3276\n",
            "Epoch 00003: saving model to checkpoint_model.h5\n",
            "80/80 [==============================] - 15s 188ms/step - loss: 1.4830 - accuracy: 0.4638 - recall: 0.2187 - specificity: 0.9886 - f1_score: 0.3281 - val_loss: 1.4690 - val_accuracy: 0.4753 - val_recall: 0.2763 - val_specificity: 0.9832 - val_f1_score: 0.3858\n",
            "Epoch 4/100\n",
            "\n",
            "Epoch 00004: saving model to checkpoint_model.h5\n",
            " 1/80 [..............................] - ETA: 0s - loss: 1.5523 - accuracy: 0.4133 - recall: 0.2533 - specificity: 0.9793 - f1_score: 0.3519\n",
            "Epoch 00004: saving model to checkpoint_model.h5\n",
            " 2/80 [..............................] - ETA: 6s - loss: 1.3827 - accuracy: 0.4800 - recall: 0.3267 - specificity: 0.9830 - f1_score: 0.4391\n",
            "Epoch 00004: saving model to checkpoint_model.h5\n",
            " 3/80 [>.............................] - ETA: 8s - loss: 1.3286 - accuracy: 0.5111 - recall: 0.3556 - specificity: 0.9847 - f1_score: 0.4740\n",
            "Epoch 00004: saving model to checkpoint_model.h5\n",
            " 4/80 [>.............................] - ETA: 9s - loss: 1.3701 - accuracy: 0.5033 - recall: 0.3433 - specificity: 0.9844 - f1_score: 0.4610\n",
            "Epoch 00004: saving model to checkpoint_model.h5\n",
            " 5/80 [>.............................] - ETA: 9s - loss: 1.3456 - accuracy: 0.5013 - recall: 0.3493 - specificity: 0.9840 - f1_score: 0.4662\n",
            "Epoch 00004: saving model to checkpoint_model.h5\n",
            " 6/80 [=>............................] - ETA: 9s - loss: 1.3380 - accuracy: 0.4978 - recall: 0.3400 - specificity: 0.9849 - f1_score: 0.4590\n",
            "Epoch 00004: saving model to checkpoint_model.h5\n",
            " 7/80 [=>............................] - ETA: 10s - loss: 1.3367 - accuracy: 0.5029 - recall: 0.3371 - specificity: 0.9860 - f1_score: 0.4594\n",
            "Epoch 00004: saving model to checkpoint_model.h5\n",
            " 8/80 [==>...........................] - ETA: 10s - loss: 1.3385 - accuracy: 0.4983 - recall: 0.3267 - specificity: 0.9863 - f1_score: 0.4485\n",
            "Epoch 00004: saving model to checkpoint_model.h5\n",
            " 9/80 [==>...........................] - ETA: 10s - loss: 1.3294 - accuracy: 0.5067 - recall: 0.3215 - specificity: 0.9863 - f1_score: 0.4431\n",
            "Epoch 00004: saving model to checkpoint_model.h5\n",
            "10/80 [==>...........................] - ETA: 10s - loss: 1.3484 - accuracy: 0.4960 - recall: 0.3187 - specificity: 0.9858 - f1_score: 0.4388\n",
            "Epoch 00004: saving model to checkpoint_model.h5\n",
            "11/80 [===>..........................] - ETA: 10s - loss: 1.3356 - accuracy: 0.5018 - recall: 0.3176 - specificity: 0.9859 - f1_score: 0.4380\n",
            "Epoch 00004: saving model to checkpoint_model.h5\n",
            "12/80 [===>..........................] - ETA: 10s - loss: 1.3419 - accuracy: 0.4989 - recall: 0.3111 - specificity: 0.9860 - f1_score: 0.4312\n",
            "Epoch 00004: saving model to checkpoint_model.h5\n",
            "13/80 [===>..........................] - ETA: 10s - loss: 1.3408 - accuracy: 0.5015 - recall: 0.3036 - specificity: 0.9866 - f1_score: 0.4237\n",
            "Epoch 00004: saving model to checkpoint_model.h5\n",
            "14/80 [====>.........................] - ETA: 10s - loss: 1.3336 - accuracy: 0.5019 - recall: 0.2990 - specificity: 0.9868 - f1_score: 0.4191\n",
            "Epoch 00004: saving model to checkpoint_model.h5\n",
            "15/80 [====>.........................] - ETA: 9s - loss: 1.3322 - accuracy: 0.5058 - recall: 0.2978 - specificity: 0.9871 - f1_score: 0.4186 \n",
            "Epoch 00004: saving model to checkpoint_model.h5\n",
            "16/80 [=====>........................] - ETA: 9s - loss: 1.3270 - accuracy: 0.5058 - recall: 0.2967 - specificity: 0.9876 - f1_score: 0.4190\n",
            "Epoch 00004: saving model to checkpoint_model.h5\n",
            "17/80 [=====>........................] - ETA: 9s - loss: 1.3376 - accuracy: 0.5075 - recall: 0.2980 - specificity: 0.9875 - f1_score: 0.4205\n",
            "Epoch 00004: saving model to checkpoint_model.h5\n",
            "18/80 [=====>........................] - ETA: 9s - loss: 1.3501 - accuracy: 0.5022 - recall: 0.2911 - specificity: 0.9876 - f1_score: 0.4122\n",
            "Epoch 00004: saving model to checkpoint_model.h5\n",
            "19/80 [======>.......................] - ETA: 9s - loss: 1.3478 - accuracy: 0.5011 - recall: 0.2919 - specificity: 0.9873 - f1_score: 0.4125\n",
            "Epoch 00004: saving model to checkpoint_model.h5\n",
            "20/80 [======>.......................] - ETA: 9s - loss: 1.3494 - accuracy: 0.4960 - recall: 0.2853 - specificity: 0.9872 - f1_score: 0.4042\n",
            "Epoch 00004: saving model to checkpoint_model.h5\n",
            "21/80 [======>.......................] - ETA: 9s - loss: 1.3500 - accuracy: 0.4978 - recall: 0.2863 - specificity: 0.9872 - f1_score: 0.4055\n",
            "Epoch 00004: saving model to checkpoint_model.h5\n",
            "22/80 [=======>......................] - ETA: 9s - loss: 1.3558 - accuracy: 0.4970 - recall: 0.2842 - specificity: 0.9872 - f1_score: 0.4032\n",
            "Epoch 00004: saving model to checkpoint_model.h5\n",
            "23/80 [=======>......................] - ETA: 8s - loss: 1.3565 - accuracy: 0.4968 - recall: 0.2858 - specificity: 0.9871 - f1_score: 0.4048\n",
            "Epoch 00004: saving model to checkpoint_model.h5\n",
            "24/80 [========>.....................] - ETA: 8s - loss: 1.3527 - accuracy: 0.5006 - recall: 0.2883 - specificity: 0.9872 - f1_score: 0.4080\n",
            "Epoch 00004: saving model to checkpoint_model.h5\n",
            "25/80 [========>.....................] - ETA: 8s - loss: 1.3446 - accuracy: 0.5072 - recall: 0.2912 - specificity: 0.9871 - f1_score: 0.4110\n",
            "Epoch 00004: saving model to checkpoint_model.h5\n",
            "26/80 [========>.....................] - ETA: 8s - loss: 1.3439 - accuracy: 0.5072 - recall: 0.2913 - specificity: 0.9873 - f1_score: 0.4116\n",
            "Epoch 00004: saving model to checkpoint_model.h5\n",
            "27/80 [=========>....................] - ETA: 8s - loss: 1.3327 - accuracy: 0.5126 - recall: 0.2988 - specificity: 0.9873 - f1_score: 0.4192\n",
            "Epoch 00004: saving model to checkpoint_model.h5\n",
            "28/80 [=========>....................] - ETA: 8s - loss: 1.3320 - accuracy: 0.5133 - recall: 0.2981 - specificity: 0.9875 - f1_score: 0.4190\n",
            "Epoch 00004: saving model to checkpoint_model.h5\n",
            "29/80 [=========>....................] - ETA: 8s - loss: 1.3269 - accuracy: 0.5140 - recall: 0.3016 - specificity: 0.9873 - f1_score: 0.4222\n",
            "Epoch 00004: saving model to checkpoint_model.h5\n",
            "30/80 [==========>...................] - ETA: 7s - loss: 1.3265 - accuracy: 0.5133 - recall: 0.3027 - specificity: 0.9873 - f1_score: 0.4234\n",
            "Epoch 00004: saving model to checkpoint_model.h5\n",
            "31/80 [==========>...................] - ETA: 7s - loss: 1.3226 - accuracy: 0.5135 - recall: 0.3032 - specificity: 0.9875 - f1_score: 0.4249\n",
            "Epoch 00004: saving model to checkpoint_model.h5\n",
            "32/80 [===========>..................] - ETA: 7s - loss: 1.3337 - accuracy: 0.5092 - recall: 0.3012 - specificity: 0.9876 - f1_score: 0.4229\n",
            "Epoch 00004: saving model to checkpoint_model.h5\n",
            "33/80 [===========>..................] - ETA: 7s - loss: 1.3329 - accuracy: 0.5095 - recall: 0.3030 - specificity: 0.9878 - f1_score: 0.4255\n",
            "Epoch 00004: saving model to checkpoint_model.h5\n",
            "34/80 [===========>..................] - ETA: 7s - loss: 1.3279 - accuracy: 0.5129 - recall: 0.3063 - specificity: 0.9879 - f1_score: 0.4294\n",
            "Epoch 00004: saving model to checkpoint_model.h5\n",
            "35/80 [============>.................] - ETA: 7s - loss: 1.3215 - accuracy: 0.5162 - recall: 0.3070 - specificity: 0.9880 - f1_score: 0.4306\n",
            "Epoch 00004: saving model to checkpoint_model.h5\n",
            "36/80 [============>.................] - ETA: 7s - loss: 1.3253 - accuracy: 0.5137 - recall: 0.3070 - specificity: 0.9879 - f1_score: 0.4303\n",
            "Epoch 00004: saving model to checkpoint_model.h5\n",
            "37/80 [============>.................] - ETA: 6s - loss: 1.3264 - accuracy: 0.5146 - recall: 0.3077 - specificity: 0.9879 - f1_score: 0.4313\n",
            "Epoch 00004: saving model to checkpoint_model.h5\n",
            "38/80 [=============>................] - ETA: 6s - loss: 1.3306 - accuracy: 0.5126 - recall: 0.3056 - specificity: 0.9877 - f1_score: 0.4285\n",
            "Epoch 00004: saving model to checkpoint_model.h5\n",
            "39/80 [=============>................] - ETA: 6s - loss: 1.3317 - accuracy: 0.5118 - recall: 0.3043 - specificity: 0.9878 - f1_score: 0.4271\n",
            "Epoch 00004: saving model to checkpoint_model.h5\n",
            "40/80 [==============>...............] - ETA: 6s - loss: 1.3299 - accuracy: 0.5137 - recall: 0.3057 - specificity: 0.9877 - f1_score: 0.4285\n",
            "Epoch 00004: saving model to checkpoint_model.h5\n",
            "41/80 [==============>...............] - ETA: 6s - loss: 1.3307 - accuracy: 0.5115 - recall: 0.3067 - specificity: 0.9875 - f1_score: 0.4290\n",
            "Epoch 00004: saving model to checkpoint_model.h5\n",
            "42/80 [==============>...............] - ETA: 6s - loss: 1.3336 - accuracy: 0.5105 - recall: 0.3057 - specificity: 0.9875 - f1_score: 0.4280\n",
            "Epoch 00004: saving model to checkpoint_model.h5\n",
            "43/80 [===============>..............] - ETA: 6s - loss: 1.3296 - accuracy: 0.5119 - recall: 0.3085 - specificity: 0.9875 - f1_score: 0.4310\n",
            "Epoch 00004: saving model to checkpoint_model.h5\n",
            "44/80 [===============>..............] - ETA: 5s - loss: 1.3264 - accuracy: 0.5130 - recall: 0.3103 - specificity: 0.9874 - f1_score: 0.4326\n",
            "Epoch 00004: saving model to checkpoint_model.h5\n",
            "45/80 [===============>..............] - ETA: 5s - loss: 1.3248 - accuracy: 0.5126 - recall: 0.3117 - specificity: 0.9873 - f1_score: 0.4339\n",
            "Epoch 00004: saving model to checkpoint_model.h5\n",
            "46/80 [================>.............] - ETA: 5s - loss: 1.3274 - accuracy: 0.5130 - recall: 0.3096 - specificity: 0.9872 - f1_score: 0.4313\n",
            "Epoch 00004: saving model to checkpoint_model.h5\n",
            "47/80 [================>.............] - ETA: 5s - loss: 1.3272 - accuracy: 0.5126 - recall: 0.3092 - specificity: 0.9872 - f1_score: 0.4308\n",
            "Epoch 00004: saving model to checkpoint_model.h5\n",
            "48/80 [=================>............] - ETA: 5s - loss: 1.3293 - accuracy: 0.5108 - recall: 0.3078 - specificity: 0.9871 - f1_score: 0.4291\n",
            "Epoch 00004: saving model to checkpoint_model.h5\n",
            "49/80 [=================>............] - ETA: 5s - loss: 1.3274 - accuracy: 0.5118 - recall: 0.3086 - specificity: 0.9872 - f1_score: 0.4301\n",
            "Epoch 00004: saving model to checkpoint_model.h5\n",
            "50/80 [=================>............] - ETA: 4s - loss: 1.3317 - accuracy: 0.5104 - recall: 0.3072 - specificity: 0.9872 - f1_score: 0.4287\n",
            "Epoch 00004: saving model to checkpoint_model.h5\n",
            "51/80 [==================>...........] - ETA: 4s - loss: 1.3296 - accuracy: 0.5106 - recall: 0.3082 - specificity: 0.9872 - f1_score: 0.4299\n",
            "Epoch 00004: saving model to checkpoint_model.h5\n",
            "52/80 [==================>...........] - ETA: 4s - loss: 1.3317 - accuracy: 0.5097 - recall: 0.3067 - specificity: 0.9872 - f1_score: 0.4282\n",
            "Epoch 00004: saving model to checkpoint_model.h5\n",
            "53/80 [==================>...........] - ETA: 4s - loss: 1.3303 - accuracy: 0.5112 - recall: 0.3054 - specificity: 0.9872 - f1_score: 0.4268\n",
            "Epoch 00004: saving model to checkpoint_model.h5\n",
            "54/80 [===================>..........] - ETA: 4s - loss: 1.3268 - accuracy: 0.5123 - recall: 0.3057 - specificity: 0.9873 - f1_score: 0.4274\n",
            "Epoch 00004: saving model to checkpoint_model.h5\n",
            "55/80 [===================>..........] - ETA: 4s - loss: 1.3243 - accuracy: 0.5137 - recall: 0.3062 - specificity: 0.9874 - f1_score: 0.4282\n",
            "Epoch 00004: saving model to checkpoint_model.h5\n",
            "56/80 [====================>.........] - ETA: 3s - loss: 1.3270 - accuracy: 0.5119 - recall: 0.3057 - specificity: 0.9872 - f1_score: 0.4273\n",
            "Epoch 00004: saving model to checkpoint_model.h5\n",
            "57/80 [====================>.........] - ETA: 3s - loss: 1.3287 - accuracy: 0.5120 - recall: 0.3064 - specificity: 0.9871 - f1_score: 0.4279\n",
            "Epoch 00004: saving model to checkpoint_model.h5\n",
            "58/80 [====================>.........] - ETA: 3s - loss: 1.3320 - accuracy: 0.5117 - recall: 0.3067 - specificity: 0.9873 - f1_score: 0.4287\n",
            "Epoch 00004: saving model to checkpoint_model.h5\n",
            "59/80 [=====================>........] - ETA: 3s - loss: 1.3309 - accuracy: 0.5125 - recall: 0.3051 - specificity: 0.9873 - f1_score: 0.4269\n",
            "Epoch 00004: saving model to checkpoint_model.h5\n",
            "60/80 [=====================>........] - ETA: 3s - loss: 1.3286 - accuracy: 0.5140 - recall: 0.3062 - specificity: 0.9875 - f1_score: 0.4287\n",
            "Epoch 00004: saving model to checkpoint_model.h5\n",
            "61/80 [=====================>........] - ETA: 3s - loss: 1.3265 - accuracy: 0.5130 - recall: 0.3054 - specificity: 0.9874 - f1_score: 0.4277\n",
            "Epoch 00004: saving model to checkpoint_model.h5\n",
            "62/80 [======================>.......] - ETA: 2s - loss: 1.3261 - accuracy: 0.5120 - recall: 0.3047 - specificity: 0.9873 - f1_score: 0.4267\n",
            "Epoch 00004: saving model to checkpoint_model.h5\n",
            "63/80 [======================>.......] - ETA: 2s - loss: 1.3259 - accuracy: 0.5124 - recall: 0.3054 - specificity: 0.9872 - f1_score: 0.4272\n",
            "Epoch 00004: saving model to checkpoint_model.h5\n",
            "64/80 [=======================>......] - ETA: 2s - loss: 1.3269 - accuracy: 0.5123 - recall: 0.3054 - specificity: 0.9871 - f1_score: 0.4270\n",
            "Epoch 00004: saving model to checkpoint_model.h5\n",
            "65/80 [=======================>......] - ETA: 2s - loss: 1.3272 - accuracy: 0.5120 - recall: 0.3058 - specificity: 0.9870 - f1_score: 0.4271\n",
            "Epoch 00004: saving model to checkpoint_model.h5\n",
            "66/80 [=======================>......] - ETA: 2s - loss: 1.3281 - accuracy: 0.5121 - recall: 0.3063 - specificity: 0.9869 - f1_score: 0.4273\n",
            "Epoch 00004: saving model to checkpoint_model.h5\n",
            "67/80 [========================>.....] - ETA: 2s - loss: 1.3290 - accuracy: 0.5110 - recall: 0.3061 - specificity: 0.9868 - f1_score: 0.4269\n",
            "Epoch 00004: saving model to checkpoint_model.h5\n",
            "68/80 [========================>.....] - ETA: 1s - loss: 1.3267 - accuracy: 0.5110 - recall: 0.3059 - specificity: 0.9867 - f1_score: 0.4266\n",
            "Epoch 00004: saving model to checkpoint_model.h5\n",
            "69/80 [========================>.....] - ETA: 1s - loss: 1.3281 - accuracy: 0.5107 - recall: 0.3061 - specificity: 0.9868 - f1_score: 0.4270\n",
            "Epoch 00004: saving model to checkpoint_model.h5\n",
            "70/80 [=========================>....] - ETA: 1s - loss: 1.3251 - accuracy: 0.5128 - recall: 0.3067 - specificity: 0.9869 - f1_score: 0.4282\n",
            "Epoch 00004: saving model to checkpoint_model.h5\n",
            "71/80 [=========================>....] - ETA: 1s - loss: 1.3235 - accuracy: 0.5129 - recall: 0.3061 - specificity: 0.9869 - f1_score: 0.4275\n",
            "Epoch 00004: saving model to checkpoint_model.h5\n",
            "72/80 [==========================>...] - ETA: 1s - loss: 1.3213 - accuracy: 0.5135 - recall: 0.3074 - specificity: 0.9869 - f1_score: 0.4288\n",
            "Epoch 00004: saving model to checkpoint_model.h5\n",
            "73/80 [==========================>...] - ETA: 1s - loss: 1.3212 - accuracy: 0.5138 - recall: 0.3076 - specificity: 0.9870 - f1_score: 0.4293\n",
            "Epoch 00004: saving model to checkpoint_model.h5\n",
            "74/80 [==========================>...] - ETA: 0s - loss: 1.3196 - accuracy: 0.5146 - recall: 0.3083 - specificity: 0.9869 - f1_score: 0.4299\n",
            "Epoch 00004: saving model to checkpoint_model.h5\n",
            "75/80 [===========================>..] - ETA: 0s - loss: 1.3195 - accuracy: 0.5148 - recall: 0.3084 - specificity: 0.9868 - f1_score: 0.4299\n",
            "Epoch 00004: saving model to checkpoint_model.h5\n",
            "76/80 [===========================>..] - ETA: 0s - loss: 1.3247 - accuracy: 0.5123 - recall: 0.3070 - specificity: 0.9867 - f1_score: 0.4280\n",
            "Epoch 00004: saving model to checkpoint_model.h5\n",
            "77/80 [===========================>..] - ETA: 0s - loss: 1.3227 - accuracy: 0.5129 - recall: 0.3079 - specificity: 0.9867 - f1_score: 0.4289\n",
            "Epoch 00004: saving model to checkpoint_model.h5\n",
            "78/80 [============================>.] - ETA: 0s - loss: 1.3228 - accuracy: 0.5133 - recall: 0.3077 - specificity: 0.9866 - f1_score: 0.4285\n",
            "Epoch 00004: saving model to checkpoint_model.h5\n",
            "79/80 [============================>.] - ETA: 0s - loss: 1.3210 - accuracy: 0.5151 - recall: 0.3090 - specificity: 0.9866 - f1_score: 0.4299\n",
            "Epoch 00004: saving model to checkpoint_model.h5\n",
            "80/80 [==============================] - 15s 191ms/step - loss: 1.3193 - accuracy: 0.5150 - recall: 0.3100 - specificity: 0.9865 - f1_score: 0.4306 - val_loss: 1.3996 - val_accuracy: 0.4873 - val_recall: 0.3072 - val_specificity: 0.9797 - val_f1_score: 0.4111\n",
            "Epoch 5/100\n",
            "\n",
            "Epoch 00005: saving model to checkpoint_model.h5\n",
            " 1/80 [..............................] - ETA: 0s - loss: 1.3000 - accuracy: 0.5200 - recall: 0.3200 - specificity: 0.9807 - f1_score: 0.4286\n",
            "Epoch 00005: saving model to checkpoint_model.h5\n",
            " 2/80 [..............................] - ETA: 7s - loss: 1.3394 - accuracy: 0.4800 - recall: 0.3133 - specificity: 0.9800 - f1_score: 0.4196\n",
            "Epoch 00005: saving model to checkpoint_model.h5\n",
            " 3/80 [>.............................] - ETA: 9s - loss: 1.2856 - accuracy: 0.5333 - recall: 0.3289 - specificity: 0.9817 - f1_score: 0.4405\n",
            "Epoch 00005: saving model to checkpoint_model.h5\n",
            " 4/80 [>.............................] - ETA: 9s - loss: 1.2497 - accuracy: 0.5533 - recall: 0.3467 - specificity: 0.9844 - f1_score: 0.4667\n",
            "Epoch 00005: saving model to checkpoint_model.h5\n",
            " 5/80 [>.............................] - ETA: 10s - loss: 1.2221 - accuracy: 0.5547 - recall: 0.3467 - specificity: 0.9858 - f1_score: 0.4706\n",
            "Epoch 00005: saving model to checkpoint_model.h5\n",
            " 6/80 [=>............................] - ETA: 10s - loss: 1.1952 - accuracy: 0.5756 - recall: 0.3511 - specificity: 0.9857 - f1_score: 0.4747\n",
            "Epoch 00005: saving model to checkpoint_model.h5\n",
            " 7/80 [=>............................] - ETA: 10s - loss: 1.1940 - accuracy: 0.5695 - recall: 0.3524 - specificity: 0.9852 - f1_score: 0.4746\n",
            "Epoch 00005: saving model to checkpoint_model.h5\n",
            " 8/80 [==>...........................] - ETA: 10s - loss: 1.1843 - accuracy: 0.5800 - recall: 0.3567 - specificity: 0.9863 - f1_score: 0.4824\n",
            "Epoch 00005: saving model to checkpoint_model.h5\n",
            " 9/80 [==>...........................] - ETA: 10s - loss: 1.1894 - accuracy: 0.5763 - recall: 0.3541 - specificity: 0.9863 - f1_score: 0.4798\n",
            "Epoch 00005: saving model to checkpoint_model.h5\n",
            "10/80 [==>...........................] - ETA: 10s - loss: 1.1753 - accuracy: 0.5880 - recall: 0.3720 - specificity: 0.9871 - f1_score: 0.4990\n",
            "Epoch 00005: saving model to checkpoint_model.h5\n",
            "11/80 [===>..........................] - ETA: 10s - loss: 1.1641 - accuracy: 0.5891 - recall: 0.3794 - specificity: 0.9864 - f1_score: 0.5039\n",
            "Epoch 00005: saving model to checkpoint_model.h5\n",
            "12/80 [===>..........................] - ETA: 10s - loss: 1.1750 - accuracy: 0.5767 - recall: 0.3767 - specificity: 0.9868 - f1_score: 0.5024\n",
            "Epoch 00005: saving model to checkpoint_model.h5\n",
            "13/80 [===>..........................] - ETA: 10s - loss: 1.1766 - accuracy: 0.5785 - recall: 0.3795 - specificity: 0.9862 - f1_score: 0.5035\n",
            "Epoch 00005: saving model to checkpoint_model.h5\n",
            "14/80 [====>.........................] - ETA: 10s - loss: 1.1694 - accuracy: 0.5810 - recall: 0.3829 - specificity: 0.9865 - f1_score: 0.5076\n",
            "Epoch 00005: saving model to checkpoint_model.h5\n",
            "15/80 [====>.........................] - ETA: 10s - loss: 1.1754 - accuracy: 0.5778 - recall: 0.3813 - specificity: 0.9865 - f1_score: 0.5062\n",
            "Epoch 00005: saving model to checkpoint_model.h5\n",
            "16/80 [=====>........................] - ETA: 10s - loss: 1.1786 - accuracy: 0.5742 - recall: 0.3783 - specificity: 0.9858 - f1_score: 0.5015\n",
            "Epoch 00005: saving model to checkpoint_model.h5\n",
            "17/80 [=====>........................] - ETA: 9s - loss: 1.1806 - accuracy: 0.5710 - recall: 0.3702 - specificity: 0.9860 - f1_score: 0.4930 \n",
            "Epoch 00005: saving model to checkpoint_model.h5\n",
            "18/80 [=====>........................] - ETA: 9s - loss: 1.1814 - accuracy: 0.5726 - recall: 0.3726 - specificity: 0.9862 - f1_score: 0.4961\n",
            "Epoch 00005: saving model to checkpoint_model.h5\n",
            "19/80 [======>.......................] - ETA: 9s - loss: 1.1833 - accuracy: 0.5726 - recall: 0.3726 - specificity: 0.9864 - f1_score: 0.4968\n",
            "Epoch 00005: saving model to checkpoint_model.h5\n",
            "20/80 [======>.......................] - ETA: 9s - loss: 1.1856 - accuracy: 0.5747 - recall: 0.3713 - specificity: 0.9864 - f1_score: 0.4956\n",
            "Epoch 00005: saving model to checkpoint_model.h5\n",
            "21/80 [======>.......................] - ETA: 9s - loss: 1.1908 - accuracy: 0.5714 - recall: 0.3702 - specificity: 0.9863 - f1_score: 0.4943\n",
            "Epoch 00005: saving model to checkpoint_model.h5\n",
            "22/80 [=======>......................] - ETA: 9s - loss: 1.1854 - accuracy: 0.5703 - recall: 0.3703 - specificity: 0.9864 - f1_score: 0.4947\n",
            "Epoch 00005: saving model to checkpoint_model.h5\n",
            "23/80 [=======>......................] - ETA: 9s - loss: 1.1841 - accuracy: 0.5699 - recall: 0.3687 - specificity: 0.9864 - f1_score: 0.4932\n",
            "Epoch 00005: saving model to checkpoint_model.h5\n",
            "24/80 [========>.....................] - ETA: 8s - loss: 1.1850 - accuracy: 0.5683 - recall: 0.3672 - specificity: 0.9865 - f1_score: 0.4919\n",
            "Epoch 00005: saving model to checkpoint_model.h5\n",
            "25/80 [========>.....................] - ETA: 8s - loss: 1.1827 - accuracy: 0.5685 - recall: 0.3701 - specificity: 0.9861 - f1_score: 0.4937\n",
            "Epoch 00005: saving model to checkpoint_model.h5\n",
            "26/80 [========>.....................] - ETA: 8s - loss: 1.1775 - accuracy: 0.5738 - recall: 0.3733 - specificity: 0.9862 - f1_score: 0.4969\n",
            "Epoch 00005: saving model to checkpoint_model.h5\n",
            "27/80 [=========>....................] - ETA: 8s - loss: 1.1832 - accuracy: 0.5714 - recall: 0.3723 - specificity: 0.9861 - f1_score: 0.4957\n",
            "Epoch 00005: saving model to checkpoint_model.h5\n",
            "28/80 [=========>....................] - ETA: 8s - loss: 1.1865 - accuracy: 0.5700 - recall: 0.3729 - specificity: 0.9859 - f1_score: 0.4957\n",
            "Epoch 00005: saving model to checkpoint_model.h5\n",
            "29/80 [=========>....................] - ETA: 8s - loss: 1.1896 - accuracy: 0.5710 - recall: 0.3738 - specificity: 0.9856 - f1_score: 0.4960\n",
            "Epoch 00005: saving model to checkpoint_model.h5\n",
            "30/80 [==========>...................] - ETA: 8s - loss: 1.1942 - accuracy: 0.5711 - recall: 0.3720 - specificity: 0.9854 - f1_score: 0.4936\n",
            "Epoch 00005: saving model to checkpoint_model.h5\n",
            "31/80 [==========>...................] - ETA: 7s - loss: 1.2019 - accuracy: 0.5695 - recall: 0.3703 - specificity: 0.9853 - f1_score: 0.4916\n",
            "Epoch 00005: saving model to checkpoint_model.h5\n",
            "32/80 [===========>..................] - ETA: 7s - loss: 1.2033 - accuracy: 0.5683 - recall: 0.3712 - specificity: 0.9854 - f1_score: 0.4929\n",
            "Epoch 00005: saving model to checkpoint_model.h5\n",
            "33/80 [===========>..................] - ETA: 7s - loss: 1.2003 - accuracy: 0.5685 - recall: 0.3725 - specificity: 0.9853 - f1_score: 0.4937\n",
            "Epoch 00005: saving model to checkpoint_model.h5\n",
            "34/80 [===========>..................] - ETA: 7s - loss: 1.2030 - accuracy: 0.5678 - recall: 0.3714 - specificity: 0.9851 - f1_score: 0.4920\n",
            "Epoch 00005: saving model to checkpoint_model.h5\n",
            "35/80 [============>.................] - ETA: 7s - loss: 1.2015 - accuracy: 0.5680 - recall: 0.3710 - specificity: 0.9851 - f1_score: 0.4919\n",
            "Epoch 00005: saving model to checkpoint_model.h5\n",
            "36/80 [============>.................] - ETA: 7s - loss: 1.2057 - accuracy: 0.5674 - recall: 0.3707 - specificity: 0.9853 - f1_score: 0.4920\n",
            "Epoch 00005: saving model to checkpoint_model.h5\n",
            "37/80 [============>.................] - ETA: 7s - loss: 1.2014 - accuracy: 0.5686 - recall: 0.3715 - specificity: 0.9854 - f1_score: 0.4934\n",
            "Epoch 00005: saving model to checkpoint_model.h5\n",
            "38/80 [=============>................] - ETA: 6s - loss: 1.1992 - accuracy: 0.5702 - recall: 0.3730 - specificity: 0.9855 - f1_score: 0.4951\n",
            "Epoch 00005: saving model to checkpoint_model.h5\n",
            "39/80 [=============>................] - ETA: 6s - loss: 1.1997 - accuracy: 0.5703 - recall: 0.3726 - specificity: 0.9855 - f1_score: 0.4948\n",
            "Epoch 00005: saving model to checkpoint_model.h5\n",
            "40/80 [==============>...............] - ETA: 6s - loss: 1.1993 - accuracy: 0.5697 - recall: 0.3720 - specificity: 0.9854 - f1_score: 0.4937\n",
            "Epoch 00005: saving model to checkpoint_model.h5\n",
            "41/80 [==============>...............] - ETA: 6s - loss: 1.2046 - accuracy: 0.5672 - recall: 0.3694 - specificity: 0.9854 - f1_score: 0.4911\n",
            "Epoch 00005: saving model to checkpoint_model.h5\n",
            "42/80 [==============>...............] - ETA: 6s - loss: 1.2096 - accuracy: 0.5660 - recall: 0.3679 - specificity: 0.9853 - f1_score: 0.4893\n",
            "Epoch 00005: saving model to checkpoint_model.h5\n",
            "43/80 [===============>..............] - ETA: 6s - loss: 1.2102 - accuracy: 0.5659 - recall: 0.3671 - specificity: 0.9854 - f1_score: 0.4888\n",
            "Epoch 00005: saving model to checkpoint_model.h5\n",
            "44/80 [===============>..............] - ETA: 5s - loss: 1.2077 - accuracy: 0.5658 - recall: 0.3673 - specificity: 0.9854 - f1_score: 0.4888\n",
            "Epoch 00005: saving model to checkpoint_model.h5\n",
            "45/80 [===============>..............] - ETA: 5s - loss: 1.2076 - accuracy: 0.5653 - recall: 0.3662 - specificity: 0.9855 - f1_score: 0.4882\n",
            "Epoch 00005: saving model to checkpoint_model.h5\n",
            "46/80 [================>.............] - ETA: 5s - loss: 1.2039 - accuracy: 0.5675 - recall: 0.3675 - specificity: 0.9855 - f1_score: 0.4896\n",
            "Epoch 00005: saving model to checkpoint_model.h5\n",
            "47/80 [================>.............] - ETA: 5s - loss: 1.2053 - accuracy: 0.5668 - recall: 0.3668 - specificity: 0.9855 - f1_score: 0.4886\n",
            "Epoch 00005: saving model to checkpoint_model.h5\n",
            "48/80 [=================>............] - ETA: 5s - loss: 1.2072 - accuracy: 0.5667 - recall: 0.3658 - specificity: 0.9855 - f1_score: 0.4877\n",
            "Epoch 00005: saving model to checkpoint_model.h5\n",
            "49/80 [=================>............] - ETA: 5s - loss: 1.2032 - accuracy: 0.5679 - recall: 0.3673 - specificity: 0.9855 - f1_score: 0.4894\n",
            "Epoch 00005: saving model to checkpoint_model.h5\n",
            "50/80 [=================>............] - ETA: 4s - loss: 1.2000 - accuracy: 0.5683 - recall: 0.3685 - specificity: 0.9856 - f1_score: 0.4906\n",
            "Epoch 00005: saving model to checkpoint_model.h5\n",
            "51/80 [==================>...........] - ETA: 4s - loss: 1.1959 - accuracy: 0.5694 - recall: 0.3694 - specificity: 0.9856 - f1_score: 0.4917\n",
            "Epoch 00005: saving model to checkpoint_model.h5\n",
            "52/80 [==================>...........] - ETA: 4s - loss: 1.1939 - accuracy: 0.5703 - recall: 0.3713 - specificity: 0.9856 - f1_score: 0.4933\n",
            "Epoch 00005: saving model to checkpoint_model.h5\n",
            "53/80 [==================>...........] - ETA: 4s - loss: 1.1934 - accuracy: 0.5711 - recall: 0.3728 - specificity: 0.9856 - f1_score: 0.4948\n",
            "Epoch 00005: saving model to checkpoint_model.h5\n",
            "54/80 [===================>..........] - ETA: 4s - loss: 1.1933 - accuracy: 0.5706 - recall: 0.3736 - specificity: 0.9855 - f1_score: 0.4955\n",
            "Epoch 00005: saving model to checkpoint_model.h5\n",
            "55/80 [===================>..........] - ETA: 4s - loss: 1.1928 - accuracy: 0.5704 - recall: 0.3745 - specificity: 0.9854 - f1_score: 0.4961\n",
            "Epoch 00005: saving model to checkpoint_model.h5\n",
            "56/80 [====================>.........] - ETA: 4s - loss: 1.1925 - accuracy: 0.5702 - recall: 0.3745 - specificity: 0.9853 - f1_score: 0.4958\n",
            "Epoch 00005: saving model to checkpoint_model.h5\n",
            "57/80 [====================>.........] - ETA: 3s - loss: 1.1936 - accuracy: 0.5705 - recall: 0.3754 - specificity: 0.9853 - f1_score: 0.4967\n",
            "Epoch 00005: saving model to checkpoint_model.h5\n",
            "58/80 [====================>.........] - ETA: 3s - loss: 1.1908 - accuracy: 0.5717 - recall: 0.3766 - specificity: 0.9853 - f1_score: 0.4977\n",
            "Epoch 00005: saving model to checkpoint_model.h5\n",
            "59/80 [=====================>........] - ETA: 3s - loss: 1.1864 - accuracy: 0.5733 - recall: 0.3794 - specificity: 0.9852 - f1_score: 0.5001\n",
            "Epoch 00005: saving model to checkpoint_model.h5\n",
            "60/80 [=====================>........] - ETA: 3s - loss: 1.1854 - accuracy: 0.5729 - recall: 0.3807 - specificity: 0.9852 - f1_score: 0.5012\n",
            "Epoch 00005: saving model to checkpoint_model.h5\n",
            "61/80 [=====================>........] - ETA: 3s - loss: 1.1851 - accuracy: 0.5725 - recall: 0.3803 - specificity: 0.9852 - f1_score: 0.5010\n",
            "Epoch 00005: saving model to checkpoint_model.h5\n",
            "62/80 [======================>.......] - ETA: 3s - loss: 1.1859 - accuracy: 0.5727 - recall: 0.3815 - specificity: 0.9852 - f1_score: 0.5020\n",
            "Epoch 00005: saving model to checkpoint_model.h5\n",
            "63/80 [======================>.......] - ETA: 2s - loss: 1.1842 - accuracy: 0.5731 - recall: 0.3826 - specificity: 0.9852 - f1_score: 0.5032\n",
            "Epoch 00005: saving model to checkpoint_model.h5\n",
            "64/80 [=======================>......] - ETA: 2s - loss: 1.1818 - accuracy: 0.5750 - recall: 0.3846 - specificity: 0.9853 - f1_score: 0.5053\n",
            "Epoch 00005: saving model to checkpoint_model.h5\n",
            "65/80 [=======================>......] - ETA: 2s - loss: 1.1810 - accuracy: 0.5750 - recall: 0.3850 - specificity: 0.9853 - f1_score: 0.5057\n",
            "Epoch 00005: saving model to checkpoint_model.h5\n",
            "66/80 [=======================>......] - ETA: 2s - loss: 1.1793 - accuracy: 0.5762 - recall: 0.3855 - specificity: 0.9853 - f1_score: 0.5061\n",
            "Epoch 00005: saving model to checkpoint_model.h5\n",
            "67/80 [========================>.....] - ETA: 2s - loss: 1.1759 - accuracy: 0.5775 - recall: 0.3879 - specificity: 0.9853 - f1_score: 0.5083\n",
            "Epoch 00005: saving model to checkpoint_model.h5\n",
            "68/80 [========================>.....] - ETA: 2s - loss: 1.1762 - accuracy: 0.5778 - recall: 0.3882 - specificity: 0.9852 - f1_score: 0.5083\n",
            "Epoch 00005: saving model to checkpoint_model.h5\n",
            "69/80 [========================>.....] - ETA: 1s - loss: 1.1732 - accuracy: 0.5784 - recall: 0.3900 - specificity: 0.9851 - f1_score: 0.5096\n",
            "Epoch 00005: saving model to checkpoint_model.h5\n",
            "70/80 [=========================>....] - ETA: 1s - loss: 1.1745 - accuracy: 0.5775 - recall: 0.3895 - specificity: 0.9850 - f1_score: 0.5091\n",
            "Epoch 00005: saving model to checkpoint_model.h5\n",
            "71/80 [=========================>....] - ETA: 1s - loss: 1.1748 - accuracy: 0.5769 - recall: 0.3885 - specificity: 0.9851 - f1_score: 0.5082\n",
            "Epoch 00005: saving model to checkpoint_model.h5\n",
            "72/80 [==========================>...] - ETA: 1s - loss: 1.1736 - accuracy: 0.5778 - recall: 0.3898 - specificity: 0.9852 - f1_score: 0.5099\n",
            "Epoch 00005: saving model to checkpoint_model.h5\n",
            "73/80 [==========================>...] - ETA: 1s - loss: 1.1708 - accuracy: 0.5794 - recall: 0.3905 - specificity: 0.9853 - f1_score: 0.5108\n",
            "Epoch 00005: saving model to checkpoint_model.h5\n",
            "74/80 [==========================>...] - ETA: 1s - loss: 1.1709 - accuracy: 0.5789 - recall: 0.3905 - specificity: 0.9852 - f1_score: 0.5105\n",
            "Epoch 00005: saving model to checkpoint_model.h5\n",
            "75/80 [===========================>..] - ETA: 0s - loss: 1.1711 - accuracy: 0.5787 - recall: 0.3904 - specificity: 0.9852 - f1_score: 0.5105\n",
            "Epoch 00005: saving model to checkpoint_model.h5\n",
            "76/80 [===========================>..] - ETA: 0s - loss: 1.1716 - accuracy: 0.5779 - recall: 0.3900 - specificity: 0.9853 - f1_score: 0.5104\n",
            "Epoch 00005: saving model to checkpoint_model.h5\n",
            "77/80 [===========================>..] - ETA: 0s - loss: 1.1714 - accuracy: 0.5780 - recall: 0.3900 - specificity: 0.9853 - f1_score: 0.5104\n",
            "Epoch 00005: saving model to checkpoint_model.h5\n",
            "78/80 [============================>.] - ETA: 0s - loss: 1.1692 - accuracy: 0.5783 - recall: 0.3909 - specificity: 0.9853 - f1_score: 0.5115\n",
            "Epoch 00005: saving model to checkpoint_model.h5\n",
            "79/80 [============================>.] - ETA: 0s - loss: 1.1700 - accuracy: 0.5774 - recall: 0.3907 - specificity: 0.9853 - f1_score: 0.5113\n",
            "Epoch 00005: saving model to checkpoint_model.h5\n",
            "80/80 [==============================] - 16s 199ms/step - loss: 1.1740 - accuracy: 0.5765 - recall: 0.3902 - specificity: 0.9852 - f1_score: 0.5104 - val_loss: 1.3379 - val_accuracy: 0.5390 - val_recall: 0.3862 - val_specificity: 0.9784 - val_f1_score: 0.4876\n",
            "Epoch 6/100\n",
            "\n",
            "Epoch 00006: saving model to checkpoint_model.h5\n",
            " 1/80 [..............................] - ETA: 0s - loss: 1.1585 - accuracy: 0.5733 - recall: 0.4133 - specificity: 0.9896 - f1_score: 0.5487\n",
            "Epoch 00006: saving model to checkpoint_model.h5\n",
            " 2/80 [..............................] - ETA: 6s - loss: 1.0561 - accuracy: 0.5800 - recall: 0.4467 - specificity: 0.9867 - f1_score: 0.5694\n",
            "Epoch 00006: saving model to checkpoint_model.h5\n",
            " 3/80 [>.............................] - ETA: 8s - loss: 1.0893 - accuracy: 0.5911 - recall: 0.4533 - specificity: 0.9842 - f1_score: 0.5678\n",
            "Epoch 00006: saving model to checkpoint_model.h5\n",
            " 4/80 [>.............................] - ETA: 9s - loss: 1.0351 - accuracy: 0.6167 - recall: 0.4867 - specificity: 0.9863 - f1_score: 0.6033\n",
            "Epoch 00006: saving model to checkpoint_model.h5\n",
            " 5/80 [>.............................] - ETA: 10s - loss: 1.0297 - accuracy: 0.6160 - recall: 0.4720 - specificity: 0.9870 - f1_score: 0.5923\n",
            "Epoch 00006: saving model to checkpoint_model.h5\n",
            " 6/80 [=>............................] - ETA: 10s - loss: 1.0593 - accuracy: 0.6022 - recall: 0.4622 - specificity: 0.9874 - f1_score: 0.5851\n",
            "Epoch 00006: saving model to checkpoint_model.h5\n",
            " 7/80 [=>............................] - ETA: 10s - loss: 1.0719 - accuracy: 0.6038 - recall: 0.4476 - specificity: 0.9879 - f1_score: 0.5729\n",
            "Epoch 00006: saving model to checkpoint_model.h5\n",
            " 8/80 [==>...........................] - ETA: 10s - loss: 1.0832 - accuracy: 0.6067 - recall: 0.4500 - specificity: 0.9872 - f1_score: 0.5730\n",
            "Epoch 00006: saving model to checkpoint_model.h5\n",
            " 9/80 [==>...........................] - ETA: 10s - loss: 1.0935 - accuracy: 0.6015 - recall: 0.4400 - specificity: 0.9875 - f1_score: 0.5644\n",
            "Epoch 00006: saving model to checkpoint_model.h5\n",
            "10/80 [==>...........................] - ETA: 10s - loss: 1.1040 - accuracy: 0.6053 - recall: 0.4373 - specificity: 0.9876 - f1_score: 0.5623\n",
            "Epoch 00006: saving model to checkpoint_model.h5\n",
            "11/80 [===>..........................] - ETA: 10s - loss: 1.1064 - accuracy: 0.6000 - recall: 0.4364 - specificity: 0.9880 - f1_score: 0.5632\n",
            "Epoch 00006: saving model to checkpoint_model.h5\n",
            "12/80 [===>..........................] - ETA: 10s - loss: 1.1034 - accuracy: 0.5956 - recall: 0.4378 - specificity: 0.9878 - f1_score: 0.5639\n",
            "Epoch 00006: saving model to checkpoint_model.h5\n",
            "13/80 [===>..........................] - ETA: 10s - loss: 1.1015 - accuracy: 0.5959 - recall: 0.4421 - specificity: 0.9876 - f1_score: 0.5671\n",
            "Epoch 00006: saving model to checkpoint_model.h5\n",
            "14/80 [====>.........................] - ETA: 10s - loss: 1.0929 - accuracy: 0.5981 - recall: 0.4448 - specificity: 0.9874 - f1_score: 0.5691\n",
            "Epoch 00006: saving model to checkpoint_model.h5\n",
            "15/80 [====>.........................] - ETA: 10s - loss: 1.0987 - accuracy: 0.5982 - recall: 0.4453 - specificity: 0.9875 - f1_score: 0.5699\n",
            "Epoch 00006: saving model to checkpoint_model.h5\n",
            "16/80 [=====>........................] - ETA: 9s - loss: 1.1008 - accuracy: 0.5983 - recall: 0.4483 - specificity: 0.9876 - f1_score: 0.5732 \n",
            "Epoch 00006: saving model to checkpoint_model.h5\n",
            "17/80 [=====>........................] - ETA: 9s - loss: 1.1105 - accuracy: 0.5945 - recall: 0.4361 - specificity: 0.9870 - f1_score: 0.5591\n",
            "Epoch 00006: saving model to checkpoint_model.h5\n",
            "18/80 [=====>........................] - ETA: 9s - loss: 1.1075 - accuracy: 0.5956 - recall: 0.4348 - specificity: 0.9871 - f1_score: 0.5582\n",
            "Epoch 00006: saving model to checkpoint_model.h5\n",
            "19/80 [======>.......................] - ETA: 9s - loss: 1.1066 - accuracy: 0.5937 - recall: 0.4351 - specificity: 0.9871 - f1_score: 0.5588\n",
            "Epoch 00006: saving model to checkpoint_model.h5\n",
            "20/80 [======>.......................] - ETA: 9s - loss: 1.1110 - accuracy: 0.5920 - recall: 0.4313 - specificity: 0.9870 - f1_score: 0.5550\n",
            "Epoch 00006: saving model to checkpoint_model.h5\n",
            "21/80 [======>.......................] - ETA: 9s - loss: 1.1135 - accuracy: 0.5930 - recall: 0.4311 - specificity: 0.9872 - f1_score: 0.5553\n",
            "Epoch 00006: saving model to checkpoint_model.h5\n",
            "22/80 [=======>......................] - ETA: 9s - loss: 1.1192 - accuracy: 0.5891 - recall: 0.4285 - specificity: 0.9869 - f1_score: 0.5520\n",
            "Epoch 00006: saving model to checkpoint_model.h5\n",
            "23/80 [=======>......................] - ETA: 9s - loss: 1.1166 - accuracy: 0.5901 - recall: 0.4301 - specificity: 0.9867 - f1_score: 0.5531\n",
            "Epoch 00006: saving model to checkpoint_model.h5\n",
            "24/80 [========>.....................] - ETA: 8s - loss: 1.1124 - accuracy: 0.5894 - recall: 0.4294 - specificity: 0.9867 - f1_score: 0.5523\n",
            "Epoch 00006: saving model to checkpoint_model.h5\n",
            "25/80 [========>.....................] - ETA: 8s - loss: 1.1133 - accuracy: 0.5883 - recall: 0.4267 - specificity: 0.9868 - f1_score: 0.5501\n",
            "Epoch 00006: saving model to checkpoint_model.h5\n",
            "26/80 [========>.....................] - ETA: 8s - loss: 1.1099 - accuracy: 0.5908 - recall: 0.4256 - specificity: 0.9870 - f1_score: 0.5499\n",
            "Epoch 00006: saving model to checkpoint_model.h5\n",
            "27/80 [=========>....................] - ETA: 8s - loss: 1.1060 - accuracy: 0.5946 - recall: 0.4286 - specificity: 0.9869 - f1_score: 0.5522\n",
            "Epoch 00006: saving model to checkpoint_model.h5\n",
            "28/80 [=========>....................] - ETA: 8s - loss: 1.1060 - accuracy: 0.5933 - recall: 0.4290 - specificity: 0.9870 - f1_score: 0.5530\n",
            "Epoch 00006: saving model to checkpoint_model.h5\n",
            "29/80 [=========>....................] - ETA: 8s - loss: 1.1047 - accuracy: 0.5949 - recall: 0.4317 - specificity: 0.9870 - f1_score: 0.5556\n",
            "Epoch 00006: saving model to checkpoint_model.h5\n",
            "30/80 [==========>...................] - ETA: 8s - loss: 1.1124 - accuracy: 0.5951 - recall: 0.4307 - specificity: 0.9867 - f1_score: 0.5537\n",
            "Epoch 00006: saving model to checkpoint_model.h5\n",
            "31/80 [==========>...................] - ETA: 7s - loss: 1.1151 - accuracy: 0.5935 - recall: 0.4288 - specificity: 0.9862 - f1_score: 0.5507\n",
            "Epoch 00006: saving model to checkpoint_model.h5\n",
            "32/80 [===========>..................] - ETA: 7s - loss: 1.1186 - accuracy: 0.5913 - recall: 0.4250 - specificity: 0.9862 - f1_score: 0.5467\n",
            "Epoch 00006: saving model to checkpoint_model.h5\n",
            "33/80 [===========>..................] - ETA: 7s - loss: 1.1141 - accuracy: 0.5935 - recall: 0.4259 - specificity: 0.9861 - f1_score: 0.5474\n",
            "Epoch 00006: saving model to checkpoint_model.h5\n",
            "34/80 [===========>..................] - ETA: 7s - loss: 1.1093 - accuracy: 0.5973 - recall: 0.4278 - specificity: 0.9862 - f1_score: 0.5494\n",
            "Epoch 00006: saving model to checkpoint_model.h5\n",
            "35/80 [============>.................] - ETA: 7s - loss: 1.1075 - accuracy: 0.5966 - recall: 0.4290 - specificity: 0.9861 - f1_score: 0.5501\n",
            "Epoch 00006: saving model to checkpoint_model.h5\n",
            "36/80 [============>.................] - ETA: 7s - loss: 1.1059 - accuracy: 0.5981 - recall: 0.4319 - specificity: 0.9859 - f1_score: 0.5522\n",
            "Epoch 00006: saving model to checkpoint_model.h5\n",
            "37/80 [============>.................] - ETA: 7s - loss: 1.1010 - accuracy: 0.5996 - recall: 0.4346 - specificity: 0.9861 - f1_score: 0.5553\n",
            "Epoch 00006: saving model to checkpoint_model.h5\n",
            "38/80 [=============>................] - ETA: 6s - loss: 1.1000 - accuracy: 0.6007 - recall: 0.4351 - specificity: 0.9860 - f1_score: 0.5555\n",
            "Epoch 00006: saving model to checkpoint_model.h5\n",
            "39/80 [=============>................] - ETA: 6s - loss: 1.0975 - accuracy: 0.6014 - recall: 0.4366 - specificity: 0.9861 - f1_score: 0.5572\n",
            "Epoch 00006: saving model to checkpoint_model.h5\n",
            "40/80 [==============>...............] - ETA: 6s - loss: 1.0942 - accuracy: 0.6040 - recall: 0.4380 - specificity: 0.9861 - f1_score: 0.5587\n",
            "Epoch 00006: saving model to checkpoint_model.h5\n",
            "41/80 [==============>...............] - ETA: 6s - loss: 1.0937 - accuracy: 0.6033 - recall: 0.4387 - specificity: 0.9861 - f1_score: 0.5593\n",
            "Epoch 00006: saving model to checkpoint_model.h5\n",
            "42/80 [==============>...............] - ETA: 6s - loss: 1.0934 - accuracy: 0.6048 - recall: 0.4394 - specificity: 0.9862 - f1_score: 0.5603\n",
            "Epoch 00006: saving model to checkpoint_model.h5\n",
            "43/80 [===============>..............] - ETA: 6s - loss: 1.0954 - accuracy: 0.6031 - recall: 0.4391 - specificity: 0.9862 - f1_score: 0.5600\n",
            "Epoch 00006: saving model to checkpoint_model.h5\n",
            "44/80 [===============>..............] - ETA: 5s - loss: 1.0974 - accuracy: 0.6024 - recall: 0.4412 - specificity: 0.9861 - f1_score: 0.5615\n",
            "Epoch 00006: saving model to checkpoint_model.h5\n",
            "45/80 [===============>..............] - ETA: 5s - loss: 1.0959 - accuracy: 0.6050 - recall: 0.4424 - specificity: 0.9860 - f1_score: 0.5624\n",
            "Epoch 00006: saving model to checkpoint_model.h5\n",
            "46/80 [================>.............] - ETA: 5s - loss: 1.0943 - accuracy: 0.6061 - recall: 0.4432 - specificity: 0.9861 - f1_score: 0.5632\n",
            "Epoch 00006: saving model to checkpoint_model.h5\n",
            "47/80 [================>.............] - ETA: 5s - loss: 1.0914 - accuracy: 0.6085 - recall: 0.4440 - specificity: 0.9861 - f1_score: 0.5641\n",
            "Epoch 00006: saving model to checkpoint_model.h5\n",
            "48/80 [=================>............] - ETA: 5s - loss: 1.0886 - accuracy: 0.6103 - recall: 0.4450 - specificity: 0.9863 - f1_score: 0.5656\n",
            "Epoch 00006: saving model to checkpoint_model.h5\n",
            "49/80 [=================>............] - ETA: 5s - loss: 1.0874 - accuracy: 0.6106 - recall: 0.4454 - specificity: 0.9863 - f1_score: 0.5662\n",
            "Epoch 00006: saving model to checkpoint_model.h5\n",
            "50/80 [=================>............] - ETA: 5s - loss: 1.0879 - accuracy: 0.6096 - recall: 0.4456 - specificity: 0.9863 - f1_score: 0.5662\n",
            "Epoch 00006: saving model to checkpoint_model.h5\n",
            "51/80 [==================>...........] - ETA: 4s - loss: 1.0876 - accuracy: 0.6105 - recall: 0.4471 - specificity: 0.9862 - f1_score: 0.5674\n",
            "Epoch 00006: saving model to checkpoint_model.h5\n",
            "52/80 [==================>...........] - ETA: 4s - loss: 1.0911 - accuracy: 0.6087 - recall: 0.4449 - specificity: 0.9861 - f1_score: 0.5650\n",
            "Epoch 00006: saving model to checkpoint_model.h5\n",
            "53/80 [==================>...........] - ETA: 4s - loss: 1.0929 - accuracy: 0.6068 - recall: 0.4448 - specificity: 0.9860 - f1_score: 0.5646\n",
            "Epoch 00006: saving model to checkpoint_model.h5\n",
            "54/80 [===================>..........] - ETA: 4s - loss: 1.0928 - accuracy: 0.6054 - recall: 0.4437 - specificity: 0.9860 - f1_score: 0.5635\n",
            "Epoch 00006: saving model to checkpoint_model.h5\n",
            "55/80 [===================>..........] - ETA: 4s - loss: 1.0882 - accuracy: 0.6070 - recall: 0.4458 - specificity: 0.9861 - f1_score: 0.5657\n",
            "Epoch 00006: saving model to checkpoint_model.h5\n",
            "56/80 [====================>.........] - ETA: 4s - loss: 1.0856 - accuracy: 0.6081 - recall: 0.4464 - specificity: 0.9862 - f1_score: 0.5667\n",
            "Epoch 00006: saving model to checkpoint_model.h5\n",
            "57/80 [====================>.........] - ETA: 3s - loss: 1.0875 - accuracy: 0.6077 - recall: 0.4463 - specificity: 0.9862 - f1_score: 0.5667\n",
            "Epoch 00006: saving model to checkpoint_model.h5\n",
            "58/80 [====================>.........] - ETA: 3s - loss: 1.0866 - accuracy: 0.6074 - recall: 0.4469 - specificity: 0.9861 - f1_score: 0.5669\n",
            "Epoch 00006: saving model to checkpoint_model.h5\n",
            "59/80 [=====================>........] - ETA: 3s - loss: 1.0883 - accuracy: 0.6063 - recall: 0.4461 - specificity: 0.9861 - f1_score: 0.5662\n",
            "Epoch 00006: saving model to checkpoint_model.h5\n",
            "60/80 [=====================>........] - ETA: 3s - loss: 1.0910 - accuracy: 0.6056 - recall: 0.4453 - specificity: 0.9860 - f1_score: 0.5652\n",
            "Epoch 00006: saving model to checkpoint_model.h5\n",
            "61/80 [=====================>........] - ETA: 3s - loss: 1.0865 - accuracy: 0.6074 - recall: 0.4466 - specificity: 0.9861 - f1_score: 0.5667\n",
            "Epoch 00006: saving model to checkpoint_model.h5\n",
            "62/80 [======================>.......] - ETA: 3s - loss: 1.0913 - accuracy: 0.6058 - recall: 0.4452 - specificity: 0.9860 - f1_score: 0.5652\n",
            "Epoch 00006: saving model to checkpoint_model.h5\n",
            "63/80 [======================>.......] - ETA: 2s - loss: 1.0881 - accuracy: 0.6072 - recall: 0.4463 - specificity: 0.9861 - f1_score: 0.5665\n",
            "Epoch 00006: saving model to checkpoint_model.h5\n",
            "64/80 [=======================>......] - ETA: 2s - loss: 1.0870 - accuracy: 0.6079 - recall: 0.4473 - specificity: 0.9862 - f1_score: 0.5675\n",
            "Epoch 00006: saving model to checkpoint_model.h5\n",
            "65/80 [=======================>......] - ETA: 2s - loss: 1.0860 - accuracy: 0.6088 - recall: 0.4478 - specificity: 0.9862 - f1_score: 0.5680\n",
            "Epoch 00006: saving model to checkpoint_model.h5\n",
            "66/80 [=======================>......] - ETA: 2s - loss: 1.0839 - accuracy: 0.6095 - recall: 0.4483 - specificity: 0.9862 - f1_score: 0.5686\n",
            "Epoch 00006: saving model to checkpoint_model.h5\n",
            "67/80 [========================>.....] - ETA: 2s - loss: 1.0845 - accuracy: 0.6098 - recall: 0.4492 - specificity: 0.9863 - f1_score: 0.5698\n",
            "Epoch 00006: saving model to checkpoint_model.h5\n",
            "68/80 [========================>.....] - ETA: 2s - loss: 1.0853 - accuracy: 0.6092 - recall: 0.4480 - specificity: 0.9863 - f1_score: 0.5685\n",
            "Epoch 00006: saving model to checkpoint_model.h5\n",
            "69/80 [========================>.....] - ETA: 1s - loss: 1.0876 - accuracy: 0.6083 - recall: 0.4470 - specificity: 0.9861 - f1_score: 0.5671\n",
            "Epoch 00006: saving model to checkpoint_model.h5\n",
            "70/80 [=========================>....] - ETA: 1s - loss: 1.0848 - accuracy: 0.6095 - recall: 0.4482 - specificity: 0.9861 - f1_score: 0.5682\n",
            "Epoch 00006: saving model to checkpoint_model.h5\n",
            "71/80 [=========================>....] - ETA: 1s - loss: 1.0853 - accuracy: 0.6094 - recall: 0.4479 - specificity: 0.9861 - f1_score: 0.5679\n",
            "Epoch 00006: saving model to checkpoint_model.h5\n",
            "72/80 [==========================>...] - ETA: 1s - loss: 1.0824 - accuracy: 0.6111 - recall: 0.4494 - specificity: 0.9862 - f1_score: 0.5695\n",
            "Epoch 00006: saving model to checkpoint_model.h5\n",
            "73/80 [==========================>...] - ETA: 1s - loss: 1.0817 - accuracy: 0.6110 - recall: 0.4489 - specificity: 0.9862 - f1_score: 0.5691\n",
            "Epoch 00006: saving model to checkpoint_model.h5\n",
            "74/80 [==========================>...] - ETA: 1s - loss: 1.0799 - accuracy: 0.6117 - recall: 0.4501 - specificity: 0.9861 - f1_score: 0.5698\n",
            "Epoch 00006: saving model to checkpoint_model.h5\n",
            "75/80 [===========================>..] - ETA: 0s - loss: 1.0817 - accuracy: 0.6114 - recall: 0.4507 - specificity: 0.9860 - f1_score: 0.5699\n",
            "Epoch 00006: saving model to checkpoint_model.h5\n",
            "76/80 [===========================>..] - ETA: 0s - loss: 1.0837 - accuracy: 0.6112 - recall: 0.4509 - specificity: 0.9858 - f1_score: 0.5697\n",
            "Epoch 00006: saving model to checkpoint_model.h5\n",
            "77/80 [===========================>..] - ETA: 0s - loss: 1.0816 - accuracy: 0.6121 - recall: 0.4519 - specificity: 0.9858 - f1_score: 0.5706\n",
            "Epoch 00006: saving model to checkpoint_model.h5\n",
            "78/80 [============================>.] - ETA: 0s - loss: 1.0815 - accuracy: 0.6126 - recall: 0.4528 - specificity: 0.9857 - f1_score: 0.5711\n",
            "Epoch 00006: saving model to checkpoint_model.h5\n",
            "79/80 [============================>.] - ETA: 0s - loss: 1.0810 - accuracy: 0.6128 - recall: 0.4535 - specificity: 0.9857 - f1_score: 0.5718\n",
            "Epoch 00006: saving model to checkpoint_model.h5\n",
            "80/80 [==============================] - 16s 195ms/step - loss: 1.0823 - accuracy: 0.6122 - recall: 0.4532 - specificity: 0.9857 - f1_score: 0.5713 - val_loss: 1.2868 - val_accuracy: 0.5537 - val_recall: 0.4151 - val_specificity: 0.9798 - val_f1_score: 0.5193\n",
            "Epoch 7/100\n",
            "\n",
            "Epoch 00007: saving model to checkpoint_model.h5\n",
            " 1/80 [..............................] - ETA: 0s - loss: 0.9615 - accuracy: 0.6400 - recall: 0.4667 - specificity: 0.9896 - f1_score: 0.5983\n",
            "Epoch 00007: saving model to checkpoint_model.h5\n",
            " 2/80 [..............................] - ETA: 6s - loss: 1.0069 - accuracy: 0.6467 - recall: 0.4867 - specificity: 0.9859 - f1_score: 0.6031\n",
            "Epoch 00007: saving model to checkpoint_model.h5\n",
            " 3/80 [>.............................] - ETA: 8s - loss: 0.9887 - accuracy: 0.6533 - recall: 0.4844 - specificity: 0.9872 - f1_score: 0.6055\n",
            "Epoch 00007: saving model to checkpoint_model.h5\n",
            " 4/80 [>.............................] - ETA: 9s - loss: 1.0058 - accuracy: 0.6400 - recall: 0.4733 - specificity: 0.9874 - f1_score: 0.5964\n",
            "Epoch 00007: saving model to checkpoint_model.h5\n",
            " 5/80 [>.............................] - ETA: 10s - loss: 0.9685 - accuracy: 0.6533 - recall: 0.4907 - specificity: 0.9864 - f1_score: 0.6073\n",
            "Epoch 00007: saving model to checkpoint_model.h5\n",
            " 6/80 [=>............................] - ETA: 10s - loss: 0.9727 - accuracy: 0.6578 - recall: 0.4844 - specificity: 0.9869 - f1_score: 0.6038\n",
            "Epoch 00007: saving model to checkpoint_model.h5\n",
            " 7/80 [=>............................] - ETA: 10s - loss: 0.9668 - accuracy: 0.6610 - recall: 0.4838 - specificity: 0.9881 - f1_score: 0.6078\n",
            "Epoch 00007: saving model to checkpoint_model.h5\n",
            " 8/80 [==>...........................] - ETA: 10s - loss: 0.9489 - accuracy: 0.6717 - recall: 0.4900 - specificity: 0.9889 - f1_score: 0.6158\n",
            "Epoch 00007: saving model to checkpoint_model.h5\n",
            " 9/80 [==>...........................] - ETA: 10s - loss: 0.9566 - accuracy: 0.6652 - recall: 0.4919 - specificity: 0.9885 - f1_score: 0.6161\n",
            "Epoch 00007: saving model to checkpoint_model.h5\n",
            "10/80 [==>...........................] - ETA: 10s - loss: 0.9648 - accuracy: 0.6627 - recall: 0.4893 - specificity: 0.9884 - f1_score: 0.6138\n",
            "Epoch 00007: saving model to checkpoint_model.h5\n",
            "11/80 [===>..........................] - ETA: 10s - loss: 0.9638 - accuracy: 0.6655 - recall: 0.4970 - specificity: 0.9880 - f1_score: 0.6186\n",
            "Epoch 00007: saving model to checkpoint_model.h5\n",
            "12/80 [===>..........................] - ETA: 10s - loss: 0.9584 - accuracy: 0.6700 - recall: 0.5011 - specificity: 0.9880 - f1_score: 0.6221\n",
            "Epoch 00007: saving model to checkpoint_model.h5\n",
            "13/80 [===>..........................] - ETA: 10s - loss: 0.9701 - accuracy: 0.6667 - recall: 0.4985 - specificity: 0.9877 - f1_score: 0.6188\n",
            "Epoch 00007: saving model to checkpoint_model.h5\n",
            "14/80 [====>.........................] - ETA: 10s - loss: 0.9571 - accuracy: 0.6686 - recall: 0.5057 - specificity: 0.9874 - f1_score: 0.6237\n",
            "Epoch 00007: saving model to checkpoint_model.h5\n",
            "15/80 [====>.........................] - ETA: 10s - loss: 0.9510 - accuracy: 0.6667 - recall: 0.5120 - specificity: 0.9876 - f1_score: 0.6293\n",
            "Epoch 00007: saving model to checkpoint_model.h5\n",
            "16/80 [=====>........................] - ETA: 10s - loss: 0.9409 - accuracy: 0.6692 - recall: 0.5175 - specificity: 0.9876 - f1_score: 0.6339\n",
            "Epoch 00007: saving model to checkpoint_model.h5\n",
            "17/80 [=====>........................] - ETA: 9s - loss: 0.9386 - accuracy: 0.6667 - recall: 0.5208 - specificity: 0.9874 - f1_score: 0.6359 \n",
            "Epoch 00007: saving model to checkpoint_model.h5\n",
            "18/80 [=====>........................] - ETA: 9s - loss: 0.9435 - accuracy: 0.6652 - recall: 0.5178 - specificity: 0.9870 - f1_score: 0.6322\n",
            "Epoch 00007: saving model to checkpoint_model.h5\n",
            "19/80 [======>.......................] - ETA: 9s - loss: 0.9456 - accuracy: 0.6667 - recall: 0.5179 - specificity: 0.9869 - f1_score: 0.6320\n",
            "Epoch 00007: saving model to checkpoint_model.h5\n",
            "20/80 [======>.......................] - ETA: 9s - loss: 0.9457 - accuracy: 0.6653 - recall: 0.5180 - specificity: 0.9867 - f1_score: 0.6316\n",
            "Epoch 00007: saving model to checkpoint_model.h5\n",
            "21/80 [======>.......................] - ETA: 9s - loss: 0.9465 - accuracy: 0.6660 - recall: 0.5181 - specificity: 0.9866 - f1_score: 0.6312\n",
            "Epoch 00007: saving model to checkpoint_model.h5\n",
            "22/80 [=======>......................] - ETA: 9s - loss: 0.9430 - accuracy: 0.6673 - recall: 0.5182 - specificity: 0.9864 - f1_score: 0.6307\n",
            "Epoch 00007: saving model to checkpoint_model.h5\n",
            "23/80 [=======>......................] - ETA: 9s - loss: 0.9385 - accuracy: 0.6690 - recall: 0.5229 - specificity: 0.9867 - f1_score: 0.6357\n",
            "Epoch 00007: saving model to checkpoint_model.h5\n",
            "24/80 [========>.....................] - ETA: 9s - loss: 0.9361 - accuracy: 0.6700 - recall: 0.5222 - specificity: 0.9869 - f1_score: 0.6356\n",
            "Epoch 00007: saving model to checkpoint_model.h5\n",
            "25/80 [========>.....................] - ETA: 8s - loss: 0.9329 - accuracy: 0.6699 - recall: 0.5211 - specificity: 0.9869 - f1_score: 0.6348\n",
            "Epoch 00007: saving model to checkpoint_model.h5\n",
            "26/80 [========>.....................] - ETA: 8s - loss: 0.9352 - accuracy: 0.6697 - recall: 0.5200 - specificity: 0.9868 - f1_score: 0.6337\n",
            "Epoch 00007: saving model to checkpoint_model.h5\n",
            "27/80 [=========>....................] - ETA: 8s - loss: 0.9368 - accuracy: 0.6686 - recall: 0.5205 - specificity: 0.9867 - f1_score: 0.6336\n",
            "Epoch 00007: saving model to checkpoint_model.h5\n",
            "28/80 [=========>....................] - ETA: 8s - loss: 0.9426 - accuracy: 0.6633 - recall: 0.5181 - specificity: 0.9863 - f1_score: 0.6304\n",
            "Epoch 00007: saving model to checkpoint_model.h5\n",
            "29/80 [=========>....................] - ETA: 8s - loss: 0.9495 - accuracy: 0.6602 - recall: 0.5122 - specificity: 0.9865 - f1_score: 0.6256\n",
            "Epoch 00007: saving model to checkpoint_model.h5\n",
            "30/80 [==========>...................] - ETA: 8s - loss: 0.9425 - accuracy: 0.6631 - recall: 0.5142 - specificity: 0.9867 - f1_score: 0.6279\n",
            "Epoch 00007: saving model to checkpoint_model.h5\n",
            "31/80 [==========>...................] - ETA: 8s - loss: 0.9334 - accuracy: 0.6680 - recall: 0.5178 - specificity: 0.9868 - f1_score: 0.6313\n",
            "Epoch 00007: saving model to checkpoint_model.h5\n",
            "32/80 [===========>..................] - ETA: 8s - loss: 0.9337 - accuracy: 0.6650 - recall: 0.5167 - specificity: 0.9869 - f1_score: 0.6305\n",
            "Epoch 00007: saving model to checkpoint_model.h5\n",
            "33/80 [===========>..................] - ETA: 7s - loss: 0.9354 - accuracy: 0.6655 - recall: 0.5160 - specificity: 0.9869 - f1_score: 0.6302\n",
            "Epoch 00007: saving model to checkpoint_model.h5\n",
            "34/80 [===========>..................] - ETA: 7s - loss: 0.9377 - accuracy: 0.6643 - recall: 0.5149 - specificity: 0.9868 - f1_score: 0.6290\n",
            "Epoch 00007: saving model to checkpoint_model.h5\n",
            "35/80 [============>.................] - ETA: 7s - loss: 0.9387 - accuracy: 0.6629 - recall: 0.5147 - specificity: 0.9869 - f1_score: 0.6292\n",
            "Epoch 00007: saving model to checkpoint_model.h5\n",
            "36/80 [============>.................] - ETA: 7s - loss: 0.9335 - accuracy: 0.6644 - recall: 0.5174 - specificity: 0.9868 - f1_score: 0.6310\n",
            "Epoch 00007: saving model to checkpoint_model.h5\n",
            "37/80 [============>.................] - ETA: 7s - loss: 0.9339 - accuracy: 0.6645 - recall: 0.5175 - specificity: 0.9868 - f1_score: 0.6311\n",
            "Epoch 00007: saving model to checkpoint_model.h5\n",
            "38/80 [=============>................] - ETA: 7s - loss: 0.9329 - accuracy: 0.6635 - recall: 0.5179 - specificity: 0.9867 - f1_score: 0.6310\n",
            "Epoch 00007: saving model to checkpoint_model.h5\n",
            "39/80 [=============>................] - ETA: 6s - loss: 0.9321 - accuracy: 0.6636 - recall: 0.5193 - specificity: 0.9866 - f1_score: 0.6319\n",
            "Epoch 00007: saving model to checkpoint_model.h5\n",
            "40/80 [==============>...............] - ETA: 6s - loss: 0.9304 - accuracy: 0.6660 - recall: 0.5213 - specificity: 0.9867 - f1_score: 0.6338\n",
            "Epoch 00007: saving model to checkpoint_model.h5\n",
            "41/80 [==============>...............] - ETA: 6s - loss: 0.9295 - accuracy: 0.6683 - recall: 0.5249 - specificity: 0.9867 - f1_score: 0.6367\n",
            "Epoch 00007: saving model to checkpoint_model.h5\n",
            "42/80 [==============>...............] - ETA: 6s - loss: 0.9309 - accuracy: 0.6683 - recall: 0.5260 - specificity: 0.9867 - f1_score: 0.6375\n",
            "Epoch 00007: saving model to checkpoint_model.h5\n",
            "43/80 [===============>..............] - ETA: 6s - loss: 0.9321 - accuracy: 0.6673 - recall: 0.5240 - specificity: 0.9866 - f1_score: 0.6357\n",
            "Epoch 00007: saving model to checkpoint_model.h5\n",
            "44/80 [===============>..............] - ETA: 6s - loss: 0.9388 - accuracy: 0.6648 - recall: 0.5236 - specificity: 0.9862 - f1_score: 0.6341\n",
            "Epoch 00007: saving model to checkpoint_model.h5\n",
            "45/80 [===============>..............] - ETA: 5s - loss: 0.9397 - accuracy: 0.6655 - recall: 0.5233 - specificity: 0.9861 - f1_score: 0.6336\n",
            "Epoch 00007: saving model to checkpoint_model.h5\n",
            "46/80 [================>.............] - ETA: 5s - loss: 0.9410 - accuracy: 0.6649 - recall: 0.5226 - specificity: 0.9862 - f1_score: 0.6333\n",
            "Epoch 00007: saving model to checkpoint_model.h5\n",
            "47/80 [================>.............] - ETA: 5s - loss: 0.9438 - accuracy: 0.6647 - recall: 0.5206 - specificity: 0.9862 - f1_score: 0.6314\n",
            "Epoch 00007: saving model to checkpoint_model.h5\n",
            "48/80 [=================>............] - ETA: 5s - loss: 0.9411 - accuracy: 0.6658 - recall: 0.5217 - specificity: 0.9864 - f1_score: 0.6330\n",
            "Epoch 00007: saving model to checkpoint_model.h5\n",
            "49/80 [=================>............] - ETA: 5s - loss: 0.9378 - accuracy: 0.6664 - recall: 0.5235 - specificity: 0.9862 - f1_score: 0.6340\n",
            "Epoch 00007: saving model to checkpoint_model.h5\n",
            "50/80 [=================>............] - ETA: 5s - loss: 0.9394 - accuracy: 0.6661 - recall: 0.5216 - specificity: 0.9863 - f1_score: 0.6326\n",
            "Epoch 00007: saving model to checkpoint_model.h5\n",
            "51/80 [==================>...........] - ETA: 4s - loss: 0.9377 - accuracy: 0.6664 - recall: 0.5229 - specificity: 0.9863 - f1_score: 0.6337\n",
            "Epoch 00007: saving model to checkpoint_model.h5\n",
            "52/80 [==================>...........] - ETA: 4s - loss: 0.9372 - accuracy: 0.6669 - recall: 0.5244 - specificity: 0.9862 - f1_score: 0.6346\n",
            "Epoch 00007: saving model to checkpoint_model.h5\n",
            "53/80 [==================>...........] - ETA: 4s - loss: 0.9393 - accuracy: 0.6642 - recall: 0.5223 - specificity: 0.9860 - f1_score: 0.6321\n",
            "Epoch 00007: saving model to checkpoint_model.h5\n",
            "54/80 [===================>..........] - ETA: 4s - loss: 0.9379 - accuracy: 0.6644 - recall: 0.5227 - specificity: 0.9860 - f1_score: 0.6324\n",
            "Epoch 00007: saving model to checkpoint_model.h5\n",
            "55/80 [===================>..........] - ETA: 4s - loss: 0.9396 - accuracy: 0.6630 - recall: 0.5229 - specificity: 0.9859 - f1_score: 0.6324\n",
            "Epoch 00007: saving model to checkpoint_model.h5\n",
            "56/80 [====================>.........] - ETA: 4s - loss: 0.9370 - accuracy: 0.6633 - recall: 0.5233 - specificity: 0.9860 - f1_score: 0.6330\n",
            "Epoch 00007: saving model to checkpoint_model.h5\n",
            "57/80 [====================>.........] - ETA: 3s - loss: 0.9389 - accuracy: 0.6629 - recall: 0.5214 - specificity: 0.9859 - f1_score: 0.6312\n",
            "Epoch 00007: saving model to checkpoint_model.h5\n",
            "58/80 [====================>.........] - ETA: 3s - loss: 0.9400 - accuracy: 0.6630 - recall: 0.5214 - specificity: 0.9859 - f1_score: 0.6312\n",
            "Epoch 00007: saving model to checkpoint_model.h5\n",
            "59/80 [=====================>........] - ETA: 3s - loss: 0.9415 - accuracy: 0.6633 - recall: 0.5220 - specificity: 0.9860 - f1_score: 0.6320\n",
            "Epoch 00007: saving model to checkpoint_model.h5\n",
            "60/80 [=====================>........] - ETA: 3s - loss: 0.9396 - accuracy: 0.6631 - recall: 0.5220 - specificity: 0.9859 - f1_score: 0.6317\n",
            "Epoch 00007: saving model to checkpoint_model.h5\n",
            "61/80 [=====================>........] - ETA: 3s - loss: 0.9364 - accuracy: 0.6645 - recall: 0.5239 - specificity: 0.9859 - f1_score: 0.6331\n",
            "Epoch 00007: saving model to checkpoint_model.h5\n",
            "62/80 [======================>.......] - ETA: 3s - loss: 0.9389 - accuracy: 0.6632 - recall: 0.5241 - specificity: 0.9857 - f1_score: 0.6327\n",
            "Epoch 00007: saving model to checkpoint_model.h5\n",
            "63/80 [======================>.......] - ETA: 2s - loss: 0.9396 - accuracy: 0.6631 - recall: 0.5242 - specificity: 0.9857 - f1_score: 0.6326\n",
            "Epoch 00007: saving model to checkpoint_model.h5\n",
            "64/80 [=======================>......] - ETA: 2s - loss: 0.9391 - accuracy: 0.6637 - recall: 0.5246 - specificity: 0.9856 - f1_score: 0.6328\n",
            "Epoch 00007: saving model to checkpoint_model.h5\n",
            "65/80 [=======================>......] - ETA: 2s - loss: 0.9393 - accuracy: 0.6640 - recall: 0.5253 - specificity: 0.9856 - f1_score: 0.6333\n",
            "Epoch 00007: saving model to checkpoint_model.h5\n",
            "66/80 [=======================>......] - ETA: 2s - loss: 0.9414 - accuracy: 0.6620 - recall: 0.5236 - specificity: 0.9854 - f1_score: 0.6314\n",
            "Epoch 00007: saving model to checkpoint_model.h5\n",
            "67/80 [========================>.....] - ETA: 2s - loss: 0.9433 - accuracy: 0.6619 - recall: 0.5234 - specificity: 0.9854 - f1_score: 0.6311\n",
            "Epoch 00007: saving model to checkpoint_model.h5\n",
            "68/80 [========================>.....] - ETA: 2s - loss: 0.9435 - accuracy: 0.6622 - recall: 0.5237 - specificity: 0.9854 - f1_score: 0.6315\n",
            "Epoch 00007: saving model to checkpoint_model.h5\n",
            "69/80 [========================>.....] - ETA: 1s - loss: 0.9418 - accuracy: 0.6622 - recall: 0.5246 - specificity: 0.9855 - f1_score: 0.6326\n",
            "Epoch 00007: saving model to checkpoint_model.h5\n",
            "70/80 [=========================>....] - ETA: 1s - loss: 0.9403 - accuracy: 0.6638 - recall: 0.5257 - specificity: 0.9856 - f1_score: 0.6338\n",
            "Epoch 00007: saving model to checkpoint_model.h5\n",
            "71/80 [=========================>....] - ETA: 1s - loss: 0.9379 - accuracy: 0.6644 - recall: 0.5264 - specificity: 0.9857 - f1_score: 0.6346\n",
            "Epoch 00007: saving model to checkpoint_model.h5\n",
            "72/80 [==========================>...] - ETA: 1s - loss: 0.9356 - accuracy: 0.6654 - recall: 0.5270 - specificity: 0.9857 - f1_score: 0.6353\n",
            "Epoch 00007: saving model to checkpoint_model.h5\n",
            "73/80 [==========================>...] - ETA: 1s - loss: 0.9354 - accuracy: 0.6652 - recall: 0.5271 - specificity: 0.9856 - f1_score: 0.6351\n",
            "Epoch 00007: saving model to checkpoint_model.h5\n",
            "74/80 [==========================>...] - ETA: 1s - loss: 0.9354 - accuracy: 0.6654 - recall: 0.5279 - specificity: 0.9856 - f1_score: 0.6358\n",
            "Epoch 00007: saving model to checkpoint_model.h5\n",
            "75/80 [===========================>..] - ETA: 0s - loss: 0.9348 - accuracy: 0.6656 - recall: 0.5271 - specificity: 0.9857 - f1_score: 0.6352\n",
            "Epoch 00007: saving model to checkpoint_model.h5\n",
            "76/80 [===========================>..] - ETA: 0s - loss: 0.9309 - accuracy: 0.6667 - recall: 0.5284 - specificity: 0.9857 - f1_score: 0.6363\n",
            "Epoch 00007: saving model to checkpoint_model.h5\n",
            "77/80 [===========================>..] - ETA: 0s - loss: 0.9302 - accuracy: 0.6665 - recall: 0.5288 - specificity: 0.9856 - f1_score: 0.6365\n",
            "Epoch 00007: saving model to checkpoint_model.h5\n",
            "78/80 [============================>.] - ETA: 0s - loss: 0.9323 - accuracy: 0.6665 - recall: 0.5292 - specificity: 0.9856 - f1_score: 0.6366\n",
            "Epoch 00007: saving model to checkpoint_model.h5\n",
            "79/80 [============================>.] - ETA: 0s - loss: 0.9340 - accuracy: 0.6662 - recall: 0.5289 - specificity: 0.9855 - f1_score: 0.6361\n",
            "Epoch 00007: saving model to checkpoint_model.h5\n",
            "80/80 [==============================] - 16s 196ms/step - loss: 0.9335 - accuracy: 0.6667 - recall: 0.5295 - specificity: 0.9856 - f1_score: 0.6369 - val_loss: 1.2817 - val_accuracy: 0.5625 - val_recall: 0.4449 - val_specificity: 0.9743 - val_f1_score: 0.5306\n",
            "Epoch 8/100\n",
            "\n",
            "Epoch 00008: saving model to checkpoint_model.h5\n",
            " 1/80 [..............................] - ETA: 0s - loss: 0.9298 - accuracy: 0.6800 - recall: 0.5600 - specificity: 0.9852 - f1_score: 0.6614\n",
            "Epoch 00008: saving model to checkpoint_model.h5\n",
            " 2/80 [..............................] - ETA: 6s - loss: 0.8603 - accuracy: 0.7400 - recall: 0.5867 - specificity: 0.9896 - f1_score: 0.6987\n",
            "Epoch 00008: saving model to checkpoint_model.h5\n",
            " 3/80 [>.............................] - ETA: 8s - loss: 0.8449 - accuracy: 0.7333 - recall: 0.5956 - specificity: 0.9886 - f1_score: 0.7017\n",
            "Epoch 00008: saving model to checkpoint_model.h5\n",
            " 4/80 [>.............................] - ETA: 9s - loss: 0.8326 - accuracy: 0.7267 - recall: 0.5933 - specificity: 0.9870 - f1_score: 0.6942\n",
            "Epoch 00008: saving model to checkpoint_model.h5\n",
            " 5/80 [>.............................] - ETA: 9s - loss: 0.8035 - accuracy: 0.7307 - recall: 0.6053 - specificity: 0.9867 - f1_score: 0.7016\n",
            "Epoch 00008: saving model to checkpoint_model.h5\n",
            " 6/80 [=>............................] - ETA: 10s - loss: 0.8084 - accuracy: 0.7333 - recall: 0.6000 - specificity: 0.9864 - f1_score: 0.6967\n",
            "Epoch 00008: saving model to checkpoint_model.h5\n",
            " 7/80 [=>............................] - ETA: 10s - loss: 0.8008 - accuracy: 0.7352 - recall: 0.6019 - specificity: 0.9875 - f1_score: 0.7023\n",
            "Epoch 00008: saving model to checkpoint_model.h5\n",
            " 8/80 [==>...........................] - ETA: 10s - loss: 0.8159 - accuracy: 0.7267 - recall: 0.5883 - specificity: 0.9865 - f1_score: 0.6879\n",
            "Epoch 00008: saving model to checkpoint_model.h5\n",
            " 9/80 [==>...........................] - ETA: 10s - loss: 0.8338 - accuracy: 0.7259 - recall: 0.5881 - specificity: 0.9862 - f1_score: 0.6867\n",
            "Epoch 00008: saving model to checkpoint_model.h5\n",
            "10/80 [==>...........................] - ETA: 10s - loss: 0.8111 - accuracy: 0.7347 - recall: 0.6000 - specificity: 0.9865 - f1_score: 0.6965\n",
            "Epoch 00008: saving model to checkpoint_model.h5\n",
            "11/80 [===>..........................] - ETA: 10s - loss: 0.8143 - accuracy: 0.7345 - recall: 0.6024 - specificity: 0.9868 - f1_score: 0.6995\n",
            "Epoch 00008: saving model to checkpoint_model.h5\n",
            "12/80 [===>..........................] - ETA: 10s - loss: 0.8161 - accuracy: 0.7322 - recall: 0.6011 - specificity: 0.9869 - f1_score: 0.6989\n",
            "Epoch 00008: saving model to checkpoint_model.h5\n",
            "13/80 [===>..........................] - ETA: 10s - loss: 0.7991 - accuracy: 0.7395 - recall: 0.6082 - specificity: 0.9874 - f1_score: 0.7058\n",
            "Epoch 00008: saving model to checkpoint_model.h5\n",
            "14/80 [====>.........................] - ETA: 10s - loss: 0.7940 - accuracy: 0.7362 - recall: 0.6095 - specificity: 0.9874 - f1_score: 0.7070\n",
            "Epoch 00008: saving model to checkpoint_model.h5\n",
            "15/80 [====>.........................] - ETA: 10s - loss: 0.8143 - accuracy: 0.7236 - recall: 0.5991 - specificity: 0.9863 - f1_score: 0.6950\n",
            "Epoch 00008: saving model to checkpoint_model.h5\n",
            "16/80 [=====>........................] - ETA: 10s - loss: 0.8114 - accuracy: 0.7225 - recall: 0.6000 - specificity: 0.9866 - f1_score: 0.6968\n",
            "Epoch 00008: saving model to checkpoint_model.h5\n",
            "17/80 [=====>........................] - ETA: 10s - loss: 0.8179 - accuracy: 0.7239 - recall: 0.6008 - specificity: 0.9869 - f1_score: 0.6988\n",
            "Epoch 00008: saving model to checkpoint_model.h5\n",
            "18/80 [=====>........................] - ETA: 9s - loss: 0.8205 - accuracy: 0.7200 - recall: 0.5956 - specificity: 0.9869 - f1_score: 0.6946 \n",
            "Epoch 00008: saving model to checkpoint_model.h5\n",
            "19/80 [======>.......................] - ETA: 9s - loss: 0.8206 - accuracy: 0.7172 - recall: 0.5972 - specificity: 0.9866 - f1_score: 0.6947\n",
            "Epoch 00008: saving model to checkpoint_model.h5\n",
            "20/80 [======>.......................] - ETA: 9s - loss: 0.8198 - accuracy: 0.7167 - recall: 0.5967 - specificity: 0.9864 - f1_score: 0.6935\n",
            "Epoch 00008: saving model to checkpoint_model.h5\n",
            "21/80 [======>.......................] - ETA: 9s - loss: 0.8235 - accuracy: 0.7137 - recall: 0.5937 - specificity: 0.9863 - f1_score: 0.6910\n",
            "Epoch 00008: saving model to checkpoint_model.h5\n",
            "22/80 [=======>......................] - ETA: 9s - loss: 0.8149 - accuracy: 0.7152 - recall: 0.5970 - specificity: 0.9864 - f1_score: 0.6938\n",
            "Epoch 00008: saving model to checkpoint_model.h5\n",
            "23/80 [=======>......................] - ETA: 9s - loss: 0.8176 - accuracy: 0.7136 - recall: 0.5948 - specificity: 0.9863 - f1_score: 0.6917\n",
            "Epoch 00008: saving model to checkpoint_model.h5\n",
            "24/80 [========>.....................] - ETA: 9s - loss: 0.8106 - accuracy: 0.7156 - recall: 0.5972 - specificity: 0.9865 - f1_score: 0.6945\n",
            "Epoch 00008: saving model to checkpoint_model.h5\n",
            "25/80 [========>.....................] - ETA: 8s - loss: 0.8134 - accuracy: 0.7168 - recall: 0.5973 - specificity: 0.9867 - f1_score: 0.6951\n",
            "Epoch 00008: saving model to checkpoint_model.h5\n",
            "26/80 [========>.....................] - ETA: 8s - loss: 0.8093 - accuracy: 0.7195 - recall: 0.6000 - specificity: 0.9868 - f1_score: 0.6977\n",
            "Epoch 00008: saving model to checkpoint_model.h5\n",
            "27/80 [=========>....................] - ETA: 8s - loss: 0.8092 - accuracy: 0.7220 - recall: 0.6015 - specificity: 0.9868 - f1_score: 0.6986\n",
            "Epoch 00008: saving model to checkpoint_model.h5\n",
            "28/80 [=========>....................] - ETA: 8s - loss: 0.8077 - accuracy: 0.7224 - recall: 0.6024 - specificity: 0.9867 - f1_score: 0.6991\n",
            "Epoch 00008: saving model to checkpoint_model.h5\n",
            "29/80 [=========>....................] - ETA: 8s - loss: 0.8082 - accuracy: 0.7223 - recall: 0.6018 - specificity: 0.9866 - f1_score: 0.6983\n",
            "Epoch 00008: saving model to checkpoint_model.h5\n",
            "30/80 [==========>...................] - ETA: 8s - loss: 0.8109 - accuracy: 0.7218 - recall: 0.6013 - specificity: 0.9866 - f1_score: 0.6978\n",
            "Epoch 00008: saving model to checkpoint_model.h5\n",
            "31/80 [==========>...................] - ETA: 8s - loss: 0.8128 - accuracy: 0.7209 - recall: 0.6009 - specificity: 0.9866 - f1_score: 0.6974\n",
            "Epoch 00008: saving model to checkpoint_model.h5\n",
            "32/80 [===========>..................] - ETA: 8s - loss: 0.8193 - accuracy: 0.7196 - recall: 0.5983 - specificity: 0.9865 - f1_score: 0.6951\n",
            "Epoch 00008: saving model to checkpoint_model.h5\n",
            "33/80 [===========>..................] - ETA: 7s - loss: 0.8199 - accuracy: 0.7188 - recall: 0.5976 - specificity: 0.9865 - f1_score: 0.6948\n",
            "Epoch 00008: saving model to checkpoint_model.h5\n",
            "34/80 [===========>..................] - ETA: 7s - loss: 0.8192 - accuracy: 0.7169 - recall: 0.5976 - specificity: 0.9863 - f1_score: 0.6941\n",
            "Epoch 00008: saving model to checkpoint_model.h5\n",
            "35/80 [============>.................] - ETA: 7s - loss: 0.8234 - accuracy: 0.7158 - recall: 0.5977 - specificity: 0.9861 - f1_score: 0.6934\n",
            "Epoch 00008: saving model to checkpoint_model.h5\n",
            "36/80 [============>.................] - ETA: 7s - loss: 0.8254 - accuracy: 0.7148 - recall: 0.5952 - specificity: 0.9860 - f1_score: 0.6909\n",
            "Epoch 00008: saving model to checkpoint_model.h5\n",
            "37/80 [============>.................] - ETA: 7s - loss: 0.8251 - accuracy: 0.7146 - recall: 0.5942 - specificity: 0.9859 - f1_score: 0.6900\n",
            "Epoch 00008: saving model to checkpoint_model.h5\n",
            "38/80 [=============>................] - ETA: 7s - loss: 0.8271 - accuracy: 0.7144 - recall: 0.5947 - specificity: 0.9859 - f1_score: 0.6903\n",
            "Epoch 00008: saving model to checkpoint_model.h5\n",
            "39/80 [=============>................] - ETA: 6s - loss: 0.8249 - accuracy: 0.7166 - recall: 0.5959 - specificity: 0.9859 - f1_score: 0.6914\n",
            "Epoch 00008: saving model to checkpoint_model.h5\n",
            "40/80 [==============>...............] - ETA: 6s - loss: 0.8222 - accuracy: 0.7180 - recall: 0.5983 - specificity: 0.9861 - f1_score: 0.6937\n",
            "Epoch 00008: saving model to checkpoint_model.h5\n",
            "41/80 [==============>...............] - ETA: 6s - loss: 0.8230 - accuracy: 0.7184 - recall: 0.5987 - specificity: 0.9860 - f1_score: 0.6938\n",
            "Epoch 00008: saving model to checkpoint_model.h5\n",
            "42/80 [==============>...............] - ETA: 6s - loss: 0.8208 - accuracy: 0.7197 - recall: 0.5994 - specificity: 0.9862 - f1_score: 0.6949\n",
            "Epoch 00008: saving model to checkpoint_model.h5\n",
            "43/80 [===============>..............] - ETA: 6s - loss: 0.8232 - accuracy: 0.7178 - recall: 0.5963 - specificity: 0.9862 - f1_score: 0.6925\n",
            "Epoch 00008: saving model to checkpoint_model.h5\n",
            "44/80 [===============>..............] - ETA: 6s - loss: 0.8242 - accuracy: 0.7179 - recall: 0.5958 - specificity: 0.9863 - f1_score: 0.6925\n",
            "Epoch 00008: saving model to checkpoint_model.h5\n",
            "45/80 [===============>..............] - ETA: 5s - loss: 0.8290 - accuracy: 0.7156 - recall: 0.5935 - specificity: 0.9862 - f1_score: 0.6904\n",
            "Epoch 00008: saving model to checkpoint_model.h5\n",
            "46/80 [================>.............] - ETA: 5s - loss: 0.8273 - accuracy: 0.7154 - recall: 0.5928 - specificity: 0.9862 - f1_score: 0.6896\n",
            "Epoch 00008: saving model to checkpoint_model.h5\n",
            "47/80 [================>.............] - ETA: 5s - loss: 0.8285 - accuracy: 0.7155 - recall: 0.5918 - specificity: 0.9862 - f1_score: 0.6888\n",
            "Epoch 00008: saving model to checkpoint_model.h5\n",
            "48/80 [=================>............] - ETA: 5s - loss: 0.8245 - accuracy: 0.7183 - recall: 0.5936 - specificity: 0.9864 - f1_score: 0.6911\n",
            "Epoch 00008: saving model to checkpoint_model.h5\n",
            "49/80 [=================>............] - ETA: 5s - loss: 0.8230 - accuracy: 0.7197 - recall: 0.5937 - specificity: 0.9865 - f1_score: 0.6915\n",
            "Epoch 00008: saving model to checkpoint_model.h5\n",
            "50/80 [=================>............] - ETA: 5s - loss: 0.8219 - accuracy: 0.7195 - recall: 0.5931 - specificity: 0.9866 - f1_score: 0.6915\n",
            "Epoch 00008: saving model to checkpoint_model.h5\n",
            "51/80 [==================>...........] - ETA: 4s - loss: 0.8287 - accuracy: 0.7179 - recall: 0.5922 - specificity: 0.9865 - f1_score: 0.6903\n",
            "Epoch 00008: saving model to checkpoint_model.h5\n",
            "52/80 [==================>...........] - ETA: 4s - loss: 0.8302 - accuracy: 0.7167 - recall: 0.5915 - specificity: 0.9864 - f1_score: 0.6895\n",
            "Epoch 00008: saving model to checkpoint_model.h5\n",
            "53/80 [==================>...........] - ETA: 4s - loss: 0.8299 - accuracy: 0.7162 - recall: 0.5904 - specificity: 0.9864 - f1_score: 0.6889\n",
            "Epoch 00008: saving model to checkpoint_model.h5\n",
            "54/80 [===================>..........] - ETA: 4s - loss: 0.8288 - accuracy: 0.7163 - recall: 0.5916 - specificity: 0.9864 - f1_score: 0.6898\n",
            "Epoch 00008: saving model to checkpoint_model.h5\n",
            "55/80 [===================>..........] - ETA: 4s - loss: 0.8272 - accuracy: 0.7159 - recall: 0.5920 - specificity: 0.9864 - f1_score: 0.6899\n",
            "Epoch 00008: saving model to checkpoint_model.h5\n",
            "56/80 [====================>.........] - ETA: 4s - loss: 0.8263 - accuracy: 0.7160 - recall: 0.5919 - specificity: 0.9864 - f1_score: 0.6900\n",
            "Epoch 00008: saving model to checkpoint_model.h5\n",
            "57/80 [====================>.........] - ETA: 3s - loss: 0.8278 - accuracy: 0.7158 - recall: 0.5918 - specificity: 0.9863 - f1_score: 0.6896\n",
            "Epoch 00008: saving model to checkpoint_model.h5\n",
            "58/80 [====================>.........] - ETA: 3s - loss: 0.8302 - accuracy: 0.7149 - recall: 0.5910 - specificity: 0.9862 - f1_score: 0.6886\n",
            "Epoch 00008: saving model to checkpoint_model.h5\n",
            "59/80 [=====================>........] - ETA: 3s - loss: 0.8295 - accuracy: 0.7157 - recall: 0.5916 - specificity: 0.9862 - f1_score: 0.6890\n",
            "Epoch 00008: saving model to checkpoint_model.h5\n",
            "60/80 [=====================>........] - ETA: 3s - loss: 0.8288 - accuracy: 0.7149 - recall: 0.5918 - specificity: 0.9862 - f1_score: 0.6891\n",
            "Epoch 00008: saving model to checkpoint_model.h5\n",
            "61/80 [=====================>........] - ETA: 3s - loss: 0.8325 - accuracy: 0.7137 - recall: 0.5917 - specificity: 0.9861 - f1_score: 0.6887\n",
            "Epoch 00008: saving model to checkpoint_model.h5\n",
            "62/80 [======================>.......] - ETA: 3s - loss: 0.8316 - accuracy: 0.7135 - recall: 0.5920 - specificity: 0.9860 - f1_score: 0.6888\n",
            "Epoch 00008: saving model to checkpoint_model.h5\n",
            "63/80 [======================>.......] - ETA: 2s - loss: 0.8313 - accuracy: 0.7132 - recall: 0.5928 - specificity: 0.9860 - f1_score: 0.6892\n",
            "Epoch 00008: saving model to checkpoint_model.h5\n",
            "64/80 [=======================>......] - ETA: 2s - loss: 0.8362 - accuracy: 0.7121 - recall: 0.5915 - specificity: 0.9858 - f1_score: 0.6876\n",
            "Epoch 00008: saving model to checkpoint_model.h5\n",
            "65/80 [=======================>......] - ETA: 2s - loss: 0.8354 - accuracy: 0.7114 - recall: 0.5914 - specificity: 0.9858 - f1_score: 0.6873\n",
            "Epoch 00008: saving model to checkpoint_model.h5\n",
            "66/80 [=======================>......] - ETA: 2s - loss: 0.8361 - accuracy: 0.7115 - recall: 0.5919 - specificity: 0.9858 - f1_score: 0.6877\n",
            "Epoch 00008: saving model to checkpoint_model.h5\n",
            "67/80 [========================>.....] - ETA: 2s - loss: 0.8350 - accuracy: 0.7122 - recall: 0.5914 - specificity: 0.9858 - f1_score: 0.6876\n",
            "Epoch 00008: saving model to checkpoint_model.h5\n",
            "68/80 [========================>.....] - ETA: 2s - loss: 0.8332 - accuracy: 0.7125 - recall: 0.5925 - specificity: 0.9858 - f1_score: 0.6883\n",
            "Epoch 00008: saving model to checkpoint_model.h5\n",
            "69/80 [========================>.....] - ETA: 1s - loss: 0.8381 - accuracy: 0.7111 - recall: 0.5909 - specificity: 0.9856 - f1_score: 0.6864\n",
            "Epoch 00008: saving model to checkpoint_model.h5\n",
            "70/80 [=========================>....] - ETA: 1s - loss: 0.8410 - accuracy: 0.7091 - recall: 0.5891 - specificity: 0.9855 - f1_score: 0.6846\n",
            "Epoch 00008: saving model to checkpoint_model.h5\n",
            "71/80 [=========================>....] - ETA: 1s - loss: 0.8442 - accuracy: 0.7085 - recall: 0.5876 - specificity: 0.9854 - f1_score: 0.6831\n",
            "Epoch 00008: saving model to checkpoint_model.h5\n",
            "72/80 [==========================>...] - ETA: 1s - loss: 0.8444 - accuracy: 0.7078 - recall: 0.5870 - specificity: 0.9855 - f1_score: 0.6830\n",
            "Epoch 00008: saving model to checkpoint_model.h5\n",
            "73/80 [==========================>...] - ETA: 1s - loss: 0.8462 - accuracy: 0.7063 - recall: 0.5858 - specificity: 0.9855 - f1_score: 0.6818\n",
            "Epoch 00008: saving model to checkpoint_model.h5\n",
            "74/80 [==========================>...] - ETA: 1s - loss: 0.8467 - accuracy: 0.7056 - recall: 0.5850 - specificity: 0.9854 - f1_score: 0.6811\n",
            "Epoch 00008: saving model to checkpoint_model.h5\n",
            "75/80 [===========================>..] - ETA: 0s - loss: 0.8464 - accuracy: 0.7058 - recall: 0.5851 - specificity: 0.9855 - f1_score: 0.6812\n",
            "Epoch 00008: saving model to checkpoint_model.h5\n",
            "76/80 [===========================>..] - ETA: 0s - loss: 0.8471 - accuracy: 0.7051 - recall: 0.5847 - specificity: 0.9856 - f1_score: 0.6813\n",
            "Epoch 00008: saving model to checkpoint_model.h5\n",
            "77/80 [===========================>..] - ETA: 0s - loss: 0.8486 - accuracy: 0.7044 - recall: 0.5841 - specificity: 0.9856 - f1_score: 0.6809\n",
            "Epoch 00008: saving model to checkpoint_model.h5\n",
            "78/80 [============================>.] - ETA: 0s - loss: 0.8475 - accuracy: 0.7053 - recall: 0.5846 - specificity: 0.9856 - f1_score: 0.6813\n",
            "Epoch 00008: saving model to checkpoint_model.h5\n",
            "79/80 [============================>.] - ETA: 0s - loss: 0.8478 - accuracy: 0.7048 - recall: 0.5841 - specificity: 0.9856 - f1_score: 0.6809\n",
            "Epoch 00008: saving model to checkpoint_model.h5\n",
            "80/80 [==============================] - 16s 197ms/step - loss: 0.8474 - accuracy: 0.7048 - recall: 0.5843 - specificity: 0.9855 - f1_score: 0.6809 - val_loss: 1.2840 - val_accuracy: 0.5735 - val_recall: 0.4654 - val_specificity: 0.9760 - val_f1_score: 0.5530\n",
            "Epoch 00008: early stopping\n"
          ],
          "name": "stdout"
        }
      ]
    },
    {
      "cell_type": "markdown",
      "metadata": {
        "id": "aMDf4PtWnpEC"
      },
      "source": [
        "#### 5.\n",
        "Visualisasikan _error_ dari proses training yang diperoleh dari tiap $\\text{epoch}$ dan tampilkan matrik evaluasi ($\\text{accuration}$, $\\text{sensitivity}$, $\\text{specifity}$, dan $f_{1} \\text{ score}$) dari data test."
      ]
    },
    {
      "cell_type": "code",
      "metadata": {
        "id": "t8_a1m38nl8e",
        "outputId": "deb6c5e9-c014-4ffd-d34c-0b4560fb8162",
        "colab": {
          "base_uri": "https://localhost:8080/",
          "height": 80
        }
      },
      "source": [
        "predict_and_get_metrics(final_convolutional_model, x_test, y_test, label='Data Test')"
      ],
      "execution_count": 81,
      "outputs": [
        {
          "output_type": "execute_result",
          "data": {
            "text/html": [
              "<div>\n",
              "<style scoped>\n",
              "    .dataframe tbody tr th:only-of-type {\n",
              "        vertical-align: middle;\n",
              "    }\n",
              "\n",
              "    .dataframe tbody tr th {\n",
              "        vertical-align: top;\n",
              "    }\n",
              "\n",
              "    .dataframe thead th {\n",
              "        text-align: right;\n",
              "    }\n",
              "</style>\n",
              "<table border=\"1\" class=\"dataframe\">\n",
              "  <thead>\n",
              "    <tr style=\"text-align: right;\">\n",
              "      <th></th>\n",
              "      <th>Accuracy</th>\n",
              "      <th>Sensitivity</th>\n",
              "      <th>Specificity</th>\n",
              "      <th>F1 Score</th>\n",
              "    </tr>\n",
              "  </thead>\n",
              "  <tbody>\n",
              "    <tr>\n",
              "      <th>Data Test</th>\n",
              "      <td>0.5735</td>\n",
              "      <td>0.46375</td>\n",
              "      <td>0.975916</td>\n",
              "      <td>0.550272</td>\n",
              "    </tr>\n",
              "  </tbody>\n",
              "</table>\n",
              "</div>"
            ],
            "text/plain": [
              "           Accuracy  Sensitivity  Specificity  F1 Score\n",
              "Data Test    0.5735      0.46375     0.975916  0.550272"
            ]
          },
          "metadata": {
            "tags": []
          },
          "execution_count": 81
        }
      ]
    },
    {
      "cell_type": "code",
      "metadata": {
        "id": "ieBJk0MzAdcb",
        "outputId": "6eee847d-1154-4c8d-eab8-2274bbc66ad7",
        "colab": {
          "base_uri": "https://localhost:8080/",
          "height": 281
        }
      },
      "source": [
        "## Plot Training History\n",
        "plt.plot(history.history['loss'], label='train')\n",
        "plt.plot(history.history['val_loss'], label='test')\n",
        "plt.title('History Plot Error untuk Optimum Parameter Model')\n",
        "plt.legend()\n",
        "plt.show()"
      ],
      "execution_count": 82,
      "outputs": [
        {
          "output_type": "display_data",
          "data": {
            "image/png": "[encoded data removed]",
            "text/plain": [
              "<Figure size 432x288 with 1 Axes>"
            ]
          },
          "metadata": {
            "tags": [],
            "needs_background": "light"
          }
        }
      ]
    },
    {
      "cell_type": "markdown",
      "metadata": {
        "id": "yX94vmVUx2qi"
      },
      "source": [
        "#### 6.\n",
        "Gunakan _pre-trained_ model yg telah dibuat tersebut untuk diimplementasikan pada dataset $\\text{CIFAR 100}$ untuk kelas $1$ hingga kelas $10$ (masing-masing kelas terdiri dari\n",
        "$100$ citra) dengan rasio _data train_ dan _data test_ sebanyak $60\\% : 40\\%$. Kemudian hitung matrik evaluasi ($\\text{accuration}$, $\\text{sensitivity}$, $\\text{specifity}$, dan $f_{1}\\text{ score}$) dari _data train_ dan _data test_."
      ]
    },
    {
      "cell_type": "markdown",
      "metadata": {
        "id": "GQgmi0nUzkJM"
      },
      "source": [
        "##### Load Data CIFAR 100"
      ]
    },
    {
      "cell_type": "code",
      "metadata": {
        "id": "SE-tc_jToB0v",
        "outputId": "38ee4f63-f437-436a-ee07-70eb2ca2484f",
        "colab": {
          "base_uri": "https://localhost:8080/"
        }
      },
      "source": [
        "x_100, y_100 = load_dataset_cifar100()\n",
        "x_100.shape"
      ],
      "execution_count": 83,
      "outputs": [
        {
          "output_type": "execute_result",
          "data": {
            "text/plain": [
              "(60000, 32, 32, 3)"
            ]
          },
          "metadata": {
            "tags": []
          },
          "execution_count": 83
        }
      ]
    },
    {
      "cell_type": "markdown",
      "metadata": {
        "id": "if9E1bWMz0A5"
      },
      "source": [
        "##### Mengambil Dataset Sebanyak 100 Per Kelasnya"
      ]
    },
    {
      "cell_type": "code",
      "metadata": {
        "id": "3s7Ne_JXzpra"
      },
      "source": [
        "idx_sample_100 = np.array([],dtype=int)\n",
        "\n",
        "for i in range(10):\n",
        "    idx = (y == i).reshape(x.shape[0])\n",
        "    idx_data = np.where(idx == True)\n",
        "    sampled_list = np.random.choice(idx_data[0], size=100, replace=False)\n",
        "    idx_sample_100 = np.concatenate((idx_sample_100, sampled_list), axis=0)"
      ],
      "execution_count": 190,
      "outputs": []
    },
    {
      "cell_type": "markdown",
      "metadata": {
        "id": "Q8oHYb840RIb"
      },
      "source": [
        "##### Melakukan Validasi Apakah Shape-nya Sudah Valid atau Belum"
      ]
    },
    {
      "cell_type": "code",
      "metadata": {
        "id": "5RLLMzSMz9ng",
        "outputId": "426cda32-6bca-4cb4-a154-f9a3f1712add",
        "colab": {
          "base_uri": "https://localhost:8080/"
        }
      },
      "source": [
        "x_sample_100 = x[idx_sample_100]\n",
        "y_sample_100 = y[idx_sample_100]\n",
        "x_sample_100.shape, y_sample_100.shape"
      ],
      "execution_count": 193,
      "outputs": [
        {
          "output_type": "execute_result",
          "data": {
            "text/plain": [
              "((1000, 32, 32, 3), (1000, 1))"
            ]
          },
          "metadata": {
            "tags": []
          },
          "execution_count": 193
        }
      ]
    },
    {
      "cell_type": "markdown",
      "metadata": {
        "id": "ObThLqAm0fT6"
      },
      "source": [
        "##### Melakukan Normalisasi untuk $x$"
      ]
    },
    {
      "cell_type": "code",
      "metadata": {
        "id": "r3PzFC-U0XJX"
      },
      "source": [
        "x_sample_100 = normalize(x_sample_100)"
      ],
      "execution_count": 194,
      "outputs": []
    },
    {
      "cell_type": "markdown",
      "metadata": {
        "id": "wSUze6Hn0jIj"
      },
      "source": [
        "##### Merubah Menjadi Matrix Binary untuk $y$"
      ]
    },
    {
      "cell_type": "code",
      "metadata": {
        "id": "0lUkOWj_0oA-"
      },
      "source": [
        "y_sample_100 = tf.keras.utils.to_categorical(y_sample_100)"
      ],
      "execution_count": 195,
      "outputs": []
    },
    {
      "cell_type": "markdown",
      "metadata": {
        "id": "svmZMqY60t0T"
      },
      "source": [
        "##### Memecah Menjadi 60 : 40 ~ Train : Test"
      ]
    },
    {
      "cell_type": "code",
      "metadata": {
        "id": "mSsfU27X0tAT"
      },
      "source": [
        "x_train_100, x_test_100, y_train_100, y_test_100 = train_test_split(x_sample_100, y_sample_100, test_size=0.4)"
      ],
      "execution_count": 196,
      "outputs": []
    },
    {
      "cell_type": "markdown",
      "metadata": {
        "id": "NjI-gw5g2G7F"
      },
      "source": [
        "##### Melakukan Evaluasi Pre-Trained Model dari Train Sebelumnya"
      ]
    },
    {
      "cell_type": "code",
      "metadata": {
        "id": "JZ28E1dZ027O",
        "outputId": "f2d8e45e-4c3d-4ffb-fca0-e4059cff1774",
        "colab": {
          "base_uri": "https://localhost:8080/",
          "height": 111
        }
      },
      "source": [
        "pre_trained_model = load_model('checkpoint_model.h5', compile=True, custom_objects={\n",
        "    \"recall\": recall,\n",
        "    \"specificity\": specificity,\n",
        "    \"f1_score\": f1_score\n",
        "})\n",
        "compare_train_and_test(pre_trained_model, x_train_100, y_train_100, x_test_100, y_test_100)"
      ],
      "execution_count": 197,
      "outputs": [
        {
          "output_type": "execute_result",
          "data": {
            "text/html": [
              "<div>\n",
              "<style scoped>\n",
              "    .dataframe tbody tr th:only-of-type {\n",
              "        vertical-align: middle;\n",
              "    }\n",
              "\n",
              "    .dataframe tbody tr th {\n",
              "        vertical-align: top;\n",
              "    }\n",
              "\n",
              "    .dataframe thead th {\n",
              "        text-align: right;\n",
              "    }\n",
              "</style>\n",
              "<table border=\"1\" class=\"dataframe\">\n",
              "  <thead>\n",
              "    <tr style=\"text-align: right;\">\n",
              "      <th></th>\n",
              "      <th>Accuracy</th>\n",
              "      <th>Sensitivity</th>\n",
              "      <th>Specificity</th>\n",
              "      <th>F1 Score</th>\n",
              "    </tr>\n",
              "  </thead>\n",
              "  <tbody>\n",
              "    <tr>\n",
              "      <th>Data Train</th>\n",
              "      <td>0.573333</td>\n",
              "      <td>0.444079</td>\n",
              "      <td>0.974903</td>\n",
              "      <td>0.530519</td>\n",
              "    </tr>\n",
              "    <tr>\n",
              "      <th>Data Test</th>\n",
              "      <td>0.550000</td>\n",
              "      <td>0.456731</td>\n",
              "      <td>0.975160</td>\n",
              "      <td>0.541458</td>\n",
              "    </tr>\n",
              "  </tbody>\n",
              "</table>\n",
              "</div>"
            ],
            "text/plain": [
              "             Accuracy  Sensitivity  Specificity  F1 Score\n",
              "Data Train   0.573333     0.444079     0.974903  0.530519\n",
              "Data Test    0.550000     0.456731     0.975160  0.541458"
            ]
          },
          "metadata": {
            "tags": []
          },
          "execution_count": 197
        }
      ]
    },
    {
      "cell_type": "markdown",
      "metadata": {
        "id": "boydKZeV_VaB"
      },
      "source": [
        "#### 7.\n",
        "Buat arsitektur $\\text{Convolutional Neural Network}$ yang baru dengan menggunakan semua _hidden layer pre-trained_ dari model sebelumnya, lakukan _freezing_ pada semua _hidden layer_ tersebut, lalu ganti _layer output_ $\\text{softmax}$ dengan layer baru."
      ]
    },
    {
      "cell_type": "code",
      "metadata": {
        "id": "kZnk38km2WoL"
      },
      "source": [
        "## Fungsi untuk melakukan freeze pada layer\n",
        "def make_freeze(layer):\n",
        "    layer.trainable = False\n",
        "    return layer\n",
        "\n",
        "## Melakukan copy untuk semua layer\n",
        "copy_layers = [make_freeze(layer) for layer in pre_trained_model.layers]\n",
        "\n",
        "## Me-replace ouput layer dengan layer baru dan trainable\n",
        "copy_layers[-1] = Dense(10, activation=tf.nn.softmax)\n",
        "\n",
        "## Membangun Model\n",
        "new_cnn_model = create_model(0.0025, copy_layers)"
      ],
      "execution_count": 198,
      "outputs": []
    },
    {
      "cell_type": "markdown",
      "metadata": {
        "id": "eLMCF_C8Zly4"
      },
      "source": [
        "#### 8.\n",
        "Implementasikan model poin $(7)$ pada dataset $\\text{CIFAR 100}$ untuk kelas $1$ hingga kelas $10$ dengan rasio _data train_ dan _data test_ sebanyak $60\\% : 40\\%$. Kemudian hitung matrik evaluasi ($\\text{accuration}$, $\\text{sensitivity}$, $\\text{specificity}$, dan $f_{1}\\text{ score}$) dari _data train_ dan _data test_."
      ]
    },
    {
      "cell_type": "markdown",
      "metadata": {
        "id": "umCu24Z9bhrA"
      },
      "source": [
        "##### Melakukan Train pada Model CNN Baru"
      ]
    },
    {
      "cell_type": "code",
      "metadata": {
        "id": "BvBAH0_cpirq"
      },
      "source": [
        "## Mendefinisikan Early Stopping untuk Semua Model CNN Checkpoint dan Seterusnya\n",
        "## Menambah Parameter Patience karena Data Training Lebih Sedikit Sehingga Tidak Terlalu Masalah untuk Melakukan Iterasi Epoch Lebih Banyak Karena Proses Train Akan 100 kali Lebih Cepat dibandingkan Sebelumnya \n",
        "new_es = EarlyStopping(monitor='val_loss', mode='min', verbose=1)"
      ],
      "execution_count": 199,
      "outputs": []
    },
    {
      "cell_type": "code",
      "metadata": {
        "id": "f2T7c_G3WoQN",
        "outputId": "517895c6-580d-4685-b87b-66339320b7e9",
        "colab": {
          "base_uri": "https://localhost:8080/"
        }
      },
      "source": [
        "checkpoint = ModelCheckpoint(\"checkpoint_new_cnn_model.h5\", monitor='loss', verbose=0, mode='auto', save_freq=1)\n",
        "\n",
        "## Menurunkan jumlah batch seiring dengan berkurangnya jumlah data train\n",
        "new_cnn_model_history = new_cnn_model.fit(x_train_100, y_train_100, epochs=100, batch_size=25, validation_data=(x_test_100, y_test_100), use_multiprocessing=True, callbacks=[new_es, checkpoint], verbose=1)"
      ],
      "execution_count": 200,
      "outputs": [
        {
          "output_type": "stream",
          "text": [
            "Epoch 1/100\n",
            "24/24 [==============================] - 1s 57ms/step - loss: 3.3672 - accuracy: 0.1233 - recall: 0.0167 - specificity: 0.9744 - f1_score: 0.0263 - val_loss: 2.8560 - val_accuracy: 0.1675 - val_recall: 0.0150 - val_specificity: 0.9911 - val_f1_score: 0.0268\n",
            "Epoch 2/100\n",
            "24/24 [==============================] - 1s 45ms/step - loss: 2.4733 - accuracy: 0.2033 - recall: 0.0350 - specificity: 0.9911 - f1_score: 0.0616 - val_loss: 2.2938 - val_accuracy: 0.2475 - val_recall: 0.0325 - val_specificity: 0.9925 - val_f1_score: 0.0581\n",
            "Epoch 3/100\n",
            "24/24 [==============================] - 1s 47ms/step - loss: 2.0104 - accuracy: 0.2883 - recall: 0.0583 - specificity: 0.9911 - f1_score: 0.1005 - val_loss: 1.9557 - val_accuracy: 0.3025 - val_recall: 0.0725 - val_specificity: 0.9925 - val_f1_score: 0.1254\n",
            "Epoch 4/100\n",
            "24/24 [==============================] - 1s 46ms/step - loss: 1.7307 - accuracy: 0.3550 - recall: 0.0750 - specificity: 0.9924 - f1_score: 0.1269 - val_loss: 1.7309 - val_accuracy: 0.4000 - val_recall: 0.1175 - val_specificity: 0.9931 - val_f1_score: 0.1942\n",
            "Epoch 5/100\n",
            "24/24 [==============================] - 1s 57ms/step - loss: 1.5655 - accuracy: 0.4433 - recall: 0.1117 - specificity: 0.9906 - f1_score: 0.1831 - val_loss: 1.6081 - val_accuracy: 0.4525 - val_recall: 0.1625 - val_specificity: 0.9922 - val_f1_score: 0.2545\n",
            "Epoch 6/100\n",
            "24/24 [==============================] - 1s 47ms/step - loss: 1.4584 - accuracy: 0.4867 - recall: 0.1750 - specificity: 0.9898 - f1_score: 0.2735 - val_loss: 1.5185 - val_accuracy: 0.4725 - val_recall: 0.1950 - val_specificity: 0.9919 - val_f1_score: 0.2986\n",
            "Epoch 7/100\n",
            "24/24 [==============================] - 1s 45ms/step - loss: 1.3909 - accuracy: 0.5083 - recall: 0.2317 - specificity: 0.9904 - f1_score: 0.3445 - val_loss: 1.4656 - val_accuracy: 0.5000 - val_recall: 0.2500 - val_specificity: 0.9903 - val_f1_score: 0.3684\n",
            "Epoch 8/100\n",
            "24/24 [==============================] - 1s 44ms/step - loss: 1.3326 - accuracy: 0.5183 - recall: 0.2600 - specificity: 0.9891 - f1_score: 0.3771 - val_loss: 1.4161 - val_accuracy: 0.5175 - val_recall: 0.2800 - val_specificity: 0.9917 - val_f1_score: 0.4056\n",
            "Epoch 9/100\n",
            "24/24 [==============================] - 1s 44ms/step - loss: 1.2993 - accuracy: 0.5283 - recall: 0.2850 - specificity: 0.9883 - f1_score: 0.4065 - val_loss: 1.3888 - val_accuracy: 0.5325 - val_recall: 0.2925 - val_specificity: 0.9908 - val_f1_score: 0.4185\n",
            "Epoch 10/100\n",
            "24/24 [==============================] - 1s 43ms/step - loss: 1.2676 - accuracy: 0.5600 - recall: 0.3000 - specificity: 0.9874 - f1_score: 0.4180 - val_loss: 1.3686 - val_accuracy: 0.5450 - val_recall: 0.3075 - val_specificity: 0.9897 - val_f1_score: 0.4327\n",
            "Epoch 11/100\n",
            "24/24 [==============================] - 1s 44ms/step - loss: 1.2413 - accuracy: 0.5650 - recall: 0.3150 - specificity: 0.9876 - f1_score: 0.4386 - val_loss: 1.3426 - val_accuracy: 0.5450 - val_recall: 0.3250 - val_specificity: 0.9889 - val_f1_score: 0.4504\n",
            "Epoch 12/100\n",
            "24/24 [==============================] - 1s 44ms/step - loss: 1.2192 - accuracy: 0.5850 - recall: 0.3383 - specificity: 0.9881 - f1_score: 0.4640 - val_loss: 1.3365 - val_accuracy: 0.5475 - val_recall: 0.3400 - val_specificity: 0.9889 - val_f1_score: 0.4664\n",
            "Epoch 13/100\n",
            "24/24 [==============================] - 1s 44ms/step - loss: 1.2065 - accuracy: 0.5767 - recall: 0.3483 - specificity: 0.9872 - f1_score: 0.4704 - val_loss: 1.3267 - val_accuracy: 0.5600 - val_recall: 0.3450 - val_specificity: 0.9861 - val_f1_score: 0.4648\n",
            "Epoch 14/100\n",
            "24/24 [==============================] - 1s 49ms/step - loss: 1.1935 - accuracy: 0.5883 - recall: 0.3617 - specificity: 0.9874 - f1_score: 0.4876 - val_loss: 1.3037 - val_accuracy: 0.5625 - val_recall: 0.3600 - val_specificity: 0.9875 - val_f1_score: 0.4831\n",
            "Epoch 15/100\n",
            "24/24 [==============================] - 1s 44ms/step - loss: 1.1781 - accuracy: 0.5950 - recall: 0.3717 - specificity: 0.9867 - f1_score: 0.4936 - val_loss: 1.3034 - val_accuracy: 0.5700 - val_recall: 0.3850 - val_specificity: 0.9869 - val_f1_score: 0.5068\n",
            "Epoch 16/100\n",
            "24/24 [==============================] - 1s 44ms/step - loss: 1.1694 - accuracy: 0.5967 - recall: 0.3767 - specificity: 0.9870 - f1_score: 0.5003 - val_loss: 1.2910 - val_accuracy: 0.5750 - val_recall: 0.3750 - val_specificity: 0.9858 - val_f1_score: 0.4942\n",
            "Epoch 17/100\n",
            "24/24 [==============================] - 1s 44ms/step - loss: 1.1660 - accuracy: 0.5983 - recall: 0.3867 - specificity: 0.9863 - f1_score: 0.5094 - val_loss: 1.2945 - val_accuracy: 0.5675 - val_recall: 0.3975 - val_specificity: 0.9856 - val_f1_score: 0.5166\n",
            "Epoch 00017: early stopping\n"
          ],
          "name": "stdout"
        }
      ]
    },
    {
      "cell_type": "markdown",
      "metadata": {
        "id": "JG_xUITrbnWD"
      },
      "source": [
        "##### Menghitung Matrik Evaluasi Model CNN Baru"
      ]
    },
    {
      "cell_type": "code",
      "metadata": {
        "id": "HXuLuLshbO4b",
        "outputId": "88370983-c6aa-4af6-ba87-4ac358b4a04f",
        "colab": {
          "base_uri": "https://localhost:8080/",
          "height": 111
        }
      },
      "source": [
        "compare_train_and_test(new_cnn_model, x_train_100, y_train_100, x_test_100, y_test_100)"
      ],
      "execution_count": 201,
      "outputs": [
        {
          "output_type": "execute_result",
          "data": {
            "text/html": [
              "<div>\n",
              "<style scoped>\n",
              "    .dataframe tbody tr th:only-of-type {\n",
              "        vertical-align: middle;\n",
              "    }\n",
              "\n",
              "    .dataframe tbody tr th {\n",
              "        vertical-align: top;\n",
              "    }\n",
              "\n",
              "    .dataframe thead th {\n",
              "        text-align: right;\n",
              "    }\n",
              "</style>\n",
              "<table border=\"1\" class=\"dataframe\">\n",
              "  <thead>\n",
              "    <tr style=\"text-align: right;\">\n",
              "      <th></th>\n",
              "      <th>Accuracy</th>\n",
              "      <th>Sensitivity</th>\n",
              "      <th>Specificity</th>\n",
              "      <th>F1 Score</th>\n",
              "    </tr>\n",
              "  </thead>\n",
              "  <tbody>\n",
              "    <tr>\n",
              "      <th>Data Train</th>\n",
              "      <td>0.611667</td>\n",
              "      <td>0.397478</td>\n",
              "      <td>0.986659</td>\n",
              "      <td>0.517939</td>\n",
              "    </tr>\n",
              "    <tr>\n",
              "      <th>Data Test</th>\n",
              "      <td>0.567500</td>\n",
              "      <td>0.391827</td>\n",
              "      <td>0.985844</td>\n",
              "      <td>0.511378</td>\n",
              "    </tr>\n",
              "  </tbody>\n",
              "</table>\n",
              "</div>"
            ],
            "text/plain": [
              "             Accuracy  Sensitivity  Specificity  F1 Score\n",
              "Data Train   0.611667     0.397478     0.986659  0.517939\n",
              "Data Test    0.567500     0.391827     0.985844  0.511378"
            ]
          },
          "metadata": {
            "tags": []
          },
          "execution_count": 201
        }
      ]
    },
    {
      "cell_type": "markdown",
      "metadata": {
        "id": "SnBZO7pdkAqx"
      },
      "source": [
        "##### Melakukan _Plotting Error_"
      ]
    },
    {
      "cell_type": "code",
      "metadata": {
        "id": "tTXjP5NBkEIr",
        "outputId": "07f7cbbc-246c-4dac-e90f-44ecb8bf3442",
        "colab": {
          "base_uri": "https://localhost:8080/",
          "height": 281
        }
      },
      "source": [
        "## Plot Training History\n",
        "plt.plot(new_cnn_model_history.history['loss'], label='train')\n",
        "plt.plot(new_cnn_model_history.history['val_loss'], label='test')\n",
        "plt.title('History Plot Error untuk Optimum Parameter Model CNN Baru')\n",
        "plt.grid()\n",
        "plt.legend()\n",
        "plt.show()"
      ],
      "execution_count": 202,
      "outputs": [
        {
          "output_type": "display_data",
          "data": {
            "image/png": "[encoded data removed]",
            "text/plain": [
              "<Figure size 432x288 with 1 Axes>"
            ]
          },
          "metadata": {
            "tags": [],
            "needs_background": "light"
          }
        }
      ]
    },
    {
      "cell_type": "markdown",
      "metadata": {
        "id": "4_y3I48gcB_A"
      },
      "source": [
        "#### 9.\n",
        "Lalu lakukan _unfreeze_ pada satu _hidden layer_ ($\\text{conv-pool-actv}$) paling atas dan lakukan kembali proses training menggunakan deskripsi data yang sama dengan poin $(8)$. Bagaimana hasil yang diperoleh dari perubahan ini?"
      ]
    },
    {
      "cell_type": "markdown",
      "metadata": {
        "id": "vd2rljaicNzF"
      },
      "source": [
        "##### Melakukan _unfreeze_ pada satu _hidden layer_ paling atas"
      ]
    },
    {
      "cell_type": "code",
      "metadata": {
        "id": "-5bB-T98b8zc"
      },
      "source": [
        "## Disclaimer: Asumsi model-nya sama dengan (8)\n",
        "## Melakukan unfreeze pada hidden layer paling atas\n",
        "new_cnn_model.layers[0].trainable = True"
      ],
      "execution_count": 203,
      "outputs": []
    },
    {
      "cell_type": "markdown",
      "metadata": {
        "id": "YDNGIwEzj4I0"
      },
      "source": [
        "##### Melanjutkan Proses Train"
      ]
    },
    {
      "cell_type": "code",
      "metadata": {
        "id": "DCC5hiRsj25_",
        "outputId": "485fe26a-40e6-4967-e7f6-3e86580b32f7",
        "colab": {
          "base_uri": "https://localhost:8080/"
        }
      },
      "source": [
        "checkpoint = ModelCheckpoint(\"checkpoint_new_cnn_model_phase_2.h5\", monitor='loss', verbose=0, mode='auto', save_freq=1)\n",
        "new_cnn_model_history_phase_2 = new_cnn_model.fit(x_train_100, y_train_100, epochs=100, batch_size=25, validation_data=(x_test_100, y_test_100), use_multiprocessing=True, callbacks=[new_es, checkpoint])"
      ],
      "execution_count": 204,
      "outputs": [
        {
          "output_type": "stream",
          "text": [
            "Epoch 1/100\n",
            "24/24 [==============================] - 1s 46ms/step - loss: 1.1595 - accuracy: 0.6033 - recall: 0.4017 - specificity: 0.9856 - f1_score: 0.5201 - val_loss: 1.2792 - val_accuracy: 0.5850 - val_recall: 0.3900 - val_specificity: 0.9861 - val_f1_score: 0.5106\n",
            "Epoch 2/100\n",
            "24/24 [==============================] - 1s 44ms/step - loss: 1.1536 - accuracy: 0.6083 - recall: 0.3917 - specificity: 0.9863 - f1_score: 0.5130 - val_loss: 1.2835 - val_accuracy: 0.5825 - val_recall: 0.4000 - val_specificity: 0.9836 - val_f1_score: 0.5140\n",
            "Epoch 00002: early stopping\n"
          ],
          "name": "stdout"
        }
      ]
    },
    {
      "cell_type": "markdown",
      "metadata": {
        "id": "44t3vuKDk9jC"
      },
      "source": [
        "##### Menghitung Matrik Evaluasi Model CNN Baru Phase 2"
      ]
    },
    {
      "cell_type": "code",
      "metadata": {
        "id": "63Q7nq_4ky5j",
        "outputId": "62635a2a-447d-495f-ada2-3320e47b18e6",
        "colab": {
          "base_uri": "https://localhost:8080/",
          "height": 111
        }
      },
      "source": [
        "compare_train_and_test(new_cnn_model, x_train_100, y_train_100, x_test_100, y_test_100)"
      ],
      "execution_count": 205,
      "outputs": [
        {
          "output_type": "execute_result",
          "data": {
            "text/html": [
              "<div>\n",
              "<style scoped>\n",
              "    .dataframe tbody tr th:only-of-type {\n",
              "        vertical-align: middle;\n",
              "    }\n",
              "\n",
              "    .dataframe tbody tr th {\n",
              "        vertical-align: top;\n",
              "    }\n",
              "\n",
              "    .dataframe thead th {\n",
              "        text-align: right;\n",
              "    }\n",
              "</style>\n",
              "<table border=\"1\" class=\"dataframe\">\n",
              "  <thead>\n",
              "    <tr style=\"text-align: right;\">\n",
              "      <th></th>\n",
              "      <th>Accuracy</th>\n",
              "      <th>Sensitivity</th>\n",
              "      <th>Specificity</th>\n",
              "      <th>F1 Score</th>\n",
              "    </tr>\n",
              "  </thead>\n",
              "  <tbody>\n",
              "    <tr>\n",
              "      <th>Data Train</th>\n",
              "      <td>0.6150</td>\n",
              "      <td>0.417215</td>\n",
              "      <td>0.987268</td>\n",
              "      <td>0.539685</td>\n",
              "    </tr>\n",
              "    <tr>\n",
              "      <th>Data Test</th>\n",
              "      <td>0.5825</td>\n",
              "      <td>0.394231</td>\n",
              "      <td>0.983440</td>\n",
              "      <td>0.507157</td>\n",
              "    </tr>\n",
              "  </tbody>\n",
              "</table>\n",
              "</div>"
            ],
            "text/plain": [
              "             Accuracy  Sensitivity  Specificity  F1 Score\n",
              "Data Train     0.6150     0.417215     0.987268  0.539685\n",
              "Data Test      0.5825     0.394231     0.983440  0.507157"
            ]
          },
          "metadata": {
            "tags": []
          },
          "execution_count": 205
        }
      ]
    },
    {
      "cell_type": "markdown",
      "metadata": {
        "id": "P5vHtxDRlG8t"
      },
      "source": [
        "##### Melakukan _Plotting Error Phase 2_"
      ]
    },
    {
      "cell_type": "code",
      "metadata": {
        "id": "s9RFyMHulBYO",
        "outputId": "0df285a0-3e3c-4652-e506-fecf97591e6c",
        "colab": {
          "base_uri": "https://localhost:8080/",
          "height": 281
        }
      },
      "source": [
        "## Plot Training History\n",
        "plt.plot(new_cnn_model_history_phase_2.history['loss'], label='train')\n",
        "plt.plot(new_cnn_model_history_phase_2.history['val_loss'], label='test')\n",
        "plt.title('History Plot Error untuk Optimum Parameter Model CNN Baru Fase 2')\n",
        "plt.legend()\n",
        "plt.show()"
      ],
      "execution_count": 206,
      "outputs": [
        {
          "output_type": "display_data",
          "data": {
            "image/png": "[encoded data removed]",
            "text/plain": [
              "<Figure size 432x288 with 1 Axes>"
            ]
          },
          "metadata": {
            "tags": [],
            "needs_background": "light"
          }
        }
      ]
    },
    {
      "cell_type": "markdown",
      "metadata": {
        "id": "poQVrXcluAU4"
      },
      "source": [
        "##### Laporan Hasil"
      ]
    },
    {
      "cell_type": "markdown",
      "metadata": {
        "id": "XGL03QGktidP"
      },
      "source": [
        "Berdasarkan hasil train yang terakhir, melakukan _unfreeze_ pada layer paling depat tidak memberikan perubahan hasil metrik yang _significant_ dan cenderung sama dengan hasil saat semua layer kecuali _output layer_ di-_freeze_. Hal ini menunjukkan bahwa pembobotan _node_ sudah konvergen bahkan pada saat pertama kali _model_ ini di-_load_ dari _pre-trained_ model yang sudah dijalankan sebelumnya. Bahkan ketika _output layer_-nya di-inisialisasi ulang, hasil pembobotan setelah training menggunakan data $\\text{CIFAR 100}$ menghasilkan akurasi yang cenderung sama dengan hasil pembobotan dengan training menggunakan data $\\text{CIFAR 10}$."
      ]
    },
    {
      "cell_type": "markdown",
      "metadata": {
        "id": "C2Cq5Nn9u1Jk"
      },
      "source": [
        "#### 10.\n",
        "Tuliskan analisis anda terkait implementasi menggunakan **Transfer Learning**."
      ]
    },
    {
      "cell_type": "markdown",
      "metadata": {
        "id": "2D4FNnpUu7mV"
      },
      "source": [
        "- Karena dataset $\\text{CIFAR 10}$ dan $\\text{CIFAR 100}$ untuk kelas $1 - 10$ cenderung sama, memungkinkan bahwa melatih menggunakan kedua data tersebut dan melakukan uji menggunakan kedua data tersebut akan menghasilkan akurasi yang mirip untuk setiap jenis dataset.\n",
        "- Karena dataset $\\text{CIFAR 10}$ dan $\\text{CIFAR 100}$ untuk kelas $1 - 10$ cenderung sama pula, pada saat melakukan _transfer learning_ dari satu dataset ke dataset lainnya, pembobotan akan konvergen di akurasi yang cenderung sama pula. Bahkan apabila kita melakukan inisialisasi ulang pembobotan simpul pada _output layer_, pembobotan simpul pada _output layer_ akan menghasilkan model yang memiliki akurasi sebelum dilakukan pembobotan ulang simpul pada _output layer_.\n",
        "- Model yang sudah konvergen, apabila _hidden layer_ di-_freeze_ ataupun tidak di-_freeze_ tidak memberikan dampak signifikan dalam memberikan hasil evaluasi. Bahkan model yang sudah konvergen kemudian dilatih kembali menggunakan dataset yang mirip akan konvergen dalam beberapa _epoch_ saja pada saat melakukan _transfer learning_."
      ]
    },
    {
      "cell_type": "code",
      "metadata": {
        "id": "NYTd4M4IE84S"
      },
      "source": [
        ""
      ],
      "execution_count": null,
      "outputs": []
    }
  ]
}