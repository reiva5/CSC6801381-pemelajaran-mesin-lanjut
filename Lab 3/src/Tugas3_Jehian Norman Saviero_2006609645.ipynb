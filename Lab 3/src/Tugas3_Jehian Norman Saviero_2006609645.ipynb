{
  "nbformat": 4,
  "nbformat_minor": 0,
  "metadata": {
    "kernelspec": {
      "display_name": "Python 3",
      "language": "python",
      "name": "python3"
    },
    "language_info": {
      "codemirror_mode": {
        "name": "ipython",
        "version": 3
      },
      "file_extension": ".py",
      "mimetype": "text/x-python",
      "name": "python",
      "nbconvert_exporter": "python",
      "pygments_lexer": "ipython3",
      "version": "3.6.9"
    },
    "colab": {
      "name": "Tugas3_Jehian Norman Saviero_2006609645.ipynb",
      "provenance": []
    }
  },
  "cells": [
    {
      "cell_type": "code",
      "metadata": {
        "id": "Yd7Tu89UXts8"
      },
      "source": [
        "import numpy as np\n",
        "import matplotlib.pyplot as plt\n",
        "import pandas as pd\n",
        "import random\n",
        "import tensorflow as tf\n",
        "\n",
        "from sklearn.model_selection import train_test_split\n",
        "from skimage import color, exposure, filters, io, morphology, util\n",
        "from math import sqrt\n",
        "from numpy import loadtxt\n",
        "from tensorflow import keras\n",
        "from keras import backend as K\n",
        "from keras.callbacks import EarlyStopping, ModelCheckpoint\n",
        "from keras.models import Sequential, load_model\n",
        "from keras.layers import Conv2D, Dense, Dropout, Flatten, MaxPooling2D, Reshape\n",
        "from keras.optimizers import SGD"
      ],
      "execution_count": 1,
      "outputs": []
    },
    {
      "cell_type": "markdown",
      "metadata": {
        "id": "kVPkBzPOY3nD"
      },
      "source": [
        "### TRANSFER LEARNING"
      ]
    },
    {
      "cell_type": "markdown",
      "metadata": {
        "id": "-8f0GynyY9PB"
      },
      "source": [
        "#### 1.\n",
        "Bangun sebuah model $\\text{Convolutional Neural Network}$ dengan arsitektur dasar sebagai berikut :\n",
        "- Convolutional Layer ($25$ maps, kernel $3 \\times 3$)\n",
        "- Pooling Layer ($2 \\times 2$)\n",
        "- Activation Function ($\\text{ReLU function}$)\n",
        "- Convolutional Layer ($50$ maps, kernel $3 \\times 3$)\n",
        "- Pooling Layer ($2 \\times 2$)\n",
        "- Activation Function ($\\text{ReLU function}$)\n",
        "- Convolutional Layer ($100$ maps, kernel $3 \\times 3$)\n",
        "- Pooling Layer ($2 \\times 2$)\n",
        "- Activation Function ($\\text{ReLU function}$)\n",
        "- Hidden Layer ($100$ neuron)\n",
        "- Activation Function ($\\text{ReLU function}$)\n",
        "- Output Layer ($10$ kelas)\n",
        "- Activation Function ($\\text{Softmax function}$)\n",
        "- Classification Result\n",
        "\n",
        "Dengan tambahan beberapa seperti:\n",
        "- Adam optimization\n",
        "- Early Stop"
      ]
    },
    {
      "cell_type": "markdown",
      "metadata": {
        "id": "cRBOHdoNZwid"
      },
      "source": [
        "##### Mendefinisikan Fungsi Bantuan\n",
        "Untuk memudahkan implementasi, berikut beberapa fungsi bantuan yang akan dipakai"
      ]
    },
    {
      "cell_type": "markdown",
      "metadata": {
        "id": "Pu-1-wDXZ510"
      },
      "source": [
        "###### Menghitung $\\text{recall}$ atau $\\text{sensitivity}$\n",
        "$$\\text{recall} = \\frac{t_p}{t_p+t_n}$$"
      ]
    },
    {
      "cell_type": "code",
      "metadata": {
        "id": "73L3Si5GY8Bt"
      },
      "source": [
        "def recall(y_true, y_pred):\n",
        "    true_positives = K.sum(K.round(K.clip(y_true * y_pred, 0, 1)))\n",
        "    possible_positives = K.sum(K.round(K.clip(y_true, 0, 1)))\n",
        "    return true_positives / (possible_positives + K.epsilon())"
      ],
      "execution_count": 2,
      "outputs": []
    },
    {
      "cell_type": "markdown",
      "metadata": {
        "id": "vX56S8usaHok"
      },
      "source": [
        "###### Menghitung $\\text{precision}$\n",
        "$$\\text{precision} = \\frac{t_p}{t_p + f_p}$$"
      ]
    },
    {
      "cell_type": "code",
      "metadata": {
        "id": "b5R5nRHBaFxN"
      },
      "source": [
        "def precision(y_true, y_pred):\n",
        "    true_positives = K.sum(K.round(K.clip(y_true * y_pred, 0, 1)))\n",
        "    predicted_positives = K.sum(K.round(K.clip(y_pred, 0, 1)))\n",
        "    return true_positives / (predicted_positives + K.epsilon())"
      ],
      "execution_count": 3,
      "outputs": []
    },
    {
      "cell_type": "markdown",
      "metadata": {
        "id": "lSQF6ujjaR3u"
      },
      "source": [
        "###### Menghitung $\\text{specificity}$\n",
        "$$\\text{specificity} = \\frac{t_n}{t_n + f_p}$$"
      ]
    },
    {
      "cell_type": "code",
      "metadata": {
        "id": "HFNI1C0faMmF"
      },
      "source": [
        "def specificity(y_true, y_pred):\n",
        "    true_negatives = K.sum(K.round(K.clip((1 - y_true) * (1 - y_pred), 0, 1)))\n",
        "    possible_negatives = K.sum(K.round(K.clip(1 - y_true, 0, 1)))\n",
        "    return true_negatives / (possible_negatives + K.epsilon())"
      ],
      "execution_count": 4,
      "outputs": []
    },
    {
      "cell_type": "markdown",
      "metadata": {
        "id": "mTOySqnYaXMi"
      },
      "source": [
        "###### Menghitung $f_{1}\\text{ Score}$\n",
        "Kita tau bahwa\n",
        "$$f_{\\beta} = (1 + \\beta^{2}) \\cdot \\frac{\\text{precision} \\cdot \\text{recall}}{(\\beta^{2} \\cdot \\text{precision}) + \\text{recall}}$$\n",
        "Sehingga \n",
        "$$f_{1} = (1 + 1^{2}) \\cdot \\frac{\\text{precision} \\cdot \\text{recall}}{(1^{2} \\cdot \\text{precision}) + \\text{recall}}$$\n",
        "$$f_{1} = (2) \\cdot \\frac{\\text{precision} \\cdot \\text{recall}}{(\\text{precision}) + \\text{recall}}$$\n",
        "\n"
      ]
    },
    {
      "cell_type": "code",
      "metadata": {
        "id": "g29c08UWaVCZ"
      },
      "source": [
        "def f1_score(y_true, y_pred):\n",
        "    precision_val = precision(y_true, y_pred)\n",
        "    recall_val = recall(y_true, y_pred)\n",
        "    return 2*((precision_val * recall_val)/(precision_val + recall_val + K.epsilon()))"
      ],
      "execution_count": 5,
      "outputs": []
    },
    {
      "cell_type": "markdown",
      "metadata": {
        "id": "SJVCS5Q1aldQ"
      },
      "source": [
        "**n.b.: Semua fungsi pada bagian penyebut ditambah epsilon untuk menghindari dibagi $0$ dikarenakan memasukkan input sebanyak $0$**"
      ]
    },
    {
      "cell_type": "markdown",
      "metadata": {
        "id": "RJIOkA-caojX"
      },
      "source": [
        "###### Fungsi Bantuan untuk Melakukan Prediksi dan Menampilkan Metric"
      ]
    },
    {
      "cell_type": "code",
      "metadata": {
        "id": "PvFKE3jVagwj"
      },
      "source": [
        "def predict_and_get_metrics(model, x_test, y_test, label):\n",
        "    _, accuracy, sensitivity, specificity, score_f1 = model.evaluate(x_test, y_test, verbose=0)\n",
        "    return pd.DataFrame([[accuracy, sensitivity, specificity, score_f1]], columns=['Accuracy', 'Sensitivity', 'Specificity', 'F1 Score'], index=[label])\n",
        "\n",
        "def compare_train_and_test(model, x_train, y_train, x_test, y_test, extra_label=''):\n",
        "    metric_train = predict_and_get_metrics(model, x_train, y_train, 'Data Train %s' % (extra_label))\n",
        "    metric_test = predict_and_get_metrics(model, x_test, y_test, 'Data Test %s' % (extra_label))\n",
        "    return pd.concat([metric_train, metric_test])"
      ],
      "execution_count": 6,
      "outputs": []
    },
    {
      "cell_type": "markdown",
      "metadata": {
        "id": "E50lSCtWaxaP"
      },
      "source": [
        "###### Fungsi Bantuan untuk _Load Dataset_"
      ]
    },
    {
      "cell_type": "code",
      "metadata": {
        "id": "VRGsFnONasAe"
      },
      "source": [
        "def load_dataset_cifar10():\n",
        "\t(trainX, trainY), (testX, testY) = keras.datasets.cifar10.load_data()\n",
        "\treturn np.concatenate((trainX, testX), axis=0), np.concatenate((trainY, testY), axis=0)\n",
        " \n",
        "def load_dataset_cifar100():\n",
        "\t(trainX, trainY), (testX, testY) = keras.datasets.cifar100.load_data()\n",
        "\treturn np.concatenate((trainX, testX), axis=0), np.concatenate((trainY, testY), axis=0)"
      ],
      "execution_count": 7,
      "outputs": []
    },
    {
      "cell_type": "markdown",
      "metadata": {
        "id": "S2YPie55cC8B"
      },
      "source": [
        "##### Load Dataset"
      ]
    },
    {
      "cell_type": "code",
      "metadata": {
        "id": "De3BijFyavrp",
        "outputId": "371a7be9-6b0c-4b05-f2aa-10d5e46819c0",
        "colab": {
          "base_uri": "https://localhost:8080/"
        }
      },
      "source": [
        "x, y = load_dataset_cifar10()\n",
        "x.shape"
      ],
      "execution_count": 8,
      "outputs": [
        {
          "output_type": "stream",
          "text": [
            "Downloading data from https://www.cs.toronto.edu/~kriz/cifar-10-python.tar.gz\n",
            "170500096/170498071 [==============================] - 11s 0us/step\n"
          ],
          "name": "stdout"
        },
        {
          "output_type": "execute_result",
          "data": {
            "text/plain": [
              "(60000, 32, 32, 3)"
            ]
          },
          "metadata": {
            "tags": []
          },
          "execution_count": 8
        }
      ]
    },
    {
      "cell_type": "markdown",
      "metadata": {
        "id": "Ol1gGZn1tXcU"
      },
      "source": [
        "##### Mengambil Dataset Sebanyak 1000 Per Kelasnya"
      ]
    },
    {
      "cell_type": "code",
      "metadata": {
        "id": "ZwB8cxdRcktx"
      },
      "source": [
        "idx_sample = np.array([],dtype=int)\n",
        "\n",
        "for i in range(10):\n",
        "    idx = (y == i).reshape(x.shape[0])\n",
        "    idx_data = np.where(idx == True)\n",
        "    sampled_list = np.random.choice(idx_data[0], size=1000, replace=False)\n",
        "    idx_sample = np.concatenate((idx_sample, sampled_list), axis=0)"
      ],
      "execution_count": 9,
      "outputs": []
    },
    {
      "cell_type": "markdown",
      "metadata": {
        "id": "BdnYBQdXtl16"
      },
      "source": [
        "##### Melakukan Validasi Apakah Shape-nya Sudah Valid atau Belum"
      ]
    },
    {
      "cell_type": "code",
      "metadata": {
        "id": "O_LteF08dnoP",
        "outputId": "8fbee050-2fda-40e9-9caf-e99545b0bfbf",
        "colab": {
          "base_uri": "https://localhost:8080/"
        }
      },
      "source": [
        "x_sample = x[idx_sample]\n",
        "y_sample = y[idx_sample]\n",
        "x_sample.shape, y_sample.shape"
      ],
      "execution_count": 10,
      "outputs": [
        {
          "output_type": "execute_result",
          "data": {
            "text/plain": [
              "((10000, 32, 32, 3), (10000, 1))"
            ]
          },
          "metadata": {
            "tags": []
          },
          "execution_count": 10
        }
      ]
    },
    {
      "cell_type": "markdown",
      "metadata": {
        "id": "D2EMwzQyvRWE"
      },
      "source": [
        "##### Melakukan Normalisasi untuk $x$"
      ]
    },
    {
      "cell_type": "code",
      "metadata": {
        "id": "oyFNEK_pvVPA"
      },
      "source": [
        "def normalize(x):\n",
        "    return x / 255.0\n",
        "\n",
        "x_sample = normalize(x_sample)"
      ],
      "execution_count": 11,
      "outputs": []
    },
    {
      "cell_type": "markdown",
      "metadata": {
        "id": "2IeZh_cyu5tM"
      },
      "source": [
        "##### Merubah Menjadi Matrix Binary untuk $y$"
      ]
    },
    {
      "cell_type": "code",
      "metadata": {
        "id": "HWALf5B-vPM3"
      },
      "source": [
        "y_sample = tf.keras.utils.to_categorical(y_sample)"
      ],
      "execution_count": 12,
      "outputs": []
    },
    {
      "cell_type": "markdown",
      "metadata": {
        "id": "JPEUQiXyvjTT"
      },
      "source": [
        "##### Memecah Menjadi 60 : 40 ~ Train : Test"
      ]
    },
    {
      "cell_type": "code",
      "metadata": {
        "id": "q4zKyVvRvoJ4"
      },
      "source": [
        "x_train, x_test, y_train, y_test = train_test_split(x_sample, y_sample, test_size=0.4)"
      ],
      "execution_count": 13,
      "outputs": []
    },
    {
      "cell_type": "markdown",
      "metadata": {
        "id": "UupbLpNXtxff"
      },
      "source": [
        "##### Membangun Model Convolutional Neural Network"
      ]
    },
    {
      "cell_type": "code",
      "metadata": {
        "id": "OBc6Q_8ckvaL"
      },
      "source": [
        "def create_model(learning_rate, pre_defined_layers=[]):\n",
        "    convolutional_layers = []\n",
        "    if len(pre_defined_layers) == 0:\n",
        "        ## Convolutional Layers 25 map, 3 x 3, activation = relu\n",
        "        convolutional_layers.append(Conv2D(25, kernel_size=(3, 3), activation=tf.nn.relu, padding='SAME', kernel_initializer=tf.keras.initializers.HeUniform()))\n",
        "\n",
        "        ## Pooling Layer 2 x 2\n",
        "        convolutional_layers.append(MaxPooling2D(2,2))\n",
        "\n",
        "        ## Convolutional Layers 50 map, 3 x 3, activation = relu\n",
        "        convolutional_layers.append(Conv2D(50, kernel_size=(3, 3), activation=tf.nn.relu, padding='SAME', kernel_initializer=tf.keras.initializers.HeUniform()))\n",
        "\n",
        "        ## Pooling Layer 2 x 2\n",
        "        convolutional_layers.append(MaxPooling2D(2,2))\n",
        "\n",
        "        ## Convolutional Layers 100 map, 3 x 3, activation = relu\n",
        "        convolutional_layers.append(Conv2D(100, kernel_size=(3, 3), activation=tf.nn.relu, padding='SAME', kernel_initializer=tf.keras.initializers.HeUniform()))\n",
        "\n",
        "        ## Pooling Layer 2 x 2\n",
        "        convolutional_layers.append(MaxPooling2D(2,2))\n",
        "\n",
        "        convolutional_layers.append(Flatten())\n",
        "\n",
        "        ## Hidden Layer 100 node\n",
        "        convolutional_layers.append(Dense(100, activation=tf.nn.relu))\n",
        "\n",
        "        ## Output 10 class\n",
        "        convolutional_layers.append(Dense(10, activation=tf.nn.softmax))\n",
        "    else:\n",
        "        convolutional_layers = pre_defined_layers\n",
        "\n",
        "    ## Menginisialisasi instance model\n",
        "    convolutional_model = Sequential(convolutional_layers)\n",
        "\n",
        "    ## Membangun model\n",
        "    convolutional_model.build(input_shape=x_train.shape)\n",
        "\n",
        "    ## Melakukan Kompilasi ke dalam Model\n",
        "    convolutional_model.compile(\n",
        "    optimizer=tf.keras.optimizers.Adam(learning_rate=learning_rate),\n",
        "    loss='categorical_crossentropy',\n",
        "    metrics=[\n",
        "      'accuracy',\n",
        "      recall,\n",
        "      specificity,\n",
        "      f1_score\n",
        "    ])\n",
        "\n",
        "    return convolutional_model"
      ],
      "execution_count": 14,
      "outputs": []
    },
    {
      "cell_type": "markdown",
      "metadata": {
        "id": "tbAYmxNOu70R"
      },
      "source": [
        "##### Melakukan _fitting_ dengan $\\text{epochs} = 100$, $\\text{batch_size} = 10$, dan $\\text{learning_rate} = 0.1$, dan $\\text{Early Stopping}$"
      ]
    },
    {
      "cell_type": "code",
      "metadata": {
        "id": "0OAsbnblUGyr"
      },
      "source": [
        "## Mendefinisikan Early Stopping untuk Semua Model CNN Awal\n",
        "es = EarlyStopping(monitor='val_loss', mode='min', verbose=1)"
      ],
      "execution_count": 15,
      "outputs": []
    },
    {
      "cell_type": "code",
      "metadata": {
        "id": "b0vPHzTdyB67",
        "outputId": "6e2ee6db-2b58-46bd-af84-42cc38a45cef",
        "colab": {
          "base_uri": "https://localhost:8080/"
        }
      },
      "source": [
        "convolutional_model = create_model(0.1)\n",
        "convolutional_model.fit(x_train, y_train, epochs=100, batch_size=10, validation_data=(x_test, y_test), use_multiprocessing=True, callbacks=[es])"
      ],
      "execution_count": 16,
      "outputs": [
        {
          "output_type": "stream",
          "text": [
            "Epoch 1/100\n",
            "600/600 [==============================] - 15s 24ms/step - loss: 13.2559 - accuracy: 0.1015 - recall: 0.0022 - specificity: 0.9981 - f1_score: 0.0023 - val_loss: 2.3195 - val_accuracy: 0.1065 - val_recall: 0.0000e+00 - val_specificity: 1.0000 - val_f1_score: 0.0000e+00\n",
            "Epoch 2/100\n",
            "600/600 [==============================] - 15s 24ms/step - loss: 2.3247 - accuracy: 0.0990 - recall: 0.0000e+00 - specificity: 1.0000 - f1_score: 0.0000e+00 - val_loss: 2.3333 - val_accuracy: 0.0953 - val_recall: 0.0000e+00 - val_specificity: 1.0000 - val_f1_score: 0.0000e+00\n",
            "Epoch 00002: early stopping\n"
          ],
          "name": "stdout"
        },
        {
          "output_type": "execute_result",
          "data": {
            "text/plain": [
              "<tensorflow.python.keras.callbacks.History at 0x7fe59b3f9ef0>"
            ]
          },
          "metadata": {
            "tags": []
          },
          "execution_count": 16
        }
      ]
    },
    {
      "cell_type": "markdown",
      "metadata": {
        "id": "oeetNYtYv3ha"
      },
      "source": [
        "#### 3.\n",
        "Lakukan skenario eksperimen untuk mendapatkan metrik evaluasi optimal ($\\text{akurasi}$, $\\text{sensitivity}$, $\\text{specifity}$, dan $f_{1} \\text{ score}$) dengan mengubah parameter yaitu:\n",
        "1. Mengubah epoch, dengan $\\text{learning_rate} = 0.1$ dan $\\text\n",
        "{batch_number} = 10$.\n",
        "2. Mengubah jumlah $\\text{batch number}$ dengan $\\text{epoch}$ optimal dari skenario (1) dan $\\text{learning_rate} = 0.1$.\n",
        "3. Mengubah $\\text{learning_rate}$ dengan $\\text{epoch}$ optimal dari skenario (1) dan jumlah $\\text{batch_number}$ optimal dari skenario (2)."
      ]
    },
    {
      "cell_type": "markdown",
      "metadata": {
        "id": "fqK7vX6ExpeA"
      },
      "source": [
        "##### Melakukan Skenario 3.1. (Mengubah $\\text{epoch}$)"
      ]
    },
    {
      "cell_type": "markdown",
      "metadata": {
        "id": "iD-K6byWmwF9"
      },
      "source": [
        "###### Skenario 3.1.1. ($\\text{epoch} = 100$)"
      ]
    },
    {
      "cell_type": "code",
      "metadata": {
        "id": "iK9tJ5Qum1Wu",
        "outputId": "b155686c-1631-4f0e-c3a2-3d1c92e2a2d9",
        "colab": {
          "base_uri": "https://localhost:8080/"
        }
      },
      "source": [
        "convolutional_model = create_model(0.1)\n",
        "convolutional_model.fit(x_train, y_train, epochs=100, batch_size=10, validation_data=(x_test, y_test), use_multiprocessing=True, callbacks=[es])"
      ],
      "execution_count": 17,
      "outputs": [
        {
          "output_type": "stream",
          "text": [
            "Epoch 1/100\n",
            "600/600 [==============================] - 15s 25ms/step - loss: 12.4480 - accuracy: 0.0982 - recall: 5.0000e-04 - specificity: 0.9997 - f1_score: 5.0000e-04 - val_loss: 2.3166 - val_accuracy: 0.1065 - val_recall: 0.0000e+00 - val_specificity: 1.0000 - val_f1_score: 0.0000e+00\n",
            "Epoch 2/100\n",
            "600/600 [==============================] - 15s 24ms/step - loss: 2.3263 - accuracy: 0.0925 - recall: 0.0000e+00 - specificity: 1.0000 - f1_score: 0.0000e+00 - val_loss: 2.3216 - val_accuracy: 0.1013 - val_recall: 0.0000e+00 - val_specificity: 1.0000 - val_f1_score: 0.0000e+00\n",
            "Epoch 00002: early stopping\n"
          ],
          "name": "stdout"
        },
        {
          "output_type": "execute_result",
          "data": {
            "text/plain": [
              "<tensorflow.python.keras.callbacks.History at 0x7fe597bfedd8>"
            ]
          },
          "metadata": {
            "tags": []
          },
          "execution_count": 17
        }
      ]
    },
    {
      "cell_type": "markdown",
      "metadata": {
        "id": "eIKbzwL9xyGu"
      },
      "source": [
        "###### Skenario 3.1.2. ($\\text{epoch} = 50$)"
      ]
    },
    {
      "cell_type": "code",
      "metadata": {
        "id": "hiRP7I5HvzrS",
        "outputId": "6ca906b1-a457-44bf-d8ba-9c917bbc3a2d",
        "colab": {
          "base_uri": "https://localhost:8080/"
        }
      },
      "source": [
        "convolutional_model = create_model(0.1)\n",
        "convolutional_model.fit(x_train, y_train, epochs=50, batch_size=10, validation_data=(x_test, y_test), use_multiprocessing=True, callbacks=[es])"
      ],
      "execution_count": 18,
      "outputs": [
        {
          "output_type": "stream",
          "text": [
            "Epoch 1/50\n",
            "600/600 [==============================] - 15s 25ms/step - loss: 6.6752 - accuracy: 0.0965 - recall: 5.0000e-04 - specificity: 0.9995 - f1_score: 5.0000e-04 - val_loss: 2.3184 - val_accuracy: 0.0990 - val_recall: 0.0000e+00 - val_specificity: 1.0000 - val_f1_score: 0.0000e+00\n",
            "Epoch 2/50\n",
            "600/600 [==============================] - 15s 24ms/step - loss: 2.3264 - accuracy: 0.0972 - recall: 0.0000e+00 - specificity: 1.0000 - f1_score: 0.0000e+00 - val_loss: 2.3160 - val_accuracy: 0.0953 - val_recall: 0.0000e+00 - val_specificity: 1.0000 - val_f1_score: 0.0000e+00\n",
            "Epoch 3/50\n",
            "600/600 [==============================] - 15s 25ms/step - loss: 2.3260 - accuracy: 0.0965 - recall: 0.0000e+00 - specificity: 1.0000 - f1_score: 0.0000e+00 - val_loss: 2.3356 - val_accuracy: 0.0990 - val_recall: 0.0000e+00 - val_specificity: 1.0000 - val_f1_score: 0.0000e+00\n",
            "Epoch 00003: early stopping\n"
          ],
          "name": "stdout"
        },
        {
          "output_type": "execute_result",
          "data": {
            "text/plain": [
              "<tensorflow.python.keras.callbacks.History at 0x7fe597a9b8d0>"
            ]
          },
          "metadata": {
            "tags": []
          },
          "execution_count": 18
        }
      ]
    },
    {
      "cell_type": "markdown",
      "metadata": {
        "id": "z50yWQxxyDKv"
      },
      "source": [
        "###### Skenario 3.1.3. ($\\text{epoch}$ = 25)"
      ]
    },
    {
      "cell_type": "code",
      "metadata": {
        "id": "qoFAMbV1yAqy",
        "outputId": "192a32ac-ab9c-4681-f30f-2a336e325a3f",
        "colab": {
          "base_uri": "https://localhost:8080/"
        }
      },
      "source": [
        "convolutional_model = create_model(0.1)\n",
        "convolutional_model.fit(x_train, y_train, epochs=25, batch_size=10, validation_data=(x_test, y_test), use_multiprocessing=True, callbacks=[es])"
      ],
      "execution_count": 19,
      "outputs": [
        {
          "output_type": "stream",
          "text": [
            "Epoch 1/25\n",
            "600/600 [==============================] - 16s 27ms/step - loss: 11.0307 - accuracy: 0.1023 - recall: 8.3333e-04 - specificity: 0.9994 - f1_score: 8.9216e-04 - val_loss: 2.3271 - val_accuracy: 0.1028 - val_recall: 0.0000e+00 - val_specificity: 1.0000 - val_f1_score: 0.0000e+00\n",
            "Epoch 2/25\n",
            "600/600 [==============================] - 16s 27ms/step - loss: 2.3225 - accuracy: 0.1033 - recall: 0.0000e+00 - specificity: 1.0000 - f1_score: 0.0000e+00 - val_loss: 2.3367 - val_accuracy: 0.1065 - val_recall: 0.0000e+00 - val_specificity: 1.0000 - val_f1_score: 0.0000e+00\n",
            "Epoch 00002: early stopping\n"
          ],
          "name": "stdout"
        },
        {
          "output_type": "execute_result",
          "data": {
            "text/plain": [
              "<tensorflow.python.keras.callbacks.History at 0x7fe59706fbe0>"
            ]
          },
          "metadata": {
            "tags": []
          },
          "execution_count": 19
        }
      ]
    },
    {
      "cell_type": "markdown",
      "metadata": {
        "id": "sfFd4JoiyVL0"
      },
      "source": [
        "###### Skenario 3.1.4. ($\\text{epoch}$ = 10)"
      ]
    },
    {
      "cell_type": "code",
      "metadata": {
        "id": "My0WoXDnyTVL",
        "outputId": "f4930a22-5624-4510-c782-870822752d42",
        "colab": {
          "base_uri": "https://localhost:8080/"
        }
      },
      "source": [
        "convolutional_model = create_model(0.1)\n",
        "convolutional_model.fit(x_train, y_train, epochs=10, batch_size=10, validation_data=(x_test, y_test), use_multiprocessing=True, callbacks=[es])"
      ],
      "execution_count": 20,
      "outputs": [
        {
          "output_type": "stream",
          "text": [
            "Epoch 1/10\n",
            "600/600 [==============================] - 16s 27ms/step - loss: 29.3682 - accuracy: 0.1020 - recall: 6.6667e-04 - specificity: 0.9995 - f1_score: 7.5661e-04 - val_loss: 2.3389 - val_accuracy: 0.0953 - val_recall: 0.0000e+00 - val_specificity: 1.0000 - val_f1_score: 0.0000e+00\n",
            "Epoch 2/10\n",
            "600/600 [==============================] - 16s 26ms/step - loss: 2.3265 - accuracy: 0.0975 - recall: 0.0000e+00 - specificity: 1.0000 - f1_score: 0.0000e+00 - val_loss: 2.3138 - val_accuracy: 0.1028 - val_recall: 0.0000e+00 - val_specificity: 1.0000 - val_f1_score: 0.0000e+00\n",
            "Epoch 3/10\n",
            "600/600 [==============================] - 16s 27ms/step - loss: 2.3268 - accuracy: 0.0940 - recall: 0.0000e+00 - specificity: 1.0000 - f1_score: 0.0000e+00 - val_loss: 2.3221 - val_accuracy: 0.0953 - val_recall: 0.0000e+00 - val_specificity: 1.0000 - val_f1_score: 0.0000e+00\n",
            "Epoch 00003: early stopping\n"
          ],
          "name": "stdout"
        },
        {
          "output_type": "execute_result",
          "data": {
            "text/plain": [
              "<tensorflow.python.keras.callbacks.History at 0x7fe596d8a6d8>"
            ]
          },
          "metadata": {
            "tags": []
          },
          "execution_count": 20
        }
      ]
    },
    {
      "cell_type": "markdown",
      "metadata": {
        "id": "yLEz9MpZnBNo"
      },
      "source": [
        "###### Skenario 3.1.5. ($\\text{epoch} = 5$)\n",
        "\n"
      ]
    },
    {
      "cell_type": "code",
      "metadata": {
        "id": "MAoiBFFOnGie",
        "outputId": "df8ce87e-eae9-4887-9fbc-68abd5cf6baa",
        "colab": {
          "base_uri": "https://localhost:8080/"
        }
      },
      "source": [
        "convolutional_model = create_model(0.1)\n",
        "convolutional_model.fit(x_train, y_train, epochs=5, batch_size=10, validation_data=(x_test, y_test), use_multiprocessing=True, callbacks=[es])"
      ],
      "execution_count": 21,
      "outputs": [
        {
          "output_type": "stream",
          "text": [
            "Epoch 1/5\n",
            "600/600 [==============================] - 15s 25ms/step - loss: 14.4958 - accuracy: 0.1017 - recall: 0.0018 - specificity: 0.9983 - f1_score: 0.0018 - val_loss: 2.3294 - val_accuracy: 0.1028 - val_recall: 0.0000e+00 - val_specificity: 1.0000 - val_f1_score: 0.0000e+00\n",
            "Epoch 2/5\n",
            "600/600 [==============================] - 14s 24ms/step - loss: 2.3258 - accuracy: 0.1028 - recall: 0.0000e+00 - specificity: 1.0000 - f1_score: 0.0000e+00 - val_loss: 2.3250 - val_accuracy: 0.1005 - val_recall: 0.0000e+00 - val_specificity: 1.0000 - val_f1_score: 0.0000e+00\n",
            "Epoch 3/5\n",
            "600/600 [==============================] - 15s 24ms/step - loss: 2.3263 - accuracy: 0.1027 - recall: 0.0000e+00 - specificity: 1.0000 - f1_score: 0.0000e+00 - val_loss: 2.3383 - val_accuracy: 0.1020 - val_recall: 0.0000e+00 - val_specificity: 1.0000 - val_f1_score: 0.0000e+00\n",
            "Epoch 00003: early stopping\n"
          ],
          "name": "stdout"
        },
        {
          "output_type": "execute_result",
          "data": {
            "text/plain": [
              "<tensorflow.python.keras.callbacks.History at 0x7fe593afa630>"
            ]
          },
          "metadata": {
            "tags": []
          },
          "execution_count": 21
        }
      ]
    },
    {
      "cell_type": "markdown",
      "metadata": {
        "id": "JDjlsyWmuOO2"
      },
      "source": [
        "###### Kesimpulan Skenario $3.1.$"
      ]
    },
    {
      "cell_type": "markdown",
      "metadata": {
        "id": "aZVma5oUyhZ8"
      },
      "source": [
        "Berdasarkan hasil dari skenario $3.1.1.$, $3.1.2.$, $3.1.3.$, $3.1.4.$, dan $3.1.5.$, kelima skenario mengalami _early stop_ pada $\\text{epoch} \\leq 5$. Kelima skenario menghasilkan akurasi yang rendah pula, dengan demikian, digunakan $\\text{epoch}$ terbesar ($\\text{epoch} = 100$) dikarenakan sudah ada penjaga _early stop_ untuk mengecek ke _convergen_-an."
      ]
    },
    {
      "cell_type": "markdown",
      "metadata": {
        "id": "UnZzodGOy-wu"
      },
      "source": [
        "##### Melakukan Skenario $3.2.$ (Mengubah $\\text{batch_number}$)"
      ]
    },
    {
      "cell_type": "markdown",
      "metadata": {
        "id": "u7w5FBuFcZmY"
      },
      "source": [
        "###### Skenario $3.2.1.$ ($\\text{batch_number} = 10$)"
      ]
    },
    {
      "cell_type": "code",
      "metadata": {
        "id": "nT-B9ojvcejI",
        "outputId": "5be82f0b-9b7e-4724-a0db-a768618255f6",
        "colab": {
          "base_uri": "https://localhost:8080/"
        }
      },
      "source": [
        "convolutional_model = create_model(0.1)\n",
        "convolutional_model.fit(x_train, y_train, epochs=100, batch_size=10, validation_data=(x_test, y_test), use_multiprocessing=True, callbacks=[es])"
      ],
      "execution_count": 22,
      "outputs": [
        {
          "output_type": "stream",
          "text": [
            "Epoch 1/100\n",
            "600/600 [==============================] - 15s 25ms/step - loss: 48.7810 - accuracy: 0.0930 - recall: 1.6667e-04 - specificity: 0.9993 - f1_score: 1.6667e-04 - val_loss: 2.3470 - val_accuracy: 0.1028 - val_recall: 0.0000e+00 - val_specificity: 1.0000 - val_f1_score: 0.0000e+00\n",
            "Epoch 2/100\n",
            "600/600 [==============================] - 15s 25ms/step - loss: 2.3262 - accuracy: 0.1012 - recall: 0.0000e+00 - specificity: 1.0000 - f1_score: 0.0000e+00 - val_loss: 2.3127 - val_accuracy: 0.1065 - val_recall: 0.0000e+00 - val_specificity: 1.0000 - val_f1_score: 0.0000e+00\n",
            "Epoch 3/100\n",
            "600/600 [==============================] - 15s 25ms/step - loss: 2.3286 - accuracy: 0.0980 - recall: 0.0000e+00 - specificity: 1.0000 - f1_score: 0.0000e+00 - val_loss: 2.3147 - val_accuracy: 0.1013 - val_recall: 0.0000e+00 - val_specificity: 1.0000 - val_f1_score: 0.0000e+00\n",
            "Epoch 00003: early stopping\n"
          ],
          "name": "stdout"
        },
        {
          "output_type": "execute_result",
          "data": {
            "text/plain": [
              "<tensorflow.python.keras.callbacks.History at 0x7fe59306d5f8>"
            ]
          },
          "metadata": {
            "tags": []
          },
          "execution_count": 22
        }
      ]
    },
    {
      "cell_type": "markdown",
      "metadata": {
        "id": "Jpmk_tBlzTpp"
      },
      "source": [
        "###### Skenario $3.2.2.$ ($\\text{batch_number} = 25$)"
      ]
    },
    {
      "cell_type": "code",
      "metadata": {
        "id": "OxvebtnPzSsX",
        "outputId": "3792e821-a6c7-48ac-9609-912d3245776f",
        "colab": {
          "base_uri": "https://localhost:8080/"
        }
      },
      "source": [
        "convolutional_model = create_model(0.1)\n",
        "convolutional_model.fit(x_train, y_train, epochs=100, batch_size=25, validation_data=(x_test, y_test), use_multiprocessing=True, callbacks=[es])"
      ],
      "execution_count": 23,
      "outputs": [
        {
          "output_type": "stream",
          "text": [
            "Epoch 1/100\n",
            "240/240 [==============================] - 13s 53ms/step - loss: 26.2244 - accuracy: 0.1030 - recall: 6.6667e-04 - specificity: 0.9991 - f1_score: 6.6667e-04 - val_loss: 2.3155 - val_accuracy: 0.1013 - val_recall: 0.0000e+00 - val_specificity: 1.0000 - val_f1_score: 0.0000e+00\n",
            "Epoch 2/100\n",
            "240/240 [==============================] - 13s 52ms/step - loss: 2.3165 - accuracy: 0.0985 - recall: 0.0000e+00 - specificity: 1.0000 - f1_score: 0.0000e+00 - val_loss: 2.3242 - val_accuracy: 0.0953 - val_recall: 0.0000e+00 - val_specificity: 1.0000 - val_f1_score: 0.0000e+00\n",
            "Epoch 00002: early stopping\n"
          ],
          "name": "stdout"
        },
        {
          "output_type": "execute_result",
          "data": {
            "text/plain": [
              "<tensorflow.python.keras.callbacks.History at 0x7fe592dea5c0>"
            ]
          },
          "metadata": {
            "tags": []
          },
          "execution_count": 23
        }
      ]
    },
    {
      "cell_type": "markdown",
      "metadata": {
        "id": "DLCAlr4yzedO"
      },
      "source": [
        "###### Skenario $3.2.3.$ ($\\text{batch_number} = 50$)"
      ]
    },
    {
      "cell_type": "code",
      "metadata": {
        "id": "VyFLHqxczdk9",
        "outputId": "29048e5e-9c37-456e-c53d-5620a073cd3e",
        "colab": {
          "base_uri": "https://localhost:8080/"
        }
      },
      "source": [
        "convolutional_model = create_model(0.1)\n",
        "convolutional_model.fit(x_train, y_train, epochs=100, batch_size=50, validation_data=(x_test, y_test), use_multiprocessing=True, callbacks=[es])"
      ],
      "execution_count": 24,
      "outputs": [
        {
          "output_type": "stream",
          "text": [
            "Epoch 1/100\n",
            "120/120 [==============================] - 12s 101ms/step - loss: 82.9966 - accuracy: 0.1020 - recall: 0.0033 - specificity: 0.9972 - f1_score: 0.0034 - val_loss: 2.3068 - val_accuracy: 0.1020 - val_recall: 0.0000e+00 - val_specificity: 1.0000 - val_f1_score: 0.0000e+00\n",
            "Epoch 2/100\n",
            "120/120 [==============================] - 12s 98ms/step - loss: 2.3118 - accuracy: 0.0945 - recall: 0.0000e+00 - specificity: 1.0000 - f1_score: 0.0000e+00 - val_loss: 2.3165 - val_accuracy: 0.0953 - val_recall: 0.0000e+00 - val_specificity: 1.0000 - val_f1_score: 0.0000e+00\n",
            "Epoch 00002: early stopping\n"
          ],
          "name": "stdout"
        },
        {
          "output_type": "execute_result",
          "data": {
            "text/plain": [
              "<tensorflow.python.keras.callbacks.History at 0x7fe592bdb588>"
            ]
          },
          "metadata": {
            "tags": []
          },
          "execution_count": 24
        }
      ]
    },
    {
      "cell_type": "markdown",
      "metadata": {
        "id": "idcvhcP_zmAj"
      },
      "source": [
        "###### Skenario $3.2.4.$ ($\\text{batch_number} = 75$)"
      ]
    },
    {
      "cell_type": "code",
      "metadata": {
        "id": "mzugkM5tzkEp",
        "outputId": "0535c7f6-d4f2-4bed-a69e-e4f7486557f6",
        "colab": {
          "base_uri": "https://localhost:8080/"
        }
      },
      "source": [
        "convolutional_model = create_model(0.1)\n",
        "convolutional_model.fit(x_train, y_train, epochs=100, batch_size=75, validation_data=(x_test, y_test), use_multiprocessing=True, callbacks=[es])"
      ],
      "execution_count": 25,
      "outputs": [
        {
          "output_type": "stream",
          "text": [
            "Epoch 1/100\n",
            "80/80 [==============================] - 12s 144ms/step - loss: 56.5176 - accuracy: 0.0990 - recall: 0.0045 - specificity: 0.9964 - f1_score: 0.0045 - val_loss: 2.3080 - val_accuracy: 0.0980 - val_recall: 0.0000e+00 - val_specificity: 1.0000 - val_f1_score: 0.0000e+00\n",
            "Epoch 2/100\n",
            "80/80 [==============================] - 11s 141ms/step - loss: 2.3095 - accuracy: 0.1000 - recall: 0.0000e+00 - specificity: 1.0000 - f1_score: 0.0000e+00 - val_loss: 2.3067 - val_accuracy: 0.1028 - val_recall: 0.0000e+00 - val_specificity: 1.0000 - val_f1_score: 0.0000e+00\n",
            "Epoch 3/100\n",
            "80/80 [==============================] - 11s 142ms/step - loss: 2.3087 - accuracy: 0.1052 - recall: 0.0000e+00 - specificity: 1.0000 - f1_score: 0.0000e+00 - val_loss: 2.3126 - val_accuracy: 0.0995 - val_recall: 0.0000e+00 - val_specificity: 1.0000 - val_f1_score: 0.0000e+00\n",
            "Epoch 00003: early stopping\n"
          ],
          "name": "stdout"
        },
        {
          "output_type": "execute_result",
          "data": {
            "text/plain": [
              "<tensorflow.python.keras.callbacks.History at 0x7fe597061e10>"
            ]
          },
          "metadata": {
            "tags": []
          },
          "execution_count": 25
        }
      ]
    },
    {
      "cell_type": "markdown",
      "metadata": {
        "id": "mAd4eT5NzqlH"
      },
      "source": [
        "###### Skenario $3.2.5.$ ($\\text{batch_number} = 100$)"
      ]
    },
    {
      "cell_type": "code",
      "metadata": {
        "id": "7JLN26Grzp74",
        "outputId": "c7e306a4-35a4-40dd-d774-8dce8bff0630",
        "colab": {
          "base_uri": "https://localhost:8080/"
        }
      },
      "source": [
        "convolutional_model = create_model(0.1)\n",
        "convolutional_model.fit(x_train, y_train, epochs=100, batch_size=100, validation_data=(x_test, y_test), use_multiprocessing=True, callbacks=[es])"
      ],
      "execution_count": 26,
      "outputs": [
        {
          "output_type": "stream",
          "text": [
            "Epoch 1/100\n",
            "60/60 [==============================] - 12s 192ms/step - loss: 227.3293 - accuracy: 0.1017 - recall: 0.0062 - specificity: 0.9933 - f1_score: 0.0062 - val_loss: 2.3068 - val_accuracy: 0.1002 - val_recall: 0.0000e+00 - val_specificity: 1.0000 - val_f1_score: 0.0000e+00\n",
            "Epoch 2/100\n",
            "60/60 [==============================] - 11s 185ms/step - loss: 2.3072 - accuracy: 0.1048 - recall: 1.6667e-04 - specificity: 0.9999 - f1_score: 3.2680e-04 - val_loss: 2.3086 - val_accuracy: 0.1023 - val_recall: 0.0000e+00 - val_specificity: 1.0000 - val_f1_score: 0.0000e+00\n",
            "Epoch 00002: early stopping\n"
          ],
          "name": "stdout"
        },
        {
          "output_type": "execute_result",
          "data": {
            "text/plain": [
              "<tensorflow.python.keras.callbacks.History at 0x7fe58e001fd0>"
            ]
          },
          "metadata": {
            "tags": []
          },
          "execution_count": 26
        }
      ]
    },
    {
      "cell_type": "markdown",
      "metadata": {
        "id": "vTera8DYdaGP"
      },
      "source": [
        "###### Skenario $3.2.6.$ ($\\text{batch_number} = 250$)"
      ]
    },
    {
      "cell_type": "code",
      "metadata": {
        "id": "1wsH2tCXdfta",
        "outputId": "36617ea6-44cc-434b-f767-c27514b63d26",
        "colab": {
          "base_uri": "https://localhost:8080/"
        }
      },
      "source": [
        "convolutional_model = create_model(0.1)\n",
        "convolutional_model.fit(x_train, y_train, epochs=100, batch_size=250, validation_data=(x_test, y_test), use_multiprocessing=True, callbacks=[es])"
      ],
      "execution_count": 27,
      "outputs": [
        {
          "output_type": "stream",
          "text": [
            "Epoch 1/100\n",
            "24/24 [==============================] - 11s 443ms/step - loss: 323.6828 - accuracy: 0.0987 - recall: 0.0147 - specificity: 0.9831 - f1_score: 0.0147 - val_loss: 2.3129 - val_accuracy: 0.1028 - val_recall: 0.0000e+00 - val_specificity: 1.0000 - val_f1_score: 0.0000e+00\n",
            "Epoch 2/100\n",
            "24/24 [==============================] - 10s 430ms/step - loss: 2.3071 - accuracy: 0.0947 - recall: 0.0000e+00 - specificity: 1.0000 - f1_score: 0.0000e+00 - val_loss: 2.3053 - val_accuracy: 0.0980 - val_recall: 0.0000e+00 - val_specificity: 1.0000 - val_f1_score: 0.0000e+00\n",
            "Epoch 3/100\n",
            "24/24 [==============================] - 10s 428ms/step - loss: 2.3068 - accuracy: 0.0962 - recall: 0.0000e+00 - specificity: 1.0000 - f1_score: 0.0000e+00 - val_loss: 2.3054 - val_accuracy: 0.1005 - val_recall: 0.0000e+00 - val_specificity: 1.0000 - val_f1_score: 0.0000e+00\n",
            "Epoch 00003: early stopping\n"
          ],
          "name": "stdout"
        },
        {
          "output_type": "execute_result",
          "data": {
            "text/plain": [
              "<tensorflow.python.keras.callbacks.History at 0x7fe58d575fd0>"
            ]
          },
          "metadata": {
            "tags": []
          },
          "execution_count": 27
        }
      ]
    },
    {
      "cell_type": "markdown",
      "metadata": {
        "id": "oyu38QLndioe"
      },
      "source": [
        "###### Skenario $3.2.7.$ ($\\text{batch_number} = 500$)"
      ]
    },
    {
      "cell_type": "code",
      "metadata": {
        "id": "fu3ogk-idoCy",
        "outputId": "7205c406-d52d-4a81-fe29-4b56ae87599d",
        "colab": {
          "base_uri": "https://localhost:8080/"
        }
      },
      "source": [
        "convolutional_model = create_model(0.1)\n",
        "convolutional_model.fit(x_train, y_train, epochs=100, batch_size=500, validation_data=(x_test, y_test), use_multiprocessing=True, callbacks=[es])"
      ],
      "execution_count": 28,
      "outputs": [
        {
          "output_type": "stream",
          "text": [
            "Epoch 1/100\n",
            "12/12 [==============================] - 10s 838ms/step - loss: 1850.4430 - accuracy: 0.0973 - recall: 0.0225 - specificity: 0.9796 - f1_score: 0.0254 - val_loss: 2.3159 - val_accuracy: 0.1005 - val_recall: 0.0000e+00 - val_specificity: 1.0000 - val_f1_score: 0.0000e+00\n",
            "Epoch 2/100\n",
            "12/12 [==============================] - 10s 809ms/step - loss: 2.3185 - accuracy: 0.0987 - recall: 0.0000e+00 - specificity: 1.0000 - f1_score: 0.0000e+00 - val_loss: 2.3118 - val_accuracy: 0.0953 - val_recall: 0.0000e+00 - val_specificity: 1.0000 - val_f1_score: 0.0000e+00\n",
            "Epoch 3/100\n",
            "12/12 [==============================] - 10s 808ms/step - loss: 2.3114 - accuracy: 0.1008 - recall: 0.0000e+00 - specificity: 1.0000 - f1_score: 0.0000e+00 - val_loss: 2.3083 - val_accuracy: 0.1028 - val_recall: 0.0000e+00 - val_specificity: 1.0000 - val_f1_score: 0.0000e+00\n",
            "Epoch 4/100\n",
            "12/12 [==============================] - 10s 809ms/step - loss: 2.3102 - accuracy: 0.0952 - recall: 0.0000e+00 - specificity: 1.0000 - f1_score: 0.0000e+00 - val_loss: 2.3035 - val_accuracy: 0.1020 - val_recall: 0.0000e+00 - val_specificity: 1.0000 - val_f1_score: 0.0000e+00\n",
            "Epoch 5/100\n",
            "12/12 [==============================] - 10s 813ms/step - loss: 2.3049 - accuracy: 0.1025 - recall: 0.0000e+00 - specificity: 1.0000 - f1_score: 0.0000e+00 - val_loss: 2.3063 - val_accuracy: 0.0995 - val_recall: 0.0000e+00 - val_specificity: 1.0000 - val_f1_score: 0.0000e+00\n",
            "Epoch 00005: early stopping\n"
          ],
          "name": "stdout"
        },
        {
          "output_type": "execute_result",
          "data": {
            "text/plain": [
              "<tensorflow.python.keras.callbacks.History at 0x7fe58d2e9c18>"
            ]
          },
          "metadata": {
            "tags": []
          },
          "execution_count": 28
        }
      ]
    },
    {
      "cell_type": "markdown",
      "metadata": {
        "id": "oQ16LO-NdvlI"
      },
      "source": [
        "###### Skenario $3.2.8.$ ($\\text{batch_number} = 750$)"
      ]
    },
    {
      "cell_type": "code",
      "metadata": {
        "id": "NBAbTKnRdrLA",
        "outputId": "ffaf9adf-fe09-4a14-c023-c30f42d42b74",
        "colab": {
          "base_uri": "https://localhost:8080/"
        }
      },
      "source": [
        "convolutional_model = create_model(0.1)\n",
        "convolutional_model.fit(x_train, y_train, epochs=100, batch_size=750, validation_data=(x_test, y_test), use_multiprocessing=True, callbacks=[es])"
      ],
      "execution_count": 29,
      "outputs": [
        {
          "output_type": "stream",
          "text": [
            "Epoch 1/100\n",
            "8/8 [==============================] - 10s 1s/step - loss: 1418.2727 - accuracy: 0.1008 - recall: 0.0430 - specificity: 0.9613 - f1_score: 0.0461 - val_loss: 2.3504 - val_accuracy: 0.0953 - val_recall: 0.0000e+00 - val_specificity: 1.0000 - val_f1_score: 0.0000e+00\n",
            "Epoch 2/100\n",
            "8/8 [==============================] - 9s 1s/step - loss: 2.3307 - accuracy: 0.1058 - recall: 0.0000e+00 - specificity: 1.0000 - f1_score: 0.0000e+00 - val_loss: 2.3073 - val_accuracy: 0.1020 - val_recall: 0.0000e+00 - val_specificity: 1.0000 - val_f1_score: 0.0000e+00\n",
            "Epoch 3/100\n",
            "8/8 [==============================] - 9s 1s/step - loss: 2.3078 - accuracy: 0.0967 - recall: 0.0000e+00 - specificity: 1.0000 - f1_score: 0.0000e+00 - val_loss: 2.3042 - val_accuracy: 0.0953 - val_recall: 0.0000e+00 - val_specificity: 1.0000 - val_f1_score: 0.0000e+00\n",
            "Epoch 4/100\n",
            "8/8 [==============================] - 9s 1s/step - loss: 2.3042 - accuracy: 0.0988 - recall: 0.0000e+00 - specificity: 1.0000 - f1_score: 0.0000e+00 - val_loss: 2.3065 - val_accuracy: 0.0953 - val_recall: 0.0000e+00 - val_specificity: 1.0000 - val_f1_score: 0.0000e+00\n",
            "Epoch 00004: early stopping\n"
          ],
          "name": "stdout"
        },
        {
          "output_type": "execute_result",
          "data": {
            "text/plain": [
              "<tensorflow.python.keras.callbacks.History at 0x7fe58d065630>"
            ]
          },
          "metadata": {
            "tags": []
          },
          "execution_count": 29
        }
      ]
    },
    {
      "cell_type": "markdown",
      "metadata": {
        "id": "ZcsYBiaZd8Ca"
      },
      "source": [
        "###### Skenario $3.2.9.$ ($\\text{batch_number} = 1000$)"
      ]
    },
    {
      "cell_type": "code",
      "metadata": {
        "id": "K1l5Q8Cid4ZP",
        "outputId": "d0ab18f1-b0a8-4c23-a736-d99eefe82451",
        "colab": {
          "base_uri": "https://localhost:8080/"
        }
      },
      "source": [
        "convolutional_model = create_model(0.1)\n",
        "convolutional_model.fit(x_train, y_train, epochs=100, batch_size=1000, validation_data=(x_test, y_test), use_multiprocessing=True, callbacks=[es])"
      ],
      "execution_count": 30,
      "outputs": [
        {
          "output_type": "stream",
          "text": [
            "Epoch 1/100\n",
            "6/6 [==============================] - 9s 2s/step - loss: 2095.1033 - accuracy: 0.0992 - recall: 0.0490 - specificity: 0.9527 - f1_score: 0.0507 - val_loss: 2.3811 - val_accuracy: 0.1005 - val_recall: 0.0000e+00 - val_specificity: 1.0000 - val_f1_score: 0.0000e+00\n",
            "Epoch 2/100\n",
            "6/6 [==============================] - 9s 1s/step - loss: 2.3550 - accuracy: 0.1060 - recall: 0.0000e+00 - specificity: 1.0000 - f1_score: 0.0000e+00 - val_loss: 2.3292 - val_accuracy: 0.1013 - val_recall: 0.0000e+00 - val_specificity: 1.0000 - val_f1_score: 0.0000e+00\n",
            "Epoch 3/100\n",
            "6/6 [==============================] - 9s 1s/step - loss: 2.3345 - accuracy: 0.1020 - recall: 0.0000e+00 - specificity: 1.0000 - f1_score: 0.0000e+00 - val_loss: 2.3425 - val_accuracy: 0.0990 - val_recall: 0.0000e+00 - val_specificity: 1.0000 - val_f1_score: 0.0000e+00\n",
            "Epoch 00003: early stopping\n"
          ],
          "name": "stdout"
        },
        {
          "output_type": "execute_result",
          "data": {
            "text/plain": [
              "<tensorflow.python.keras.callbacks.History at 0x7fe58addd7f0>"
            ]
          },
          "metadata": {
            "tags": []
          },
          "execution_count": 30
        }
      ]
    },
    {
      "cell_type": "markdown",
      "metadata": {
        "id": "8zO3MjDreEnc"
      },
      "source": [
        "###### Skenario $3.2.10.$ ($\\text{batch_number} = |\\text{data_train}|$)"
      ]
    },
    {
      "cell_type": "code",
      "metadata": {
        "id": "KvLwfuXmeZfP",
        "outputId": "83981ae5-182e-48b2-ad09-5c6f576b3b01",
        "colab": {
          "base_uri": "https://localhost:8080/"
        }
      },
      "source": [
        "convolutional_model = create_model(0.1)\n",
        "convolutional_model.fit(x_train, y_train, epochs=100, batch_size=len(x_train), validation_data=(x_test, y_test), use_multiprocessing=True, callbacks=[es])"
      ],
      "execution_count": 31,
      "outputs": [
        {
          "output_type": "stream",
          "text": [
            "Epoch 1/100\n",
            "1/1 [==============================] - 2s 2s/step - loss: 2.5368 - accuracy: 0.1098 - recall: 0.0000e+00 - specificity: 1.0000 - f1_score: 0.0000e+00 - val_loss: 16026.5137 - val_accuracy: 0.0980 - val_recall: 0.0980 - val_specificity: 0.8998 - val_f1_score: 0.0980\n",
            "Epoch 2/100\n",
            "1/1 [==============================] - 2s 2s/step - loss: 16098.5977 - accuracy: 0.1013 - recall: 0.1013 - specificity: 0.9001 - f1_score: 0.1013 - val_loss: 17.9014 - val_accuracy: 0.1028 - val_recall: 0.1028 - val_specificity: 0.9003 - val_f1_score: 0.1027\n",
            "Epoch 3/100\n",
            "1/1 [==============================] - 2s 2s/step - loss: 17.9062 - accuracy: 0.0982 - recall: 0.0982 - specificity: 0.8998 - f1_score: 0.0982 - val_loss: 4.6572 - val_accuracy: 0.1028 - val_recall: 2.5000e-04 - val_specificity: 0.9997 - val_f1_score: 4.9863e-04\n",
            "Epoch 4/100\n",
            "1/1 [==============================] - 2s 2s/step - loss: 4.6133 - accuracy: 0.1003 - recall: 3.3333e-04 - specificity: 0.9997 - f1_score: 6.6445e-04 - val_loss: 2.3853 - val_accuracy: 0.0990 - val_recall: 0.0000e+00 - val_specificity: 1.0000 - val_f1_score: 0.0000e+00\n",
            "Epoch 5/100\n",
            "1/1 [==============================] - 2s 2s/step - loss: 2.3835 - accuracy: 0.1007 - recall: 0.0000e+00 - specificity: 1.0000 - f1_score: 0.0000e+00 - val_loss: 2.3608 - val_accuracy: 0.0990 - val_recall: 0.0000e+00 - val_specificity: 1.0000 - val_f1_score: 0.0000e+00\n",
            "Epoch 6/100\n",
            "1/1 [==============================] - 2s 2s/step - loss: 2.3596 - accuracy: 0.1007 - recall: 0.0000e+00 - specificity: 1.0000 - f1_score: 0.0000e+00 - val_loss: 2.3577 - val_accuracy: 0.0990 - val_recall: 0.0000e+00 - val_specificity: 1.0000 - val_f1_score: 0.0000e+00\n",
            "Epoch 7/100\n",
            "1/1 [==============================] - 2s 2s/step - loss: 2.3572 - accuracy: 0.1007 - recall: 0.0000e+00 - specificity: 1.0000 - f1_score: 0.0000e+00 - val_loss: 2.3605 - val_accuracy: 0.0990 - val_recall: 0.0000e+00 - val_specificity: 1.0000 - val_f1_score: 0.0000e+00\n",
            "Epoch 00007: early stopping\n"
          ],
          "name": "stdout"
        },
        {
          "output_type": "execute_result",
          "data": {
            "text/plain": [
              "<tensorflow.python.keras.callbacks.History at 0x7fe58abd31d0>"
            ]
          },
          "metadata": {
            "tags": []
          },
          "execution_count": 31
        }
      ]
    },
    {
      "cell_type": "markdown",
      "metadata": {
        "id": "pll9r-Aw0Hpv"
      },
      "source": [
        "###### Kesimpulan Skenario $3.2.$"
      ]
    },
    {
      "cell_type": "markdown",
      "metadata": {
        "id": "xIjeqYBxuJBa"
      },
      "source": [
        "Berdasarkan hasil dari skenario $3.2.1.$, $3.2.2.$, $3.2.3.$, $3.2.4.$, $3.2.5.$, $3.2.6.$, $3.2.7.$, $3.2.8.$, $3.2.9.$, dan $3.2.10.$, kesepuluh skenario mengalami _early stop_ pada $\\text{epoch} \\leq 10$. Semua skenario memiliki nilai akurasi yang rendah (sekitar $\\pm 10\\%$). Sulit untuk menentukan parameter optimal dari kelima skenario dengan urutan pengambilan skenario dari $\\text{batch_size}$ terlebih dahulu ketimbang $\\text{learning_rate}$. Untuk keberlanjutan skenario, penentuan $\\text{batch_size}$ digunakan pendekatan $\\text{batch_size} \\geq \\sqrt{|sampel|} = \\sqrt{10000 \\cdot 0,6} \\approx 77$. Nilai $\\text{batch_size}$ yang mendekati dari skenario tersebut adalah nilai $\\text{batch_size}$ pada skenario $3.2.4.$ yaitu $75$."
      ]
    },
    {
      "cell_type": "markdown",
      "metadata": {
        "id": "YcX10i1J0cso"
      },
      "source": [
        "##### Melakukan Skenario $3.3.$ (Mengubah $\\text{learning_rate}$)"
      ]
    },
    {
      "cell_type": "markdown",
      "metadata": {
        "id": "urtNgG400yNq"
      },
      "source": [
        "###### Skenario $3.3.1.$ ($\\text{learning_rate} = 0.25$)"
      ]
    },
    {
      "cell_type": "code",
      "metadata": {
        "id": "OlsPZP911QSa",
        "outputId": "08d96e86-2341-4532-d840-a9256d2d7deb",
        "colab": {
          "base_uri": "https://localhost:8080/"
        }
      },
      "source": [
        "convolutional_model = create_model(0.25)\n",
        "convolutional_model.fit(x_train, y_train, epochs=100, batch_size=75, validation_data=(x_test, y_test), use_multiprocessing=True, callbacks=[es])"
      ],
      "execution_count": 32,
      "outputs": [
        {
          "output_type": "stream",
          "text": [
            "Epoch 1/100\n",
            "80/80 [==============================] - 12s 145ms/step - loss: 1140.6300 - accuracy: 0.0923 - recall: 0.0035 - specificity: 0.9954 - f1_score: 0.0035 - val_loss: 2.3188 - val_accuracy: 0.0990 - val_recall: 0.0000e+00 - val_specificity: 1.0000 - val_f1_score: 0.0000e+00\n",
            "Epoch 2/100\n",
            "80/80 [==============================] - 12s 144ms/step - loss: 2.3178 - accuracy: 0.0963 - recall: 0.0000e+00 - specificity: 1.0000 - f1_score: 0.0000e+00 - val_loss: 2.3112 - val_accuracy: 0.0990 - val_recall: 0.0000e+00 - val_specificity: 1.0000 - val_f1_score: 0.0000e+00\n",
            "Epoch 3/100\n",
            "80/80 [==============================] - 12s 144ms/step - loss: 2.3186 - accuracy: 0.1008 - recall: 0.0000e+00 - specificity: 1.0000 - f1_score: 0.0000e+00 - val_loss: 2.3165 - val_accuracy: 0.1063 - val_recall: 0.0000e+00 - val_specificity: 1.0000 - val_f1_score: 0.0000e+00\n",
            "Epoch 00003: early stopping\n"
          ],
          "name": "stdout"
        },
        {
          "output_type": "execute_result",
          "data": {
            "text/plain": [
              "<tensorflow.python.keras.callbacks.History at 0x7fe58ac6b518>"
            ]
          },
          "metadata": {
            "tags": []
          },
          "execution_count": 32
        }
      ]
    },
    {
      "cell_type": "markdown",
      "metadata": {
        "id": "R1gAH_kDvFh7"
      },
      "source": [
        "###### Skenario $3.3.2.$ ($\\text{learning_rate} = 0.1$)"
      ]
    },
    {
      "cell_type": "code",
      "metadata": {
        "id": "bJOIAForvHGC",
        "outputId": "fb506d62-f859-4447-f79c-aad3c2e8bde9",
        "colab": {
          "base_uri": "https://localhost:8080/"
        }
      },
      "source": [
        "convolutional_model = create_model(0.1)\n",
        "convolutional_model.fit(x_train, y_train, epochs=100, batch_size=75, validation_data=(x_test, y_test), use_multiprocessing=True, callbacks=[es])"
      ],
      "execution_count": 33,
      "outputs": [
        {
          "output_type": "stream",
          "text": [
            "Epoch 1/100\n",
            "80/80 [==============================] - 12s 146ms/step - loss: 91.3605 - accuracy: 0.0980 - recall: 0.0025 - specificity: 0.9974 - f1_score: 0.0025 - val_loss: 2.3040 - val_accuracy: 0.1065 - val_recall: 0.0000e+00 - val_specificity: 1.0000 - val_f1_score: 0.0000e+00\n",
            "Epoch 2/100\n",
            "80/80 [==============================] - 12s 144ms/step - loss: 2.3103 - accuracy: 0.1048 - recall: 0.0000e+00 - specificity: 1.0000 - f1_score: 0.0000e+00 - val_loss: 2.3100 - val_accuracy: 0.0980 - val_recall: 0.0000e+00 - val_specificity: 1.0000 - val_f1_score: 0.0000e+00\n",
            "Epoch 00002: early stopping\n"
          ],
          "name": "stdout"
        },
        {
          "output_type": "execute_result",
          "data": {
            "text/plain": [
              "<tensorflow.python.keras.callbacks.History at 0x7fe58a85ab38>"
            ]
          },
          "metadata": {
            "tags": []
          },
          "execution_count": 33
        }
      ]
    },
    {
      "cell_type": "markdown",
      "metadata": {
        "id": "rN1n-0po08De"
      },
      "source": [
        "###### Skenario $3.3.3.$ ($\\text{learning_rate} = 0.05$)"
      ]
    },
    {
      "cell_type": "code",
      "metadata": {
        "id": "iuxjL3uI1Xxz",
        "outputId": "912868c9-c4c1-4703-953d-a67a37cc1e61",
        "colab": {
          "base_uri": "https://localhost:8080/"
        }
      },
      "source": [
        "convolutional_model = create_model(0.05)\n",
        "convolutional_model.fit(x_train, y_train, epochs=100, batch_size=75, validation_data=(x_test, y_test), use_multiprocessing=True, callbacks=[es])"
      ],
      "execution_count": 34,
      "outputs": [
        {
          "output_type": "stream",
          "text": [
            "Epoch 1/100\n",
            "80/80 [==============================] - 12s 145ms/step - loss: 9.1849 - accuracy: 0.0987 - recall: 0.0043 - specificity: 0.9948 - f1_score: 0.0050 - val_loss: 2.3049 - val_accuracy: 0.0995 - val_recall: 0.0000e+00 - val_specificity: 1.0000 - val_f1_score: 0.0000e+00\n",
            "Epoch 2/100\n",
            "80/80 [==============================] - 11s 141ms/step - loss: 2.3064 - accuracy: 0.0928 - recall: 0.0000e+00 - specificity: 1.0000 - f1_score: 0.0000e+00 - val_loss: 2.3049 - val_accuracy: 0.0953 - val_recall: 0.0000e+00 - val_specificity: 1.0000 - val_f1_score: 0.0000e+00\n",
            "Epoch 00002: early stopping\n"
          ],
          "name": "stdout"
        },
        {
          "output_type": "execute_result",
          "data": {
            "text/plain": [
              "<tensorflow.python.keras.callbacks.History at 0x7fe586641fd0>"
            ]
          },
          "metadata": {
            "tags": []
          },
          "execution_count": 34
        }
      ]
    },
    {
      "cell_type": "markdown",
      "metadata": {
        "id": "mkMNveC-0-tK"
      },
      "source": [
        "###### Skenario $3.3.4.$ ($\\text{learning_rate} = 0.01$)"
      ]
    },
    {
      "cell_type": "code",
      "metadata": {
        "id": "eE2bPsLs1ayE",
        "outputId": "7fc2fd82-f4f7-4e31-da8d-c43c4861e35e",
        "colab": {
          "base_uri": "https://localhost:8080/"
        }
      },
      "source": [
        "convolutional_model = create_model(0.01)\n",
        "convolutional_model.fit(x_train, y_train, epochs=100, batch_size=75, validation_data=(x_test, y_test), use_multiprocessing=True, callbacks=[es])"
      ],
      "execution_count": 35,
      "outputs": [
        {
          "output_type": "stream",
          "text": [
            "Epoch 1/100\n",
            "80/80 [==============================] - 12s 147ms/step - loss: 2.1156 - accuracy: 0.2305 - recall: 0.0252 - specificity: 0.9967 - f1_score: 0.0444 - val_loss: 1.7773 - val_accuracy: 0.3298 - val_recall: 0.1141 - val_specificity: 0.9894 - val_f1_score: 0.1871\n",
            "Epoch 2/100\n",
            "80/80 [==============================] - 11s 142ms/step - loss: 1.6935 - accuracy: 0.3778 - recall: 0.1167 - specificity: 0.9914 - f1_score: 0.1908 - val_loss: 1.6280 - val_accuracy: 0.4092 - val_recall: 0.1825 - val_specificity: 0.9889 - val_f1_score: 0.2833\n",
            "Epoch 3/100\n",
            "80/80 [==============================] - 11s 142ms/step - loss: 1.5977 - accuracy: 0.4175 - recall: 0.1707 - specificity: 0.9893 - f1_score: 0.2654 - val_loss: 1.6253 - val_accuracy: 0.4157 - val_recall: 0.2057 - val_specificity: 0.9848 - val_f1_score: 0.3050\n",
            "Epoch 4/100\n",
            "80/80 [==============================] - 11s 142ms/step - loss: 1.4661 - accuracy: 0.4638 - recall: 0.2470 - specificity: 0.9846 - f1_score: 0.3547 - val_loss: 1.5013 - val_accuracy: 0.4543 - val_recall: 0.2425 - val_specificity: 0.9861 - val_f1_score: 0.3533\n",
            "Epoch 5/100\n",
            "80/80 [==============================] - 11s 143ms/step - loss: 1.3989 - accuracy: 0.4942 - recall: 0.2818 - specificity: 0.9846 - f1_score: 0.3949 - val_loss: 1.4812 - val_accuracy: 0.4692 - val_recall: 0.2783 - val_specificity: 0.9832 - val_f1_score: 0.3884\n",
            "Epoch 6/100\n",
            "80/80 [==============================] - 11s 143ms/step - loss: 1.3473 - accuracy: 0.5152 - recall: 0.3222 - specificity: 0.9827 - f1_score: 0.4335 - val_loss: 1.4931 - val_accuracy: 0.4700 - val_recall: 0.2968 - val_specificity: 0.9801 - val_f1_score: 0.4014\n",
            "Epoch 00006: early stopping\n"
          ],
          "name": "stdout"
        },
        {
          "output_type": "execute_result",
          "data": {
            "text/plain": [
              "<tensorflow.python.keras.callbacks.History at 0x7fe5863c26a0>"
            ]
          },
          "metadata": {
            "tags": []
          },
          "execution_count": 35
        }
      ]
    },
    {
      "cell_type": "markdown",
      "metadata": {
        "id": "vPZChoED1An_"
      },
      "source": [
        "###### Skenario $3.3.5.$ ($\\text{learning_rate} = 0.005$)"
      ]
    },
    {
      "cell_type": "code",
      "metadata": {
        "id": "SvPgU0-Z1dTI",
        "outputId": "66f5ab7d-d207-44d4-c0e7-c010f16e9054",
        "colab": {
          "base_uri": "https://localhost:8080/"
        }
      },
      "source": [
        "convolutional_model = create_model(0.005)\n",
        "convolutional_model.fit(x_train, y_train, epochs=100, batch_size=75, validation_data=(x_test, y_test), use_multiprocessing=True, callbacks=[es])"
      ],
      "execution_count": 36,
      "outputs": [
        {
          "output_type": "stream",
          "text": [
            "Epoch 1/100\n",
            "80/80 [==============================] - 12s 151ms/step - loss: 2.0065 - accuracy: 0.2672 - recall: 0.0458 - specificity: 0.9944 - f1_score: 0.0785 - val_loss: 1.7107 - val_accuracy: 0.3880 - val_recall: 0.0983 - val_specificity: 0.9936 - val_f1_score: 0.1689\n",
            "Epoch 2/100\n",
            "80/80 [==============================] - 12s 149ms/step - loss: 1.6237 - accuracy: 0.4053 - recall: 0.1410 - specificity: 0.9905 - f1_score: 0.2261 - val_loss: 1.5282 - val_accuracy: 0.4593 - val_recall: 0.2267 - val_specificity: 0.9859 - val_f1_score: 0.3340\n",
            "Epoch 3/100\n",
            "80/80 [==============================] - 12s 149ms/step - loss: 1.4676 - accuracy: 0.4638 - recall: 0.2303 - specificity: 0.9861 - f1_score: 0.3376 - val_loss: 1.4930 - val_accuracy: 0.4473 - val_recall: 0.2795 - val_specificity: 0.9807 - val_f1_score: 0.3843\n",
            "Epoch 4/100\n",
            "80/80 [==============================] - 12s 150ms/step - loss: 1.3249 - accuracy: 0.5142 - recall: 0.3123 - specificity: 0.9847 - f1_score: 0.4291 - val_loss: 1.4101 - val_accuracy: 0.4978 - val_recall: 0.3477 - val_specificity: 0.9795 - val_f1_score: 0.4531\n",
            "Epoch 5/100\n",
            "80/80 [==============================] - 12s 150ms/step - loss: 1.2214 - accuracy: 0.5547 - recall: 0.3785 - specificity: 0.9817 - f1_score: 0.4885 - val_loss: 1.3177 - val_accuracy: 0.5288 - val_recall: 0.3526 - val_specificity: 0.9820 - val_f1_score: 0.4645\n",
            "Epoch 6/100\n",
            "80/80 [==============================] - 12s 149ms/step - loss: 1.0699 - accuracy: 0.6248 - recall: 0.4660 - specificity: 0.9832 - f1_score: 0.5745 - val_loss: 1.3397 - val_accuracy: 0.5230 - val_recall: 0.3998 - val_specificity: 0.9773 - val_f1_score: 0.4975\n",
            "Epoch 00006: early stopping\n"
          ],
          "name": "stdout"
        },
        {
          "output_type": "execute_result",
          "data": {
            "text/plain": [
              "<tensorflow.python.keras.callbacks.History at 0x7fe58614ef98>"
            ]
          },
          "metadata": {
            "tags": []
          },
          "execution_count": 36
        }
      ]
    },
    {
      "cell_type": "markdown",
      "metadata": {
        "id": "3XPPdJU10lbS"
      },
      "source": [
        "###### Skenario $3.3.6.$ ($\\text{learning_rate} = 0.0025$)"
      ]
    },
    {
      "cell_type": "code",
      "metadata": {
        "id": "RzfJorGM0jDz",
        "outputId": "ae82d54d-3b20-428b-d745-c6f7d54a9bf2",
        "colab": {
          "base_uri": "https://localhost:8080/"
        }
      },
      "source": [
        "convolutional_model = create_model(0.0025)\n",
        "convolutional_model.fit(x_train, y_train, epochs=100, batch_size=75, validation_data=(x_test, y_test), use_multiprocessing=True, callbacks=[es])"
      ],
      "execution_count": 37,
      "outputs": [
        {
          "output_type": "stream",
          "text": [
            "Epoch 1/100\n",
            "80/80 [==============================] - 12s 151ms/step - loss: 1.9848 - accuracy: 0.2795 - recall: 0.0340 - specificity: 0.9969 - f1_score: 0.0603 - val_loss: 1.6530 - val_accuracy: 0.4027 - val_recall: 0.0965 - val_specificity: 0.9953 - val_f1_score: 0.1681\n",
            "Epoch 2/100\n",
            "80/80 [==============================] - 12s 154ms/step - loss: 1.5731 - accuracy: 0.4397 - recall: 0.1565 - specificity: 0.9899 - f1_score: 0.2487 - val_loss: 1.5009 - val_accuracy: 0.4622 - val_recall: 0.1859 - val_specificity: 0.9909 - val_f1_score: 0.2918\n",
            "Epoch 3/100\n",
            "80/80 [==============================] - 12s 152ms/step - loss: 1.3900 - accuracy: 0.5022 - recall: 0.2743 - specificity: 0.9862 - f1_score: 0.3907 - val_loss: 1.3954 - val_accuracy: 0.5052 - val_recall: 0.3289 - val_specificity: 0.9808 - val_f1_score: 0.4364\n",
            "Epoch 4/100\n",
            "80/80 [==============================] - 12s 153ms/step - loss: 1.2414 - accuracy: 0.5587 - recall: 0.3618 - specificity: 0.9841 - f1_score: 0.4793 - val_loss: 1.3136 - val_accuracy: 0.5307 - val_recall: 0.3694 - val_specificity: 0.9804 - val_f1_score: 0.4764\n",
            "Epoch 5/100\n",
            "80/80 [==============================] - 12s 153ms/step - loss: 1.0941 - accuracy: 0.6088 - recall: 0.4555 - specificity: 0.9832 - f1_score: 0.5651 - val_loss: 1.3134 - val_accuracy: 0.5383 - val_recall: 0.3859 - val_specificity: 0.9809 - val_f1_score: 0.4941\n",
            "Epoch 6/100\n",
            "80/80 [==============================] - 12s 153ms/step - loss: 0.9439 - accuracy: 0.6715 - recall: 0.5377 - specificity: 0.9831 - f1_score: 0.6354 - val_loss: 1.2839 - val_accuracy: 0.5545 - val_recall: 0.4390 - val_specificity: 0.9770 - val_f1_score: 0.5320\n",
            "Epoch 7/100\n",
            "80/80 [==============================] - 12s 154ms/step - loss: 0.8231 - accuracy: 0.7180 - recall: 0.6093 - specificity: 0.9848 - f1_score: 0.6970 - val_loss: 1.3199 - val_accuracy: 0.5652 - val_recall: 0.4790 - val_specificity: 0.9732 - val_f1_score: 0.5567\n",
            "Epoch 00007: early stopping\n"
          ],
          "name": "stdout"
        },
        {
          "output_type": "execute_result",
          "data": {
            "text/plain": [
              "<tensorflow.python.keras.callbacks.History at 0x7fe580e91630>"
            ]
          },
          "metadata": {
            "tags": []
          },
          "execution_count": 37
        }
      ]
    },
    {
      "cell_type": "markdown",
      "metadata": {
        "id": "wJr_rlhB1JGh"
      },
      "source": [
        "###### Skenario $3.3.7.$ ($\\text{learning_rate} = 0.001$)"
      ]
    },
    {
      "cell_type": "code",
      "metadata": {
        "id": "KFwKZqUP1fBz",
        "outputId": "1c8db398-baf1-428d-c4a5-901fa21814e3",
        "colab": {
          "base_uri": "https://localhost:8080/"
        }
      },
      "source": [
        "convolutional_model = create_model(0.001)\n",
        "convolutional_model.fit(x_train, y_train, epochs=100, batch_size=75, validation_data=(x_test, y_test), use_multiprocessing=True, callbacks=[es])"
      ],
      "execution_count": 38,
      "outputs": [
        {
          "output_type": "stream",
          "text": [
            "Epoch 1/100\n",
            "80/80 [==============================] - 12s 150ms/step - loss: 2.1363 - accuracy: 0.2365 - recall: 0.0127 - specificity: 0.9981 - f1_score: 0.0229 - val_loss: 1.8666 - val_accuracy: 0.3440 - val_recall: 0.0341 - val_specificity: 0.9980 - val_f1_score: 0.0639\n",
            "Epoch 2/100\n",
            "80/80 [==============================] - 12s 154ms/step - loss: 1.7017 - accuracy: 0.3875 - recall: 0.1012 - specificity: 0.9935 - f1_score: 0.1714 - val_loss: 1.6391 - val_accuracy: 0.4190 - val_recall: 0.1842 - val_specificity: 0.9889 - val_f1_score: 0.2855\n",
            "Epoch 3/100\n",
            "80/80 [==============================] - 12s 155ms/step - loss: 1.4783 - accuracy: 0.4647 - recall: 0.2138 - specificity: 0.9893 - f1_score: 0.3238 - val_loss: 1.4560 - val_accuracy: 0.4860 - val_recall: 0.2215 - val_specificity: 0.9892 - val_f1_score: 0.3346\n",
            "Epoch 4/100\n",
            "80/80 [==============================] - 12s 155ms/step - loss: 1.3322 - accuracy: 0.5198 - recall: 0.2987 - specificity: 0.9871 - f1_score: 0.4209 - val_loss: 1.3667 - val_accuracy: 0.5153 - val_recall: 0.3062 - val_specificity: 0.9853 - val_f1_score: 0.4241\n",
            "Epoch 5/100\n",
            "80/80 [==============================] - 12s 154ms/step - loss: 1.2662 - accuracy: 0.5507 - recall: 0.3463 - specificity: 0.9861 - f1_score: 0.4686 - val_loss: 1.3812 - val_accuracy: 0.5065 - val_recall: 0.3269 - val_specificity: 0.9808 - val_f1_score: 0.4350\n",
            "Epoch 00005: early stopping\n"
          ],
          "name": "stdout"
        },
        {
          "output_type": "execute_result",
          "data": {
            "text/plain": [
              "<tensorflow.python.keras.callbacks.History at 0x7fe580407b38>"
            ]
          },
          "metadata": {
            "tags": []
          },
          "execution_count": 38
        }
      ]
    },
    {
      "cell_type": "markdown",
      "metadata": {
        "id": "chaYJjvm0dsY"
      },
      "source": [
        "###### Skenario $3.3.8.$ ($\\text{learning_rate} = 0.0005$)"
      ]
    },
    {
      "cell_type": "code",
      "metadata": {
        "id": "XV34nIuE0cEE",
        "outputId": "d17369f6-96bd-4d4c-8d71-f63ca9b48ee1",
        "colab": {
          "base_uri": "https://localhost:8080/"
        }
      },
      "source": [
        "convolutional_model = create_model(0.0005)\n",
        "convolutional_model.fit(x_train, y_train, epochs=100, batch_size=75, validation_data=(x_test, y_test), use_multiprocessing=True, callbacks=[es])"
      ],
      "execution_count": 39,
      "outputs": [
        {
          "output_type": "stream",
          "text": [
            "Epoch 1/100\n",
            "80/80 [==============================] - 12s 147ms/step - loss: 2.0615 - accuracy: 0.2407 - recall: 0.0060 - specificity: 0.9994 - f1_score: 0.0116 - val_loss: 1.8853 - val_accuracy: 0.3180 - val_recall: 0.0188 - val_specificity: 0.9991 - val_f1_score: 0.0360\n",
            "Epoch 2/100\n",
            "80/80 [==============================] - 12s 145ms/step - loss: 1.6977 - accuracy: 0.3882 - recall: 0.0873 - specificity: 0.9954 - f1_score: 0.1507 - val_loss: 1.5913 - val_accuracy: 0.4218 - val_recall: 0.1200 - val_specificity: 0.9943 - val_f1_score: 0.2031\n",
            "Epoch 3/100\n",
            "80/80 [==============================] - 12s 145ms/step - loss: 1.5101 - accuracy: 0.4613 - recall: 0.1790 - specificity: 0.9914 - f1_score: 0.2822 - val_loss: 1.5321 - val_accuracy: 0.4532 - val_recall: 0.2286 - val_specificity: 0.9861 - val_f1_score: 0.3365\n",
            "Epoch 4/100\n",
            "80/80 [==============================] - 12s 145ms/step - loss: 1.3977 - accuracy: 0.5065 - recall: 0.2447 - specificity: 0.9890 - f1_score: 0.3625 - val_loss: 1.4538 - val_accuracy: 0.4685 - val_recall: 0.2281 - val_specificity: 0.9875 - val_f1_score: 0.3383\n",
            "Epoch 5/100\n",
            "80/80 [==============================] - 12s 145ms/step - loss: 1.3194 - accuracy: 0.5343 - recall: 0.2895 - specificity: 0.9887 - f1_score: 0.4148 - val_loss: 1.4472 - val_accuracy: 0.4885 - val_recall: 0.2672 - val_specificity: 0.9853 - val_f1_score: 0.3805\n",
            "Epoch 6/100\n",
            "80/80 [==============================] - 12s 145ms/step - loss: 1.2361 - accuracy: 0.5695 - recall: 0.3405 - specificity: 0.9879 - f1_score: 0.4676 - val_loss: 1.3641 - val_accuracy: 0.5038 - val_recall: 0.3309 - val_specificity: 0.9805 - val_f1_score: 0.4379\n",
            "Epoch 7/100\n",
            "80/80 [==============================] - 12s 145ms/step - loss: 1.1649 - accuracy: 0.5908 - recall: 0.3887 - specificity: 0.9874 - f1_score: 0.5158 - val_loss: 1.3501 - val_accuracy: 0.5088 - val_recall: 0.3188 - val_specificity: 0.9828 - val_f1_score: 0.4313\n",
            "Epoch 8/100\n",
            "80/80 [==============================] - 12s 145ms/step - loss: 1.0982 - accuracy: 0.6248 - recall: 0.4267 - specificity: 0.9871 - f1_score: 0.5518 - val_loss: 1.2810 - val_accuracy: 0.5535 - val_recall: 0.3852 - val_specificity: 0.9813 - val_f1_score: 0.4952\n",
            "Epoch 9/100\n",
            "80/80 [==============================] - 12s 145ms/step - loss: 1.0213 - accuracy: 0.6527 - recall: 0.4642 - specificity: 0.9876 - f1_score: 0.5875 - val_loss: 1.2698 - val_accuracy: 0.5592 - val_recall: 0.4002 - val_specificity: 0.9805 - val_f1_score: 0.5070\n",
            "Epoch 10/100\n",
            "80/80 [==============================] - 12s 145ms/step - loss: 0.9655 - accuracy: 0.6785 - recall: 0.5098 - specificity: 0.9877 - f1_score: 0.6276 - val_loss: 1.3084 - val_accuracy: 0.5523 - val_recall: 0.4059 - val_specificity: 0.9780 - val_f1_score: 0.5054\n",
            "Epoch 00010: early stopping\n"
          ],
          "name": "stdout"
        },
        {
          "output_type": "execute_result",
          "data": {
            "text/plain": [
              "<tensorflow.python.keras.callbacks.History at 0x7fe5801d9ba8>"
            ]
          },
          "metadata": {
            "tags": []
          },
          "execution_count": 39
        }
      ]
    },
    {
      "cell_type": "markdown",
      "metadata": {
        "id": "b0myOcJ50yDI"
      },
      "source": [
        "###### Skenario $3.3.9.$ ($\\text{learning_rate} = 0.00025$)"
      ]
    },
    {
      "cell_type": "code",
      "metadata": {
        "id": "-y01gL5C0vfM",
        "outputId": "47ccf710-6148-4533-eab0-c1223f8836ad",
        "colab": {
          "base_uri": "https://localhost:8080/"
        }
      },
      "source": [
        "convolutional_model = create_model(0.00025)\n",
        "convolutional_model.fit(x_train, y_train, epochs=100, batch_size=75, validation_data=(x_test, y_test), use_multiprocessing=True, callbacks=[es])"
      ],
      "execution_count": 40,
      "outputs": [
        {
          "output_type": "stream",
          "text": [
            "Epoch 1/100\n",
            "80/80 [==============================] - 12s 147ms/step - loss: 2.0752 - accuracy: 0.2492 - recall: 0.0042 - specificity: 0.9997 - f1_score: 0.0080 - val_loss: 1.9102 - val_accuracy: 0.3332 - val_recall: 0.0111 - val_specificity: 0.9999 - val_f1_score: 0.0217\n",
            "Epoch 2/100\n",
            "80/80 [==============================] - 12s 145ms/step - loss: 1.7890 - accuracy: 0.3765 - recall: 0.0433 - specificity: 0.9975 - f1_score: 0.0796 - val_loss: 1.7190 - val_accuracy: 0.3868 - val_recall: 0.0956 - val_specificity: 0.9947 - val_f1_score: 0.1656\n",
            "Epoch 3/100\n",
            "80/80 [==============================] - 12s 145ms/step - loss: 1.6445 - accuracy: 0.4180 - recall: 0.1102 - specificity: 0.9943 - f1_score: 0.1884 - val_loss: 1.6014 - val_accuracy: 0.4358 - val_recall: 0.1156 - val_specificity: 0.9946 - val_f1_score: 0.1970\n",
            "Epoch 4/100\n",
            "80/80 [==============================] - 12s 145ms/step - loss: 1.5318 - accuracy: 0.4472 - recall: 0.1653 - specificity: 0.9927 - f1_score: 0.2657 - val_loss: 1.5490 - val_accuracy: 0.4535 - val_recall: 0.1667 - val_specificity: 0.9915 - val_f1_score: 0.2663\n",
            "Epoch 5/100\n",
            "80/80 [==============================] - 12s 145ms/step - loss: 1.4570 - accuracy: 0.4938 - recall: 0.2117 - specificity: 0.9909 - f1_score: 0.3250 - val_loss: 1.5237 - val_accuracy: 0.4575 - val_recall: 0.2281 - val_specificity: 0.9871 - val_f1_score: 0.3383\n",
            "Epoch 6/100\n",
            "80/80 [==============================] - 12s 147ms/step - loss: 1.3786 - accuracy: 0.5077 - recall: 0.2560 - specificity: 0.9897 - f1_score: 0.3779 - val_loss: 1.4567 - val_accuracy: 0.4805 - val_recall: 0.2217 - val_specificity: 0.9894 - val_f1_score: 0.3348\n",
            "Epoch 7/100\n",
            "80/80 [==============================] - 12s 146ms/step - loss: 1.3433 - accuracy: 0.5218 - recall: 0.2770 - specificity: 0.9884 - f1_score: 0.3989 - val_loss: 1.4507 - val_accuracy: 0.4852 - val_recall: 0.2600 - val_specificity: 0.9843 - val_f1_score: 0.3696\n",
            "Epoch 8/100\n",
            "80/80 [==============================] - 12s 146ms/step - loss: 1.2817 - accuracy: 0.5512 - recall: 0.3157 - specificity: 0.9879 - f1_score: 0.4421 - val_loss: 1.3654 - val_accuracy: 0.5195 - val_recall: 0.2970 - val_specificity: 0.9862 - val_f1_score: 0.4168\n",
            "Epoch 9/100\n",
            "80/80 [==============================] - 12s 146ms/step - loss: 1.2432 - accuracy: 0.5603 - recall: 0.3347 - specificity: 0.9880 - f1_score: 0.4620 - val_loss: 1.3822 - val_accuracy: 0.5138 - val_recall: 0.3057 - val_specificity: 0.9841 - val_f1_score: 0.4205\n",
            "Epoch 00009: early stopping\n"
          ],
          "name": "stdout"
        },
        {
          "output_type": "execute_result",
          "data": {
            "text/plain": [
              "<tensorflow.python.keras.callbacks.History at 0x7fe5861d0ac8>"
            ]
          },
          "metadata": {
            "tags": []
          },
          "execution_count": 40
        }
      ]
    },
    {
      "cell_type": "markdown",
      "metadata": {
        "id": "0fLCCL96034t"
      },
      "source": [
        "###### Skenario $3.3.10.$ ($\\text{learning_rate} = 0.0001$)"
      ]
    },
    {
      "cell_type": "code",
      "metadata": {
        "id": "n-5t6VGz02Db",
        "outputId": "70b1cddb-bf00-499d-e692-acb062feef21",
        "colab": {
          "base_uri": "https://localhost:8080/"
        }
      },
      "source": [
        "convolutional_model = create_model(0.0001)\n",
        "convolutional_model.fit(x_train, y_train, epochs=100, batch_size=75, validation_data=(x_test, y_test), use_multiprocessing=True, callbacks=[es])"
      ],
      "execution_count": 41,
      "outputs": [
        {
          "output_type": "stream",
          "text": [
            "Epoch 1/100\n",
            "80/80 [==============================] - 12s 147ms/step - loss: 2.2317 - accuracy: 0.1815 - recall: 1.6667e-04 - specificity: 1.0000 - f1_score: 3.2468e-04 - val_loss: 2.0954 - val_accuracy: 0.2595 - val_recall: 0.0000e+00 - val_specificity: 1.0000 - val_f1_score: 0.0000e+00\n",
            "Epoch 2/100\n",
            "80/80 [==============================] - 11s 144ms/step - loss: 1.9991 - accuracy: 0.2910 - recall: 0.0032 - specificity: 0.9998 - f1_score: 0.0062 - val_loss: 1.9263 - val_accuracy: 0.3310 - val_recall: 0.0049 - val_specificity: 0.9997 - val_f1_score: 0.0097\n",
            "Epoch 3/100\n",
            "80/80 [==============================] - 12s 145ms/step - loss: 1.8194 - accuracy: 0.3653 - recall: 0.0287 - specificity: 0.9986 - f1_score: 0.0539 - val_loss: 1.7768 - val_accuracy: 0.3837 - val_recall: 0.0358 - val_specificity: 0.9984 - val_f1_score: 0.0673\n",
            "Epoch 4/100\n",
            "80/80 [==============================] - 12s 146ms/step - loss: 1.7154 - accuracy: 0.4037 - recall: 0.0728 - specificity: 0.9964 - f1_score: 0.1293 - val_loss: 1.6951 - val_accuracy: 0.4083 - val_recall: 0.0854 - val_specificity: 0.9956 - val_f1_score: 0.1499\n",
            "Epoch 5/100\n",
            "80/80 [==============================] - 12s 146ms/step - loss: 1.6222 - accuracy: 0.4310 - recall: 0.1042 - specificity: 0.9955 - f1_score: 0.1797 - val_loss: 1.6301 - val_accuracy: 0.4320 - val_recall: 0.1267 - val_specificity: 0.9938 - val_f1_score: 0.2126\n",
            "Epoch 6/100\n",
            "80/80 [==============================] - 12s 147ms/step - loss: 1.5662 - accuracy: 0.4470 - recall: 0.1432 - specificity: 0.9938 - f1_score: 0.2370 - val_loss: 1.6010 - val_accuracy: 0.4370 - val_recall: 0.1588 - val_specificity: 0.9919 - val_f1_score: 0.2559\n",
            "Epoch 7/100\n",
            "80/80 [==============================] - 12s 146ms/step - loss: 1.5059 - accuracy: 0.4738 - recall: 0.1732 - specificity: 0.9932 - f1_score: 0.2785 - val_loss: 1.5513 - val_accuracy: 0.4482 - val_recall: 0.1810 - val_specificity: 0.9908 - val_f1_score: 0.2849\n",
            "Epoch 8/100\n",
            "80/80 [==============================] - 12s 146ms/step - loss: 1.4636 - accuracy: 0.4828 - recall: 0.2017 - specificity: 0.9919 - f1_score: 0.3145 - val_loss: 1.5179 - val_accuracy: 0.4570 - val_recall: 0.1802 - val_specificity: 0.9918 - val_f1_score: 0.2851\n",
            "Epoch 9/100\n",
            "80/80 [==============================] - 12s 147ms/step - loss: 1.4258 - accuracy: 0.5052 - recall: 0.2232 - specificity: 0.9910 - f1_score: 0.3398 - val_loss: 1.4903 - val_accuracy: 0.4753 - val_recall: 0.1988 - val_specificity: 0.9898 - val_f1_score: 0.3060\n",
            "Epoch 10/100\n",
            "80/80 [==============================] - 12s 146ms/step - loss: 1.3928 - accuracy: 0.5160 - recall: 0.2427 - specificity: 0.9905 - f1_score: 0.3626 - val_loss: 1.4831 - val_accuracy: 0.4775 - val_recall: 0.2183 - val_specificity: 0.9887 - val_f1_score: 0.3292\n",
            "Epoch 11/100\n",
            "80/80 [==============================] - 12s 147ms/step - loss: 1.3566 - accuracy: 0.5252 - recall: 0.2607 - specificity: 0.9907 - f1_score: 0.3855 - val_loss: 1.4389 - val_accuracy: 0.4922 - val_recall: 0.2363 - val_specificity: 0.9888 - val_f1_score: 0.3518\n",
            "Epoch 12/100\n",
            "80/80 [==============================] - 12s 147ms/step - loss: 1.3216 - accuracy: 0.5393 - recall: 0.2860 - specificity: 0.9898 - f1_score: 0.4127 - val_loss: 1.4252 - val_accuracy: 0.4992 - val_recall: 0.2607 - val_specificity: 0.9883 - val_f1_score: 0.3799\n",
            "Epoch 13/100\n",
            "80/80 [==============================] - 12s 146ms/step - loss: 1.3032 - accuracy: 0.5473 - recall: 0.3002 - specificity: 0.9895 - f1_score: 0.4286 - val_loss: 1.4378 - val_accuracy: 0.4857 - val_recall: 0.2649 - val_specificity: 0.9860 - val_f1_score: 0.3795\n",
            "Epoch 00013: early stopping\n"
          ],
          "name": "stdout"
        },
        {
          "output_type": "execute_result",
          "data": {
            "text/plain": [
              "<tensorflow.python.keras.callbacks.History at 0x7fe57ff1fa58>"
            ]
          },
          "metadata": {
            "tags": []
          },
          "execution_count": 41
        }
      ]
    },
    {
      "cell_type": "markdown",
      "metadata": {
        "id": "eNWcw6jIuAx9"
      },
      "source": [
        "###### Kesimpulan Skenario $3.3.$"
      ]
    },
    {
      "cell_type": "markdown",
      "metadata": {
        "id": "yD3FdlZ8nCGT"
      },
      "source": [
        "Berdasarkan hasil dari skenario $3.3.1.$, $3.3.2.$, $3.3.3.$, $3.3.4.$, $3.3.5.$, $3.3.6.$, $3.3.7.$, $3.3.8.$, $3.3.9.$, dan $3.3.10.$, skenario $3.3.6.$ menghasilkan akurasi yang paling baik. Dengan demikian $\\text{learning_rate}$ optimal dari skenario-skenario tersebut adalah $\\text{learning_rate}$ dari skenario $3.3.6.$, yaitu $0.0025$."
      ]
    },
    {
      "cell_type": "markdown",
      "metadata": {
        "id": "W0ojZluBUfi6"
      },
      "source": [
        "#### 4.\n",
        "Simpan _checkpoint_ dari tiap _interval_ $\\text{epoch}$ dan model final dari proses training dari model $\\text{Convolutional Neural Network}$ dengan parameter optimal yang diperoleh dari skenario agar bisa digunakan kembali untuk proses training selanjutnya."
      ]
    },
    {
      "cell_type": "code",
      "metadata": {
        "id": "0pzItHWEz1u0",
        "outputId": "869c8aa2-67b3-495a-f0e4-14197820f2c2",
        "colab": {
          "base_uri": "https://localhost:8080/"
        }
      },
      "source": [
        "checkpoint = ModelCheckpoint(\"checkpoint_model.h5\", monitor='loss', verbose=1, mode='auto', save_freq=1)\n",
        "final_convolutional_model = create_model(0.0025)\n",
        "history = final_convolutional_model.fit(x_train, y_train, epochs=100, batch_size=75, validation_data=(x_test, y_test), use_multiprocessing=True, callbacks=[es, checkpoint])"
      ],
      "execution_count": 42,
      "outputs": [
        {
          "output_type": "stream",
          "text": [
            "Epoch 1/100\n",
            "\n",
            "Epoch 00001: saving model to checkpoint_model.h5\n",
            " 1/80 [..............................] - ETA: 0s - loss: 2.4929 - accuracy: 0.1333 - recall: 0.0000e+00 - specificity: 0.9985 - f1_score: 0.0000e+00\n",
            "Epoch 00001: saving model to checkpoint_model.h5\n",
            " 2/80 [..............................] - ETA: 5s - loss: 5.1212 - accuracy: 0.0933 - recall: 0.0267 - specificity: 0.9467 - f1_score: 0.0267        \n",
            "Epoch 00001: saving model to checkpoint_model.h5\n",
            " 3/80 [>.............................] - ETA: 7s - loss: 4.7664 - accuracy: 0.1111 - recall: 0.0622 - specificity: 0.9393 - f1_score: 0.0668\n",
            "Epoch 00001: saving model to checkpoint_model.h5\n",
            " 4/80 [>.............................] - ETA: 8s - loss: 4.3184 - accuracy: 0.1100 - recall: 0.0500 - specificity: 0.9533 - f1_score: 0.0564\n",
            "Epoch 00001: saving model to checkpoint_model.h5\n",
            " 5/80 [>.............................] - ETA: 9s - loss: 3.9540 - accuracy: 0.1067 - recall: 0.0400 - specificity: 0.9627 - f1_score: 0.0451\n",
            "Epoch 00001: saving model to checkpoint_model.h5\n",
            " 6/80 [=>............................] - ETA: 9s - loss: 3.7041 - accuracy: 0.0956 - recall: 0.0333 - specificity: 0.9689 - f1_score: 0.0376\n",
            "Epoch 00001: saving model to checkpoint_model.h5\n",
            " 7/80 [=>............................] - ETA: 9s - loss: 3.5086 - accuracy: 0.0914 - recall: 0.0286 - specificity: 0.9733 - f1_score: 0.0322\n",
            "Epoch 00001: saving model to checkpoint_model.h5\n",
            " 8/80 [==>...........................] - ETA: 9s - loss: 3.3542 - accuracy: 0.1033 - recall: 0.0250 - specificity: 0.9767 - f1_score: 0.0282\n",
            "Epoch 00001: saving model to checkpoint_model.h5\n",
            " 9/80 [==>...........................] - ETA: 9s - loss: 3.2341 - accuracy: 0.1126 - recall: 0.0222 - specificity: 0.9793 - f1_score: 0.0251\n",
            "Epoch 00001: saving model to checkpoint_model.h5\n",
            "10/80 [==>...........................] - ETA: 9s - loss: 3.1381 - accuracy: 0.1213 - recall: 0.0200 - specificity: 0.9813 - f1_score: 0.0226\n",
            "Epoch 00001: saving model to checkpoint_model.h5\n",
            "11/80 [===>..........................] - ETA: 9s - loss: 3.0587 - accuracy: 0.1285 - recall: 0.0182 - specificity: 0.9830 - f1_score: 0.0205\n",
            "Epoch 00001: saving model to checkpoint_model.h5\n",
            "12/80 [===>..........................] - ETA: 9s - loss: 2.9941 - accuracy: 0.1244 - recall: 0.0167 - specificity: 0.9844 - f1_score: 0.0188\n",
            "Epoch 00001: saving model to checkpoint_model.h5\n",
            "13/80 [===>..........................] - ETA: 9s - loss: 2.9386 - accuracy: 0.1221 - recall: 0.0154 - specificity: 0.9856 - f1_score: 0.0174\n",
            "Epoch 00001: saving model to checkpoint_model.h5\n",
            "14/80 [====>.........................] - ETA: 9s - loss: 2.8900 - accuracy: 0.1219 - recall: 0.0143 - specificity: 0.9867 - f1_score: 0.0161\n",
            "Epoch 00001: saving model to checkpoint_model.h5\n",
            "15/80 [====>.........................] - ETA: 9s - loss: 2.8483 - accuracy: 0.1244 - recall: 0.0133 - specificity: 0.9876 - f1_score: 0.0150\n",
            "Epoch 00001: saving model to checkpoint_model.h5\n",
            "16/80 [=====>........................] - ETA: 9s - loss: 2.8118 - accuracy: 0.1242 - recall: 0.0125 - specificity: 0.9883 - f1_score: 0.0141\n",
            "Epoch 00001: saving model to checkpoint_model.h5\n",
            "17/80 [=====>........................] - ETA: 9s - loss: 2.7798 - accuracy: 0.1255 - recall: 0.0118 - specificity: 0.9890 - f1_score: 0.0133\n",
            "Epoch 00001: saving model to checkpoint_model.h5\n",
            "18/80 [=====>........................] - ETA: 8s - loss: 2.7495 - accuracy: 0.1267 - recall: 0.0111 - specificity: 0.9896 - f1_score: 0.0125\n",
            "Epoch 00001: saving model to checkpoint_model.h5\n",
            "19/80 [======>.......................] - ETA: 8s - loss: 2.7233 - accuracy: 0.1277 - recall: 0.0105 - specificity: 0.9902 - f1_score: 0.0119\n",
            "Epoch 00001: saving model to checkpoint_model.h5\n",
            "20/80 [======>.......................] - ETA: 8s - loss: 2.6971 - accuracy: 0.1353 - recall: 0.0100 - specificity: 0.9907 - f1_score: 0.0113\n",
            "Epoch 00001: saving model to checkpoint_model.h5\n",
            "21/80 [======>.......................] - ETA: 8s - loss: 2.6740 - accuracy: 0.1346 - recall: 0.0095 - specificity: 0.9911 - f1_score: 0.0107\n",
            "Epoch 00001: saving model to checkpoint_model.h5\n",
            "22/80 [=======>......................] - ETA: 8s - loss: 2.6528 - accuracy: 0.1352 - recall: 0.0091 - specificity: 0.9915 - f1_score: 0.0103\n",
            "Epoch 00001: saving model to checkpoint_model.h5\n",
            "23/80 [=======>......................] - ETA: 8s - loss: 2.6322 - accuracy: 0.1351 - recall: 0.0087 - specificity: 0.9919 - f1_score: 0.0098\n",
            "Epoch 00001: saving model to checkpoint_model.h5\n",
            "24/80 [========>.....................] - ETA: 8s - loss: 2.6125 - accuracy: 0.1383 - recall: 0.0083 - specificity: 0.9922 - f1_score: 0.0094\n",
            "Epoch 00001: saving model to checkpoint_model.h5\n",
            "25/80 [========>.....................] - ETA: 7s - loss: 2.5941 - accuracy: 0.1408 - recall: 0.0080 - specificity: 0.9925 - f1_score: 0.0090\n",
            "Epoch 00001: saving model to checkpoint_model.h5\n",
            "26/80 [========>.....................] - ETA: 7s - loss: 2.5791 - accuracy: 0.1415 - recall: 0.0077 - specificity: 0.9928 - f1_score: 0.0087\n",
            "Epoch 00001: saving model to checkpoint_model.h5\n",
            "27/80 [=========>....................] - ETA: 7s - loss: 2.5640 - accuracy: 0.1437 - recall: 0.0074 - specificity: 0.9931 - f1_score: 0.0084\n",
            "Epoch 00001: saving model to checkpoint_model.h5\n",
            "28/80 [=========>....................] - ETA: 7s - loss: 2.5479 - accuracy: 0.1471 - recall: 0.0071 - specificity: 0.9933 - f1_score: 0.0081\n",
            "Epoch 00001: saving model to checkpoint_model.h5\n",
            "29/80 [=========>....................] - ETA: 7s - loss: 2.5315 - accuracy: 0.1480 - recall: 0.0069 - specificity: 0.9936 - f1_score: 0.0078\n",
            "Epoch 00001: saving model to checkpoint_model.h5\n",
            "30/80 [==========>...................] - ETA: 7s - loss: 2.5175 - accuracy: 0.1502 - recall: 0.0067 - specificity: 0.9938 - f1_score: 0.0075\n",
            "Epoch 00001: saving model to checkpoint_model.h5\n",
            "31/80 [==========>...................] - ETA: 7s - loss: 2.5038 - accuracy: 0.1527 - recall: 0.0065 - specificity: 0.9940 - f1_score: 0.0073\n",
            "Epoch 00001: saving model to checkpoint_model.h5\n",
            "32/80 [===========>..................] - ETA: 7s - loss: 2.4919 - accuracy: 0.1533 - recall: 0.0063 - specificity: 0.9942 - f1_score: 0.0071\n",
            "Epoch 00001: saving model to checkpoint_model.h5\n",
            "33/80 [===========>..................] - ETA: 6s - loss: 2.4804 - accuracy: 0.1556 - recall: 0.0061 - specificity: 0.9943 - f1_score: 0.0068\n",
            "Epoch 00001: saving model to checkpoint_model.h5\n",
            "34/80 [===========>..................] - ETA: 6s - loss: 2.4723 - accuracy: 0.1557 - recall: 0.0059 - specificity: 0.9945 - f1_score: 0.0066\n",
            "Epoch 00001: saving model to checkpoint_model.h5\n",
            "35/80 [============>.................] - ETA: 6s - loss: 2.4607 - accuracy: 0.1581 - recall: 0.0057 - specificity: 0.9947 - f1_score: 0.0064\n",
            "Epoch 00001: saving model to checkpoint_model.h5\n",
            "36/80 [============>.................] - ETA: 6s - loss: 2.4468 - accuracy: 0.1596 - recall: 0.0056 - specificity: 0.9948 - f1_score: 0.0063\n",
            "Epoch 00001: saving model to checkpoint_model.h5\n",
            "37/80 [============>.................] - ETA: 6s - loss: 2.4390 - accuracy: 0.1622 - recall: 0.0054 - specificity: 0.9950 - f1_score: 0.0061\n",
            "Epoch 00001: saving model to checkpoint_model.h5\n",
            "38/80 [=============>................] - ETA: 6s - loss: 2.4290 - accuracy: 0.1656 - recall: 0.0053 - specificity: 0.9951 - f1_score: 0.0059\n",
            "Epoch 00001: saving model to checkpoint_model.h5\n",
            "39/80 [=============>................] - ETA: 6s - loss: 2.4186 - accuracy: 0.1699 - recall: 0.0051 - specificity: 0.9952 - f1_score: 0.0058\n",
            "Epoch 00001: saving model to checkpoint_model.h5\n",
            "40/80 [==============>...............] - ETA: 5s - loss: 2.4097 - accuracy: 0.1710 - recall: 0.0050 - specificity: 0.9953 - f1_score: 0.0056\n",
            "Epoch 00001: saving model to checkpoint_model.h5\n",
            "41/80 [==============>...............] - ETA: 5s - loss: 2.3988 - accuracy: 0.1743 - recall: 0.0049 - specificity: 0.9954 - f1_score: 0.0055\n",
            "Epoch 00001: saving model to checkpoint_model.h5\n",
            "42/80 [==============>...............] - ETA: 5s - loss: 2.3895 - accuracy: 0.1743 - recall: 0.0051 - specificity: 0.9956 - f1_score: 0.0060\n",
            "Epoch 00001: saving model to checkpoint_model.h5\n",
            "43/80 [===============>..............] - ETA: 5s - loss: 2.3788 - accuracy: 0.1764 - recall: 0.0050 - specificity: 0.9957 - f1_score: 0.0059\n",
            "Epoch 00001: saving model to checkpoint_model.h5\n",
            "44/80 [===============>..............] - ETA: 5s - loss: 2.3662 - accuracy: 0.1794 - recall: 0.0048 - specificity: 0.9958 - f1_score: 0.0057\n",
            "Epoch 00001: saving model to checkpoint_model.h5\n",
            "45/80 [===============>..............] - ETA: 5s - loss: 2.3568 - accuracy: 0.1819 - recall: 0.0047 - specificity: 0.9959 - f1_score: 0.0056\n",
            "Epoch 00001: saving model to checkpoint_model.h5\n",
            "46/80 [================>.............] - ETA: 5s - loss: 2.3481 - accuracy: 0.1846 - recall: 0.0046 - specificity: 0.9959 - f1_score: 0.0055\n",
            "Epoch 00001: saving model to checkpoint_model.h5\n",
            "47/80 [================>.............] - ETA: 4s - loss: 2.3411 - accuracy: 0.1881 - recall: 0.0045 - specificity: 0.9960 - f1_score: 0.0054\n",
            "Epoch 00001: saving model to checkpoint_model.h5\n",
            "48/80 [=================>............] - ETA: 4s - loss: 2.3372 - accuracy: 0.1892 - recall: 0.0044 - specificity: 0.9961 - f1_score: 0.0053\n",
            "Epoch 00001: saving model to checkpoint_model.h5\n",
            "49/80 [=================>............] - ETA: 4s - loss: 2.3254 - accuracy: 0.1937 - recall: 0.0046 - specificity: 0.9962 - f1_score: 0.0057\n",
            "Epoch 00001: saving model to checkpoint_model.h5\n",
            "50/80 [=================>............] - ETA: 4s - loss: 2.3183 - accuracy: 0.1957 - recall: 0.0045 - specificity: 0.9962 - f1_score: 0.0056\n",
            "Epoch 00001: saving model to checkpoint_model.h5\n",
            "51/80 [==================>...........] - ETA: 4s - loss: 2.3163 - accuracy: 0.1976 - recall: 0.0044 - specificity: 0.9962 - f1_score: 0.0055\n",
            "Epoch 00001: saving model to checkpoint_model.h5\n",
            "52/80 [==================>...........] - ETA: 4s - loss: 2.3086 - accuracy: 0.2010 - recall: 0.0049 - specificity: 0.9963 - f1_score: 0.0064\n",
            "Epoch 00001: saving model to checkpoint_model.h5\n",
            "53/80 [==================>...........] - ETA: 4s - loss: 2.3003 - accuracy: 0.2030 - recall: 0.0050 - specificity: 0.9963 - f1_score: 0.0067\n",
            "Epoch 00001: saving model to checkpoint_model.h5\n",
            "54/80 [===================>..........] - ETA: 3s - loss: 2.2945 - accuracy: 0.2044 - recall: 0.0049 - specificity: 0.9964 - f1_score: 0.0066\n",
            "Epoch 00001: saving model to checkpoint_model.h5\n",
            "55/80 [===================>..........] - ETA: 3s - loss: 2.2888 - accuracy: 0.2046 - recall: 0.0051 - specificity: 0.9965 - f1_score: 0.0070\n",
            "Epoch 00001: saving model to checkpoint_model.h5\n",
            "56/80 [====================>.........] - ETA: 3s - loss: 2.2834 - accuracy: 0.2052 - recall: 0.0055 - specificity: 0.9965 - f1_score: 0.0077\n",
            "Epoch 00001: saving model to checkpoint_model.h5\n",
            "57/80 [====================>.........] - ETA: 3s - loss: 2.2757 - accuracy: 0.2080 - recall: 0.0061 - specificity: 0.9965 - f1_score: 0.0089\n",
            "Epoch 00001: saving model to checkpoint_model.h5\n",
            "58/80 [====================>.........] - ETA: 3s - loss: 2.2702 - accuracy: 0.2108 - recall: 0.0062 - specificity: 0.9966 - f1_score: 0.0092\n",
            "Epoch 00001: saving model to checkpoint_model.h5\n",
            "59/80 [=====================>........] - ETA: 3s - loss: 2.2641 - accuracy: 0.2122 - recall: 0.0061 - specificity: 0.9966 - f1_score: 0.0091\n",
            "Epoch 00001: saving model to checkpoint_model.h5\n",
            "60/80 [=====================>........] - ETA: 2s - loss: 2.2595 - accuracy: 0.2140 - recall: 0.0060 - specificity: 0.9967 - f1_score: 0.0089\n",
            "Epoch 00001: saving model to checkpoint_model.h5\n",
            "61/80 [=====================>........] - ETA: 2s - loss: 2.2532 - accuracy: 0.2153 - recall: 0.0059 - specificity: 0.9967 - f1_score: 0.0088\n",
            "Epoch 00001: saving model to checkpoint_model.h5\n",
            "62/80 [======================>.......] - ETA: 2s - loss: 2.2492 - accuracy: 0.2157 - recall: 0.0058 - specificity: 0.9968 - f1_score: 0.0086\n",
            "Epoch 00001: saving model to checkpoint_model.h5\n",
            "63/80 [======================>.......] - ETA: 2s - loss: 2.2438 - accuracy: 0.2159 - recall: 0.0057 - specificity: 0.9968 - f1_score: 0.0085\n",
            "Epoch 00001: saving model to checkpoint_model.h5\n",
            "64/80 [=======================>......] - ETA: 2s - loss: 2.2384 - accuracy: 0.2165 - recall: 0.0058 - specificity: 0.9969 - f1_score: 0.0088\n",
            "Epoch 00001: saving model to checkpoint_model.h5\n",
            "65/80 [=======================>......] - ETA: 2s - loss: 2.2341 - accuracy: 0.2178 - recall: 0.0062 - specificity: 0.9969 - f1_score: 0.0094\n",
            "Epoch 00001: saving model to checkpoint_model.h5\n",
            "66/80 [=======================>......] - ETA: 2s - loss: 2.2284 - accuracy: 0.2200 - recall: 0.0065 - specificity: 0.9969 - f1_score: 0.0101\n",
            "Epoch 00001: saving model to checkpoint_model.h5\n",
            "67/80 [========================>.....] - ETA: 1s - loss: 2.2226 - accuracy: 0.2217 - recall: 0.0076 - specificity: 0.9969 - f1_score: 0.0121\n",
            "Epoch 00001: saving model to checkpoint_model.h5\n",
            "68/80 [========================>.....] - ETA: 1s - loss: 2.2183 - accuracy: 0.2229 - recall: 0.0078 - specificity: 0.9969 - f1_score: 0.0126\n",
            "Epoch 00001: saving model to checkpoint_model.h5\n",
            "69/80 [========================>.....] - ETA: 1s - loss: 2.2127 - accuracy: 0.2253 - recall: 0.0083 - specificity: 0.9969 - f1_score: 0.0135\n",
            "Epoch 00001: saving model to checkpoint_model.h5\n",
            "70/80 [=========================>....] - ETA: 1s - loss: 2.2067 - accuracy: 0.2265 - recall: 0.0086 - specificity: 0.9969 - f1_score: 0.0141\n",
            "Epoch 00001: saving model to checkpoint_model.h5\n",
            "71/80 [=========================>....] - ETA: 1s - loss: 2.2018 - accuracy: 0.2272 - recall: 0.0086 - specificity: 0.9970 - f1_score: 0.0143\n",
            "Epoch 00001: saving model to checkpoint_model.h5\n",
            "72/80 [==========================>...] - ETA: 1s - loss: 2.1975 - accuracy: 0.2285 - recall: 0.0089 - specificity: 0.9970 - f1_score: 0.0148\n",
            "Epoch 00001: saving model to checkpoint_model.h5\n",
            "73/80 [==========================>...] - ETA: 1s - loss: 2.1928 - accuracy: 0.2298 - recall: 0.0091 - specificity: 0.9969 - f1_score: 0.0152\n",
            "Epoch 00001: saving model to checkpoint_model.h5\n",
            "74/80 [==========================>...] - ETA: 0s - loss: 2.1855 - accuracy: 0.2319 - recall: 0.0097 - specificity: 0.9969 - f1_score: 0.0163\n",
            "Epoch 00001: saving model to checkpoint_model.h5\n",
            "75/80 [===========================>..] - ETA: 0s - loss: 2.1827 - accuracy: 0.2318 - recall: 0.0103 - specificity: 0.9968 - f1_score: 0.0174\n",
            "Epoch 00001: saving model to checkpoint_model.h5\n",
            "76/80 [===========================>..] - ETA: 0s - loss: 2.1789 - accuracy: 0.2337 - recall: 0.0114 - specificity: 0.9967 - f1_score: 0.0193\n",
            "Epoch 00001: saving model to checkpoint_model.h5\n",
            "77/80 [===========================>..] - ETA: 0s - loss: 2.1748 - accuracy: 0.2341 - recall: 0.0118 - specificity: 0.9968 - f1_score: 0.0200\n",
            "Epoch 00001: saving model to checkpoint_model.h5\n",
            "78/80 [============================>.] - ETA: 0s - loss: 2.1696 - accuracy: 0.2362 - recall: 0.0118 - specificity: 0.9968 - f1_score: 0.0201\n",
            "Epoch 00001: saving model to checkpoint_model.h5\n",
            "79/80 [============================>.] - ETA: 0s - loss: 2.1662 - accuracy: 0.2375 - recall: 0.0120 - specificity: 0.9968 - f1_score: 0.0205\n",
            "Epoch 00001: saving model to checkpoint_model.h5\n",
            "80/80 [==============================] - 14s 179ms/step - loss: 2.1605 - accuracy: 0.2393 - recall: 0.0127 - specificity: 0.9969 - f1_score: 0.0218 - val_loss: 1.7400 - val_accuracy: 0.3790 - val_recall: 0.0615 - val_specificity: 0.9973 - val_f1_score: 0.1121\n",
            "Epoch 2/100\n",
            "\n",
            "Epoch 00002: saving model to checkpoint_model.h5\n",
            " 1/80 [..............................] - ETA: 0s - loss: 1.6100 - accuracy: 0.3600 - recall: 0.0667 - specificity: 0.9926 - f1_score: 0.1176\n",
            "Epoch 00002: saving model to checkpoint_model.h5\n",
            " 2/80 [..............................] - ETA: 5s - loss: 1.6074 - accuracy: 0.4067 - recall: 0.0533 - specificity: 0.9963 - f1_score: 0.0973\n",
            "Epoch 00002: saving model to checkpoint_model.h5\n",
            " 3/80 [>.............................] - ETA: 7s - loss: 1.6502 - accuracy: 0.3867 - recall: 0.0578 - specificity: 0.9956 - f1_score: 0.1045\n",
            "Epoch 00002: saving model to checkpoint_model.h5\n",
            " 4/80 [>.............................] - ETA: 8s - loss: 1.6271 - accuracy: 0.4067 - recall: 0.0733 - specificity: 0.9963 - f1_score: 0.1313\n",
            "Epoch 00002: saving model to checkpoint_model.h5\n",
            " 5/80 [>.............................] - ETA: 9s - loss: 1.6090 - accuracy: 0.4213 - recall: 0.0853 - specificity: 0.9967 - f1_score: 0.1516\n",
            "Epoch 00002: saving model to checkpoint_model.h5\n",
            " 6/80 [=>............................] - ETA: 9s - loss: 1.6350 - accuracy: 0.4044 - recall: 0.0889 - specificity: 0.9956 - f1_score: 0.1560\n",
            "Epoch 00002: saving model to checkpoint_model.h5\n",
            " 7/80 [=>............................] - ETA: 9s - loss: 1.6447 - accuracy: 0.4038 - recall: 0.0971 - specificity: 0.9941 - f1_score: 0.1664\n",
            "Epoch 00002: saving model to checkpoint_model.h5\n",
            " 8/80 [==>...........................] - ETA: 9s - loss: 1.6249 - accuracy: 0.4117 - recall: 0.1150 - specificity: 0.9939 - f1_score: 0.1915\n",
            "Epoch 00002: saving model to checkpoint_model.h5\n",
            " 9/80 [==>...........................] - ETA: 9s - loss: 1.6521 - accuracy: 0.4059 - recall: 0.1156 - specificity: 0.9936 - f1_score: 0.1925\n",
            "Epoch 00002: saving model to checkpoint_model.h5\n",
            "10/80 [==>...........................] - ETA: 9s - loss: 1.6897 - accuracy: 0.4013 - recall: 0.1173 - specificity: 0.9927 - f1_score: 0.1943\n",
            "Epoch 00002: saving model to checkpoint_model.h5\n",
            "11/80 [===>..........................] - ETA: 9s - loss: 1.6796 - accuracy: 0.3952 - recall: 0.1188 - specificity: 0.9927 - f1_score: 0.1968\n",
            "Epoch 00002: saving model to checkpoint_model.h5\n",
            "12/80 [===>..........................] - ETA: 9s - loss: 1.6705 - accuracy: 0.4044 - recall: 0.1178 - specificity: 0.9930 - f1_score: 0.1959\n",
            "Epoch 00002: saving model to checkpoint_model.h5\n",
            "13/80 [===>..........................] - ETA: 9s - loss: 1.6814 - accuracy: 0.4000 - recall: 0.1149 - specificity: 0.9934 - f1_score: 0.1921\n",
            "Epoch 00002: saving model to checkpoint_model.h5\n",
            "14/80 [====>.........................] - ETA: 9s - loss: 1.6761 - accuracy: 0.4057 - recall: 0.1133 - specificity: 0.9937 - f1_score: 0.1903\n",
            "Epoch 00002: saving model to checkpoint_model.h5\n",
            "15/80 [====>.........................] - ETA: 9s - loss: 1.6726 - accuracy: 0.4089 - recall: 0.1156 - specificity: 0.9934 - f1_score: 0.1934\n",
            "Epoch 00002: saving model to checkpoint_model.h5\n",
            "16/80 [=====>........................] - ETA: 9s - loss: 1.6753 - accuracy: 0.4092 - recall: 0.1183 - specificity: 0.9931 - f1_score: 0.1972\n",
            "Epoch 00002: saving model to checkpoint_model.h5\n",
            "17/80 [=====>........................] - ETA: 9s - loss: 1.6756 - accuracy: 0.4102 - recall: 0.1200 - specificity: 0.9928 - f1_score: 0.1993\n",
            "Epoch 00002: saving model to checkpoint_model.h5\n",
            "18/80 [=====>........................] - ETA: 8s - loss: 1.6730 - accuracy: 0.4104 - recall: 0.1207 - specificity: 0.9926 - f1_score: 0.2003\n",
            "Epoch 00002: saving model to checkpoint_model.h5\n",
            "19/80 [======>.......................] - ETA: 8s - loss: 1.6665 - accuracy: 0.4119 - recall: 0.1207 - specificity: 0.9925 - f1_score: 0.2003\n",
            "Epoch 00002: saving model to checkpoint_model.h5\n",
            "20/80 [======>.......................] - ETA: 8s - loss: 1.6745 - accuracy: 0.4093 - recall: 0.1180 - specificity: 0.9926 - f1_score: 0.1962\n",
            "Epoch 00002: saving model to checkpoint_model.h5\n",
            "21/80 [======>.......................] - ETA: 8s - loss: 1.6806 - accuracy: 0.4076 - recall: 0.1149 - specificity: 0.9928 - f1_score: 0.1916\n",
            "Epoch 00002: saving model to checkpoint_model.h5\n",
            "22/80 [=======>......................] - ETA: 8s - loss: 1.6805 - accuracy: 0.4097 - recall: 0.1139 - specificity: 0.9930 - f1_score: 0.1904\n",
            "Epoch 00002: saving model to checkpoint_model.h5\n",
            "23/80 [=======>......................] - ETA: 8s - loss: 1.6783 - accuracy: 0.4104 - recall: 0.1142 - specificity: 0.9931 - f1_score: 0.1911\n",
            "Epoch 00002: saving model to checkpoint_model.h5\n",
            "24/80 [========>.....................] - ETA: 8s - loss: 1.6756 - accuracy: 0.4094 - recall: 0.1133 - specificity: 0.9933 - f1_score: 0.1901\n",
            "Epoch 00002: saving model to checkpoint_model.h5\n",
            "25/80 [========>.....................] - ETA: 8s - loss: 1.6656 - accuracy: 0.4128 - recall: 0.1147 - specificity: 0.9934 - f1_score: 0.1925\n",
            "Epoch 00002: saving model to checkpoint_model.h5\n",
            "26/80 [========>.....................] - ETA: 7s - loss: 1.6620 - accuracy: 0.4118 - recall: 0.1138 - specificity: 0.9934 - f1_score: 0.1913\n",
            "Epoch 00002: saving model to checkpoint_model.h5\n",
            "27/80 [=========>....................] - ETA: 7s - loss: 1.6584 - accuracy: 0.4133 - recall: 0.1170 - specificity: 0.9935 - f1_score: 0.1962\n",
            "Epoch 00002: saving model to checkpoint_model.h5\n",
            "28/80 [=========>....................] - ETA: 7s - loss: 1.6561 - accuracy: 0.4138 - recall: 0.1176 - specificity: 0.9933 - f1_score: 0.1969\n",
            "Epoch 00002: saving model to checkpoint_model.h5\n",
            "29/80 [=========>....................] - ETA: 7s - loss: 1.6582 - accuracy: 0.4110 - recall: 0.1163 - specificity: 0.9933 - f1_score: 0.1949\n",
            "Epoch 00002: saving model to checkpoint_model.h5\n",
            "30/80 [==========>...................] - ETA: 7s - loss: 1.6536 - accuracy: 0.4107 - recall: 0.1156 - specificity: 0.9934 - f1_score: 0.1939\n",
            "Epoch 00002: saving model to checkpoint_model.h5\n",
            "31/80 [==========>...................] - ETA: 7s - loss: 1.6603 - accuracy: 0.4056 - recall: 0.1127 - specificity: 0.9934 - f1_score: 0.1893\n",
            "Epoch 00002: saving model to checkpoint_model.h5\n",
            "32/80 [===========>..................] - ETA: 7s - loss: 1.6579 - accuracy: 0.4075 - recall: 0.1133 - specificity: 0.9934 - f1_score: 0.1904\n",
            "Epoch 00002: saving model to checkpoint_model.h5\n",
            "33/80 [===========>..................] - ETA: 6s - loss: 1.6567 - accuracy: 0.4044 - recall: 0.1143 - specificity: 0.9931 - f1_score: 0.1915\n",
            "Epoch 00002: saving model to checkpoint_model.h5\n",
            "34/80 [===========>..................] - ETA: 6s - loss: 1.6520 - accuracy: 0.4071 - recall: 0.1161 - specificity: 0.9932 - f1_score: 0.1943\n",
            "Epoch 00002: saving model to checkpoint_model.h5\n",
            "35/80 [============>.................] - ETA: 6s - loss: 1.6462 - accuracy: 0.4091 - recall: 0.1185 - specificity: 0.9931 - f1_score: 0.1976\n",
            "Epoch 00002: saving model to checkpoint_model.h5\n",
            "36/80 [============>.................] - ETA: 6s - loss: 1.6458 - accuracy: 0.4089 - recall: 0.1207 - specificity: 0.9931 - f1_score: 0.2009\n",
            "Epoch 00002: saving model to checkpoint_model.h5\n",
            "37/80 [============>.................] - ETA: 6s - loss: 1.6484 - accuracy: 0.4068 - recall: 0.1236 - specificity: 0.9930 - f1_score: 0.2048\n",
            "Epoch 00002: saving model to checkpoint_model.h5\n",
            "38/80 [=============>................] - ETA: 6s - loss: 1.6447 - accuracy: 0.4095 - recall: 0.1277 - specificity: 0.9929 - f1_score: 0.2101\n",
            "Epoch 00002: saving model to checkpoint_model.h5\n",
            "39/80 [=============>................] - ETA: 6s - loss: 1.6419 - accuracy: 0.4096 - recall: 0.1292 - specificity: 0.9927 - f1_score: 0.2118\n",
            "Epoch 00002: saving model to checkpoint_model.h5\n",
            "40/80 [==============>...............] - ETA: 6s - loss: 1.6424 - accuracy: 0.4080 - recall: 0.1303 - specificity: 0.9925 - f1_score: 0.2132\n",
            "Epoch 00002: saving model to checkpoint_model.h5\n",
            "41/80 [==============>...............] - ETA: 5s - loss: 1.6429 - accuracy: 0.4078 - recall: 0.1304 - specificity: 0.9924 - f1_score: 0.2133\n",
            "Epoch 00002: saving model to checkpoint_model.h5\n",
            "42/80 [==============>...............] - ETA: 5s - loss: 1.6432 - accuracy: 0.4086 - recall: 0.1295 - specificity: 0.9923 - f1_score: 0.2119\n",
            "Epoch 00002: saving model to checkpoint_model.h5\n",
            "43/80 [===============>..............] - ETA: 5s - loss: 1.6440 - accuracy: 0.4084 - recall: 0.1299 - specificity: 0.9922 - f1_score: 0.2124\n",
            "Epoch 00002: saving model to checkpoint_model.h5\n",
            "44/80 [===============>..............] - ETA: 5s - loss: 1.6505 - accuracy: 0.4076 - recall: 0.1294 - specificity: 0.9921 - f1_score: 0.2116\n",
            "Epoch 00002: saving model to checkpoint_model.h5\n",
            "45/80 [===============>..............] - ETA: 5s - loss: 1.6503 - accuracy: 0.4077 - recall: 0.1295 - specificity: 0.9921 - f1_score: 0.2119\n",
            "Epoch 00002: saving model to checkpoint_model.h5\n",
            "46/80 [================>.............] - ETA: 5s - loss: 1.6531 - accuracy: 0.4072 - recall: 0.1281 - specificity: 0.9921 - f1_score: 0.2098\n",
            "Epoch 00002: saving model to checkpoint_model.h5\n",
            "47/80 [================>.............] - ETA: 5s - loss: 1.6535 - accuracy: 0.4062 - recall: 0.1274 - specificity: 0.9922 - f1_score: 0.2088\n",
            "Epoch 00002: saving model to checkpoint_model.h5\n",
            "48/80 [=================>............] - ETA: 4s - loss: 1.6571 - accuracy: 0.4047 - recall: 0.1261 - specificity: 0.9923 - f1_score: 0.2070\n",
            "Epoch 00002: saving model to checkpoint_model.h5\n",
            "49/80 [=================>............] - ETA: 4s - loss: 1.6550 - accuracy: 0.4038 - recall: 0.1263 - specificity: 0.9923 - f1_score: 0.2073\n",
            "Epoch 00002: saving model to checkpoint_model.h5\n",
            "50/80 [=================>............] - ETA: 4s - loss: 1.6515 - accuracy: 0.4051 - recall: 0.1288 - specificity: 0.9923 - f1_score: 0.2108\n",
            "Epoch 00002: saving model to checkpoint_model.h5\n",
            "51/80 [==================>...........] - ETA: 4s - loss: 1.6538 - accuracy: 0.4044 - recall: 0.1299 - specificity: 0.9924 - f1_score: 0.2127\n",
            "Epoch 00002: saving model to checkpoint_model.h5\n",
            "52/80 [==================>...........] - ETA: 4s - loss: 1.6530 - accuracy: 0.4041 - recall: 0.1303 - specificity: 0.9922 - f1_score: 0.2130\n",
            "Epoch 00002: saving model to checkpoint_model.h5\n",
            "53/80 [==================>...........] - ETA: 4s - loss: 1.6531 - accuracy: 0.4043 - recall: 0.1308 - specificity: 0.9922 - f1_score: 0.2139\n",
            "Epoch 00002: saving model to checkpoint_model.h5\n",
            "54/80 [===================>..........] - ETA: 3s - loss: 1.6515 - accuracy: 0.4037 - recall: 0.1299 - specificity: 0.9922 - f1_score: 0.2126\n",
            "Epoch 00002: saving model to checkpoint_model.h5\n",
            "55/80 [===================>..........] - ETA: 3s - loss: 1.6517 - accuracy: 0.4034 - recall: 0.1282 - specificity: 0.9924 - f1_score: 0.2101\n",
            "Epoch 00002: saving model to checkpoint_model.h5\n",
            "56/80 [====================>.........] - ETA: 3s - loss: 1.6508 - accuracy: 0.4031 - recall: 0.1281 - specificity: 0.9925 - f1_score: 0.2101\n",
            "Epoch 00002: saving model to checkpoint_model.h5\n",
            "57/80 [====================>.........] - ETA: 3s - loss: 1.6491 - accuracy: 0.4040 - recall: 0.1275 - specificity: 0.9925 - f1_score: 0.2093\n",
            "Epoch 00002: saving model to checkpoint_model.h5\n",
            "58/80 [====================>.........] - ETA: 3s - loss: 1.6494 - accuracy: 0.4046 - recall: 0.1271 - specificity: 0.9925 - f1_score: 0.2088\n",
            "Epoch 00002: saving model to checkpoint_model.h5\n",
            "59/80 [=====================>........] - ETA: 3s - loss: 1.6494 - accuracy: 0.4029 - recall: 0.1268 - specificity: 0.9923 - f1_score: 0.2081\n",
            "Epoch 00002: saving model to checkpoint_model.h5\n",
            "60/80 [=====================>........] - ETA: 3s - loss: 1.6475 - accuracy: 0.4033 - recall: 0.1271 - specificity: 0.9923 - f1_score: 0.2086\n",
            "Epoch 00002: saving model to checkpoint_model.h5\n",
            "61/80 [=====================>........] - ETA: 2s - loss: 1.6466 - accuracy: 0.4026 - recall: 0.1259 - specificity: 0.9923 - f1_score: 0.2067\n",
            "Epoch 00002: saving model to checkpoint_model.h5\n",
            "62/80 [======================>.......] - ETA: 2s - loss: 1.6444 - accuracy: 0.4030 - recall: 0.1277 - specificity: 0.9921 - f1_score: 0.2089\n",
            "Epoch 00002: saving model to checkpoint_model.h5\n",
            "63/80 [======================>.......] - ETA: 2s - loss: 1.6434 - accuracy: 0.4021 - recall: 0.1276 - specificity: 0.9921 - f1_score: 0.2088\n",
            "Epoch 00002: saving model to checkpoint_model.h5\n",
            "64/80 [=======================>......] - ETA: 2s - loss: 1.6395 - accuracy: 0.4027 - recall: 0.1290 - specificity: 0.9921 - f1_score: 0.2106\n",
            "Epoch 00002: saving model to checkpoint_model.h5\n",
            "65/80 [=======================>......] - ETA: 2s - loss: 1.6384 - accuracy: 0.4035 - recall: 0.1292 - specificity: 0.9920 - f1_score: 0.2111\n",
            "Epoch 00002: saving model to checkpoint_model.h5\n",
            "66/80 [=======================>......] - ETA: 2s - loss: 1.6365 - accuracy: 0.4034 - recall: 0.1311 - specificity: 0.9921 - f1_score: 0.2137\n",
            "Epoch 00002: saving model to checkpoint_model.h5\n",
            "67/80 [========================>.....] - ETA: 1s - loss: 1.6315 - accuracy: 0.4058 - recall: 0.1337 - specificity: 0.9922 - f1_score: 0.2174\n",
            "Epoch 00002: saving model to checkpoint_model.h5\n",
            "68/80 [========================>.....] - ETA: 1s - loss: 1.6299 - accuracy: 0.4063 - recall: 0.1351 - specificity: 0.9921 - f1_score: 0.2193\n",
            "Epoch 00002: saving model to checkpoint_model.h5\n",
            "69/80 [========================>.....] - ETA: 1s - loss: 1.6318 - accuracy: 0.4043 - recall: 0.1349 - specificity: 0.9920 - f1_score: 0.2188\n",
            "Epoch 00002: saving model to checkpoint_model.h5\n",
            "70/80 [=========================>....] - ETA: 1s - loss: 1.6321 - accuracy: 0.4040 - recall: 0.1352 - specificity: 0.9919 - f1_score: 0.2194\n",
            "Epoch 00002: saving model to checkpoint_model.h5\n",
            "71/80 [=========================>....] - ETA: 1s - loss: 1.6297 - accuracy: 0.4058 - recall: 0.1367 - specificity: 0.9919 - f1_score: 0.2214\n",
            "Epoch 00002: saving model to checkpoint_model.h5\n",
            "72/80 [==========================>...] - ETA: 1s - loss: 1.6277 - accuracy: 0.4081 - recall: 0.1372 - specificity: 0.9919 - f1_score: 0.2222\n",
            "Epoch 00002: saving model to checkpoint_model.h5\n",
            "73/80 [==========================>...] - ETA: 1s - loss: 1.6263 - accuracy: 0.4091 - recall: 0.1379 - specificity: 0.9918 - f1_score: 0.2230\n",
            "Epoch 00002: saving model to checkpoint_model.h5\n",
            "74/80 [==========================>...] - ETA: 0s - loss: 1.6264 - accuracy: 0.4095 - recall: 0.1384 - specificity: 0.9918 - f1_score: 0.2238\n",
            "Epoch 00002: saving model to checkpoint_model.h5\n",
            "75/80 [===========================>..] - ETA: 0s - loss: 1.6232 - accuracy: 0.4105 - recall: 0.1388 - specificity: 0.9918 - f1_score: 0.2245\n",
            "Epoch 00002: saving model to checkpoint_model.h5\n",
            "76/80 [===========================>..] - ETA: 0s - loss: 1.6235 - accuracy: 0.4107 - recall: 0.1393 - specificity: 0.9917 - f1_score: 0.2250\n",
            "Epoch 00002: saving model to checkpoint_model.h5\n",
            "77/80 [===========================>..] - ETA: 0s - loss: 1.6225 - accuracy: 0.4111 - recall: 0.1410 - specificity: 0.9917 - f1_score: 0.2272\n",
            "Epoch 00002: saving model to checkpoint_model.h5\n",
            "78/80 [============================>.] - ETA: 0s - loss: 1.6243 - accuracy: 0.4101 - recall: 0.1412 - specificity: 0.9917 - f1_score: 0.2276\n",
            "Epoch 00002: saving model to checkpoint_model.h5\n",
            "79/80 [============================>.] - ETA: 0s - loss: 1.6222 - accuracy: 0.4101 - recall: 0.1424 - specificity: 0.9917 - f1_score: 0.2294\n",
            "Epoch 00002: saving model to checkpoint_model.h5\n",
            "80/80 [==============================] - 14s 178ms/step - loss: 1.6240 - accuracy: 0.4097 - recall: 0.1422 - specificity: 0.9916 - f1_score: 0.2289 - val_loss: 1.5526 - val_accuracy: 0.4430 - val_recall: 0.2037 - val_specificity: 0.9876 - val_f1_score: 0.3087\n",
            "Epoch 3/100\n",
            "\n",
            "Epoch 00003: saving model to checkpoint_model.h5\n",
            " 1/80 [..............................] - ETA: 0s - loss: 1.4093 - accuracy: 0.5200 - recall: 0.2133 - specificity: 0.9911 - f1_score: 0.3299\n",
            "Epoch 00003: saving model to checkpoint_model.h5\n",
            " 2/80 [..............................] - ETA: 6s - loss: 1.5039 - accuracy: 0.4733 - recall: 0.2133 - specificity: 0.9911 - f1_score: 0.3299\n",
            "Epoch 00003: saving model to checkpoint_model.h5\n",
            " 3/80 [>.............................] - ETA: 7s - loss: 1.4796 - accuracy: 0.4800 - recall: 0.2044 - specificity: 0.9901 - f1_score: 0.3162\n",
            "Epoch 00003: saving model to checkpoint_model.h5\n",
            " 4/80 [>.............................] - ETA: 8s - loss: 1.5125 - accuracy: 0.4733 - recall: 0.2000 - specificity: 0.9922 - f1_score: 0.3149\n",
            "Epoch 00003: saving model to checkpoint_model.h5\n",
            " 5/80 [>.............................] - ETA: 9s - loss: 1.5145 - accuracy: 0.4613 - recall: 0.1920 - specificity: 0.9926 - f1_score: 0.3047\n",
            "Epoch 00003: saving model to checkpoint_model.h5\n",
            " 6/80 [=>............................] - ETA: 9s - loss: 1.5083 - accuracy: 0.4644 - recall: 0.1844 - specificity: 0.9921 - f1_score: 0.2933\n",
            "Epoch 00003: saving model to checkpoint_model.h5\n",
            " 7/80 [=>............................] - ETA: 9s - loss: 1.5088 - accuracy: 0.4629 - recall: 0.1848 - specificity: 0.9915 - f1_score: 0.2926\n",
            "Epoch 00003: saving model to checkpoint_model.h5\n",
            " 8/80 [==>...........................] - ETA: 9s - loss: 1.4780 - accuracy: 0.4733 - recall: 0.2000 - specificity: 0.9920 - f1_score: 0.3130\n",
            "Epoch 00003: saving model to checkpoint_model.h5\n",
            " 9/80 [==>...........................] - ETA: 9s - loss: 1.4876 - accuracy: 0.4681 - recall: 0.1956 - specificity: 0.9921 - f1_score: 0.3072\n",
            "Epoch 00003: saving model to checkpoint_model.h5\n",
            "10/80 [==>...........................] - ETA: 9s - loss: 1.4989 - accuracy: 0.4653 - recall: 0.1947 - specificity: 0.9921 - f1_score: 0.3063\n",
            "Epoch 00003: saving model to checkpoint_model.h5\n",
            "11/80 [===>..........................] - ETA: 9s - loss: 1.4923 - accuracy: 0.4630 - recall: 0.1939 - specificity: 0.9925 - f1_score: 0.3061\n",
            "Epoch 00003: saving model to checkpoint_model.h5\n",
            "12/80 [===>..........................] - ETA: 9s - loss: 1.4869 - accuracy: 0.4578 - recall: 0.1956 - specificity: 0.9919 - f1_score: 0.3070\n",
            "Epoch 00003: saving model to checkpoint_model.h5\n",
            "13/80 [===>..........................] - ETA: 9s - loss: 1.4717 - accuracy: 0.4605 - recall: 0.1990 - specificity: 0.9919 - f1_score: 0.3116\n",
            "Epoch 00003: saving model to checkpoint_model.h5\n",
            "14/80 [====>.........................] - ETA: 9s - loss: 1.4722 - accuracy: 0.4571 - recall: 0.1962 - specificity: 0.9917 - f1_score: 0.3076\n",
            "Epoch 00003: saving model to checkpoint_model.h5\n",
            "15/80 [====>.........................] - ETA: 9s - loss: 1.4613 - accuracy: 0.4578 - recall: 0.1991 - specificity: 0.9913 - f1_score: 0.3104\n",
            "Epoch 00003: saving model to checkpoint_model.h5\n",
            "16/80 [=====>........................] - ETA: 9s - loss: 1.4630 - accuracy: 0.4592 - recall: 0.2050 - specificity: 0.9908 - f1_score: 0.3165\n",
            "Epoch 00003: saving model to checkpoint_model.h5\n",
            "17/80 [=====>........................] - ETA: 9s - loss: 1.4646 - accuracy: 0.4580 - recall: 0.2078 - specificity: 0.9908 - f1_score: 0.3200\n",
            "Epoch 00003: saving model to checkpoint_model.h5\n",
            "18/80 [=====>........................] - ETA: 9s - loss: 1.4615 - accuracy: 0.4585 - recall: 0.2081 - specificity: 0.9903 - f1_score: 0.3195\n",
            "Epoch 00003: saving model to checkpoint_model.h5\n",
            "19/80 [======>.......................] - ETA: 8s - loss: 1.4734 - accuracy: 0.4568 - recall: 0.2084 - specificity: 0.9900 - f1_score: 0.3193\n",
            "Epoch 00003: saving model to checkpoint_model.h5\n",
            "20/80 [======>.......................] - ETA: 8s - loss: 1.4687 - accuracy: 0.4580 - recall: 0.2127 - specificity: 0.9899 - f1_score: 0.3243\n",
            "Epoch 00003: saving model to checkpoint_model.h5\n",
            "21/80 [======>.......................] - ETA: 8s - loss: 1.4705 - accuracy: 0.4590 - recall: 0.2127 - specificity: 0.9897 - f1_score: 0.3240\n",
            "Epoch 00003: saving model to checkpoint_model.h5\n",
            "22/80 [=======>......................] - ETA: 8s - loss: 1.4595 - accuracy: 0.4606 - recall: 0.2133 - specificity: 0.9897 - f1_score: 0.3248\n",
            "Epoch 00003: saving model to checkpoint_model.h5\n",
            "23/80 [=======>......................] - ETA: 8s - loss: 1.4570 - accuracy: 0.4603 - recall: 0.2128 - specificity: 0.9897 - f1_score: 0.3242\n",
            "Epoch 00003: saving model to checkpoint_model.h5\n",
            "24/80 [========>.....................] - ETA: 8s - loss: 1.4631 - accuracy: 0.4606 - recall: 0.2133 - specificity: 0.9894 - f1_score: 0.3244\n",
            "Epoch 00003: saving model to checkpoint_model.h5\n",
            "25/80 [========>.....................] - ETA: 8s - loss: 1.4605 - accuracy: 0.4619 - recall: 0.2144 - specificity: 0.9894 - f1_score: 0.3257\n",
            "Epoch 00003: saving model to checkpoint_model.h5\n",
            "26/80 [========>.....................] - ETA: 8s - loss: 1.4570 - accuracy: 0.4626 - recall: 0.2113 - specificity: 0.9895 - f1_score: 0.3216\n",
            "Epoch 00003: saving model to checkpoint_model.h5\n",
            "27/80 [=========>....................] - ETA: 7s - loss: 1.4567 - accuracy: 0.4627 - recall: 0.2104 - specificity: 0.9895 - f1_score: 0.3205\n",
            "Epoch 00003: saving model to checkpoint_model.h5\n",
            "28/80 [=========>....................] - ETA: 7s - loss: 1.4625 - accuracy: 0.4614 - recall: 0.2105 - specificity: 0.9895 - f1_score: 0.3208\n",
            "Epoch 00003: saving model to checkpoint_model.h5\n",
            "29/80 [=========>....................] - ETA: 7s - loss: 1.4582 - accuracy: 0.4639 - recall: 0.2133 - specificity: 0.9894 - f1_score: 0.3241\n",
            "Epoch 00003: saving model to checkpoint_model.h5\n",
            "30/80 [==========>...................] - ETA: 7s - loss: 1.4545 - accuracy: 0.4636 - recall: 0.2138 - specificity: 0.9895 - f1_score: 0.3249\n",
            "Epoch 00003: saving model to checkpoint_model.h5\n",
            "31/80 [==========>...................] - ETA: 7s - loss: 1.4506 - accuracy: 0.4662 - recall: 0.2155 - specificity: 0.9895 - f1_score: 0.3272\n",
            "Epoch 00003: saving model to checkpoint_model.h5\n",
            "32/80 [===========>..................] - ETA: 7s - loss: 1.4475 - accuracy: 0.4688 - recall: 0.2167 - specificity: 0.9894 - f1_score: 0.3283\n",
            "Epoch 00003: saving model to checkpoint_model.h5\n",
            "33/80 [===========>..................] - ETA: 7s - loss: 1.4478 - accuracy: 0.4695 - recall: 0.2158 - specificity: 0.9892 - f1_score: 0.3269\n",
            "Epoch 00003: saving model to checkpoint_model.h5\n",
            "34/80 [===========>..................] - ETA: 6s - loss: 1.4422 - accuracy: 0.4722 - recall: 0.2184 - specificity: 0.9892 - f1_score: 0.3300\n",
            "Epoch 00003: saving model to checkpoint_model.h5\n",
            "35/80 [============>.................] - ETA: 6s - loss: 1.4424 - accuracy: 0.4735 - recall: 0.2202 - specificity: 0.9892 - f1_score: 0.3321\n",
            "Epoch 00003: saving model to checkpoint_model.h5\n",
            "36/80 [============>.................] - ETA: 6s - loss: 1.4437 - accuracy: 0.4730 - recall: 0.2222 - specificity: 0.9888 - f1_score: 0.3336\n",
            "Epoch 00003: saving model to checkpoint_model.h5\n",
            "37/80 [============>.................] - ETA: 6s - loss: 1.4384 - accuracy: 0.4757 - recall: 0.2245 - specificity: 0.9889 - f1_score: 0.3367\n",
            "Epoch 00003: saving model to checkpoint_model.h5\n",
            "38/80 [=============>................] - ETA: 6s - loss: 1.4397 - accuracy: 0.4754 - recall: 0.2260 - specificity: 0.9889 - f1_score: 0.3385\n",
            "Epoch 00003: saving model to checkpoint_model.h5\n",
            "39/80 [=============>................] - ETA: 6s - loss: 1.4416 - accuracy: 0.4756 - recall: 0.2260 - specificity: 0.9888 - f1_score: 0.3385\n",
            "Epoch 00003: saving model to checkpoint_model.h5\n",
            "40/80 [==============>...............] - ETA: 6s - loss: 1.4418 - accuracy: 0.4750 - recall: 0.2290 - specificity: 0.9888 - f1_score: 0.3420\n",
            "Epoch 00003: saving model to checkpoint_model.h5\n",
            "41/80 [==============>...............] - ETA: 5s - loss: 1.4411 - accuracy: 0.4745 - recall: 0.2296 - specificity: 0.9888 - f1_score: 0.3428\n",
            "Epoch 00003: saving model to checkpoint_model.h5\n",
            "42/80 [==============>...............] - ETA: 5s - loss: 1.4397 - accuracy: 0.4746 - recall: 0.2292 - specificity: 0.9889 - f1_score: 0.3425\n",
            "Epoch 00003: saving model to checkpoint_model.h5\n",
            "43/80 [===============>..............] - ETA: 5s - loss: 1.4358 - accuracy: 0.4753 - recall: 0.2304 - specificity: 0.9889 - f1_score: 0.3440\n",
            "Epoch 00003: saving model to checkpoint_model.h5\n",
            "44/80 [===============>..............] - ETA: 5s - loss: 1.4336 - accuracy: 0.4758 - recall: 0.2306 - specificity: 0.9888 - f1_score: 0.3441\n",
            "Epoch 00003: saving model to checkpoint_model.h5\n",
            "45/80 [===============>..............] - ETA: 5s - loss: 1.4305 - accuracy: 0.4782 - recall: 0.2311 - specificity: 0.9887 - f1_score: 0.3446\n",
            "Epoch 00003: saving model to checkpoint_model.h5\n",
            "46/80 [================>.............] - ETA: 5s - loss: 1.4307 - accuracy: 0.4803 - recall: 0.2333 - specificity: 0.9887 - f1_score: 0.3472\n",
            "Epoch 00003: saving model to checkpoint_model.h5\n",
            "47/80 [================>.............] - ETA: 5s - loss: 1.4304 - accuracy: 0.4806 - recall: 0.2346 - specificity: 0.9886 - f1_score: 0.3484\n",
            "Epoch 00003: saving model to checkpoint_model.h5\n",
            "48/80 [=================>............] - ETA: 4s - loss: 1.4291 - accuracy: 0.4806 - recall: 0.2353 - specificity: 0.9885 - f1_score: 0.3489\n",
            "Epoch 00003: saving model to checkpoint_model.h5\n",
            "49/80 [=================>............] - ETA: 4s - loss: 1.4292 - accuracy: 0.4803 - recall: 0.2362 - specificity: 0.9884 - f1_score: 0.3500\n",
            "Epoch 00003: saving model to checkpoint_model.h5\n",
            "50/80 [=================>............] - ETA: 4s - loss: 1.4317 - accuracy: 0.4795 - recall: 0.2368 - specificity: 0.9884 - f1_score: 0.3507\n",
            "Epoch 00003: saving model to checkpoint_model.h5\n",
            "51/80 [==================>...........] - ETA: 4s - loss: 1.4285 - accuracy: 0.4810 - recall: 0.2397 - specificity: 0.9884 - f1_score: 0.3540\n",
            "Epoch 00003: saving model to checkpoint_model.h5\n",
            "52/80 [==================>...........] - ETA: 4s - loss: 1.4281 - accuracy: 0.4826 - recall: 0.2395 - specificity: 0.9883 - f1_score: 0.3535\n",
            "Epoch 00003: saving model to checkpoint_model.h5\n",
            "53/80 [==================>...........] - ETA: 4s - loss: 1.4252 - accuracy: 0.4830 - recall: 0.2405 - specificity: 0.9883 - f1_score: 0.3547\n",
            "Epoch 00003: saving model to checkpoint_model.h5\n",
            "54/80 [===================>..........] - ETA: 3s - loss: 1.4239 - accuracy: 0.4835 - recall: 0.2402 - specificity: 0.9883 - f1_score: 0.3545\n",
            "Epoch 00003: saving model to checkpoint_model.h5\n",
            "55/80 [===================>..........] - ETA: 3s - loss: 1.4217 - accuracy: 0.4836 - recall: 0.2405 - specificity: 0.9883 - f1_score: 0.3547\n",
            "Epoch 00003: saving model to checkpoint_model.h5\n",
            "56/80 [====================>.........] - ETA: 3s - loss: 1.4193 - accuracy: 0.4845 - recall: 0.2426 - specificity: 0.9882 - f1_score: 0.3571\n",
            "Epoch 00003: saving model to checkpoint_model.h5\n",
            "57/80 [====================>.........] - ETA: 3s - loss: 1.4194 - accuracy: 0.4854 - recall: 0.2428 - specificity: 0.9882 - f1_score: 0.3572\n",
            "Epoch 00003: saving model to checkpoint_model.h5\n",
            "58/80 [====================>.........] - ETA: 3s - loss: 1.4193 - accuracy: 0.4848 - recall: 0.2425 - specificity: 0.9882 - f1_score: 0.3570\n",
            "Epoch 00003: saving model to checkpoint_model.h5\n",
            "59/80 [=====================>........] - ETA: 3s - loss: 1.4176 - accuracy: 0.4852 - recall: 0.2432 - specificity: 0.9883 - f1_score: 0.3580\n",
            "Epoch 00003: saving model to checkpoint_model.h5\n",
            "60/80 [=====================>........] - ETA: 3s - loss: 1.4130 - accuracy: 0.4864 - recall: 0.2444 - specificity: 0.9883 - f1_score: 0.3595\n",
            "Epoch 00003: saving model to checkpoint_model.h5\n",
            "61/80 [=====================>........] - ETA: 2s - loss: 1.4100 - accuracy: 0.4874 - recall: 0.2459 - specificity: 0.9884 - f1_score: 0.3615\n",
            "Epoch 00003: saving model to checkpoint_model.h5\n",
            "62/80 [======================>.......] - ETA: 2s - loss: 1.4094 - accuracy: 0.4875 - recall: 0.2465 - specificity: 0.9884 - f1_score: 0.3622\n",
            "Epoch 00003: saving model to checkpoint_model.h5\n",
            "63/80 [======================>.......] - ETA: 2s - loss: 1.4093 - accuracy: 0.4876 - recall: 0.2472 - specificity: 0.9884 - f1_score: 0.3632\n",
            "Epoch 00003: saving model to checkpoint_model.h5\n",
            "64/80 [=======================>......] - ETA: 2s - loss: 1.4114 - accuracy: 0.4871 - recall: 0.2481 - specificity: 0.9883 - f1_score: 0.3640\n",
            "Epoch 00003: saving model to checkpoint_model.h5\n",
            "65/80 [=======================>......] - ETA: 2s - loss: 1.4108 - accuracy: 0.4872 - recall: 0.2482 - specificity: 0.9883 - f1_score: 0.3640\n",
            "Epoch 00003: saving model to checkpoint_model.h5\n",
            "66/80 [=======================>......] - ETA: 2s - loss: 1.4100 - accuracy: 0.4869 - recall: 0.2505 - specificity: 0.9883 - f1_score: 0.3666\n",
            "Epoch 00003: saving model to checkpoint_model.h5\n",
            "67/80 [========================>.....] - ETA: 1s - loss: 1.4114 - accuracy: 0.4868 - recall: 0.2509 - specificity: 0.9881 - f1_score: 0.3669\n",
            "Epoch 00003: saving model to checkpoint_model.h5\n",
            "68/80 [========================>.....] - ETA: 1s - loss: 1.4113 - accuracy: 0.4867 - recall: 0.2514 - specificity: 0.9881 - f1_score: 0.3673\n",
            "Epoch 00003: saving model to checkpoint_model.h5\n",
            "69/80 [========================>.....] - ETA: 1s - loss: 1.4123 - accuracy: 0.4866 - recall: 0.2518 - specificity: 0.9880 - f1_score: 0.3677\n",
            "Epoch 00003: saving model to checkpoint_model.h5\n",
            "70/80 [=========================>....] - ETA: 1s - loss: 1.4134 - accuracy: 0.4859 - recall: 0.2520 - specificity: 0.9881 - f1_score: 0.3680\n",
            "Epoch 00003: saving model to checkpoint_model.h5\n",
            "71/80 [=========================>....] - ETA: 1s - loss: 1.4138 - accuracy: 0.4858 - recall: 0.2526 - specificity: 0.9880 - f1_score: 0.3685\n",
            "Epoch 00003: saving model to checkpoint_model.h5\n",
            "72/80 [==========================>...] - ETA: 1s - loss: 1.4150 - accuracy: 0.4848 - recall: 0.2526 - specificity: 0.9880 - f1_score: 0.3685\n",
            "Epoch 00003: saving model to checkpoint_model.h5\n",
            "73/80 [==========================>...] - ETA: 1s - loss: 1.4140 - accuracy: 0.4860 - recall: 0.2542 - specificity: 0.9880 - f1_score: 0.3704\n",
            "Epoch 00003: saving model to checkpoint_model.h5\n",
            "74/80 [==========================>...] - ETA: 0s - loss: 1.4142 - accuracy: 0.4858 - recall: 0.2550 - specificity: 0.9879 - f1_score: 0.3710\n",
            "Epoch 00003: saving model to checkpoint_model.h5\n",
            "75/80 [===========================>..] - ETA: 0s - loss: 1.4152 - accuracy: 0.4855 - recall: 0.2549 - specificity: 0.9879 - f1_score: 0.3711\n",
            "Epoch 00003: saving model to checkpoint_model.h5\n",
            "76/80 [===========================>..] - ETA: 0s - loss: 1.4147 - accuracy: 0.4860 - recall: 0.2544 - specificity: 0.9878 - f1_score: 0.3703\n",
            "Epoch 00003: saving model to checkpoint_model.h5\n",
            "77/80 [===========================>..] - ETA: 0s - loss: 1.4160 - accuracy: 0.4845 - recall: 0.2540 - specificity: 0.9878 - f1_score: 0.3698\n",
            "Epoch 00003: saving model to checkpoint_model.h5\n",
            "78/80 [============================>.] - ETA: 0s - loss: 1.4152 - accuracy: 0.4843 - recall: 0.2542 - specificity: 0.9878 - f1_score: 0.3701\n",
            "Epoch 00003: saving model to checkpoint_model.h5\n",
            "79/80 [============================>.] - ETA: 0s - loss: 1.4182 - accuracy: 0.4839 - recall: 0.2530 - specificity: 0.9878 - f1_score: 0.3686\n",
            "Epoch 00003: saving model to checkpoint_model.h5\n",
            "80/80 [==============================] - 14s 178ms/step - loss: 1.4179 - accuracy: 0.4845 - recall: 0.2535 - specificity: 0.9879 - f1_score: 0.3694 - val_loss: 1.3940 - val_accuracy: 0.5017 - val_recall: 0.2464 - val_specificity: 0.9895 - val_f1_score: 0.3658\n",
            "Epoch 4/100\n",
            "\n",
            "Epoch 00004: saving model to checkpoint_model.h5\n",
            " 1/80 [..............................] - ETA: 0s - loss: 1.2381 - accuracy: 0.5733 - recall: 0.2667 - specificity: 0.9881 - f1_score: 0.3883\n",
            "Epoch 00004: saving model to checkpoint_model.h5\n",
            " 2/80 [..............................] - ETA: 5s - loss: 1.2700 - accuracy: 0.6000 - recall: 0.3000 - specificity: 0.9904 - f1_score: 0.4323\n",
            "Epoch 00004: saving model to checkpoint_model.h5\n",
            " 3/80 [>.............................] - ETA: 7s - loss: 1.2869 - accuracy: 0.5867 - recall: 0.3111 - specificity: 0.9901 - f1_score: 0.4439\n",
            "Epoch 00004: saving model to checkpoint_model.h5\n",
            " 4/80 [>.............................] - ETA: 8s - loss: 1.3145 - accuracy: 0.5767 - recall: 0.3033 - specificity: 0.9885 - f1_score: 0.4311\n",
            "Epoch 00004: saving model to checkpoint_model.h5\n",
            " 5/80 [>.............................] - ETA: 9s - loss: 1.3132 - accuracy: 0.5573 - recall: 0.3040 - specificity: 0.9887 - f1_score: 0.4325\n",
            "Epoch 00004: saving model to checkpoint_model.h5\n",
            " 6/80 [=>............................] - ETA: 9s - loss: 1.2895 - accuracy: 0.5556 - recall: 0.3111 - specificity: 0.9894 - f1_score: 0.4422\n",
            "Epoch 00004: saving model to checkpoint_model.h5\n",
            " 7/80 [=>............................] - ETA: 9s - loss: 1.2801 - accuracy: 0.5695 - recall: 0.3200 - specificity: 0.9896 - f1_score: 0.4524\n",
            "Epoch 00004: saving model to checkpoint_model.h5\n",
            " 8/80 [==>...........................] - ETA: 9s - loss: 1.2830 - accuracy: 0.5650 - recall: 0.3150 - specificity: 0.9896 - f1_score: 0.4468\n",
            "Epoch 00004: saving model to checkpoint_model.h5\n",
            " 9/80 [==>...........................] - ETA: 9s - loss: 1.3037 - accuracy: 0.5467 - recall: 0.3081 - specificity: 0.9886 - f1_score: 0.4366\n",
            "Epoch 00004: saving model to checkpoint_model.h5\n",
            "10/80 [==>...........................] - ETA: 9s - loss: 1.3005 - accuracy: 0.5480 - recall: 0.3067 - specificity: 0.9895 - f1_score: 0.4374\n",
            "Epoch 00004: saving model to checkpoint_model.h5\n",
            "11/80 [===>..........................] - ETA: 9s - loss: 1.2796 - accuracy: 0.5576 - recall: 0.3115 - specificity: 0.9896 - f1_score: 0.4431\n",
            "Epoch 00004: saving model to checkpoint_model.h5\n",
            "12/80 [===>..........................] - ETA: 9s - loss: 1.2636 - accuracy: 0.5611 - recall: 0.3133 - specificity: 0.9898 - f1_score: 0.4455\n",
            "Epoch 00004: saving model to checkpoint_model.h5\n",
            "13/80 [===>..........................] - ETA: 9s - loss: 1.2602 - accuracy: 0.5651 - recall: 0.3138 - specificity: 0.9901 - f1_score: 0.4471\n",
            "Epoch 00004: saving model to checkpoint_model.h5\n",
            "14/80 [====>.........................] - ETA: 9s - loss: 1.2522 - accuracy: 0.5648 - recall: 0.3181 - specificity: 0.9899 - f1_score: 0.4512\n",
            "Epoch 00004: saving model to checkpoint_model.h5\n",
            "15/80 [====>.........................] - ETA: 9s - loss: 1.2345 - accuracy: 0.5680 - recall: 0.3289 - specificity: 0.9895 - f1_score: 0.4604\n",
            "Epoch 00004: saving model to checkpoint_model.h5\n",
            "16/80 [=====>........................] - ETA: 9s - loss: 1.2339 - accuracy: 0.5700 - recall: 0.3283 - specificity: 0.9892 - f1_score: 0.4589\n",
            "Epoch 00004: saving model to checkpoint_model.h5\n",
            "17/80 [=====>........................] - ETA: 9s - loss: 1.2554 - accuracy: 0.5631 - recall: 0.3294 - specificity: 0.9886 - f1_score: 0.4585\n",
            "Epoch 00004: saving model to checkpoint_model.h5\n",
            "18/80 [=====>........................] - ETA: 9s - loss: 1.2737 - accuracy: 0.5548 - recall: 0.3274 - specificity: 0.9876 - f1_score: 0.4540\n",
            "Epoch 00004: saving model to checkpoint_model.h5\n",
            "19/80 [======>.......................] - ETA: 9s - loss: 1.2627 - accuracy: 0.5530 - recall: 0.3298 - specificity: 0.9870 - f1_score: 0.4548\n",
            "Epoch 00004: saving model to checkpoint_model.h5\n",
            "20/80 [======>.......................] - ETA: 8s - loss: 1.2642 - accuracy: 0.5507 - recall: 0.3287 - specificity: 0.9867 - f1_score: 0.4528\n",
            "Epoch 00004: saving model to checkpoint_model.h5\n",
            "21/80 [======>.......................] - ETA: 8s - loss: 1.2567 - accuracy: 0.5543 - recall: 0.3289 - specificity: 0.9866 - f1_score: 0.4529\n",
            "Epoch 00004: saving model to checkpoint_model.h5\n",
            "22/80 [=======>......................] - ETA: 8s - loss: 1.2603 - accuracy: 0.5509 - recall: 0.3285 - specificity: 0.9862 - f1_score: 0.4514\n",
            "Epoch 00004: saving model to checkpoint_model.h5\n",
            "23/80 [=======>......................] - ETA: 8s - loss: 1.2661 - accuracy: 0.5478 - recall: 0.3293 - specificity: 0.9861 - f1_score: 0.4520\n",
            "Epoch 00004: saving model to checkpoint_model.h5\n",
            "24/80 [========>.....................] - ETA: 8s - loss: 1.2659 - accuracy: 0.5483 - recall: 0.3278 - specificity: 0.9859 - f1_score: 0.4498\n",
            "Epoch 00004: saving model to checkpoint_model.h5\n",
            "25/80 [========>.....................] - ETA: 8s - loss: 1.2641 - accuracy: 0.5493 - recall: 0.3269 - specificity: 0.9857 - f1_score: 0.4484\n",
            "Epoch 00004: saving model to checkpoint_model.h5\n",
            "26/80 [========>.....................] - ETA: 8s - loss: 1.2630 - accuracy: 0.5477 - recall: 0.3262 - specificity: 0.9858 - f1_score: 0.4480\n",
            "Epoch 00004: saving model to checkpoint_model.h5\n",
            "27/80 [=========>....................] - ETA: 7s - loss: 1.2681 - accuracy: 0.5447 - recall: 0.3220 - specificity: 0.9857 - f1_score: 0.4430\n",
            "Epoch 00004: saving model to checkpoint_model.h5\n",
            "28/80 [=========>....................] - ETA: 7s - loss: 1.2704 - accuracy: 0.5443 - recall: 0.3210 - specificity: 0.9857 - f1_score: 0.4419\n",
            "Epoch 00004: saving model to checkpoint_model.h5\n",
            "29/80 [=========>....................] - ETA: 7s - loss: 1.2658 - accuracy: 0.5462 - recall: 0.3209 - specificity: 0.9858 - f1_score: 0.4421\n",
            "Epoch 00004: saving model to checkpoint_model.h5\n",
            "30/80 [==========>...................] - ETA: 7s - loss: 1.2704 - accuracy: 0.5453 - recall: 0.3191 - specificity: 0.9857 - f1_score: 0.4400\n",
            "Epoch 00004: saving model to checkpoint_model.h5\n",
            "31/80 [==========>...................] - ETA: 7s - loss: 1.2702 - accuracy: 0.5458 - recall: 0.3217 - specificity: 0.9856 - f1_score: 0.4423\n",
            "Epoch 00004: saving model to checkpoint_model.h5\n",
            "32/80 [===========>..................] - ETA: 7s - loss: 1.2704 - accuracy: 0.5437 - recall: 0.3225 - specificity: 0.9856 - f1_score: 0.4433\n",
            "Epoch 00004: saving model to checkpoint_model.h5\n",
            "33/80 [===========>..................] - ETA: 7s - loss: 1.2695 - accuracy: 0.5455 - recall: 0.3253 - specificity: 0.9858 - f1_score: 0.4466\n",
            "Epoch 00004: saving model to checkpoint_model.h5\n",
            "34/80 [===========>..................] - ETA: 6s - loss: 1.2698 - accuracy: 0.5439 - recall: 0.3255 - specificity: 0.9858 - f1_score: 0.4470\n",
            "Epoch 00004: saving model to checkpoint_model.h5\n",
            "35/80 [============>.................] - ETA: 6s - loss: 1.2697 - accuracy: 0.5455 - recall: 0.3288 - specificity: 0.9858 - f1_score: 0.4502\n",
            "Epoch 00004: saving model to checkpoint_model.h5\n",
            "36/80 [============>.................] - ETA: 6s - loss: 1.2700 - accuracy: 0.5463 - recall: 0.3307 - specificity: 0.9855 - f1_score: 0.4512\n",
            "Epoch 00004: saving model to checkpoint_model.h5\n",
            "37/80 [============>.................] - ETA: 6s - loss: 1.2749 - accuracy: 0.5456 - recall: 0.3315 - specificity: 0.9855 - f1_score: 0.4521\n",
            "Epoch 00004: saving model to checkpoint_model.h5\n",
            "38/80 [=============>................] - ETA: 6s - loss: 1.2716 - accuracy: 0.5470 - recall: 0.3319 - specificity: 0.9855 - f1_score: 0.4527\n",
            "Epoch 00004: saving model to checkpoint_model.h5\n",
            "39/80 [=============>................] - ETA: 6s - loss: 1.2736 - accuracy: 0.5467 - recall: 0.3320 - specificity: 0.9855 - f1_score: 0.4528\n",
            "Epoch 00004: saving model to checkpoint_model.h5\n",
            "40/80 [==============>...............] - ETA: 6s - loss: 1.2686 - accuracy: 0.5480 - recall: 0.3330 - specificity: 0.9858 - f1_score: 0.4547\n",
            "Epoch 00004: saving model to checkpoint_model.h5\n",
            "41/80 [==============>...............] - ETA: 5s - loss: 1.2690 - accuracy: 0.5483 - recall: 0.3327 - specificity: 0.9859 - f1_score: 0.4546\n",
            "Epoch 00004: saving model to checkpoint_model.h5\n",
            "42/80 [==============>...............] - ETA: 5s - loss: 1.2746 - accuracy: 0.5460 - recall: 0.3302 - specificity: 0.9859 - f1_score: 0.4517\n",
            "Epoch 00004: saving model to checkpoint_model.h5\n",
            "43/80 [===============>..............] - ETA: 5s - loss: 1.2745 - accuracy: 0.5457 - recall: 0.3318 - specificity: 0.9860 - f1_score: 0.4539\n",
            "Epoch 00004: saving model to checkpoint_model.h5\n",
            "44/80 [===============>..............] - ETA: 5s - loss: 1.2753 - accuracy: 0.5461 - recall: 0.3315 - specificity: 0.9861 - f1_score: 0.4539\n",
            "Epoch 00004: saving model to checkpoint_model.h5\n",
            "45/80 [===============>..............] - ETA: 5s - loss: 1.2761 - accuracy: 0.5443 - recall: 0.3307 - specificity: 0.9861 - f1_score: 0.4529\n",
            "Epoch 00004: saving model to checkpoint_model.h5\n",
            "46/80 [================>.............] - ETA: 5s - loss: 1.2775 - accuracy: 0.5449 - recall: 0.3287 - specificity: 0.9861 - f1_score: 0.4508\n",
            "Epoch 00004: saving model to checkpoint_model.h5\n",
            "47/80 [================>.............] - ETA: 5s - loss: 1.2778 - accuracy: 0.5444 - recall: 0.3262 - specificity: 0.9861 - f1_score: 0.4480\n",
            "Epoch 00004: saving model to checkpoint_model.h5\n",
            "48/80 [=================>............] - ETA: 4s - loss: 1.2756 - accuracy: 0.5453 - recall: 0.3269 - specificity: 0.9861 - f1_score: 0.4487\n",
            "Epoch 00004: saving model to checkpoint_model.h5\n",
            "49/80 [=================>............] - ETA: 4s - loss: 1.2752 - accuracy: 0.5459 - recall: 0.3276 - specificity: 0.9862 - f1_score: 0.4498\n",
            "Epoch 00004: saving model to checkpoint_model.h5\n",
            "50/80 [=================>............] - ETA: 4s - loss: 1.2800 - accuracy: 0.5443 - recall: 0.3261 - specificity: 0.9862 - f1_score: 0.4481\n",
            "Epoch 00004: saving model to checkpoint_model.h5\n",
            "51/80 [==================>...........] - ETA: 4s - loss: 1.2771 - accuracy: 0.5459 - recall: 0.3278 - specificity: 0.9863 - f1_score: 0.4502\n",
            "Epoch 00004: saving model to checkpoint_model.h5\n",
            "52/80 [==================>...........] - ETA: 4s - loss: 1.2783 - accuracy: 0.5444 - recall: 0.3254 - specificity: 0.9861 - f1_score: 0.4471\n",
            "Epoch 00004: saving model to checkpoint_model.h5\n",
            "53/80 [==================>...........] - ETA: 4s - loss: 1.2786 - accuracy: 0.5444 - recall: 0.3260 - specificity: 0.9861 - f1_score: 0.4477\n",
            "Epoch 00004: saving model to checkpoint_model.h5\n",
            "54/80 [===================>..........] - ETA: 4s - loss: 1.2749 - accuracy: 0.5449 - recall: 0.3279 - specificity: 0.9860 - f1_score: 0.4494\n",
            "Epoch 00004: saving model to checkpoint_model.h5\n",
            "55/80 [===================>..........] - ETA: 3s - loss: 1.2788 - accuracy: 0.5428 - recall: 0.3273 - specificity: 0.9858 - f1_score: 0.4481\n",
            "Epoch 00004: saving model to checkpoint_model.h5\n",
            "56/80 [====================>.........] - ETA: 3s - loss: 1.2791 - accuracy: 0.5431 - recall: 0.3286 - specificity: 0.9857 - f1_score: 0.4492\n",
            "Epoch 00004: saving model to checkpoint_model.h5\n",
            "57/80 [====================>.........] - ETA: 3s - loss: 1.2805 - accuracy: 0.5420 - recall: 0.3291 - specificity: 0.9856 - f1_score: 0.4496\n",
            "Epoch 00004: saving model to checkpoint_model.h5\n",
            "58/80 [====================>.........] - ETA: 3s - loss: 1.2788 - accuracy: 0.5432 - recall: 0.3306 - specificity: 0.9857 - f1_score: 0.4513\n",
            "Epoch 00004: saving model to checkpoint_model.h5\n",
            "59/80 [=====================>........] - ETA: 3s - loss: 1.2782 - accuracy: 0.5428 - recall: 0.3308 - specificity: 0.9857 - f1_score: 0.4515\n",
            "Epoch 00004: saving model to checkpoint_model.h5\n",
            "60/80 [=====================>........] - ETA: 3s - loss: 1.2774 - accuracy: 0.5436 - recall: 0.3316 - specificity: 0.9857 - f1_score: 0.4523\n",
            "Epoch 00004: saving model to checkpoint_model.h5\n",
            "61/80 [=====================>........] - ETA: 2s - loss: 1.2818 - accuracy: 0.5421 - recall: 0.3309 - specificity: 0.9856 - f1_score: 0.4515\n",
            "Epoch 00004: saving model to checkpoint_model.h5\n",
            "62/80 [======================>.......] - ETA: 2s - loss: 1.2850 - accuracy: 0.5419 - recall: 0.3295 - specificity: 0.9856 - f1_score: 0.4498\n",
            "Epoch 00004: saving model to checkpoint_model.h5\n",
            "63/80 [======================>.......] - ETA: 2s - loss: 1.2866 - accuracy: 0.5412 - recall: 0.3283 - specificity: 0.9856 - f1_score: 0.4486\n",
            "Epoch 00004: saving model to checkpoint_model.h5\n",
            "64/80 [=======================>......] - ETA: 2s - loss: 1.2863 - accuracy: 0.5398 - recall: 0.3279 - specificity: 0.9857 - f1_score: 0.4484\n",
            "Epoch 00004: saving model to checkpoint_model.h5\n",
            "65/80 [=======================>......] - ETA: 2s - loss: 1.2883 - accuracy: 0.5401 - recall: 0.3270 - specificity: 0.9857 - f1_score: 0.4475\n",
            "Epoch 00004: saving model to checkpoint_model.h5\n",
            "66/80 [=======================>......] - ETA: 2s - loss: 1.2919 - accuracy: 0.5382 - recall: 0.3257 - specificity: 0.9856 - f1_score: 0.4457\n",
            "Epoch 00004: saving model to checkpoint_model.h5\n",
            "67/80 [========================>.....] - ETA: 2s - loss: 1.2922 - accuracy: 0.5383 - recall: 0.3258 - specificity: 0.9856 - f1_score: 0.4459\n",
            "Epoch 00004: saving model to checkpoint_model.h5\n",
            "68/80 [========================>.....] - ETA: 1s - loss: 1.2924 - accuracy: 0.5386 - recall: 0.3261 - specificity: 0.9856 - f1_score: 0.4463\n",
            "Epoch 00004: saving model to checkpoint_model.h5\n",
            "69/80 [========================>.....] - ETA: 1s - loss: 1.2950 - accuracy: 0.5372 - recall: 0.3254 - specificity: 0.9856 - f1_score: 0.4455\n",
            "Epoch 00004: saving model to checkpoint_model.h5\n",
            "70/80 [=========================>....] - ETA: 1s - loss: 1.2967 - accuracy: 0.5370 - recall: 0.3251 - specificity: 0.9856 - f1_score: 0.4454\n",
            "Epoch 00004: saving model to checkpoint_model.h5\n",
            "71/80 [=========================>....] - ETA: 1s - loss: 1.2996 - accuracy: 0.5369 - recall: 0.3238 - specificity: 0.9857 - f1_score: 0.4440\n",
            "Epoch 00004: saving model to checkpoint_model.h5\n",
            "72/80 [==========================>...] - ETA: 1s - loss: 1.2992 - accuracy: 0.5361 - recall: 0.3235 - specificity: 0.9858 - f1_score: 0.4441\n",
            "Epoch 00004: saving model to checkpoint_model.h5\n",
            "73/80 [==========================>...] - ETA: 1s - loss: 1.2989 - accuracy: 0.5348 - recall: 0.3227 - specificity: 0.9858 - f1_score: 0.4431\n",
            "Epoch 00004: saving model to checkpoint_model.h5\n",
            "74/80 [==========================>...] - ETA: 0s - loss: 1.3021 - accuracy: 0.5333 - recall: 0.3222 - specificity: 0.9858 - f1_score: 0.4426\n",
            "Epoch 00004: saving model to checkpoint_model.h5\n",
            "75/80 [===========================>..] - ETA: 0s - loss: 1.3011 - accuracy: 0.5333 - recall: 0.3227 - specificity: 0.9858 - f1_score: 0.4432\n",
            "Epoch 00004: saving model to checkpoint_model.h5\n",
            "76/80 [===========================>..] - ETA: 0s - loss: 1.2999 - accuracy: 0.5344 - recall: 0.3239 - specificity: 0.9858 - f1_score: 0.4443\n",
            "Epoch 00004: saving model to checkpoint_model.h5\n",
            "77/80 [===========================>..] - ETA: 0s - loss: 1.2994 - accuracy: 0.5342 - recall: 0.3233 - specificity: 0.9858 - f1_score: 0.4438\n",
            "Epoch 00004: saving model to checkpoint_model.h5\n",
            "78/80 [============================>.] - ETA: 0s - loss: 1.2973 - accuracy: 0.5354 - recall: 0.3234 - specificity: 0.9860 - f1_score: 0.4444\n",
            "Epoch 00004: saving model to checkpoint_model.h5\n",
            "79/80 [============================>.] - ETA: 0s - loss: 1.2960 - accuracy: 0.5355 - recall: 0.3237 - specificity: 0.9860 - f1_score: 0.4447\n",
            "Epoch 00004: saving model to checkpoint_model.h5\n",
            "80/80 [==============================] - 14s 180ms/step - loss: 1.2961 - accuracy: 0.5355 - recall: 0.3237 - specificity: 0.9859 - f1_score: 0.4445 - val_loss: 1.3597 - val_accuracy: 0.5160 - val_recall: 0.3375 - val_specificity: 0.9840 - val_f1_score: 0.4544\n",
            "Epoch 5/100\n",
            "\n",
            "Epoch 00005: saving model to checkpoint_model.h5\n",
            " 1/80 [..............................] - ETA: 0s - loss: 1.1038 - accuracy: 0.6400 - recall: 0.3733 - specificity: 0.9896 - f1_score: 0.5091\n",
            "Epoch 00005: saving model to checkpoint_model.h5\n",
            " 2/80 [..............................] - ETA: 5s - loss: 1.1000 - accuracy: 0.6000 - recall: 0.4000 - specificity: 0.9874 - f1_score: 0.5280\n",
            "Epoch 00005: saving model to checkpoint_model.h5\n",
            " 3/80 [>.............................] - ETA: 7s - loss: 1.1420 - accuracy: 0.5867 - recall: 0.3911 - specificity: 0.9857 - f1_score: 0.5144\n",
            "Epoch 00005: saving model to checkpoint_model.h5\n",
            " 4/80 [>.............................] - ETA: 8s - loss: 1.1597 - accuracy: 0.6000 - recall: 0.3967 - specificity: 0.9867 - f1_score: 0.5229\n",
            "Epoch 00005: saving model to checkpoint_model.h5\n",
            " 5/80 [>.............................] - ETA: 9s - loss: 1.1487 - accuracy: 0.5973 - recall: 0.4080 - specificity: 0.9861 - f1_score: 0.5317\n",
            "Epoch 00005: saving model to checkpoint_model.h5\n",
            " 6/80 [=>............................] - ETA: 9s - loss: 1.1583 - accuracy: 0.5956 - recall: 0.3933 - specificity: 0.9857 - f1_score: 0.5158\n",
            "Epoch 00005: saving model to checkpoint_model.h5\n",
            " 7/80 [=>............................] - ETA: 9s - loss: 1.1285 - accuracy: 0.6095 - recall: 0.4076 - specificity: 0.9860 - f1_score: 0.5302\n",
            "Epoch 00005: saving model to checkpoint_model.h5\n",
            " 8/80 [==>...........................] - ETA: 9s - loss: 1.1318 - accuracy: 0.6033 - recall: 0.4017 - specificity: 0.9857 - f1_score: 0.5237\n",
            "Epoch 00005: saving model to checkpoint_model.h5\n",
            " 9/80 [==>...........................] - ETA: 9s - loss: 1.1322 - accuracy: 0.6000 - recall: 0.3985 - specificity: 0.9853 - f1_score: 0.5196\n",
            "Epoch 00005: saving model to checkpoint_model.h5\n",
            "10/80 [==>...........................] - ETA: 9s - loss: 1.1368 - accuracy: 0.5920 - recall: 0.3920 - specificity: 0.9853 - f1_score: 0.5131\n",
            "Epoch 00005: saving model to checkpoint_model.h5\n",
            "11/80 [===>..........................] - ETA: 9s - loss: 1.1432 - accuracy: 0.5927 - recall: 0.3927 - specificity: 0.9852 - f1_score: 0.5135\n",
            "Epoch 00005: saving model to checkpoint_model.h5\n",
            "12/80 [===>..........................] - ETA: 9s - loss: 1.1365 - accuracy: 0.5967 - recall: 0.3978 - specificity: 0.9856 - f1_score: 0.5195\n",
            "Epoch 00005: saving model to checkpoint_model.h5\n",
            "13/80 [===>..........................] - ETA: 9s - loss: 1.1326 - accuracy: 0.5949 - recall: 0.3969 - specificity: 0.9855 - f1_score: 0.5187\n",
            "Epoch 00005: saving model to checkpoint_model.h5\n",
            "14/80 [====>.........................] - ETA: 9s - loss: 1.1198 - accuracy: 0.6029 - recall: 0.4038 - specificity: 0.9856 - f1_score: 0.5253\n",
            "Epoch 00005: saving model to checkpoint_model.h5\n",
            "15/80 [====>.........................] - ETA: 9s - loss: 1.1302 - accuracy: 0.5973 - recall: 0.4053 - specificity: 0.9854 - f1_score: 0.5262\n",
            "Epoch 00005: saving model to checkpoint_model.h5\n",
            "16/80 [=====>........................] - ETA: 9s - loss: 1.1487 - accuracy: 0.5900 - recall: 0.4025 - specificity: 0.9844 - f1_score: 0.5209\n",
            "Epoch 00005: saving model to checkpoint_model.h5\n",
            "17/80 [=====>........................] - ETA: 9s - loss: 1.1387 - accuracy: 0.5953 - recall: 0.4078 - specificity: 0.9847 - f1_score: 0.5266\n",
            "Epoch 00005: saving model to checkpoint_model.h5\n",
            "18/80 [=====>........................] - ETA: 9s - loss: 1.1340 - accuracy: 0.5963 - recall: 0.4119 - specificity: 0.9844 - f1_score: 0.5296\n",
            "Epoch 00005: saving model to checkpoint_model.h5\n",
            "19/80 [======>.......................] - ETA: 8s - loss: 1.1407 - accuracy: 0.5958 - recall: 0.4091 - specificity: 0.9843 - f1_score: 0.5266\n",
            "Epoch 00005: saving model to checkpoint_model.h5\n",
            "20/80 [======>.......................] - ETA: 8s - loss: 1.1469 - accuracy: 0.5933 - recall: 0.4080 - specificity: 0.9844 - f1_score: 0.5260\n",
            "Epoch 00005: saving model to checkpoint_model.h5\n",
            "21/80 [======>.......................] - ETA: 8s - loss: 1.1396 - accuracy: 0.5962 - recall: 0.4063 - specificity: 0.9849 - f1_score: 0.5258\n",
            "Epoch 00005: saving model to checkpoint_model.h5\n",
            "22/80 [=======>......................] - ETA: 8s - loss: 1.1443 - accuracy: 0.5927 - recall: 0.4055 - specificity: 0.9849 - f1_score: 0.5251\n",
            "Epoch 00005: saving model to checkpoint_model.h5\n",
            "23/80 [=======>......................] - ETA: 8s - loss: 1.1488 - accuracy: 0.5930 - recall: 0.4075 - specificity: 0.9847 - f1_score: 0.5265\n",
            "Epoch 00005: saving model to checkpoint_model.h5\n",
            "24/80 [========>.....................] - ETA: 8s - loss: 1.1516 - accuracy: 0.5928 - recall: 0.4078 - specificity: 0.9848 - f1_score: 0.5268\n",
            "Epoch 00005: saving model to checkpoint_model.h5\n",
            "25/80 [========>.....................] - ETA: 8s - loss: 1.1438 - accuracy: 0.5957 - recall: 0.4096 - specificity: 0.9849 - f1_score: 0.5290\n",
            "Epoch 00005: saving model to checkpoint_model.h5\n",
            "26/80 [========>.....................] - ETA: 8s - loss: 1.1488 - accuracy: 0.5913 - recall: 0.4051 - specificity: 0.9848 - f1_score: 0.5242\n",
            "Epoch 00005: saving model to checkpoint_model.h5\n",
            "27/80 [=========>....................] - ETA: 8s - loss: 1.1577 - accuracy: 0.5872 - recall: 0.4005 - specificity: 0.9846 - f1_score: 0.5189\n",
            "Epoch 00005: saving model to checkpoint_model.h5\n",
            "28/80 [=========>....................] - ETA: 7s - loss: 1.1482 - accuracy: 0.5900 - recall: 0.4038 - specificity: 0.9846 - f1_score: 0.5218\n",
            "Epoch 00005: saving model to checkpoint_model.h5\n",
            "29/80 [=========>....................] - ETA: 7s - loss: 1.1460 - accuracy: 0.5908 - recall: 0.4009 - specificity: 0.9846 - f1_score: 0.5192\n",
            "Epoch 00005: saving model to checkpoint_model.h5\n",
            "30/80 [==========>...................] - ETA: 7s - loss: 1.1411 - accuracy: 0.5916 - recall: 0.4022 - specificity: 0.9846 - f1_score: 0.5205\n",
            "Epoch 00005: saving model to checkpoint_model.h5\n",
            "31/80 [==========>...................] - ETA: 7s - loss: 1.1389 - accuracy: 0.5927 - recall: 0.4030 - specificity: 0.9845 - f1_score: 0.5208\n",
            "Epoch 00005: saving model to checkpoint_model.h5\n",
            "32/80 [===========>..................] - ETA: 7s - loss: 1.1387 - accuracy: 0.5929 - recall: 0.4054 - specificity: 0.9845 - f1_score: 0.5233\n",
            "Epoch 00005: saving model to checkpoint_model.h5\n",
            "33/80 [===========>..................] - ETA: 7s - loss: 1.1409 - accuracy: 0.5939 - recall: 0.4065 - specificity: 0.9846 - f1_score: 0.5246\n",
            "Epoch 00005: saving model to checkpoint_model.h5\n",
            "34/80 [===========>..................] - ETA: 7s - loss: 1.1414 - accuracy: 0.5937 - recall: 0.4086 - specificity: 0.9845 - f1_score: 0.5262\n",
            "Epoch 00005: saving model to checkpoint_model.h5\n",
            "35/80 [============>.................] - ETA: 6s - loss: 1.1481 - accuracy: 0.5897 - recall: 0.4061 - specificity: 0.9841 - f1_score: 0.5226\n",
            "Epoch 00005: saving model to checkpoint_model.h5\n",
            "36/80 [============>.................] - ETA: 6s - loss: 1.1531 - accuracy: 0.5870 - recall: 0.4059 - specificity: 0.9840 - f1_score: 0.5223\n",
            "Epoch 00005: saving model to checkpoint_model.h5\n",
            "37/80 [============>.................] - ETA: 6s - loss: 1.1534 - accuracy: 0.5863 - recall: 0.4047 - specificity: 0.9838 - f1_score: 0.5205\n",
            "Epoch 00005: saving model to checkpoint_model.h5\n",
            "38/80 [=============>................] - ETA: 6s - loss: 1.1546 - accuracy: 0.5849 - recall: 0.4014 - specificity: 0.9840 - f1_score: 0.5178\n",
            "Epoch 00005: saving model to checkpoint_model.h5\n",
            "39/80 [=============>................] - ETA: 6s - loss: 1.1485 - accuracy: 0.5901 - recall: 0.4038 - specificity: 0.9842 - f1_score: 0.5204\n",
            "Epoch 00005: saving model to checkpoint_model.h5\n",
            "40/80 [==============>...............] - ETA: 6s - loss: 1.1432 - accuracy: 0.5913 - recall: 0.4047 - specificity: 0.9842 - f1_score: 0.5215\n",
            "Epoch 00005: saving model to checkpoint_model.h5\n",
            "41/80 [==============>...............] - ETA: 5s - loss: 1.1444 - accuracy: 0.5915 - recall: 0.4020 - specificity: 0.9843 - f1_score: 0.5189\n",
            "Epoch 00005: saving model to checkpoint_model.h5\n",
            "42/80 [==============>...............] - ETA: 5s - loss: 1.1416 - accuracy: 0.5943 - recall: 0.4051 - specificity: 0.9843 - f1_score: 0.5217\n",
            "Epoch 00005: saving model to checkpoint_model.h5\n",
            "43/80 [===============>..............] - ETA: 5s - loss: 1.1412 - accuracy: 0.5944 - recall: 0.4056 - specificity: 0.9843 - f1_score: 0.5224\n",
            "Epoch 00005: saving model to checkpoint_model.h5\n",
            "44/80 [===============>..............] - ETA: 5s - loss: 1.1331 - accuracy: 0.5985 - recall: 0.4082 - specificity: 0.9845 - f1_score: 0.5255\n",
            "Epoch 00005: saving model to checkpoint_model.h5\n",
            "45/80 [===============>..............] - ETA: 5s - loss: 1.1358 - accuracy: 0.5970 - recall: 0.4083 - specificity: 0.9844 - f1_score: 0.5252\n",
            "Epoch 00005: saving model to checkpoint_model.h5\n",
            "46/80 [================>.............] - ETA: 5s - loss: 1.1333 - accuracy: 0.5986 - recall: 0.4093 - specificity: 0.9844 - f1_score: 0.5262\n",
            "Epoch 00005: saving model to checkpoint_model.h5\n",
            "47/80 [================>.............] - ETA: 5s - loss: 1.1351 - accuracy: 0.5977 - recall: 0.4102 - specificity: 0.9844 - f1_score: 0.5270\n",
            "Epoch 00005: saving model to checkpoint_model.h5\n",
            "48/80 [=================>............] - ETA: 4s - loss: 1.1363 - accuracy: 0.5981 - recall: 0.4111 - specificity: 0.9844 - f1_score: 0.5281\n",
            "Epoch 00005: saving model to checkpoint_model.h5\n",
            "49/80 [=================>............] - ETA: 4s - loss: 1.1369 - accuracy: 0.5973 - recall: 0.4095 - specificity: 0.9844 - f1_score: 0.5265\n",
            "Epoch 00005: saving model to checkpoint_model.h5\n",
            "50/80 [=================>............] - ETA: 4s - loss: 1.1373 - accuracy: 0.5957 - recall: 0.4096 - specificity: 0.9842 - f1_score: 0.5260\n",
            "Epoch 00005: saving model to checkpoint_model.h5\n",
            "51/80 [==================>...........] - ETA: 4s - loss: 1.1406 - accuracy: 0.5945 - recall: 0.4086 - specificity: 0.9840 - f1_score: 0.5246\n",
            "Epoch 00005: saving model to checkpoint_model.h5\n",
            "52/80 [==================>...........] - ETA: 4s - loss: 1.1408 - accuracy: 0.5944 - recall: 0.4082 - specificity: 0.9840 - f1_score: 0.5241\n",
            "Epoch 00005: saving model to checkpoint_model.h5\n",
            "53/80 [==================>...........] - ETA: 4s - loss: 1.1426 - accuracy: 0.5935 - recall: 0.4075 - specificity: 0.9840 - f1_score: 0.5235\n",
            "Epoch 00005: saving model to checkpoint_model.h5\n",
            "54/80 [===================>..........] - ETA: 4s - loss: 1.1438 - accuracy: 0.5923 - recall: 0.4059 - specificity: 0.9839 - f1_score: 0.5217\n",
            "Epoch 00005: saving model to checkpoint_model.h5\n",
            "55/80 [===================>..........] - ETA: 3s - loss: 1.1399 - accuracy: 0.5939 - recall: 0.4078 - specificity: 0.9840 - f1_score: 0.5238\n",
            "Epoch 00005: saving model to checkpoint_model.h5\n",
            "56/80 [====================>.........] - ETA: 3s - loss: 1.1417 - accuracy: 0.5924 - recall: 0.4071 - specificity: 0.9839 - f1_score: 0.5230\n",
            "Epoch 00005: saving model to checkpoint_model.h5\n",
            "57/80 [====================>.........] - ETA: 3s - loss: 1.1433 - accuracy: 0.5913 - recall: 0.4063 - specificity: 0.9839 - f1_score: 0.5221\n",
            "Epoch 00005: saving model to checkpoint_model.h5\n",
            "58/80 [====================>.........] - ETA: 3s - loss: 1.1485 - accuracy: 0.5897 - recall: 0.4051 - specificity: 0.9839 - f1_score: 0.5208\n",
            "Epoch 00005: saving model to checkpoint_model.h5\n",
            "59/80 [=====================>........] - ETA: 3s - loss: 1.1476 - accuracy: 0.5901 - recall: 0.4056 - specificity: 0.9838 - f1_score: 0.5211\n",
            "Epoch 00005: saving model to checkpoint_model.h5\n",
            "60/80 [=====================>........] - ETA: 3s - loss: 1.1446 - accuracy: 0.5900 - recall: 0.4069 - specificity: 0.9839 - f1_score: 0.5226\n",
            "Epoch 00005: saving model to checkpoint_model.h5\n",
            "61/80 [=====================>........] - ETA: 2s - loss: 1.1471 - accuracy: 0.5899 - recall: 0.4072 - specificity: 0.9839 - f1_score: 0.5230\n",
            "Epoch 00005: saving model to checkpoint_model.h5\n",
            "62/80 [======================>.......] - ETA: 2s - loss: 1.1472 - accuracy: 0.5897 - recall: 0.4071 - specificity: 0.9840 - f1_score: 0.5231\n",
            "Epoch 00005: saving model to checkpoint_model.h5\n",
            "63/80 [======================>.......] - ETA: 2s - loss: 1.1476 - accuracy: 0.5888 - recall: 0.4068 - specificity: 0.9840 - f1_score: 0.5228\n",
            "Epoch 00005: saving model to checkpoint_model.h5\n",
            "64/80 [=======================>......] - ETA: 2s - loss: 1.1463 - accuracy: 0.5888 - recall: 0.4062 - specificity: 0.9840 - f1_score: 0.5223\n",
            "Epoch 00005: saving model to checkpoint_model.h5\n",
            "65/80 [=======================>......] - ETA: 2s - loss: 1.1455 - accuracy: 0.5895 - recall: 0.4064 - specificity: 0.9840 - f1_score: 0.5225\n",
            "Epoch 00005: saving model to checkpoint_model.h5\n",
            "66/80 [=======================>......] - ETA: 2s - loss: 1.1467 - accuracy: 0.5895 - recall: 0.4057 - specificity: 0.9840 - f1_score: 0.5220\n",
            "Epoch 00005: saving model to checkpoint_model.h5\n",
            "67/80 [========================>.....] - ETA: 2s - loss: 1.1479 - accuracy: 0.5895 - recall: 0.4058 - specificity: 0.9841 - f1_score: 0.5222\n",
            "Epoch 00005: saving model to checkpoint_model.h5\n",
            "68/80 [========================>.....] - ETA: 1s - loss: 1.1463 - accuracy: 0.5896 - recall: 0.4059 - specificity: 0.9842 - f1_score: 0.5226\n",
            "Epoch 00005: saving model to checkpoint_model.h5\n",
            "69/80 [========================>.....] - ETA: 1s - loss: 1.1452 - accuracy: 0.5900 - recall: 0.4060 - specificity: 0.9842 - f1_score: 0.5230\n",
            "Epoch 00005: saving model to checkpoint_model.h5\n",
            "70/80 [=========================>....] - ETA: 1s - loss: 1.1457 - accuracy: 0.5897 - recall: 0.4067 - specificity: 0.9843 - f1_score: 0.5237\n",
            "Epoch 00005: saving model to checkpoint_model.h5\n",
            "71/80 [=========================>....] - ETA: 1s - loss: 1.1444 - accuracy: 0.5899 - recall: 0.4073 - specificity: 0.9842 - f1_score: 0.5243\n",
            "Epoch 00005: saving model to checkpoint_model.h5\n",
            "72/80 [==========================>...] - ETA: 1s - loss: 1.1424 - accuracy: 0.5906 - recall: 0.4070 - specificity: 0.9843 - f1_score: 0.5242\n",
            "Epoch 00005: saving model to checkpoint_model.h5\n",
            "73/80 [==========================>...] - ETA: 1s - loss: 1.1441 - accuracy: 0.5907 - recall: 0.4075 - specificity: 0.9842 - f1_score: 0.5245\n",
            "Epoch 00005: saving model to checkpoint_model.h5\n",
            "74/80 [==========================>...] - ETA: 0s - loss: 1.1454 - accuracy: 0.5897 - recall: 0.4083 - specificity: 0.9842 - f1_score: 0.5251\n",
            "Epoch 00005: saving model to checkpoint_model.h5\n",
            "75/80 [===========================>..] - ETA: 0s - loss: 1.1476 - accuracy: 0.5899 - recall: 0.4087 - specificity: 0.9842 - f1_score: 0.5254\n",
            "Epoch 00005: saving model to checkpoint_model.h5\n",
            "76/80 [===========================>..] - ETA: 0s - loss: 1.1463 - accuracy: 0.5898 - recall: 0.4100 - specificity: 0.9841 - f1_score: 0.5264\n",
            "Epoch 00005: saving model to checkpoint_model.h5\n",
            "77/80 [===========================>..] - ETA: 0s - loss: 1.1476 - accuracy: 0.5900 - recall: 0.4102 - specificity: 0.9841 - f1_score: 0.5265\n",
            "Epoch 00005: saving model to checkpoint_model.h5\n",
            "78/80 [============================>.] - ETA: 0s - loss: 1.1482 - accuracy: 0.5906 - recall: 0.4113 - specificity: 0.9841 - f1_score: 0.5275\n",
            "Epoch 00005: saving model to checkpoint_model.h5\n",
            "79/80 [============================>.] - ETA: 0s - loss: 1.1491 - accuracy: 0.5892 - recall: 0.4108 - specificity: 0.9840 - f1_score: 0.5269\n",
            "Epoch 00005: saving model to checkpoint_model.h5\n",
            "80/80 [==============================] - 14s 180ms/step - loss: 1.1500 - accuracy: 0.5895 - recall: 0.4100 - specificity: 0.9841 - f1_score: 0.5263 - val_loss: 1.3204 - val_accuracy: 0.5357 - val_recall: 0.3570 - val_specificity: 0.9828 - val_f1_score: 0.4710\n",
            "Epoch 6/100\n",
            "\n",
            "Epoch 00006: saving model to checkpoint_model.h5\n",
            " 1/80 [..............................] - ETA: 0s - loss: 1.0667 - accuracy: 0.6267 - recall: 0.4133 - specificity: 0.9926 - f1_score: 0.5586\n",
            "Epoch 00006: saving model to checkpoint_model.h5\n",
            " 2/80 [..............................] - ETA: 6s - loss: 1.0094 - accuracy: 0.6267 - recall: 0.4333 - specificity: 0.9919 - f1_score: 0.5749\n",
            "Epoch 00006: saving model to checkpoint_model.h5\n",
            " 3/80 [>.............................] - ETA: 8s - loss: 1.0074 - accuracy: 0.6133 - recall: 0.4222 - specificity: 0.9881 - f1_score: 0.5528\n",
            "Epoch 00006: saving model to checkpoint_model.h5\n",
            " 4/80 [>.............................] - ETA: 9s - loss: 0.9863 - accuracy: 0.6333 - recall: 0.4433 - specificity: 0.9878 - f1_score: 0.5703\n",
            "Epoch 00006: saving model to checkpoint_model.h5\n",
            " 5/80 [>.............................] - ETA: 9s - loss: 0.9559 - accuracy: 0.6427 - recall: 0.4613 - specificity: 0.9887 - f1_score: 0.5896\n",
            "Epoch 00006: saving model to checkpoint_model.h5\n",
            " 6/80 [=>............................] - ETA: 9s - loss: 0.9950 - accuracy: 0.6333 - recall: 0.4467 - specificity: 0.9867 - f1_score: 0.5698\n",
            "Epoch 00006: saving model to checkpoint_model.h5\n",
            " 7/80 [=>............................] - ETA: 9s - loss: 0.9930 - accuracy: 0.6286 - recall: 0.4476 - specificity: 0.9862 - f1_score: 0.5693\n",
            "Epoch 00006: saving model to checkpoint_model.h5\n",
            " 8/80 [==>...........................] - ETA: 10s - loss: 0.9959 - accuracy: 0.6350 - recall: 0.4517 - specificity: 0.9857 - f1_score: 0.5713\n",
            "Epoch 00006: saving model to checkpoint_model.h5\n",
            " 9/80 [==>...........................] - ETA: 9s - loss: 1.0079 - accuracy: 0.6326 - recall: 0.4533 - specificity: 0.9847 - f1_score: 0.5696 \n",
            "Epoch 00006: saving model to checkpoint_model.h5\n",
            "10/80 [==>...........................] - ETA: 9s - loss: 1.0053 - accuracy: 0.6387 - recall: 0.4573 - specificity: 0.9849 - f1_score: 0.5738\n",
            "Epoch 00006: saving model to checkpoint_model.h5\n",
            "11/80 [===>..........................] - ETA: 9s - loss: 1.0034 - accuracy: 0.6364 - recall: 0.4606 - specificity: 0.9844 - f1_score: 0.5750\n",
            "Epoch 00006: saving model to checkpoint_model.h5\n",
            "12/80 [===>..........................] - ETA: 9s - loss: 0.9976 - accuracy: 0.6356 - recall: 0.4667 - specificity: 0.9842 - f1_score: 0.5796\n",
            "Epoch 00006: saving model to checkpoint_model.h5\n",
            "13/80 [===>..........................] - ETA: 9s - loss: 1.0007 - accuracy: 0.6338 - recall: 0.4615 - specificity: 0.9846 - f1_score: 0.5762\n",
            "Epoch 00006: saving model to checkpoint_model.h5\n",
            "14/80 [====>.........................] - ETA: 9s - loss: 0.9985 - accuracy: 0.6362 - recall: 0.4629 - specificity: 0.9850 - f1_score: 0.5786\n",
            "Epoch 00006: saving model to checkpoint_model.h5\n",
            "15/80 [====>.........................] - ETA: 9s - loss: 0.9975 - accuracy: 0.6436 - recall: 0.4667 - specificity: 0.9854 - f1_score: 0.5834\n",
            "Epoch 00006: saving model to checkpoint_model.h5\n",
            "16/80 [=====>........................] - ETA: 9s - loss: 1.0063 - accuracy: 0.6392 - recall: 0.4608 - specificity: 0.9853 - f1_score: 0.5776\n",
            "Epoch 00006: saving model to checkpoint_model.h5\n",
            "17/80 [=====>........................] - ETA: 9s - loss: 1.0118 - accuracy: 0.6361 - recall: 0.4604 - specificity: 0.9848 - f1_score: 0.5759\n",
            "Epoch 00006: saving model to checkpoint_model.h5\n",
            "18/80 [=====>........................] - ETA: 9s - loss: 1.0052 - accuracy: 0.6385 - recall: 0.4652 - specificity: 0.9851 - f1_score: 0.5809\n",
            "Epoch 00006: saving model to checkpoint_model.h5\n",
            "19/80 [======>.......................] - ETA: 9s - loss: 1.0106 - accuracy: 0.6344 - recall: 0.4604 - specificity: 0.9849 - f1_score: 0.5758\n",
            "Epoch 00006: saving model to checkpoint_model.h5\n",
            "20/80 [======>.......................] - ETA: 9s - loss: 1.0171 - accuracy: 0.6340 - recall: 0.4600 - specificity: 0.9846 - f1_score: 0.5746\n",
            "Epoch 00006: saving model to checkpoint_model.h5\n",
            "21/80 [======>.......................] - ETA: 8s - loss: 1.0226 - accuracy: 0.6311 - recall: 0.4571 - specificity: 0.9846 - f1_score: 0.5721\n",
            "Epoch 00006: saving model to checkpoint_model.h5\n",
            "22/80 [=======>......................] - ETA: 8s - loss: 1.0407 - accuracy: 0.6267 - recall: 0.4515 - specificity: 0.9846 - f1_score: 0.5668\n",
            "Epoch 00006: saving model to checkpoint_model.h5\n",
            "23/80 [=======>......................] - ETA: 8s - loss: 1.0474 - accuracy: 0.6238 - recall: 0.4487 - specificity: 0.9845 - f1_score: 0.5639\n",
            "Epoch 00006: saving model to checkpoint_model.h5\n",
            "24/80 [========>.....................] - ETA: 8s - loss: 1.0539 - accuracy: 0.6189 - recall: 0.4439 - specificity: 0.9844 - f1_score: 0.5590\n",
            "Epoch 00006: saving model to checkpoint_model.h5\n",
            "25/80 [========>.....................] - ETA: 8s - loss: 1.0440 - accuracy: 0.6240 - recall: 0.4475 - specificity: 0.9847 - f1_score: 0.5631\n",
            "Epoch 00006: saving model to checkpoint_model.h5\n",
            "26/80 [========>.....................] - ETA: 8s - loss: 1.0471 - accuracy: 0.6226 - recall: 0.4446 - specificity: 0.9846 - f1_score: 0.5600\n",
            "Epoch 00006: saving model to checkpoint_model.h5\n",
            "27/80 [=========>....................] - ETA: 8s - loss: 1.0549 - accuracy: 0.6193 - recall: 0.4430 - specificity: 0.9842 - f1_score: 0.5574\n",
            "Epoch 00006: saving model to checkpoint_model.h5\n",
            "28/80 [=========>....................] - ETA: 7s - loss: 1.0598 - accuracy: 0.6167 - recall: 0.4443 - specificity: 0.9842 - f1_score: 0.5586\n",
            "Epoch 00006: saving model to checkpoint_model.h5\n",
            "29/80 [=========>....................] - ETA: 7s - loss: 1.0746 - accuracy: 0.6110 - recall: 0.4414 - specificity: 0.9842 - f1_score: 0.5560\n",
            "Epoch 00006: saving model to checkpoint_model.h5\n",
            "30/80 [==========>...................] - ETA: 7s - loss: 1.0839 - accuracy: 0.6084 - recall: 0.4387 - specificity: 0.9840 - f1_score: 0.5530\n",
            "Epoch 00006: saving model to checkpoint_model.h5\n",
            "31/80 [==========>...................] - ETA: 7s - loss: 1.0854 - accuracy: 0.6077 - recall: 0.4374 - specificity: 0.9841 - f1_score: 0.5520\n",
            "Epoch 00006: saving model to checkpoint_model.h5\n",
            "32/80 [===========>..................] - ETA: 7s - loss: 1.0880 - accuracy: 0.6067 - recall: 0.4346 - specificity: 0.9843 - f1_score: 0.5498\n",
            "Epoch 00006: saving model to checkpoint_model.h5\n",
            "33/80 [===========>..................] - ETA: 7s - loss: 1.0876 - accuracy: 0.6081 - recall: 0.4352 - specificity: 0.9843 - f1_score: 0.5504\n",
            "Epoch 00006: saving model to checkpoint_model.h5\n",
            "34/80 [===========>..................] - ETA: 7s - loss: 1.0873 - accuracy: 0.6075 - recall: 0.4337 - specificity: 0.9844 - f1_score: 0.5496\n",
            "Epoch 00006: saving model to checkpoint_model.h5\n",
            "35/80 [============>.................] - ETA: 6s - loss: 1.0959 - accuracy: 0.6042 - recall: 0.4316 - specificity: 0.9844 - f1_score: 0.5474\n",
            "Epoch 00006: saving model to checkpoint_model.h5\n",
            "36/80 [============>.................] - ETA: 6s - loss: 1.0951 - accuracy: 0.6059 - recall: 0.4322 - specificity: 0.9845 - f1_score: 0.5485\n",
            "Epoch 00006: saving model to checkpoint_model.h5\n",
            "37/80 [============>.................] - ETA: 6s - loss: 1.0915 - accuracy: 0.6072 - recall: 0.4339 - specificity: 0.9847 - f1_score: 0.5505\n",
            "Epoch 00006: saving model to checkpoint_model.h5\n",
            "38/80 [=============>................] - ETA: 6s - loss: 1.0883 - accuracy: 0.6098 - recall: 0.4365 - specificity: 0.9848 - f1_score: 0.5534\n",
            "Epoch 00006: saving model to checkpoint_model.h5\n",
            "39/80 [=============>................] - ETA: 6s - loss: 1.0847 - accuracy: 0.6113 - recall: 0.4369 - specificity: 0.9849 - f1_score: 0.5541\n",
            "Epoch 00006: saving model to checkpoint_model.h5\n",
            "40/80 [==============>...............] - ETA: 6s - loss: 1.0856 - accuracy: 0.6107 - recall: 0.4340 - specificity: 0.9850 - f1_score: 0.5514\n",
            "Epoch 00006: saving model to checkpoint_model.h5\n",
            "41/80 [==============>...............] - ETA: 6s - loss: 1.0807 - accuracy: 0.6137 - recall: 0.4351 - specificity: 0.9851 - f1_score: 0.5529\n",
            "Epoch 00006: saving model to checkpoint_model.h5\n",
            "42/80 [==============>...............] - ETA: 5s - loss: 1.0780 - accuracy: 0.6143 - recall: 0.4356 - specificity: 0.9852 - f1_score: 0.5536\n",
            "Epoch 00006: saving model to checkpoint_model.h5\n",
            "43/80 [===============>..............] - ETA: 5s - loss: 1.0804 - accuracy: 0.6143 - recall: 0.4360 - specificity: 0.9852 - f1_score: 0.5540\n",
            "Epoch 00006: saving model to checkpoint_model.h5\n",
            "44/80 [===============>..............] - ETA: 5s - loss: 1.0806 - accuracy: 0.6139 - recall: 0.4348 - specificity: 0.9852 - f1_score: 0.5530\n",
            "Epoch 00006: saving model to checkpoint_model.h5\n",
            "45/80 [===============>..............] - ETA: 5s - loss: 1.0793 - accuracy: 0.6148 - recall: 0.4344 - specificity: 0.9852 - f1_score: 0.5525\n",
            "Epoch 00006: saving model to checkpoint_model.h5\n",
            "46/80 [================>.............] - ETA: 5s - loss: 1.0780 - accuracy: 0.6148 - recall: 0.4357 - specificity: 0.9851 - f1_score: 0.5535\n",
            "Epoch 00006: saving model to checkpoint_model.h5\n",
            "47/80 [================>.............] - ETA: 5s - loss: 1.0783 - accuracy: 0.6148 - recall: 0.4352 - specificity: 0.9850 - f1_score: 0.5529\n",
            "Epoch 00006: saving model to checkpoint_model.h5\n",
            "48/80 [=================>............] - ETA: 4s - loss: 1.0741 - accuracy: 0.6161 - recall: 0.4383 - specificity: 0.9851 - f1_score: 0.5557\n",
            "Epoch 00006: saving model to checkpoint_model.h5\n",
            "49/80 [=================>............] - ETA: 4s - loss: 1.0721 - accuracy: 0.6166 - recall: 0.4384 - specificity: 0.9850 - f1_score: 0.5555\n",
            "Epoch 00006: saving model to checkpoint_model.h5\n",
            "50/80 [=================>............] - ETA: 4s - loss: 1.0698 - accuracy: 0.6179 - recall: 0.4397 - specificity: 0.9851 - f1_score: 0.5570\n",
            "Epoch 00006: saving model to checkpoint_model.h5\n",
            "51/80 [==================>...........] - ETA: 4s - loss: 1.0708 - accuracy: 0.6173 - recall: 0.4405 - specificity: 0.9850 - f1_score: 0.5575\n",
            "Epoch 00006: saving model to checkpoint_model.h5\n",
            "52/80 [==================>...........] - ETA: 4s - loss: 1.0714 - accuracy: 0.6167 - recall: 0.4400 - specificity: 0.9849 - f1_score: 0.5568\n",
            "Epoch 00006: saving model to checkpoint_model.h5\n",
            "53/80 [==================>...........] - ETA: 4s - loss: 1.0727 - accuracy: 0.6174 - recall: 0.4410 - specificity: 0.9850 - f1_score: 0.5579\n",
            "Epoch 00006: saving model to checkpoint_model.h5\n",
            "54/80 [===================>..........] - ETA: 4s - loss: 1.0733 - accuracy: 0.6173 - recall: 0.4417 - specificity: 0.9849 - f1_score: 0.5582\n",
            "Epoch 00006: saving model to checkpoint_model.h5\n",
            "55/80 [===================>..........] - ETA: 3s - loss: 1.0738 - accuracy: 0.6175 - recall: 0.4419 - specificity: 0.9848 - f1_score: 0.5583\n",
            "Epoch 00006: saving model to checkpoint_model.h5\n",
            "56/80 [====================>.........] - ETA: 3s - loss: 1.0721 - accuracy: 0.6181 - recall: 0.4431 - specificity: 0.9848 - f1_score: 0.5593\n",
            "Epoch 00006: saving model to checkpoint_model.h5\n",
            "57/80 [====================>.........] - ETA: 3s - loss: 1.0704 - accuracy: 0.6185 - recall: 0.4428 - specificity: 0.9848 - f1_score: 0.5592\n",
            "Epoch 00006: saving model to checkpoint_model.h5\n",
            "58/80 [====================>.........] - ETA: 3s - loss: 1.0670 - accuracy: 0.6195 - recall: 0.4437 - specificity: 0.9849 - f1_score: 0.5601\n",
            "Epoch 00006: saving model to checkpoint_model.h5\n",
            "59/80 [=====================>........] - ETA: 3s - loss: 1.0658 - accuracy: 0.6203 - recall: 0.4445 - specificity: 0.9849 - f1_score: 0.5608\n",
            "Epoch 00006: saving model to checkpoint_model.h5\n",
            "60/80 [=====================>........] - ETA: 3s - loss: 1.0661 - accuracy: 0.6191 - recall: 0.4436 - specificity: 0.9848 - f1_score: 0.5598\n",
            "Epoch 00006: saving model to checkpoint_model.h5\n",
            "61/80 [=====================>........] - ETA: 2s - loss: 1.0663 - accuracy: 0.6192 - recall: 0.4446 - specificity: 0.9848 - f1_score: 0.5607\n",
            "Epoch 00006: saving model to checkpoint_model.h5\n",
            "62/80 [======================>.......] - ETA: 2s - loss: 1.0653 - accuracy: 0.6200 - recall: 0.4458 - specificity: 0.9848 - f1_score: 0.5618\n",
            "Epoch 00006: saving model to checkpoint_model.h5\n",
            "63/80 [======================>.......] - ETA: 2s - loss: 1.0650 - accuracy: 0.6201 - recall: 0.4459 - specificity: 0.9847 - f1_score: 0.5617\n",
            "Epoch 00006: saving model to checkpoint_model.h5\n",
            "64/80 [=======================>......] - ETA: 2s - loss: 1.0633 - accuracy: 0.6210 - recall: 0.4471 - specificity: 0.9847 - f1_score: 0.5625\n",
            "Epoch 00006: saving model to checkpoint_model.h5\n",
            "65/80 [=======================>......] - ETA: 2s - loss: 1.0636 - accuracy: 0.6213 - recall: 0.4472 - specificity: 0.9846 - f1_score: 0.5624\n",
            "Epoch 00006: saving model to checkpoint_model.h5\n",
            "66/80 [=======================>......] - ETA: 2s - loss: 1.0602 - accuracy: 0.6216 - recall: 0.4475 - specificity: 0.9846 - f1_score: 0.5628\n",
            "Epoch 00006: saving model to checkpoint_model.h5\n",
            "67/80 [========================>.....] - ETA: 2s - loss: 1.0587 - accuracy: 0.6223 - recall: 0.4480 - specificity: 0.9847 - f1_score: 0.5634\n",
            "Epoch 00006: saving model to checkpoint_model.h5\n",
            "68/80 [========================>.....] - ETA: 1s - loss: 1.0581 - accuracy: 0.6231 - recall: 0.4490 - specificity: 0.9846 - f1_score: 0.5642\n",
            "Epoch 00006: saving model to checkpoint_model.h5\n",
            "69/80 [========================>.....] - ETA: 1s - loss: 1.0566 - accuracy: 0.6234 - recall: 0.4500 - specificity: 0.9846 - f1_score: 0.5649\n",
            "Epoch 00006: saving model to checkpoint_model.h5\n",
            "70/80 [=========================>....] - ETA: 1s - loss: 1.0593 - accuracy: 0.6229 - recall: 0.4497 - specificity: 0.9846 - f1_score: 0.5648\n",
            "Epoch 00006: saving model to checkpoint_model.h5\n",
            "71/80 [=========================>....] - ETA: 1s - loss: 1.0548 - accuracy: 0.6242 - recall: 0.4518 - specificity: 0.9847 - f1_score: 0.5667\n",
            "Epoch 00006: saving model to checkpoint_model.h5\n",
            "72/80 [==========================>...] - ETA: 1s - loss: 1.0540 - accuracy: 0.6241 - recall: 0.4526 - specificity: 0.9847 - f1_score: 0.5674\n",
            "Epoch 00006: saving model to checkpoint_model.h5\n",
            "73/80 [==========================>...] - ETA: 1s - loss: 1.0543 - accuracy: 0.6247 - recall: 0.4541 - specificity: 0.9846 - f1_score: 0.5686\n",
            "Epoch 00006: saving model to checkpoint_model.h5\n",
            "74/80 [==========================>...] - ETA: 0s - loss: 1.0511 - accuracy: 0.6254 - recall: 0.4555 - specificity: 0.9846 - f1_score: 0.5698\n",
            "Epoch 00006: saving model to checkpoint_model.h5\n",
            "75/80 [===========================>..] - ETA: 0s - loss: 1.0500 - accuracy: 0.6260 - recall: 0.4564 - specificity: 0.9847 - f1_score: 0.5707\n",
            "Epoch 00006: saving model to checkpoint_model.h5\n",
            "76/80 [===========================>..] - ETA: 0s - loss: 1.0466 - accuracy: 0.6282 - recall: 0.4584 - specificity: 0.9847 - f1_score: 0.5726\n",
            "Epoch 00006: saving model to checkpoint_model.h5\n",
            "77/80 [===========================>..] - ETA: 0s - loss: 1.0448 - accuracy: 0.6291 - recall: 0.4589 - specificity: 0.9848 - f1_score: 0.5733\n",
            "Epoch 00006: saving model to checkpoint_model.h5\n",
            "78/80 [============================>.] - ETA: 0s - loss: 1.0452 - accuracy: 0.6287 - recall: 0.4583 - specificity: 0.9848 - f1_score: 0.5727\n",
            "Epoch 00006: saving model to checkpoint_model.h5\n",
            "79/80 [============================>.] - ETA: 0s - loss: 1.0452 - accuracy: 0.6285 - recall: 0.4591 - specificity: 0.9846 - f1_score: 0.5729\n",
            "Epoch 00006: saving model to checkpoint_model.h5\n",
            "80/80 [==============================] - 14s 181ms/step - loss: 1.0465 - accuracy: 0.6292 - recall: 0.4602 - specificity: 0.9847 - f1_score: 0.5740 - val_loss: 1.2709 - val_accuracy: 0.5623 - val_recall: 0.4412 - val_specificity: 0.9755 - val_f1_score: 0.5301\n",
            "Epoch 7/100\n",
            "\n",
            "Epoch 00007: saving model to checkpoint_model.h5\n",
            " 1/80 [..............................] - ETA: 0s - loss: 0.8386 - accuracy: 0.7200 - recall: 0.5733 - specificity: 0.9837 - f1_score: 0.6667\n",
            "Epoch 00007: saving model to checkpoint_model.h5\n",
            " 2/80 [..............................] - ETA: 6s - loss: 0.8837 - accuracy: 0.6800 - recall: 0.5533 - specificity: 0.9837 - f1_score: 0.6508\n",
            "Epoch 00007: saving model to checkpoint_model.h5\n",
            " 3/80 [>.............................] - ETA: 7s - loss: 0.8915 - accuracy: 0.6756 - recall: 0.5600 - specificity: 0.9842 - f1_score: 0.6578\n",
            "Epoch 00007: saving model to checkpoint_model.h5\n",
            " 4/80 [>.............................] - ETA: 9s - loss: 0.8672 - accuracy: 0.6933 - recall: 0.5700 - specificity: 0.9844 - f1_score: 0.6664\n",
            "Epoch 00007: saving model to checkpoint_model.h5\n",
            " 5/80 [>.............................] - ETA: 9s - loss: 0.8857 - accuracy: 0.6853 - recall: 0.5600 - specificity: 0.9855 - f1_score: 0.6621\n",
            "Epoch 00007: saving model to checkpoint_model.h5\n",
            " 6/80 [=>............................] - ETA: 10s - loss: 0.8533 - accuracy: 0.7044 - recall: 0.5711 - specificity: 0.9869 - f1_score: 0.6761\n",
            "Epoch 00007: saving model to checkpoint_model.h5\n",
            " 7/80 [=>............................] - ETA: 10s - loss: 0.8647 - accuracy: 0.6990 - recall: 0.5581 - specificity: 0.9871 - f1_score: 0.6659\n",
            "Epoch 00007: saving model to checkpoint_model.h5\n",
            " 8/80 [==>...........................] - ETA: 10s - loss: 0.8427 - accuracy: 0.7033 - recall: 0.5717 - specificity: 0.9874 - f1_score: 0.6774\n",
            "Epoch 00007: saving model to checkpoint_model.h5\n",
            " 9/80 [==>...........................] - ETA: 10s - loss: 0.8419 - accuracy: 0.7067 - recall: 0.5704 - specificity: 0.9868 - f1_score: 0.6745\n",
            "Epoch 00007: saving model to checkpoint_model.h5\n",
            "10/80 [==>...........................] - ETA: 10s - loss: 0.8533 - accuracy: 0.6987 - recall: 0.5627 - specificity: 0.9865 - f1_score: 0.6672\n",
            "Epoch 00007: saving model to checkpoint_model.h5\n",
            "11/80 [===>..........................] - ETA: 10s - loss: 0.8541 - accuracy: 0.6982 - recall: 0.5588 - specificity: 0.9863 - f1_score: 0.6633\n",
            "Epoch 00007: saving model to checkpoint_model.h5\n",
            "12/80 [===>..........................] - ETA: 10s - loss: 0.8532 - accuracy: 0.7000 - recall: 0.5600 - specificity: 0.9865 - f1_score: 0.6653\n",
            "Epoch 00007: saving model to checkpoint_model.h5\n",
            "13/80 [===>..........................] - ETA: 9s - loss: 0.8500 - accuracy: 0.6995 - recall: 0.5569 - specificity: 0.9868 - f1_score: 0.6637 \n",
            "Epoch 00007: saving model to checkpoint_model.h5\n",
            "14/80 [====>.........................] - ETA: 9s - loss: 0.8499 - accuracy: 0.7000 - recall: 0.5610 - specificity: 0.9867 - f1_score: 0.6665\n",
            "Epoch 00007: saving model to checkpoint_model.h5\n",
            "15/80 [====>.........................] - ETA: 9s - loss: 0.8493 - accuracy: 0.6987 - recall: 0.5618 - specificity: 0.9865 - f1_score: 0.6665\n",
            "Epoch 00007: saving model to checkpoint_model.h5\n",
            "16/80 [=====>........................] - ETA: 9s - loss: 0.8480 - accuracy: 0.6925 - recall: 0.5592 - specificity: 0.9863 - f1_score: 0.6638\n",
            "Epoch 00007: saving model to checkpoint_model.h5\n",
            "17/80 [=====>........................] - ETA: 9s - loss: 0.8429 - accuracy: 0.6949 - recall: 0.5600 - specificity: 0.9861 - f1_score: 0.6640\n",
            "Epoch 00007: saving model to checkpoint_model.h5\n",
            "18/80 [=====>........................] - ETA: 9s - loss: 0.8407 - accuracy: 0.6970 - recall: 0.5630 - specificity: 0.9861 - f1_score: 0.6661\n",
            "Epoch 00007: saving model to checkpoint_model.h5\n",
            "19/80 [======>.......................] - ETA: 9s - loss: 0.8602 - accuracy: 0.6912 - recall: 0.5586 - specificity: 0.9855 - f1_score: 0.6607\n",
            "Epoch 00007: saving model to checkpoint_model.h5\n",
            "20/80 [======>.......................] - ETA: 9s - loss: 0.8591 - accuracy: 0.6913 - recall: 0.5573 - specificity: 0.9852 - f1_score: 0.6587\n",
            "Epoch 00007: saving model to checkpoint_model.h5\n",
            "21/80 [======>.......................] - ETA: 9s - loss: 0.8625 - accuracy: 0.6933 - recall: 0.5600 - specificity: 0.9850 - f1_score: 0.6602\n",
            "Epoch 00007: saving model to checkpoint_model.h5\n",
            "22/80 [=======>......................] - ETA: 8s - loss: 0.8569 - accuracy: 0.6958 - recall: 0.5648 - specificity: 0.9852 - f1_score: 0.6644\n",
            "Epoch 00007: saving model to checkpoint_model.h5\n",
            "23/80 [=======>......................] - ETA: 8s - loss: 0.8511 - accuracy: 0.6997 - recall: 0.5693 - specificity: 0.9851 - f1_score: 0.6672\n",
            "Epoch 00007: saving model to checkpoint_model.h5\n",
            "24/80 [========>.....................] - ETA: 8s - loss: 0.8519 - accuracy: 0.6994 - recall: 0.5683 - specificity: 0.9848 - f1_score: 0.6657\n",
            "Epoch 00007: saving model to checkpoint_model.h5\n",
            "25/80 [========>.....................] - ETA: 8s - loss: 0.8536 - accuracy: 0.7008 - recall: 0.5680 - specificity: 0.9848 - f1_score: 0.6653\n",
            "Epoch 00007: saving model to checkpoint_model.h5\n",
            "26/80 [========>.....................] - ETA: 8s - loss: 0.8632 - accuracy: 0.6979 - recall: 0.5641 - specificity: 0.9847 - f1_score: 0.6618\n",
            "Epoch 00007: saving model to checkpoint_model.h5\n",
            "27/80 [=========>....................] - ETA: 8s - loss: 0.8636 - accuracy: 0.6953 - recall: 0.5635 - specificity: 0.9847 - f1_score: 0.6614\n",
            "Epoch 00007: saving model to checkpoint_model.h5\n",
            "28/80 [=========>....................] - ETA: 8s - loss: 0.8704 - accuracy: 0.6943 - recall: 0.5629 - specificity: 0.9845 - f1_score: 0.6603\n",
            "Epoch 00007: saving model to checkpoint_model.h5\n",
            "29/80 [=========>....................] - ETA: 7s - loss: 0.8698 - accuracy: 0.6943 - recall: 0.5614 - specificity: 0.9843 - f1_score: 0.6586\n",
            "Epoch 00007: saving model to checkpoint_model.h5\n",
            "30/80 [==========>...................] - ETA: 7s - loss: 0.8695 - accuracy: 0.6938 - recall: 0.5636 - specificity: 0.9843 - f1_score: 0.6603\n",
            "Epoch 00007: saving model to checkpoint_model.h5\n",
            "31/80 [==========>...................] - ETA: 7s - loss: 0.8789 - accuracy: 0.6912 - recall: 0.5604 - specificity: 0.9843 - f1_score: 0.6576\n",
            "Epoch 00007: saving model to checkpoint_model.h5\n",
            "32/80 [===========>..................] - ETA: 7s - loss: 0.8840 - accuracy: 0.6908 - recall: 0.5588 - specificity: 0.9843 - f1_score: 0.6562\n",
            "Epoch 00007: saving model to checkpoint_model.h5\n",
            "33/80 [===========>..................] - ETA: 7s - loss: 0.8866 - accuracy: 0.6917 - recall: 0.5584 - specificity: 0.9843 - f1_score: 0.6562\n",
            "Epoch 00007: saving model to checkpoint_model.h5\n",
            "34/80 [===========>..................] - ETA: 7s - loss: 0.8947 - accuracy: 0.6878 - recall: 0.5553 - specificity: 0.9841 - f1_score: 0.6529\n",
            "Epoch 00007: saving model to checkpoint_model.h5\n",
            "35/80 [============>.................] - ETA: 7s - loss: 0.8994 - accuracy: 0.6853 - recall: 0.5535 - specificity: 0.9840 - f1_score: 0.6510\n",
            "Epoch 00007: saving model to checkpoint_model.h5\n",
            "36/80 [============>.................] - ETA: 6s - loss: 0.9066 - accuracy: 0.6830 - recall: 0.5511 - specificity: 0.9838 - f1_score: 0.6486\n",
            "Epoch 00007: saving model to checkpoint_model.h5\n",
            "37/80 [============>.................] - ETA: 6s - loss: 0.9068 - accuracy: 0.6818 - recall: 0.5499 - specificity: 0.9838 - f1_score: 0.6476\n",
            "Epoch 00007: saving model to checkpoint_model.h5\n",
            "38/80 [=============>................] - ETA: 6s - loss: 0.9071 - accuracy: 0.6818 - recall: 0.5477 - specificity: 0.9838 - f1_score: 0.6457\n",
            "Epoch 00007: saving model to checkpoint_model.h5\n",
            "39/80 [=============>................] - ETA: 6s - loss: 0.9099 - accuracy: 0.6793 - recall: 0.5463 - specificity: 0.9837 - f1_score: 0.6442\n",
            "Epoch 00007: saving model to checkpoint_model.h5\n",
            "40/80 [==============>...............] - ETA: 6s - loss: 0.9147 - accuracy: 0.6783 - recall: 0.5447 - specificity: 0.9838 - f1_score: 0.6432\n",
            "Epoch 00007: saving model to checkpoint_model.h5\n",
            "41/80 [==============>...............] - ETA: 6s - loss: 0.9174 - accuracy: 0.6751 - recall: 0.5424 - specificity: 0.9835 - f1_score: 0.6406\n",
            "Epoch 00007: saving model to checkpoint_model.h5\n",
            "42/80 [==============>...............] - ETA: 5s - loss: 0.9204 - accuracy: 0.6749 - recall: 0.5403 - specificity: 0.9836 - f1_score: 0.6389\n",
            "Epoch 00007: saving model to checkpoint_model.h5\n",
            "43/80 [===============>..............] - ETA: 5s - loss: 0.9186 - accuracy: 0.6766 - recall: 0.5398 - specificity: 0.9837 - f1_score: 0.6391\n",
            "Epoch 00007: saving model to checkpoint_model.h5\n",
            "44/80 [===============>..............] - ETA: 5s - loss: 0.9235 - accuracy: 0.6739 - recall: 0.5373 - specificity: 0.9836 - f1_score: 0.6365\n",
            "Epoch 00007: saving model to checkpoint_model.h5\n",
            "45/80 [===============>..............] - ETA: 5s - loss: 0.9239 - accuracy: 0.6726 - recall: 0.5351 - specificity: 0.9835 - f1_score: 0.6345\n",
            "Epoch 00007: saving model to checkpoint_model.h5\n",
            "46/80 [================>.............] - ETA: 5s - loss: 0.9272 - accuracy: 0.6722 - recall: 0.5348 - specificity: 0.9837 - f1_score: 0.6349\n",
            "Epoch 00007: saving model to checkpoint_model.h5\n",
            "47/80 [================>.............] - ETA: 5s - loss: 0.9266 - accuracy: 0.6718 - recall: 0.5359 - specificity: 0.9837 - f1_score: 0.6358\n",
            "Epoch 00007: saving model to checkpoint_model.h5\n",
            "48/80 [=================>............] - ETA: 5s - loss: 0.9295 - accuracy: 0.6694 - recall: 0.5339 - specificity: 0.9836 - f1_score: 0.6338\n",
            "Epoch 00007: saving model to checkpoint_model.h5\n",
            "49/80 [=================>............] - ETA: 4s - loss: 0.9284 - accuracy: 0.6710 - recall: 0.5361 - specificity: 0.9836 - f1_score: 0.6356\n",
            "Epoch 00007: saving model to checkpoint_model.h5\n",
            "50/80 [=================>............] - ETA: 4s - loss: 0.9257 - accuracy: 0.6723 - recall: 0.5379 - specificity: 0.9837 - f1_score: 0.6371\n",
            "Epoch 00007: saving model to checkpoint_model.h5\n",
            "51/80 [==================>...........] - ETA: 4s - loss: 0.9225 - accuracy: 0.6724 - recall: 0.5388 - specificity: 0.9836 - f1_score: 0.6377\n",
            "Epoch 00007: saving model to checkpoint_model.h5\n",
            "52/80 [==================>...........] - ETA: 4s - loss: 0.9218 - accuracy: 0.6731 - recall: 0.5387 - specificity: 0.9837 - f1_score: 0.6378\n",
            "Epoch 00007: saving model to checkpoint_model.h5\n",
            "53/80 [==================>...........] - ETA: 4s - loss: 0.9209 - accuracy: 0.6732 - recall: 0.5384 - specificity: 0.9837 - f1_score: 0.6376\n",
            "Epoch 00007: saving model to checkpoint_model.h5\n",
            "54/80 [===================>..........] - ETA: 4s - loss: 0.9229 - accuracy: 0.6726 - recall: 0.5385 - specificity: 0.9836 - f1_score: 0.6376\n",
            "Epoch 00007: saving model to checkpoint_model.h5\n",
            "55/80 [===================>..........] - ETA: 3s - loss: 0.9226 - accuracy: 0.6722 - recall: 0.5392 - specificity: 0.9835 - f1_score: 0.6378\n",
            "Epoch 00007: saving model to checkpoint_model.h5\n",
            "56/80 [====================>.........] - ETA: 3s - loss: 0.9176 - accuracy: 0.6740 - recall: 0.5421 - specificity: 0.9837 - f1_score: 0.6405\n",
            "Epoch 00007: saving model to checkpoint_model.h5\n",
            "57/80 [====================>.........] - ETA: 3s - loss: 0.9178 - accuracy: 0.6737 - recall: 0.5420 - specificity: 0.9838 - f1_score: 0.6409\n",
            "Epoch 00007: saving model to checkpoint_model.h5\n",
            "58/80 [====================>.........] - ETA: 3s - loss: 0.9165 - accuracy: 0.6749 - recall: 0.5416 - specificity: 0.9839 - f1_score: 0.6411\n",
            "Epoch 00007: saving model to checkpoint_model.h5\n",
            "59/80 [=====================>........] - ETA: 3s - loss: 0.9210 - accuracy: 0.6737 - recall: 0.5399 - specificity: 0.9839 - f1_score: 0.6394\n",
            "Epoch 00007: saving model to checkpoint_model.h5\n",
            "60/80 [=====================>........] - ETA: 3s - loss: 0.9176 - accuracy: 0.6751 - recall: 0.5411 - specificity: 0.9839 - f1_score: 0.6406\n",
            "Epoch 00007: saving model to checkpoint_model.h5\n",
            "61/80 [=====================>........] - ETA: 3s - loss: 0.9178 - accuracy: 0.6748 - recall: 0.5412 - specificity: 0.9840 - f1_score: 0.6409\n",
            "Epoch 00007: saving model to checkpoint_model.h5\n",
            "62/80 [======================>.......] - ETA: 2s - loss: 0.9171 - accuracy: 0.6753 - recall: 0.5413 - specificity: 0.9841 - f1_score: 0.6413\n",
            "Epoch 00007: saving model to checkpoint_model.h5\n",
            "63/80 [======================>.......] - ETA: 2s - loss: 0.9184 - accuracy: 0.6749 - recall: 0.5412 - specificity: 0.9841 - f1_score: 0.6412\n",
            "Epoch 00007: saving model to checkpoint_model.h5\n",
            "64/80 [=======================>......] - ETA: 2s - loss: 0.9176 - accuracy: 0.6756 - recall: 0.5417 - specificity: 0.9842 - f1_score: 0.6420\n",
            "Epoch 00007: saving model to checkpoint_model.h5\n",
            "65/80 [=======================>......] - ETA: 2s - loss: 0.9155 - accuracy: 0.6773 - recall: 0.5434 - specificity: 0.9843 - f1_score: 0.6436\n",
            "Epoch 00007: saving model to checkpoint_model.h5\n",
            "66/80 [=======================>......] - ETA: 2s - loss: 0.9156 - accuracy: 0.6776 - recall: 0.5436 - specificity: 0.9843 - f1_score: 0.6440\n",
            "Epoch 00007: saving model to checkpoint_model.h5\n",
            "67/80 [========================>.....] - ETA: 2s - loss: 0.9132 - accuracy: 0.6782 - recall: 0.5441 - specificity: 0.9844 - f1_score: 0.6446\n",
            "Epoch 00007: saving model to checkpoint_model.h5\n",
            "68/80 [========================>.....] - ETA: 1s - loss: 0.9130 - accuracy: 0.6790 - recall: 0.5451 - specificity: 0.9843 - f1_score: 0.6453\n",
            "Epoch 00007: saving model to checkpoint_model.h5\n",
            "69/80 [========================>.....] - ETA: 1s - loss: 0.9118 - accuracy: 0.6796 - recall: 0.5453 - specificity: 0.9844 - f1_score: 0.6458\n",
            "Epoch 00007: saving model to checkpoint_model.h5\n",
            "70/80 [=========================>....] - ETA: 1s - loss: 0.9127 - accuracy: 0.6792 - recall: 0.5446 - specificity: 0.9843 - f1_score: 0.6449\n",
            "Epoch 00007: saving model to checkpoint_model.h5\n",
            "71/80 [=========================>....] - ETA: 1s - loss: 0.9107 - accuracy: 0.6796 - recall: 0.5454 - specificity: 0.9843 - f1_score: 0.6455\n",
            "Epoch 00007: saving model to checkpoint_model.h5\n",
            "72/80 [==========================>...] - ETA: 1s - loss: 0.9112 - accuracy: 0.6787 - recall: 0.5459 - specificity: 0.9843 - f1_score: 0.6458\n",
            "Epoch 00007: saving model to checkpoint_model.h5\n",
            "73/80 [==========================>...] - ETA: 1s - loss: 0.9115 - accuracy: 0.6789 - recall: 0.5463 - specificity: 0.9841 - f1_score: 0.6456\n",
            "Epoch 00007: saving model to checkpoint_model.h5\n",
            "74/80 [==========================>...] - ETA: 0s - loss: 0.9092 - accuracy: 0.6796 - recall: 0.5477 - specificity: 0.9841 - f1_score: 0.6467\n",
            "Epoch 00007: saving model to checkpoint_model.h5\n",
            "75/80 [===========================>..] - ETA: 0s - loss: 0.9100 - accuracy: 0.6796 - recall: 0.5476 - specificity: 0.9842 - f1_score: 0.6467\n",
            "Epoch 00007: saving model to checkpoint_model.h5\n",
            "76/80 [===========================>..] - ETA: 0s - loss: 0.9110 - accuracy: 0.6798 - recall: 0.5482 - specificity: 0.9841 - f1_score: 0.6470\n",
            "Epoch 00007: saving model to checkpoint_model.h5\n",
            "77/80 [===========================>..] - ETA: 0s - loss: 0.9096 - accuracy: 0.6797 - recall: 0.5484 - specificity: 0.9840 - f1_score: 0.6469\n",
            "Epoch 00007: saving model to checkpoint_model.h5\n",
            "78/80 [============================>.] - ETA: 0s - loss: 0.9087 - accuracy: 0.6802 - recall: 0.5492 - specificity: 0.9840 - f1_score: 0.6476\n",
            "Epoch 00007: saving model to checkpoint_model.h5\n",
            "79/80 [============================>.] - ETA: 0s - loss: 0.9092 - accuracy: 0.6805 - recall: 0.5500 - specificity: 0.9840 - f1_score: 0.6483\n",
            "Epoch 00007: saving model to checkpoint_model.h5\n",
            "80/80 [==============================] - 15s 183ms/step - loss: 0.9089 - accuracy: 0.6812 - recall: 0.5503 - specificity: 0.9840 - f1_score: 0.6483 - val_loss: 1.2257 - val_accuracy: 0.5748 - val_recall: 0.4662 - val_specificity: 0.9754 - val_f1_score: 0.5516\n",
            "Epoch 8/100\n",
            "\n",
            "Epoch 00008: saving model to checkpoint_model.h5\n",
            " 1/80 [..............................] - ETA: 0s - loss: 0.7966 - accuracy: 0.7600 - recall: 0.6400 - specificity: 0.9926 - f1_score: 0.7500\n",
            "Epoch 00008: saving model to checkpoint_model.h5\n",
            " 2/80 [..............................] - ETA: 6s - loss: 0.7397 - accuracy: 0.7733 - recall: 0.6333 - specificity: 0.9911 - f1_score: 0.7393\n",
            "Epoch 00008: saving model to checkpoint_model.h5\n",
            " 3/80 [>.............................] - ETA: 8s - loss: 0.7813 - accuracy: 0.7600 - recall: 0.6133 - specificity: 0.9901 - f1_score: 0.7204\n",
            "Epoch 00008: saving model to checkpoint_model.h5\n",
            " 4/80 [>.............................] - ETA: 9s - loss: 0.7451 - accuracy: 0.7700 - recall: 0.6267 - specificity: 0.9904 - f1_score: 0.7311\n",
            "Epoch 00008: saving model to checkpoint_model.h5\n",
            " 5/80 [>.............................] - ETA: 9s - loss: 0.7284 - accuracy: 0.7627 - recall: 0.6400 - specificity: 0.9908 - f1_score: 0.7425\n",
            "Epoch 00008: saving model to checkpoint_model.h5\n",
            " 6/80 [=>............................] - ETA: 9s - loss: 0.7343 - accuracy: 0.7622 - recall: 0.6289 - specificity: 0.9904 - f1_score: 0.7325\n",
            "Epoch 00008: saving model to checkpoint_model.h5\n",
            " 7/80 [=>............................] - ETA: 10s - loss: 0.7522 - accuracy: 0.7505 - recall: 0.6248 - specificity: 0.9890 - f1_score: 0.7245\n",
            "Epoch 00008: saving model to checkpoint_model.h5\n",
            " 8/80 [==>...........................] - ETA: 10s - loss: 0.7473 - accuracy: 0.7483 - recall: 0.6300 - specificity: 0.9889 - f1_score: 0.7279\n",
            "Epoch 00008: saving model to checkpoint_model.h5\n",
            " 9/80 [==>...........................] - ETA: 10s - loss: 0.7683 - accuracy: 0.7393 - recall: 0.6267 - specificity: 0.9883 - f1_score: 0.7234\n",
            "Epoch 00008: saving model to checkpoint_model.h5\n",
            "10/80 [==>...........................] - ETA: 10s - loss: 0.7622 - accuracy: 0.7400 - recall: 0.6293 - specificity: 0.9884 - f1_score: 0.7259\n",
            "Epoch 00008: saving model to checkpoint_model.h5\n",
            "11/80 [===>..........................] - ETA: 10s - loss: 0.7492 - accuracy: 0.7479 - recall: 0.6315 - specificity: 0.9891 - f1_score: 0.7300\n",
            "Epoch 00008: saving model to checkpoint_model.h5\n",
            "12/80 [===>..........................] - ETA: 10s - loss: 0.7493 - accuracy: 0.7456 - recall: 0.6322 - specificity: 0.9890 - f1_score: 0.7303\n",
            "Epoch 00008: saving model to checkpoint_model.h5\n",
            "13/80 [===>..........................] - ETA: 10s - loss: 0.7489 - accuracy: 0.7426 - recall: 0.6297 - specificity: 0.9886 - f1_score: 0.7269\n",
            "Epoch 00008: saving model to checkpoint_model.h5\n",
            "14/80 [====>.........................] - ETA: 10s - loss: 0.7371 - accuracy: 0.7476 - recall: 0.6381 - specificity: 0.9890 - f1_score: 0.7343\n",
            "Epoch 00008: saving model to checkpoint_model.h5\n",
            "15/80 [====>.........................] - ETA: 9s - loss: 0.7364 - accuracy: 0.7493 - recall: 0.6400 - specificity: 0.9890 - f1_score: 0.7358 \n",
            "Epoch 00008: saving model to checkpoint_model.h5\n",
            "16/80 [=====>........................] - ETA: 9s - loss: 0.7301 - accuracy: 0.7525 - recall: 0.6425 - specificity: 0.9888 - f1_score: 0.7367\n",
            "Epoch 00008: saving model to checkpoint_model.h5\n",
            "17/80 [=====>........................] - ETA: 9s - loss: 0.7323 - accuracy: 0.7498 - recall: 0.6424 - specificity: 0.9888 - f1_score: 0.7365\n",
            "Epoch 00008: saving model to checkpoint_model.h5\n",
            "18/80 [=====>........................] - ETA: 9s - loss: 0.7364 - accuracy: 0.7489 - recall: 0.6415 - specificity: 0.9883 - f1_score: 0.7343\n",
            "Epoch 00008: saving model to checkpoint_model.h5\n",
            "19/80 [======>.......................] - ETA: 9s - loss: 0.7347 - accuracy: 0.7474 - recall: 0.6414 - specificity: 0.9881 - f1_score: 0.7336\n",
            "Epoch 00008: saving model to checkpoint_model.h5\n",
            "20/80 [======>.......................] - ETA: 9s - loss: 0.7367 - accuracy: 0.7493 - recall: 0.6460 - specificity: 0.9884 - f1_score: 0.7377\n",
            "Epoch 00008: saving model to checkpoint_model.h5\n",
            "21/80 [======>.......................] - ETA: 9s - loss: 0.7300 - accuracy: 0.7517 - recall: 0.6489 - specificity: 0.9883 - f1_score: 0.7394\n",
            "Epoch 00008: saving model to checkpoint_model.h5\n",
            "22/80 [=======>......................] - ETA: 9s - loss: 0.7336 - accuracy: 0.7515 - recall: 0.6461 - specificity: 0.9880 - f1_score: 0.7363\n",
            "Epoch 00008: saving model to checkpoint_model.h5\n",
            "23/80 [=======>......................] - ETA: 8s - loss: 0.7417 - accuracy: 0.7478 - recall: 0.6441 - specificity: 0.9878 - f1_score: 0.7339\n",
            "Epoch 00008: saving model to checkpoint_model.h5\n",
            "24/80 [========>.....................] - ETA: 8s - loss: 0.7475 - accuracy: 0.7444 - recall: 0.6411 - specificity: 0.9876 - f1_score: 0.7311\n",
            "Epoch 00008: saving model to checkpoint_model.h5\n",
            "25/80 [========>.....................] - ETA: 8s - loss: 0.7463 - accuracy: 0.7440 - recall: 0.6416 - specificity: 0.9875 - f1_score: 0.7311\n",
            "Epoch 00008: saving model to checkpoint_model.h5\n",
            "26/80 [========>.....................] - ETA: 8s - loss: 0.7491 - accuracy: 0.7431 - recall: 0.6426 - specificity: 0.9874 - f1_score: 0.7315\n",
            "Epoch 00008: saving model to checkpoint_model.h5\n",
            "27/80 [=========>....................] - ETA: 8s - loss: 0.7512 - accuracy: 0.7432 - recall: 0.6405 - specificity: 0.9873 - f1_score: 0.7295\n",
            "Epoch 00008: saving model to checkpoint_model.h5\n",
            "28/80 [=========>....................] - ETA: 8s - loss: 0.7517 - accuracy: 0.7419 - recall: 0.6410 - specificity: 0.9870 - f1_score: 0.7288\n",
            "Epoch 00008: saving model to checkpoint_model.h5\n",
            "29/80 [=========>....................] - ETA: 8s - loss: 0.7571 - accuracy: 0.7407 - recall: 0.6414 - specificity: 0.9867 - f1_score: 0.7282\n",
            "Epoch 00008: saving model to checkpoint_model.h5\n",
            "30/80 [==========>...................] - ETA: 7s - loss: 0.7620 - accuracy: 0.7382 - recall: 0.6369 - specificity: 0.9864 - f1_score: 0.7235\n",
            "Epoch 00008: saving model to checkpoint_model.h5\n",
            "31/80 [==========>...................] - ETA: 7s - loss: 0.7576 - accuracy: 0.7389 - recall: 0.6391 - specificity: 0.9864 - f1_score: 0.7251\n",
            "Epoch 00008: saving model to checkpoint_model.h5\n",
            "32/80 [===========>..................] - ETA: 7s - loss: 0.7553 - accuracy: 0.7404 - recall: 0.6375 - specificity: 0.9865 - f1_score: 0.7243\n",
            "Epoch 00008: saving model to checkpoint_model.h5\n",
            "33/80 [===========>..................] - ETA: 7s - loss: 0.7548 - accuracy: 0.7406 - recall: 0.6364 - specificity: 0.9866 - f1_score: 0.7238\n",
            "Epoch 00008: saving model to checkpoint_model.h5\n",
            "34/80 [===========>..................] - ETA: 7s - loss: 0.7558 - accuracy: 0.7412 - recall: 0.6345 - specificity: 0.9866 - f1_score: 0.7226\n",
            "Epoch 00008: saving model to checkpoint_model.h5\n",
            "35/80 [============>.................] - ETA: 7s - loss: 0.7520 - accuracy: 0.7429 - recall: 0.6377 - specificity: 0.9866 - f1_score: 0.7248\n",
            "Epoch 00008: saving model to checkpoint_model.h5\n",
            "36/80 [============>.................] - ETA: 6s - loss: 0.7527 - accuracy: 0.7419 - recall: 0.6381 - specificity: 0.9867 - f1_score: 0.7253\n",
            "Epoch 00008: saving model to checkpoint_model.h5\n",
            "37/80 [============>.................] - ETA: 6s - loss: 0.7514 - accuracy: 0.7427 - recall: 0.6389 - specificity: 0.9868 - f1_score: 0.7265\n",
            "Epoch 00008: saving model to checkpoint_model.h5\n",
            "38/80 [=============>................] - ETA: 6s - loss: 0.7480 - accuracy: 0.7432 - recall: 0.6396 - specificity: 0.9869 - f1_score: 0.7275\n",
            "Epoch 00008: saving model to checkpoint_model.h5\n",
            "39/80 [=============>................] - ETA: 6s - loss: 0.7524 - accuracy: 0.7409 - recall: 0.6397 - specificity: 0.9866 - f1_score: 0.7264\n",
            "Epoch 00008: saving model to checkpoint_model.h5\n",
            "40/80 [==============>...............] - ETA: 6s - loss: 0.7552 - accuracy: 0.7387 - recall: 0.6360 - specificity: 0.9865 - f1_score: 0.7232\n",
            "Epoch 00008: saving model to checkpoint_model.h5\n",
            "41/80 [==============>...............] - ETA: 6s - loss: 0.7565 - accuracy: 0.7369 - recall: 0.6345 - specificity: 0.9864 - f1_score: 0.7218\n",
            "Epoch 00008: saving model to checkpoint_model.h5\n",
            "42/80 [==============>...............] - ETA: 6s - loss: 0.7546 - accuracy: 0.7371 - recall: 0.6340 - specificity: 0.9864 - f1_score: 0.7213\n",
            "Epoch 00008: saving model to checkpoint_model.h5\n",
            "43/80 [===============>..............] - ETA: 5s - loss: 0.7552 - accuracy: 0.7358 - recall: 0.6341 - specificity: 0.9864 - f1_score: 0.7212\n",
            "Epoch 00008: saving model to checkpoint_model.h5\n",
            "44/80 [===============>..............] - ETA: 5s - loss: 0.7543 - accuracy: 0.7355 - recall: 0.6348 - specificity: 0.9863 - f1_score: 0.7214\n",
            "Epoch 00008: saving model to checkpoint_model.h5\n",
            "45/80 [===============>..............] - ETA: 5s - loss: 0.7568 - accuracy: 0.7345 - recall: 0.6332 - specificity: 0.9862 - f1_score: 0.7200\n",
            "Epoch 00008: saving model to checkpoint_model.h5\n",
            "46/80 [================>.............] - ETA: 5s - loss: 0.7568 - accuracy: 0.7339 - recall: 0.6325 - specificity: 0.9861 - f1_score: 0.7189\n",
            "Epoch 00008: saving model to checkpoint_model.h5\n",
            "47/80 [================>.............] - ETA: 5s - loss: 0.7591 - accuracy: 0.7325 - recall: 0.6312 - specificity: 0.9859 - f1_score: 0.7175\n",
            "Epoch 00008: saving model to checkpoint_model.h5\n",
            "48/80 [=================>............] - ETA: 5s - loss: 0.7598 - accuracy: 0.7319 - recall: 0.6311 - specificity: 0.9858 - f1_score: 0.7171\n",
            "Epoch 00008: saving model to checkpoint_model.h5\n",
            "49/80 [=================>............] - ETA: 5s - loss: 0.7602 - accuracy: 0.7322 - recall: 0.6313 - specificity: 0.9858 - f1_score: 0.7172\n",
            "Epoch 00008: saving model to checkpoint_model.h5\n",
            "50/80 [=================>............] - ETA: 4s - loss: 0.7566 - accuracy: 0.7339 - recall: 0.6331 - specificity: 0.9859 - f1_score: 0.7188\n",
            "Epoch 00008: saving model to checkpoint_model.h5\n",
            "51/80 [==================>...........] - ETA: 4s - loss: 0.7609 - accuracy: 0.7318 - recall: 0.6314 - specificity: 0.9857 - f1_score: 0.7168\n",
            "Epoch 00008: saving model to checkpoint_model.h5\n",
            "52/80 [==================>...........] - ETA: 4s - loss: 0.7639 - accuracy: 0.7305 - recall: 0.6303 - specificity: 0.9858 - f1_score: 0.7162\n",
            "Epoch 00008: saving model to checkpoint_model.h5\n",
            "53/80 [==================>...........] - ETA: 4s - loss: 0.7678 - accuracy: 0.7286 - recall: 0.6284 - specificity: 0.9856 - f1_score: 0.7144\n",
            "Epoch 00008: saving model to checkpoint_model.h5\n",
            "54/80 [===================>..........] - ETA: 4s - loss: 0.7682 - accuracy: 0.7286 - recall: 0.6264 - specificity: 0.9857 - f1_score: 0.7130\n",
            "Epoch 00008: saving model to checkpoint_model.h5\n",
            "55/80 [===================>..........] - ETA: 4s - loss: 0.7656 - accuracy: 0.7304 - recall: 0.6267 - specificity: 0.9857 - f1_score: 0.7134\n",
            "Epoch 00008: saving model to checkpoint_model.h5\n",
            "56/80 [====================>.........] - ETA: 3s - loss: 0.7696 - accuracy: 0.7288 - recall: 0.6250 - specificity: 0.9856 - f1_score: 0.7115\n",
            "Epoch 00008: saving model to checkpoint_model.h5\n",
            "57/80 [====================>.........] - ETA: 3s - loss: 0.7705 - accuracy: 0.7289 - recall: 0.6239 - specificity: 0.9856 - f1_score: 0.7107\n",
            "Epoch 00008: saving model to checkpoint_model.h5\n",
            "58/80 [====================>.........] - ETA: 3s - loss: 0.7681 - accuracy: 0.7294 - recall: 0.6246 - specificity: 0.9855 - f1_score: 0.7110\n",
            "Epoch 00008: saving model to checkpoint_model.h5\n",
            "59/80 [=====================>........] - ETA: 3s - loss: 0.7696 - accuracy: 0.7281 - recall: 0.6240 - specificity: 0.9853 - f1_score: 0.7098\n",
            "Epoch 00008: saving model to checkpoint_model.h5\n",
            "60/80 [=====================>........] - ETA: 3s - loss: 0.7695 - accuracy: 0.7276 - recall: 0.6238 - specificity: 0.9853 - f1_score: 0.7096\n",
            "Epoch 00008: saving model to checkpoint_model.h5\n",
            "61/80 [=====================>........] - ETA: 3s - loss: 0.7695 - accuracy: 0.7277 - recall: 0.6238 - specificity: 0.9853 - f1_score: 0.7097\n",
            "Epoch 00008: saving model to checkpoint_model.h5\n",
            "62/80 [======================>.......] - ETA: 2s - loss: 0.7715 - accuracy: 0.7277 - recall: 0.6230 - specificity: 0.9853 - f1_score: 0.7090\n",
            "Epoch 00008: saving model to checkpoint_model.h5\n",
            "63/80 [======================>.......] - ETA: 2s - loss: 0.7727 - accuracy: 0.7276 - recall: 0.6241 - specificity: 0.9853 - f1_score: 0.7101\n",
            "Epoch 00008: saving model to checkpoint_model.h5\n",
            "64/80 [=======================>......] - ETA: 2s - loss: 0.7773 - accuracy: 0.7262 - recall: 0.6231 - specificity: 0.9852 - f1_score: 0.7088\n",
            "Epoch 00008: saving model to checkpoint_model.h5\n",
            "65/80 [=======================>......] - ETA: 2s - loss: 0.7779 - accuracy: 0.7257 - recall: 0.6228 - specificity: 0.9850 - f1_score: 0.7081\n",
            "Epoch 00008: saving model to checkpoint_model.h5\n",
            "66/80 [=======================>......] - ETA: 2s - loss: 0.7762 - accuracy: 0.7261 - recall: 0.6232 - specificity: 0.9850 - f1_score: 0.7084\n",
            "Epoch 00008: saving model to checkpoint_model.h5\n",
            "67/80 [========================>.....] - ETA: 2s - loss: 0.7753 - accuracy: 0.7266 - recall: 0.6235 - specificity: 0.9850 - f1_score: 0.7085\n",
            "Epoch 00008: saving model to checkpoint_model.h5\n",
            "68/80 [========================>.....] - ETA: 1s - loss: 0.7760 - accuracy: 0.7259 - recall: 0.6224 - specificity: 0.9849 - f1_score: 0.7074\n",
            "Epoch 00008: saving model to checkpoint_model.h5\n",
            "69/80 [========================>.....] - ETA: 1s - loss: 0.7766 - accuracy: 0.7250 - recall: 0.6213 - specificity: 0.9849 - f1_score: 0.7064\n",
            "Epoch 00008: saving model to checkpoint_model.h5\n",
            "70/80 [=========================>....] - ETA: 1s - loss: 0.7738 - accuracy: 0.7261 - recall: 0.6223 - specificity: 0.9850 - f1_score: 0.7074\n",
            "Epoch 00008: saving model to checkpoint_model.h5\n",
            "71/80 [=========================>....] - ETA: 1s - loss: 0.7746 - accuracy: 0.7266 - recall: 0.6216 - specificity: 0.9850 - f1_score: 0.7072\n",
            "Epoch 00008: saving model to checkpoint_model.h5\n",
            "72/80 [==========================>...] - ETA: 1s - loss: 0.7737 - accuracy: 0.7270 - recall: 0.6213 - specificity: 0.9851 - f1_score: 0.7071\n",
            "Epoch 00008: saving model to checkpoint_model.h5\n",
            "73/80 [==========================>...] - ETA: 1s - loss: 0.7729 - accuracy: 0.7269 - recall: 0.6219 - specificity: 0.9850 - f1_score: 0.7074\n",
            "Epoch 00008: saving model to checkpoint_model.h5\n",
            "74/80 [==========================>...] - ETA: 0s - loss: 0.7740 - accuracy: 0.7261 - recall: 0.6216 - specificity: 0.9849 - f1_score: 0.7069\n",
            "Epoch 00008: saving model to checkpoint_model.h5\n",
            "75/80 [===========================>..] - ETA: 0s - loss: 0.7766 - accuracy: 0.7252 - recall: 0.6210 - specificity: 0.9848 - f1_score: 0.7061\n",
            "Epoch 00008: saving model to checkpoint_model.h5\n",
            "76/80 [===========================>..] - ETA: 0s - loss: 0.7778 - accuracy: 0.7249 - recall: 0.6211 - specificity: 0.9848 - f1_score: 0.7059\n",
            "Epoch 00008: saving model to checkpoint_model.h5\n",
            "77/80 [===========================>..] - ETA: 0s - loss: 0.7805 - accuracy: 0.7236 - recall: 0.6201 - specificity: 0.9847 - f1_score: 0.7049\n",
            "Epoch 00008: saving model to checkpoint_model.h5\n",
            "78/80 [============================>.] - ETA: 0s - loss: 0.7797 - accuracy: 0.7243 - recall: 0.6205 - specificity: 0.9847 - f1_score: 0.7052\n",
            "Epoch 00008: saving model to checkpoint_model.h5\n",
            "79/80 [============================>.] - ETA: 0s - loss: 0.7789 - accuracy: 0.7246 - recall: 0.6208 - specificity: 0.9847 - f1_score: 0.7053\n",
            "Epoch 00008: saving model to checkpoint_model.h5\n",
            "80/80 [==============================] - 15s 190ms/step - loss: 0.7798 - accuracy: 0.7238 - recall: 0.6203 - specificity: 0.9846 - f1_score: 0.7046 - val_loss: 1.2686 - val_accuracy: 0.5692 - val_recall: 0.4743 - val_specificity: 0.9732 - val_f1_score: 0.5520\n",
            "Epoch 00008: early stopping\n"
          ],
          "name": "stdout"
        }
      ]
    },
    {
      "cell_type": "markdown",
      "metadata": {
        "id": "aMDf4PtWnpEC"
      },
      "source": [
        "#### 5.\n",
        "Visualisasikan _error_ dari proses training yang diperoleh dari tiap $\\text{epoch}$ dan tampilkan matrik evaluasi ($\\text{accuration}$, $\\text{sensitivity}$, $\\text{specifity}$, dan $f_{1} \\text{ score}$) dari data test."
      ]
    },
    {
      "cell_type": "code",
      "metadata": {
        "id": "t8_a1m38nl8e",
        "outputId": "2d2ae5fb-6627-4bb3-e2ec-490770ea7233",
        "colab": {
          "base_uri": "https://localhost:8080/",
          "height": 80
        }
      },
      "source": [
        "predict_and_get_metrics(final_convolutional_model, x_test, y_test, label='Data Test')"
      ],
      "execution_count": 43,
      "outputs": [
        {
          "output_type": "execute_result",
          "data": {
            "text/html": [
              "<div>\n",
              "<style scoped>\n",
              "    .dataframe tbody tr th:only-of-type {\n",
              "        vertical-align: middle;\n",
              "    }\n",
              "\n",
              "    .dataframe tbody tr th {\n",
              "        vertical-align: top;\n",
              "    }\n",
              "\n",
              "    .dataframe thead th {\n",
              "        text-align: right;\n",
              "    }\n",
              "</style>\n",
              "<table border=\"1\" class=\"dataframe\">\n",
              "  <thead>\n",
              "    <tr style=\"text-align: right;\">\n",
              "      <th></th>\n",
              "      <th>Accuracy</th>\n",
              "      <th>Sensitivity</th>\n",
              "      <th>Specificity</th>\n",
              "      <th>F1 Score</th>\n",
              "    </tr>\n",
              "  </thead>\n",
              "  <tbody>\n",
              "    <tr>\n",
              "      <th>Data Test</th>\n",
              "      <td>0.56925</td>\n",
              "      <td>0.47375</td>\n",
              "      <td>0.973083</td>\n",
              "      <td>0.549923</td>\n",
              "    </tr>\n",
              "  </tbody>\n",
              "</table>\n",
              "</div>"
            ],
            "text/plain": [
              "           Accuracy  Sensitivity  Specificity  F1 Score\n",
              "Data Test   0.56925      0.47375     0.973083  0.549923"
            ]
          },
          "metadata": {
            "tags": []
          },
          "execution_count": 43
        }
      ]
    },
    {
      "cell_type": "code",
      "metadata": {
        "id": "ieBJk0MzAdcb",
        "outputId": "0c5bd937-5d01-4f66-897c-1a573da92280",
        "colab": {
          "base_uri": "https://localhost:8080/",
          "height": 281
        }
      },
      "source": [
        "## Plot Training History\n",
        "plt.plot(history.history['loss'], label='train')\n",
        "plt.plot(history.history['val_loss'], label='test')\n",
        "plt.title('History Plot Error untuk Optimum Parameter Model')\n",
        "plt.legend()\n",
        "plt.grid()\n",
        "plt.show()"
      ],
      "execution_count": 83,
      "outputs": [
        {
          "output_type": "display_data",
          "data": {
            "image/png": "[encoded data removed]",
            "text/plain": [
              "<Figure size 432x288 with 1 Axes>"
            ]
          },
          "metadata": {
            "tags": [],
            "needs_background": "light"
          }
        }
      ]
    },
    {
      "cell_type": "markdown",
      "metadata": {
        "id": "yX94vmVUx2qi"
      },
      "source": [
        "#### 6.\n",
        "Gunakan _pre-trained_ model yg telah dibuat tersebut untuk diimplementasikan pada dataset $\\text{CIFAR 100}$ untuk kelas $1$ hingga kelas $10$ (masing-masing kelas terdiri dari\n",
        "$100$ citra) dengan rasio _data train_ dan _data test_ sebanyak $60\\% : 40\\%$. Kemudian hitung matrik evaluasi ($\\text{accuration}$, $\\text{sensitivity}$, $\\text{specifity}$, dan $f_{1}\\text{ score}$) dari _data train_ dan _data test_."
      ]
    },
    {
      "cell_type": "markdown",
      "metadata": {
        "id": "GQgmi0nUzkJM"
      },
      "source": [
        "##### Load Data CIFAR 100"
      ]
    },
    {
      "cell_type": "code",
      "metadata": {
        "id": "SE-tc_jToB0v",
        "outputId": "691c6ea3-3d64-4de4-8b3c-bd5f6c34599f",
        "colab": {
          "base_uri": "https://localhost:8080/"
        }
      },
      "source": [
        "x_100, y_100 = load_dataset_cifar100()\n",
        "x_100.shape"
      ],
      "execution_count": 45,
      "outputs": [
        {
          "output_type": "stream",
          "text": [
            "Downloading data from https://www.cs.toronto.edu/~kriz/cifar-100-python.tar.gz\n",
            "169009152/169001437 [==============================] - 11s 0us/step\n"
          ],
          "name": "stdout"
        },
        {
          "output_type": "execute_result",
          "data": {
            "text/plain": [
              "(60000, 32, 32, 3)"
            ]
          },
          "metadata": {
            "tags": []
          },
          "execution_count": 45
        }
      ]
    },
    {
      "cell_type": "markdown",
      "metadata": {
        "id": "if9E1bWMz0A5"
      },
      "source": [
        "##### Mengambil Dataset Sebanyak 100 Per Kelasnya"
      ]
    },
    {
      "cell_type": "code",
      "metadata": {
        "id": "3s7Ne_JXzpra"
      },
      "source": [
        "idx_sample_100 = np.array([],dtype=int)\n",
        "\n",
        "for i in range(10):\n",
        "    idx = (y == i).reshape(x.shape[0])\n",
        "    idx_data = np.where(idx == True)\n",
        "    sampled_list = np.random.choice(idx_data[0], size=100, replace=False)\n",
        "    idx_sample_100 = np.concatenate((idx_sample_100, sampled_list), axis=0)"
      ],
      "execution_count": 68,
      "outputs": []
    },
    {
      "cell_type": "markdown",
      "metadata": {
        "id": "Q8oHYb840RIb"
      },
      "source": [
        "##### Melakukan Validasi Apakah Shape-nya Sudah Valid atau Belum"
      ]
    },
    {
      "cell_type": "code",
      "metadata": {
        "id": "5RLLMzSMz9ng",
        "outputId": "67a64bde-c198-48ae-9c68-85de385452f1",
        "colab": {
          "base_uri": "https://localhost:8080/"
        }
      },
      "source": [
        "x_sample_100 = x[idx_sample_100]\n",
        "y_sample_100 = y[idx_sample_100]\n",
        "x_sample_100.shape, y_sample_100.shape"
      ],
      "execution_count": 69,
      "outputs": [
        {
          "output_type": "execute_result",
          "data": {
            "text/plain": [
              "((1000, 32, 32, 3), (1000, 1))"
            ]
          },
          "metadata": {
            "tags": []
          },
          "execution_count": 69
        }
      ]
    },
    {
      "cell_type": "markdown",
      "metadata": {
        "id": "ObThLqAm0fT6"
      },
      "source": [
        "##### Melakukan Normalisasi untuk $x$"
      ]
    },
    {
      "cell_type": "code",
      "metadata": {
        "id": "r3PzFC-U0XJX"
      },
      "source": [
        "x_sample_100 = normalize(x_sample_100)"
      ],
      "execution_count": 70,
      "outputs": []
    },
    {
      "cell_type": "markdown",
      "metadata": {
        "id": "wSUze6Hn0jIj"
      },
      "source": [
        "##### Merubah Menjadi Matrix Binary untuk $y$"
      ]
    },
    {
      "cell_type": "code",
      "metadata": {
        "id": "0lUkOWj_0oA-"
      },
      "source": [
        "y_sample_100 = tf.keras.utils.to_categorical(y_sample_100)"
      ],
      "execution_count": 71,
      "outputs": []
    },
    {
      "cell_type": "markdown",
      "metadata": {
        "id": "svmZMqY60t0T"
      },
      "source": [
        "##### Memecah Menjadi 60 : 40 ~ Train : Test"
      ]
    },
    {
      "cell_type": "code",
      "metadata": {
        "id": "mSsfU27X0tAT"
      },
      "source": [
        "x_train_100, x_test_100, y_train_100, y_test_100 = train_test_split(x_sample_100, y_sample_100, test_size=0.4)"
      ],
      "execution_count": 72,
      "outputs": []
    },
    {
      "cell_type": "markdown",
      "metadata": {
        "id": "NjI-gw5g2G7F"
      },
      "source": [
        "##### Melakukan Evaluasi Pre-Trained Model dari Train Sebelumnya"
      ]
    },
    {
      "cell_type": "code",
      "metadata": {
        "id": "JZ28E1dZ027O",
        "outputId": "f1a5d16a-d79a-4c1d-d5e0-08ac2ded5834",
        "colab": {
          "base_uri": "https://localhost:8080/",
          "height": 111
        }
      },
      "source": [
        "pre_trained_model = load_model('checkpoint_model.h5', compile=True, custom_objects={\n",
        "    \"recall\": recall,\n",
        "    \"specificity\": specificity,\n",
        "    \"f1_score\": f1_score\n",
        "})\n",
        "compare_train_and_test(pre_trained_model, x_train_100, y_train_100, x_test_100, y_test_100)"
      ],
      "execution_count": 73,
      "outputs": [
        {
          "output_type": "execute_result",
          "data": {
            "text/html": [
              "<div>\n",
              "<style scoped>\n",
              "    .dataframe tbody tr th:only-of-type {\n",
              "        vertical-align: middle;\n",
              "    }\n",
              "\n",
              "    .dataframe tbody tr th {\n",
              "        vertical-align: top;\n",
              "    }\n",
              "\n",
              "    .dataframe thead th {\n",
              "        text-align: right;\n",
              "    }\n",
              "</style>\n",
              "<table border=\"1\" class=\"dataframe\">\n",
              "  <thead>\n",
              "    <tr style=\"text-align: right;\">\n",
              "      <th></th>\n",
              "      <th>Accuracy</th>\n",
              "      <th>Sensitivity</th>\n",
              "      <th>Specificity</th>\n",
              "      <th>F1 Score</th>\n",
              "    </tr>\n",
              "  </thead>\n",
              "  <tbody>\n",
              "    <tr>\n",
              "      <th>Data Train</th>\n",
              "      <td>0.548333</td>\n",
              "      <td>0.479167</td>\n",
              "      <td>0.973928</td>\n",
              "      <td>0.558774</td>\n",
              "    </tr>\n",
              "    <tr>\n",
              "      <th>Data Test</th>\n",
              "      <td>0.565000</td>\n",
              "      <td>0.468750</td>\n",
              "      <td>0.972222</td>\n",
              "      <td>0.543944</td>\n",
              "    </tr>\n",
              "  </tbody>\n",
              "</table>\n",
              "</div>"
            ],
            "text/plain": [
              "             Accuracy  Sensitivity  Specificity  F1 Score\n",
              "Data Train   0.548333     0.479167     0.973928  0.558774\n",
              "Data Test    0.565000     0.468750     0.972222  0.543944"
            ]
          },
          "metadata": {
            "tags": []
          },
          "execution_count": 73
        }
      ]
    },
    {
      "cell_type": "markdown",
      "metadata": {
        "id": "boydKZeV_VaB"
      },
      "source": [
        "#### 7.\n",
        "Buat arsitektur $\\text{Convolutional Neural Network}$ yang baru dengan menggunakan semua _hidden layer pre-trained_ dari model sebelumnya, lakukan _freezing_ pada semua _hidden layer_ tersebut, lalu ganti _layer output_ $\\text{softmax}$ dengan layer baru."
      ]
    },
    {
      "cell_type": "code",
      "metadata": {
        "id": "kZnk38km2WoL"
      },
      "source": [
        "## Fungsi untuk melakukan freeze pada layer\n",
        "def make_freeze(layer):\n",
        "    layer.trainable = False\n",
        "    return layer\n",
        "\n",
        "## Melakukan copy untuk semua layer\n",
        "copy_layers = [make_freeze(layer) for layer in pre_trained_model.layers]\n",
        "\n",
        "## Me-replace ouput layer dengan layer baru dan trainable\n",
        "copy_layers[-1] = Dense(10, activation=tf.nn.softmax)\n",
        "\n",
        "## Membangun Model\n",
        "new_cnn_model = create_model(0.0025, copy_layers)"
      ],
      "execution_count": 74,
      "outputs": []
    },
    {
      "cell_type": "markdown",
      "metadata": {
        "id": "eLMCF_C8Zly4"
      },
      "source": [
        "#### 8.\n",
        "Implementasikan model poin $(7)$ pada dataset $\\text{CIFAR 100}$ untuk kelas $1$ hingga kelas $10$ dengan rasio _data train_ dan _data test_ sebanyak $60\\% : 40\\%$. Kemudian hitung matrik evaluasi ($\\text{accuration}$, $\\text{sensitivity}$, $\\text{specificity}$, dan $f_{1}\\text{ score}$) dari _data train_ dan _data test_."
      ]
    },
    {
      "cell_type": "markdown",
      "metadata": {
        "id": "umCu24Z9bhrA"
      },
      "source": [
        "##### Melakukan Train pada Model CNN Baru"
      ]
    },
    {
      "cell_type": "code",
      "metadata": {
        "id": "BvBAH0_cpirq"
      },
      "source": [
        "## Mendefinisikan Early Stopping untuk Semua Model CNN Checkpoint dan Seterusnya\n",
        "new_es = EarlyStopping(monitor='val_loss', mode='min', verbose=1)"
      ],
      "execution_count": 75,
      "outputs": []
    },
    {
      "cell_type": "code",
      "metadata": {
        "id": "f2T7c_G3WoQN",
        "outputId": "596e0726-fdac-4130-d111-2efbe33d8465",
        "colab": {
          "base_uri": "https://localhost:8080/"
        }
      },
      "source": [
        "checkpoint = ModelCheckpoint(\"checkpoint_new_cnn_model.h5\", monitor='loss', verbose=0, mode='auto', save_freq=1)\n",
        "\n",
        "## Menurunkan jumlah batch seiring dengan berkurangnya jumlah data train\n",
        "new_cnn_model_history = new_cnn_model.fit(x_train_100, y_train_100, epochs=100, batch_size=25, validation_data=(x_test_100, y_test_100), use_multiprocessing=True, callbacks=[new_es, checkpoint], verbose=1)"
      ],
      "execution_count": 76,
      "outputs": [
        {
          "output_type": "stream",
          "text": [
            "Epoch 1/100\n",
            "24/24 [==============================] - 1s 48ms/step - loss: 3.0415 - accuracy: 0.1300 - recall: 0.0417 - specificity: 0.9819 - f1_score: 0.0667 - val_loss: 2.5262 - val_accuracy: 0.1350 - val_recall: 0.0325 - val_specificity: 0.9950 - val_f1_score: 0.0578\n",
            "Epoch 2/100\n",
            "24/24 [==============================] - 1s 39ms/step - loss: 2.2138 - accuracy: 0.2467 - recall: 0.0417 - specificity: 0.9952 - f1_score: 0.0747 - val_loss: 1.9931 - val_accuracy: 0.2850 - val_recall: 0.0750 - val_specificity: 0.9967 - val_f1_score: 0.1331\n",
            "Epoch 3/100\n",
            "24/24 [==============================] - 1s 42ms/step - loss: 1.8139 - accuracy: 0.3450 - recall: 0.1117 - specificity: 0.9933 - f1_score: 0.1878 - val_loss: 1.7409 - val_accuracy: 0.3725 - val_recall: 0.1150 - val_specificity: 0.9939 - val_f1_score: 0.1949\n",
            "Epoch 4/100\n",
            "24/24 [==============================] - 1s 41ms/step - loss: 1.6048 - accuracy: 0.4367 - recall: 0.1700 - specificity: 0.9931 - f1_score: 0.2682 - val_loss: 1.5856 - val_accuracy: 0.4325 - val_recall: 0.1875 - val_specificity: 0.9931 - val_f1_score: 0.2982\n",
            "Epoch 5/100\n",
            "24/24 [==============================] - 1s 39ms/step - loss: 1.4721 - accuracy: 0.4883 - recall: 0.2283 - specificity: 0.9935 - f1_score: 0.3500 - val_loss: 1.4981 - val_accuracy: 0.4800 - val_recall: 0.2175 - val_specificity: 0.9933 - val_f1_score: 0.3383\n",
            "Epoch 6/100\n",
            "24/24 [==============================] - 1s 53ms/step - loss: 1.3887 - accuracy: 0.5183 - recall: 0.2667 - specificity: 0.9928 - f1_score: 0.3940 - val_loss: 1.4402 - val_accuracy: 0.4950 - val_recall: 0.2475 - val_specificity: 0.9919 - val_f1_score: 0.3723\n",
            "Epoch 7/100\n",
            "24/24 [==============================] - 1s 39ms/step - loss: 1.3293 - accuracy: 0.5400 - recall: 0.2917 - specificity: 0.9911 - f1_score: 0.4178 - val_loss: 1.3944 - val_accuracy: 0.5150 - val_recall: 0.2650 - val_specificity: 0.9908 - val_f1_score: 0.3894\n",
            "Epoch 8/100\n",
            "24/24 [==============================] - 1s 39ms/step - loss: 1.2838 - accuracy: 0.5800 - recall: 0.3117 - specificity: 0.9906 - f1_score: 0.4392 - val_loss: 1.3586 - val_accuracy: 0.5400 - val_recall: 0.2950 - val_specificity: 0.9892 - val_f1_score: 0.4203\n",
            "Epoch 9/100\n",
            "24/24 [==============================] - 1s 39ms/step - loss: 1.2500 - accuracy: 0.5683 - recall: 0.3233 - specificity: 0.9906 - f1_score: 0.4555 - val_loss: 1.3395 - val_accuracy: 0.5375 - val_recall: 0.3025 - val_specificity: 0.9883 - val_f1_score: 0.4267\n",
            "Epoch 10/100\n",
            "24/24 [==============================] - 1s 39ms/step - loss: 1.2214 - accuracy: 0.5933 - recall: 0.3500 - specificity: 0.9894 - f1_score: 0.4801 - val_loss: 1.3191 - val_accuracy: 0.5500 - val_recall: 0.3175 - val_specificity: 0.9861 - val_f1_score: 0.4365\n",
            "Epoch 11/100\n",
            "24/24 [==============================] - 1s 54ms/step - loss: 1.1994 - accuracy: 0.5967 - recall: 0.3517 - specificity: 0.9887 - f1_score: 0.4810 - val_loss: 1.3023 - val_accuracy: 0.5400 - val_recall: 0.3350 - val_specificity: 0.9864 - val_f1_score: 0.4566\n",
            "Epoch 12/100\n",
            "24/24 [==============================] - 1s 40ms/step - loss: 1.1805 - accuracy: 0.6000 - recall: 0.3717 - specificity: 0.9883 - f1_score: 0.5016 - val_loss: 1.2934 - val_accuracy: 0.5625 - val_recall: 0.3425 - val_specificity: 0.9839 - val_f1_score: 0.4573\n",
            "Epoch 13/100\n",
            "24/24 [==============================] - 1s 40ms/step - loss: 1.1662 - accuracy: 0.6133 - recall: 0.3950 - specificity: 0.9891 - f1_score: 0.5231 - val_loss: 1.2892 - val_accuracy: 0.5500 - val_recall: 0.3475 - val_specificity: 0.9847 - val_f1_score: 0.4639\n",
            "Epoch 14/100\n",
            "24/24 [==============================] - 1s 39ms/step - loss: 1.1524 - accuracy: 0.6067 - recall: 0.3950 - specificity: 0.9881 - f1_score: 0.5228 - val_loss: 1.2785 - val_accuracy: 0.5625 - val_recall: 0.3550 - val_specificity: 0.9850 - val_f1_score: 0.4737\n",
            "Epoch 15/100\n",
            "24/24 [==============================] - 1s 53ms/step - loss: 1.1441 - accuracy: 0.6150 - recall: 0.3933 - specificity: 0.9889 - f1_score: 0.5247 - val_loss: 1.2777 - val_accuracy: 0.5525 - val_recall: 0.3600 - val_specificity: 0.9844 - val_f1_score: 0.4767\n",
            "Epoch 16/100\n",
            "24/24 [==============================] - 1s 40ms/step - loss: 1.1334 - accuracy: 0.6117 - recall: 0.4000 - specificity: 0.9872 - f1_score: 0.5253 - val_loss: 1.2673 - val_accuracy: 0.5575 - val_recall: 0.3700 - val_specificity: 0.9850 - val_f1_score: 0.4891\n",
            "Epoch 17/100\n",
            "24/24 [==============================] - 1s 39ms/step - loss: 1.1242 - accuracy: 0.6283 - recall: 0.4133 - specificity: 0.9889 - f1_score: 0.5393 - val_loss: 1.2679 - val_accuracy: 0.5600 - val_recall: 0.3775 - val_specificity: 0.9828 - val_f1_score: 0.4901\n",
            "Epoch 00017: early stopping\n"
          ],
          "name": "stdout"
        }
      ]
    },
    {
      "cell_type": "markdown",
      "metadata": {
        "id": "JG_xUITrbnWD"
      },
      "source": [
        "##### Menghitung Matrik Evaluasi Model CNN Baru"
      ]
    },
    {
      "cell_type": "code",
      "metadata": {
        "id": "HXuLuLshbO4b",
        "outputId": "9f680669-aeac-4b04-d7d3-8c8db6db7987",
        "colab": {
          "base_uri": "https://localhost:8080/",
          "height": 111
        }
      },
      "source": [
        "compare_train_and_test(new_cnn_model, x_train_100, y_train_100, x_test_100, y_test_100)"
      ],
      "execution_count": 77,
      "outputs": [
        {
          "output_type": "execute_result",
          "data": {
            "text/html": [
              "<div>\n",
              "<style scoped>\n",
              "    .dataframe tbody tr th:only-of-type {\n",
              "        vertical-align: middle;\n",
              "    }\n",
              "\n",
              "    .dataframe tbody tr th {\n",
              "        vertical-align: top;\n",
              "    }\n",
              "\n",
              "    .dataframe thead th {\n",
              "        text-align: right;\n",
              "    }\n",
              "</style>\n",
              "<table border=\"1\" class=\"dataframe\">\n",
              "  <thead>\n",
              "    <tr style=\"text-align: right;\">\n",
              "      <th></th>\n",
              "      <th>Accuracy</th>\n",
              "      <th>Sensitivity</th>\n",
              "      <th>Specificity</th>\n",
              "      <th>F1 Score</th>\n",
              "    </tr>\n",
              "  </thead>\n",
              "  <tbody>\n",
              "    <tr>\n",
              "      <th>Data Train</th>\n",
              "      <td>0.626667</td>\n",
              "      <td>0.422697</td>\n",
              "      <td>0.987756</td>\n",
              "      <td>0.549617</td>\n",
              "    </tr>\n",
              "    <tr>\n",
              "      <th>Data Test</th>\n",
              "      <td>0.560000</td>\n",
              "      <td>0.375000</td>\n",
              "      <td>0.982372</td>\n",
              "      <td>0.487980</td>\n",
              "    </tr>\n",
              "  </tbody>\n",
              "</table>\n",
              "</div>"
            ],
            "text/plain": [
              "             Accuracy  Sensitivity  Specificity  F1 Score\n",
              "Data Train   0.626667     0.422697     0.987756  0.549617\n",
              "Data Test    0.560000     0.375000     0.982372  0.487980"
            ]
          },
          "metadata": {
            "tags": []
          },
          "execution_count": 77
        }
      ]
    },
    {
      "cell_type": "markdown",
      "metadata": {
        "id": "SnBZO7pdkAqx"
      },
      "source": [
        "##### Melakukan _Plotting Error_"
      ]
    },
    {
      "cell_type": "code",
      "metadata": {
        "id": "tTXjP5NBkEIr",
        "outputId": "59c50cde-39ee-471b-f06a-ded0b56b6484",
        "colab": {
          "base_uri": "https://localhost:8080/",
          "height": 281
        }
      },
      "source": [
        "## Plot Training History\n",
        "plt.plot(new_cnn_model_history.history['loss'], label='train')\n",
        "plt.plot(new_cnn_model_history.history['val_loss'], label='test')\n",
        "plt.title('History Plot Error untuk Optimum Parameter Model CNN Baru')\n",
        "plt.grid()\n",
        "plt.legend()\n",
        "plt.show()"
      ],
      "execution_count": 78,
      "outputs": [
        {
          "output_type": "display_data",
          "data": {
            "image/png": "[encoded data removed]",
            "text/plain": [
              "<Figure size 432x288 with 1 Axes>"
            ]
          },
          "metadata": {
            "tags": [],
            "needs_background": "light"
          }
        }
      ]
    },
    {
      "cell_type": "markdown",
      "metadata": {
        "id": "4_y3I48gcB_A"
      },
      "source": [
        "#### 9.\n",
        "Lalu lakukan _unfreeze_ pada satu _hidden layer_ ($\\text{conv-pool-actv}$) paling atas dan lakukan kembali proses training menggunakan deskripsi data yang sama dengan poin $(8)$. Bagaimana hasil yang diperoleh dari perubahan ini?"
      ]
    },
    {
      "cell_type": "markdown",
      "metadata": {
        "id": "vd2rljaicNzF"
      },
      "source": [
        "##### Melakukan _unfreeze_ pada satu _hidden layer_ paling atas"
      ]
    },
    {
      "cell_type": "code",
      "metadata": {
        "id": "-5bB-T98b8zc"
      },
      "source": [
        "## Disclaimer: Asumsi model-nya sama dengan (8)\n",
        "## Melakukan unfreeze pada hidden layer paling atas\n",
        "new_cnn_model.layers[0].trainable = True"
      ],
      "execution_count": 79,
      "outputs": []
    },
    {
      "cell_type": "markdown",
      "metadata": {
        "id": "YDNGIwEzj4I0"
      },
      "source": [
        "##### Melanjutkan Proses Train"
      ]
    },
    {
      "cell_type": "code",
      "metadata": {
        "id": "DCC5hiRsj25_",
        "outputId": "a9d5825b-02d6-4bd7-a7fe-49bf9abb7cb7",
        "colab": {
          "base_uri": "https://localhost:8080/"
        }
      },
      "source": [
        "checkpoint = ModelCheckpoint(\"checkpoint_new_cnn_model_phase_2.h5\", monitor='loss', verbose=0, mode='auto', save_freq=1)\n",
        "new_cnn_model_history_phase_2 = new_cnn_model.fit(x_train_100, y_train_100, epochs=100, batch_size=25, validation_data=(x_test_100, y_test_100), use_multiprocessing=True, callbacks=[new_es, checkpoint])"
      ],
      "execution_count": 80,
      "outputs": [
        {
          "output_type": "stream",
          "text": [
            "Epoch 1/100\n",
            "24/24 [==============================] - 1s 41ms/step - loss: 1.1116 - accuracy: 0.6267 - recall: 0.4217 - specificity: 0.9878 - f1_score: 0.5473 - val_loss: 1.2696 - val_accuracy: 0.5650 - val_recall: 0.3675 - val_specificity: 0.9836 - val_f1_score: 0.4826\n",
            "Epoch 2/100\n",
            "24/24 [==============================] - 1s 49ms/step - loss: 1.1115 - accuracy: 0.6150 - recall: 0.4183 - specificity: 0.9876 - f1_score: 0.5429 - val_loss: 1.2620 - val_accuracy: 0.5625 - val_recall: 0.3800 - val_specificity: 0.9833 - val_f1_score: 0.4949\n",
            "Epoch 3/100\n",
            "24/24 [==============================] - 1s 39ms/step - loss: 1.1094 - accuracy: 0.6150 - recall: 0.4300 - specificity: 0.9878 - f1_score: 0.5550 - val_loss: 1.2718 - val_accuracy: 0.5625 - val_recall: 0.3925 - val_specificity: 0.9817 - val_f1_score: 0.5011\n",
            "Epoch 00003: early stopping\n"
          ],
          "name": "stdout"
        }
      ]
    },
    {
      "cell_type": "markdown",
      "metadata": {
        "id": "44t3vuKDk9jC"
      },
      "source": [
        "##### Menghitung Matrik Evaluasi Model CNN Baru Phase 2"
      ]
    },
    {
      "cell_type": "code",
      "metadata": {
        "id": "63Q7nq_4ky5j",
        "outputId": "3cc8fb90-a48b-4cf9-b88a-e1d123587685",
        "colab": {
          "base_uri": "https://localhost:8080/",
          "height": 111
        }
      },
      "source": [
        "compare_train_and_test(new_cnn_model, x_train_100, y_train_100, x_test_100, y_test_100)"
      ],
      "execution_count": 81,
      "outputs": [
        {
          "output_type": "execute_result",
          "data": {
            "text/html": [
              "<div>\n",
              "<style scoped>\n",
              "    .dataframe tbody tr th:only-of-type {\n",
              "        vertical-align: middle;\n",
              "    }\n",
              "\n",
              "    .dataframe tbody tr th {\n",
              "        vertical-align: top;\n",
              "    }\n",
              "\n",
              "    .dataframe thead th {\n",
              "        text-align: right;\n",
              "    }\n",
              "</style>\n",
              "<table border=\"1\" class=\"dataframe\">\n",
              "  <thead>\n",
              "    <tr style=\"text-align: right;\">\n",
              "      <th></th>\n",
              "      <th>Accuracy</th>\n",
              "      <th>Sensitivity</th>\n",
              "      <th>Specificity</th>\n",
              "      <th>F1 Score</th>\n",
              "    </tr>\n",
              "  </thead>\n",
              "  <tbody>\n",
              "    <tr>\n",
              "      <th>Data Train</th>\n",
              "      <td>0.631667</td>\n",
              "      <td>0.429825</td>\n",
              "      <td>0.987208</td>\n",
              "      <td>0.554567</td>\n",
              "    </tr>\n",
              "    <tr>\n",
              "      <th>Data Test</th>\n",
              "      <td>0.562500</td>\n",
              "      <td>0.391827</td>\n",
              "      <td>0.981036</td>\n",
              "      <td>0.499710</td>\n",
              "    </tr>\n",
              "  </tbody>\n",
              "</table>\n",
              "</div>"
            ],
            "text/plain": [
              "             Accuracy  Sensitivity  Specificity  F1 Score\n",
              "Data Train   0.631667     0.429825     0.987208  0.554567\n",
              "Data Test    0.562500     0.391827     0.981036  0.499710"
            ]
          },
          "metadata": {
            "tags": []
          },
          "execution_count": 81
        }
      ]
    },
    {
      "cell_type": "markdown",
      "metadata": {
        "id": "P5vHtxDRlG8t"
      },
      "source": [
        "##### Melakukan _Plotting Error Phase 2_"
      ]
    },
    {
      "cell_type": "code",
      "metadata": {
        "id": "s9RFyMHulBYO",
        "outputId": "49602065-567b-4f34-da6d-faa06001ba7a",
        "colab": {
          "base_uri": "https://localhost:8080/",
          "height": 281
        }
      },
      "source": [
        "## Plot Training History\n",
        "plt.plot(new_cnn_model_history_phase_2.history['loss'], label='train')\n",
        "plt.plot(new_cnn_model_history_phase_2.history['val_loss'], label='test')\n",
        "plt.title('History Plot Error untuk Optimum Parameter Model CNN Baru Fase 2')\n",
        "plt.legend()\n",
        "plt.grid()\n",
        "plt.show()"
      ],
      "execution_count": 84,
      "outputs": [
        {
          "output_type": "display_data",
          "data": {
            "image/png": "[encoded data removed]",
            "text/plain": [
              "<Figure size 432x288 with 1 Axes>"
            ]
          },
          "metadata": {
            "tags": [],
            "needs_background": "light"
          }
        }
      ]
    },
    {
      "cell_type": "markdown",
      "metadata": {
        "id": "poQVrXcluAU4"
      },
      "source": [
        "##### Laporan Hasil"
      ]
    },
    {
      "cell_type": "markdown",
      "metadata": {
        "id": "XGL03QGktidP"
      },
      "source": [
        "Berdasarkan hasil train yang terakhir, melakukan _unfreeze_ pada layer paling depat tidak memberikan perubahan hasil metrik yang _significant_ dan cenderung sama dengan hasil saat semua layer kecuali _output layer_ di-_freeze_. Hal ini menunjukkan bahwa pembobotan _node_ sudah konvergen bahkan pada saat pertama kali _model_ ini di-_load_ dari _pre-trained_ model yang sudah dijalankan sebelumnya. Bahkan ketika _output layer_-nya di-inisialisasi ulang, hasil pembobotan setelah training menggunakan data $\\text{CIFAR 100}$ menghasilkan akurasi yang cenderung sama dengan hasil pembobotan dengan training menggunakan data $\\text{CIFAR 10}$."
      ]
    },
    {
      "cell_type": "markdown",
      "metadata": {
        "id": "C2Cq5Nn9u1Jk"
      },
      "source": [
        "#### 10.\n",
        "Tuliskan analisis anda terkait implementasi menggunakan **Transfer Learning**."
      ]
    },
    {
      "cell_type": "markdown",
      "metadata": {
        "id": "2D4FNnpUu7mV"
      },
      "source": [
        "- Karena dataset $\\text{CIFAR 10}$ dan $\\text{CIFAR 100}$ untuk kelas $1 - 10$ cenderung sama, memungkinkan bahwa melatih menggunakan kedua data tersebut dan melakukan uji menggunakan kedua data tersebut akan menghasilkan akurasi yang mirip untuk setiap jenis dataset.\n",
        "- Karena dataset $\\text{CIFAR 10}$ dan $\\text{CIFAR 100}$ untuk kelas $1 - 10$ cenderung sama pula, pada saat melakukan _transfer learning_ dari satu dataset ke dataset lainnya, pembobotan akan konvergen di akurasi yang cenderung sama pula. Bahkan apabila kita melakukan inisialisasi ulang pembobotan simpul pada _output layer_, pembobotan simpul pada _output layer_ akan menghasilkan model yang memiliki akurasi sebelum dilakukan pembobotan ulang simpul pada _output layer_.\n",
        "- Model yang sudah konvergen, apabila _hidden layer_ di-_freeze_ ataupun tidak di-_freeze_ tidak memberikan dampak signifikan dalam memberikan hasil evaluasi. Bahkan model yang sudah konvergen kemudian dilatih kembali menggunakan dataset yang mirip akan konvergen dalam beberapa _epoch_ saja pada saat melakukan _transfer learning_."
      ]
    }
  ]
}