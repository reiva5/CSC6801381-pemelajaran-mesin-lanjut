{
  "nbformat": 4,
  "nbformat_minor": 0,
  "metadata": {
    "kernelspec": {
      "display_name": "Python 3",
      "language": "python",
      "name": "python3"
    },
    "language_info": {
      "codemirror_mode": {
        "name": "ipython",
        "version": 3
      },
      "file_extension": ".py",
      "mimetype": "text/x-python",
      "name": "python",
      "nbconvert_exporter": "python",
      "pygments_lexer": "ipython3",
      "version": "3.6.9"
    },
    "colab": {
      "name": "Tugas3_Jehian Norman Saviero_2006609645.ipynb",
      "provenance": []
    }
  },
  "cells": [
    {
      "cell_type": "code",
      "metadata": {
        "id": "Yd7Tu89UXts8"
      },
      "source": [
        "import numpy as np\n",
        "import matplotlib.pyplot as plt\n",
        "import pandas as pd\n",
        "import random\n",
        "import tensorflow as tf\n",
        "\n",
        "from sklearn.model_selection import train_test_split\n",
        "from skimage import color, exposure, filters, io, morphology, util\n",
        "from math import sqrt\n",
        "from numpy import loadtxt\n",
        "from tensorflow import keras\n",
        "from keras import backend as K\n",
        "from keras.callbacks import EarlyStopping, ModelCheckpoint\n",
        "from keras.models import Sequential, load_model\n",
        "from keras.layers import Conv2D, Dense, Dropout, Flatten, MaxPooling2D, Reshape\n",
        "from keras.optimizers import SGD"
      ],
      "execution_count": 66,
      "outputs": []
    },
    {
      "cell_type": "markdown",
      "metadata": {
        "id": "kVPkBzPOY3nD"
      },
      "source": [
        "### TRANSFER LEARNING"
      ]
    },
    {
      "cell_type": "markdown",
      "metadata": {
        "id": "-8f0GynyY9PB"
      },
      "source": [
        "#### 1.\n",
        "Bangun sebuah model $\\text{Convolutional Neural Network}$ dengan arsitektur dasar sebagai berikut :\n",
        "- Convolutional Layer ($25$ maps, kernel $3 \\times 3$)\n",
        "- Pooling Layer ($2 \\times 2$)\n",
        "- Activation Function ($\\text{ReLU function}$)\n",
        "- Convolutional Layer ($50$ maps, kernel $3 \\times 3$)\n",
        "- Pooling Layer ($2 \\times 2$)\n",
        "- Activation Function ($\\text{ReLU function}$)\n",
        "- Convolutional Layer ($100$ maps, kernel $3 \\times 3$)\n",
        "- Pooling Layer ($2 \\times 2$)\n",
        "- Activation Function ($\\text{ReLU function}$)\n",
        "- Hidden Layer ($100$ neuron)\n",
        "- Activation Function ($\\text{ReLU function}$)\n",
        "- Output Layer ($10$ kelas)\n",
        "- Activation Function ($\\text{Softmax function}$)\n",
        "- Classification Result\n",
        "\n",
        "Dengan tambahan beberapa seperti:\n",
        "- Adam optimization\n",
        "- Early Stop"
      ]
    },
    {
      "cell_type": "markdown",
      "metadata": {
        "id": "cRBOHdoNZwid"
      },
      "source": [
        "##### Mendefinisikan Fungsi Bantuan\n",
        "Untuk memudahkan implementasi, berikut beberapa fungsi bantuan yang akan dipakai"
      ]
    },
    {
      "cell_type": "markdown",
      "metadata": {
        "id": "Pu-1-wDXZ510"
      },
      "source": [
        "###### Menghitung $\\text{recall}$ atau $\\text{sensitivity}$\n",
        "$$\\text{recall} = \\frac{t_p}{t_p+t_n}$$"
      ]
    },
    {
      "cell_type": "code",
      "metadata": {
        "id": "73L3Si5GY8Bt"
      },
      "source": [
        "def recall(y_true, y_pred):\n",
        "    true_positives = K.sum(K.round(K.clip(y_true * y_pred, 0, 1)))\n",
        "    possible_positives = K.sum(K.round(K.clip(y_true, 0, 1)))\n",
        "    return true_positives / (possible_positives + K.epsilon())"
      ],
      "execution_count": 2,
      "outputs": []
    },
    {
      "cell_type": "markdown",
      "metadata": {
        "id": "vX56S8usaHok"
      },
      "source": [
        "###### Menghitung $\\text{precision}$\n",
        "$$\\text{precision} = \\frac{t_p}{t_p + f_p}$$"
      ]
    },
    {
      "cell_type": "code",
      "metadata": {
        "id": "b5R5nRHBaFxN"
      },
      "source": [
        "def precision(y_true, y_pred):\n",
        "    true_positives = K.sum(K.round(K.clip(y_true * y_pred, 0, 1)))\n",
        "    predicted_positives = K.sum(K.round(K.clip(y_pred, 0, 1)))\n",
        "    return true_positives / (predicted_positives + K.epsilon())"
      ],
      "execution_count": 3,
      "outputs": []
    },
    {
      "cell_type": "markdown",
      "metadata": {
        "id": "lSQF6ujjaR3u"
      },
      "source": [
        "###### Menghitung $\\text{specificity}$\n",
        "$$\\text{specificity} = \\frac{t_n}{t_n + f_p}$$"
      ]
    },
    {
      "cell_type": "code",
      "metadata": {
        "id": "HFNI1C0faMmF"
      },
      "source": [
        "def specificity(y_true, y_pred):\n",
        "    true_negatives = K.sum(K.round(K.clip((1 - y_true) * (1 - y_pred), 0, 1)))\n",
        "    possible_negatives = K.sum(K.round(K.clip(1 - y_true, 0, 1)))\n",
        "    return true_negatives / (possible_negatives + K.epsilon())"
      ],
      "execution_count": 4,
      "outputs": []
    },
    {
      "cell_type": "markdown",
      "metadata": {
        "id": "mTOySqnYaXMi"
      },
      "source": [
        "###### Menghitung $f_{1}\\text{ Score}$\n",
        "Kita tau bahwa\n",
        "$$f_{\\beta} = (1 + \\beta^{2}) \\cdot \\frac{\\text{precision} \\cdot \\text{recall}}{(\\beta^{2} \\cdot \\text{precision}) + \\text{recall}}$$\n",
        "Sehingga \n",
        "$$f_{1} = (1 + 1^{2}) \\cdot \\frac{\\text{precision} \\cdot \\text{recall}}{(1^{2} \\cdot \\text{precision}) + \\text{recall}}$$\n",
        "$$f_{1} = (2) \\cdot \\frac{\\text{precision} \\cdot \\text{recall}}{(\\text{precision}) + \\text{recall}}$$\n",
        "\n"
      ]
    },
    {
      "cell_type": "code",
      "metadata": {
        "id": "g29c08UWaVCZ"
      },
      "source": [
        "def f1_score(y_true, y_pred):\n",
        "    precision_val = precision(y_true, y_pred)\n",
        "    recall_val = recall(y_true, y_pred)\n",
        "    return 2*((precision_val * recall_val)/(precision_val + recall_val + K.epsilon()))"
      ],
      "execution_count": 5,
      "outputs": []
    },
    {
      "cell_type": "markdown",
      "metadata": {
        "id": "SJVCS5Q1aldQ"
      },
      "source": [
        "**n.b.: Semua fungsi pada bagian penyebut ditambah epsilon untuk menghindari dibagi $0$ dikarenakan memasukkan input sebanyak $0$**"
      ]
    },
    {
      "cell_type": "markdown",
      "metadata": {
        "id": "RJIOkA-caojX"
      },
      "source": [
        "###### Fungsi Bantuan untuk Melakukan Prediksi dan Menampilkan Metric"
      ]
    },
    {
      "cell_type": "code",
      "metadata": {
        "id": "PvFKE3jVagwj"
      },
      "source": [
        "def predict_and_get_metrics(model, x_test, y_test, label):\n",
        "    _, accuracy, sensitivity, specificity, score_f1 = model.evaluate(x_test, y_test, verbose=0)\n",
        "    return pd.DataFrame([[accuracy, sensitivity, specificity, score_f1]], columns=['Accuracy', 'Sensitivity', 'Specificity', 'F1 Score'], index=[label])\n",
        "\n",
        "def compare_train_and_test(model, x_train, y_train, x_test, y_test, extra_label=''):\n",
        "    metric_train = predict_and_get_metrics(model, x_train, y_train, 'Data Train %s' % (extra_label))\n",
        "    metric_test = predict_and_get_metrics(model, x_test, y_test, 'Data Test %s' % (extra_label))\n",
        "    return pd.concat([metric_train, metric_test])"
      ],
      "execution_count": 6,
      "outputs": []
    },
    {
      "cell_type": "markdown",
      "metadata": {
        "id": "E50lSCtWaxaP"
      },
      "source": [
        "###### Fungsi Bantuan untuk _Load Dataset_"
      ]
    },
    {
      "cell_type": "code",
      "metadata": {
        "id": "VRGsFnONasAe"
      },
      "source": [
        "def load_dataset_cifar10():\n",
        "\t(trainX, trainY), (testX, testY) = keras.datasets.cifar10.load_data()\n",
        "\treturn np.concatenate((trainX, testX), axis=0), np.concatenate((trainY, testY), axis=0)\n",
        " \n",
        "def load_dataset_cifar100():\n",
        "\t(trainX, trainY), (testX, testY) = keras.datasets.cifar100.load_data()\n",
        "\treturn np.concatenate((trainX, testX), axis=0), np.concatenate((trainY, testY), axis=0)"
      ],
      "execution_count": 58,
      "outputs": []
    },
    {
      "cell_type": "markdown",
      "metadata": {
        "id": "S2YPie55cC8B"
      },
      "source": [
        "##### Load Dataset"
      ]
    },
    {
      "cell_type": "code",
      "metadata": {
        "id": "De3BijFyavrp",
        "outputId": "b20ec894-77e9-41c5-f7c7-67901f23c89c",
        "colab": {
          "base_uri": "https://localhost:8080/",
          "height": 68
        }
      },
      "source": [
        "x, y = load_dataset_cifar10()\n",
        "x.shape"
      ],
      "execution_count": 8,
      "outputs": [
        {
          "output_type": "stream",
          "text": [
            "Downloading data from https://www.cs.toronto.edu/~kriz/cifar-10-python.tar.gz\n",
            "170500096/170498071 [==============================] - 2s 0us/step\n"
          ],
          "name": "stdout"
        },
        {
          "output_type": "execute_result",
          "data": {
            "text/plain": [
              "(60000, 32, 32, 3)"
            ]
          },
          "metadata": {
            "tags": []
          },
          "execution_count": 8
        }
      ]
    },
    {
      "cell_type": "markdown",
      "metadata": {
        "id": "Ol1gGZn1tXcU"
      },
      "source": [
        "##### Mengambil Dataset Sebanyak 1000 Per Kelasnya"
      ]
    },
    {
      "cell_type": "code",
      "metadata": {
        "id": "ZwB8cxdRcktx"
      },
      "source": [
        "idx_sample = np.array([],dtype=int)\n",
        "\n",
        "for i in range(10):\n",
        "    idx = (y == i).reshape(x.shape[0])\n",
        "    idx_data = np.where(idx == True)\n",
        "    sampled_list = np.random.choice(idx_data[0], size=1000, replace=False)\n",
        "    idx_sample = np.concatenate((idx_sample, sampled_list), axis=0)"
      ],
      "execution_count": 9,
      "outputs": []
    },
    {
      "cell_type": "markdown",
      "metadata": {
        "id": "BdnYBQdXtl16"
      },
      "source": [
        "##### Melakukan Validasi Apakah Shape-nya Sudah Valid atau Belum"
      ]
    },
    {
      "cell_type": "code",
      "metadata": {
        "id": "O_LteF08dnoP",
        "outputId": "3828c415-1575-4e30-e413-381d1a30c00a",
        "colab": {
          "base_uri": "https://localhost:8080/",
          "height": 34
        }
      },
      "source": [
        "x_sample = x[idx_sample]\n",
        "y_sample = y[idx_sample]\n",
        "x_sample.shape, y_sample.shape"
      ],
      "execution_count": 10,
      "outputs": [
        {
          "output_type": "execute_result",
          "data": {
            "text/plain": [
              "((10000, 32, 32, 3), (10000, 1))"
            ]
          },
          "metadata": {
            "tags": []
          },
          "execution_count": 10
        }
      ]
    },
    {
      "cell_type": "markdown",
      "metadata": {
        "id": "D2EMwzQyvRWE"
      },
      "source": [
        "##### Melakukan Normalisasi untuk $x$"
      ]
    },
    {
      "cell_type": "code",
      "metadata": {
        "id": "oyFNEK_pvVPA"
      },
      "source": [
        "def normalize(x):\n",
        "    return x / 255.0\n",
        "\n",
        "x_sample = normalize(x_sample)"
      ],
      "execution_count": 11,
      "outputs": []
    },
    {
      "cell_type": "markdown",
      "metadata": {
        "id": "2IeZh_cyu5tM"
      },
      "source": [
        "##### Merubah Menjadi Matrix Binary untuk $y$"
      ]
    },
    {
      "cell_type": "code",
      "metadata": {
        "id": "HWALf5B-vPM3"
      },
      "source": [
        "y_sample = tf.keras.utils.to_categorical(y_sample)"
      ],
      "execution_count": 12,
      "outputs": []
    },
    {
      "cell_type": "markdown",
      "metadata": {
        "id": "JPEUQiXyvjTT"
      },
      "source": [
        "##### Memecah Menjadi 60 : 40 ~ Train : Test"
      ]
    },
    {
      "cell_type": "code",
      "metadata": {
        "id": "q4zKyVvRvoJ4"
      },
      "source": [
        "x_train, x_test, y_train, y_test = train_test_split(x_sample, y_sample, test_size=0.4)"
      ],
      "execution_count": 13,
      "outputs": []
    },
    {
      "cell_type": "markdown",
      "metadata": {
        "id": "UupbLpNXtxff"
      },
      "source": [
        "##### Membangun Model Convolutional Neural Network"
      ]
    },
    {
      "cell_type": "code",
      "metadata": {
        "id": "OBc6Q_8ckvaL"
      },
      "source": [
        "def create_model(learning_rate, pre_defined_layers=[]):\n",
        "    convolutional_layers = []\n",
        "    if len(pre_defined_layers) == 0:\n",
        "        ## Convolutional Layers 25 map, 3 x 3, activation = relu\n",
        "        convolutional_layers.append(Conv2D(25, kernel_size=(3, 3), activation=tf.nn.relu, padding='SAME', kernel_initializer=tf.keras.initializers.HeUniform()))\n",
        "\n",
        "        ## Pooling Layer 2 x 2\n",
        "        convolutional_layers.append(MaxPooling2D(2,2))\n",
        "\n",
        "        ## Convolutional Layers 50 map, 3 x 3, activation = relu\n",
        "        convolutional_layers.append(Conv2D(50, kernel_size=(3, 3), activation=tf.nn.relu, padding='SAME', kernel_initializer=tf.keras.initializers.HeUniform()))\n",
        "\n",
        "        ## Pooling Layer 2 x 2\n",
        "        convolutional_layers.append(MaxPooling2D(2,2))\n",
        "\n",
        "        ## Convolutional Layers 100 map, 3 x 3, activation = relu\n",
        "        convolutional_layers.append(Conv2D(100, kernel_size=(3, 3), activation=tf.nn.relu, padding='SAME', kernel_initializer=tf.keras.initializers.HeUniform()))\n",
        "\n",
        "        ## Pooling Layer 2 x 2\n",
        "        convolutional_layers.append(MaxPooling2D(2,2))\n",
        "\n",
        "        convolutional_layers.append(Flatten())\n",
        "\n",
        "        ## Hidden Layer 100 node\n",
        "        convolutional_layers.append(Dense(100, activation=tf.nn.relu))\n",
        "\n",
        "        ## Output 10 class\n",
        "        convolutional_layers.append(Dense(10, activation=tf.nn.softmax))\n",
        "    else:\n",
        "        convolutional_layers = pre_defined_layers\n",
        "\n",
        "    ## Menginisialisasi instance model\n",
        "    convolutional_model = Sequential(convolutional_layers)\n",
        "\n",
        "    ## Membangun model\n",
        "    convolutional_model.build(input_shape=x_train.shape)\n",
        "\n",
        "    ## Melakukan Kompilasi ke dalam Model\n",
        "    convolutional_model.compile(\n",
        "    optimizer=tf.keras.optimizers.Adam(learning_rate=learning_rate),\n",
        "    loss='categorical_crossentropy',\n",
        "    metrics=[\n",
        "      'accuracy',\n",
        "      recall,\n",
        "      specificity,\n",
        "      f1_score\n",
        "    ])\n",
        "\n",
        "    return convolutional_model"
      ],
      "execution_count": 88,
      "outputs": []
    },
    {
      "cell_type": "markdown",
      "metadata": {
        "id": "tbAYmxNOu70R"
      },
      "source": [
        "##### Melakukan _fitting_ dengan $\\text{epochs} = 100$, $\\text{batch_size} = 10$, dan $\\text{learning_rate} = 0.1$, dan $\\text{Early Stopping}$"
      ]
    },
    {
      "cell_type": "code",
      "metadata": {
        "id": "0OAsbnblUGyr"
      },
      "source": [
        "## Mendefinisikan Patience Early Stopping untuk Semua Model\n",
        "es = EarlyStopping(monitor='val_loss', mode='min', verbose=1, patience=10)"
      ],
      "execution_count": 37,
      "outputs": []
    },
    {
      "cell_type": "code",
      "metadata": {
        "id": "b0vPHzTdyB67",
        "outputId": "64f4c6cd-7a10-4422-dba8-81896a336390",
        "colab": {
          "base_uri": "https://localhost:8080/",
          "height": 479
        }
      },
      "source": [
        "convolutional_model = create_model(0.1)\n",
        "convolutional_model.fit(x_train, y_train, epochs=100, batch_size=10, validation_data=(x_test, y_test), use_multiprocessing=True, callbacks=[es])"
      ],
      "execution_count": 38,
      "outputs": [
        {
          "output_type": "stream",
          "text": [
            "Epoch 1/100\n",
            "600/600 [==============================] - 16s 26ms/step - loss: 14.0499 - accuracy: 0.1048 - recall: 6.6667e-04 - specificity: 0.9993 - f1_score: 6.6667e-04 - val_loss: 2.3311 - val_accuracy: 0.0995 - val_recall: 0.0000e+00 - val_specificity: 1.0000 - val_f1_score: 0.0000e+00\n",
            "Epoch 2/100\n",
            "600/600 [==============================] - 16s 26ms/step - loss: 2.3290 - accuracy: 0.0900 - recall: 0.0000e+00 - specificity: 1.0000 - f1_score: 0.0000e+00 - val_loss: 2.3106 - val_accuracy: 0.1072 - val_recall: 0.0000e+00 - val_specificity: 1.0000 - val_f1_score: 0.0000e+00\n",
            "Epoch 3/100\n",
            "600/600 [==============================] - 15s 26ms/step - loss: 2.3247 - accuracy: 0.0988 - recall: 0.0000e+00 - specificity: 1.0000 - f1_score: 0.0000e+00 - val_loss: 2.3112 - val_accuracy: 0.0978 - val_recall: 0.0000e+00 - val_specificity: 1.0000 - val_f1_score: 0.0000e+00\n",
            "Epoch 4/100\n",
            "600/600 [==============================] - 15s 26ms/step - loss: 2.3255 - accuracy: 0.1027 - recall: 0.0000e+00 - specificity: 1.0000 - f1_score: 0.0000e+00 - val_loss: 2.3256 - val_accuracy: 0.1000 - val_recall: 0.0000e+00 - val_specificity: 1.0000 - val_f1_score: 0.0000e+00\n",
            "Epoch 5/100\n",
            "600/600 [==============================] - 15s 26ms/step - loss: 2.3255 - accuracy: 0.0965 - recall: 0.0000e+00 - specificity: 1.0000 - f1_score: 0.0000e+00 - val_loss: 2.3119 - val_accuracy: 0.1072 - val_recall: 0.0000e+00 - val_specificity: 1.0000 - val_f1_score: 0.0000e+00\n",
            "Epoch 6/100\n",
            "600/600 [==============================] - 15s 26ms/step - loss: 2.3266 - accuracy: 0.1007 - recall: 0.0000e+00 - specificity: 1.0000 - f1_score: 0.0000e+00 - val_loss: 2.3204 - val_accuracy: 0.0925 - val_recall: 0.0000e+00 - val_specificity: 1.0000 - val_f1_score: 0.0000e+00\n",
            "Epoch 7/100\n",
            "600/600 [==============================] - 15s 26ms/step - loss: 2.3240 - accuracy: 0.1018 - recall: 0.0000e+00 - specificity: 1.0000 - f1_score: 0.0000e+00 - val_loss: 2.3170 - val_accuracy: 0.0925 - val_recall: 0.0000e+00 - val_specificity: 1.0000 - val_f1_score: 0.0000e+00\n",
            "Epoch 8/100\n",
            "600/600 [==============================] - 15s 26ms/step - loss: 2.3283 - accuracy: 0.1023 - recall: 0.0000e+00 - specificity: 1.0000 - f1_score: 0.0000e+00 - val_loss: 2.3186 - val_accuracy: 0.1000 - val_recall: 0.0000e+00 - val_specificity: 1.0000 - val_f1_score: 0.0000e+00\n",
            "Epoch 9/100\n",
            "600/600 [==============================] - 15s 26ms/step - loss: 2.3296 - accuracy: 0.0960 - recall: 0.0000e+00 - specificity: 1.0000 - f1_score: 0.0000e+00 - val_loss: 2.3139 - val_accuracy: 0.0962 - val_recall: 0.0000e+00 - val_specificity: 1.0000 - val_f1_score: 0.0000e+00\n",
            "Epoch 10/100\n",
            "600/600 [==============================] - 15s 26ms/step - loss: 2.3267 - accuracy: 0.0938 - recall: 0.0000e+00 - specificity: 1.0000 - f1_score: 0.0000e+00 - val_loss: 2.3262 - val_accuracy: 0.0962 - val_recall: 0.0000e+00 - val_specificity: 1.0000 - val_f1_score: 0.0000e+00\n",
            "Epoch 11/100\n",
            "600/600 [==============================] - 15s 26ms/step - loss: 2.3261 - accuracy: 0.0972 - recall: 0.0000e+00 - specificity: 1.0000 - f1_score: 0.0000e+00 - val_loss: 2.3113 - val_accuracy: 0.0997 - val_recall: 0.0000e+00 - val_specificity: 1.0000 - val_f1_score: 0.0000e+00\n",
            "Epoch 12/100\n",
            "600/600 [==============================] - 19s 32ms/step - loss: 2.3266 - accuracy: 0.1007 - recall: 0.0000e+00 - specificity: 1.0000 - f1_score: 0.0000e+00 - val_loss: 2.3173 - val_accuracy: 0.1010 - val_recall: 0.0000e+00 - val_specificity: 1.0000 - val_f1_score: 0.0000e+00\n",
            "Epoch 00012: early stopping\n"
          ],
          "name": "stdout"
        },
        {
          "output_type": "execute_result",
          "data": {
            "text/plain": [
              "<tensorflow.python.keras.callbacks.History at 0x7fbdb92a8550>"
            ]
          },
          "metadata": {
            "tags": []
          },
          "execution_count": 38
        }
      ]
    },
    {
      "cell_type": "markdown",
      "metadata": {
        "id": "oeetNYtYv3ha"
      },
      "source": [
        "#### 3.\n",
        "Lakukan skenario eksperimen untuk mendapatkan metrik evaluasi optimal ($\\text{akurasi}$, $\\text{sensitivity}$, $\\text{specifity}$, dan $f_{1} \\text{ score}$) dengan mengubah parameter yaitu:\n",
        "1. Mengubah epoch, dengan $\\text{learning_rate} = 0.1$ dan $\\text\n",
        "{batch_number} = 10$.\n",
        "2. Mengubah jumlah $\\text{batch number}$ dengan $\\text{epoch}$ optimal dari skenario (1) dan $\\text{learning_rate} = 0.1$.\n",
        "3. Mengubah $\\text{learning_rate}$ dengan $\\text{epoch}$ optimal dari skenario (1) dan jumlah $\\text{batch_number}$ optimal dari skenario (2)."
      ]
    },
    {
      "cell_type": "markdown",
      "metadata": {
        "id": "fqK7vX6ExpeA"
      },
      "source": [
        "##### Melakukan Skenario 3.1. (Mengubah $\\text{epoch}$)"
      ]
    },
    {
      "cell_type": "markdown",
      "metadata": {
        "id": "eIKbzwL9xyGu"
      },
      "source": [
        "###### Skenario 3.1.1. ($\\text{epoch} = 50$)"
      ]
    },
    {
      "cell_type": "code",
      "metadata": {
        "id": "hiRP7I5HvzrS",
        "outputId": "aaa6b566-5f54-4af3-f90b-c618b8c8a4f4",
        "colab": {
          "base_uri": "https://localhost:8080/",
          "height": 853
        }
      },
      "source": [
        "convolutional_model = create_model(0.1)\n",
        "convolutional_model.fit(x_train, y_train, epochs=50, batch_size=10, validation_data=(x_test, y_test), use_multiprocessing=True, callbacks=[es])"
      ],
      "execution_count": 39,
      "outputs": [
        {
          "output_type": "stream",
          "text": [
            "Epoch 1/50\n",
            "600/600 [==============================] - 15s 26ms/step - loss: 23.7568 - accuracy: 0.1007 - recall: 1.6667e-04 - specificity: 0.9995 - f1_score: 1.6667e-04 - val_loss: 2.3161 - val_accuracy: 0.0925 - val_recall: 0.0000e+00 - val_specificity: 1.0000 - val_f1_score: 0.0000e+00\n",
            "Epoch 2/50\n",
            "600/600 [==============================] - 15s 25ms/step - loss: 2.3279 - accuracy: 0.0932 - recall: 0.0000e+00 - specificity: 1.0000 - f1_score: 0.0000e+00 - val_loss: 2.3309 - val_accuracy: 0.1010 - val_recall: 0.0000e+00 - val_specificity: 1.0000 - val_f1_score: 0.0000e+00\n",
            "Epoch 3/50\n",
            "600/600 [==============================] - 15s 25ms/step - loss: 2.3282 - accuracy: 0.0975 - recall: 0.0000e+00 - specificity: 1.0000 - f1_score: 0.0000e+00 - val_loss: 2.3140 - val_accuracy: 0.0997 - val_recall: 0.0000e+00 - val_specificity: 1.0000 - val_f1_score: 0.0000e+00\n",
            "Epoch 4/50\n",
            "600/600 [==============================] - 15s 25ms/step - loss: 2.3264 - accuracy: 0.1033 - recall: 0.0000e+00 - specificity: 1.0000 - f1_score: 0.0000e+00 - val_loss: 2.3196 - val_accuracy: 0.1072 - val_recall: 0.0000e+00 - val_specificity: 1.0000 - val_f1_score: 0.0000e+00\n",
            "Epoch 5/50\n",
            "600/600 [==============================] - 15s 26ms/step - loss: 2.3263 - accuracy: 0.1098 - recall: 0.0000e+00 - specificity: 1.0000 - f1_score: 0.0000e+00 - val_loss: 2.3185 - val_accuracy: 0.0978 - val_recall: 0.0000e+00 - val_specificity: 1.0000 - val_f1_score: 0.0000e+00\n",
            "Epoch 6/50\n",
            "600/600 [==============================] - 15s 26ms/step - loss: 2.3211 - accuracy: 0.0943 - recall: 0.0000e+00 - specificity: 1.0000 - f1_score: 0.0000e+00 - val_loss: 2.3278 - val_accuracy: 0.0997 - val_recall: 0.0000e+00 - val_specificity: 1.0000 - val_f1_score: 0.0000e+00\n",
            "Epoch 7/50\n",
            "600/600 [==============================] - 16s 26ms/step - loss: 2.3266 - accuracy: 0.1008 - recall: 0.0000e+00 - specificity: 1.0000 - f1_score: 0.0000e+00 - val_loss: 2.3225 - val_accuracy: 0.1000 - val_recall: 0.0000e+00 - val_specificity: 1.0000 - val_f1_score: 0.0000e+00\n",
            "Epoch 8/50\n",
            "600/600 [==============================] - 16s 27ms/step - loss: 2.3285 - accuracy: 0.0972 - recall: 0.0000e+00 - specificity: 1.0000 - f1_score: 0.0000e+00 - val_loss: 2.3125 - val_accuracy: 0.0962 - val_recall: 0.0000e+00 - val_specificity: 1.0000 - val_f1_score: 0.0000e+00\n",
            "Epoch 9/50\n",
            "600/600 [==============================] - 16s 26ms/step - loss: 2.3268 - accuracy: 0.1002 - recall: 0.0000e+00 - specificity: 1.0000 - f1_score: 0.0000e+00 - val_loss: 2.3300 - val_accuracy: 0.0978 - val_recall: 0.0000e+00 - val_specificity: 1.0000 - val_f1_score: 0.0000e+00\n",
            "Epoch 10/50\n",
            "600/600 [==============================] - 16s 27ms/step - loss: 2.3258 - accuracy: 0.1037 - recall: 0.0000e+00 - specificity: 1.0000 - f1_score: 0.0000e+00 - val_loss: 2.3333 - val_accuracy: 0.0978 - val_recall: 0.0000e+00 - val_specificity: 1.0000 - val_f1_score: 0.0000e+00\n",
            "Epoch 11/50\n",
            "600/600 [==============================] - 16s 26ms/step - loss: 2.3275 - accuracy: 0.1022 - recall: 0.0000e+00 - specificity: 1.0000 - f1_score: 0.0000e+00 - val_loss: 2.3307 - val_accuracy: 0.0925 - val_recall: 0.0000e+00 - val_specificity: 1.0000 - val_f1_score: 0.0000e+00\n",
            "Epoch 12/50\n",
            "600/600 [==============================] - 16s 26ms/step - loss: 2.3269 - accuracy: 0.0973 - recall: 0.0000e+00 - specificity: 1.0000 - f1_score: 0.0000e+00 - val_loss: 2.3184 - val_accuracy: 0.1000 - val_recall: 0.0000e+00 - val_specificity: 1.0000 - val_f1_score: 0.0000e+00\n",
            "Epoch 13/50\n",
            "600/600 [==============================] - 16s 27ms/step - loss: 2.3287 - accuracy: 0.1045 - recall: 0.0000e+00 - specificity: 1.0000 - f1_score: 0.0000e+00 - val_loss: 2.3103 - val_accuracy: 0.1010 - val_recall: 0.0000e+00 - val_specificity: 1.0000 - val_f1_score: 0.0000e+00\n",
            "Epoch 14/50\n",
            "600/600 [==============================] - 16s 26ms/step - loss: 2.3269 - accuracy: 0.0983 - recall: 0.0000e+00 - specificity: 1.0000 - f1_score: 0.0000e+00 - val_loss: 2.3317 - val_accuracy: 0.0978 - val_recall: 0.0000e+00 - val_specificity: 1.0000 - val_f1_score: 0.0000e+00\n",
            "Epoch 15/50\n",
            "600/600 [==============================] - 16s 26ms/step - loss: 2.3276 - accuracy: 0.0987 - recall: 0.0000e+00 - specificity: 1.0000 - f1_score: 0.0000e+00 - val_loss: 2.3264 - val_accuracy: 0.1060 - val_recall: 0.0000e+00 - val_specificity: 1.0000 - val_f1_score: 0.0000e+00\n",
            "Epoch 16/50\n",
            "600/600 [==============================] - 16s 26ms/step - loss: 2.3256 - accuracy: 0.1047 - recall: 0.0000e+00 - specificity: 1.0000 - f1_score: 0.0000e+00 - val_loss: 2.3183 - val_accuracy: 0.1000 - val_recall: 0.0000e+00 - val_specificity: 1.0000 - val_f1_score: 0.0000e+00\n",
            "Epoch 17/50\n",
            "600/600 [==============================] - 16s 27ms/step - loss: 2.3282 - accuracy: 0.1002 - recall: 0.0000e+00 - specificity: 1.0000 - f1_score: 0.0000e+00 - val_loss: 2.3190 - val_accuracy: 0.1000 - val_recall: 0.0000e+00 - val_specificity: 1.0000 - val_f1_score: 0.0000e+00\n",
            "Epoch 18/50\n",
            "600/600 [==============================] - 16s 27ms/step - loss: 2.3260 - accuracy: 0.0983 - recall: 0.0000e+00 - specificity: 1.0000 - f1_score: 0.0000e+00 - val_loss: 2.3209 - val_accuracy: 0.0995 - val_recall: 0.0000e+00 - val_specificity: 1.0000 - val_f1_score: 0.0000e+00\n",
            "Epoch 19/50\n",
            "600/600 [==============================] - 16s 27ms/step - loss: 2.3222 - accuracy: 0.1055 - recall: 0.0000e+00 - specificity: 1.0000 - f1_score: 0.0000e+00 - val_loss: 2.3159 - val_accuracy: 0.0997 - val_recall: 0.0000e+00 - val_specificity: 1.0000 - val_f1_score: 0.0000e+00\n",
            "Epoch 20/50\n",
            "600/600 [==============================] - 16s 27ms/step - loss: 2.3258 - accuracy: 0.1028 - recall: 0.0000e+00 - specificity: 1.0000 - f1_score: 0.0000e+00 - val_loss: 2.3163 - val_accuracy: 0.1000 - val_recall: 0.0000e+00 - val_specificity: 1.0000 - val_f1_score: 0.0000e+00\n",
            "Epoch 21/50\n",
            "600/600 [==============================] - 16s 27ms/step - loss: 2.3244 - accuracy: 0.1018 - recall: 0.0000e+00 - specificity: 1.0000 - f1_score: 0.0000e+00 - val_loss: 2.3243 - val_accuracy: 0.0925 - val_recall: 0.0000e+00 - val_specificity: 1.0000 - val_f1_score: 0.0000e+00\n",
            "Epoch 22/50\n",
            "600/600 [==============================] - 16s 27ms/step - loss: 2.3265 - accuracy: 0.0957 - recall: 0.0000e+00 - specificity: 1.0000 - f1_score: 0.0000e+00 - val_loss: 2.3255 - val_accuracy: 0.0978 - val_recall: 0.0000e+00 - val_specificity: 1.0000 - val_f1_score: 0.0000e+00\n",
            "Epoch 23/50\n",
            "600/600 [==============================] - 16s 27ms/step - loss: 2.3252 - accuracy: 0.1002 - recall: 0.0000e+00 - specificity: 1.0000 - f1_score: 0.0000e+00 - val_loss: 2.3372 - val_accuracy: 0.1010 - val_recall: 0.0000e+00 - val_specificity: 1.0000 - val_f1_score: 0.0000e+00\n",
            "Epoch 00023: early stopping\n"
          ],
          "name": "stdout"
        },
        {
          "output_type": "execute_result",
          "data": {
            "text/plain": [
              "<tensorflow.python.keras.callbacks.History at 0x7fbdb9132550>"
            ]
          },
          "metadata": {
            "tags": []
          },
          "execution_count": 39
        }
      ]
    },
    {
      "cell_type": "markdown",
      "metadata": {
        "id": "z50yWQxxyDKv"
      },
      "source": [
        "###### Skenario 3.1.2. ($\\text{epoch}$ = 25)"
      ]
    },
    {
      "cell_type": "code",
      "metadata": {
        "id": "qoFAMbV1yAqy",
        "outputId": "f1716c72-b292-4566-bcd5-d8ae3c67f5d3",
        "colab": {
          "base_uri": "https://localhost:8080/",
          "height": 445
        }
      },
      "source": [
        "convolutional_model = create_model(0.1)\n",
        "convolutional_model.fit(x_train, y_train, epochs=25, batch_size=10, validation_data=(x_test, y_test), use_multiprocessing=True, callbacks=[es])"
      ],
      "execution_count": 40,
      "outputs": [
        {
          "output_type": "stream",
          "text": [
            "Epoch 1/25\n",
            "600/600 [==============================] - 16s 26ms/step - loss: 47.9813 - accuracy: 0.0995 - recall: 0.0012 - specificity: 0.9990 - f1_score: 0.0012 - val_loss: 2.3100 - val_accuracy: 0.0962 - val_recall: 0.0000e+00 - val_specificity: 1.0000 - val_f1_score: 0.0000e+00\n",
            "Epoch 2/25\n",
            "600/600 [==============================] - 16s 26ms/step - loss: 2.3260 - accuracy: 0.1020 - recall: 0.0000e+00 - specificity: 1.0000 - f1_score: 0.0000e+00 - val_loss: 2.3245 - val_accuracy: 0.0997 - val_recall: 0.0000e+00 - val_specificity: 1.0000 - val_f1_score: 0.0000e+00\n",
            "Epoch 3/25\n",
            "600/600 [==============================] - 16s 26ms/step - loss: 2.3301 - accuracy: 0.0998 - recall: 0.0000e+00 - specificity: 1.0000 - f1_score: 0.0000e+00 - val_loss: 2.3261 - val_accuracy: 0.0925 - val_recall: 0.0000e+00 - val_specificity: 1.0000 - val_f1_score: 0.0000e+00\n",
            "Epoch 4/25\n",
            "600/600 [==============================] - 16s 27ms/step - loss: 2.3253 - accuracy: 0.1008 - recall: 0.0000e+00 - specificity: 1.0000 - f1_score: 0.0000e+00 - val_loss: 2.3372 - val_accuracy: 0.1060 - val_recall: 0.0000e+00 - val_specificity: 1.0000 - val_f1_score: 0.0000e+00\n",
            "Epoch 5/25\n",
            "600/600 [==============================] - 16s 27ms/step - loss: 2.3257 - accuracy: 0.1002 - recall: 0.0000e+00 - specificity: 1.0000 - f1_score: 0.0000e+00 - val_loss: 2.3248 - val_accuracy: 0.1000 - val_recall: 0.0000e+00 - val_specificity: 1.0000 - val_f1_score: 0.0000e+00\n",
            "Epoch 6/25\n",
            "600/600 [==============================] - 16s 27ms/step - loss: 2.3255 - accuracy: 0.0948 - recall: 0.0000e+00 - specificity: 1.0000 - f1_score: 0.0000e+00 - val_loss: 2.3118 - val_accuracy: 0.1000 - val_recall: 0.0000e+00 - val_specificity: 1.0000 - val_f1_score: 0.0000e+00\n",
            "Epoch 7/25\n",
            "600/600 [==============================] - 16s 27ms/step - loss: 2.3270 - accuracy: 0.0962 - recall: 0.0000e+00 - specificity: 1.0000 - f1_score: 0.0000e+00 - val_loss: 2.3338 - val_accuracy: 0.0925 - val_recall: 0.0000e+00 - val_specificity: 1.0000 - val_f1_score: 0.0000e+00\n",
            "Epoch 8/25\n",
            "600/600 [==============================] - 16s 26ms/step - loss: 2.3261 - accuracy: 0.0997 - recall: 0.0000e+00 - specificity: 1.0000 - f1_score: 0.0000e+00 - val_loss: 2.3303 - val_accuracy: 0.1000 - val_recall: 0.0000e+00 - val_specificity: 1.0000 - val_f1_score: 0.0000e+00\n",
            "Epoch 9/25\n",
            "600/600 [==============================] - 16s 26ms/step - loss: 2.3238 - accuracy: 0.1052 - recall: 0.0000e+00 - specificity: 1.0000 - f1_score: 0.0000e+00 - val_loss: 2.3270 - val_accuracy: 0.0962 - val_recall: 0.0000e+00 - val_specificity: 1.0000 - val_f1_score: 0.0000e+00\n",
            "Epoch 10/25\n",
            "600/600 [==============================] - 16s 26ms/step - loss: 2.3250 - accuracy: 0.1038 - recall: 0.0000e+00 - specificity: 1.0000 - f1_score: 0.0000e+00 - val_loss: 2.3413 - val_accuracy: 0.0925 - val_recall: 0.0000e+00 - val_specificity: 1.0000 - val_f1_score: 0.0000e+00\n",
            "Epoch 11/25\n",
            "600/600 [==============================] - 16s 27ms/step - loss: 2.3280 - accuracy: 0.0935 - recall: 0.0000e+00 - specificity: 1.0000 - f1_score: 0.0000e+00 - val_loss: 2.3365 - val_accuracy: 0.0925 - val_recall: 0.0000e+00 - val_specificity: 1.0000 - val_f1_score: 0.0000e+00\n",
            "Epoch 00011: early stopping\n"
          ],
          "name": "stdout"
        },
        {
          "output_type": "execute_result",
          "data": {
            "text/plain": [
              "<tensorflow.python.keras.callbacks.History at 0x7fbdb77125f8>"
            ]
          },
          "metadata": {
            "tags": []
          },
          "execution_count": 40
        }
      ]
    },
    {
      "cell_type": "markdown",
      "metadata": {
        "id": "sfFd4JoiyVL0"
      },
      "source": [
        "###### Skenario 3.1.3. ($\\text{epoch}$ = 10)"
      ]
    },
    {
      "cell_type": "code",
      "metadata": {
        "id": "My0WoXDnyTVL",
        "outputId": "a5ab389a-14f0-40e8-d439-9787414c9b43",
        "colab": {
          "base_uri": "https://localhost:8080/",
          "height": 394
        }
      },
      "source": [
        "convolutional_model = create_model(0.1)\n",
        "convolutional_model.fit(x_train, y_train, epochs=10, batch_size=10, validation_data=(x_test, y_test), use_multiprocessing=True, callbacks=[es])"
      ],
      "execution_count": 41,
      "outputs": [
        {
          "output_type": "stream",
          "text": [
            "Epoch 1/10\n",
            "600/600 [==============================] - 16s 26ms/step - loss: 19.2034 - accuracy: 0.1017 - recall: 0.0010 - specificity: 0.9990 - f1_score: 1.0000e-03 - val_loss: 2.3195 - val_accuracy: 0.1010 - val_recall: 0.0000e+00 - val_specificity: 1.0000 - val_f1_score: 0.0000e+00\n",
            "Epoch 2/10\n",
            "600/600 [==============================] - 16s 26ms/step - loss: 2.3262 - accuracy: 0.1000 - recall: 0.0000e+00 - specificity: 1.0000 - f1_score: 0.0000e+00 - val_loss: 2.3233 - val_accuracy: 0.1060 - val_recall: 0.0000e+00 - val_specificity: 1.0000 - val_f1_score: 0.0000e+00\n",
            "Epoch 3/10\n",
            "600/600 [==============================] - 16s 26ms/step - loss: 2.3246 - accuracy: 0.1043 - recall: 0.0000e+00 - specificity: 1.0000 - f1_score: 0.0000e+00 - val_loss: 2.3209 - val_accuracy: 0.0995 - val_recall: 0.0000e+00 - val_specificity: 1.0000 - val_f1_score: 0.0000e+00\n",
            "Epoch 4/10\n",
            "600/600 [==============================] - 19s 32ms/step - loss: 2.3265 - accuracy: 0.0985 - recall: 0.0000e+00 - specificity: 1.0000 - f1_score: 0.0000e+00 - val_loss: 2.3174 - val_accuracy: 0.1010 - val_recall: 0.0000e+00 - val_specificity: 1.0000 - val_f1_score: 0.0000e+00\n",
            "Epoch 5/10\n",
            "600/600 [==============================] - 16s 26ms/step - loss: 2.3272 - accuracy: 0.0968 - recall: 0.0000e+00 - specificity: 1.0000 - f1_score: 0.0000e+00 - val_loss: 2.3244 - val_accuracy: 0.0978 - val_recall: 0.0000e+00 - val_specificity: 1.0000 - val_f1_score: 0.0000e+00\n",
            "Epoch 6/10\n",
            "600/600 [==============================] - 15s 26ms/step - loss: 2.3285 - accuracy: 0.0973 - recall: 0.0000e+00 - specificity: 1.0000 - f1_score: 0.0000e+00 - val_loss: 2.3074 - val_accuracy: 0.0997 - val_recall: 0.0000e+00 - val_specificity: 1.0000 - val_f1_score: 0.0000e+00\n",
            "Epoch 7/10\n",
            "600/600 [==============================] - 15s 26ms/step - loss: 2.3220 - accuracy: 0.1077 - recall: 0.0000e+00 - specificity: 1.0000 - f1_score: 0.0000e+00 - val_loss: 2.3290 - val_accuracy: 0.0925 - val_recall: 0.0000e+00 - val_specificity: 1.0000 - val_f1_score: 0.0000e+00\n",
            "Epoch 8/10\n",
            "600/600 [==============================] - 15s 26ms/step - loss: 2.3284 - accuracy: 0.0973 - recall: 0.0000e+00 - specificity: 1.0000 - f1_score: 0.0000e+00 - val_loss: 2.3135 - val_accuracy: 0.1010 - val_recall: 0.0000e+00 - val_specificity: 1.0000 - val_f1_score: 0.0000e+00\n",
            "Epoch 9/10\n",
            "600/600 [==============================] - 16s 26ms/step - loss: 2.3251 - accuracy: 0.1002 - recall: 0.0000e+00 - specificity: 1.0000 - f1_score: 0.0000e+00 - val_loss: 2.3358 - val_accuracy: 0.0997 - val_recall: 0.0000e+00 - val_specificity: 1.0000 - val_f1_score: 0.0000e+00\n",
            "Epoch 10/10\n",
            "600/600 [==============================] - 15s 26ms/step - loss: 2.3306 - accuracy: 0.0997 - recall: 0.0000e+00 - specificity: 1.0000 - f1_score: 0.0000e+00 - val_loss: 2.3118 - val_accuracy: 0.0962 - val_recall: 0.0000e+00 - val_specificity: 1.0000 - val_f1_score: 0.0000e+00\n"
          ],
          "name": "stdout"
        },
        {
          "output_type": "execute_result",
          "data": {
            "text/plain": [
              "<tensorflow.python.keras.callbacks.History at 0x7fbdb6c67668>"
            ]
          },
          "metadata": {
            "tags": []
          },
          "execution_count": 41
        }
      ]
    },
    {
      "cell_type": "markdown",
      "metadata": {
        "id": "JDjlsyWmuOO2"
      },
      "source": [
        "###### Kesimpulan Skenario $3.1.$"
      ]
    },
    {
      "cell_type": "markdown",
      "metadata": {
        "id": "aZVma5oUyhZ8"
      },
      "source": [
        "Berdasarkan hasil dari skenario $3.1.1$, $3.1.2$, dan $3.1.3$, ketiga skenario mengalami _early stop_ pada $\\text{epoch} \\leq 4$. Dengan demikian epoch optimal dari skenario-skenario tersebut adalah $\\text{epoch}$ dari skenario $3.1.3$, yaitu $10$."
      ]
    },
    {
      "cell_type": "markdown",
      "metadata": {
        "id": "UnZzodGOy-wu"
      },
      "source": [
        "##### Melakukan Skenario $3.2.$ (Mengubah $\\text{batch_number}$)"
      ]
    },
    {
      "cell_type": "markdown",
      "metadata": {
        "id": "Jpmk_tBlzTpp"
      },
      "source": [
        "###### Skenario $3.2.1.$ ($\\text{batch_number} = 25$)"
      ]
    },
    {
      "cell_type": "code",
      "metadata": {
        "id": "OxvebtnPzSsX",
        "outputId": "682130f5-48be-4bd3-bc8e-306cad4046e1",
        "colab": {
          "base_uri": "https://localhost:8080/",
          "height": 394
        }
      },
      "source": [
        "convolutional_model = create_model(0.1)\n",
        "convolutional_model.fit(x_train, y_train, epochs=10, batch_size=25, validation_data=(x_test, y_test), use_multiprocessing=True, callbacks=[es])"
      ],
      "execution_count": 42,
      "outputs": [
        {
          "output_type": "stream",
          "text": [
            "Epoch 1/10\n",
            "240/240 [==============================] - 13s 55ms/step - loss: 75.2109 - accuracy: 0.1035 - recall: 6.6667e-04 - specificity: 0.9987 - f1_score: 6.6667e-04 - val_loss: 2.3079 - val_accuracy: 0.0995 - val_recall: 0.0000e+00 - val_specificity: 1.0000 - val_f1_score: 0.0000e+00\n",
            "Epoch 2/10\n",
            "240/240 [==============================] - 13s 53ms/step - loss: 2.3153 - accuracy: 0.1017 - recall: 0.0000e+00 - specificity: 1.0000 - f1_score: 0.0000e+00 - val_loss: 2.3203 - val_accuracy: 0.0925 - val_recall: 0.0000e+00 - val_specificity: 1.0000 - val_f1_score: 0.0000e+00\n",
            "Epoch 3/10\n",
            "240/240 [==============================] - 13s 53ms/step - loss: 2.3169 - accuracy: 0.0955 - recall: 0.0000e+00 - specificity: 1.0000 - f1_score: 0.0000e+00 - val_loss: 2.3095 - val_accuracy: 0.1060 - val_recall: 0.0000e+00 - val_specificity: 1.0000 - val_f1_score: 0.0000e+00\n",
            "Epoch 4/10\n",
            "240/240 [==============================] - 13s 55ms/step - loss: 2.3152 - accuracy: 0.0990 - recall: 0.0000e+00 - specificity: 1.0000 - f1_score: 0.0000e+00 - val_loss: 2.3089 - val_accuracy: 0.0925 - val_recall: 0.0000e+00 - val_specificity: 1.0000 - val_f1_score: 0.0000e+00\n",
            "Epoch 5/10\n",
            "240/240 [==============================] - 13s 55ms/step - loss: 2.3169 - accuracy: 0.1008 - recall: 0.0000e+00 - specificity: 1.0000 - f1_score: 0.0000e+00 - val_loss: 2.3186 - val_accuracy: 0.0925 - val_recall: 0.0000e+00 - val_specificity: 1.0000 - val_f1_score: 0.0000e+00\n",
            "Epoch 6/10\n",
            "240/240 [==============================] - 13s 54ms/step - loss: 2.3154 - accuracy: 0.0958 - recall: 0.0000e+00 - specificity: 1.0000 - f1_score: 0.0000e+00 - val_loss: 2.3227 - val_accuracy: 0.0925 - val_recall: 0.0000e+00 - val_specificity: 1.0000 - val_f1_score: 0.0000e+00\n",
            "Epoch 7/10\n",
            "240/240 [==============================] - 13s 54ms/step - loss: 2.3173 - accuracy: 0.0988 - recall: 0.0000e+00 - specificity: 1.0000 - f1_score: 0.0000e+00 - val_loss: 2.3150 - val_accuracy: 0.1010 - val_recall: 0.0000e+00 - val_specificity: 1.0000 - val_f1_score: 0.0000e+00\n",
            "Epoch 8/10\n",
            "240/240 [==============================] - 13s 54ms/step - loss: 2.3179 - accuracy: 0.0945 - recall: 0.0000e+00 - specificity: 1.0000 - f1_score: 0.0000e+00 - val_loss: 2.3235 - val_accuracy: 0.1000 - val_recall: 0.0000e+00 - val_specificity: 1.0000 - val_f1_score: 0.0000e+00\n",
            "Epoch 9/10\n",
            "240/240 [==============================] - 13s 54ms/step - loss: 2.3195 - accuracy: 0.0982 - recall: 0.0000e+00 - specificity: 1.0000 - f1_score: 0.0000e+00 - val_loss: 2.3317 - val_accuracy: 0.0997 - val_recall: 0.0000e+00 - val_specificity: 1.0000 - val_f1_score: 0.0000e+00\n",
            "Epoch 10/10\n",
            "240/240 [==============================] - 13s 54ms/step - loss: 2.3157 - accuracy: 0.0998 - recall: 0.0000e+00 - specificity: 1.0000 - f1_score: 0.0000e+00 - val_loss: 2.3193 - val_accuracy: 0.0925 - val_recall: 0.0000e+00 - val_specificity: 1.0000 - val_f1_score: 0.0000e+00\n"
          ],
          "name": "stdout"
        },
        {
          "output_type": "execute_result",
          "data": {
            "text/plain": [
              "<tensorflow.python.keras.callbacks.History at 0x7fbdb623e240>"
            ]
          },
          "metadata": {
            "tags": []
          },
          "execution_count": 42
        }
      ]
    },
    {
      "cell_type": "markdown",
      "metadata": {
        "id": "DLCAlr4yzedO"
      },
      "source": [
        "###### Skenario $3.2.2.$ ($\\text{batch_number} = 50$)"
      ]
    },
    {
      "cell_type": "code",
      "metadata": {
        "id": "VyFLHqxczdk9",
        "outputId": "4c397ebe-892d-45af-9d77-e11dbc53e3be",
        "colab": {
          "base_uri": "https://localhost:8080/",
          "height": 394
        }
      },
      "source": [
        "convolutional_model = create_model(0.1)\n",
        "convolutional_model.fit(x_train, y_train, epochs=10, batch_size=50, validation_data=(x_test, y_test), use_multiprocessing=True, callbacks=[es])"
      ],
      "execution_count": 43,
      "outputs": [
        {
          "output_type": "stream",
          "text": [
            "Epoch 1/10\n",
            "120/120 [==============================] - 12s 103ms/step - loss: 107.1958 - accuracy: 0.0977 - recall: 0.0020 - specificity: 0.9984 - f1_score: 0.0020 - val_loss: 2.3134 - val_accuracy: 0.0925 - val_recall: 0.0000e+00 - val_specificity: 1.0000 - val_f1_score: 0.0000e+00\n",
            "Epoch 2/10\n",
            "120/120 [==============================] - 12s 100ms/step - loss: 2.3101 - accuracy: 0.0985 - recall: 0.0000e+00 - specificity: 1.0000 - f1_score: 0.0000e+00 - val_loss: 2.3138 - val_accuracy: 0.1000 - val_recall: 0.0000e+00 - val_specificity: 1.0000 - val_f1_score: 0.0000e+00\n",
            "Epoch 3/10\n",
            "120/120 [==============================] - 12s 101ms/step - loss: 2.3156 - accuracy: 0.0985 - recall: 0.0000e+00 - specificity: 1.0000 - f1_score: 0.0000e+00 - val_loss: 2.3151 - val_accuracy: 0.0962 - val_recall: 0.0000e+00 - val_specificity: 1.0000 - val_f1_score: 0.0000e+00\n",
            "Epoch 4/10\n",
            "120/120 [==============================] - 12s 101ms/step - loss: 2.3133 - accuracy: 0.0997 - recall: 0.0000e+00 - specificity: 1.0000 - f1_score: 0.0000e+00 - val_loss: 2.3234 - val_accuracy: 0.0925 - val_recall: 0.0000e+00 - val_specificity: 1.0000 - val_f1_score: 0.0000e+00\n",
            "Epoch 5/10\n",
            "120/120 [==============================] - 12s 101ms/step - loss: 2.3133 - accuracy: 0.0933 - recall: 0.0000e+00 - specificity: 1.0000 - f1_score: 0.0000e+00 - val_loss: 2.3054 - val_accuracy: 0.1060 - val_recall: 0.0000e+00 - val_specificity: 1.0000 - val_f1_score: 0.0000e+00\n",
            "Epoch 6/10\n",
            "120/120 [==============================] - 12s 101ms/step - loss: 2.3144 - accuracy: 0.0980 - recall: 0.0000e+00 - specificity: 1.0000 - f1_score: 0.0000e+00 - val_loss: 2.3113 - val_accuracy: 0.1060 - val_recall: 0.0000e+00 - val_specificity: 1.0000 - val_f1_score: 0.0000e+00\n",
            "Epoch 7/10\n",
            "120/120 [==============================] - 12s 102ms/step - loss: 2.3150 - accuracy: 0.0968 - recall: 0.0000e+00 - specificity: 1.0000 - f1_score: 0.0000e+00 - val_loss: 2.3149 - val_accuracy: 0.0997 - val_recall: 0.0000e+00 - val_specificity: 1.0000 - val_f1_score: 0.0000e+00\n",
            "Epoch 8/10\n",
            "120/120 [==============================] - 12s 101ms/step - loss: 2.3108 - accuracy: 0.0910 - recall: 0.0000e+00 - specificity: 1.0000 - f1_score: 0.0000e+00 - val_loss: 2.3094 - val_accuracy: 0.0925 - val_recall: 0.0000e+00 - val_specificity: 1.0000 - val_f1_score: 0.0000e+00\n",
            "Epoch 9/10\n",
            "120/120 [==============================] - 12s 101ms/step - loss: 2.3158 - accuracy: 0.0960 - recall: 0.0000e+00 - specificity: 1.0000 - f1_score: 0.0000e+00 - val_loss: 2.3179 - val_accuracy: 0.1000 - val_recall: 0.0000e+00 - val_specificity: 1.0000 - val_f1_score: 0.0000e+00\n",
            "Epoch 10/10\n",
            "120/120 [==============================] - 12s 102ms/step - loss: 2.3134 - accuracy: 0.0925 - recall: 0.0000e+00 - specificity: 1.0000 - f1_score: 0.0000e+00 - val_loss: 2.3097 - val_accuracy: 0.1000 - val_recall: 0.0000e+00 - val_specificity: 1.0000 - val_f1_score: 0.0000e+00\n"
          ],
          "name": "stdout"
        },
        {
          "output_type": "execute_result",
          "data": {
            "text/plain": [
              "<tensorflow.python.keras.callbacks.History at 0x7fbdb5f93b70>"
            ]
          },
          "metadata": {
            "tags": []
          },
          "execution_count": 43
        }
      ]
    },
    {
      "cell_type": "markdown",
      "metadata": {
        "id": "idcvhcP_zmAj"
      },
      "source": [
        "###### Skenario $3.2.3.$ ($\\text{batch_number} = 100$)"
      ]
    },
    {
      "cell_type": "code",
      "metadata": {
        "id": "mzugkM5tzkEp",
        "outputId": "9403dd5b-91ec-4f46-c19c-94bf101610fb",
        "colab": {
          "base_uri": "https://localhost:8080/",
          "height": 394
        }
      },
      "source": [
        "convolutional_model = create_model(0.1)\n",
        "convolutional_model.fit(x_train, y_train, epochs=10, batch_size=100, validation_data=(x_test, y_test), use_multiprocessing=True, callbacks=[es])"
      ],
      "execution_count": 44,
      "outputs": [
        {
          "output_type": "stream",
          "text": [
            "Epoch 1/10\n",
            "60/60 [==============================] - 12s 194ms/step - loss: 73.7438 - accuracy: 0.0953 - recall: 0.0048 - specificity: 0.9967 - f1_score: 0.0048 - val_loss: 2.3090 - val_accuracy: 0.0925 - val_recall: 0.0000e+00 - val_specificity: 1.0000 - val_f1_score: 0.0000e+00\n",
            "Epoch 2/10\n",
            "60/60 [==============================] - 11s 189ms/step - loss: 2.3088 - accuracy: 0.1013 - recall: 0.0000e+00 - specificity: 1.0000 - f1_score: 0.0000e+00 - val_loss: 2.3090 - val_accuracy: 0.0978 - val_recall: 0.0000e+00 - val_specificity: 1.0000 - val_f1_score: 0.0000e+00\n",
            "Epoch 3/10\n",
            "60/60 [==============================] - 11s 189ms/step - loss: 2.3070 - accuracy: 0.1020 - recall: 0.0000e+00 - specificity: 1.0000 - f1_score: 0.0000e+00 - val_loss: 2.3080 - val_accuracy: 0.0962 - val_recall: 0.0000e+00 - val_specificity: 1.0000 - val_f1_score: 0.0000e+00\n",
            "Epoch 4/10\n",
            "60/60 [==============================] - 11s 189ms/step - loss: 2.3071 - accuracy: 0.0915 - recall: 0.0000e+00 - specificity: 1.0000 - f1_score: 0.0000e+00 - val_loss: 2.3085 - val_accuracy: 0.0925 - val_recall: 0.0000e+00 - val_specificity: 1.0000 - val_f1_score: 0.0000e+00\n",
            "Epoch 5/10\n",
            "60/60 [==============================] - 11s 190ms/step - loss: 2.3084 - accuracy: 0.1028 - recall: 0.0000e+00 - specificity: 1.0000 - f1_score: 0.0000e+00 - val_loss: 2.3100 - val_accuracy: 0.0978 - val_recall: 0.0000e+00 - val_specificity: 1.0000 - val_f1_score: 0.0000e+00\n",
            "Epoch 6/10\n",
            "60/60 [==============================] - 11s 189ms/step - loss: 2.3124 - accuracy: 0.0953 - recall: 0.0000e+00 - specificity: 1.0000 - f1_score: 0.0000e+00 - val_loss: 2.3136 - val_accuracy: 0.0978 - val_recall: 0.0000e+00 - val_specificity: 1.0000 - val_f1_score: 0.0000e+00\n",
            "Epoch 7/10\n",
            "60/60 [==============================] - 11s 190ms/step - loss: 2.3097 - accuracy: 0.1037 - recall: 0.0000e+00 - specificity: 1.0000 - f1_score: 0.0000e+00 - val_loss: 2.3071 - val_accuracy: 0.0978 - val_recall: 0.0000e+00 - val_specificity: 1.0000 - val_f1_score: 0.0000e+00\n",
            "Epoch 8/10\n",
            "60/60 [==============================] - 11s 190ms/step - loss: 2.3101 - accuracy: 0.0965 - recall: 0.0000e+00 - specificity: 1.0000 - f1_score: 0.0000e+00 - val_loss: 2.3093 - val_accuracy: 0.0997 - val_recall: 0.0000e+00 - val_specificity: 1.0000 - val_f1_score: 0.0000e+00\n",
            "Epoch 9/10\n",
            "60/60 [==============================] - 11s 192ms/step - loss: 2.3096 - accuracy: 0.0907 - recall: 0.0000e+00 - specificity: 1.0000 - f1_score: 0.0000e+00 - val_loss: 2.3052 - val_accuracy: 0.0995 - val_recall: 0.0000e+00 - val_specificity: 1.0000 - val_f1_score: 0.0000e+00\n",
            "Epoch 10/10\n",
            "60/60 [==============================] - 12s 192ms/step - loss: 2.3083 - accuracy: 0.0918 - recall: 0.0000e+00 - specificity: 1.0000 - f1_score: 0.0000e+00 - val_loss: 2.3096 - val_accuracy: 0.1000 - val_recall: 0.0000e+00 - val_specificity: 1.0000 - val_f1_score: 0.0000e+00\n"
          ],
          "name": "stdout"
        },
        {
          "output_type": "execute_result",
          "data": {
            "text/plain": [
              "<tensorflow.python.keras.callbacks.History at 0x7fbdc434d518>"
            ]
          },
          "metadata": {
            "tags": []
          },
          "execution_count": 44
        }
      ]
    },
    {
      "cell_type": "markdown",
      "metadata": {
        "id": "mAd4eT5NzqlH"
      },
      "source": [
        "###### Skenario $3.2.4.$ ($\\text{batch_number} = 500$)"
      ]
    },
    {
      "cell_type": "code",
      "metadata": {
        "id": "7JLN26Grzp74",
        "outputId": "3f0240ca-56d9-45cd-b688-214ebae54f20",
        "colab": {
          "base_uri": "https://localhost:8080/",
          "height": 394
        }
      },
      "source": [
        "convolutional_model = create_model(0.1)\n",
        "convolutional_model.fit(x_train, y_train, epochs=10, batch_size=500, validation_data=(x_test, y_test), use_multiprocessing=True, callbacks=[es])"
      ],
      "execution_count": 45,
      "outputs": [
        {
          "output_type": "stream",
          "text": [
            "Epoch 1/10\n",
            "12/12 [==============================] - 10s 855ms/step - loss: 951.1484 - accuracy: 0.0975 - recall: 0.0327 - specificity: 0.9683 - f1_score: 0.0336 - val_loss: 2.3263 - val_accuracy: 0.0962 - val_recall: 0.0000e+00 - val_specificity: 1.0000 - val_f1_score: 0.0000e+00\n",
            "Epoch 2/10\n",
            "12/12 [==============================] - 10s 829ms/step - loss: 2.3139 - accuracy: 0.1002 - recall: 0.0000e+00 - specificity: 1.0000 - f1_score: 0.0000e+00 - val_loss: 2.3116 - val_accuracy: 0.0995 - val_recall: 0.0000e+00 - val_specificity: 1.0000 - val_f1_score: 0.0000e+00\n",
            "Epoch 3/10\n",
            "12/12 [==============================] - 10s 833ms/step - loss: 2.3078 - accuracy: 0.1010 - recall: 0.0000e+00 - specificity: 1.0000 - f1_score: 0.0000e+00 - val_loss: 2.3067 - val_accuracy: 0.1000 - val_recall: 0.0000e+00 - val_specificity: 1.0000 - val_f1_score: 0.0000e+00\n",
            "Epoch 4/10\n",
            "12/12 [==============================] - 10s 833ms/step - loss: 2.3057 - accuracy: 0.0998 - recall: 0.0000e+00 - specificity: 1.0000 - f1_score: 0.0000e+00 - val_loss: 2.3047 - val_accuracy: 0.1010 - val_recall: 0.0000e+00 - val_specificity: 1.0000 - val_f1_score: 0.0000e+00\n",
            "Epoch 5/10\n",
            "12/12 [==============================] - 10s 831ms/step - loss: 2.3056 - accuracy: 0.0970 - recall: 0.0000e+00 - specificity: 1.0000 - f1_score: 0.0000e+00 - val_loss: 2.3085 - val_accuracy: 0.0997 - val_recall: 0.0000e+00 - val_specificity: 1.0000 - val_f1_score: 0.0000e+00\n",
            "Epoch 6/10\n",
            "12/12 [==============================] - 10s 836ms/step - loss: 2.3058 - accuracy: 0.0995 - recall: 0.0000e+00 - specificity: 1.0000 - f1_score: 0.0000e+00 - val_loss: 2.3055 - val_accuracy: 0.0925 - val_recall: 0.0000e+00 - val_specificity: 1.0000 - val_f1_score: 0.0000e+00\n",
            "Epoch 7/10\n",
            "12/12 [==============================] - 10s 835ms/step - loss: 2.3062 - accuracy: 0.1030 - recall: 0.0000e+00 - specificity: 1.0000 - f1_score: 0.0000e+00 - val_loss: 2.3046 - val_accuracy: 0.0925 - val_recall: 0.0000e+00 - val_specificity: 1.0000 - val_f1_score: 0.0000e+00\n",
            "Epoch 8/10\n",
            "12/12 [==============================] - 10s 833ms/step - loss: 2.3047 - accuracy: 0.0998 - recall: 0.0000e+00 - specificity: 1.0000 - f1_score: 0.0000e+00 - val_loss: 2.3057 - val_accuracy: 0.0978 - val_recall: 0.0000e+00 - val_specificity: 1.0000 - val_f1_score: 0.0000e+00\n",
            "Epoch 9/10\n",
            "12/12 [==============================] - 10s 834ms/step - loss: 2.3073 - accuracy: 0.1008 - recall: 0.0000e+00 - specificity: 1.0000 - f1_score: 0.0000e+00 - val_loss: 2.3040 - val_accuracy: 0.1060 - val_recall: 0.0000e+00 - val_specificity: 1.0000 - val_f1_score: 0.0000e+00\n",
            "Epoch 10/10\n",
            "12/12 [==============================] - 10s 833ms/step - loss: 2.3071 - accuracy: 0.0960 - recall: 0.0000e+00 - specificity: 1.0000 - f1_score: 0.0000e+00 - val_loss: 2.3067 - val_accuracy: 0.0978 - val_recall: 0.0000e+00 - val_specificity: 1.0000 - val_f1_score: 0.0000e+00\n"
          ],
          "name": "stdout"
        },
        {
          "output_type": "execute_result",
          "data": {
            "text/plain": [
              "<tensorflow.python.keras.callbacks.History at 0x7fbdc0a3bc88>"
            ]
          },
          "metadata": {
            "tags": []
          },
          "execution_count": 45
        }
      ]
    },
    {
      "cell_type": "markdown",
      "metadata": {
        "id": "cpQnJ960zxRW"
      },
      "source": [
        "###### Skenario $3.2.5.$ ($\\text{batch_number} = 1000$)"
      ]
    },
    {
      "cell_type": "code",
      "metadata": {
        "id": "LXYpKC3czufj",
        "outputId": "823ddbf4-0141-44e8-c01f-514d22153235",
        "colab": {
          "base_uri": "https://localhost:8080/",
          "height": 394
        }
      },
      "source": [
        "convolutional_model = create_model(0.1)\n",
        "convolutional_model.fit(x_train, y_train, epochs=10, batch_size=1000, validation_data=(x_test, y_test), use_multiprocessing=True, callbacks=[es])"
      ],
      "execution_count": 46,
      "outputs": [
        {
          "output_type": "stream",
          "text": [
            "Epoch 1/10\n",
            "6/6 [==============================] - 10s 2s/step - loss: 2151.9358 - accuracy: 0.1013 - recall: 0.0403 - specificity: 0.9588 - f1_score: 0.0435 - val_loss: 2.3477 - val_accuracy: 0.0997 - val_recall: 0.0000e+00 - val_specificity: 1.0000 - val_f1_score: 0.0000e+00\n",
            "Epoch 2/10\n",
            "6/6 [==============================] - 9s 2s/step - loss: 2.3250 - accuracy: 0.0973 - recall: 0.0000e+00 - specificity: 1.0000 - f1_score: 0.0000e+00 - val_loss: 2.3141 - val_accuracy: 0.1072 - val_recall: 0.0000e+00 - val_specificity: 1.0000 - val_f1_score: 0.0000e+00\n",
            "Epoch 3/10\n",
            "6/6 [==============================] - 13s 2s/step - loss: 2.3083 - accuracy: 0.1030 - recall: 0.0000e+00 - specificity: 1.0000 - f1_score: 0.0000e+00 - val_loss: 2.3082 - val_accuracy: 0.1000 - val_recall: 0.0000e+00 - val_specificity: 1.0000 - val_f1_score: 0.0000e+00\n",
            "Epoch 4/10\n",
            "6/6 [==============================] - 9s 2s/step - loss: 2.3085 - accuracy: 0.1022 - recall: 0.0000e+00 - specificity: 1.0000 - f1_score: 0.0000e+00 - val_loss: 2.3100 - val_accuracy: 0.0925 - val_recall: 0.0000e+00 - val_specificity: 1.0000 - val_f1_score: 0.0000e+00\n",
            "Epoch 5/10\n",
            "6/6 [==============================] - 9s 2s/step - loss: 2.3050 - accuracy: 0.1030 - recall: 0.0000e+00 - specificity: 1.0000 - f1_score: 0.0000e+00 - val_loss: 2.3076 - val_accuracy: 0.1000 - val_recall: 0.0000e+00 - val_specificity: 1.0000 - val_f1_score: 0.0000e+00\n",
            "Epoch 6/10\n",
            "6/6 [==============================] - 9s 2s/step - loss: 2.3034 - accuracy: 0.1018 - recall: 0.0000e+00 - specificity: 1.0000 - f1_score: 0.0000e+00 - val_loss: 2.3032 - val_accuracy: 0.1072 - val_recall: 0.0000e+00 - val_specificity: 1.0000 - val_f1_score: 0.0000e+00\n",
            "Epoch 7/10\n",
            "6/6 [==============================] - 9s 2s/step - loss: 2.3044 - accuracy: 0.0970 - recall: 0.0000e+00 - specificity: 1.0000 - f1_score: 0.0000e+00 - val_loss: 2.3041 - val_accuracy: 0.0978 - val_recall: 0.0000e+00 - val_specificity: 1.0000 - val_f1_score: 0.0000e+00\n",
            "Epoch 8/10\n",
            "6/6 [==============================] - 9s 2s/step - loss: 2.3032 - accuracy: 0.1015 - recall: 0.0000e+00 - specificity: 1.0000 - f1_score: 0.0000e+00 - val_loss: 2.3060 - val_accuracy: 0.0978 - val_recall: 0.0000e+00 - val_specificity: 1.0000 - val_f1_score: 0.0000e+00\n",
            "Epoch 9/10\n",
            "6/6 [==============================] - 9s 2s/step - loss: 2.3027 - accuracy: 0.1042 - recall: 0.0000e+00 - specificity: 1.0000 - f1_score: 0.0000e+00 - val_loss: 2.3042 - val_accuracy: 0.0925 - val_recall: 0.0000e+00 - val_specificity: 1.0000 - val_f1_score: 0.0000e+00\n",
            "Epoch 10/10\n",
            "6/6 [==============================] - 9s 2s/step - loss: 2.3029 - accuracy: 0.0993 - recall: 0.0000e+00 - specificity: 1.0000 - f1_score: 0.0000e+00 - val_loss: 2.3049 - val_accuracy: 0.1000 - val_recall: 0.0000e+00 - val_specificity: 1.0000 - val_f1_score: 0.0000e+00\n"
          ],
          "name": "stdout"
        },
        {
          "output_type": "execute_result",
          "data": {
            "text/plain": [
              "<tensorflow.python.keras.callbacks.History at 0x7fbdc0895f98>"
            ]
          },
          "metadata": {
            "tags": []
          },
          "execution_count": 46
        }
      ]
    },
    {
      "cell_type": "markdown",
      "metadata": {
        "id": "pll9r-Aw0Hpv"
      },
      "source": [
        "###### Kesimpulan Skenario $3.2.$"
      ]
    },
    {
      "cell_type": "markdown",
      "metadata": {
        "id": "xIjeqYBxuJBa"
      },
      "source": [
        "Berdasarkan hasil dari skenario $3.2.1$, $3.2.2$, $3.2.3$, $3.2.4$, dan $3.2.5$, kelima skenario mengalami _early stop_ pada $\\text{epoch} \\leq 4$. Dengan demikian $\\text{batch_size}$ optimal dari skenario-skenario tersebut adalah $\\text{batch_size}$ dari skenario $3.2.1$, yaitu $25$."
      ]
    },
    {
      "cell_type": "markdown",
      "metadata": {
        "id": "YcX10i1J0cso"
      },
      "source": [
        "##### Melakukan Skenario $3.3.$ (Mengubah $\\text{learning_rate}$)"
      ]
    },
    {
      "cell_type": "markdown",
      "metadata": {
        "id": "urtNgG400yNq"
      },
      "source": [
        "###### Skenario $3.3.1.$ ($\\text{learning_rate} = 0.25$)"
      ]
    },
    {
      "cell_type": "code",
      "metadata": {
        "id": "OlsPZP911QSa",
        "outputId": "b2bc570e-95d4-456e-8ceb-5d6ebac322f2",
        "colab": {
          "base_uri": "https://localhost:8080/",
          "height": 394
        }
      },
      "source": [
        "convolutional_model = create_model(0.25)\n",
        "convolutional_model.fit(x_train, y_train, epochs=10, batch_size=25, validation_data=(x_test, y_test), use_multiprocessing=True, callbacks=[es])"
      ],
      "execution_count": 47,
      "outputs": [
        {
          "output_type": "stream",
          "text": [
            "Epoch 1/10\n",
            "240/240 [==============================] - 13s 55ms/step - loss: 1437.2496 - accuracy: 0.0953 - recall: 0.0015 - specificity: 0.9991 - f1_score: 0.0017 - val_loss: 2.3564 - val_accuracy: 0.0962 - val_recall: 0.0000e+00 - val_specificity: 1.0000 - val_f1_score: 0.0000e+00\n",
            "Epoch 2/10\n",
            "240/240 [==============================] - 13s 54ms/step - loss: 2.3363 - accuracy: 0.1003 - recall: 0.0000e+00 - specificity: 1.0000 - f1_score: 0.0000e+00 - val_loss: 2.3651 - val_accuracy: 0.1000 - val_recall: 0.0000e+00 - val_specificity: 1.0000 - val_f1_score: 0.0000e+00\n",
            "Epoch 3/10\n",
            "240/240 [==============================] - 13s 54ms/step - loss: 2.3391 - accuracy: 0.0943 - recall: 0.0000e+00 - specificity: 1.0000 - f1_score: 0.0000e+00 - val_loss: 2.3747 - val_accuracy: 0.0925 - val_recall: 0.0000e+00 - val_specificity: 1.0000 - val_f1_score: 0.0000e+00\n",
            "Epoch 4/10\n",
            "240/240 [==============================] - 13s 54ms/step - loss: 2.3460 - accuracy: 0.1022 - recall: 0.0000e+00 - specificity: 1.0000 - f1_score: 0.0000e+00 - val_loss: 2.3935 - val_accuracy: 0.0962 - val_recall: 0.0000e+00 - val_specificity: 1.0000 - val_f1_score: 0.0000e+00\n",
            "Epoch 5/10\n",
            "240/240 [==============================] - 13s 54ms/step - loss: 2.3434 - accuracy: 0.0957 - recall: 0.0000e+00 - specificity: 1.0000 - f1_score: 0.0000e+00 - val_loss: 2.3677 - val_accuracy: 0.0995 - val_recall: 0.0000e+00 - val_specificity: 1.0000 - val_f1_score: 0.0000e+00\n",
            "Epoch 6/10\n",
            "240/240 [==============================] - 13s 55ms/step - loss: 2.3417 - accuracy: 0.0965 - recall: 0.0000e+00 - specificity: 1.0000 - f1_score: 0.0000e+00 - val_loss: 2.3550 - val_accuracy: 0.0962 - val_recall: 0.0000e+00 - val_specificity: 1.0000 - val_f1_score: 0.0000e+00\n",
            "Epoch 7/10\n",
            "240/240 [==============================] - 13s 54ms/step - loss: 2.3384 - accuracy: 0.1043 - recall: 0.0000e+00 - specificity: 1.0000 - f1_score: 0.0000e+00 - val_loss: 2.3685 - val_accuracy: 0.0978 - val_recall: 0.0000e+00 - val_specificity: 1.0000 - val_f1_score: 0.0000e+00\n",
            "Epoch 8/10\n",
            "240/240 [==============================] - 17s 71ms/step - loss: 2.3335 - accuracy: 0.1052 - recall: 0.0000e+00 - specificity: 1.0000 - f1_score: 0.0000e+00 - val_loss: 2.3598 - val_accuracy: 0.1000 - val_recall: 0.0000e+00 - val_specificity: 1.0000 - val_f1_score: 0.0000e+00\n",
            "Epoch 9/10\n",
            "240/240 [==============================] - 13s 55ms/step - loss: 2.3387 - accuracy: 0.0925 - recall: 0.0000e+00 - specificity: 1.0000 - f1_score: 0.0000e+00 - val_loss: 2.3489 - val_accuracy: 0.0978 - val_recall: 0.0000e+00 - val_specificity: 1.0000 - val_f1_score: 0.0000e+00\n",
            "Epoch 10/10\n",
            "240/240 [==============================] - 13s 55ms/step - loss: 2.3409 - accuracy: 0.1037 - recall: 0.0000e+00 - specificity: 1.0000 - f1_score: 0.0000e+00 - val_loss: 2.3521 - val_accuracy: 0.1000 - val_recall: 0.0000e+00 - val_specificity: 1.0000 - val_f1_score: 0.0000e+00\n"
          ],
          "name": "stdout"
        },
        {
          "output_type": "execute_result",
          "data": {
            "text/plain": [
              "<tensorflow.python.keras.callbacks.History at 0x7fbdc0665828>"
            ]
          },
          "metadata": {
            "tags": []
          },
          "execution_count": 47
        }
      ]
    },
    {
      "cell_type": "markdown",
      "metadata": {
        "id": "rN1n-0po08De"
      },
      "source": [
        "###### Skenario $3.3.2.$ ($\\text{learning_rate} = 0.05$)"
      ]
    },
    {
      "cell_type": "code",
      "metadata": {
        "id": "iuxjL3uI1Xxz",
        "outputId": "62d94b5b-be07-4bbc-c346-ca7186d0b803",
        "colab": {
          "base_uri": "https://localhost:8080/",
          "height": 394
        }
      },
      "source": [
        "convolutional_model = create_model(0.05)\n",
        "convolutional_model.fit(x_train, y_train, epochs=10, batch_size=25, validation_data=(x_test, y_test), use_multiprocessing=True, callbacks=[es])"
      ],
      "execution_count": 48,
      "outputs": [
        {
          "output_type": "stream",
          "text": [
            "Epoch 1/10\n",
            "240/240 [==============================] - 13s 56ms/step - loss: 6.5494 - accuracy: 0.1027 - recall: 0.0012 - specificity: 0.9988 - f1_score: 0.0014 - val_loss: 2.3155 - val_accuracy: 0.0962 - val_recall: 0.0000e+00 - val_specificity: 1.0000 - val_f1_score: 0.0000e+00\n",
            "Epoch 2/10\n",
            "240/240 [==============================] - 13s 54ms/step - loss: 2.3116 - accuracy: 0.1015 - recall: 0.0000e+00 - specificity: 1.0000 - f1_score: 0.0000e+00 - val_loss: 2.3054 - val_accuracy: 0.0962 - val_recall: 0.0000e+00 - val_specificity: 1.0000 - val_f1_score: 0.0000e+00\n",
            "Epoch 3/10\n",
            "240/240 [==============================] - 13s 54ms/step - loss: 2.3105 - accuracy: 0.0982 - recall: 0.0000e+00 - specificity: 1.0000 - f1_score: 0.0000e+00 - val_loss: 2.3096 - val_accuracy: 0.0978 - val_recall: 0.0000e+00 - val_specificity: 1.0000 - val_f1_score: 0.0000e+00\n",
            "Epoch 4/10\n",
            "240/240 [==============================] - 13s 54ms/step - loss: 2.3093 - accuracy: 0.0978 - recall: 0.0000e+00 - specificity: 1.0000 - f1_score: 0.0000e+00 - val_loss: 2.3196 - val_accuracy: 0.0925 - val_recall: 0.0000e+00 - val_specificity: 1.0000 - val_f1_score: 0.0000e+00\n",
            "Epoch 5/10\n",
            "240/240 [==============================] - 13s 54ms/step - loss: 2.3124 - accuracy: 0.0985 - recall: 0.0000e+00 - specificity: 1.0000 - f1_score: 0.0000e+00 - val_loss: 2.3114 - val_accuracy: 0.1060 - val_recall: 0.0000e+00 - val_specificity: 1.0000 - val_f1_score: 0.0000e+00\n",
            "Epoch 6/10\n",
            "240/240 [==============================] - 13s 55ms/step - loss: 2.3103 - accuracy: 0.1030 - recall: 0.0000e+00 - specificity: 1.0000 - f1_score: 0.0000e+00 - val_loss: 2.3059 - val_accuracy: 0.1000 - val_recall: 0.0000e+00 - val_specificity: 1.0000 - val_f1_score: 0.0000e+00\n",
            "Epoch 7/10\n",
            "240/240 [==============================] - 13s 55ms/step - loss: 2.3090 - accuracy: 0.1038 - recall: 0.0000e+00 - specificity: 1.0000 - f1_score: 0.0000e+00 - val_loss: 2.3056 - val_accuracy: 0.1000 - val_recall: 0.0000e+00 - val_specificity: 1.0000 - val_f1_score: 0.0000e+00\n",
            "Epoch 8/10\n",
            "240/240 [==============================] - 13s 55ms/step - loss: 2.3113 - accuracy: 0.0977 - recall: 0.0000e+00 - specificity: 1.0000 - f1_score: 0.0000e+00 - val_loss: 2.3074 - val_accuracy: 0.0962 - val_recall: 0.0000e+00 - val_specificity: 1.0000 - val_f1_score: 0.0000e+00\n",
            "Epoch 9/10\n",
            "240/240 [==============================] - 13s 55ms/step - loss: 2.3092 - accuracy: 0.0992 - recall: 0.0000e+00 - specificity: 1.0000 - f1_score: 0.0000e+00 - val_loss: 2.3146 - val_accuracy: 0.0978 - val_recall: 0.0000e+00 - val_specificity: 1.0000 - val_f1_score: 0.0000e+00\n",
            "Epoch 10/10\n",
            "240/240 [==============================] - 13s 55ms/step - loss: 2.3116 - accuracy: 0.0993 - recall: 0.0000e+00 - specificity: 1.0000 - f1_score: 0.0000e+00 - val_loss: 2.3074 - val_accuracy: 0.0997 - val_recall: 0.0000e+00 - val_specificity: 1.0000 - val_f1_score: 0.0000e+00\n"
          ],
          "name": "stdout"
        },
        {
          "output_type": "execute_result",
          "data": {
            "text/plain": [
              "<tensorflow.python.keras.callbacks.History at 0x7fbdc03b9780>"
            ]
          },
          "metadata": {
            "tags": []
          },
          "execution_count": 48
        }
      ]
    },
    {
      "cell_type": "markdown",
      "metadata": {
        "id": "mkMNveC-0-tK"
      },
      "source": [
        "###### Skenario $3.3.3.$ ($\\text{learning_rate} = 0.01$)"
      ]
    },
    {
      "cell_type": "code",
      "metadata": {
        "id": "eE2bPsLs1ayE",
        "outputId": "db3a23c0-ad95-403e-d299-9f58af1d0c7d",
        "colab": {
          "base_uri": "https://localhost:8080/",
          "height": 394
        }
      },
      "source": [
        "convolutional_model = create_model(0.01)\n",
        "convolutional_model.fit(x_train, y_train, epochs=10, batch_size=25, validation_data=(x_test, y_test), use_multiprocessing=True, callbacks=[es])"
      ],
      "execution_count": 49,
      "outputs": [
        {
          "output_type": "stream",
          "text": [
            "Epoch 1/10\n",
            "240/240 [==============================] - 14s 57ms/step - loss: 2.3231 - accuracy: 0.1378 - recall: 0.0020 - specificity: 0.9989 - f1_score: 0.0032 - val_loss: 2.1053 - val_accuracy: 0.2317 - val_recall: 0.0030 - val_specificity: 0.9996 - val_f1_score: 0.0057\n",
            "Epoch 2/10\n",
            "240/240 [==============================] - 13s 54ms/step - loss: 2.0160 - accuracy: 0.2587 - recall: 0.0180 - specificity: 0.9973 - f1_score: 0.0327 - val_loss: 1.8798 - val_accuracy: 0.2878 - val_recall: 0.0247 - val_specificity: 0.9977 - val_f1_score: 0.0458\n",
            "Epoch 3/10\n",
            "240/240 [==============================] - 13s 54ms/step - loss: 1.8189 - accuracy: 0.3245 - recall: 0.0623 - specificity: 0.9935 - f1_score: 0.1068 - val_loss: 1.8262 - val_accuracy: 0.3352 - val_recall: 0.0640 - val_specificity: 0.9942 - val_f1_score: 0.1118\n",
            "Epoch 4/10\n",
            "240/240 [==============================] - 13s 54ms/step - loss: 1.7382 - accuracy: 0.3485 - recall: 0.1005 - specificity: 0.9911 - f1_score: 0.1652 - val_loss: 1.7596 - val_accuracy: 0.3520 - val_recall: 0.0765 - val_specificity: 0.9920 - val_f1_score: 0.1294\n",
            "Epoch 5/10\n",
            "240/240 [==============================] - 13s 54ms/step - loss: 1.7240 - accuracy: 0.3628 - recall: 0.1095 - specificity: 0.9906 - f1_score: 0.1770 - val_loss: 1.8516 - val_accuracy: 0.3350 - val_recall: 0.1077 - val_specificity: 0.9875 - val_f1_score: 0.1726\n",
            "Epoch 6/10\n",
            "240/240 [==============================] - 13s 54ms/step - loss: 1.6593 - accuracy: 0.3863 - recall: 0.1433 - specificity: 0.9896 - f1_score: 0.2257 - val_loss: 1.7070 - val_accuracy: 0.3550 - val_recall: 0.1130 - val_specificity: 0.9879 - val_f1_score: 0.1802\n",
            "Epoch 7/10\n",
            "240/240 [==============================] - 13s 54ms/step - loss: 1.6491 - accuracy: 0.3925 - recall: 0.1445 - specificity: 0.9886 - f1_score: 0.2263 - val_loss: 1.6690 - val_accuracy: 0.3887 - val_recall: 0.1345 - val_specificity: 0.9894 - val_f1_score: 0.2132\n",
            "Epoch 8/10\n",
            "240/240 [==============================] - 13s 54ms/step - loss: 1.6109 - accuracy: 0.4060 - recall: 0.1642 - specificity: 0.9873 - f1_score: 0.2518 - val_loss: 1.6752 - val_accuracy: 0.3853 - val_recall: 0.1540 - val_specificity: 0.9886 - val_f1_score: 0.2404\n",
            "Epoch 9/10\n",
            "240/240 [==============================] - 13s 54ms/step - loss: 1.5731 - accuracy: 0.4167 - recall: 0.1897 - specificity: 0.9863 - f1_score: 0.2837 - val_loss: 1.6499 - val_accuracy: 0.3983 - val_recall: 0.1755 - val_specificity: 0.9856 - val_f1_score: 0.2639\n",
            "Epoch 10/10\n",
            "240/240 [==============================] - 13s 54ms/step - loss: 1.5400 - accuracy: 0.4288 - recall: 0.2120 - specificity: 0.9855 - f1_score: 0.3102 - val_loss: 1.7344 - val_accuracy: 0.3923 - val_recall: 0.1998 - val_specificity: 0.9803 - val_f1_score: 0.2864\n"
          ],
          "name": "stdout"
        },
        {
          "output_type": "execute_result",
          "data": {
            "text/plain": [
              "<tensorflow.python.keras.callbacks.History at 0x7fbdb5e7a828>"
            ]
          },
          "metadata": {
            "tags": []
          },
          "execution_count": 49
        }
      ]
    },
    {
      "cell_type": "markdown",
      "metadata": {
        "id": "vPZChoED1An_"
      },
      "source": [
        "###### Skenario $3.3.4.$ ($\\text{learning_rate} = 0.005$)"
      ]
    },
    {
      "cell_type": "code",
      "metadata": {
        "id": "SvPgU0-Z1dTI",
        "outputId": "c33e6f42-2670-4a9c-d141-bce7e3acb4bb",
        "colab": {
          "base_uri": "https://localhost:8080/",
          "height": 394
        }
      },
      "source": [
        "convolutional_model = create_model(0.005)\n",
        "convolutional_model.fit(x_train, y_train, epochs=10, batch_size=25, validation_data=(x_test, y_test), use_multiprocessing=True, callbacks=[es])"
      ],
      "execution_count": 50,
      "outputs": [
        {
          "output_type": "stream",
          "text": [
            "Epoch 1/10\n",
            "240/240 [==============================] - 13s 56ms/step - loss: 1.8990 - accuracy: 0.3000 - recall: 0.0685 - specificity: 0.9936 - f1_score: 0.1129 - val_loss: 1.8486 - val_accuracy: 0.3392 - val_recall: 0.1248 - val_specificity: 0.9874 - val_f1_score: 0.1968\n",
            "Epoch 2/10\n",
            "240/240 [==============================] - 13s 54ms/step - loss: 1.5614 - accuracy: 0.4267 - recall: 0.1868 - specificity: 0.9878 - f1_score: 0.2817 - val_loss: 1.4597 - val_accuracy: 0.4658 - val_recall: 0.2370 - val_specificity: 0.9878 - val_f1_score: 0.3476\n",
            "Epoch 3/10\n",
            "240/240 [==============================] - 13s 55ms/step - loss: 1.3911 - accuracy: 0.4950 - recall: 0.2942 - specificity: 0.9848 - f1_score: 0.4057 - val_loss: 1.4733 - val_accuracy: 0.4647 - val_recall: 0.2260 - val_specificity: 0.9886 - val_f1_score: 0.3342\n",
            "Epoch 4/10\n",
            "240/240 [==============================] - 13s 55ms/step - loss: 1.2466 - accuracy: 0.5518 - recall: 0.3672 - specificity: 0.9838 - f1_score: 0.4800 - val_loss: 1.3246 - val_accuracy: 0.5178 - val_recall: 0.3612 - val_specificity: 0.9810 - val_f1_score: 0.4680\n",
            "Epoch 5/10\n",
            "240/240 [==============================] - 13s 55ms/step - loss: 1.1249 - accuracy: 0.5883 - recall: 0.4387 - specificity: 0.9814 - f1_score: 0.5417 - val_loss: 1.4056 - val_accuracy: 0.5145 - val_recall: 0.3533 - val_specificity: 0.9804 - val_f1_score: 0.4587\n",
            "Epoch 6/10\n",
            "240/240 [==============================] - 13s 55ms/step - loss: 1.0220 - accuracy: 0.6358 - recall: 0.5040 - specificity: 0.9823 - f1_score: 0.6021 - val_loss: 1.4389 - val_accuracy: 0.5120 - val_recall: 0.3523 - val_specificity: 0.9792 - val_f1_score: 0.4547\n",
            "Epoch 7/10\n",
            "240/240 [==============================] - 13s 56ms/step - loss: 0.9161 - accuracy: 0.6663 - recall: 0.5603 - specificity: 0.9812 - f1_score: 0.6458 - val_loss: 1.4298 - val_accuracy: 0.5303 - val_recall: 0.4303 - val_specificity: 0.9733 - val_f1_score: 0.5126\n",
            "Epoch 8/10\n",
            "240/240 [==============================] - 13s 55ms/step - loss: 0.7857 - accuracy: 0.7153 - recall: 0.6328 - specificity: 0.9827 - f1_score: 0.7054 - val_loss: 1.5989 - val_accuracy: 0.5345 - val_recall: 0.4695 - val_specificity: 0.9675 - val_f1_score: 0.5311\n",
            "Epoch 9/10\n",
            "240/240 [==============================] - 13s 55ms/step - loss: 0.7466 - accuracy: 0.7290 - recall: 0.6538 - specificity: 0.9827 - f1_score: 0.7207 - val_loss: 1.7311 - val_accuracy: 0.5175 - val_recall: 0.4533 - val_specificity: 0.9631 - val_f1_score: 0.5068\n",
            "Epoch 10/10\n",
            "240/240 [==============================] - 13s 55ms/step - loss: 0.6457 - accuracy: 0.7667 - recall: 0.7032 - specificity: 0.9836 - f1_score: 0.7585 - val_loss: 1.7676 - val_accuracy: 0.5328 - val_recall: 0.4800 - val_specificity: 0.9626 - val_f1_score: 0.5269\n"
          ],
          "name": "stdout"
        },
        {
          "output_type": "execute_result",
          "data": {
            "text/plain": [
              "<tensorflow.python.keras.callbacks.History at 0x7fbdb14466d8>"
            ]
          },
          "metadata": {
            "tags": []
          },
          "execution_count": 50
        }
      ]
    },
    {
      "cell_type": "markdown",
      "metadata": {
        "id": "wJr_rlhB1JGh"
      },
      "source": [
        "###### Skenario $3.3.5.$ ($\\text{learning_rate} = 0.001$)"
      ]
    },
    {
      "cell_type": "code",
      "metadata": {
        "id": "KFwKZqUP1fBz",
        "outputId": "b0e9f7cd-6e04-4fc4-b29e-d6b85216ad48",
        "colab": {
          "base_uri": "https://localhost:8080/",
          "height": 394
        }
      },
      "source": [
        "convolutional_model = create_model(0.001)\n",
        "convolutional_model.fit(x_train, y_train, epochs=10, batch_size=25, validation_data=(x_test, y_test), use_multiprocessing=True, callbacks=[es])"
      ],
      "execution_count": 51,
      "outputs": [
        {
          "output_type": "stream",
          "text": [
            "Epoch 1/10\n",
            "240/240 [==============================] - 14s 57ms/step - loss: 1.9003 - accuracy: 0.3135 - recall: 0.0530 - specificity: 0.9954 - f1_score: 0.0896 - val_loss: 1.5627 - val_accuracy: 0.4433 - val_recall: 0.1543 - val_specificity: 0.9922 - val_f1_score: 0.2471\n",
            "Epoch 2/10\n",
            "240/240 [==============================] - 13s 56ms/step - loss: 1.4942 - accuracy: 0.4638 - recall: 0.2152 - specificity: 0.9879 - f1_score: 0.3158 - val_loss: 1.3667 - val_accuracy: 0.5140 - val_recall: 0.2950 - val_specificity: 0.9850 - val_f1_score: 0.4079\n",
            "Epoch 3/10\n",
            "240/240 [==============================] - 14s 57ms/step - loss: 1.2846 - accuracy: 0.5412 - recall: 0.3392 - specificity: 0.9853 - f1_score: 0.4551 - val_loss: 1.3574 - val_accuracy: 0.5238 - val_recall: 0.3005 - val_specificity: 0.9853 - val_f1_score: 0.4160\n",
            "Epoch 4/10\n",
            "240/240 [==============================] - 14s 59ms/step - loss: 1.1126 - accuracy: 0.6093 - recall: 0.4360 - specificity: 0.9843 - f1_score: 0.5487 - val_loss: 1.3032 - val_accuracy: 0.5502 - val_recall: 0.4108 - val_specificity: 0.9762 - val_f1_score: 0.5025\n",
            "Epoch 5/10\n",
            "240/240 [==============================] - 14s 57ms/step - loss: 0.9477 - accuracy: 0.6717 - recall: 0.5347 - specificity: 0.9845 - f1_score: 0.6358 - val_loss: 1.3036 - val_accuracy: 0.5573 - val_recall: 0.4283 - val_specificity: 0.9770 - val_f1_score: 0.5216\n",
            "Epoch 6/10\n",
            "240/240 [==============================] - 14s 57ms/step - loss: 0.8032 - accuracy: 0.7210 - recall: 0.6117 - specificity: 0.9847 - f1_score: 0.6972 - val_loss: 1.3265 - val_accuracy: 0.5385 - val_recall: 0.4368 - val_specificity: 0.9706 - val_f1_score: 0.5120\n",
            "Epoch 7/10\n",
            "240/240 [==============================] - 14s 57ms/step - loss: 0.6594 - accuracy: 0.7712 - recall: 0.6852 - specificity: 0.9864 - f1_score: 0.7566 - val_loss: 1.3140 - val_accuracy: 0.5663 - val_recall: 0.4812 - val_specificity: 0.9713 - val_f1_score: 0.5508\n",
            "Epoch 8/10\n",
            "240/240 [==============================] - 14s 57ms/step - loss: 0.5355 - accuracy: 0.8137 - recall: 0.7492 - specificity: 0.9875 - f1_score: 0.8034 - val_loss: 1.3477 - val_accuracy: 0.5773 - val_recall: 0.5057 - val_specificity: 0.9694 - val_f1_score: 0.5664\n",
            "Epoch 9/10\n",
            "240/240 [==============================] - 14s 57ms/step - loss: 0.4157 - accuracy: 0.8560 - recall: 0.8118 - specificity: 0.9901 - f1_score: 0.8529 - val_loss: 1.5420 - val_accuracy: 0.5630 - val_recall: 0.5123 - val_specificity: 0.9648 - val_f1_score: 0.5588\n",
            "Epoch 10/10\n",
            "240/240 [==============================] - 14s 57ms/step - loss: 0.3130 - accuracy: 0.8933 - recall: 0.8600 - specificity: 0.9922 - f1_score: 0.8907 - val_loss: 1.6488 - val_accuracy: 0.5732 - val_recall: 0.5333 - val_specificity: 0.9622 - val_f1_score: 0.5684\n"
          ],
          "name": "stdout"
        },
        {
          "output_type": "execute_result",
          "data": {
            "text/plain": [
              "<tensorflow.python.keras.callbacks.History at 0x7fbdaf195588>"
            ]
          },
          "metadata": {
            "tags": []
          },
          "execution_count": 51
        }
      ]
    },
    {
      "cell_type": "markdown",
      "metadata": {
        "id": "eNWcw6jIuAx9"
      },
      "source": [
        "###### Kesimpulan Skenario $3.3.$"
      ]
    },
    {
      "cell_type": "markdown",
      "metadata": {
        "id": "yD3FdlZ8nCGT"
      },
      "source": [
        "Berdasarkan hasil dari skenario $3.3.1$, $3.3.2$, $3.3.3$, $3.3.4$, dan $3.3.5$, skenario $3.3.5$ menghasilkan akurasi yang palin baik. Dengan demikian $\\text{learning_rate}$ optimal dari skenario-skenario tersebut adalah $\\text{learning_rate}$ dari skenario $3.3.5$, yaitu $0.001$."
      ]
    },
    {
      "cell_type": "markdown",
      "metadata": {
        "id": "W0ojZluBUfi6"
      },
      "source": [
        "#### 4.\n",
        "Simpan _checkpoint_ dari tiap _interval_ $\\text{epoch}$ dan model final dari proses training dari model $\\text{Convolutional Neural Network}$ dengan parameter optimal yang diperoleh dari skenario agar bisa digunakan kembali untuk proses training selanjutnya."
      ]
    },
    {
      "cell_type": "code",
      "metadata": {
        "id": "0pzItHWEz1u0",
        "outputId": "1dddbefe-771f-43bb-b0cd-27c1d729c5ca",
        "colab": {
          "base_uri": "https://localhost:8080/",
          "height": 734
        }
      },
      "source": [
        "checkpoint = ModelCheckpoint(\"checkpoint_model.h5\", monitor='loss', verbose=1, mode='auto', period=1)\n",
        "final_convolutional_model = create_model(0.001)\n",
        "history = final_convolutional_model.fit(x_train, y_train, epochs=10, batch_size=25, validation_data=(x_test, y_test), use_multiprocessing=True, callbacks=[es, checkpoint])"
      ],
      "execution_count": 79,
      "outputs": [
        {
          "output_type": "stream",
          "text": [
            "WARNING:tensorflow:`period` argument is deprecated. Please use `save_freq` to specify the frequency in number of batches seen.\n",
            "Epoch 1/10\n",
            "240/240 [==============================] - ETA: 0s - loss: 1.9211 - accuracy: 0.3053 - recall: 0.0555 - specificity: 0.9960 - f1_score: 0.0931\n",
            "Epoch 00001: saving model to checkpoint_model.h5\n",
            "240/240 [==============================] - 14s 57ms/step - loss: 1.9211 - accuracy: 0.3053 - recall: 0.0555 - specificity: 0.9960 - f1_score: 0.0931 - val_loss: 1.6250 - val_accuracy: 0.4255 - val_recall: 0.1500 - val_specificity: 0.9914 - val_f1_score: 0.2391\n",
            "Epoch 2/10\n",
            "240/240 [==============================] - ETA: 0s - loss: 1.5253 - accuracy: 0.4562 - recall: 0.2052 - specificity: 0.9882 - f1_score: 0.3058\n",
            "Epoch 00002: saving model to checkpoint_model.h5\n",
            "240/240 [==============================] - 13s 56ms/step - loss: 1.5253 - accuracy: 0.4562 - recall: 0.2052 - specificity: 0.9882 - f1_score: 0.3058 - val_loss: 1.4066 - val_accuracy: 0.4947 - val_recall: 0.2673 - val_specificity: 0.9865 - val_f1_score: 0.3790\n",
            "Epoch 3/10\n",
            "240/240 [==============================] - ETA: 0s - loss: 1.2942 - accuracy: 0.5357 - recall: 0.3347 - specificity: 0.9850 - f1_score: 0.4503\n",
            "Epoch 00003: saving model to checkpoint_model.h5\n",
            "240/240 [==============================] - 13s 56ms/step - loss: 1.2942 - accuracy: 0.5357 - recall: 0.3347 - specificity: 0.9850 - f1_score: 0.4503 - val_loss: 1.5120 - val_accuracy: 0.4557 - val_recall: 0.2723 - val_specificity: 0.9837 - val_f1_score: 0.3787\n",
            "Epoch 4/10\n",
            "240/240 [==============================] - ETA: 0s - loss: 1.1231 - accuracy: 0.6112 - recall: 0.4298 - specificity: 0.9856 - f1_score: 0.5480\n",
            "Epoch 00004: saving model to checkpoint_model.h5\n",
            "240/240 [==============================] - 13s 56ms/step - loss: 1.1231 - accuracy: 0.6112 - recall: 0.4298 - specificity: 0.9856 - f1_score: 0.5480 - val_loss: 1.2174 - val_accuracy: 0.5795 - val_recall: 0.4208 - val_specificity: 0.9809 - val_f1_score: 0.5247\n",
            "Epoch 5/10\n",
            "240/240 [==============================] - ETA: 0s - loss: 0.9610 - accuracy: 0.6643 - recall: 0.5208 - specificity: 0.9843 - f1_score: 0.6236\n",
            "Epoch 00005: saving model to checkpoint_model.h5\n",
            "240/240 [==============================] - 13s 56ms/step - loss: 0.9610 - accuracy: 0.6643 - recall: 0.5208 - specificity: 0.9843 - f1_score: 0.6236 - val_loss: 1.2198 - val_accuracy: 0.5810 - val_recall: 0.4260 - val_specificity: 0.9802 - val_f1_score: 0.5284\n",
            "Epoch 6/10\n",
            "239/240 [============================>.] - ETA: 0s - loss: 0.8016 - accuracy: 0.7255 - recall: 0.6132 - specificity: 0.9863 - f1_score: 0.7030\n",
            "Epoch 00006: saving model to checkpoint_model.h5\n",
            "240/240 [==============================] - 13s 56ms/step - loss: 0.8015 - accuracy: 0.7258 - recall: 0.6135 - specificity: 0.9863 - f1_score: 0.7033 - val_loss: 1.2304 - val_accuracy: 0.5750 - val_recall: 0.4573 - val_specificity: 0.9756 - val_f1_score: 0.5423\n",
            "Epoch 7/10\n",
            "240/240 [==============================] - ETA: 0s - loss: 0.6804 - accuracy: 0.7627 - recall: 0.6783 - specificity: 0.9863 - f1_score: 0.7517\n",
            "Epoch 00007: saving model to checkpoint_model.h5\n",
            "240/240 [==============================] - 13s 56ms/step - loss: 0.6804 - accuracy: 0.7627 - recall: 0.6783 - specificity: 0.9863 - f1_score: 0.7517 - val_loss: 1.2963 - val_accuracy: 0.5690 - val_recall: 0.4782 - val_specificity: 0.9716 - val_f1_score: 0.5496\n",
            "Epoch 8/10\n",
            "240/240 [==============================] - ETA: 0s - loss: 0.5359 - accuracy: 0.8173 - recall: 0.7458 - specificity: 0.9887 - f1_score: 0.8057\n",
            "Epoch 00008: saving model to checkpoint_model.h5\n",
            "240/240 [==============================] - 13s 56ms/step - loss: 0.5359 - accuracy: 0.8173 - recall: 0.7458 - specificity: 0.9887 - f1_score: 0.8057 - val_loss: 1.3401 - val_accuracy: 0.5867 - val_recall: 0.5243 - val_specificity: 0.9688 - val_f1_score: 0.5794\n",
            "Epoch 9/10\n",
            "240/240 [==============================] - ETA: 0s - loss: 0.4038 - accuracy: 0.8630 - recall: 0.8158 - specificity: 0.9910 - f1_score: 0.8589\n",
            "Epoch 00009: saving model to checkpoint_model.h5\n",
            "240/240 [==============================] - 13s 56ms/step - loss: 0.4038 - accuracy: 0.8630 - recall: 0.8158 - specificity: 0.9910 - f1_score: 0.8589 - val_loss: 1.4833 - val_accuracy: 0.5757 - val_recall: 0.5255 - val_specificity: 0.9657 - val_f1_score: 0.5715\n",
            "Epoch 10/10\n",
            "240/240 [==============================] - ETA: 0s - loss: 0.3042 - accuracy: 0.9033 - recall: 0.8700 - specificity: 0.9928 - f1_score: 0.8989\n",
            "Epoch 00010: saving model to checkpoint_model.h5\n",
            "240/240 [==============================] - 14s 57ms/step - loss: 0.3042 - accuracy: 0.9033 - recall: 0.8700 - specificity: 0.9928 - f1_score: 0.8989 - val_loss: 1.4995 - val_accuracy: 0.5888 - val_recall: 0.5490 - val_specificity: 0.9642 - val_f1_score: 0.5862\n"
          ],
          "name": "stdout"
        }
      ]
    },
    {
      "cell_type": "markdown",
      "metadata": {
        "id": "aMDf4PtWnpEC"
      },
      "source": [
        "#### 5.\n",
        "Visualisasikan _error_ dari proses training yang diperoleh dari tiap $\\text{epoch}$ dan tampilkan matrik evaluasi ($\\text{accuration}$, $\\text{sensitivity}$, $\\text{specifity}$, dan $f_{1} \\text{ score}$) dari data test."
      ]
    },
    {
      "cell_type": "code",
      "metadata": {
        "id": "t8_a1m38nl8e",
        "outputId": "21e19d45-cc48-46c9-ecef-7a03bc5b5cf5",
        "colab": {
          "base_uri": "https://localhost:8080/",
          "height": 80
        }
      },
      "source": [
        "predict_and_get_metrics(final_convolutional_model, x_test, y_test, label='Data Test')"
      ],
      "execution_count": 80,
      "outputs": [
        {
          "output_type": "execute_result",
          "data": {
            "text/html": [
              "<div>\n",
              "<style scoped>\n",
              "    .dataframe tbody tr th:only-of-type {\n",
              "        vertical-align: middle;\n",
              "    }\n",
              "\n",
              "    .dataframe tbody tr th {\n",
              "        vertical-align: top;\n",
              "    }\n",
              "\n",
              "    .dataframe thead th {\n",
              "        text-align: right;\n",
              "    }\n",
              "</style>\n",
              "<table border=\"1\" class=\"dataframe\">\n",
              "  <thead>\n",
              "    <tr style=\"text-align: right;\">\n",
              "      <th></th>\n",
              "      <th>Accuracy</th>\n",
              "      <th>Sensitivity</th>\n",
              "      <th>Specificity</th>\n",
              "      <th>F1 Score</th>\n",
              "    </tr>\n",
              "  </thead>\n",
              "  <tbody>\n",
              "    <tr>\n",
              "      <th>Data Test</th>\n",
              "      <td>0.58875</td>\n",
              "      <td>0.549</td>\n",
              "      <td>0.964222</td>\n",
              "      <td>0.586301</td>\n",
              "    </tr>\n",
              "  </tbody>\n",
              "</table>\n",
              "</div>"
            ],
            "text/plain": [
              "           Accuracy  Sensitivity  Specificity  F1 Score\n",
              "Data Test   0.58875        0.549     0.964222  0.586301"
            ]
          },
          "metadata": {
            "tags": []
          },
          "execution_count": 80
        }
      ]
    },
    {
      "cell_type": "code",
      "metadata": {
        "id": "ieBJk0MzAdcb",
        "outputId": "54633b07-5519-4a93-ebc1-bb1438c1c665",
        "colab": {
          "base_uri": "https://localhost:8080/",
          "height": 281
        }
      },
      "source": [
        "# plot training history\n",
        "plt.plot(history.history['loss'], label='train')\n",
        "plt.plot(history.history['val_loss'], label='test')\n",
        "plt.title('History Plot Error untuk Optimum Parameter Model')\n",
        "plt.legend()\n",
        "plt.show()"
      ],
      "execution_count": 82,
      "outputs": [
        {
          "output_type": "display_data",
          "data": {
            "image/png": "[encoded data removed]",
            "text/plain": [
              "<Figure size 432x288 with 1 Axes>"
            ]
          },
          "metadata": {
            "tags": [],
            "needs_background": "light"
          }
        }
      ]
    },
    {
      "cell_type": "markdown",
      "metadata": {
        "id": "yX94vmVUx2qi"
      },
      "source": [
        "#### 6.\n",
        "Gunakan _pre-trained_ model yg telah dibuat tersebut untuk diimplementasikan pada dataset $\\text{CIFAR 100}$ untuk kelas $1$ hingga kelas $10$ (masing-masing kelas terdiri dari\n",
        "$100$ citra) dengan rasio _data train_ dan _data test_ sebanyak $60\\% : 40\\%$. Kemudian hitung matrik evaluasi ($\\text{accuration}$, $\\text{sensitivity}$, $\\text{specifity}$, dan $f_{1}\\text{ score}$) dari _data train_ dan _data test_."
      ]
    },
    {
      "cell_type": "markdown",
      "metadata": {
        "id": "GQgmi0nUzkJM"
      },
      "source": [
        "##### Load Data CIFAR 100"
      ]
    },
    {
      "cell_type": "code",
      "metadata": {
        "id": "SE-tc_jToB0v",
        "outputId": "08d63d80-bb0f-48ec-ea5c-749fa7d5b56f",
        "colab": {
          "base_uri": "https://localhost:8080/",
          "height": 68
        }
      },
      "source": [
        "x_100, y_100 = load_dataset_cifar100()\n",
        "x_100.shape"
      ],
      "execution_count": 59,
      "outputs": [
        {
          "output_type": "stream",
          "text": [
            "Downloading data from https://www.cs.toronto.edu/~kriz/cifar-100-python.tar.gz\n",
            "169009152/169001437 [==============================] - 4s 0us/step\n"
          ],
          "name": "stdout"
        },
        {
          "output_type": "execute_result",
          "data": {
            "text/plain": [
              "(60000, 32, 32, 3)"
            ]
          },
          "metadata": {
            "tags": []
          },
          "execution_count": 59
        }
      ]
    },
    {
      "cell_type": "markdown",
      "metadata": {
        "id": "if9E1bWMz0A5"
      },
      "source": [
        "##### Mengambil Dataset Sebanyak 100 Per Kelasnya"
      ]
    },
    {
      "cell_type": "code",
      "metadata": {
        "id": "3s7Ne_JXzpra"
      },
      "source": [
        "idx_sample_100 = np.array([],dtype=int)\n",
        "\n",
        "for i in range(10):\n",
        "    idx = (y == i).reshape(x.shape[0])\n",
        "    idx_data = np.where(idx == True)\n",
        "    sampled_list = np.random.choice(idx_data[0], size=100, replace=False)\n",
        "    idx_sample_100 = np.concatenate((idx_sample_100, sampled_list), axis=0)"
      ],
      "execution_count": 60,
      "outputs": []
    },
    {
      "cell_type": "markdown",
      "metadata": {
        "id": "Q8oHYb840RIb"
      },
      "source": [
        "##### Melakukan Validasi Apakah Shape-nya Sudah Valid atau Belum"
      ]
    },
    {
      "cell_type": "code",
      "metadata": {
        "id": "5RLLMzSMz9ng",
        "outputId": "1b97772f-edc5-4746-f055-3a5926f8d44b",
        "colab": {
          "base_uri": "https://localhost:8080/",
          "height": 34
        }
      },
      "source": [
        "x_sample_100 = x[idx_sample_100]\n",
        "y_sample_100 = y[idx_sample_100]\n",
        "x_sample_100.shape, y_sample_100.shape"
      ],
      "execution_count": 61,
      "outputs": [
        {
          "output_type": "execute_result",
          "data": {
            "text/plain": [
              "((1000, 32, 32, 3), (1000, 1))"
            ]
          },
          "metadata": {
            "tags": []
          },
          "execution_count": 61
        }
      ]
    },
    {
      "cell_type": "markdown",
      "metadata": {
        "id": "ObThLqAm0fT6"
      },
      "source": [
        "##### Melakukan Normalisasi untuk $x$"
      ]
    },
    {
      "cell_type": "code",
      "metadata": {
        "id": "r3PzFC-U0XJX"
      },
      "source": [
        "x_sample_100 = normalize(x_sample_100)"
      ],
      "execution_count": 62,
      "outputs": []
    },
    {
      "cell_type": "markdown",
      "metadata": {
        "id": "wSUze6Hn0jIj"
      },
      "source": [
        "##### Merubah Menjadi Matrix Binary untuk $y$"
      ]
    },
    {
      "cell_type": "code",
      "metadata": {
        "id": "0lUkOWj_0oA-"
      },
      "source": [
        "y_sample_100 = tf.keras.utils.to_categorical(y_sample_100)"
      ],
      "execution_count": 63,
      "outputs": []
    },
    {
      "cell_type": "markdown",
      "metadata": {
        "id": "svmZMqY60t0T"
      },
      "source": [
        "##### Memecah Menjadi 60 : 40 ~ Train : Test"
      ]
    },
    {
      "cell_type": "code",
      "metadata": {
        "id": "mSsfU27X0tAT"
      },
      "source": [
        "x_train_100, x_test_100, y_train_100, y_test_100 = train_test_split(x_sample_100, y_sample_100, test_size=0.4)"
      ],
      "execution_count": 65,
      "outputs": []
    },
    {
      "cell_type": "markdown",
      "metadata": {
        "id": "NjI-gw5g2G7F"
      },
      "source": [
        "##### Melakukan Evaluasi Pre-Trained Model dari Train Sebelumnya"
      ]
    },
    {
      "cell_type": "code",
      "metadata": {
        "id": "JZ28E1dZ027O",
        "outputId": "107d5308-cc9b-4c85-e414-6720a9b63357",
        "colab": {
          "base_uri": "https://localhost:8080/",
          "height": 111
        }
      },
      "source": [
        "pre_trained_model = load_model('checkpoint_model.h5', compile=True, custom_objects={\n",
        "    \"recall\": recall,\n",
        "    \"specificity\": specificity,\n",
        "    \"f1_score\": f1_score\n",
        "})\n",
        "compare_train_and_test(pre_trained_model, x_train_100, y_train_100, x_test_100, y_test_100)"
      ],
      "execution_count": 78,
      "outputs": [
        {
          "output_type": "execute_result",
          "data": {
            "text/html": [
              "<div>\n",
              "<style scoped>\n",
              "    .dataframe tbody tr th:only-of-type {\n",
              "        vertical-align: middle;\n",
              "    }\n",
              "\n",
              "    .dataframe tbody tr th {\n",
              "        vertical-align: top;\n",
              "    }\n",
              "\n",
              "    .dataframe thead th {\n",
              "        text-align: right;\n",
              "    }\n",
              "</style>\n",
              "<table border=\"1\" class=\"dataframe\">\n",
              "  <thead>\n",
              "    <tr style=\"text-align: right;\">\n",
              "      <th></th>\n",
              "      <th>Accuracy</th>\n",
              "      <th>Sensitivity</th>\n",
              "      <th>Specificity</th>\n",
              "      <th>F1 Score</th>\n",
              "    </tr>\n",
              "  </thead>\n",
              "  <tbody>\n",
              "    <tr>\n",
              "      <th>Data Train</th>\n",
              "      <td>0.611667</td>\n",
              "      <td>0.554825</td>\n",
              "      <td>0.969359</td>\n",
              "      <td>0.605818</td>\n",
              "    </tr>\n",
              "    <tr>\n",
              "      <th>Data Test</th>\n",
              "      <td>0.637500</td>\n",
              "      <td>0.591346</td>\n",
              "      <td>0.972222</td>\n",
              "      <td>0.640660</td>\n",
              "    </tr>\n",
              "  </tbody>\n",
              "</table>\n",
              "</div>"
            ],
            "text/plain": [
              "             Accuracy  Sensitivity  Specificity  F1 Score\n",
              "Data Train   0.611667     0.554825     0.969359  0.605818\n",
              "Data Test    0.637500     0.591346     0.972222  0.640660"
            ]
          },
          "metadata": {
            "tags": []
          },
          "execution_count": 78
        }
      ]
    },
    {
      "cell_type": "markdown",
      "metadata": {
        "id": "boydKZeV_VaB"
      },
      "source": [
        "#### 7.\n",
        "Buat arsitektur $\\text{Convolutional Neural Network}$ yang baru dengan menggunakan semua _hidden layer pre-trained_ dari model sebelumnya, lakukan _freezing_ pada semua _hidden layer_ tersebut, lalu ganti _layer output_ $\\text{softmax}$ dengan layer baru."
      ]
    },
    {
      "cell_type": "code",
      "metadata": {
        "id": "kZnk38km2WoL"
      },
      "source": [
        "## Fungsi untuk melakukan freeze pada layer\n",
        "def make_freeze(layer):\n",
        "    layer.trainable = False\n",
        "    return layer\n",
        "\n",
        "## Melakukan copy untuk semua layer\n",
        "copy_layers = [make_freeze(layer) for layer in pre_trained_model.layers]\n",
        "\n",
        "## Me-replace ouput layer dengan layer baru yang trainable\n",
        "copy_layers[-1] = Dense(10, activation=tf.nn.softmax)\n",
        "\n",
        "## Membangun Model\n",
        "new_cnn_model = create_model(0.001, copy_layers)"
      ],
      "execution_count": 92,
      "outputs": []
    },
    {
      "cell_type": "markdown",
      "metadata": {
        "id": "eLMCF_C8Zly4"
      },
      "source": [
        "#### 8.\n",
        "Implementasikan model poin $(7)$ pada dataset $\\text{CIFAR 100}$ untuk kelas $1$ hingga kelas $10$ dengan rasio _data train_ dan _data test_ sebanyak $60\\% : 40\\%$. Kemudian hitung matrik evaluasi ($\\text{accuration}$, $\\text{sensitivity}$, $\\text{specificity}$, dan $f_{1}\\text{ score}$) dari _data train_ dan _data test_."
      ]
    },
    {
      "cell_type": "markdown",
      "metadata": {
        "id": "umCu24Z9bhrA"
      },
      "source": [
        "##### Melakukan Train pada Model CNN Baru"
      ]
    },
    {
      "cell_type": "code",
      "metadata": {
        "id": "f2T7c_G3WoQN",
        "outputId": "540c22b7-a2a8-4d2b-f147-b875d7ef5557",
        "colab": {
          "base_uri": "https://localhost:8080/",
          "height": 734
        }
      },
      "source": [
        "checkpoint = ModelCheckpoint(\"checkpoint_new_cnn_model.h5\", monitor='loss', verbose=1, mode='auto', period=1)\n",
        "new_cnn_model_history = new_cnn_model.fit(x_train_100, y_train_100, epochs=10, batch_size=25, validation_data=(x_test_100, y_test_100), use_multiprocessing=True, callbacks=[es, checkpoint])"
      ],
      "execution_count": 93,
      "outputs": [
        {
          "output_type": "stream",
          "text": [
            "WARNING:tensorflow:`period` argument is deprecated. Please use `save_freq` to specify the frequency in number of batches seen.\n",
            "Epoch 1/10\n",
            "23/24 [===========================>..] - ETA: 0s - loss: 4.0587 - accuracy: 0.0626 - recall: 0.0261 - specificity: 0.9358 - f1_score: 0.0325\n",
            "Epoch 00001: saving model to checkpoint_new_cnn_model.h5\n",
            "24/24 [==============================] - 1s 37ms/step - loss: 4.0264 - accuracy: 0.0717 - recall: 0.0300 - specificity: 0.9376 - f1_score: 0.0388 - val_loss: 3.4928 - val_accuracy: 0.0750 - val_recall: 0.0175 - val_specificity: 0.9536 - val_f1_score: 0.0239\n",
            "Epoch 2/10\n",
            "24/24 [==============================] - ETA: 0s - loss: 3.0061 - accuracy: 0.1350 - recall: 0.0417 - specificity: 0.9680 - f1_score: 0.0628\n",
            "Epoch 00002: saving model to checkpoint_new_cnn_model.h5\n",
            "24/24 [==============================] - 1s 27ms/step - loss: 3.0061 - accuracy: 0.1350 - recall: 0.0417 - specificity: 0.9680 - f1_score: 0.0628 - val_loss: 2.8454 - val_accuracy: 0.1700 - val_recall: 0.0350 - val_specificity: 0.9736 - val_f1_score: 0.0543\n",
            "Epoch 3/10\n",
            "22/24 [==========================>...] - ETA: 0s - loss: 2.5487 - accuracy: 0.1927 - recall: 0.0655 - specificity: 0.9780 - f1_score: 0.1022\n",
            "Epoch 00003: saving model to checkpoint_new_cnn_model.h5\n",
            "24/24 [==============================] - 1s 28ms/step - loss: 2.5231 - accuracy: 0.2017 - recall: 0.0683 - specificity: 0.9791 - f1_score: 0.1078 - val_loss: 2.4509 - val_accuracy: 0.2625 - val_recall: 0.0875 - val_specificity: 0.9808 - val_f1_score: 0.1347\n",
            "Epoch 4/10\n",
            "23/24 [===========================>..] - ETA: 0s - loss: 2.2080 - accuracy: 0.2765 - recall: 0.0974 - specificity: 0.9807 - f1_score: 0.1528\n",
            "Epoch 00004: saving model to checkpoint_new_cnn_model.h5\n",
            "24/24 [==============================] - 1s 27ms/step - loss: 2.2125 - accuracy: 0.2717 - recall: 0.0950 - specificity: 0.9811 - f1_score: 0.1494 - val_loss: 2.1919 - val_accuracy: 0.2900 - val_recall: 0.1200 - val_specificity: 0.9817 - val_f1_score: 0.1822\n",
            "Epoch 5/10\n",
            "22/24 [==========================>...] - ETA: 0s - loss: 2.0121 - accuracy: 0.3073 - recall: 0.1200 - specificity: 0.9810 - f1_score: 0.1854\n",
            "Epoch 00005: saving model to checkpoint_new_cnn_model.h5\n",
            "24/24 [==============================] - 1s 27ms/step - loss: 1.9910 - accuracy: 0.3117 - recall: 0.1250 - specificity: 0.9811 - f1_score: 0.1925 - val_loss: 1.9798 - val_accuracy: 0.3425 - val_recall: 0.1425 - val_specificity: 0.9808 - val_f1_score: 0.2124\n",
            "Epoch 6/10\n",
            "23/24 [===========================>..] - ETA: 0s - loss: 1.8081 - accuracy: 0.3635 - recall: 0.1426 - specificity: 0.9828 - f1_score: 0.2171\n",
            "Epoch 00006: saving model to checkpoint_new_cnn_model.h5\n",
            "24/24 [==============================] - 1s 27ms/step - loss: 1.8088 - accuracy: 0.3667 - recall: 0.1433 - specificity: 0.9833 - f1_score: 0.2192 - val_loss: 1.8133 - val_accuracy: 0.3725 - val_recall: 0.1600 - val_specificity: 0.9844 - val_f1_score: 0.2421\n",
            "Epoch 7/10\n",
            "24/24 [==============================] - ETA: 0s - loss: 1.6681 - accuracy: 0.3967 - recall: 0.1667 - specificity: 0.9841 - f1_score: 0.2521\n",
            "Epoch 00007: saving model to checkpoint_new_cnn_model.h5\n",
            "24/24 [==============================] - 1s 27ms/step - loss: 1.6681 - accuracy: 0.3967 - recall: 0.1667 - specificity: 0.9841 - f1_score: 0.2521 - val_loss: 1.6919 - val_accuracy: 0.4125 - val_recall: 0.1850 - val_specificity: 0.9858 - val_f1_score: 0.2769\n",
            "Epoch 8/10\n",
            "24/24 [==============================] - ETA: 0s - loss: 1.5634 - accuracy: 0.4450 - recall: 0.2033 - specificity: 0.9854 - f1_score: 0.2994\n",
            "Epoch 00008: saving model to checkpoint_new_cnn_model.h5\n",
            "24/24 [==============================] - 1s 27ms/step - loss: 1.5634 - accuracy: 0.4450 - recall: 0.2033 - specificity: 0.9854 - f1_score: 0.2994 - val_loss: 1.6054 - val_accuracy: 0.4425 - val_recall: 0.2075 - val_specificity: 0.9861 - val_f1_score: 0.3071\n",
            "Epoch 9/10\n",
            "23/24 [===========================>..] - ETA: 0s - loss: 1.4807 - accuracy: 0.4626 - recall: 0.2296 - specificity: 0.9849 - f1_score: 0.3308\n",
            "Epoch 00009: saving model to checkpoint_new_cnn_model.h5\n",
            "24/24 [==============================] - 1s 27ms/step - loss: 1.4823 - accuracy: 0.4650 - recall: 0.2283 - specificity: 0.9852 - f1_score: 0.3301 - val_loss: 1.5327 - val_accuracy: 0.4500 - val_recall: 0.2525 - val_specificity: 0.9864 - val_f1_score: 0.3630\n",
            "Epoch 10/10\n",
            "23/24 [===========================>..] - ETA: 0s - loss: 1.4152 - accuracy: 0.5009 - recall: 0.2504 - specificity: 0.9859 - f1_score: 0.3589\n",
            "Epoch 00010: saving model to checkpoint_new_cnn_model.h5\n",
            "24/24 [==============================] - 1s 27ms/step - loss: 1.4118 - accuracy: 0.5033 - recall: 0.2550 - specificity: 0.9859 - f1_score: 0.3642 - val_loss: 1.4790 - val_accuracy: 0.4775 - val_recall: 0.2775 - val_specificity: 0.9875 - val_f1_score: 0.3932\n"
          ],
          "name": "stdout"
        }
      ]
    },
    {
      "cell_type": "markdown",
      "metadata": {
        "id": "JG_xUITrbnWD"
      },
      "source": [
        "##### Menghitung Matrik Evaluasi Model CNN Baru"
      ]
    },
    {
      "cell_type": "code",
      "metadata": {
        "id": "HXuLuLshbO4b",
        "outputId": "c7985e4e-bd76-4b09-ef57-856241e6381a",
        "colab": {
          "base_uri": "https://localhost:8080/",
          "height": 111
        }
      },
      "source": [
        "compare_train_and_test(new_cnn_model, x_train_100, y_train_100, x_test_100, y_test_100)"
      ],
      "execution_count": 94,
      "outputs": [
        {
          "output_type": "execute_result",
          "data": {
            "text/html": [
              "<div>\n",
              "<style scoped>\n",
              "    .dataframe tbody tr th:only-of-type {\n",
              "        vertical-align: middle;\n",
              "    }\n",
              "\n",
              "    .dataframe tbody tr th {\n",
              "        vertical-align: top;\n",
              "    }\n",
              "\n",
              "    .dataframe thead th {\n",
              "        text-align: right;\n",
              "    }\n",
              "</style>\n",
              "<table border=\"1\" class=\"dataframe\">\n",
              "  <thead>\n",
              "    <tr style=\"text-align: right;\">\n",
              "      <th></th>\n",
              "      <th>Accuracy</th>\n",
              "      <th>Sensitivity</th>\n",
              "      <th>Specificity</th>\n",
              "      <th>F1 Score</th>\n",
              "    </tr>\n",
              "  </thead>\n",
              "  <tbody>\n",
              "    <tr>\n",
              "      <th>Data Train</th>\n",
              "      <td>0.5300</td>\n",
              "      <td>0.266996</td>\n",
              "      <td>0.985563</td>\n",
              "      <td>0.378527</td>\n",
              "    </tr>\n",
              "    <tr>\n",
              "      <th>Data Test</th>\n",
              "      <td>0.4775</td>\n",
              "      <td>0.274038</td>\n",
              "      <td>0.987179</td>\n",
              "      <td>0.391276</td>\n",
              "    </tr>\n",
              "  </tbody>\n",
              "</table>\n",
              "</div>"
            ],
            "text/plain": [
              "             Accuracy  Sensitivity  Specificity  F1 Score\n",
              "Data Train     0.5300     0.266996     0.985563  0.378527\n",
              "Data Test      0.4775     0.274038     0.987179  0.391276"
            ]
          },
          "metadata": {
            "tags": []
          },
          "execution_count": 94
        }
      ]
    },
    {
      "cell_type": "markdown",
      "metadata": {
        "id": "4_y3I48gcB_A"
      },
      "source": [
        "#### 9.\n",
        "Lalu lakukan _unfreeze_ pada satu _hidden layer_ ($\\text{conv-pool-actv}$) paling atas dan lakukan kembali proses training menggunakan deskripsi data yang sama dengan poin $(8)$. Bagaimana hasil yang diperoleh dari perubahan ini?"
      ]
    },
    {
      "cell_type": "markdown",
      "metadata": {
        "id": "vd2rljaicNzF"
      },
      "source": [
        ""
      ]
    },
    {
      "cell_type": "code",
      "metadata": {
        "id": "-5bB-T98b8zc"
      },
      "source": [
        ""
      ],
      "execution_count": null,
      "outputs": []
    }
  ]
}