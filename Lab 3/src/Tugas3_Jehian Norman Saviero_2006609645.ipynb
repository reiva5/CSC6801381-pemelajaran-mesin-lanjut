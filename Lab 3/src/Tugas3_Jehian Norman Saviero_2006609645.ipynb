{
  "nbformat": 4,
  "nbformat_minor": 0,
  "metadata": {
    "kernelspec": {
      "display_name": "Python 3",
      "language": "python",
      "name": "python3"
    },
    "language_info": {
      "codemirror_mode": {
        "name": "ipython",
        "version": 3
      },
      "file_extension": ".py",
      "mimetype": "text/x-python",
      "name": "python",
      "nbconvert_exporter": "python",
      "pygments_lexer": "ipython3",
      "version": "3.6.9"
    },
    "colab": {
      "name": "Tugas3_Jehian Norman Saviero_2006609645.ipynb",
      "provenance": []
    }
  },
  "cells": [
    {
      "cell_type": "code",
      "metadata": {
        "id": "Yd7Tu89UXts8"
      },
      "source": [
        "import numpy as np\n",
        "import matplotlib.pyplot as plt\n",
        "import pandas as pd\n",
        "import random\n",
        "import tensorflow as tf\n",
        "\n",
        "from sklearn.model_selection import train_test_split\n",
        "from skimage import color, exposure, filters, io, morphology, util\n",
        "from math import sqrt\n",
        "from numpy import loadtxt\n",
        "from tensorflow import keras\n",
        "from keras import backend as K\n",
        "from keras.callbacks import EarlyStopping, ModelCheckpoint\n",
        "from keras.models import Sequential, load_model\n",
        "from keras.layers import Conv2D, Dense, Dropout, Flatten, MaxPooling2D, Reshape\n",
        "from keras.optimizers import SGD"
      ],
      "execution_count": 1,
      "outputs": []
    },
    {
      "cell_type": "markdown",
      "metadata": {
        "id": "kVPkBzPOY3nD"
      },
      "source": [
        "### TRANSFER LEARNING"
      ]
    },
    {
      "cell_type": "markdown",
      "metadata": {
        "id": "-8f0GynyY9PB"
      },
      "source": [
        "#### 1.\n",
        "Bangun sebuah model $\\text{Convolutional Neural Network}$ dengan arsitektur dasar sebagai berikut :\n",
        "- Convolutional Layer ($25$ maps, kernel $3 \\times 3$)\n",
        "- Pooling Layer ($2 \\times 2$)\n",
        "- Activation Function ($\\text{ReLU function}$)\n",
        "- Convolutional Layer ($50$ maps, kernel $3 \\times 3$)\n",
        "- Pooling Layer ($2 \\times 2$)\n",
        "- Activation Function ($\\text{ReLU function}$)\n",
        "- Convolutional Layer ($100$ maps, kernel $3 \\times 3$)\n",
        "- Pooling Layer ($2 \\times 2$)\n",
        "- Activation Function ($\\text{ReLU function}$)\n",
        "- Hidden Layer ($100$ neuron)\n",
        "- Activation Function ($\\text{ReLU function}$)\n",
        "- Output Layer ($10$ kelas)\n",
        "- Activation Function ($\\text{Softmax function}$)\n",
        "- Classification Result\n",
        "\n",
        "Dengan tambahan beberapa seperti:\n",
        "- Adam optimization\n",
        "- Early Stop"
      ]
    },
    {
      "cell_type": "markdown",
      "metadata": {
        "id": "cRBOHdoNZwid"
      },
      "source": [
        "##### Mendefinisikan Fungsi Bantuan\n",
        "Untuk memudahkan implementasi, berikut beberapa fungsi bantuan yang akan dipakai"
      ]
    },
    {
      "cell_type": "markdown",
      "metadata": {
        "id": "Pu-1-wDXZ510"
      },
      "source": [
        "###### Menghitung $\\text{recall}$ atau $\\text{sensitivity}$\n",
        "$$\\text{recall} = \\frac{t_p}{t_p+t_n}$$"
      ]
    },
    {
      "cell_type": "code",
      "metadata": {
        "id": "73L3Si5GY8Bt"
      },
      "source": [
        "def recall(y_true, y_pred):\n",
        "    true_positives = K.sum(K.round(K.clip(y_true * y_pred, 0, 1)))\n",
        "    possible_positives = K.sum(K.round(K.clip(y_true, 0, 1)))\n",
        "    return true_positives / (possible_positives + K.epsilon())"
      ],
      "execution_count": 2,
      "outputs": []
    },
    {
      "cell_type": "markdown",
      "metadata": {
        "id": "vX56S8usaHok"
      },
      "source": [
        "###### Menghitung $\\text{precision}$\n",
        "$$\\text{precision} = \\frac{t_p}{t_p + f_p}$$"
      ]
    },
    {
      "cell_type": "code",
      "metadata": {
        "id": "b5R5nRHBaFxN"
      },
      "source": [
        "def precision(y_true, y_pred):\n",
        "    true_positives = K.sum(K.round(K.clip(y_true * y_pred, 0, 1)))\n",
        "    predicted_positives = K.sum(K.round(K.clip(y_pred, 0, 1)))\n",
        "    return true_positives / (predicted_positives + K.epsilon())"
      ],
      "execution_count": 3,
      "outputs": []
    },
    {
      "cell_type": "markdown",
      "metadata": {
        "id": "lSQF6ujjaR3u"
      },
      "source": [
        "###### Menghitung $\\text{specificity}$\n",
        "$$\\text{specificity} = \\frac{t_n}{t_n + f_p}$$"
      ]
    },
    {
      "cell_type": "code",
      "metadata": {
        "id": "HFNI1C0faMmF"
      },
      "source": [
        "def specificity(y_true, y_pred):\n",
        "    true_negatives = K.sum(K.round(K.clip((1 - y_true) * (1 - y_pred), 0, 1)))\n",
        "    possible_negatives = K.sum(K.round(K.clip(1 - y_true, 0, 1)))\n",
        "    return true_negatives / (possible_negatives + K.epsilon())"
      ],
      "execution_count": 4,
      "outputs": []
    },
    {
      "cell_type": "markdown",
      "metadata": {
        "id": "mTOySqnYaXMi"
      },
      "source": [
        "###### Menghitung $f_{1}\\text{ Score}$\n",
        "Kita tau bahwa\n",
        "$$f_{\\beta} = (1 + \\beta^{2}) \\cdot \\frac{\\text{precision} \\cdot \\text{recall}}{(\\beta^{2} \\cdot \\text{precision}) + \\text{recall}}$$\n",
        "Sehingga \n",
        "$$f_{1} = (1 + 1^{2}) \\cdot \\frac{\\text{precision} \\cdot \\text{recall}}{(1^{2} \\cdot \\text{precision}) + \\text{recall}}$$\n",
        "$$f_{1} = (2) \\cdot \\frac{\\text{precision} \\cdot \\text{recall}}{(\\text{precision}) + \\text{recall}}$$\n",
        "\n"
      ]
    },
    {
      "cell_type": "code",
      "metadata": {
        "id": "g29c08UWaVCZ"
      },
      "source": [
        "def f1_score(y_true, y_pred):\n",
        "    precision_val = precision(y_true, y_pred)\n",
        "    recall_val = recall(y_true, y_pred)\n",
        "    return 2*((precision_val * recall_val)/(precision_val + recall_val + K.epsilon()))"
      ],
      "execution_count": 5,
      "outputs": []
    },
    {
      "cell_type": "markdown",
      "metadata": {
        "id": "SJVCS5Q1aldQ"
      },
      "source": [
        "**n.b.: Semua fungsi pada bagian penyebut ditambah epsilon untuk menghindari dibagi $0$ dikarenakan memasukkan input sebanyak $0$**"
      ]
    },
    {
      "cell_type": "markdown",
      "metadata": {
        "id": "RJIOkA-caojX"
      },
      "source": [
        "###### Fungsi Bantuan untuk Melakukan Prediksi dan Menampilkan Metric"
      ]
    },
    {
      "cell_type": "code",
      "metadata": {
        "id": "PvFKE3jVagwj"
      },
      "source": [
        "def predict_and_get_metrics(model, x_test, y_test, label):\n",
        "    _, accuracy, sensitivity, specificity, score_f1 = model.evaluate(x_test, y_test, verbose=0)\n",
        "    return pd.DataFrame([[accuracy, sensitivity, specificity, score_f1]], columns=['Accuracy', 'Sensitivity', 'Specificity', 'F1 Score'], index=[label])\n",
        "\n",
        "def compare_train_and_test(model, x_train, y_train, x_test, y_test, extra_label=''):\n",
        "    metric_train = predict_and_get_metrics(model, x_train, y_train, 'Data Train %s' % (extra_label))\n",
        "    metric_test = predict_and_get_metrics(model, x_test, y_test, 'Data Test %s' % (extra_label))\n",
        "    return pd.concat([metric_train, metric_test])"
      ],
      "execution_count": 6,
      "outputs": []
    },
    {
      "cell_type": "markdown",
      "metadata": {
        "id": "E50lSCtWaxaP"
      },
      "source": [
        "###### Fungsi Bantuan untuk _Load Dataset_"
      ]
    },
    {
      "cell_type": "code",
      "metadata": {
        "id": "VRGsFnONasAe"
      },
      "source": [
        "def load_dataset_cifar10():\n",
        "\t(trainX, trainY), (testX, testY) = keras.datasets.cifar10.load_data()\n",
        "\treturn np.concatenate((trainX, testX), axis=0), np.concatenate((trainY, testY), axis=0)\n",
        " \n",
        "def load_dataset_cifar100():\n",
        "\t(trainX, trainY), (testX, testY) = keras.datasets.cifar100.load_data()\n",
        "\treturn np.concatenate((trainX, testX), axis=0), np.concatenate((trainY, testY), axis=0)"
      ],
      "execution_count": 7,
      "outputs": []
    },
    {
      "cell_type": "markdown",
      "metadata": {
        "id": "S2YPie55cC8B"
      },
      "source": [
        "##### Load Dataset"
      ]
    },
    {
      "cell_type": "code",
      "metadata": {
        "id": "De3BijFyavrp",
        "outputId": "693cc581-8122-4f68-9762-d9bb1e10642b",
        "colab": {
          "base_uri": "https://localhost:8080/",
          "height": 68
        }
      },
      "source": [
        "x, y = load_dataset_cifar10()\n",
        "x.shape"
      ],
      "execution_count": 8,
      "outputs": [
        {
          "output_type": "stream",
          "text": [
            "Downloading data from https://www.cs.toronto.edu/~kriz/cifar-10-python.tar.gz\n",
            "170500096/170498071 [==============================] - 2s 0us/step\n"
          ],
          "name": "stdout"
        },
        {
          "output_type": "execute_result",
          "data": {
            "text/plain": [
              "(60000, 32, 32, 3)"
            ]
          },
          "metadata": {
            "tags": []
          },
          "execution_count": 8
        }
      ]
    },
    {
      "cell_type": "markdown",
      "metadata": {
        "id": "Ol1gGZn1tXcU"
      },
      "source": [
        "##### Mengambil Dataset Sebanyak 1000 Per Kelasnya"
      ]
    },
    {
      "cell_type": "code",
      "metadata": {
        "id": "ZwB8cxdRcktx"
      },
      "source": [
        "idx_sample = np.array([],dtype=int)\n",
        "\n",
        "for i in range(10):\n",
        "    idx = (y == i).reshape(x.shape[0])\n",
        "    idx_data = np.where(idx == True)\n",
        "    sampled_list = np.random.choice(idx_data[0], size=1000, replace=False)\n",
        "    idx_sample = np.concatenate((idx_sample, sampled_list), axis=0)"
      ],
      "execution_count": 9,
      "outputs": []
    },
    {
      "cell_type": "markdown",
      "metadata": {
        "id": "BdnYBQdXtl16"
      },
      "source": [
        "##### Melakukan Validasi Apakah Shape-nya Sudah Valid atau Belum"
      ]
    },
    {
      "cell_type": "code",
      "metadata": {
        "id": "O_LteF08dnoP",
        "outputId": "f286e382-ec4f-41bd-8300-e75445b57b6a",
        "colab": {
          "base_uri": "https://localhost:8080/",
          "height": 34
        }
      },
      "source": [
        "x_sample = x[idx_sample]\n",
        "y_sample = y[idx_sample]\n",
        "x_sample.shape, y_sample.shape"
      ],
      "execution_count": 10,
      "outputs": [
        {
          "output_type": "execute_result",
          "data": {
            "text/plain": [
              "((10000, 32, 32, 3), (10000, 1))"
            ]
          },
          "metadata": {
            "tags": []
          },
          "execution_count": 10
        }
      ]
    },
    {
      "cell_type": "markdown",
      "metadata": {
        "id": "D2EMwzQyvRWE"
      },
      "source": [
        "##### Melakukan Normalisasi untuk $x$"
      ]
    },
    {
      "cell_type": "code",
      "metadata": {
        "id": "oyFNEK_pvVPA"
      },
      "source": [
        "def normalize(x):\n",
        "    return x / 255.0\n",
        "\n",
        "x_sample = normalize(x_sample)"
      ],
      "execution_count": 11,
      "outputs": []
    },
    {
      "cell_type": "markdown",
      "metadata": {
        "id": "2IeZh_cyu5tM"
      },
      "source": [
        "##### Merubah Menjadi Matrix Binary untuk $y$"
      ]
    },
    {
      "cell_type": "code",
      "metadata": {
        "id": "HWALf5B-vPM3"
      },
      "source": [
        "y_sample = tf.keras.utils.to_categorical(y_sample)"
      ],
      "execution_count": 12,
      "outputs": []
    },
    {
      "cell_type": "markdown",
      "metadata": {
        "id": "JPEUQiXyvjTT"
      },
      "source": [
        "##### Memecah Menjadi 60 : 40 ~ Train : Test"
      ]
    },
    {
      "cell_type": "code",
      "metadata": {
        "id": "q4zKyVvRvoJ4"
      },
      "source": [
        "x_train, x_test, y_train, y_test = train_test_split(x_sample, y_sample, test_size=0.4)"
      ],
      "execution_count": 13,
      "outputs": []
    },
    {
      "cell_type": "markdown",
      "metadata": {
        "id": "UupbLpNXtxff"
      },
      "source": [
        "##### Membangun Model Convolutional Neural Network"
      ]
    },
    {
      "cell_type": "code",
      "metadata": {
        "id": "OBc6Q_8ckvaL"
      },
      "source": [
        "def create_model(learning_rate, pre_defined_layers=[]):\n",
        "    convolutional_layers = []\n",
        "    if len(pre_defined_layers) == 0:\n",
        "        ## Convolutional Layers 25 map, 3 x 3, activation = relu\n",
        "        convolutional_layers.append(Conv2D(25, kernel_size=(3, 3), activation=tf.nn.relu, padding='SAME', kernel_initializer=tf.keras.initializers.HeUniform()))\n",
        "\n",
        "        ## Pooling Layer 2 x 2\n",
        "        convolutional_layers.append(MaxPooling2D(2,2))\n",
        "\n",
        "        ## Convolutional Layers 50 map, 3 x 3, activation = relu\n",
        "        convolutional_layers.append(Conv2D(50, kernel_size=(3, 3), activation=tf.nn.relu, padding='SAME', kernel_initializer=tf.keras.initializers.HeUniform()))\n",
        "\n",
        "        ## Pooling Layer 2 x 2\n",
        "        convolutional_layers.append(MaxPooling2D(2,2))\n",
        "\n",
        "        ## Convolutional Layers 100 map, 3 x 3, activation = relu\n",
        "        convolutional_layers.append(Conv2D(100, kernel_size=(3, 3), activation=tf.nn.relu, padding='SAME', kernel_initializer=tf.keras.initializers.HeUniform()))\n",
        "\n",
        "        ## Pooling Layer 2 x 2\n",
        "        convolutional_layers.append(MaxPooling2D(2,2))\n",
        "\n",
        "        convolutional_layers.append(Flatten())\n",
        "\n",
        "        ## Hidden Layer 100 node\n",
        "        convolutional_layers.append(Dense(100, activation=tf.nn.relu))\n",
        "\n",
        "        ## Output 10 class\n",
        "        convolutional_layers.append(Dense(10, activation=tf.nn.softmax))\n",
        "    else:\n",
        "        convolutional_layers = pre_defined_layers\n",
        "\n",
        "    ## Menginisialisasi instance model\n",
        "    convolutional_model = Sequential(convolutional_layers)\n",
        "\n",
        "    ## Membangun model\n",
        "    convolutional_model.build(input_shape=x_train.shape)\n",
        "\n",
        "    ## Melakukan Kompilasi ke dalam Model\n",
        "    convolutional_model.compile(\n",
        "    optimizer=tf.keras.optimizers.Adam(learning_rate=learning_rate),\n",
        "    loss='categorical_crossentropy',\n",
        "    metrics=[\n",
        "      'accuracy',\n",
        "      recall,\n",
        "      specificity,\n",
        "      f1_score\n",
        "    ])\n",
        "\n",
        "    return convolutional_model"
      ],
      "execution_count": 14,
      "outputs": []
    },
    {
      "cell_type": "markdown",
      "metadata": {
        "id": "tbAYmxNOu70R"
      },
      "source": [
        "##### Melakukan _fitting_ dengan $\\text{epochs} = 100$, $\\text{batch_size} = 10$, dan $\\text{learning_rate} = 0.1$, dan $\\text{Early Stopping}$"
      ]
    },
    {
      "cell_type": "code",
      "metadata": {
        "id": "0OAsbnblUGyr"
      },
      "source": [
        "## Mendefinisikan Early Stopping untuk Semua Model CNN Awal\n",
        "es = EarlyStopping(monitor='val_loss', mode='min', verbose=1)"
      ],
      "execution_count": 89,
      "outputs": []
    },
    {
      "cell_type": "code",
      "metadata": {
        "id": "b0vPHzTdyB67",
        "outputId": "484e06cc-e14a-4624-a7c7-9408ca61860f",
        "colab": {
          "base_uri": "https://localhost:8080/",
          "height": 173
        }
      },
      "source": [
        "convolutional_model = create_model(0.1)\n",
        "convolutional_model.fit(x_train, y_train, epochs=100, batch_size=10, validation_data=(x_test, y_test), use_multiprocessing=True, callbacks=[es])"
      ],
      "execution_count": 18,
      "outputs": [
        {
          "output_type": "stream",
          "text": [
            "Epoch 1/100\n",
            "600/600 [==============================] - 17s 28ms/step - loss: 33.3669 - accuracy: 0.1025 - recall: 0.0017 - specificity: 0.9992 - f1_score: 0.0017 - val_loss: 2.3419 - val_accuracy: 0.0970 - val_recall: 0.0000e+00 - val_specificity: 1.0000 - val_f1_score: 0.0000e+00\n",
            "Epoch 2/100\n",
            "600/600 [==============================] - 17s 28ms/step - loss: 2.3280 - accuracy: 0.0980 - recall: 0.0000e+00 - specificity: 1.0000 - f1_score: 0.0000e+00 - val_loss: 2.3178 - val_accuracy: 0.0967 - val_recall: 0.0000e+00 - val_specificity: 1.0000 - val_f1_score: 0.0000e+00\n",
            "Epoch 3/100\n",
            "600/600 [==============================] - 17s 28ms/step - loss: 2.3239 - accuracy: 0.0963 - recall: 0.0000e+00 - specificity: 1.0000 - f1_score: 0.0000e+00 - val_loss: 2.3316 - val_accuracy: 0.1007 - val_recall: 0.0000e+00 - val_specificity: 1.0000 - val_f1_score: 0.0000e+00\n",
            "Epoch 00003: early stopping\n"
          ],
          "name": "stdout"
        },
        {
          "output_type": "execute_result",
          "data": {
            "text/plain": [
              "<tensorflow.python.keras.callbacks.History at 0x7f629f99c6d8>"
            ]
          },
          "metadata": {
            "tags": []
          },
          "execution_count": 18
        }
      ]
    },
    {
      "cell_type": "markdown",
      "metadata": {
        "id": "oeetNYtYv3ha"
      },
      "source": [
        "#### 3.\n",
        "Lakukan skenario eksperimen untuk mendapatkan metrik evaluasi optimal ($\\text{akurasi}$, $\\text{sensitivity}$, $\\text{specifity}$, dan $f_{1} \\text{ score}$) dengan mengubah parameter yaitu:\n",
        "1. Mengubah epoch, dengan $\\text{learning_rate} = 0.1$ dan $\\text\n",
        "{batch_number} = 10$.\n",
        "2. Mengubah jumlah $\\text{batch number}$ dengan $\\text{epoch}$ optimal dari skenario (1) dan $\\text{learning_rate} = 0.1$.\n",
        "3. Mengubah $\\text{learning_rate}$ dengan $\\text{epoch}$ optimal dari skenario (1) dan jumlah $\\text{batch_number}$ optimal dari skenario (2)."
      ]
    },
    {
      "cell_type": "markdown",
      "metadata": {
        "id": "fqK7vX6ExpeA"
      },
      "source": [
        "##### Melakukan Skenario 3.1. (Mengubah $\\text{epoch}$)"
      ]
    },
    {
      "cell_type": "markdown",
      "metadata": {
        "id": "iD-K6byWmwF9"
      },
      "source": [
        "###### Skenario 3.1.1. ($\\text{epoch} = 100$)"
      ]
    },
    {
      "cell_type": "code",
      "metadata": {
        "id": "iK9tJ5Qum1Wu",
        "outputId": "5be5aead-ebc8-47b7-a59d-5262ea4faa1b",
        "colab": {
          "base_uri": "https://localhost:8080/",
          "height": 139
        }
      },
      "source": [
        "convolutional_model = create_model(0.1)\n",
        "convolutional_model.fit(x_train, y_train, epochs=100, batch_size=10, validation_data=(x_test, y_test), use_multiprocessing=True, callbacks=[es])"
      ],
      "execution_count": 19,
      "outputs": [
        {
          "output_type": "stream",
          "text": [
            "Epoch 1/100\n",
            "600/600 [==============================] - 17s 28ms/step - loss: 10.1143 - accuracy: 0.0957 - recall: 8.3333e-04 - specificity: 0.9993 - f1_score: 9.6970e-04 - val_loss: 2.3212 - val_accuracy: 0.1032 - val_recall: 0.0000e+00 - val_specificity: 1.0000 - val_f1_score: 0.0000e+00\n",
            "Epoch 2/100\n",
            "600/600 [==============================] - 17s 28ms/step - loss: 2.3274 - accuracy: 0.0962 - recall: 0.0000e+00 - specificity: 1.0000 - f1_score: 0.0000e+00 - val_loss: 2.3301 - val_accuracy: 0.0975 - val_recall: 0.0000e+00 - val_specificity: 1.0000 - val_f1_score: 0.0000e+00\n",
            "Epoch 00002: early stopping\n"
          ],
          "name": "stdout"
        },
        {
          "output_type": "execute_result",
          "data": {
            "text/plain": [
              "<tensorflow.python.keras.callbacks.History at 0x7f629c9a2b00>"
            ]
          },
          "metadata": {
            "tags": []
          },
          "execution_count": 19
        }
      ]
    },
    {
      "cell_type": "markdown",
      "metadata": {
        "id": "eIKbzwL9xyGu"
      },
      "source": [
        "###### Skenario 3.1.2. ($\\text{epoch} = 50$)"
      ]
    },
    {
      "cell_type": "code",
      "metadata": {
        "id": "hiRP7I5HvzrS",
        "outputId": "7a71159d-cf20-44a6-86c8-cecfe95a74aa",
        "colab": {
          "base_uri": "https://localhost:8080/",
          "height": 139
        }
      },
      "source": [
        "convolutional_model = create_model(0.1)\n",
        "convolutional_model.fit(x_train, y_train, epochs=50, batch_size=10, validation_data=(x_test, y_test), use_multiprocessing=True, callbacks=[es])"
      ],
      "execution_count": 20,
      "outputs": [
        {
          "output_type": "stream",
          "text": [
            "Epoch 1/50\n",
            "600/600 [==============================] - 19s 31ms/step - loss: 17.3637 - accuracy: 0.1090 - recall: 5.0000e-04 - specificity: 0.9995 - f1_score: 5.0877e-04 - val_loss: 2.3244 - val_accuracy: 0.0970 - val_recall: 0.0000e+00 - val_specificity: 1.0000 - val_f1_score: 0.0000e+00\n",
            "Epoch 2/50\n",
            "600/600 [==============================] - 17s 28ms/step - loss: 2.3240 - accuracy: 0.0985 - recall: 0.0000e+00 - specificity: 1.0000 - f1_score: 0.0000e+00 - val_loss: 2.3366 - val_accuracy: 0.0970 - val_recall: 0.0000e+00 - val_specificity: 1.0000 - val_f1_score: 0.0000e+00\n",
            "Epoch 00002: early stopping\n"
          ],
          "name": "stdout"
        },
        {
          "output_type": "execute_result",
          "data": {
            "text/plain": [
              "<tensorflow.python.keras.callbacks.History at 0x7f629c8472e8>"
            ]
          },
          "metadata": {
            "tags": []
          },
          "execution_count": 20
        }
      ]
    },
    {
      "cell_type": "markdown",
      "metadata": {
        "id": "z50yWQxxyDKv"
      },
      "source": [
        "###### Skenario 3.1.3. ($\\text{epoch}$ = 25)"
      ]
    },
    {
      "cell_type": "code",
      "metadata": {
        "id": "qoFAMbV1yAqy",
        "outputId": "bf5e9a68-be3e-4db9-8344-018951431571",
        "colab": {
          "base_uri": "https://localhost:8080/",
          "height": 0
        }
      },
      "source": [
        "convolutional_model = create_model(0.1)\n",
        "convolutional_model.fit(x_train, y_train, epochs=25, batch_size=10, validation_data=(x_test, y_test), use_multiprocessing=True, callbacks=[es])"
      ],
      "execution_count": 21,
      "outputs": [
        {
          "output_type": "stream",
          "text": [
            "Epoch 1/25\n",
            "600/600 [==============================] - 17s 29ms/step - loss: 26.3350 - accuracy: 0.0990 - recall: 0.0015 - specificity: 0.9989 - f1_score: 0.0015 - val_loss: 2.3229 - val_accuracy: 0.1007 - val_recall: 0.0000e+00 - val_specificity: 1.0000 - val_f1_score: 0.0000e+00\n",
            "Epoch 2/25\n",
            "600/600 [==============================] - 16s 27ms/step - loss: 2.3241 - accuracy: 0.1000 - recall: 0.0000e+00 - specificity: 1.0000 - f1_score: 0.0000e+00 - val_loss: 2.3191 - val_accuracy: 0.1070 - val_recall: 0.0000e+00 - val_specificity: 1.0000 - val_f1_score: 0.0000e+00\n",
            "Epoch 3/25\n",
            "600/600 [==============================] - 17s 28ms/step - loss: 2.3237 - accuracy: 0.1003 - recall: 0.0000e+00 - specificity: 1.0000 - f1_score: 0.0000e+00 - val_loss: 2.3297 - val_accuracy: 0.0970 - val_recall: 0.0000e+00 - val_specificity: 1.0000 - val_f1_score: 0.0000e+00\n",
            "Epoch 00003: early stopping\n"
          ],
          "name": "stdout"
        },
        {
          "output_type": "execute_result",
          "data": {
            "text/plain": [
              "<tensorflow.python.keras.callbacks.History at 0x7f629bd94c88>"
            ]
          },
          "metadata": {
            "tags": []
          },
          "execution_count": 21
        }
      ]
    },
    {
      "cell_type": "markdown",
      "metadata": {
        "id": "sfFd4JoiyVL0"
      },
      "source": [
        "###### Skenario 3.1.4. ($\\text{epoch}$ = 10)"
      ]
    },
    {
      "cell_type": "code",
      "metadata": {
        "id": "My0WoXDnyTVL",
        "outputId": "abb9a74c-250f-4f91-c6fc-e3e0fe2407aa",
        "colab": {
          "base_uri": "https://localhost:8080/",
          "height": 0
        }
      },
      "source": [
        "convolutional_model = create_model(0.1)\n",
        "convolutional_model.fit(x_train, y_train, epochs=10, batch_size=10, validation_data=(x_test, y_test), use_multiprocessing=True, callbacks=[es])"
      ],
      "execution_count": 22,
      "outputs": [
        {
          "output_type": "stream",
          "text": [
            "Epoch 1/10\n",
            "600/600 [==============================] - 17s 28ms/step - loss: 12.4968 - accuracy: 0.0990 - recall: 0.0033 - specificity: 0.9987 - f1_score: 0.0033 - val_loss: 2.3266 - val_accuracy: 0.0970 - val_recall: 0.0000e+00 - val_specificity: 1.0000 - val_f1_score: 0.0000e+00\n",
            "Epoch 2/10\n",
            "600/600 [==============================] - 16s 27ms/step - loss: 2.3284 - accuracy: 0.0967 - recall: 0.0000e+00 - specificity: 1.0000 - f1_score: 0.0000e+00 - val_loss: 2.3272 - val_accuracy: 0.0960 - val_recall: 0.0000e+00 - val_specificity: 1.0000 - val_f1_score: 0.0000e+00\n",
            "Epoch 00002: early stopping\n"
          ],
          "name": "stdout"
        },
        {
          "output_type": "execute_result",
          "data": {
            "text/plain": [
              "<tensorflow.python.keras.callbacks.History at 0x7f629bb26dd8>"
            ]
          },
          "metadata": {
            "tags": []
          },
          "execution_count": 22
        }
      ]
    },
    {
      "cell_type": "markdown",
      "metadata": {
        "id": "yLEz9MpZnBNo"
      },
      "source": [
        "###### Skenario 3.1.5. ($\\text{epoch} = 5$)\n",
        "\n"
      ]
    },
    {
      "cell_type": "code",
      "metadata": {
        "id": "MAoiBFFOnGie",
        "outputId": "9b4debf2-e9f4-4788-bba2-ddad24bebd58",
        "colab": {
          "base_uri": "https://localhost:8080/",
          "height": 0
        }
      },
      "source": [
        "convolutional_model = create_model(0.1)\n",
        "convolutional_model.fit(x_train, y_train, epochs=5, batch_size=10, validation_data=(x_test, y_test), use_multiprocessing=True, callbacks=[es])"
      ],
      "execution_count": 23,
      "outputs": [
        {
          "output_type": "stream",
          "text": [
            "Epoch 1/5\n",
            "600/600 [==============================] - 17s 28ms/step - loss: 11.8267 - accuracy: 0.0932 - recall: 3.3333e-04 - specificity: 0.9997 - f1_score: 3.3333e-04 - val_loss: 2.3229 - val_accuracy: 0.1007 - val_recall: 0.0000e+00 - val_specificity: 1.0000 - val_f1_score: 0.0000e+00\n",
            "Epoch 2/5\n",
            "600/600 [==============================] - 17s 28ms/step - loss: 2.3261 - accuracy: 0.1010 - recall: 0.0000e+00 - specificity: 1.0000 - f1_score: 0.0000e+00 - val_loss: 2.3293 - val_accuracy: 0.0970 - val_recall: 0.0000e+00 - val_specificity: 1.0000 - val_f1_score: 0.0000e+00\n",
            "Epoch 00002: early stopping\n"
          ],
          "name": "stdout"
        },
        {
          "output_type": "execute_result",
          "data": {
            "text/plain": [
              "<tensorflow.python.keras.callbacks.History at 0x7f6298857e80>"
            ]
          },
          "metadata": {
            "tags": []
          },
          "execution_count": 23
        }
      ]
    },
    {
      "cell_type": "markdown",
      "metadata": {
        "id": "JDjlsyWmuOO2"
      },
      "source": [
        "###### Kesimpulan Skenario $3.1.$"
      ]
    },
    {
      "cell_type": "markdown",
      "metadata": {
        "id": "aZVma5oUyhZ8"
      },
      "source": [
        "Berdasarkan hasil dari skenario $3.1.1.$, $3.1.2.$, $3.1.3.$, $3.1.4.$, dan $3.1.5.$, kelima skenario mengalami _early stop_ pada $\\text{epoch} \\leq 5$. Kelima skenario menghasilkan akurasi yang rendah pula, dengan demikian, digunakan $\\text{epoch}$ terbesar ($\\text{epoch} = 100$) dikarenakan sudah ada penjaga _early stop_ untuk mengecek ke _convergen_-an."
      ]
    },
    {
      "cell_type": "markdown",
      "metadata": {
        "id": "UnZzodGOy-wu"
      },
      "source": [
        "##### Melakukan Skenario $3.2.$ (Mengubah $\\text{batch_number}$)"
      ]
    },
    {
      "cell_type": "markdown",
      "metadata": {
        "id": "u7w5FBuFcZmY"
      },
      "source": [
        "###### Skenario $3.2.1.$ ($\\text{batch_number} = 10$)"
      ]
    },
    {
      "cell_type": "code",
      "metadata": {
        "id": "nT-B9ojvcejI",
        "outputId": "089bc2a7-72df-4b06-f363-7051a2da2bd4",
        "colab": {
          "base_uri": "https://localhost:8080/",
          "height": 173
        }
      },
      "source": [
        "convolutional_model = create_model(0.1)\n",
        "convolutional_model.fit(x_train, y_train, epochs=100, batch_size=10, validation_data=(x_test, y_test), use_multiprocessing=True, callbacks=[es])"
      ],
      "execution_count": 24,
      "outputs": [
        {
          "output_type": "stream",
          "text": [
            "Epoch 1/100\n",
            "600/600 [==============================] - 17s 28ms/step - loss: 15.2138 - accuracy: 0.0990 - recall: 0.0010 - specificity: 0.9992 - f1_score: 0.0011 - val_loss: 2.3456 - val_accuracy: 0.0970 - val_recall: 0.0000e+00 - val_specificity: 1.0000 - val_f1_score: 0.0000e+00\n",
            "Epoch 2/100\n",
            "600/600 [==============================] - 22s 37ms/step - loss: 2.3246 - accuracy: 0.0982 - recall: 0.0000e+00 - specificity: 1.0000 - f1_score: 0.0000e+00 - val_loss: 2.3227 - val_accuracy: 0.1032 - val_recall: 0.0000e+00 - val_specificity: 1.0000 - val_f1_score: 0.0000e+00\n",
            "Epoch 3/100\n",
            "600/600 [==============================] - 17s 29ms/step - loss: 2.3252 - accuracy: 0.1032 - recall: 0.0000e+00 - specificity: 1.0000 - f1_score: 0.0000e+00 - val_loss: 2.3302 - val_accuracy: 0.0970 - val_recall: 0.0000e+00 - val_specificity: 1.0000 - val_f1_score: 0.0000e+00\n",
            "Epoch 00003: early stopping\n"
          ],
          "name": "stdout"
        },
        {
          "output_type": "execute_result",
          "data": {
            "text/plain": [
              "<tensorflow.python.keras.callbacks.History at 0x7f62985cedd8>"
            ]
          },
          "metadata": {
            "tags": []
          },
          "execution_count": 24
        }
      ]
    },
    {
      "cell_type": "markdown",
      "metadata": {
        "id": "Jpmk_tBlzTpp"
      },
      "source": [
        "###### Skenario $3.2.2.$ ($\\text{batch_number} = 25$)"
      ]
    },
    {
      "cell_type": "code",
      "metadata": {
        "id": "OxvebtnPzSsX",
        "outputId": "3c58dbd7-c308-48d9-90a9-52a9053e5558",
        "colab": {
          "base_uri": "https://localhost:8080/",
          "height": 173
        }
      },
      "source": [
        "convolutional_model = create_model(0.1)\n",
        "convolutional_model.fit(x_train, y_train, epochs=100, batch_size=25, validation_data=(x_test, y_test), use_multiprocessing=True, callbacks=[es])"
      ],
      "execution_count": 25,
      "outputs": [
        {
          "output_type": "stream",
          "text": [
            "Epoch 1/100\n",
            "240/240 [==============================] - 14s 58ms/step - loss: 35.0576 - accuracy: 0.0983 - recall: 8.3333e-04 - specificity: 0.9983 - f1_score: 8.4397e-04 - val_loss: 2.3213 - val_accuracy: 0.1007 - val_recall: 0.0000e+00 - val_specificity: 1.0000 - val_f1_score: 0.0000e+00\n",
            "Epoch 2/100\n",
            "240/240 [==============================] - 14s 59ms/step - loss: 2.3165 - accuracy: 0.0903 - recall: 0.0000e+00 - specificity: 1.0000 - f1_score: 0.0000e+00 - val_loss: 2.3197 - val_accuracy: 0.0970 - val_recall: 0.0000e+00 - val_specificity: 1.0000 - val_f1_score: 0.0000e+00\n",
            "Epoch 3/100\n",
            "240/240 [==============================] - 14s 58ms/step - loss: 2.3156 - accuracy: 0.0987 - recall: 0.0000e+00 - specificity: 1.0000 - f1_score: 0.0000e+00 - val_loss: 2.3351 - val_accuracy: 0.0975 - val_recall: 0.0000e+00 - val_specificity: 1.0000 - val_f1_score: 0.0000e+00\n",
            "Epoch 00003: early stopping\n"
          ],
          "name": "stdout"
        },
        {
          "output_type": "execute_result",
          "data": {
            "text/plain": [
              "<tensorflow.python.keras.callbacks.History at 0x7f62983c8e80>"
            ]
          },
          "metadata": {
            "tags": []
          },
          "execution_count": 25
        }
      ]
    },
    {
      "cell_type": "markdown",
      "metadata": {
        "id": "DLCAlr4yzedO"
      },
      "source": [
        "###### Skenario $3.2.3.$ ($\\text{batch_number} = 50$)"
      ]
    },
    {
      "cell_type": "code",
      "metadata": {
        "id": "VyFLHqxczdk9",
        "outputId": "3a18bdac-d722-401a-e7bd-f67559f2ad5e",
        "colab": {
          "base_uri": "https://localhost:8080/",
          "height": 207
        }
      },
      "source": [
        "convolutional_model = create_model(0.1)\n",
        "convolutional_model.fit(x_train, y_train, epochs=100, batch_size=50, validation_data=(x_test, y_test), use_multiprocessing=True, callbacks=[es])"
      ],
      "execution_count": 26,
      "outputs": [
        {
          "output_type": "stream",
          "text": [
            "Epoch 1/100\n",
            "120/120 [==============================] - 13s 107ms/step - loss: 156.5080 - accuracy: 0.1045 - recall: 0.0028 - specificity: 0.9966 - f1_score: 0.0028 - val_loss: 2.3135 - val_accuracy: 0.1007 - val_recall: 0.0000e+00 - val_specificity: 1.0000 - val_f1_score: 0.0000e+00\n",
            "Epoch 2/100\n",
            "120/120 [==============================] - 13s 106ms/step - loss: 2.3096 - accuracy: 0.1032 - recall: 0.0000e+00 - specificity: 1.0000 - f1_score: 0.0000e+00 - val_loss: 2.3103 - val_accuracy: 0.0967 - val_recall: 0.0000e+00 - val_specificity: 1.0000 - val_f1_score: 0.0000e+00\n",
            "Epoch 3/100\n",
            "120/120 [==============================] - 13s 107ms/step - loss: 2.3117 - accuracy: 0.0957 - recall: 0.0000e+00 - specificity: 1.0000 - f1_score: 0.0000e+00 - val_loss: 2.3068 - val_accuracy: 0.1070 - val_recall: 0.0000e+00 - val_specificity: 1.0000 - val_f1_score: 0.0000e+00\n",
            "Epoch 4/100\n",
            "120/120 [==============================] - 13s 106ms/step - loss: 2.3134 - accuracy: 0.0913 - recall: 0.0000e+00 - specificity: 1.0000 - f1_score: 0.0000e+00 - val_loss: 2.3123 - val_accuracy: 0.1007 - val_recall: 0.0000e+00 - val_specificity: 1.0000 - val_f1_score: 0.0000e+00\n",
            "Epoch 00004: early stopping\n"
          ],
          "name": "stdout"
        },
        {
          "output_type": "execute_result",
          "data": {
            "text/plain": [
              "<tensorflow.python.keras.callbacks.History at 0x7f6295132e48>"
            ]
          },
          "metadata": {
            "tags": []
          },
          "execution_count": 26
        }
      ]
    },
    {
      "cell_type": "markdown",
      "metadata": {
        "id": "idcvhcP_zmAj"
      },
      "source": [
        "###### Skenario $3.2.4.$ ($\\text{batch_number} = 75$)"
      ]
    },
    {
      "cell_type": "code",
      "metadata": {
        "id": "mzugkM5tzkEp",
        "outputId": "ed1113d3-aeed-4eeb-8c6d-5bd53e902476",
        "colab": {
          "base_uri": "https://localhost:8080/",
          "height": 173
        }
      },
      "source": [
        "convolutional_model = create_model(0.1)\n",
        "convolutional_model.fit(x_train, y_train, epochs=100, batch_size=75, validation_data=(x_test, y_test), use_multiprocessing=True, callbacks=[es])"
      ],
      "execution_count": 27,
      "outputs": [
        {
          "output_type": "stream",
          "text": [
            "Epoch 1/100\n",
            "60/60 [==============================] - 12s 203ms/step - loss: 42.1939 - accuracy: 0.0925 - recall: 0.0030 - specificity: 0.9966 - f1_score: 0.0030 - val_loss: 2.3097 - val_accuracy: 0.0975 - val_recall: 0.0000e+00 - val_specificity: 1.0000 - val_f1_score: 0.0000e+00\n",
            "Epoch 2/100\n",
            "60/60 [==============================] - 12s 196ms/step - loss: 2.3093 - accuracy: 0.0972 - recall: 0.0000e+00 - specificity: 1.0000 - f1_score: 0.0000e+00 - val_loss: 2.3059 - val_accuracy: 0.0967 - val_recall: 0.0000e+00 - val_specificity: 1.0000 - val_f1_score: 0.0000e+00\n",
            "Epoch 3/100\n",
            "60/60 [==============================] - 12s 196ms/step - loss: 2.3070 - accuracy: 0.0965 - recall: 0.0000e+00 - specificity: 1.0000 - f1_score: 0.0000e+00 - val_loss: 2.3065 - val_accuracy: 0.0970 - val_recall: 0.0000e+00 - val_specificity: 1.0000 - val_f1_score: 0.0000e+00\n",
            "Epoch 00003: early stopping\n"
          ],
          "name": "stdout"
        },
        {
          "output_type": "execute_result",
          "data": {
            "text/plain": [
              "<tensorflow.python.keras.callbacks.History at 0x7f629503e630>"
            ]
          },
          "metadata": {
            "tags": []
          },
          "execution_count": 27
        }
      ]
    },
    {
      "cell_type": "markdown",
      "metadata": {
        "id": "mAd4eT5NzqlH"
      },
      "source": [
        "###### Skenario $3.2.5.$ ($\\text{batch_number} = 100$)"
      ]
    },
    {
      "cell_type": "code",
      "metadata": {
        "id": "7JLN26Grzp74",
        "outputId": "023a7e2f-0c04-4959-c5ed-24632c1bb4b3",
        "colab": {
          "base_uri": "https://localhost:8080/",
          "height": 139
        }
      },
      "source": [
        "convolutional_model = create_model(0.1)\n",
        "convolutional_model.fit(x_train, y_train, epochs=100, batch_size=100, validation_data=(x_test, y_test), use_multiprocessing=True, callbacks=[es])"
      ],
      "execution_count": 28,
      "outputs": [
        {
          "output_type": "stream",
          "text": [
            "Epoch 1/100\n",
            "30/30 [==============================] - 12s 386ms/step - loss: 331.9952 - accuracy: 0.1007 - recall: 0.0097 - specificity: 0.9900 - f1_score: 0.0097 - val_loss: 2.3046 - val_accuracy: 0.1007 - val_recall: 0.0000e+00 - val_specificity: 1.0000 - val_f1_score: 0.0000e+00\n",
            "Epoch 2/100\n",
            "30/30 [==============================] - 11s 369ms/step - loss: 2.3079 - accuracy: 0.0982 - recall: 0.0000e+00 - specificity: 1.0000 - f1_score: 0.0000e+00 - val_loss: 2.3061 - val_accuracy: 0.0970 - val_recall: 0.0000e+00 - val_specificity: 1.0000 - val_f1_score: 0.0000e+00\n",
            "Epoch 00002: early stopping\n"
          ],
          "name": "stdout"
        },
        {
          "output_type": "execute_result",
          "data": {
            "text/plain": [
              "<tensorflow.python.keras.callbacks.History at 0x7f6294dafa58>"
            ]
          },
          "metadata": {
            "tags": []
          },
          "execution_count": 28
        }
      ]
    },
    {
      "cell_type": "markdown",
      "metadata": {
        "id": "vTera8DYdaGP"
      },
      "source": [
        "###### Skenario $3.2.6.$ ($\\text{batch_number} = 250$)"
      ]
    },
    {
      "cell_type": "code",
      "metadata": {
        "id": "1wsH2tCXdfta",
        "outputId": "84488b0c-2ced-4d1e-f2db-79fb6659e43e",
        "colab": {
          "base_uri": "https://localhost:8080/",
          "height": 139
        }
      },
      "source": [
        "convolutional_model = create_model(0.1)\n",
        "convolutional_model.fit(x_train, y_train, epochs=100, batch_size=250, validation_data=(x_test, y_test), use_multiprocessing=True, callbacks=[es])"
      ],
      "execution_count": 29,
      "outputs": [
        {
          "output_type": "stream",
          "text": [
            "Epoch 1/100\n",
            "24/24 [==============================] - 11s 467ms/step - loss: 255.9295 - accuracy: 0.0972 - recall: 0.0090 - specificity: 0.9910 - f1_score: 0.0097 - val_loss: 2.3085 - val_accuracy: 0.0970 - val_recall: 0.0000e+00 - val_specificity: 1.0000 - val_f1_score: 0.0000e+00\n",
            "Epoch 2/100\n",
            "24/24 [==============================] - 11s 455ms/step - loss: 2.3068 - accuracy: 0.0985 - recall: 0.0000e+00 - specificity: 1.0000 - f1_score: 0.0000e+00 - val_loss: 2.3154 - val_accuracy: 0.1007 - val_recall: 0.0000e+00 - val_specificity: 1.0000 - val_f1_score: 0.0000e+00\n",
            "Epoch 00002: early stopping\n"
          ],
          "name": "stdout"
        },
        {
          "output_type": "execute_result",
          "data": {
            "text/plain": [
              "<tensorflow.python.keras.callbacks.History at 0x7f6294b21080>"
            ]
          },
          "metadata": {
            "tags": []
          },
          "execution_count": 29
        }
      ]
    },
    {
      "cell_type": "markdown",
      "metadata": {
        "id": "oyu38QLndioe"
      },
      "source": [
        "###### Skenario $3.2.7.$ ($\\text{batch_number} = 500$)"
      ]
    },
    {
      "cell_type": "code",
      "metadata": {
        "id": "fu3ogk-idoCy",
        "outputId": "2b35c4d2-4009-4ebc-aa08-08f60ff6cca4",
        "colab": {
          "base_uri": "https://localhost:8080/",
          "height": 241
        }
      },
      "source": [
        "convolutional_model = create_model(0.1)\n",
        "convolutional_model.fit(x_train, y_train, epochs=100, batch_size=500, validation_data=(x_test, y_test), use_multiprocessing=True, callbacks=[es])"
      ],
      "execution_count": 30,
      "outputs": [
        {
          "output_type": "stream",
          "text": [
            "Epoch 1/100\n",
            "12/12 [==============================] - 11s 891ms/step - loss: 504.7993 - accuracy: 0.0958 - recall: 0.0183 - specificity: 0.9826 - f1_score: 0.0190 - val_loss: 2.3402 - val_accuracy: 0.0970 - val_recall: 0.0000e+00 - val_specificity: 1.0000 - val_f1_score: 0.0000e+00\n",
            "Epoch 2/100\n",
            "12/12 [==============================] - 11s 877ms/step - loss: 2.3260 - accuracy: 0.0965 - recall: 0.0000e+00 - specificity: 1.0000 - f1_score: 0.0000e+00 - val_loss: 2.3181 - val_accuracy: 0.0970 - val_recall: 0.0000e+00 - val_specificity: 1.0000 - val_f1_score: 0.0000e+00\n",
            "Epoch 3/100\n",
            "12/12 [==============================] - 10s 871ms/step - loss: 2.3099 - accuracy: 0.0987 - recall: 0.0000e+00 - specificity: 1.0000 - f1_score: 0.0000e+00 - val_loss: 2.3072 - val_accuracy: 0.0960 - val_recall: 0.0000e+00 - val_specificity: 1.0000 - val_f1_score: 0.0000e+00\n",
            "Epoch 4/100\n",
            "12/12 [==============================] - 10s 873ms/step - loss: 2.3052 - accuracy: 0.0963 - recall: 0.0000e+00 - specificity: 1.0000 - f1_score: 0.0000e+00 - val_loss: 2.3029 - val_accuracy: 0.0967 - val_recall: 0.0000e+00 - val_specificity: 1.0000 - val_f1_score: 0.0000e+00\n",
            "Epoch 5/100\n",
            "12/12 [==============================] - 11s 879ms/step - loss: 2.3042 - accuracy: 0.1003 - recall: 0.0000e+00 - specificity: 1.0000 - f1_score: 0.0000e+00 - val_loss: 2.3053 - val_accuracy: 0.1007 - val_recall: 0.0000e+00 - val_specificity: 1.0000 - val_f1_score: 0.0000e+00\n",
            "Epoch 00005: early stopping\n"
          ],
          "name": "stdout"
        },
        {
          "output_type": "execute_result",
          "data": {
            "text/plain": [
              "<tensorflow.python.keras.callbacks.History at 0x7f628f8c9630>"
            ]
          },
          "metadata": {
            "tags": []
          },
          "execution_count": 30
        }
      ]
    },
    {
      "cell_type": "markdown",
      "metadata": {
        "id": "oQ16LO-NdvlI"
      },
      "source": [
        "###### Skenario $3.2.8.$ ($\\text{batch_number} = 750$)"
      ]
    },
    {
      "cell_type": "code",
      "metadata": {
        "id": "NBAbTKnRdrLA",
        "outputId": "5f903d4e-edb7-474c-c324-0712c9485e5d",
        "colab": {
          "base_uri": "https://localhost:8080/",
          "height": 241
        }
      },
      "source": [
        "convolutional_model = create_model(0.1)\n",
        "convolutional_model.fit(x_train, y_train, epochs=100, batch_size=750, validation_data=(x_test, y_test), use_multiprocessing=True, callbacks=[es])"
      ],
      "execution_count": 31,
      "outputs": [
        {
          "output_type": "stream",
          "text": [
            "Epoch 1/100\n",
            "8/8 [==============================] - 10s 1s/step - loss: 2041.9570 - accuracy: 0.1057 - recall: 0.0495 - specificity: 0.9568 - f1_score: 0.0513 - val_loss: 2.3379 - val_accuracy: 0.0960 - val_recall: 0.0000e+00 - val_specificity: 1.0000 - val_f1_score: 0.0000e+00\n",
            "Epoch 2/100\n",
            "8/8 [==============================] - 10s 1s/step - loss: 2.3183 - accuracy: 0.1030 - recall: 0.0000e+00 - specificity: 1.0000 - f1_score: 0.0000e+00 - val_loss: 2.3174 - val_accuracy: 0.0970 - val_recall: 0.0000e+00 - val_specificity: 1.0000 - val_f1_score: 0.0000e+00\n",
            "Epoch 3/100\n",
            "8/8 [==============================] - 10s 1s/step - loss: 2.3059 - accuracy: 0.1042 - recall: 0.0000e+00 - specificity: 1.0000 - f1_score: 0.0000e+00 - val_loss: 2.3084 - val_accuracy: 0.0975 - val_recall: 0.0000e+00 - val_specificity: 1.0000 - val_f1_score: 0.0000e+00\n",
            "Epoch 4/100\n",
            "8/8 [==============================] - 10s 1s/step - loss: 2.3065 - accuracy: 0.0970 - recall: 0.0000e+00 - specificity: 1.0000 - f1_score: 0.0000e+00 - val_loss: 2.3030 - val_accuracy: 0.1070 - val_recall: 0.0000e+00 - val_specificity: 1.0000 - val_f1_score: 0.0000e+00\n",
            "Epoch 5/100\n",
            "8/8 [==============================] - 10s 1s/step - loss: 2.3048 - accuracy: 0.0937 - recall: 0.0000e+00 - specificity: 1.0000 - f1_score: 0.0000e+00 - val_loss: 2.3056 - val_accuracy: 0.0967 - val_recall: 0.0000e+00 - val_specificity: 1.0000 - val_f1_score: 0.0000e+00\n",
            "Epoch 00005: early stopping\n"
          ],
          "name": "stdout"
        },
        {
          "output_type": "execute_result",
          "data": {
            "text/plain": [
              "<tensorflow.python.keras.callbacks.History at 0x7f628ee3ee10>"
            ]
          },
          "metadata": {
            "tags": []
          },
          "execution_count": 31
        }
      ]
    },
    {
      "cell_type": "markdown",
      "metadata": {
        "id": "ZcsYBiaZd8Ca"
      },
      "source": [
        "###### Skenario $3.2.9.$ ($\\text{batch_number} = 1000$)"
      ]
    },
    {
      "cell_type": "code",
      "metadata": {
        "id": "K1l5Q8Cid4ZP",
        "outputId": "a3fb6038-c9ab-4b9f-97e4-aec431e65e00",
        "colab": {
          "base_uri": "https://localhost:8080/",
          "height": 275
        }
      },
      "source": [
        "convolutional_model = create_model(0.1)\n",
        "convolutional_model.fit(x_train, y_train, epochs=100, batch_size=1000, validation_data=(x_test, y_test), use_multiprocessing=True, callbacks=[es])"
      ],
      "execution_count": 32,
      "outputs": [
        {
          "output_type": "stream",
          "text": [
            "Epoch 1/100\n",
            "6/6 [==============================] - 10s 2s/step - loss: 2823.5669 - accuracy: 0.0930 - recall: 0.0477 - specificity: 0.9501 - f1_score: 0.0478 - val_loss: 2.4410 - val_accuracy: 0.0967 - val_recall: 0.0000e+00 - val_specificity: 1.0000 - val_f1_score: 0.0000e+00\n",
            "Epoch 2/100\n",
            "6/6 [==============================] - 9s 2s/step - loss: 2.3408 - accuracy: 0.0978 - recall: 0.0000e+00 - specificity: 1.0000 - f1_score: 0.0000e+00 - val_loss: 2.3319 - val_accuracy: 0.1007 - val_recall: 0.0000e+00 - val_specificity: 1.0000 - val_f1_score: 0.0000e+00\n",
            "Epoch 3/100\n",
            "6/6 [==============================] - 9s 2s/step - loss: 2.3171 - accuracy: 0.1002 - recall: 0.0000e+00 - specificity: 1.0000 - f1_score: 0.0000e+00 - val_loss: 2.3208 - val_accuracy: 0.0975 - val_recall: 0.0000e+00 - val_specificity: 1.0000 - val_f1_score: 0.0000e+00\n",
            "Epoch 4/100\n",
            "6/6 [==============================] - 9s 2s/step - loss: 2.3113 - accuracy: 0.1005 - recall: 0.0000e+00 - specificity: 1.0000 - f1_score: 0.0000e+00 - val_loss: 2.3110 - val_accuracy: 0.0970 - val_recall: 0.0000e+00 - val_specificity: 1.0000 - val_f1_score: 0.0000e+00\n",
            "Epoch 5/100\n",
            "6/6 [==============================] - 9s 2s/step - loss: 2.3055 - accuracy: 0.1007 - recall: 0.0000e+00 - specificity: 1.0000 - f1_score: 0.0000e+00 - val_loss: 2.3039 - val_accuracy: 0.0975 - val_recall: 0.0000e+00 - val_specificity: 1.0000 - val_f1_score: 0.0000e+00\n",
            "Epoch 6/100\n",
            "6/6 [==============================] - 9s 2s/step - loss: 2.3057 - accuracy: 0.1035 - recall: 0.0000e+00 - specificity: 1.0000 - f1_score: 0.0000e+00 - val_loss: 2.3040 - val_accuracy: 0.0960 - val_recall: 0.0000e+00 - val_specificity: 1.0000 - val_f1_score: 0.0000e+00\n",
            "Epoch 00006: early stopping\n"
          ],
          "name": "stdout"
        },
        {
          "output_type": "execute_result",
          "data": {
            "text/plain": [
              "<tensorflow.python.keras.callbacks.History at 0x7f628ebc16d8>"
            ]
          },
          "metadata": {
            "tags": []
          },
          "execution_count": 32
        }
      ]
    },
    {
      "cell_type": "markdown",
      "metadata": {
        "id": "8zO3MjDreEnc"
      },
      "source": [
        "###### Skenario $3.2.10.$ ($\\text{batch_number} = |\\text{data_train}|$)"
      ]
    },
    {
      "cell_type": "code",
      "metadata": {
        "id": "KvLwfuXmeZfP",
        "outputId": "6541b0e3-294d-4c0d-bfdf-0b3772eea500",
        "colab": {
          "base_uri": "https://localhost:8080/",
          "height": 275
        }
      },
      "source": [
        "convolutional_model = create_model(0.1)\n",
        "convolutional_model.fit(x_train, y_train, epochs=100, batch_size=len(x_train), validation_data=(x_test, y_test), use_multiprocessing=True, callbacks=[es])"
      ],
      "execution_count": 33,
      "outputs": [
        {
          "output_type": "stream",
          "text": [
            "Epoch 1/100\n",
            "1/1 [==============================] - 2s 2s/step - loss: 2.7696 - accuracy: 0.0878 - recall: 0.0000e+00 - specificity: 0.9999 - f1_score: 0.0000e+00 - val_loss: 12120.4717 - val_accuracy: 0.1070 - val_recall: 0.1070 - val_specificity: 0.9008 - val_f1_score: 0.1070\n",
            "Epoch 2/100\n",
            "1/1 [==============================] - 2s 2s/step - loss: 12188.6133 - accuracy: 0.0953 - recall: 0.0953 - specificity: 0.8995 - f1_score: 0.0953 - val_loss: 56.3462 - val_accuracy: 0.1007 - val_recall: 0.1007 - val_specificity: 0.9001 - val_f1_score: 0.1007\n",
            "Epoch 3/100\n",
            "1/1 [==============================] - 2s 2s/step - loss: 55.1954 - accuracy: 0.0995 - recall: 0.0995 - specificity: 0.8999 - f1_score: 0.0995 - val_loss: 9.6537 - val_accuracy: 0.0978 - val_recall: 0.0885 - val_specificity: 0.9174 - val_f1_score: 0.0966\n",
            "Epoch 4/100\n",
            "1/1 [==============================] - 2s 2s/step - loss: 9.3452 - accuracy: 0.1023 - recall: 0.0897 - specificity: 0.9180 - f1_score: 0.0981 - val_loss: 2.5952 - val_accuracy: 0.0967 - val_recall: 0.0000e+00 - val_specificity: 1.0000 - val_f1_score: 0.0000e+00\n",
            "Epoch 5/100\n",
            "1/1 [==============================] - 2s 2s/step - loss: 2.5730 - accuracy: 0.1022 - recall: 0.0000e+00 - specificity: 1.0000 - f1_score: 0.0000e+00 - val_loss: 2.3405 - val_accuracy: 0.1040 - val_recall: 0.0000e+00 - val_specificity: 1.0000 - val_f1_score: 0.0000e+00\n",
            "Epoch 6/100\n",
            "1/1 [==============================] - 2s 2s/step - loss: 2.3331 - accuracy: 0.0973 - recall: 0.0000e+00 - specificity: 1.0000 - f1_score: 0.0000e+00 - val_loss: 2.3444 - val_accuracy: 0.1040 - val_recall: 0.0000e+00 - val_specificity: 1.0000 - val_f1_score: 0.0000e+00\n",
            "Epoch 00006: early stopping\n"
          ],
          "name": "stdout"
        },
        {
          "output_type": "execute_result",
          "data": {
            "text/plain": [
              "<tensorflow.python.keras.callbacks.History at 0x7f6294ebfcf8>"
            ]
          },
          "metadata": {
            "tags": []
          },
          "execution_count": 33
        }
      ]
    },
    {
      "cell_type": "markdown",
      "metadata": {
        "id": "pll9r-Aw0Hpv"
      },
      "source": [
        "###### Kesimpulan Skenario $3.2.$"
      ]
    },
    {
      "cell_type": "markdown",
      "metadata": {
        "id": "xIjeqYBxuJBa"
      },
      "source": [
        "Berdasarkan hasil dari skenario $3.2.1.$, $3.2.2.$, $3.2.3.$, $3.2.4.$, $3.2.5.$, $3.2.6.$, $3.2.7.$, $3.2.8.$, $3.2.9.$, dan $3.2.10.$, kesepuluh skenario mengalami _early stop_ pada $\\text{epoch} \\leq 10$. Semua skenario memiliki nilai akurasi yang rendah (sekitar $\\pm 10\\%$). Sulit untuk menentukan parameter optimal dari kelima skenario dengan urutan pengambilan skenario dari $\\text{batch_size}$ terlebih dahulu ketimbang $\\text{learning_rate}$. Untuk keberlanjutan skenario, penentuan $\\text{batch_size}$ digunakan pendekatan $\\text{batch_size} \\geq \\sqrt{|sampel|} = \\sqrt{10000 \\cdot 0,6} \\approx 77$. Nilai $\\text{batch_size}$ yang mendekati dari skenario tersebut adalah nilai $\\text{batch_size}$ pada skenario $3.2.4.$ yaitu $75$."
      ]
    },
    {
      "cell_type": "markdown",
      "metadata": {
        "id": "YcX10i1J0cso"
      },
      "source": [
        "##### Melakukan Skenario $3.3.$ (Mengubah $\\text{learning_rate}$)"
      ]
    },
    {
      "cell_type": "markdown",
      "metadata": {
        "id": "urtNgG400yNq"
      },
      "source": [
        "###### Skenario $3.3.1.$ ($\\text{learning_rate} = 0.25$)"
      ]
    },
    {
      "cell_type": "code",
      "metadata": {
        "id": "OlsPZP911QSa",
        "outputId": "b3d0da88-2744-4143-efc9-78e8ed8f05ad",
        "colab": {
          "base_uri": "https://localhost:8080/",
          "height": 139
        }
      },
      "source": [
        "convolutional_model = create_model(0.25)\n",
        "convolutional_model.fit(x_train, y_train, epochs=100, batch_size=75, validation_data=(x_test, y_test), use_multiprocessing=True, callbacks=[es])"
      ],
      "execution_count": 34,
      "outputs": [
        {
          "output_type": "stream",
          "text": [
            "Epoch 1/100\n",
            "80/80 [==============================] - 12s 154ms/step - loss: 8134.2158 - accuracy: 0.0998 - recall: 0.0048 - specificity: 0.9932 - f1_score: 0.0048 - val_loss: 2.3071 - val_accuracy: 0.1007 - val_recall: 0.0000e+00 - val_specificity: 1.0000 - val_f1_score: 0.0000e+00\n",
            "Epoch 2/100\n",
            "80/80 [==============================] - 12s 150ms/step - loss: 2.3148 - accuracy: 0.0987 - recall: 0.0000e+00 - specificity: 1.0000 - f1_score: 0.0000e+00 - val_loss: 2.3264 - val_accuracy: 0.0970 - val_recall: 0.0000e+00 - val_specificity: 1.0000 - val_f1_score: 0.0000e+00\n",
            "Epoch 00002: early stopping\n"
          ],
          "name": "stdout"
        },
        {
          "output_type": "execute_result",
          "data": {
            "text/plain": [
              "<tensorflow.python.keras.callbacks.History at 0x7f628aff56a0>"
            ]
          },
          "metadata": {
            "tags": []
          },
          "execution_count": 34
        }
      ]
    },
    {
      "cell_type": "markdown",
      "metadata": {
        "id": "R1gAH_kDvFh7"
      },
      "source": [
        "###### Skenario $3.3.2.$ ($\\text{learning_rate} = 0.1$)"
      ]
    },
    {
      "cell_type": "code",
      "metadata": {
        "id": "bJOIAForvHGC",
        "outputId": "983dbc45-117a-4a65-9ebb-d9663eca3285",
        "colab": {
          "base_uri": "https://localhost:8080/",
          "height": 139
        }
      },
      "source": [
        "convolutional_model = create_model(0.1)\n",
        "convolutional_model.fit(x_train, y_train, epochs=100, batch_size=75, validation_data=(x_test, y_test), use_multiprocessing=True, callbacks=[es])"
      ],
      "execution_count": 90,
      "outputs": [
        {
          "output_type": "stream",
          "text": [
            "Epoch 1/100\n",
            "80/80 [==============================] - 13s 157ms/step - loss: 121.2754 - accuracy: 0.0972 - recall: 0.0080 - specificity: 0.9929 - f1_score: 0.0081 - val_loss: 2.3036 - val_accuracy: 0.0975 - val_recall: 0.0000e+00 - val_specificity: 1.0000 - val_f1_score: 0.0000e+00\n",
            "Epoch 2/100\n",
            "80/80 [==============================] - 12s 149ms/step - loss: 2.3094 - accuracy: 0.0963 - recall: 0.0000e+00 - specificity: 1.0000 - f1_score: 0.0000e+00 - val_loss: 2.3044 - val_accuracy: 0.1007 - val_recall: 0.0000e+00 - val_specificity: 1.0000 - val_f1_score: 0.0000e+00\n",
            "Epoch 00002: early stopping\n"
          ],
          "name": "stdout"
        },
        {
          "output_type": "execute_result",
          "data": {
            "text/plain": [
              "<tensorflow.python.keras.callbacks.History at 0x7f627caad208>"
            ]
          },
          "metadata": {
            "tags": []
          },
          "execution_count": 90
        }
      ]
    },
    {
      "cell_type": "markdown",
      "metadata": {
        "id": "rN1n-0po08De"
      },
      "source": [
        "###### Skenario $3.3.3.$ ($\\text{learning_rate} = 0.05$)"
      ]
    },
    {
      "cell_type": "code",
      "metadata": {
        "id": "iuxjL3uI1Xxz",
        "outputId": "0fb872f9-1edf-4ac7-ea73-fe07133761c2",
        "colab": {
          "base_uri": "https://localhost:8080/",
          "height": 207
        }
      },
      "source": [
        "convolutional_model = create_model(0.05)\n",
        "convolutional_model.fit(x_train, y_train, epochs=100, batch_size=75, validation_data=(x_test, y_test), use_multiprocessing=True, callbacks=[es])"
      ],
      "execution_count": 35,
      "outputs": [
        {
          "output_type": "stream",
          "text": [
            "Epoch 1/100\n",
            "80/80 [==============================] - 12s 155ms/step - loss: 5.2252 - accuracy: 0.1050 - recall: 0.0032 - specificity: 0.9975 - f1_score: 0.0034 - val_loss: 2.3100 - val_accuracy: 0.0960 - val_recall: 0.0000e+00 - val_specificity: 1.0000 - val_f1_score: 0.0000e+00\n",
            "Epoch 2/100\n",
            "80/80 [==============================] - 12s 152ms/step - loss: 2.3084 - accuracy: 0.0982 - recall: 0.0000e+00 - specificity: 1.0000 - f1_score: 0.0000e+00 - val_loss: 2.3067 - val_accuracy: 0.0970 - val_recall: 0.0000e+00 - val_specificity: 1.0000 - val_f1_score: 0.0000e+00\n",
            "Epoch 3/100\n",
            "80/80 [==============================] - 12s 152ms/step - loss: 2.3055 - accuracy: 0.0947 - recall: 0.0000e+00 - specificity: 1.0000 - f1_score: 0.0000e+00 - val_loss: 2.3040 - val_accuracy: 0.1032 - val_recall: 0.0000e+00 - val_specificity: 1.0000 - val_f1_score: 0.0000e+00\n",
            "Epoch 4/100\n",
            "80/80 [==============================] - 12s 152ms/step - loss: 2.3056 - accuracy: 0.1022 - recall: 0.0000e+00 - specificity: 1.0000 - f1_score: 0.0000e+00 - val_loss: 2.3107 - val_accuracy: 0.0975 - val_recall: 0.0000e+00 - val_specificity: 1.0000 - val_f1_score: 0.0000e+00\n",
            "Epoch 00004: early stopping\n"
          ],
          "name": "stdout"
        },
        {
          "output_type": "execute_result",
          "data": {
            "text/plain": [
              "<tensorflow.python.keras.callbacks.History at 0x7f628a5e7cc0>"
            ]
          },
          "metadata": {
            "tags": []
          },
          "execution_count": 35
        }
      ]
    },
    {
      "cell_type": "markdown",
      "metadata": {
        "id": "mkMNveC-0-tK"
      },
      "source": [
        "###### Skenario $3.3.4.$ ($\\text{learning_rate} = 0.01$)"
      ]
    },
    {
      "cell_type": "code",
      "metadata": {
        "id": "eE2bPsLs1ayE",
        "outputId": "27e00c21-d524-4614-897a-276c751d5772",
        "colab": {
          "base_uri": "https://localhost:8080/",
          "height": 241
        }
      },
      "source": [
        "convolutional_model = create_model(0.01)\n",
        "convolutional_model.fit(x_train, y_train, epochs=100, batch_size=75, validation_data=(x_test, y_test), use_multiprocessing=True, callbacks=[es])"
      ],
      "execution_count": 36,
      "outputs": [
        {
          "output_type": "stream",
          "text": [
            "Epoch 1/100\n",
            "80/80 [==============================] - 13s 157ms/step - loss: 2.4333 - accuracy: 0.1623 - recall: 0.0033 - specificity: 0.9981 - f1_score: 0.0057 - val_loss: 2.0327 - val_accuracy: 0.2455 - val_recall: 0.0037 - val_specificity: 0.9996 - val_f1_score: 0.0073\n",
            "Epoch 2/100\n",
            "80/80 [==============================] - 12s 153ms/step - loss: 1.8043 - accuracy: 0.3367 - recall: 0.0647 - specificity: 0.9942 - f1_score: 0.1124 - val_loss: 1.7357 - val_accuracy: 0.3618 - val_recall: 0.1106 - val_specificity: 0.9916 - val_f1_score: 0.1849\n",
            "Epoch 3/100\n",
            "80/80 [==============================] - 12s 156ms/step - loss: 1.6181 - accuracy: 0.4177 - recall: 0.1475 - specificity: 0.9899 - f1_score: 0.2347 - val_loss: 1.6401 - val_accuracy: 0.4020 - val_recall: 0.1546 - val_specificity: 0.9886 - val_f1_score: 0.2444\n",
            "Epoch 4/100\n",
            "80/80 [==============================] - 13s 159ms/step - loss: 1.5000 - accuracy: 0.4510 - recall: 0.2218 - specificity: 0.9871 - f1_score: 0.3291 - val_loss: 1.5452 - val_accuracy: 0.4500 - val_recall: 0.2244 - val_specificity: 0.9860 - val_f1_score: 0.3311\n",
            "Epoch 5/100\n",
            "80/80 [==============================] - 12s 155ms/step - loss: 1.4253 - accuracy: 0.4843 - recall: 0.2765 - specificity: 0.9850 - f1_score: 0.3896 - val_loss: 1.6979 - val_accuracy: 0.4170 - val_recall: 0.2341 - val_specificity: 0.9792 - val_f1_score: 0.3284\n",
            "Epoch 00005: early stopping\n"
          ],
          "name": "stdout"
        },
        {
          "output_type": "execute_result",
          "data": {
            "text/plain": [
              "<tensorflow.python.keras.callbacks.History at 0x7f628a36bcf8>"
            ]
          },
          "metadata": {
            "tags": []
          },
          "execution_count": 36
        }
      ]
    },
    {
      "cell_type": "markdown",
      "metadata": {
        "id": "vPZChoED1An_"
      },
      "source": [
        "###### Skenario $3.3.5.$ ($\\text{learning_rate} = 0.005$)"
      ]
    },
    {
      "cell_type": "code",
      "metadata": {
        "id": "SvPgU0-Z1dTI",
        "outputId": "ad6a0803-631c-4b73-8eea-db2969782367",
        "colab": {
          "base_uri": "https://localhost:8080/",
          "height": 173
        }
      },
      "source": [
        "convolutional_model = create_model(0.005)\n",
        "convolutional_model.fit(x_train, y_train, epochs=100, batch_size=75, validation_data=(x_test, y_test), use_multiprocessing=True, callbacks=[es])"
      ],
      "execution_count": 37,
      "outputs": [
        {
          "output_type": "stream",
          "text": [
            "Epoch 1/100\n",
            "80/80 [==============================] - 12s 155ms/step - loss: 2.2852 - accuracy: 0.1903 - recall: 0.0080 - specificity: 0.9968 - f1_score: 0.0127 - val_loss: 1.9011 - val_accuracy: 0.2973 - val_recall: 0.0822 - val_specificity: 0.9883 - val_f1_score: 0.1370\n",
            "Epoch 2/100\n",
            "80/80 [==============================] - 12s 151ms/step - loss: 1.7017 - accuracy: 0.3807 - recall: 0.1055 - specificity: 0.9914 - f1_score: 0.1747 - val_loss: 1.6187 - val_accuracy: 0.4060 - val_recall: 0.1657 - val_specificity: 0.9883 - val_f1_score: 0.2586\n",
            "Epoch 3/100\n",
            "80/80 [==============================] - 12s 152ms/step - loss: 1.5442 - accuracy: 0.4300 - recall: 0.1982 - specificity: 0.9870 - f1_score: 0.2987 - val_loss: 1.6434 - val_accuracy: 0.4120 - val_recall: 0.1607 - val_specificity: 0.9891 - val_f1_score: 0.2539\n",
            "Epoch 00003: early stopping\n"
          ],
          "name": "stdout"
        },
        {
          "output_type": "execute_result",
          "data": {
            "text/plain": [
              "<tensorflow.python.keras.callbacks.History at 0x7f628a078a90>"
            ]
          },
          "metadata": {
            "tags": []
          },
          "execution_count": 37
        }
      ]
    },
    {
      "cell_type": "markdown",
      "metadata": {
        "id": "wJr_rlhB1JGh"
      },
      "source": [
        "###### Skenario $3.3.6.$ ($\\text{learning_rate} = 0.001$)"
      ]
    },
    {
      "cell_type": "code",
      "metadata": {
        "id": "KFwKZqUP1fBz",
        "outputId": "173fd00d-11b4-40af-a41a-34e3403e1e8f",
        "colab": {
          "base_uri": "https://localhost:8080/",
          "height": 207
        }
      },
      "source": [
        "convolutional_model = create_model(0.001)\n",
        "convolutional_model.fit(x_train, y_train, epochs=100, batch_size=75, validation_data=(x_test, y_test), use_multiprocessing=True, callbacks=[es])"
      ],
      "execution_count": 38,
      "outputs": [
        {
          "output_type": "stream",
          "text": [
            "Epoch 1/100\n",
            "80/80 [==============================] - 14s 176ms/step - loss: 2.0701 - accuracy: 0.2437 - recall: 0.0125 - specificity: 0.9985 - f1_score: 0.0230 - val_loss: 1.7434 - val_accuracy: 0.3722 - val_recall: 0.0472 - val_specificity: 0.9966 - val_f1_score: 0.0866\n",
            "Epoch 2/100\n",
            "80/80 [==============================] - 18s 226ms/step - loss: 1.6177 - accuracy: 0.4168 - recall: 0.1270 - specificity: 0.9918 - f1_score: 0.2082 - val_loss: 1.6134 - val_accuracy: 0.4223 - val_recall: 0.1519 - val_specificity: 0.9904 - val_f1_score: 0.2432\n",
            "Epoch 3/100\n",
            "80/80 [==============================] - 18s 220ms/step - loss: 1.4259 - accuracy: 0.4857 - recall: 0.2288 - specificity: 0.9887 - f1_score: 0.3400 - val_loss: 1.4329 - val_accuracy: 0.4820 - val_recall: 0.2585 - val_specificity: 0.9862 - val_f1_score: 0.3719\n",
            "Epoch 4/100\n",
            "80/80 [==============================] - 18s 223ms/step - loss: 1.2938 - accuracy: 0.5362 - recall: 0.3118 - specificity: 0.9866 - f1_score: 0.4336 - val_loss: 1.4453 - val_accuracy: 0.4902 - val_recall: 0.3044 - val_specificity: 0.9817 - val_f1_score: 0.4134\n",
            "Epoch 00004: early stopping\n"
          ],
          "name": "stdout"
        },
        {
          "output_type": "execute_result",
          "data": {
            "text/plain": [
              "<tensorflow.python.keras.callbacks.History at 0x7f62875b4cf8>"
            ]
          },
          "metadata": {
            "tags": []
          },
          "execution_count": 38
        }
      ]
    },
    {
      "cell_type": "markdown",
      "metadata": {
        "id": "eNWcw6jIuAx9"
      },
      "source": [
        "###### Kesimpulan Skenario $3.3.$"
      ]
    },
    {
      "cell_type": "markdown",
      "metadata": {
        "id": "yD3FdlZ8nCGT"
      },
      "source": [
        "Berdasarkan hasil dari skenario $3.3.1.$, $3.3.2.$, $3.3.3.$, $3.3.4.$, $3.3.5.$ dan $3.3.6.$, skenario $3.3.4.$ menghasilkan akurasi yang paling baik. Dengan demikian $\\text{learning_rate}$ optimal dari skenario-skenario tersebut adalah $\\text{learning_rate}$ dari skenario $3.3.4.$, yaitu $0.001$."
      ]
    },
    {
      "cell_type": "markdown",
      "metadata": {
        "id": "W0ojZluBUfi6"
      },
      "source": [
        "#### 4.\n",
        "Simpan _checkpoint_ dari tiap _interval_ $\\text{epoch}$ dan model final dari proses training dari model $\\text{Convolutional Neural Network}$ dengan parameter optimal yang diperoleh dari skenario agar bisa digunakan kembali untuk proses training selanjutnya."
      ]
    },
    {
      "cell_type": "code",
      "metadata": {
        "id": "0pzItHWEz1u0",
        "outputId": "bcbdbbf2-da33-4158-c529-f917786f13c0",
        "colab": {
          "base_uri": "https://localhost:8080/",
          "height": 1000
        }
      },
      "source": [
        "checkpoint = ModelCheckpoint(\"checkpoint_model.h5\", monitor='loss', verbose=1, mode='auto', save_freq=1)\n",
        "final_convolutional_model = create_model(0.001)\n",
        "history = final_convolutional_model.fit(x_train, y_train, epochs=100, batch_size=75, validation_data=(x_test, y_test), use_multiprocessing=True, callbacks=[es, checkpoint])"
      ],
      "execution_count": 39,
      "outputs": [
        {
          "output_type": "stream",
          "text": [
            "Epoch 1/100\n",
            "\n",
            "Epoch 00001: saving model to checkpoint_model.h5\n",
            " 1/80 [..............................] - ETA: 0s - loss: 2.4733 - accuracy: 0.0800 - recall: 0.0000e+00 - specificity: 1.0000 - f1_score: 0.0000e+00\n",
            "Epoch 00001: saving model to checkpoint_model.h5\n",
            " 2/80 [..............................] - ETA: 6s - loss: 2.4923 - accuracy: 0.0933 - recall: 0.0000e+00 - specificity: 1.0000 - f1_score: 0.0000e+00\n",
            "Epoch 00001: saving model to checkpoint_model.h5\n",
            " 3/80 [>.............................] - ETA: 8s - loss: 2.4144 - accuracy: 0.1244 - recall: 0.0000e+00 - specificity: 1.0000 - f1_score: 0.0000e+00\n",
            "Epoch 00001: saving model to checkpoint_model.h5\n",
            " 4/80 [>.............................] - ETA: 9s - loss: 2.4036 - accuracy: 0.1167 - recall: 0.0000e+00 - specificity: 1.0000 - f1_score: 0.0000e+00\n",
            "Epoch 00001: saving model to checkpoint_model.h5\n",
            " 5/80 [>.............................] - ETA: 10s - loss: 2.3793 - accuracy: 0.1253 - recall: 0.0000e+00 - specificity: 1.0000 - f1_score: 0.0000e+00\n",
            "Epoch 00001: saving model to checkpoint_model.h5\n",
            " 6/80 [=>............................] - ETA: 10s - loss: 2.3545 - accuracy: 0.1422 - recall: 0.0000e+00 - specificity: 1.0000 - f1_score: 0.0000e+00\n",
            "Epoch 00001: saving model to checkpoint_model.h5\n",
            " 7/80 [=>............................] - ETA: 10s - loss: 2.3379 - accuracy: 0.1410 - recall: 0.0000e+00 - specificity: 1.0000 - f1_score: 0.0000e+00\n",
            "Epoch 00001: saving model to checkpoint_model.h5\n",
            " 8/80 [==>...........................] - ETA: 10s - loss: 2.3239 - accuracy: 0.1450 - recall: 0.0000e+00 - specificity: 1.0000 - f1_score: 0.0000e+00\n",
            "Epoch 00001: saving model to checkpoint_model.h5\n",
            " 9/80 [==>...........................] - ETA: 10s - loss: 2.3155 - accuracy: 0.1526 - recall: 0.0000e+00 - specificity: 1.0000 - f1_score: 0.0000e+00\n",
            "Epoch 00001: saving model to checkpoint_model.h5\n",
            "10/80 [==>...........................] - ETA: 10s - loss: 2.2986 - accuracy: 0.1600 - recall: 0.0000e+00 - specificity: 1.0000 - f1_score: 0.0000e+00\n",
            "Epoch 00001: saving model to checkpoint_model.h5\n",
            "11/80 [===>..........................] - ETA: 10s - loss: 2.2919 - accuracy: 0.1624 - recall: 0.0000e+00 - specificity: 1.0000 - f1_score: 0.0000e+00\n",
            "Epoch 00001: saving model to checkpoint_model.h5\n",
            "12/80 [===>..........................] - ETA: 10s - loss: 2.2860 - accuracy: 0.1656 - recall: 0.0000e+00 - specificity: 1.0000 - f1_score: 0.0000e+00\n",
            "Epoch 00001: saving model to checkpoint_model.h5\n",
            "13/80 [===>..........................] - ETA: 10s - loss: 2.2777 - accuracy: 0.1692 - recall: 0.0000e+00 - specificity: 1.0000 - f1_score: 0.0000e+00\n",
            "Epoch 00001: saving model to checkpoint_model.h5\n",
            "14/80 [====>.........................] - ETA: 10s - loss: 2.2698 - accuracy: 0.1686 - recall: 0.0000e+00 - specificity: 1.0000 - f1_score: 0.0000e+00\n",
            "Epoch 00001: saving model to checkpoint_model.h5\n",
            "15/80 [====>.........................] - ETA: 10s - loss: 2.2581 - accuracy: 0.1796 - recall: 0.0000e+00 - specificity: 1.0000 - f1_score: 0.0000e+00\n",
            "Epoch 00001: saving model to checkpoint_model.h5\n",
            "16/80 [=====>........................] - ETA: 10s - loss: 2.2499 - accuracy: 0.1842 - recall: 0.0000e+00 - specificity: 1.0000 - f1_score: 0.0000e+00\n",
            "Epoch 00001: saving model to checkpoint_model.h5\n",
            "17/80 [=====>........................] - ETA: 10s - loss: 2.2399 - accuracy: 0.1875 - recall: 0.0000e+00 - specificity: 1.0000 - f1_score: 0.0000e+00\n",
            "Epoch 00001: saving model to checkpoint_model.h5\n",
            "18/80 [=====>........................] - ETA: 10s - loss: 2.2348 - accuracy: 0.1919 - recall: 0.0000e+00 - specificity: 1.0000 - f1_score: 0.0000e+00\n",
            "Epoch 00001: saving model to checkpoint_model.h5\n",
            "19/80 [======>.......................] - ETA: 10s - loss: 2.2270 - accuracy: 0.1902 - recall: 0.0000e+00 - specificity: 1.0000 - f1_score: 0.0000e+00\n",
            "Epoch 00001: saving model to checkpoint_model.h5\n",
            "20/80 [======>.......................] - ETA: 9s - loss: 2.2155 - accuracy: 0.1913 - recall: 0.0000e+00 - specificity: 1.0000 - f1_score: 0.0000e+00 \n",
            "Epoch 00001: saving model to checkpoint_model.h5\n",
            "21/80 [======>.......................] - ETA: 9s - loss: 2.2044 - accuracy: 0.1937 - recall: 0.0000e+00 - specificity: 1.0000 - f1_score: 0.0000e+00\n",
            "Epoch 00001: saving model to checkpoint_model.h5\n",
            "22/80 [=======>......................] - ETA: 9s - loss: 2.1994 - accuracy: 0.1952 - recall: 0.0000e+00 - specificity: 1.0000 - f1_score: 0.0000e+00\n",
            "Epoch 00001: saving model to checkpoint_model.h5\n",
            "23/80 [=======>......................] - ETA: 9s - loss: 2.1918 - accuracy: 0.1948 - recall: 0.0000e+00 - specificity: 1.0000 - f1_score: 0.0000e+00\n",
            "Epoch 00001: saving model to checkpoint_model.h5\n",
            "24/80 [========>.....................] - ETA: 9s - loss: 2.1895 - accuracy: 0.1972 - recall: 0.0000e+00 - specificity: 0.9999 - f1_score: 0.0000e+00\n",
            "Epoch 00001: saving model to checkpoint_model.h5\n",
            "25/80 [========>.....................] - ETA: 9s - loss: 2.1852 - accuracy: 0.1973 - recall: 0.0000e+00 - specificity: 0.9999 - f1_score: 0.0000e+00\n",
            "Epoch 00001: saving model to checkpoint_model.h5\n",
            "26/80 [========>.....................] - ETA: 9s - loss: 2.1747 - accuracy: 0.2036 - recall: 0.0000e+00 - specificity: 0.9999 - f1_score: 0.0000e+00\n",
            "Epoch 00001: saving model to checkpoint_model.h5\n",
            "27/80 [=========>....................] - ETA: 8s - loss: 2.1677 - accuracy: 0.2064 - recall: 9.8765e-04 - specificity: 0.9999 - f1_score: 0.0019    \n",
            "Epoch 00001: saving model to checkpoint_model.h5\n",
            "28/80 [=========>....................] - ETA: 8s - loss: 2.1610 - accuracy: 0.2076 - recall: 0.0024 - specificity: 0.9998 - f1_score: 0.0045    \n",
            "Epoch 00001: saving model to checkpoint_model.h5\n",
            "29/80 [=========>....................] - ETA: 8s - loss: 2.1525 - accuracy: 0.2083 - recall: 0.0032 - specificity: 0.9997 - f1_score: 0.0061\n",
            "Epoch 00001: saving model to checkpoint_model.h5\n",
            "30/80 [==========>...................] - ETA: 8s - loss: 2.1489 - accuracy: 0.2102 - recall: 0.0036 - specificity: 0.9996 - f1_score: 0.0068\n",
            "Epoch 00001: saving model to checkpoint_model.h5\n",
            "31/80 [==========>...................] - ETA: 8s - loss: 2.1452 - accuracy: 0.2125 - recall: 0.0047 - specificity: 0.9995 - f1_score: 0.0090\n",
            "Epoch 00001: saving model to checkpoint_model.h5\n",
            "32/80 [===========>..................] - ETA: 8s - loss: 2.1424 - accuracy: 0.2133 - recall: 0.0046 - specificity: 0.9995 - f1_score: 0.0087\n",
            "Epoch 00001: saving model to checkpoint_model.h5\n",
            "33/80 [===========>..................] - ETA: 8s - loss: 2.1401 - accuracy: 0.2141 - recall: 0.0048 - specificity: 0.9995 - f1_score: 0.0092\n",
            "Epoch 00001: saving model to checkpoint_model.h5\n",
            "34/80 [===========>..................] - ETA: 7s - loss: 2.1342 - accuracy: 0.2188 - recall: 0.0055 - specificity: 0.9993 - f1_score: 0.0104\n",
            "Epoch 00001: saving model to checkpoint_model.h5\n",
            "35/80 [============>.................] - ETA: 7s - loss: 2.1256 - accuracy: 0.2217 - recall: 0.0065 - specificity: 0.9993 - f1_score: 0.0123\n",
            "Epoch 00001: saving model to checkpoint_model.h5\n",
            "36/80 [============>.................] - ETA: 7s - loss: 2.1191 - accuracy: 0.2233 - recall: 0.0074 - specificity: 0.9993 - f1_score: 0.0141\n",
            "Epoch 00001: saving model to checkpoint_model.h5\n",
            "37/80 [============>.................] - ETA: 7s - loss: 2.1126 - accuracy: 0.2249 - recall: 0.0083 - specificity: 0.9993 - f1_score: 0.0157\n",
            "Epoch 00001: saving model to checkpoint_model.h5\n",
            "38/80 [=============>................] - ETA: 7s - loss: 2.1056 - accuracy: 0.2284 - recall: 0.0084 - specificity: 0.9993 - f1_score: 0.0160\n",
            "Epoch 00001: saving model to checkpoint_model.h5\n",
            "39/80 [=============>................] - ETA: 7s - loss: 2.1012 - accuracy: 0.2280 - recall: 0.0082 - specificity: 0.9993 - f1_score: 0.0156\n",
            "Epoch 00001: saving model to checkpoint_model.h5\n",
            "40/80 [==============>...............] - ETA: 6s - loss: 2.0958 - accuracy: 0.2310 - recall: 0.0087 - specificity: 0.9993 - f1_score: 0.0165\n",
            "Epoch 00001: saving model to checkpoint_model.h5\n",
            "41/80 [==============>...............] - ETA: 6s - loss: 2.0852 - accuracy: 0.2361 - recall: 0.0091 - specificity: 0.9993 - f1_score: 0.0173\n",
            "Epoch 00001: saving model to checkpoint_model.h5\n",
            "42/80 [==============>...............] - ETA: 6s - loss: 2.0815 - accuracy: 0.2365 - recall: 0.0095 - specificity: 0.9993 - f1_score: 0.0181\n",
            "Epoch 00001: saving model to checkpoint_model.h5\n",
            "43/80 [===============>..............] - ETA: 6s - loss: 2.0765 - accuracy: 0.2357 - recall: 0.0102 - specificity: 0.9992 - f1_score: 0.0195\n",
            "Epoch 00001: saving model to checkpoint_model.h5\n",
            "44/80 [===============>..............] - ETA: 6s - loss: 2.0703 - accuracy: 0.2376 - recall: 0.0112 - specificity: 0.9992 - f1_score: 0.0213\n",
            "Epoch 00001: saving model to checkpoint_model.h5\n",
            "45/80 [===============>..............] - ETA: 6s - loss: 2.0635 - accuracy: 0.2403 - recall: 0.0113 - specificity: 0.9991 - f1_score: 0.0214\n",
            "Epoch 00001: saving model to checkpoint_model.h5\n",
            "46/80 [================>.............] - ETA: 5s - loss: 2.0554 - accuracy: 0.2438 - recall: 0.0130 - specificity: 0.9991 - f1_score: 0.0246\n",
            "Epoch 00001: saving model to checkpoint_model.h5\n",
            "47/80 [================>.............] - ETA: 5s - loss: 2.0498 - accuracy: 0.2443 - recall: 0.0142 - specificity: 0.9991 - f1_score: 0.0266\n",
            "Epoch 00001: saving model to checkpoint_model.h5\n",
            "48/80 [=================>............] - ETA: 5s - loss: 2.0450 - accuracy: 0.2464 - recall: 0.0158 - specificity: 0.9990 - f1_score: 0.0296\n",
            "Epoch 00001: saving model to checkpoint_model.h5\n",
            "49/80 [=================>............] - ETA: 5s - loss: 2.0403 - accuracy: 0.2476 - recall: 0.0158 - specificity: 0.9990 - f1_score: 0.0295\n",
            "Epoch 00001: saving model to checkpoint_model.h5\n",
            "50/80 [=================>............] - ETA: 5s - loss: 2.0356 - accuracy: 0.2501 - recall: 0.0163 - specificity: 0.9989 - f1_score: 0.0304\n",
            "Epoch 00001: saving model to checkpoint_model.h5\n",
            "51/80 [==================>...........] - ETA: 5s - loss: 2.0275 - accuracy: 0.2536 - recall: 0.0186 - specificity: 0.9988 - f1_score: 0.0342\n",
            "Epoch 00001: saving model to checkpoint_model.h5\n",
            "52/80 [==================>...........] - ETA: 4s - loss: 2.0259 - accuracy: 0.2541 - recall: 0.0195 - specificity: 0.9987 - f1_score: 0.0358\n",
            "Epoch 00001: saving model to checkpoint_model.h5\n",
            "53/80 [==================>...........] - ETA: 4s - loss: 2.0218 - accuracy: 0.2556 - recall: 0.0199 - specificity: 0.9987 - f1_score: 0.0365\n",
            "Epoch 00001: saving model to checkpoint_model.h5\n",
            "54/80 [===================>..........] - ETA: 4s - loss: 2.0170 - accuracy: 0.2583 - recall: 0.0207 - specificity: 0.9986 - f1_score: 0.0381\n",
            "Epoch 00001: saving model to checkpoint_model.h5\n",
            "55/80 [===================>..........] - ETA: 4s - loss: 2.0107 - accuracy: 0.2599 - recall: 0.0221 - specificity: 0.9985 - f1_score: 0.0404\n",
            "Epoch 00001: saving model to checkpoint_model.h5\n",
            "56/80 [====================>.........] - ETA: 4s - loss: 2.0119 - accuracy: 0.2588 - recall: 0.0229 - specificity: 0.9984 - f1_score: 0.0418\n",
            "Epoch 00001: saving model to checkpoint_model.h5\n",
            "57/80 [====================>.........] - ETA: 3s - loss: 2.0066 - accuracy: 0.2608 - recall: 0.0246 - specificity: 0.9983 - f1_score: 0.0446\n",
            "Epoch 00001: saving model to checkpoint_model.h5\n",
            "58/80 [====================>.........] - ETA: 3s - loss: 2.0041 - accuracy: 0.2607 - recall: 0.0248 - specificity: 0.9983 - f1_score: 0.0451\n",
            "Epoch 00001: saving model to checkpoint_model.h5\n",
            "59/80 [=====================>........] - ETA: 3s - loss: 2.0028 - accuracy: 0.2624 - recall: 0.0251 - specificity: 0.9983 - f1_score: 0.0456\n",
            "Epoch 00001: saving model to checkpoint_model.h5\n",
            "60/80 [=====================>........] - ETA: 3s - loss: 1.9962 - accuracy: 0.2649 - recall: 0.0256 - specificity: 0.9983 - f1_score: 0.0465\n",
            "Epoch 00001: saving model to checkpoint_model.h5\n",
            "61/80 [=====================>........] - ETA: 3s - loss: 1.9912 - accuracy: 0.2669 - recall: 0.0264 - specificity: 0.9982 - f1_score: 0.0481\n",
            "Epoch 00001: saving model to checkpoint_model.h5\n",
            "62/80 [======================>.......] - ETA: 3s - loss: 1.9844 - accuracy: 0.2690 - recall: 0.0282 - specificity: 0.9981 - f1_score: 0.0509\n",
            "Epoch 00001: saving model to checkpoint_model.h5\n",
            "63/80 [======================>.......] - ETA: 2s - loss: 1.9809 - accuracy: 0.2713 - recall: 0.0292 - specificity: 0.9980 - f1_score: 0.0526\n",
            "Epoch 00001: saving model to checkpoint_model.h5\n",
            "64/80 [=======================>......] - ETA: 2s - loss: 1.9782 - accuracy: 0.2735 - recall: 0.0296 - specificity: 0.9979 - f1_score: 0.0533\n",
            "Epoch 00001: saving model to checkpoint_model.h5\n",
            "65/80 [=======================>......] - ETA: 2s - loss: 1.9761 - accuracy: 0.2749 - recall: 0.0297 - specificity: 0.9978 - f1_score: 0.0535\n",
            "Epoch 00001: saving model to checkpoint_model.h5\n",
            "66/80 [=======================>......] - ETA: 2s - loss: 1.9728 - accuracy: 0.2756 - recall: 0.0307 - specificity: 0.9977 - f1_score: 0.0552\n",
            "Epoch 00001: saving model to checkpoint_model.h5\n",
            "67/80 [========================>.....] - ETA: 2s - loss: 1.9694 - accuracy: 0.2768 - recall: 0.0318 - specificity: 0.9977 - f1_score: 0.0571\n",
            "Epoch 00001: saving model to checkpoint_model.h5\n",
            "68/80 [========================>.....] - ETA: 2s - loss: 1.9653 - accuracy: 0.2786 - recall: 0.0324 - specificity: 0.9976 - f1_score: 0.0580\n",
            "Epoch 00001: saving model to checkpoint_model.h5\n",
            "69/80 [========================>.....] - ETA: 1s - loss: 1.9588 - accuracy: 0.2815 - recall: 0.0342 - specificity: 0.9974 - f1_score: 0.0608\n",
            "Epoch 00001: saving model to checkpoint_model.h5\n",
            "70/80 [=========================>....] - ETA: 1s - loss: 1.9551 - accuracy: 0.2838 - recall: 0.0364 - specificity: 0.9973 - f1_score: 0.0640\n",
            "Epoch 00001: saving model to checkpoint_model.h5\n",
            "71/80 [=========================>....] - ETA: 1s - loss: 1.9523 - accuracy: 0.2851 - recall: 0.0376 - specificity: 0.9972 - f1_score: 0.0659\n",
            "Epoch 00001: saving model to checkpoint_model.h5\n",
            "72/80 [==========================>...] - ETA: 1s - loss: 1.9505 - accuracy: 0.2861 - recall: 0.0381 - specificity: 0.9971 - f1_score: 0.0669\n",
            "Epoch 00001: saving model to checkpoint_model.h5\n",
            "73/80 [==========================>...] - ETA: 1s - loss: 1.9483 - accuracy: 0.2882 - recall: 0.0391 - specificity: 0.9971 - f1_score: 0.0685\n",
            "Epoch 00001: saving model to checkpoint_model.h5\n",
            "74/80 [==========================>...] - ETA: 1s - loss: 1.9459 - accuracy: 0.2892 - recall: 0.0395 - specificity: 0.9971 - f1_score: 0.0692\n",
            "Epoch 00001: saving model to checkpoint_model.h5\n",
            "75/80 [===========================>..] - ETA: 0s - loss: 1.9441 - accuracy: 0.2894 - recall: 0.0398 - specificity: 0.9970 - f1_score: 0.0699\n",
            "Epoch 00001: saving model to checkpoint_model.h5\n",
            "76/80 [===========================>..] - ETA: 0s - loss: 1.9412 - accuracy: 0.2904 - recall: 0.0402 - specificity: 0.9969 - f1_score: 0.0705\n",
            "Epoch 00001: saving model to checkpoint_model.h5\n",
            "77/80 [===========================>..] - ETA: 0s - loss: 1.9361 - accuracy: 0.2925 - recall: 0.0416 - specificity: 0.9969 - f1_score: 0.0727\n",
            "Epoch 00001: saving model to checkpoint_model.h5\n",
            "78/80 [============================>.] - ETA: 0s - loss: 1.9359 - accuracy: 0.2930 - recall: 0.0422 - specificity: 0.9967 - f1_score: 0.0737\n",
            "Epoch 00001: saving model to checkpoint_model.h5\n",
            "79/80 [============================>.] - ETA: 0s - loss: 1.9347 - accuracy: 0.2935 - recall: 0.0435 - specificity: 0.9966 - f1_score: 0.0758\n",
            "Epoch 00001: saving model to checkpoint_model.h5\n",
            "80/80 [==============================] - 18s 226ms/step - loss: 1.9322 - accuracy: 0.2943 - recall: 0.0433 - specificity: 0.9966 - f1_score: 0.0754 - val_loss: 1.7606 - val_accuracy: 0.3507 - val_recall: 0.0607 - val_specificity: 0.9961 - val_f1_score: 0.1098\n",
            "Epoch 2/100\n",
            "\n",
            "Epoch 00002: saving model to checkpoint_model.h5\n",
            " 1/80 [..............................] - ETA: 0s - loss: 1.9512 - accuracy: 0.3200 - recall: 0.0267 - specificity: 0.9941 - f1_score: 0.0494\n",
            "Epoch 00002: saving model to checkpoint_model.h5\n",
            " 2/80 [..............................] - ETA: 8s - loss: 1.8160 - accuracy: 0.3733 - recall: 0.0533 - specificity: 0.9963 - f1_score: 0.0979\n",
            "Epoch 00002: saving model to checkpoint_model.h5\n",
            " 3/80 [>.............................] - ETA: 12s - loss: 1.7558 - accuracy: 0.3911 - recall: 0.0667 - specificity: 0.9960 - f1_score: 0.1201\n",
            "Epoch 00002: saving model to checkpoint_model.h5\n",
            " 4/80 [>.............................] - ETA: 13s - loss: 1.7298 - accuracy: 0.4100 - recall: 0.0800 - specificity: 0.9959 - f1_score: 0.1418\n",
            "Epoch 00002: saving model to checkpoint_model.h5\n",
            " 5/80 [>.............................] - ETA: 13s - loss: 1.7332 - accuracy: 0.3787 - recall: 0.0747 - specificity: 0.9944 - f1_score: 0.1319\n",
            "Epoch 00002: saving model to checkpoint_model.h5\n",
            " 6/80 [=>............................] - ETA: 14s - loss: 1.7521 - accuracy: 0.3778 - recall: 0.0733 - specificity: 0.9931 - f1_score: 0.1286\n",
            "Epoch 00002: saving model to checkpoint_model.h5\n",
            " 7/80 [=>............................] - ETA: 14s - loss: 1.7565 - accuracy: 0.3790 - recall: 0.0800 - specificity: 0.9932 - f1_score: 0.1395\n",
            "Epoch 00002: saving model to checkpoint_model.h5\n",
            " 8/80 [==>...........................] - ETA: 14s - loss: 1.7488 - accuracy: 0.3833 - recall: 0.0767 - specificity: 0.9935 - f1_score: 0.1342\n",
            "Epoch 00002: saving model to checkpoint_model.h5\n",
            " 9/80 [==>...........................] - ETA: 14s - loss: 1.7415 - accuracy: 0.3852 - recall: 0.0756 - specificity: 0.9936 - f1_score: 0.1325\n",
            "Epoch 00002: saving model to checkpoint_model.h5\n",
            "10/80 [==>...........................] - ETA: 14s - loss: 1.7406 - accuracy: 0.3920 - recall: 0.0747 - specificity: 0.9941 - f1_score: 0.1316\n",
            "Epoch 00002: saving model to checkpoint_model.h5\n",
            "11/80 [===>..........................] - ETA: 14s - loss: 1.7273 - accuracy: 0.3976 - recall: 0.0824 - specificity: 0.9943 - f1_score: 0.1442\n",
            "Epoch 00002: saving model to checkpoint_model.h5\n",
            "12/80 [===>..........................] - ETA: 14s - loss: 1.7234 - accuracy: 0.3944 - recall: 0.0833 - specificity: 0.9944 - f1_score: 0.1459\n",
            "Epoch 00002: saving model to checkpoint_model.h5\n",
            "13/80 [===>..........................] - ETA: 13s - loss: 1.7165 - accuracy: 0.3969 - recall: 0.0841 - specificity: 0.9948 - f1_score: 0.1476\n",
            "Epoch 00002: saving model to checkpoint_model.h5\n",
            "14/80 [====>.........................] - ETA: 13s - loss: 1.7069 - accuracy: 0.3952 - recall: 0.0876 - specificity: 0.9947 - f1_score: 0.1531\n",
            "Epoch 00002: saving model to checkpoint_model.h5\n",
            "15/80 [====>.........................] - ETA: 13s - loss: 1.7048 - accuracy: 0.3911 - recall: 0.0907 - specificity: 0.9944 - f1_score: 0.1574\n",
            "Epoch 00002: saving model to checkpoint_model.h5\n",
            "16/80 [=====>........................] - ETA: 13s - loss: 1.7066 - accuracy: 0.3942 - recall: 0.0958 - specificity: 0.9941 - f1_score: 0.1647\n",
            "Epoch 00002: saving model to checkpoint_model.h5\n",
            "17/80 [=====>........................] - ETA: 13s - loss: 1.7006 - accuracy: 0.3937 - recall: 0.0996 - specificity: 0.9941 - f1_score: 0.1705\n",
            "Epoch 00002: saving model to checkpoint_model.h5\n",
            "18/80 [=====>........................] - ETA: 13s - loss: 1.6827 - accuracy: 0.4030 - recall: 0.1037 - specificity: 0.9942 - f1_score: 0.1769\n",
            "Epoch 00002: saving model to checkpoint_model.h5\n",
            "19/80 [======>.......................] - ETA: 13s - loss: 1.6856 - accuracy: 0.4007 - recall: 0.1032 - specificity: 0.9941 - f1_score: 0.1761\n",
            "Epoch 00002: saving model to checkpoint_model.h5\n",
            "20/80 [======>.......................] - ETA: 12s - loss: 1.6779 - accuracy: 0.4033 - recall: 0.1067 - specificity: 0.9941 - f1_score: 0.1814\n",
            "Epoch 00002: saving model to checkpoint_model.h5\n",
            "21/80 [======>.......................] - ETA: 12s - loss: 1.6781 - accuracy: 0.4038 - recall: 0.1086 - specificity: 0.9939 - f1_score: 0.1842\n",
            "Epoch 00002: saving model to checkpoint_model.h5\n",
            "22/80 [=======>......................] - ETA: 12s - loss: 1.6802 - accuracy: 0.4061 - recall: 0.1121 - specificity: 0.9937 - f1_score: 0.1890\n",
            "Epoch 00002: saving model to checkpoint_model.h5\n",
            "23/80 [=======>......................] - ETA: 12s - loss: 1.6790 - accuracy: 0.4064 - recall: 0.1142 - specificity: 0.9936 - f1_score: 0.1920\n",
            "Epoch 00002: saving model to checkpoint_model.h5\n",
            "24/80 [========>.....................] - ETA: 11s - loss: 1.6688 - accuracy: 0.4100 - recall: 0.1183 - specificity: 0.9936 - f1_score: 0.1981\n",
            "Epoch 00002: saving model to checkpoint_model.h5\n",
            "25/80 [========>.....................] - ETA: 11s - loss: 1.6689 - accuracy: 0.4075 - recall: 0.1173 - specificity: 0.9935 - f1_score: 0.1964\n",
            "Epoch 00002: saving model to checkpoint_model.h5\n",
            "26/80 [========>.....................] - ETA: 11s - loss: 1.6677 - accuracy: 0.4067 - recall: 0.1174 - specificity: 0.9933 - f1_score: 0.1964\n",
            "Epoch 00002: saving model to checkpoint_model.h5\n",
            "27/80 [=========>....................] - ETA: 11s - loss: 1.6593 - accuracy: 0.4094 - recall: 0.1195 - specificity: 0.9931 - f1_score: 0.1992\n",
            "Epoch 00002: saving model to checkpoint_model.h5\n",
            "28/80 [=========>....................] - ETA: 11s - loss: 1.6604 - accuracy: 0.4081 - recall: 0.1186 - specificity: 0.9929 - f1_score: 0.1976\n",
            "Epoch 00002: saving model to checkpoint_model.h5\n",
            "29/80 [=========>....................] - ETA: 10s - loss: 1.6577 - accuracy: 0.4064 - recall: 0.1182 - specificity: 0.9927 - f1_score: 0.1969\n",
            "Epoch 00002: saving model to checkpoint_model.h5\n",
            "30/80 [==========>...................] - ETA: 10s - loss: 1.6562 - accuracy: 0.4067 - recall: 0.1191 - specificity: 0.9929 - f1_score: 0.1987\n",
            "Epoch 00002: saving model to checkpoint_model.h5\n",
            "31/80 [==========>...................] - ETA: 10s - loss: 1.6532 - accuracy: 0.4077 - recall: 0.1183 - specificity: 0.9930 - f1_score: 0.1976\n",
            "Epoch 00002: saving model to checkpoint_model.h5\n",
            "32/80 [===========>..................] - ETA: 10s - loss: 1.6499 - accuracy: 0.4104 - recall: 0.1212 - specificity: 0.9931 - f1_score: 0.2021\n",
            "Epoch 00002: saving model to checkpoint_model.h5\n",
            "33/80 [===========>..................] - ETA: 10s - loss: 1.6540 - accuracy: 0.4097 - recall: 0.1228 - specificity: 0.9928 - f1_score: 0.2039\n",
            "Epoch 00002: saving model to checkpoint_model.h5\n",
            "34/80 [===========>..................] - ETA: 9s - loss: 1.6527 - accuracy: 0.4133 - recall: 0.1235 - specificity: 0.9927 - f1_score: 0.2049 \n",
            "Epoch 00002: saving model to checkpoint_model.h5\n",
            "35/80 [============>.................] - ETA: 9s - loss: 1.6470 - accuracy: 0.4145 - recall: 0.1269 - specificity: 0.9926 - f1_score: 0.2092\n",
            "Epoch 00002: saving model to checkpoint_model.h5\n",
            "36/80 [============>.................] - ETA: 9s - loss: 1.6379 - accuracy: 0.4189 - recall: 0.1315 - specificity: 0.9927 - f1_score: 0.2156\n",
            "Epoch 00002: saving model to checkpoint_model.h5\n",
            "37/80 [============>.................] - ETA: 9s - loss: 1.6386 - accuracy: 0.4180 - recall: 0.1337 - specificity: 0.9925 - f1_score: 0.2185\n",
            "Epoch 00002: saving model to checkpoint_model.h5\n",
            "38/80 [=============>................] - ETA: 9s - loss: 1.6345 - accuracy: 0.4182 - recall: 0.1340 - specificity: 0.9924 - f1_score: 0.2189\n",
            "Epoch 00002: saving model to checkpoint_model.h5\n",
            "39/80 [=============>................] - ETA: 8s - loss: 1.6251 - accuracy: 0.4222 - recall: 0.1357 - specificity: 0.9924 - f1_score: 0.2214\n",
            "Epoch 00002: saving model to checkpoint_model.h5\n",
            "40/80 [==============>...............] - ETA: 8s - loss: 1.6222 - accuracy: 0.4260 - recall: 0.1363 - specificity: 0.9925 - f1_score: 0.2225\n",
            "Epoch 00002: saving model to checkpoint_model.h5\n",
            "41/80 [==============>...............] - ETA: 8s - loss: 1.6185 - accuracy: 0.4270 - recall: 0.1363 - specificity: 0.9925 - f1_score: 0.2225\n",
            "Epoch 00002: saving model to checkpoint_model.h5\n",
            "42/80 [==============>...............] - ETA: 8s - loss: 1.6184 - accuracy: 0.4267 - recall: 0.1349 - specificity: 0.9925 - f1_score: 0.2205\n",
            "Epoch 00002: saving model to checkpoint_model.h5\n",
            "43/80 [===============>..............] - ETA: 8s - loss: 1.6189 - accuracy: 0.4245 - recall: 0.1367 - specificity: 0.9924 - f1_score: 0.2229\n",
            "Epoch 00002: saving model to checkpoint_model.h5\n",
            "44/80 [===============>..............] - ETA: 7s - loss: 1.6135 - accuracy: 0.4264 - recall: 0.1394 - specificity: 0.9922 - f1_score: 0.2261\n",
            "Epoch 00002: saving model to checkpoint_model.h5\n",
            "45/80 [===============>..............] - ETA: 7s - loss: 1.6120 - accuracy: 0.4273 - recall: 0.1407 - specificity: 0.9922 - f1_score: 0.2282\n",
            "Epoch 00002: saving model to checkpoint_model.h5\n",
            "46/80 [================>.............] - ETA: 7s - loss: 1.6106 - accuracy: 0.4255 - recall: 0.1414 - specificity: 0.9922 - f1_score: 0.2292\n",
            "Epoch 00002: saving model to checkpoint_model.h5\n",
            "47/80 [================>.............] - ETA: 7s - loss: 1.6097 - accuracy: 0.4255 - recall: 0.1407 - specificity: 0.9923 - f1_score: 0.2283\n",
            "Epoch 00002: saving model to checkpoint_model.h5\n",
            "48/80 [=================>............] - ETA: 6s - loss: 1.6078 - accuracy: 0.4247 - recall: 0.1406 - specificity: 0.9923 - f1_score: 0.2282\n",
            "Epoch 00002: saving model to checkpoint_model.h5\n",
            "49/80 [=================>............] - ETA: 6s - loss: 1.6050 - accuracy: 0.4256 - recall: 0.1415 - specificity: 0.9922 - f1_score: 0.2294\n",
            "Epoch 00002: saving model to checkpoint_model.h5\n",
            "50/80 [=================>............] - ETA: 6s - loss: 1.6002 - accuracy: 0.4267 - recall: 0.1429 - specificity: 0.9922 - f1_score: 0.2314\n",
            "Epoch 00002: saving model to checkpoint_model.h5\n",
            "51/80 [==================>...........] - ETA: 6s - loss: 1.6001 - accuracy: 0.4264 - recall: 0.1422 - specificity: 0.9921 - f1_score: 0.2303\n",
            "Epoch 00002: saving model to checkpoint_model.h5\n",
            "52/80 [==================>...........] - ETA: 6s - loss: 1.5977 - accuracy: 0.4272 - recall: 0.1421 - specificity: 0.9921 - f1_score: 0.2301\n",
            "Epoch 00002: saving model to checkpoint_model.h5\n",
            "53/80 [==================>...........] - ETA: 5s - loss: 1.5990 - accuracy: 0.4272 - recall: 0.1429 - specificity: 0.9920 - f1_score: 0.2312\n",
            "Epoch 00002: saving model to checkpoint_model.h5\n",
            "54/80 [===================>..........] - ETA: 5s - loss: 1.5965 - accuracy: 0.4289 - recall: 0.1444 - specificity: 0.9920 - f1_score: 0.2334\n",
            "Epoch 00002: saving model to checkpoint_model.h5\n",
            "55/80 [===================>..........] - ETA: 5s - loss: 1.5961 - accuracy: 0.4296 - recall: 0.1457 - specificity: 0.9919 - f1_score: 0.2350\n",
            "Epoch 00002: saving model to checkpoint_model.h5\n",
            "56/80 [====================>.........] - ETA: 5s - loss: 1.5928 - accuracy: 0.4298 - recall: 0.1467 - specificity: 0.9919 - f1_score: 0.2363\n",
            "Epoch 00002: saving model to checkpoint_model.h5\n",
            "57/80 [====================>.........] - ETA: 5s - loss: 1.5946 - accuracy: 0.4302 - recall: 0.1462 - specificity: 0.9918 - f1_score: 0.2356\n",
            "Epoch 00002: saving model to checkpoint_model.h5\n",
            "58/80 [====================>.........] - ETA: 4s - loss: 1.5968 - accuracy: 0.4310 - recall: 0.1467 - specificity: 0.9918 - f1_score: 0.2364\n",
            "Epoch 00002: saving model to checkpoint_model.h5\n",
            "59/80 [=====================>........] - ETA: 4s - loss: 1.5959 - accuracy: 0.4307 - recall: 0.1464 - specificity: 0.9918 - f1_score: 0.2362\n",
            "Epoch 00002: saving model to checkpoint_model.h5\n",
            "60/80 [=====================>........] - ETA: 4s - loss: 1.5943 - accuracy: 0.4311 - recall: 0.1469 - specificity: 0.9919 - f1_score: 0.2369\n",
            "Epoch 00002: saving model to checkpoint_model.h5\n",
            "61/80 [=====================>........] - ETA: 4s - loss: 1.5928 - accuracy: 0.4302 - recall: 0.1473 - specificity: 0.9917 - f1_score: 0.2373\n",
            "Epoch 00002: saving model to checkpoint_model.h5\n",
            "62/80 [======================>.......] - ETA: 3s - loss: 1.5913 - accuracy: 0.4305 - recall: 0.1490 - specificity: 0.9917 - f1_score: 0.2396\n",
            "Epoch 00002: saving model to checkpoint_model.h5\n",
            "63/80 [======================>.......] - ETA: 3s - loss: 1.5912 - accuracy: 0.4301 - recall: 0.1505 - specificity: 0.9917 - f1_score: 0.2415\n",
            "Epoch 00002: saving model to checkpoint_model.h5\n",
            "64/80 [=======================>......] - ETA: 3s - loss: 1.5884 - accuracy: 0.4300 - recall: 0.1515 - specificity: 0.9918 - f1_score: 0.2431\n",
            "Epoch 00002: saving model to checkpoint_model.h5\n",
            "65/80 [=======================>......] - ETA: 3s - loss: 1.5875 - accuracy: 0.4304 - recall: 0.1512 - specificity: 0.9917 - f1_score: 0.2427\n",
            "Epoch 00002: saving model to checkpoint_model.h5\n",
            "66/80 [=======================>......] - ETA: 3s - loss: 1.5859 - accuracy: 0.4297 - recall: 0.1509 - specificity: 0.9918 - f1_score: 0.2425\n",
            "Epoch 00002: saving model to checkpoint_model.h5\n",
            "67/80 [========================>.....] - ETA: 2s - loss: 1.5868 - accuracy: 0.4289 - recall: 0.1504 - specificity: 0.9918 - f1_score: 0.2418\n",
            "Epoch 00002: saving model to checkpoint_model.h5\n",
            "68/80 [========================>.....] - ETA: 2s - loss: 1.5883 - accuracy: 0.4278 - recall: 0.1498 - specificity: 0.9917 - f1_score: 0.2409\n",
            "Epoch 00002: saving model to checkpoint_model.h5\n",
            "69/80 [========================>.....] - ETA: 2s - loss: 1.5874 - accuracy: 0.4269 - recall: 0.1503 - specificity: 0.9916 - f1_score: 0.2415\n",
            "Epoch 00002: saving model to checkpoint_model.h5\n",
            "70/80 [=========================>....] - ETA: 2s - loss: 1.5861 - accuracy: 0.4270 - recall: 0.1514 - specificity: 0.9915 - f1_score: 0.2428\n",
            "Epoch 00002: saving model to checkpoint_model.h5\n",
            "71/80 [=========================>....] - ETA: 1s - loss: 1.5849 - accuracy: 0.4278 - recall: 0.1523 - specificity: 0.9915 - f1_score: 0.2439\n",
            "Epoch 00002: saving model to checkpoint_model.h5\n",
            "72/80 [==========================>...] - ETA: 1s - loss: 1.5843 - accuracy: 0.4289 - recall: 0.1528 - specificity: 0.9914 - f1_score: 0.2445\n",
            "Epoch 00002: saving model to checkpoint_model.h5\n",
            "73/80 [==========================>...] - ETA: 1s - loss: 1.5844 - accuracy: 0.4289 - recall: 0.1529 - specificity: 0.9914 - f1_score: 0.2446\n",
            "Epoch 00002: saving model to checkpoint_model.h5\n",
            "74/80 [==========================>...] - ETA: 1s - loss: 1.5826 - accuracy: 0.4295 - recall: 0.1530 - specificity: 0.9913 - f1_score: 0.2447\n",
            "Epoch 00002: saving model to checkpoint_model.h5\n",
            "75/80 [===========================>..] - ETA: 1s - loss: 1.5825 - accuracy: 0.4295 - recall: 0.1529 - specificity: 0.9913 - f1_score: 0.2446\n",
            "Epoch 00002: saving model to checkpoint_model.h5\n",
            "76/80 [===========================>..] - ETA: 0s - loss: 1.5801 - accuracy: 0.4305 - recall: 0.1535 - specificity: 0.9914 - f1_score: 0.2456\n",
            "Epoch 00002: saving model to checkpoint_model.h5\n",
            "77/80 [===========================>..] - ETA: 0s - loss: 1.5813 - accuracy: 0.4303 - recall: 0.1536 - specificity: 0.9913 - f1_score: 0.2457\n",
            "Epoch 00002: saving model to checkpoint_model.h5\n",
            "78/80 [============================>.] - ETA: 0s - loss: 1.5822 - accuracy: 0.4304 - recall: 0.1538 - specificity: 0.9913 - f1_score: 0.2461\n",
            "Epoch 00002: saving model to checkpoint_model.h5\n",
            "79/80 [============================>.] - ETA: 0s - loss: 1.5837 - accuracy: 0.4290 - recall: 0.1534 - specificity: 0.9912 - f1_score: 0.2454\n",
            "Epoch 00002: saving model to checkpoint_model.h5\n",
            "80/80 [==============================] - 21s 261ms/step - loss: 1.5806 - accuracy: 0.4308 - recall: 0.1537 - specificity: 0.9913 - f1_score: 0.2459 - val_loss: 1.5286 - val_accuracy: 0.4525 - val_recall: 0.1612 - val_specificity: 0.9923 - val_f1_score: 0.2597\n",
            "Epoch 3/100\n",
            "\n",
            "Epoch 00003: saving model to checkpoint_model.h5\n",
            " 1/80 [..............................] - ETA: 0s - loss: 1.4157 - accuracy: 0.5333 - recall: 0.1733 - specificity: 0.9941 - f1_score: 0.2826\n",
            "Epoch 00003: saving model to checkpoint_model.h5\n",
            " 2/80 [..............................] - ETA: 8s - loss: 1.3665 - accuracy: 0.5467 - recall: 0.2000 - specificity: 0.9948 - f1_score: 0.3203\n",
            "Epoch 00003: saving model to checkpoint_model.h5\n",
            " 3/80 [>.............................] - ETA: 11s - loss: 1.3942 - accuracy: 0.5111 - recall: 0.1822 - specificity: 0.9946 - f1_score: 0.2950\n",
            "Epoch 00003: saving model to checkpoint_model.h5\n",
            " 4/80 [>.............................] - ETA: 12s - loss: 1.4009 - accuracy: 0.5133 - recall: 0.1967 - specificity: 0.9941 - f1_score: 0.3131\n",
            "Epoch 00003: saving model to checkpoint_model.h5\n",
            " 5/80 [>.............................] - ETA: 13s - loss: 1.4415 - accuracy: 0.4773 - recall: 0.1760 - specificity: 0.9923 - f1_score: 0.2809\n",
            "Epoch 00003: saving model to checkpoint_model.h5\n",
            " 6/80 [=>............................] - ETA: 13s - loss: 1.4402 - accuracy: 0.4733 - recall: 0.1800 - specificity: 0.9923 - f1_score: 0.2867\n",
            "Epoch 00003: saving model to checkpoint_model.h5\n",
            " 7/80 [=>............................] - ETA: 13s - loss: 1.4437 - accuracy: 0.4629 - recall: 0.1810 - specificity: 0.9917 - f1_score: 0.2870\n",
            "Epoch 00003: saving model to checkpoint_model.h5\n",
            " 8/80 [==>...........................] - ETA: 14s - loss: 1.4435 - accuracy: 0.4683 - recall: 0.1950 - specificity: 0.9911 - f1_score: 0.3030\n",
            "Epoch 00003: saving model to checkpoint_model.h5\n",
            " 9/80 [==>...........................] - ETA: 14s - loss: 1.4461 - accuracy: 0.4711 - recall: 0.1956 - specificity: 0.9909 - f1_score: 0.3037\n",
            "Epoch 00003: saving model to checkpoint_model.h5\n",
            "10/80 [==>...........................] - ETA: 14s - loss: 1.4354 - accuracy: 0.4720 - recall: 0.2027 - specificity: 0.9908 - f1_score: 0.3125\n",
            "Epoch 00003: saving model to checkpoint_model.h5\n",
            "11/80 [===>..........................] - ETA: 14s - loss: 1.4507 - accuracy: 0.4679 - recall: 0.2000 - specificity: 0.9903 - f1_score: 0.3083\n",
            "Epoch 00003: saving model to checkpoint_model.h5\n",
            "12/80 [===>..........................] - ETA: 14s - loss: 1.4583 - accuracy: 0.4633 - recall: 0.1933 - specificity: 0.9904 - f1_score: 0.2992\n",
            "Epoch 00003: saving model to checkpoint_model.h5\n",
            "13/80 [===>..........................] - ETA: 13s - loss: 1.4636 - accuracy: 0.4656 - recall: 0.1959 - specificity: 0.9902 - f1_score: 0.3024\n",
            "Epoch 00003: saving model to checkpoint_model.h5\n",
            "14/80 [====>.........................] - ETA: 13s - loss: 1.4752 - accuracy: 0.4648 - recall: 0.1933 - specificity: 0.9904 - f1_score: 0.2994\n",
            "Epoch 00003: saving model to checkpoint_model.h5\n",
            "15/80 [====>.........................] - ETA: 13s - loss: 1.4859 - accuracy: 0.4658 - recall: 0.1920 - specificity: 0.9905 - f1_score: 0.2981\n",
            "Epoch 00003: saving model to checkpoint_model.h5\n",
            "16/80 [=====>........................] - ETA: 13s - loss: 1.4786 - accuracy: 0.4633 - recall: 0.1967 - specificity: 0.9903 - f1_score: 0.3035\n",
            "Epoch 00003: saving model to checkpoint_model.h5\n",
            "17/80 [=====>........................] - ETA: 13s - loss: 1.4758 - accuracy: 0.4620 - recall: 0.2039 - specificity: 0.9902 - f1_score: 0.3123\n",
            "Epoch 00003: saving model to checkpoint_model.h5\n",
            "18/80 [=====>........................] - ETA: 13s - loss: 1.4780 - accuracy: 0.4607 - recall: 0.2059 - specificity: 0.9896 - f1_score: 0.3136\n",
            "Epoch 00003: saving model to checkpoint_model.h5\n",
            "19/80 [======>.......................] - ETA: 13s - loss: 1.4756 - accuracy: 0.4611 - recall: 0.2091 - specificity: 0.9888 - f1_score: 0.3157\n",
            "Epoch 00003: saving model to checkpoint_model.h5\n",
            "20/80 [======>.......................] - ETA: 12s - loss: 1.4858 - accuracy: 0.4560 - recall: 0.2073 - specificity: 0.9884 - f1_score: 0.3128\n",
            "Epoch 00003: saving model to checkpoint_model.h5\n",
            "21/80 [======>.......................] - ETA: 12s - loss: 1.4786 - accuracy: 0.4610 - recall: 0.2070 - specificity: 0.9883 - f1_score: 0.3124\n",
            "Epoch 00003: saving model to checkpoint_model.h5\n",
            "22/80 [=======>......................] - ETA: 12s - loss: 1.4778 - accuracy: 0.4667 - recall: 0.2067 - specificity: 0.9885 - f1_score: 0.3125\n",
            "Epoch 00003: saving model to checkpoint_model.h5\n",
            "23/80 [=======>......................] - ETA: 12s - loss: 1.4819 - accuracy: 0.4649 - recall: 0.2058 - specificity: 0.9887 - f1_score: 0.3119\n",
            "Epoch 00003: saving model to checkpoint_model.h5\n",
            "24/80 [========>.....................] - ETA: 12s - loss: 1.4771 - accuracy: 0.4661 - recall: 0.2061 - specificity: 0.9889 - f1_score: 0.3129\n",
            "Epoch 00003: saving model to checkpoint_model.h5\n",
            "25/80 [========>.....................] - ETA: 12s - loss: 1.4753 - accuracy: 0.4651 - recall: 0.2080 - specificity: 0.9891 - f1_score: 0.3159\n",
            "Epoch 00003: saving model to checkpoint_model.h5\n",
            "26/80 [========>.....................] - ETA: 11s - loss: 1.4748 - accuracy: 0.4641 - recall: 0.2072 - specificity: 0.9892 - f1_score: 0.3151\n",
            "Epoch 00003: saving model to checkpoint_model.h5\n",
            "27/80 [=========>....................] - ETA: 11s - loss: 1.4746 - accuracy: 0.4622 - recall: 0.2064 - specificity: 0.9893 - f1_score: 0.3145\n",
            "Epoch 00003: saving model to checkpoint_model.h5\n",
            "28/80 [=========>....................] - ETA: 11s - loss: 1.4730 - accuracy: 0.4667 - recall: 0.2081 - specificity: 0.9895 - f1_score: 0.3172\n",
            "Epoch 00003: saving model to checkpoint_model.h5\n",
            "29/80 [=========>....................] - ETA: 11s - loss: 1.4707 - accuracy: 0.4690 - recall: 0.2087 - specificity: 0.9896 - f1_score: 0.3184\n",
            "Epoch 00003: saving model to checkpoint_model.h5\n",
            "30/80 [==========>...................] - ETA: 10s - loss: 1.4705 - accuracy: 0.4658 - recall: 0.2098 - specificity: 0.9895 - f1_score: 0.3194\n",
            "Epoch 00003: saving model to checkpoint_model.h5\n",
            "31/80 [==========>...................] - ETA: 10s - loss: 1.4671 - accuracy: 0.4671 - recall: 0.2108 - specificity: 0.9896 - f1_score: 0.3211\n",
            "Epoch 00003: saving model to checkpoint_model.h5\n",
            "32/80 [===========>..................] - ETA: 10s - loss: 1.4652 - accuracy: 0.4683 - recall: 0.2137 - specificity: 0.9895 - f1_score: 0.3244\n",
            "Epoch 00003: saving model to checkpoint_model.h5\n",
            "33/80 [===========>..................] - ETA: 10s - loss: 1.4549 - accuracy: 0.4711 - recall: 0.2178 - specificity: 0.9895 - f1_score: 0.3292\n",
            "Epoch 00003: saving model to checkpoint_model.h5\n",
            "34/80 [===========>..................] - ETA: 10s - loss: 1.4541 - accuracy: 0.4722 - recall: 0.2173 - specificity: 0.9895 - f1_score: 0.3286\n",
            "Epoch 00003: saving model to checkpoint_model.h5\n",
            "35/80 [============>.................] - ETA: 9s - loss: 1.4509 - accuracy: 0.4743 - recall: 0.2198 - specificity: 0.9895 - f1_score: 0.3317 \n",
            "Epoch 00003: saving model to checkpoint_model.h5\n",
            "36/80 [============>.................] - ETA: 9s - loss: 1.4469 - accuracy: 0.4763 - recall: 0.2219 - specificity: 0.9896 - f1_score: 0.3346\n",
            "Epoch 00003: saving model to checkpoint_model.h5\n",
            "37/80 [============>.................] - ETA: 9s - loss: 1.4485 - accuracy: 0.4764 - recall: 0.2216 - specificity: 0.9895 - f1_score: 0.3340\n",
            "Epoch 00003: saving model to checkpoint_model.h5\n",
            "38/80 [=============>................] - ETA: 9s - loss: 1.4481 - accuracy: 0.4779 - recall: 0.2218 - specificity: 0.9894 - f1_score: 0.3342\n",
            "Epoch 00003: saving model to checkpoint_model.h5\n",
            "39/80 [=============>................] - ETA: 9s - loss: 1.4456 - accuracy: 0.4766 - recall: 0.2239 - specificity: 0.9893 - f1_score: 0.3365\n",
            "Epoch 00003: saving model to checkpoint_model.h5\n",
            "40/80 [==============>...............] - ETA: 8s - loss: 1.4413 - accuracy: 0.4783 - recall: 0.2273 - specificity: 0.9894 - f1_score: 0.3406\n",
            "Epoch 00003: saving model to checkpoint_model.h5\n",
            "41/80 [==============>...............] - ETA: 8s - loss: 1.4411 - accuracy: 0.4793 - recall: 0.2267 - specificity: 0.9893 - f1_score: 0.3398\n",
            "Epoch 00003: saving model to checkpoint_model.h5\n",
            "42/80 [==============>...............] - ETA: 8s - loss: 1.4366 - accuracy: 0.4813 - recall: 0.2279 - specificity: 0.9895 - f1_score: 0.3419\n",
            "Epoch 00003: saving model to checkpoint_model.h5\n",
            "43/80 [===============>..............] - ETA: 8s - loss: 1.4316 - accuracy: 0.4837 - recall: 0.2288 - specificity: 0.9897 - f1_score: 0.3435\n",
            "Epoch 00003: saving model to checkpoint_model.h5\n",
            "44/80 [===============>..............] - ETA: 7s - loss: 1.4351 - accuracy: 0.4827 - recall: 0.2279 - specificity: 0.9897 - f1_score: 0.3424\n",
            "Epoch 00003: saving model to checkpoint_model.h5\n",
            "45/80 [===============>..............] - ETA: 7s - loss: 1.4316 - accuracy: 0.4862 - recall: 0.2293 - specificity: 0.9897 - f1_score: 0.3441\n",
            "Epoch 00003: saving model to checkpoint_model.h5\n",
            "46/80 [================>.............] - ETA: 7s - loss: 1.4295 - accuracy: 0.4861 - recall: 0.2304 - specificity: 0.9896 - f1_score: 0.3453\n",
            "Epoch 00003: saving model to checkpoint_model.h5\n",
            "47/80 [================>.............] - ETA: 7s - loss: 1.4240 - accuracy: 0.4888 - recall: 0.2332 - specificity: 0.9895 - f1_score: 0.3481\n",
            "Epoch 00003: saving model to checkpoint_model.h5\n",
            "48/80 [=================>............] - ETA: 7s - loss: 1.4268 - accuracy: 0.4872 - recall: 0.2319 - specificity: 0.9893 - f1_score: 0.3462\n",
            "Epoch 00003: saving model to checkpoint_model.h5\n",
            "49/80 [=================>............] - ETA: 6s - loss: 1.4256 - accuracy: 0.4868 - recall: 0.2324 - specificity: 0.9891 - f1_score: 0.3464\n",
            "Epoch 00003: saving model to checkpoint_model.h5\n",
            "50/80 [=================>............] - ETA: 6s - loss: 1.4234 - accuracy: 0.4875 - recall: 0.2349 - specificity: 0.9890 - f1_score: 0.3490\n",
            "Epoch 00003: saving model to checkpoint_model.h5\n",
            "51/80 [==================>...........] - ETA: 6s - loss: 1.4240 - accuracy: 0.4860 - recall: 0.2356 - specificity: 0.9887 - f1_score: 0.3491\n",
            "Epoch 00003: saving model to checkpoint_model.h5\n",
            "52/80 [==================>...........] - ETA: 6s - loss: 1.4211 - accuracy: 0.4890 - recall: 0.2367 - specificity: 0.9888 - f1_score: 0.3507\n",
            "Epoch 00003: saving model to checkpoint_model.h5\n",
            "53/80 [==================>...........] - ETA: 5s - loss: 1.4149 - accuracy: 0.4916 - recall: 0.2405 - specificity: 0.9887 - f1_score: 0.3547\n",
            "Epoch 00003: saving model to checkpoint_model.h5\n",
            "54/80 [===================>..........] - ETA: 5s - loss: 1.4151 - accuracy: 0.4914 - recall: 0.2415 - specificity: 0.9886 - f1_score: 0.3555\n",
            "Epoch 00003: saving model to checkpoint_model.h5\n",
            "55/80 [===================>..........] - ETA: 5s - loss: 1.4163 - accuracy: 0.4912 - recall: 0.2427 - specificity: 0.9886 - f1_score: 0.3572\n",
            "Epoch 00003: saving model to checkpoint_model.h5\n",
            "56/80 [====================>.........] - ETA: 5s - loss: 1.4177 - accuracy: 0.4902 - recall: 0.2424 - specificity: 0.9884 - f1_score: 0.3565\n",
            "Epoch 00003: saving model to checkpoint_model.h5\n",
            "57/80 [====================>.........] - ETA: 5s - loss: 1.4157 - accuracy: 0.4910 - recall: 0.2444 - specificity: 0.9883 - f1_score: 0.3583\n",
            "Epoch 00003: saving model to checkpoint_model.h5\n",
            "58/80 [====================>.........] - ETA: 4s - loss: 1.4158 - accuracy: 0.4910 - recall: 0.2441 - specificity: 0.9882 - f1_score: 0.3579\n",
            "Epoch 00003: saving model to checkpoint_model.h5\n",
            "59/80 [=====================>........] - ETA: 4s - loss: 1.4158 - accuracy: 0.4920 - recall: 0.2452 - specificity: 0.9881 - f1_score: 0.3589\n",
            "Epoch 00003: saving model to checkpoint_model.h5\n",
            "60/80 [=====================>........] - ETA: 4s - loss: 1.4180 - accuracy: 0.4902 - recall: 0.2456 - specificity: 0.9879 - f1_score: 0.3588\n",
            "Epoch 00003: saving model to checkpoint_model.h5\n",
            "61/80 [=====================>........] - ETA: 4s - loss: 1.4201 - accuracy: 0.4896 - recall: 0.2461 - specificity: 0.9878 - f1_score: 0.3595\n",
            "Epoch 00003: saving model to checkpoint_model.h5\n",
            "62/80 [======================>.......] - ETA: 4s - loss: 1.4206 - accuracy: 0.4890 - recall: 0.2456 - specificity: 0.9877 - f1_score: 0.3586\n",
            "Epoch 00003: saving model to checkpoint_model.h5\n",
            "63/80 [======================>.......] - ETA: 3s - loss: 1.4208 - accuracy: 0.4891 - recall: 0.2459 - specificity: 0.9877 - f1_score: 0.3590\n",
            "Epoch 00003: saving model to checkpoint_model.h5\n",
            "64/80 [=======================>......] - ETA: 3s - loss: 1.4198 - accuracy: 0.4896 - recall: 0.2444 - specificity: 0.9877 - f1_score: 0.3571\n",
            "Epoch 00003: saving model to checkpoint_model.h5\n",
            "65/80 [=======================>......] - ETA: 3s - loss: 1.4166 - accuracy: 0.4921 - recall: 0.2466 - specificity: 0.9879 - f1_score: 0.3601\n",
            "Epoch 00003: saving model to checkpoint_model.h5\n",
            "66/80 [=======================>......] - ETA: 3s - loss: 1.4151 - accuracy: 0.4917 - recall: 0.2473 - specificity: 0.9878 - f1_score: 0.3607\n",
            "Epoch 00003: saving model to checkpoint_model.h5\n",
            "67/80 [========================>.....] - ETA: 2s - loss: 1.4160 - accuracy: 0.4915 - recall: 0.2480 - specificity: 0.9877 - f1_score: 0.3613\n",
            "Epoch 00003: saving model to checkpoint_model.h5\n",
            "68/80 [========================>.....] - ETA: 2s - loss: 1.4168 - accuracy: 0.4900 - recall: 0.2476 - specificity: 0.9876 - f1_score: 0.3608\n",
            "Epoch 00003: saving model to checkpoint_model.h5\n",
            "69/80 [========================>.....] - ETA: 2s - loss: 1.4177 - accuracy: 0.4891 - recall: 0.2487 - specificity: 0.9875 - f1_score: 0.3618\n",
            "Epoch 00003: saving model to checkpoint_model.h5\n",
            "70/80 [=========================>....] - ETA: 2s - loss: 1.4160 - accuracy: 0.4893 - recall: 0.2476 - specificity: 0.9876 - f1_score: 0.3606\n",
            "Epoch 00003: saving model to checkpoint_model.h5\n",
            "71/80 [=========================>....] - ETA: 2s - loss: 1.4142 - accuracy: 0.4900 - recall: 0.2471 - specificity: 0.9877 - f1_score: 0.3603\n",
            "Epoch 00003: saving model to checkpoint_model.h5\n",
            "72/80 [==========================>...] - ETA: 1s - loss: 1.4152 - accuracy: 0.4898 - recall: 0.2469 - specificity: 0.9876 - f1_score: 0.3599\n",
            "Epoch 00003: saving model to checkpoint_model.h5\n",
            "73/80 [==========================>...] - ETA: 1s - loss: 1.4145 - accuracy: 0.4900 - recall: 0.2468 - specificity: 0.9876 - f1_score: 0.3597\n",
            "Epoch 00003: saving model to checkpoint_model.h5\n",
            "74/80 [==========================>...] - ETA: 1s - loss: 1.4166 - accuracy: 0.4888 - recall: 0.2468 - specificity: 0.9876 - f1_score: 0.3598\n",
            "Epoch 00003: saving model to checkpoint_model.h5\n",
            "75/80 [===========================>..] - ETA: 1s - loss: 1.4161 - accuracy: 0.4885 - recall: 0.2475 - specificity: 0.9875 - f1_score: 0.3605\n",
            "Epoch 00003: saving model to checkpoint_model.h5\n",
            "76/80 [===========================>..] - ETA: 0s - loss: 1.4205 - accuracy: 0.4865 - recall: 0.2463 - specificity: 0.9875 - f1_score: 0.3590\n",
            "Epoch 00003: saving model to checkpoint_model.h5\n",
            "77/80 [===========================>..] - ETA: 0s - loss: 1.4210 - accuracy: 0.4866 - recall: 0.2457 - specificity: 0.9875 - f1_score: 0.3583\n",
            "Epoch 00003: saving model to checkpoint_model.h5\n",
            "78/80 [============================>.] - ETA: 0s - loss: 1.4204 - accuracy: 0.4856 - recall: 0.2458 - specificity: 0.9875 - f1_score: 0.3585\n",
            "Epoch 00003: saving model to checkpoint_model.h5\n",
            "79/80 [============================>.] - ETA: 0s - loss: 1.4183 - accuracy: 0.4868 - recall: 0.2466 - specificity: 0.9875 - f1_score: 0.3595\n",
            "Epoch 00003: saving model to checkpoint_model.h5\n",
            "80/80 [==============================] - 21s 266ms/step - loss: 1.4169 - accuracy: 0.4870 - recall: 0.2473 - specificity: 0.9874 - f1_score: 0.3602 - val_loss: 1.4802 - val_accuracy: 0.4655 - val_recall: 0.2153 - val_specificity: 0.9883 - val_f1_score: 0.3242\n",
            "Epoch 4/100\n",
            "\n",
            "Epoch 00004: saving model to checkpoint_model.h5\n",
            " 1/80 [..............................] - ETA: 0s - loss: 1.2001 - accuracy: 0.5467 - recall: 0.2933 - specificity: 0.9896 - f1_score: 0.4231\n",
            "Epoch 00004: saving model to checkpoint_model.h5\n",
            " 2/80 [..............................] - ETA: 9s - loss: 1.2481 - accuracy: 0.5467 - recall: 0.2733 - specificity: 0.9904 - f1_score: 0.4015\n",
            "Epoch 00004: saving model to checkpoint_model.h5\n",
            " 3/80 [>.............................] - ETA: 12s - loss: 1.2503 - accuracy: 0.5467 - recall: 0.2756 - specificity: 0.9916 - f1_score: 0.4077\n",
            "Epoch 00004: saving model to checkpoint_model.h5\n",
            " 4/80 [>.............................] - ETA: 13s - loss: 1.2436 - accuracy: 0.5567 - recall: 0.2833 - specificity: 0.9926 - f1_score: 0.4196\n",
            "Epoch 00004: saving model to checkpoint_model.h5\n",
            " 5/80 [>.............................] - ETA: 13s - loss: 1.3015 - accuracy: 0.5253 - recall: 0.2640 - specificity: 0.9914 - f1_score: 0.3928\n",
            "Epoch 00004: saving model to checkpoint_model.h5\n",
            " 6/80 [=>............................] - ETA: 14s - loss: 1.3193 - accuracy: 0.5178 - recall: 0.2578 - specificity: 0.9891 - f1_score: 0.3803\n",
            "Epoch 00004: saving model to checkpoint_model.h5\n",
            " 7/80 [=>............................] - ETA: 14s - loss: 1.3465 - accuracy: 0.5181 - recall: 0.2457 - specificity: 0.9879 - f1_score: 0.3628\n",
            "Epoch 00004: saving model to checkpoint_model.h5\n",
            " 8/80 [==>...........................] - ETA: 14s - loss: 1.3377 - accuracy: 0.5233 - recall: 0.2533 - specificity: 0.9885 - f1_score: 0.3733\n",
            "Epoch 00004: saving model to checkpoint_model.h5\n",
            " 9/80 [==>...........................] - ETA: 14s - loss: 1.3196 - accuracy: 0.5319 - recall: 0.2578 - specificity: 0.9890 - f1_score: 0.3797\n",
            "Epoch 00004: saving model to checkpoint_model.h5\n",
            "10/80 [==>...........................] - ETA: 14s - loss: 1.3068 - accuracy: 0.5387 - recall: 0.2547 - specificity: 0.9896 - f1_score: 0.3775\n",
            "Epoch 00004: saving model to checkpoint_model.h5\n",
            "11/80 [===>..........................] - ETA: 14s - loss: 1.2996 - accuracy: 0.5418 - recall: 0.2533 - specificity: 0.9898 - f1_score: 0.3763\n",
            "Epoch 00004: saving model to checkpoint_model.h5\n",
            "12/80 [===>..........................] - ETA: 14s - loss: 1.2880 - accuracy: 0.5478 - recall: 0.2567 - specificity: 0.9900 - f1_score: 0.3809\n",
            "Epoch 00004: saving model to checkpoint_model.h5\n",
            "13/80 [===>..........................] - ETA: 14s - loss: 1.2902 - accuracy: 0.5497 - recall: 0.2667 - specificity: 0.9897 - f1_score: 0.3910\n",
            "Epoch 00004: saving model to checkpoint_model.h5\n",
            "14/80 [====>.........................] - ETA: 13s - loss: 1.2932 - accuracy: 0.5438 - recall: 0.2695 - specificity: 0.9895 - f1_score: 0.3938\n",
            "Epoch 00004: saving model to checkpoint_model.h5\n",
            "15/80 [====>.........................] - ETA: 13s - loss: 1.2945 - accuracy: 0.5440 - recall: 0.2756 - specificity: 0.9888 - f1_score: 0.3986\n",
            "Epoch 00004: saving model to checkpoint_model.h5\n",
            "16/80 [=====>........................] - ETA: 13s - loss: 1.2872 - accuracy: 0.5492 - recall: 0.2825 - specificity: 0.9889 - f1_score: 0.4063\n",
            "Epoch 00004: saving model to checkpoint_model.h5\n",
            "17/80 [=====>........................] - ETA: 13s - loss: 1.2830 - accuracy: 0.5506 - recall: 0.2878 - specificity: 0.9892 - f1_score: 0.4132\n",
            "Epoch 00004: saving model to checkpoint_model.h5\n",
            "18/80 [=====>........................] - ETA: 13s - loss: 1.2685 - accuracy: 0.5600 - recall: 0.2985 - specificity: 0.9895 - f1_score: 0.4251\n",
            "Epoch 00004: saving model to checkpoint_model.h5\n",
            "19/80 [======>.......................] - ETA: 13s - loss: 1.2735 - accuracy: 0.5593 - recall: 0.3025 - specificity: 0.9892 - f1_score: 0.4285\n",
            "Epoch 00004: saving model to checkpoint_model.h5\n",
            "20/80 [======>.......................] - ETA: 12s - loss: 1.2711 - accuracy: 0.5580 - recall: 0.3020 - specificity: 0.9893 - f1_score: 0.4287\n",
            "Epoch 00004: saving model to checkpoint_model.h5\n",
            "21/80 [======>.......................] - ETA: 12s - loss: 1.2671 - accuracy: 0.5556 - recall: 0.3022 - specificity: 0.9890 - f1_score: 0.4282\n",
            "Epoch 00004: saving model to checkpoint_model.h5\n",
            "22/80 [=======>......................] - ETA: 12s - loss: 1.2660 - accuracy: 0.5594 - recall: 0.3067 - specificity: 0.9891 - f1_score: 0.4333\n",
            "Epoch 00004: saving model to checkpoint_model.h5\n",
            "23/80 [=======>......................] - ETA: 12s - loss: 1.2689 - accuracy: 0.5588 - recall: 0.3049 - specificity: 0.9889 - f1_score: 0.4310\n",
            "Epoch 00004: saving model to checkpoint_model.h5\n",
            "24/80 [========>.....................] - ETA: 12s - loss: 1.2796 - accuracy: 0.5583 - recall: 0.3033 - specificity: 0.9886 - f1_score: 0.4285\n",
            "Epoch 00004: saving model to checkpoint_model.h5\n",
            "25/80 [========>.....................] - ETA: 12s - loss: 1.2740 - accuracy: 0.5611 - recall: 0.3061 - specificity: 0.9888 - f1_score: 0.4323\n",
            "Epoch 00004: saving model to checkpoint_model.h5\n",
            "26/80 [========>.....................] - ETA: 11s - loss: 1.2791 - accuracy: 0.5595 - recall: 0.3072 - specificity: 0.9885 - f1_score: 0.4328\n",
            "Epoch 00004: saving model to checkpoint_model.h5\n",
            "27/80 [=========>....................] - ETA: 11s - loss: 1.2783 - accuracy: 0.5580 - recall: 0.3091 - specificity: 0.9885 - f1_score: 0.4350\n",
            "Epoch 00004: saving model to checkpoint_model.h5\n",
            "28/80 [=========>....................] - ETA: 11s - loss: 1.2771 - accuracy: 0.5581 - recall: 0.3110 - specificity: 0.9884 - f1_score: 0.4367\n",
            "Epoch 00004: saving model to checkpoint_model.h5\n",
            "29/80 [=========>....................] - ETA: 11s - loss: 1.2817 - accuracy: 0.5563 - recall: 0.3094 - specificity: 0.9885 - f1_score: 0.4351\n",
            "Epoch 00004: saving model to checkpoint_model.h5\n",
            "30/80 [==========>...................] - ETA: 11s - loss: 1.2820 - accuracy: 0.5556 - recall: 0.3111 - specificity: 0.9883 - f1_score: 0.4365\n",
            "Epoch 00004: saving model to checkpoint_model.h5\n",
            "31/80 [==========>...................] - ETA: 10s - loss: 1.2769 - accuracy: 0.5574 - recall: 0.3148 - specificity: 0.9882 - f1_score: 0.4401\n",
            "Epoch 00004: saving model to checkpoint_model.h5\n",
            "32/80 [===========>..................] - ETA: 10s - loss: 1.2782 - accuracy: 0.5562 - recall: 0.3133 - specificity: 0.9881 - f1_score: 0.4384\n",
            "Epoch 00004: saving model to checkpoint_model.h5\n",
            "33/80 [===========>..................] - ETA: 10s - loss: 1.2761 - accuracy: 0.5568 - recall: 0.3147 - specificity: 0.9881 - f1_score: 0.4400\n",
            "Epoch 00004: saving model to checkpoint_model.h5\n",
            "34/80 [===========>..................] - ETA: 10s - loss: 1.2705 - accuracy: 0.5596 - recall: 0.3184 - specificity: 0.9883 - f1_score: 0.4444\n",
            "Epoch 00004: saving model to checkpoint_model.h5\n",
            "35/80 [============>.................] - ETA: 10s - loss: 1.2722 - accuracy: 0.5596 - recall: 0.3158 - specificity: 0.9882 - f1_score: 0.4412\n",
            "Epoch 00004: saving model to checkpoint_model.h5\n",
            "36/80 [============>.................] - ETA: 9s - loss: 1.2761 - accuracy: 0.5581 - recall: 0.3156 - specificity: 0.9881 - f1_score: 0.4406 \n",
            "Epoch 00004: saving model to checkpoint_model.h5\n",
            "37/80 [============>.................] - ETA: 9s - loss: 1.2743 - accuracy: 0.5582 - recall: 0.3168 - specificity: 0.9882 - f1_score: 0.4423\n",
            "Epoch 00004: saving model to checkpoint_model.h5\n",
            "38/80 [=============>................] - ETA: 9s - loss: 1.2726 - accuracy: 0.5575 - recall: 0.3189 - specificity: 0.9880 - f1_score: 0.4441\n",
            "Epoch 00004: saving model to checkpoint_model.h5\n",
            "39/80 [=============>................] - ETA: 9s - loss: 1.2720 - accuracy: 0.5586 - recall: 0.3183 - specificity: 0.9880 - f1_score: 0.4435\n",
            "Epoch 00004: saving model to checkpoint_model.h5\n",
            "40/80 [==============>...............] - ETA: 9s - loss: 1.2769 - accuracy: 0.5537 - recall: 0.3153 - specificity: 0.9878 - f1_score: 0.4396\n",
            "Epoch 00004: saving model to checkpoint_model.h5\n",
            "41/80 [==============>...............] - ETA: 8s - loss: 1.2764 - accuracy: 0.5538 - recall: 0.3158 - specificity: 0.9877 - f1_score: 0.4399\n",
            "Epoch 00004: saving model to checkpoint_model.h5\n",
            "42/80 [==============>...............] - ETA: 8s - loss: 1.2736 - accuracy: 0.5546 - recall: 0.3162 - specificity: 0.9877 - f1_score: 0.4404\n",
            "Epoch 00004: saving model to checkpoint_model.h5\n",
            "43/80 [===============>..............] - ETA: 8s - loss: 1.2673 - accuracy: 0.5569 - recall: 0.3191 - specificity: 0.9877 - f1_score: 0.4433\n",
            "Epoch 00004: saving model to checkpoint_model.h5\n",
            "44/80 [===============>..............] - ETA: 8s - loss: 1.2712 - accuracy: 0.5542 - recall: 0.3176 - specificity: 0.9876 - f1_score: 0.4414\n",
            "Epoch 00004: saving model to checkpoint_model.h5\n",
            "45/80 [===============>..............] - ETA: 7s - loss: 1.2692 - accuracy: 0.5556 - recall: 0.3170 - specificity: 0.9875 - f1_score: 0.4407\n",
            "Epoch 00004: saving model to checkpoint_model.h5\n",
            "46/80 [================>.............] - ETA: 7s - loss: 1.2684 - accuracy: 0.5559 - recall: 0.3174 - specificity: 0.9875 - f1_score: 0.4411\n",
            "Epoch 00004: saving model to checkpoint_model.h5\n",
            "47/80 [================>.............] - ETA: 7s - loss: 1.2749 - accuracy: 0.5523 - recall: 0.3152 - specificity: 0.9874 - f1_score: 0.4383\n",
            "Epoch 00004: saving model to checkpoint_model.h5\n",
            "48/80 [=================>............] - ETA: 7s - loss: 1.2763 - accuracy: 0.5519 - recall: 0.3158 - specificity: 0.9873 - f1_score: 0.4390\n",
            "Epoch 00004: saving model to checkpoint_model.h5\n",
            "49/80 [=================>............] - ETA: 7s - loss: 1.2751 - accuracy: 0.5510 - recall: 0.3156 - specificity: 0.9874 - f1_score: 0.4390\n",
            "Epoch 00004: saving model to checkpoint_model.h5\n",
            "50/80 [=================>............] - ETA: 6s - loss: 1.2727 - accuracy: 0.5515 - recall: 0.3155 - specificity: 0.9874 - f1_score: 0.4389\n",
            "Epoch 00004: saving model to checkpoint_model.h5\n",
            "51/80 [==================>...........] - ETA: 6s - loss: 1.2715 - accuracy: 0.5519 - recall: 0.3171 - specificity: 0.9873 - f1_score: 0.4404\n",
            "Epoch 00004: saving model to checkpoint_model.h5\n",
            "52/80 [==================>...........] - ETA: 6s - loss: 1.2711 - accuracy: 0.5518 - recall: 0.3187 - specificity: 0.9872 - f1_score: 0.4418\n",
            "Epoch 00004: saving model to checkpoint_model.h5\n",
            "53/80 [==================>...........] - ETA: 6s - loss: 1.2689 - accuracy: 0.5527 - recall: 0.3197 - specificity: 0.9873 - f1_score: 0.4432\n",
            "Epoch 00004: saving model to checkpoint_model.h5\n",
            "54/80 [===================>..........] - ETA: 5s - loss: 1.2685 - accuracy: 0.5528 - recall: 0.3195 - specificity: 0.9874 - f1_score: 0.4433\n",
            "Epoch 00004: saving model to checkpoint_model.h5\n",
            "55/80 [===================>..........] - ETA: 5s - loss: 1.2680 - accuracy: 0.5532 - recall: 0.3205 - specificity: 0.9876 - f1_score: 0.4448\n",
            "Epoch 00004: saving model to checkpoint_model.h5\n",
            "56/80 [====================>.........] - ETA: 5s - loss: 1.2673 - accuracy: 0.5540 - recall: 0.3200 - specificity: 0.9876 - f1_score: 0.4445\n",
            "Epoch 00004: saving model to checkpoint_model.h5\n",
            "57/80 [====================>.........] - ETA: 5s - loss: 1.2681 - accuracy: 0.5523 - recall: 0.3193 - specificity: 0.9876 - f1_score: 0.4437\n",
            "Epoch 00004: saving model to checkpoint_model.h5\n",
            "58/80 [====================>.........] - ETA: 5s - loss: 1.2686 - accuracy: 0.5526 - recall: 0.3189 - specificity: 0.9877 - f1_score: 0.4435\n",
            "Epoch 00004: saving model to checkpoint_model.h5\n",
            "59/80 [=====================>........] - ETA: 4s - loss: 1.2677 - accuracy: 0.5530 - recall: 0.3200 - specificity: 0.9877 - f1_score: 0.4446\n",
            "Epoch 00004: saving model to checkpoint_model.h5\n",
            "60/80 [=====================>........] - ETA: 4s - loss: 1.2672 - accuracy: 0.5522 - recall: 0.3198 - specificity: 0.9877 - f1_score: 0.4445\n",
            "Epoch 00004: saving model to checkpoint_model.h5\n",
            "61/80 [=====================>........] - ETA: 4s - loss: 1.2676 - accuracy: 0.5523 - recall: 0.3198 - specificity: 0.9876 - f1_score: 0.4443\n",
            "Epoch 00004: saving model to checkpoint_model.h5\n",
            "62/80 [======================>.......] - ETA: 4s - loss: 1.2667 - accuracy: 0.5527 - recall: 0.3209 - specificity: 0.9876 - f1_score: 0.4455\n",
            "Epoch 00004: saving model to checkpoint_model.h5\n",
            "63/80 [======================>.......] - ETA: 3s - loss: 1.2664 - accuracy: 0.5530 - recall: 0.3221 - specificity: 0.9877 - f1_score: 0.4470\n",
            "Epoch 00004: saving model to checkpoint_model.h5\n",
            "64/80 [=======================>......] - ETA: 3s - loss: 1.2669 - accuracy: 0.5531 - recall: 0.3210 - specificity: 0.9878 - f1_score: 0.4460\n",
            "Epoch 00004: saving model to checkpoint_model.h5\n",
            "65/80 [=======================>......] - ETA: 3s - loss: 1.2680 - accuracy: 0.5522 - recall: 0.3206 - specificity: 0.9876 - f1_score: 0.4453\n",
            "Epoch 00004: saving model to checkpoint_model.h5\n",
            "66/80 [=======================>......] - ETA: 3s - loss: 1.2686 - accuracy: 0.5521 - recall: 0.3206 - specificity: 0.9876 - f1_score: 0.4452\n",
            "Epoch 00004: saving model to checkpoint_model.h5\n",
            "67/80 [========================>.....] - ETA: 2s - loss: 1.2724 - accuracy: 0.5516 - recall: 0.3206 - specificity: 0.9875 - f1_score: 0.4451\n",
            "Epoch 00004: saving model to checkpoint_model.h5\n",
            "68/80 [========================>.....] - ETA: 2s - loss: 1.2735 - accuracy: 0.5510 - recall: 0.3206 - specificity: 0.9874 - f1_score: 0.4448\n",
            "Epoch 00004: saving model to checkpoint_model.h5\n",
            "69/80 [========================>.....] - ETA: 2s - loss: 1.2731 - accuracy: 0.5517 - recall: 0.3206 - specificity: 0.9874 - f1_score: 0.4448\n",
            "Epoch 00004: saving model to checkpoint_model.h5\n",
            "70/80 [=========================>....] - ETA: 2s - loss: 1.2701 - accuracy: 0.5528 - recall: 0.3215 - specificity: 0.9874 - f1_score: 0.4457\n",
            "Epoch 00004: saving model to checkpoint_model.h5\n",
            "71/80 [=========================>....] - ETA: 2s - loss: 1.2714 - accuracy: 0.5519 - recall: 0.3209 - specificity: 0.9873 - f1_score: 0.4448\n",
            "Epoch 00004: saving model to checkpoint_model.h5\n",
            "72/80 [==========================>...] - ETA: 1s - loss: 1.2734 - accuracy: 0.5506 - recall: 0.3196 - specificity: 0.9872 - f1_score: 0.4431\n",
            "Epoch 00004: saving model to checkpoint_model.h5\n",
            "73/80 [==========================>...] - ETA: 1s - loss: 1.2720 - accuracy: 0.5500 - recall: 0.3195 - specificity: 0.9872 - f1_score: 0.4429\n",
            "Epoch 00004: saving model to checkpoint_model.h5\n",
            "74/80 [==========================>...] - ETA: 1s - loss: 1.2708 - accuracy: 0.5512 - recall: 0.3205 - specificity: 0.9872 - f1_score: 0.4443\n",
            "Epoch 00004: saving model to checkpoint_model.h5\n",
            "75/80 [===========================>..] - ETA: 1s - loss: 1.2700 - accuracy: 0.5511 - recall: 0.3212 - specificity: 0.9871 - f1_score: 0.4447\n",
            "Epoch 00004: saving model to checkpoint_model.h5\n",
            "76/80 [===========================>..] - ETA: 0s - loss: 1.2689 - accuracy: 0.5516 - recall: 0.3226 - specificity: 0.9870 - f1_score: 0.4459\n",
            "Epoch 00004: saving model to checkpoint_model.h5\n",
            "77/80 [===========================>..] - ETA: 0s - loss: 1.2676 - accuracy: 0.5527 - recall: 0.3242 - specificity: 0.9870 - f1_score: 0.4474\n",
            "Epoch 00004: saving model to checkpoint_model.h5\n",
            "78/80 [============================>.] - ETA: 0s - loss: 1.2651 - accuracy: 0.5538 - recall: 0.3246 - specificity: 0.9871 - f1_score: 0.4481\n",
            "Epoch 00004: saving model to checkpoint_model.h5\n",
            "79/80 [============================>.] - ETA: 0s - loss: 1.2657 - accuracy: 0.5539 - recall: 0.3246 - specificity: 0.9870 - f1_score: 0.4480\n",
            "Epoch 00004: saving model to checkpoint_model.h5\n",
            "80/80 [==============================] - 22s 275ms/step - loss: 1.2667 - accuracy: 0.5532 - recall: 0.3243 - specificity: 0.9870 - f1_score: 0.4476 - val_loss: 1.3849 - val_accuracy: 0.5125 - val_recall: 0.3336 - val_specificity: 0.9828 - val_f1_score: 0.4467\n",
            "Epoch 5/100\n",
            "\n",
            "Epoch 00005: saving model to checkpoint_model.h5\n",
            " 1/80 [..............................] - ETA: 0s - loss: 1.1500 - accuracy: 0.6000 - recall: 0.4400 - specificity: 0.9881 - f1_score: 0.5690\n",
            "Epoch 00005: saving model to checkpoint_model.h5\n",
            " 2/80 [..............................] - ETA: 8s - loss: 1.0482 - accuracy: 0.6400 - recall: 0.4267 - specificity: 0.9874 - f1_score: 0.5540\n",
            "Epoch 00005: saving model to checkpoint_model.h5\n",
            " 3/80 [>.............................] - ETA: 11s - loss: 1.0842 - accuracy: 0.6222 - recall: 0.4311 - specificity: 0.9867 - f1_score: 0.5558\n",
            "Epoch 00005: saving model to checkpoint_model.h5\n",
            " 4/80 [>.............................] - ETA: 13s - loss: 1.1387 - accuracy: 0.5900 - recall: 0.4233 - specificity: 0.9852 - f1_score: 0.5440\n",
            "Epoch 00005: saving model to checkpoint_model.h5\n",
            " 5/80 [>.............................] - ETA: 13s - loss: 1.1671 - accuracy: 0.5813 - recall: 0.4187 - specificity: 0.9843 - f1_score: 0.5369\n",
            "Epoch 00005: saving model to checkpoint_model.h5\n",
            " 6/80 [=>............................] - ETA: 14s - loss: 1.1533 - accuracy: 0.5889 - recall: 0.4267 - specificity: 0.9854 - f1_score: 0.5480\n",
            "Epoch 00005: saving model to checkpoint_model.h5\n",
            " 7/80 [=>............................] - ETA: 14s - loss: 1.1341 - accuracy: 0.6019 - recall: 0.4152 - specificity: 0.9865 - f1_score: 0.5398\n",
            "Epoch 00005: saving model to checkpoint_model.h5\n",
            " 8/80 [==>...........................] - ETA: 14s - loss: 1.1312 - accuracy: 0.6017 - recall: 0.4167 - specificity: 0.9861 - f1_score: 0.5401\n",
            "Epoch 00005: saving model to checkpoint_model.h5\n",
            " 9/80 [==>...........................] - ETA: 14s - loss: 1.1331 - accuracy: 0.6015 - recall: 0.4074 - specificity: 0.9865 - f1_score: 0.5320\n",
            "Epoch 00005: saving model to checkpoint_model.h5\n",
            "10/80 [==>...........................] - ETA: 14s - loss: 1.1679 - accuracy: 0.5853 - recall: 0.3893 - specificity: 0.9861 - f1_score: 0.5115\n",
            "Epoch 00005: saving model to checkpoint_model.h5\n",
            "11/80 [===>..........................] - ETA: 14s - loss: 1.1746 - accuracy: 0.5806 - recall: 0.3879 - specificity: 0.9860 - f1_score: 0.5100\n",
            "Epoch 00005: saving model to checkpoint_model.h5\n",
            "12/80 [===>..........................] - ETA: 14s - loss: 1.1801 - accuracy: 0.5789 - recall: 0.3889 - specificity: 0.9865 - f1_score: 0.5130\n",
            "Epoch 00005: saving model to checkpoint_model.h5\n",
            "13/80 [===>..........................] - ETA: 14s - loss: 1.1712 - accuracy: 0.5826 - recall: 0.3949 - specificity: 0.9860 - f1_score: 0.5170\n",
            "Epoch 00005: saving model to checkpoint_model.h5\n",
            "14/80 [====>.........................] - ETA: 14s - loss: 1.1766 - accuracy: 0.5781 - recall: 0.3886 - specificity: 0.9859 - f1_score: 0.5105\n",
            "Epoch 00005: saving model to checkpoint_model.h5\n",
            "15/80 [====>.........................] - ETA: 14s - loss: 1.1805 - accuracy: 0.5787 - recall: 0.3813 - specificity: 0.9862 - f1_score: 0.5036\n",
            "Epoch 00005: saving model to checkpoint_model.h5\n",
            "16/80 [=====>........................] - ETA: 13s - loss: 1.1630 - accuracy: 0.5850 - recall: 0.3883 - specificity: 0.9864 - f1_score: 0.5110\n",
            "Epoch 00005: saving model to checkpoint_model.h5\n",
            "17/80 [=====>........................] - ETA: 13s - loss: 1.1660 - accuracy: 0.5827 - recall: 0.3851 - specificity: 0.9861 - f1_score: 0.5072\n",
            "Epoch 00005: saving model to checkpoint_model.h5\n",
            "18/80 [=====>........................] - ETA: 13s - loss: 1.1691 - accuracy: 0.5852 - recall: 0.3815 - specificity: 0.9863 - f1_score: 0.5042\n",
            "Epoch 00005: saving model to checkpoint_model.h5\n",
            "19/80 [======>.......................] - ETA: 13s - loss: 1.1599 - accuracy: 0.5874 - recall: 0.3804 - specificity: 0.9862 - f1_score: 0.5028\n",
            "Epoch 00005: saving model to checkpoint_model.h5\n",
            "20/80 [======>.......................] - ETA: 13s - loss: 1.1492 - accuracy: 0.5953 - recall: 0.3880 - specificity: 0.9864 - f1_score: 0.5107\n",
            "Epoch 00005: saving model to checkpoint_model.h5\n",
            "21/80 [======>.......................] - ETA: 13s - loss: 1.1583 - accuracy: 0.5898 - recall: 0.3841 - specificity: 0.9859 - f1_score: 0.5054\n",
            "Epoch 00005: saving model to checkpoint_model.h5\n",
            "22/80 [=======>......................] - ETA: 12s - loss: 1.1671 - accuracy: 0.5855 - recall: 0.3824 - specificity: 0.9855 - f1_score: 0.5028\n",
            "Epoch 00005: saving model to checkpoint_model.h5\n",
            "23/80 [=======>......................] - ETA: 12s - loss: 1.1696 - accuracy: 0.5832 - recall: 0.3849 - specificity: 0.9852 - f1_score: 0.5045\n",
            "Epoch 00005: saving model to checkpoint_model.h5\n",
            "24/80 [========>.....................] - ETA: 12s - loss: 1.1668 - accuracy: 0.5867 - recall: 0.3833 - specificity: 0.9852 - f1_score: 0.5030\n",
            "Epoch 00005: saving model to checkpoint_model.h5\n",
            "25/80 [========>.....................] - ETA: 12s - loss: 1.1664 - accuracy: 0.5877 - recall: 0.3872 - specificity: 0.9852 - f1_score: 0.5065\n",
            "Epoch 00005: saving model to checkpoint_model.h5\n",
            "26/80 [========>.....................] - ETA: 12s - loss: 1.1625 - accuracy: 0.5882 - recall: 0.3908 - specificity: 0.9852 - f1_score: 0.5101\n",
            "Epoch 00005: saving model to checkpoint_model.h5\n",
            "27/80 [=========>....................] - ETA: 11s - loss: 1.1644 - accuracy: 0.5881 - recall: 0.3901 - specificity: 0.9855 - f1_score: 0.5104\n",
            "Epoch 00005: saving model to checkpoint_model.h5\n",
            "28/80 [=========>....................] - ETA: 11s - loss: 1.1572 - accuracy: 0.5910 - recall: 0.3924 - specificity: 0.9857 - f1_score: 0.5131\n",
            "Epoch 00005: saving model to checkpoint_model.h5\n",
            "29/80 [=========>....................] - ETA: 11s - loss: 1.1533 - accuracy: 0.5926 - recall: 0.3940 - specificity: 0.9856 - f1_score: 0.5147\n",
            "Epoch 00005: saving model to checkpoint_model.h5\n",
            "30/80 [==========>...................] - ETA: 11s - loss: 1.1502 - accuracy: 0.5938 - recall: 0.3964 - specificity: 0.9857 - f1_score: 0.5172\n",
            "Epoch 00005: saving model to checkpoint_model.h5\n",
            "31/80 [==========>...................] - ETA: 11s - loss: 1.1471 - accuracy: 0.5918 - recall: 0.3991 - specificity: 0.9854 - f1_score: 0.5189\n",
            "Epoch 00005: saving model to checkpoint_model.h5\n",
            "32/80 [===========>..................] - ETA: 10s - loss: 1.1530 - accuracy: 0.5879 - recall: 0.3979 - specificity: 0.9851 - f1_score: 0.5170\n",
            "Epoch 00005: saving model to checkpoint_model.h5\n",
            "33/80 [===========>..................] - ETA: 10s - loss: 1.1541 - accuracy: 0.5895 - recall: 0.3988 - specificity: 0.9851 - f1_score: 0.5179\n",
            "Epoch 00005: saving model to checkpoint_model.h5\n",
            "34/80 [===========>..................] - ETA: 10s - loss: 1.1593 - accuracy: 0.5867 - recall: 0.3937 - specificity: 0.9852 - f1_score: 0.5126\n",
            "Epoch 00005: saving model to checkpoint_model.h5\n",
            "35/80 [============>.................] - ETA: 10s - loss: 1.1556 - accuracy: 0.5886 - recall: 0.3966 - specificity: 0.9852 - f1_score: 0.5153\n",
            "Epoch 00005: saving model to checkpoint_model.h5\n",
            "36/80 [============>.................] - ETA: 9s - loss: 1.1489 - accuracy: 0.5907 - recall: 0.3989 - specificity: 0.9852 - f1_score: 0.5176 \n",
            "Epoch 00005: saving model to checkpoint_model.h5\n",
            "37/80 [============>.................] - ETA: 9s - loss: 1.1570 - accuracy: 0.5874 - recall: 0.3975 - specificity: 0.9849 - f1_score: 0.5153\n",
            "Epoch 00005: saving model to checkpoint_model.h5\n",
            "38/80 [=============>................] - ETA: 9s - loss: 1.1576 - accuracy: 0.5863 - recall: 0.3961 - specificity: 0.9849 - f1_score: 0.5142\n",
            "Epoch 00005: saving model to checkpoint_model.h5\n",
            "39/80 [=============>................] - ETA: 9s - loss: 1.1535 - accuracy: 0.5877 - recall: 0.3993 - specificity: 0.9850 - f1_score: 0.5174\n",
            "Epoch 00005: saving model to checkpoint_model.h5\n",
            "40/80 [==============>...............] - ETA: 9s - loss: 1.1573 - accuracy: 0.5867 - recall: 0.3990 - specificity: 0.9848 - f1_score: 0.5167\n",
            "Epoch 00005: saving model to checkpoint_model.h5\n",
            "41/80 [==============>...............] - ETA: 8s - loss: 1.1575 - accuracy: 0.5857 - recall: 0.3997 - specificity: 0.9849 - f1_score: 0.5175\n",
            "Epoch 00005: saving model to checkpoint_model.h5\n",
            "42/80 [==============>...............] - ETA: 8s - loss: 1.1581 - accuracy: 0.5844 - recall: 0.4010 - specificity: 0.9847 - f1_score: 0.5184\n",
            "Epoch 00005: saving model to checkpoint_model.h5\n",
            "43/80 [===============>..............] - ETA: 8s - loss: 1.1616 - accuracy: 0.5826 - recall: 0.3991 - specificity: 0.9846 - f1_score: 0.5162\n",
            "Epoch 00005: saving model to checkpoint_model.h5\n",
            "44/80 [===============>..............] - ETA: 8s - loss: 1.1606 - accuracy: 0.5824 - recall: 0.4000 - specificity: 0.9845 - f1_score: 0.5168\n",
            "Epoch 00005: saving model to checkpoint_model.h5\n",
            "45/80 [===============>..............] - ETA: 7s - loss: 1.1623 - accuracy: 0.5819 - recall: 0.3991 - specificity: 0.9845 - f1_score: 0.5159\n",
            "Epoch 00005: saving model to checkpoint_model.h5\n",
            "46/80 [================>.............] - ETA: 7s - loss: 1.1601 - accuracy: 0.5832 - recall: 0.4000 - specificity: 0.9846 - f1_score: 0.5174\n",
            "Epoch 00005: saving model to checkpoint_model.h5\n",
            "47/80 [================>.............] - ETA: 7s - loss: 1.1563 - accuracy: 0.5830 - recall: 0.4000 - specificity: 0.9847 - f1_score: 0.5176\n",
            "Epoch 00005: saving model to checkpoint_model.h5\n",
            "48/80 [=================>............] - ETA: 7s - loss: 1.1570 - accuracy: 0.5828 - recall: 0.3994 - specificity: 0.9846 - f1_score: 0.5169\n",
            "Epoch 00005: saving model to checkpoint_model.h5\n",
            "49/80 [=================>............] - ETA: 7s - loss: 1.1579 - accuracy: 0.5823 - recall: 0.3992 - specificity: 0.9847 - f1_score: 0.5169\n",
            "Epoch 00005: saving model to checkpoint_model.h5\n",
            "50/80 [=================>............] - ETA: 6s - loss: 1.1591 - accuracy: 0.5832 - recall: 0.3987 - specificity: 0.9848 - f1_score: 0.5169\n",
            "Epoch 00005: saving model to checkpoint_model.h5\n",
            "51/80 [==================>...........] - ETA: 6s - loss: 1.1549 - accuracy: 0.5846 - recall: 0.4013 - specificity: 0.9849 - f1_score: 0.5194\n",
            "Epoch 00005: saving model to checkpoint_model.h5\n",
            "52/80 [==================>...........] - ETA: 6s - loss: 1.1511 - accuracy: 0.5869 - recall: 0.4021 - specificity: 0.9850 - f1_score: 0.5205\n",
            "Epoch 00005: saving model to checkpoint_model.h5\n",
            "53/80 [==================>...........] - ETA: 6s - loss: 1.1475 - accuracy: 0.5887 - recall: 0.4035 - specificity: 0.9851 - f1_score: 0.5222\n",
            "Epoch 00005: saving model to checkpoint_model.h5\n",
            "54/80 [===================>..........] - ETA: 5s - loss: 1.1509 - accuracy: 0.5872 - recall: 0.4025 - specificity: 0.9850 - f1_score: 0.5210\n",
            "Epoch 00005: saving model to checkpoint_model.h5\n",
            "55/80 [===================>..........] - ETA: 5s - loss: 1.1558 - accuracy: 0.5847 - recall: 0.4007 - specificity: 0.9849 - f1_score: 0.5191\n",
            "Epoch 00005: saving model to checkpoint_model.h5\n",
            "56/80 [====================>.........] - ETA: 5s - loss: 1.1543 - accuracy: 0.5845 - recall: 0.3998 - specificity: 0.9850 - f1_score: 0.5185\n",
            "Epoch 00005: saving model to checkpoint_model.h5\n",
            "57/80 [====================>.........] - ETA: 5s - loss: 1.1521 - accuracy: 0.5836 - recall: 0.3993 - specificity: 0.9851 - f1_score: 0.5181\n",
            "Epoch 00005: saving model to checkpoint_model.h5\n",
            "58/80 [====================>.........] - ETA: 5s - loss: 1.1537 - accuracy: 0.5823 - recall: 0.3975 - specificity: 0.9851 - f1_score: 0.5164\n",
            "Epoch 00005: saving model to checkpoint_model.h5\n",
            "59/80 [=====================>........] - ETA: 4s - loss: 1.1584 - accuracy: 0.5808 - recall: 0.3957 - specificity: 0.9851 - f1_score: 0.5147\n",
            "Epoch 00005: saving model to checkpoint_model.h5\n",
            "60/80 [=====================>........] - ETA: 4s - loss: 1.1574 - accuracy: 0.5818 - recall: 0.3953 - specificity: 0.9851 - f1_score: 0.5144\n",
            "Epoch 00005: saving model to checkpoint_model.h5\n",
            "61/80 [=====================>........] - ETA: 4s - loss: 1.1571 - accuracy: 0.5827 - recall: 0.3956 - specificity: 0.9852 - f1_score: 0.5150\n",
            "Epoch 00005: saving model to checkpoint_model.h5\n",
            "62/80 [======================>.......] - ETA: 4s - loss: 1.1571 - accuracy: 0.5824 - recall: 0.3957 - specificity: 0.9853 - f1_score: 0.5154\n",
            "Epoch 00005: saving model to checkpoint_model.h5\n",
            "63/80 [======================>.......] - ETA: 3s - loss: 1.1581 - accuracy: 0.5837 - recall: 0.3958 - specificity: 0.9854 - f1_score: 0.5159\n",
            "Epoch 00005: saving model to checkpoint_model.h5\n",
            "64/80 [=======================>......] - ETA: 3s - loss: 1.1579 - accuracy: 0.5844 - recall: 0.3962 - specificity: 0.9855 - f1_score: 0.5167\n",
            "Epoch 00005: saving model to checkpoint_model.h5\n",
            "65/80 [=======================>......] - ETA: 3s - loss: 1.1581 - accuracy: 0.5842 - recall: 0.3967 - specificity: 0.9855 - f1_score: 0.5173\n",
            "Epoch 00005: saving model to checkpoint_model.h5\n",
            "66/80 [=======================>......] - ETA: 3s - loss: 1.1582 - accuracy: 0.5851 - recall: 0.3972 - specificity: 0.9855 - f1_score: 0.5175\n",
            "Epoch 00005: saving model to checkpoint_model.h5\n",
            "67/80 [========================>.....] - ETA: 2s - loss: 1.1570 - accuracy: 0.5857 - recall: 0.3984 - specificity: 0.9854 - f1_score: 0.5183\n",
            "Epoch 00005: saving model to checkpoint_model.h5\n",
            "68/80 [========================>.....] - ETA: 2s - loss: 1.1553 - accuracy: 0.5865 - recall: 0.3986 - specificity: 0.9854 - f1_score: 0.5187\n",
            "Epoch 00005: saving model to checkpoint_model.h5\n",
            "69/80 [========================>.....] - ETA: 2s - loss: 1.1563 - accuracy: 0.5855 - recall: 0.3971 - specificity: 0.9853 - f1_score: 0.5169\n",
            "Epoch 00005: saving model to checkpoint_model.h5\n",
            "70/80 [=========================>....] - ETA: 2s - loss: 1.1553 - accuracy: 0.5865 - recall: 0.3983 - specificity: 0.9854 - f1_score: 0.5183\n",
            "Epoch 00005: saving model to checkpoint_model.h5\n",
            "71/80 [=========================>....] - ETA: 2s - loss: 1.1562 - accuracy: 0.5878 - recall: 0.3991 - specificity: 0.9855 - f1_score: 0.5195\n",
            "Epoch 00005: saving model to checkpoint_model.h5\n",
            "72/80 [==========================>...] - ETA: 1s - loss: 1.1581 - accuracy: 0.5874 - recall: 0.3974 - specificity: 0.9855 - f1_score: 0.5178\n",
            "Epoch 00005: saving model to checkpoint_model.h5\n",
            "73/80 [==========================>...] - ETA: 1s - loss: 1.1552 - accuracy: 0.5896 - recall: 0.3976 - specificity: 0.9857 - f1_score: 0.5185\n",
            "Epoch 00005: saving model to checkpoint_model.h5\n",
            "74/80 [==========================>...] - ETA: 1s - loss: 1.1551 - accuracy: 0.5895 - recall: 0.3977 - specificity: 0.9857 - f1_score: 0.5187\n",
            "Epoch 00005: saving model to checkpoint_model.h5\n",
            "75/80 [===========================>..] - ETA: 1s - loss: 1.1533 - accuracy: 0.5899 - recall: 0.3995 - specificity: 0.9858 - f1_score: 0.5206\n",
            "Epoch 00005: saving model to checkpoint_model.h5\n",
            "76/80 [===========================>..] - ETA: 0s - loss: 1.1523 - accuracy: 0.5907 - recall: 0.3995 - specificity: 0.9859 - f1_score: 0.5209\n",
            "Epoch 00005: saving model to checkpoint_model.h5\n",
            "77/80 [===========================>..] - ETA: 0s - loss: 1.1520 - accuracy: 0.5900 - recall: 0.3993 - specificity: 0.9859 - f1_score: 0.5208\n",
            "Epoch 00005: saving model to checkpoint_model.h5\n",
            "78/80 [============================>.] - ETA: 0s - loss: 1.1506 - accuracy: 0.5904 - recall: 0.3997 - specificity: 0.9859 - f1_score: 0.5213\n",
            "Epoch 00005: saving model to checkpoint_model.h5\n",
            "79/80 [============================>.] - ETA: 0s - loss: 1.1502 - accuracy: 0.5911 - recall: 0.4000 - specificity: 0.9859 - f1_score: 0.5216\n",
            "Epoch 00005: saving model to checkpoint_model.h5\n",
            "80/80 [==============================] - 22s 271ms/step - loss: 1.1499 - accuracy: 0.5913 - recall: 0.4003 - specificity: 0.9858 - f1_score: 0.5218 - val_loss: 1.3127 - val_accuracy: 0.5450 - val_recall: 0.3844 - val_specificity: 0.9803 - val_f1_score: 0.4912\n",
            "Epoch 6/100\n",
            "\n",
            "Epoch 00006: saving model to checkpoint_model.h5\n",
            " 1/80 [..............................] - ETA: 0s - loss: 0.9342 - accuracy: 0.7200 - recall: 0.4933 - specificity: 0.9941 - f1_score: 0.6379\n",
            "Epoch 00006: saving model to checkpoint_model.h5\n",
            " 2/80 [..............................] - ETA: 9s - loss: 0.9792 - accuracy: 0.6733 - recall: 0.5067 - specificity: 0.9911 - f1_score: 0.6386\n",
            "Epoch 00006: saving model to checkpoint_model.h5\n",
            " 3/80 [>.............................] - ETA: 11s - loss: 0.9611 - accuracy: 0.6756 - recall: 0.5467 - specificity: 0.9906 - f1_score: 0.6687\n",
            "Epoch 00006: saving model to checkpoint_model.h5\n",
            " 4/80 [>.............................] - ETA: 13s - loss: 1.0233 - accuracy: 0.6467 - recall: 0.5100 - specificity: 0.9893 - f1_score: 0.6319\n",
            "Epoch 00006: saving model to checkpoint_model.h5\n",
            " 5/80 [>.............................] - ETA: 13s - loss: 1.0220 - accuracy: 0.6587 - recall: 0.5013 - specificity: 0.9896 - f1_score: 0.6262\n",
            "Epoch 00006: saving model to checkpoint_model.h5\n",
            " 6/80 [=>............................] - ETA: 14s - loss: 0.9972 - accuracy: 0.6644 - recall: 0.4978 - specificity: 0.9896 - f1_score: 0.6236\n",
            "Epoch 00006: saving model to checkpoint_model.h5\n",
            " 7/80 [=>............................] - ETA: 14s - loss: 1.0018 - accuracy: 0.6571 - recall: 0.4895 - specificity: 0.9892 - f1_score: 0.6151\n",
            "Epoch 00006: saving model to checkpoint_model.h5\n",
            " 8/80 [==>...........................] - ETA: 14s - loss: 0.9968 - accuracy: 0.6583 - recall: 0.4883 - specificity: 0.9889 - f1_score: 0.6132\n",
            "Epoch 00006: saving model to checkpoint_model.h5\n",
            " 9/80 [==>...........................] - ETA: 14s - loss: 1.0049 - accuracy: 0.6519 - recall: 0.4844 - specificity: 0.9888 - f1_score: 0.6096\n",
            "Epoch 00006: saving model to checkpoint_model.h5\n",
            "10/80 [==>...........................] - ETA: 14s - loss: 0.9941 - accuracy: 0.6547 - recall: 0.4893 - specificity: 0.9895 - f1_score: 0.6165\n",
            "Epoch 00006: saving model to checkpoint_model.h5\n",
            "11/80 [===>..........................] - ETA: 14s - loss: 1.0174 - accuracy: 0.6509 - recall: 0.4788 - specificity: 0.9887 - f1_score: 0.6043\n",
            "Epoch 00006: saving model to checkpoint_model.h5\n",
            "12/80 [===>..........................] - ETA: 14s - loss: 1.0078 - accuracy: 0.6567 - recall: 0.4756 - specificity: 0.9890 - f1_score: 0.6026\n",
            "Epoch 00006: saving model to checkpoint_model.h5\n",
            "13/80 [===>..........................] - ETA: 14s - loss: 1.0307 - accuracy: 0.6503 - recall: 0.4667 - specificity: 0.9887 - f1_score: 0.5934\n",
            "Epoch 00006: saving model to checkpoint_model.h5\n",
            "14/80 [====>.........................] - ETA: 14s - loss: 1.0113 - accuracy: 0.6581 - recall: 0.4724 - specificity: 0.9888 - f1_score: 0.5986\n",
            "Epoch 00006: saving model to checkpoint_model.h5\n",
            "15/80 [====>.........................] - ETA: 14s - loss: 1.0058 - accuracy: 0.6631 - recall: 0.4747 - specificity: 0.9889 - f1_score: 0.6013\n",
            "Epoch 00006: saving model to checkpoint_model.h5\n",
            "16/80 [=====>........................] - ETA: 13s - loss: 1.0003 - accuracy: 0.6633 - recall: 0.4775 - specificity: 0.9888 - f1_score: 0.6033\n",
            "Epoch 00006: saving model to checkpoint_model.h5\n",
            "17/80 [=====>........................] - ETA: 13s - loss: 0.9958 - accuracy: 0.6675 - recall: 0.4792 - specificity: 0.9889 - f1_score: 0.6054\n",
            "Epoch 00006: saving model to checkpoint_model.h5\n",
            "18/80 [=====>........................] - ETA: 13s - loss: 0.9986 - accuracy: 0.6659 - recall: 0.4778 - specificity: 0.9887 - f1_score: 0.6035\n",
            "Epoch 00006: saving model to checkpoint_model.h5\n",
            "19/80 [======>.......................] - ETA: 13s - loss: 1.0042 - accuracy: 0.6604 - recall: 0.4765 - specificity: 0.9881 - f1_score: 0.6006\n",
            "Epoch 00006: saving model to checkpoint_model.h5\n",
            "20/80 [======>.......................] - ETA: 13s - loss: 1.0078 - accuracy: 0.6573 - recall: 0.4773 - specificity: 0.9880 - f1_score: 0.6009\n",
            "Epoch 00006: saving model to checkpoint_model.h5\n",
            "21/80 [======>.......................] - ETA: 13s - loss: 1.0164 - accuracy: 0.6540 - recall: 0.4768 - specificity: 0.9877 - f1_score: 0.5994\n",
            "Epoch 00006: saving model to checkpoint_model.h5\n",
            "22/80 [=======>......................] - ETA: 12s - loss: 1.0102 - accuracy: 0.6576 - recall: 0.4794 - specificity: 0.9879 - f1_score: 0.6024\n",
            "Epoch 00006: saving model to checkpoint_model.h5\n",
            "23/80 [=======>......................] - ETA: 12s - loss: 1.0063 - accuracy: 0.6586 - recall: 0.4806 - specificity: 0.9878 - f1_score: 0.6031\n",
            "Epoch 00006: saving model to checkpoint_model.h5\n",
            "24/80 [========>.....................] - ETA: 12s - loss: 1.0054 - accuracy: 0.6606 - recall: 0.4761 - specificity: 0.9877 - f1_score: 0.5986\n",
            "Epoch 00006: saving model to checkpoint_model.h5\n",
            "25/80 [========>.....................] - ETA: 12s - loss: 1.0036 - accuracy: 0.6592 - recall: 0.4784 - specificity: 0.9876 - f1_score: 0.6003\n",
            "Epoch 00006: saving model to checkpoint_model.h5\n",
            "26/80 [========>.....................] - ETA: 12s - loss: 1.0042 - accuracy: 0.6574 - recall: 0.4790 - specificity: 0.9874 - f1_score: 0.6003\n",
            "Epoch 00006: saving model to checkpoint_model.h5\n",
            "27/80 [=========>....................] - ETA: 11s - loss: 1.0063 - accuracy: 0.6538 - recall: 0.4751 - specificity: 0.9872 - f1_score: 0.5960\n",
            "Epoch 00006: saving model to checkpoint_model.h5\n",
            "28/80 [=========>....................] - ETA: 11s - loss: 1.0069 - accuracy: 0.6538 - recall: 0.4752 - specificity: 0.9872 - f1_score: 0.5963\n",
            "Epoch 00006: saving model to checkpoint_model.h5\n",
            "29/80 [=========>....................] - ETA: 11s - loss: 1.0145 - accuracy: 0.6524 - recall: 0.4726 - specificity: 0.9871 - f1_score: 0.5936\n",
            "Epoch 00006: saving model to checkpoint_model.h5\n",
            "30/80 [==========>...................] - ETA: 11s - loss: 1.0205 - accuracy: 0.6516 - recall: 0.4693 - specificity: 0.9868 - f1_score: 0.5896\n",
            "Epoch 00006: saving model to checkpoint_model.h5\n",
            "31/80 [==========>...................] - ETA: 11s - loss: 1.0238 - accuracy: 0.6516 - recall: 0.4697 - specificity: 0.9867 - f1_score: 0.5896\n",
            "Epoch 00006: saving model to checkpoint_model.h5\n",
            "32/80 [===========>..................] - ETA: 10s - loss: 1.0259 - accuracy: 0.6504 - recall: 0.4708 - specificity: 0.9865 - f1_score: 0.5902\n",
            "Epoch 00006: saving model to checkpoint_model.h5\n",
            "33/80 [===========>..................] - ETA: 10s - loss: 1.0222 - accuracy: 0.6505 - recall: 0.4707 - specificity: 0.9865 - f1_score: 0.5900\n",
            "Epoch 00006: saving model to checkpoint_model.h5\n",
            "34/80 [===========>..................] - ETA: 10s - loss: 1.0205 - accuracy: 0.6514 - recall: 0.4733 - specificity: 0.9861 - f1_score: 0.5911\n",
            "Epoch 00006: saving model to checkpoint_model.h5\n",
            "35/80 [============>.................] - ETA: 10s - loss: 1.0201 - accuracy: 0.6510 - recall: 0.4747 - specificity: 0.9860 - f1_score: 0.5919\n",
            "Epoch 00006: saving model to checkpoint_model.h5\n",
            "36/80 [============>.................] - ETA: 9s - loss: 1.0149 - accuracy: 0.6537 - recall: 0.4770 - specificity: 0.9862 - f1_score: 0.5944 \n",
            "Epoch 00006: saving model to checkpoint_model.h5\n",
            "37/80 [============>.................] - ETA: 9s - loss: 1.0142 - accuracy: 0.6548 - recall: 0.4775 - specificity: 0.9861 - f1_score: 0.5946\n",
            "Epoch 00006: saving model to checkpoint_model.h5\n",
            "38/80 [=============>................] - ETA: 9s - loss: 1.0139 - accuracy: 0.6547 - recall: 0.4761 - specificity: 0.9861 - f1_score: 0.5934\n",
            "Epoch 00006: saving model to checkpoint_model.h5\n",
            "39/80 [=============>................] - ETA: 9s - loss: 1.0128 - accuracy: 0.6540 - recall: 0.4769 - specificity: 0.9860 - f1_score: 0.5937\n",
            "Epoch 00006: saving model to checkpoint_model.h5\n",
            "40/80 [==============>...............] - ETA: 9s - loss: 1.0088 - accuracy: 0.6553 - recall: 0.4793 - specificity: 0.9860 - f1_score: 0.5957\n",
            "Epoch 00006: saving model to checkpoint_model.h5\n",
            "41/80 [==============>...............] - ETA: 8s - loss: 1.0059 - accuracy: 0.6572 - recall: 0.4826 - specificity: 0.9860 - f1_score: 0.5984\n",
            "Epoch 00006: saving model to checkpoint_model.h5\n",
            "42/80 [==============>...............] - ETA: 8s - loss: 1.0097 - accuracy: 0.6549 - recall: 0.4829 - specificity: 0.9858 - f1_score: 0.5980\n",
            "Epoch 00006: saving model to checkpoint_model.h5\n",
            "43/80 [===============>..............] - ETA: 8s - loss: 1.0094 - accuracy: 0.6546 - recall: 0.4840 - specificity: 0.9857 - f1_score: 0.5989\n",
            "Epoch 00006: saving model to checkpoint_model.h5\n",
            "44/80 [===============>..............] - ETA: 8s - loss: 1.0110 - accuracy: 0.6530 - recall: 0.4836 - specificity: 0.9858 - f1_score: 0.5987\n",
            "Epoch 00006: saving model to checkpoint_model.h5\n",
            "45/80 [===============>..............] - ETA: 8s - loss: 1.0105 - accuracy: 0.6542 - recall: 0.4839 - specificity: 0.9856 - f1_score: 0.5985\n",
            "Epoch 00006: saving model to checkpoint_model.h5\n",
            "46/80 [================>.............] - ETA: 7s - loss: 1.0116 - accuracy: 0.6536 - recall: 0.4826 - specificity: 0.9857 - f1_score: 0.5976\n",
            "Epoch 00006: saving model to checkpoint_model.h5\n",
            "47/80 [================>.............] - ETA: 7s - loss: 1.0189 - accuracy: 0.6505 - recall: 0.4800 - specificity: 0.9855 - f1_score: 0.5945\n",
            "Epoch 00006: saving model to checkpoint_model.h5\n",
            "48/80 [=================>............] - ETA: 7s - loss: 1.0196 - accuracy: 0.6492 - recall: 0.4797 - specificity: 0.9854 - f1_score: 0.5942\n",
            "Epoch 00006: saving model to checkpoint_model.h5\n",
            "49/80 [=================>............] - ETA: 7s - loss: 1.0222 - accuracy: 0.6479 - recall: 0.4784 - specificity: 0.9855 - f1_score: 0.5932\n",
            "Epoch 00006: saving model to checkpoint_model.h5\n",
            "50/80 [=================>............] - ETA: 6s - loss: 1.0257 - accuracy: 0.6461 - recall: 0.4771 - specificity: 0.9854 - f1_score: 0.5917\n",
            "Epoch 00006: saving model to checkpoint_model.h5\n",
            "51/80 [==================>...........] - ETA: 6s - loss: 1.0253 - accuracy: 0.6455 - recall: 0.4763 - specificity: 0.9854 - f1_score: 0.5910\n",
            "Epoch 00006: saving model to checkpoint_model.h5\n",
            "52/80 [==================>...........] - ETA: 6s - loss: 1.0295 - accuracy: 0.6433 - recall: 0.4749 - specificity: 0.9853 - f1_score: 0.5895\n",
            "Epoch 00006: saving model to checkpoint_model.h5\n",
            "53/80 [==================>...........] - ETA: 6s - loss: 1.0300 - accuracy: 0.6428 - recall: 0.4740 - specificity: 0.9854 - f1_score: 0.5889\n",
            "Epoch 00006: saving model to checkpoint_model.h5\n",
            "54/80 [===================>..........] - ETA: 5s - loss: 1.0319 - accuracy: 0.6435 - recall: 0.4726 - specificity: 0.9854 - f1_score: 0.5877\n",
            "Epoch 00006: saving model to checkpoint_model.h5\n",
            "55/80 [===================>..........] - ETA: 5s - loss: 1.0318 - accuracy: 0.6434 - recall: 0.4722 - specificity: 0.9854 - f1_score: 0.5876\n",
            "Epoch 00006: saving model to checkpoint_model.h5\n",
            "56/80 [====================>.........] - ETA: 5s - loss: 1.0338 - accuracy: 0.6426 - recall: 0.4717 - specificity: 0.9854 - f1_score: 0.5870\n",
            "Epoch 00006: saving model to checkpoint_model.h5\n",
            "57/80 [====================>.........] - ETA: 5s - loss: 1.0326 - accuracy: 0.6428 - recall: 0.4718 - specificity: 0.9854 - f1_score: 0.5872\n",
            "Epoch 00006: saving model to checkpoint_model.h5\n",
            "58/80 [====================>.........] - ETA: 5s - loss: 1.0295 - accuracy: 0.6441 - recall: 0.4729 - specificity: 0.9855 - f1_score: 0.5885\n",
            "Epoch 00006: saving model to checkpoint_model.h5\n",
            "59/80 [=====================>........] - ETA: 4s - loss: 1.0304 - accuracy: 0.6429 - recall: 0.4714 - specificity: 0.9856 - f1_score: 0.5874\n",
            "Epoch 00006: saving model to checkpoint_model.h5\n",
            "60/80 [=====================>........] - ETA: 4s - loss: 1.0337 - accuracy: 0.6422 - recall: 0.4693 - specificity: 0.9857 - f1_score: 0.5857\n",
            "Epoch 00006: saving model to checkpoint_model.h5\n",
            "61/80 [=====================>........] - ETA: 4s - loss: 1.0334 - accuracy: 0.6422 - recall: 0.4699 - specificity: 0.9857 - f1_score: 0.5865\n",
            "Epoch 00006: saving model to checkpoint_model.h5\n",
            "62/80 [======================>.......] - ETA: 4s - loss: 1.0336 - accuracy: 0.6426 - recall: 0.4686 - specificity: 0.9858 - f1_score: 0.5853\n",
            "Epoch 00006: saving model to checkpoint_model.h5\n",
            "63/80 [======================>.......] - ETA: 3s - loss: 1.0350 - accuracy: 0.6425 - recall: 0.4675 - specificity: 0.9857 - f1_score: 0.5843\n",
            "Epoch 00006: saving model to checkpoint_model.h5\n",
            "64/80 [=======================>......] - ETA: 3s - loss: 1.0338 - accuracy: 0.6427 - recall: 0.4681 - specificity: 0.9858 - f1_score: 0.5852\n",
            "Epoch 00006: saving model to checkpoint_model.h5\n",
            "65/80 [=======================>......] - ETA: 3s - loss: 1.0360 - accuracy: 0.6423 - recall: 0.4683 - specificity: 0.9858 - f1_score: 0.5852\n",
            "Epoch 00006: saving model to checkpoint_model.h5\n",
            "66/80 [=======================>......] - ETA: 3s - loss: 1.0373 - accuracy: 0.6412 - recall: 0.4675 - specificity: 0.9859 - f1_score: 0.5847\n",
            "Epoch 00006: saving model to checkpoint_model.h5\n",
            "67/80 [========================>.....] - ETA: 2s - loss: 1.0381 - accuracy: 0.6410 - recall: 0.4681 - specificity: 0.9859 - f1_score: 0.5853\n",
            "Epoch 00006: saving model to checkpoint_model.h5\n",
            "68/80 [========================>.....] - ETA: 2s - loss: 1.0391 - accuracy: 0.6402 - recall: 0.4678 - specificity: 0.9859 - f1_score: 0.5851\n",
            "Epoch 00006: saving model to checkpoint_model.h5\n",
            "69/80 [========================>.....] - ETA: 2s - loss: 1.0399 - accuracy: 0.6400 - recall: 0.4671 - specificity: 0.9858 - f1_score: 0.5841\n",
            "Epoch 00006: saving model to checkpoint_model.h5\n",
            "70/80 [=========================>....] - ETA: 2s - loss: 1.0379 - accuracy: 0.6410 - recall: 0.4682 - specificity: 0.9858 - f1_score: 0.5852\n",
            "Epoch 00006: saving model to checkpoint_model.h5\n",
            "71/80 [=========================>....] - ETA: 2s - loss: 1.0364 - accuracy: 0.6415 - recall: 0.4684 - specificity: 0.9858 - f1_score: 0.5854\n",
            "Epoch 00006: saving model to checkpoint_model.h5\n",
            "72/80 [==========================>...] - ETA: 1s - loss: 1.0349 - accuracy: 0.6424 - recall: 0.4687 - specificity: 0.9859 - f1_score: 0.5859\n",
            "Epoch 00006: saving model to checkpoint_model.h5\n",
            "73/80 [==========================>...] - ETA: 1s - loss: 1.0332 - accuracy: 0.6426 - recall: 0.4689 - specificity: 0.9859 - f1_score: 0.5861\n",
            "Epoch 00006: saving model to checkpoint_model.h5\n",
            "74/80 [==========================>...] - ETA: 1s - loss: 1.0338 - accuracy: 0.6420 - recall: 0.4679 - specificity: 0.9857 - f1_score: 0.5846\n",
            "Epoch 00006: saving model to checkpoint_model.h5\n",
            "75/80 [===========================>..] - ETA: 1s - loss: 1.0308 - accuracy: 0.6432 - recall: 0.4699 - specificity: 0.9857 - f1_score: 0.5864\n",
            "Epoch 00006: saving model to checkpoint_model.h5\n",
            "76/80 [===========================>..] - ETA: 0s - loss: 1.0314 - accuracy: 0.6423 - recall: 0.4698 - specificity: 0.9857 - f1_score: 0.5862\n",
            "Epoch 00006: saving model to checkpoint_model.h5\n",
            "77/80 [===========================>..] - ETA: 0s - loss: 1.0317 - accuracy: 0.6421 - recall: 0.4694 - specificity: 0.9856 - f1_score: 0.5859\n",
            "Epoch 00006: saving model to checkpoint_model.h5\n",
            "78/80 [============================>.] - ETA: 0s - loss: 1.0296 - accuracy: 0.6439 - recall: 0.4703 - specificity: 0.9857 - f1_score: 0.5866\n",
            "Epoch 00006: saving model to checkpoint_model.h5\n",
            "79/80 [============================>.] - ETA: 0s - loss: 1.0296 - accuracy: 0.6444 - recall: 0.4712 - specificity: 0.9857 - f1_score: 0.5878\n",
            "Epoch 00006: saving model to checkpoint_model.h5\n",
            "80/80 [==============================] - 22s 272ms/step - loss: 1.0273 - accuracy: 0.6452 - recall: 0.4725 - specificity: 0.9858 - f1_score: 0.5890 - val_loss: 1.2962 - val_accuracy: 0.5540 - val_recall: 0.4114 - val_specificity: 0.9795 - val_f1_score: 0.5150\n",
            "Epoch 7/100\n",
            "\n",
            "Epoch 00007: saving model to checkpoint_model.h5\n",
            " 1/80 [..............................] - ETA: 0s - loss: 0.9759 - accuracy: 0.6667 - recall: 0.5733 - specificity: 0.9793 - f1_score: 0.6515\n",
            "Epoch 00007: saving model to checkpoint_model.h5\n",
            " 2/80 [..............................] - ETA: 8s - loss: 0.8977 - accuracy: 0.7067 - recall: 0.5867 - specificity: 0.9852 - f1_score: 0.6829\n",
            "Epoch 00007: saving model to checkpoint_model.h5\n",
            " 3/80 [>.............................] - ETA: 11s - loss: 0.8934 - accuracy: 0.6978 - recall: 0.5689 - specificity: 0.9857 - f1_score: 0.6703\n",
            "Epoch 00007: saving model to checkpoint_model.h5\n",
            " 4/80 [>.............................] - ETA: 13s - loss: 0.9088 - accuracy: 0.6967 - recall: 0.5567 - specificity: 0.9844 - f1_score: 0.6563\n",
            "Epoch 00007: saving model to checkpoint_model.h5\n",
            " 5/80 [>.............................] - ETA: 13s - loss: 0.8965 - accuracy: 0.6933 - recall: 0.5493 - specificity: 0.9837 - f1_score: 0.6479\n",
            "Epoch 00007: saving model to checkpoint_model.h5\n",
            " 6/80 [=>............................] - ETA: 14s - loss: 0.9146 - accuracy: 0.6889 - recall: 0.5444 - specificity: 0.9840 - f1_score: 0.6447\n",
            "Epoch 00007: saving model to checkpoint_model.h5\n",
            " 7/80 [=>............................] - ETA: 14s - loss: 0.9167 - accuracy: 0.6876 - recall: 0.5467 - specificity: 0.9835 - f1_score: 0.6449\n",
            "Epoch 00007: saving model to checkpoint_model.h5\n",
            " 8/80 [==>...........................] - ETA: 14s - loss: 0.9026 - accuracy: 0.6967 - recall: 0.5450 - specificity: 0.9848 - f1_score: 0.6483\n",
            "Epoch 00007: saving model to checkpoint_model.h5\n",
            " 9/80 [==>...........................] - ETA: 14s - loss: 0.9217 - accuracy: 0.6904 - recall: 0.5393 - specificity: 0.9844 - f1_score: 0.6421\n",
            "Epoch 00007: saving model to checkpoint_model.h5\n",
            "10/80 [==>...........................] - ETA: 14s - loss: 0.9415 - accuracy: 0.6840 - recall: 0.5360 - specificity: 0.9846 - f1_score: 0.6402\n",
            "Epoch 00007: saving model to checkpoint_model.h5\n",
            "11/80 [===>..........................] - ETA: 14s - loss: 0.9482 - accuracy: 0.6836 - recall: 0.5345 - specificity: 0.9851 - f1_score: 0.6406\n",
            "Epoch 00007: saving model to checkpoint_model.h5\n",
            "12/80 [===>..........................] - ETA: 14s - loss: 0.9549 - accuracy: 0.6844 - recall: 0.5333 - specificity: 0.9854 - f1_score: 0.6409\n",
            "Epoch 00007: saving model to checkpoint_model.h5\n",
            "13/80 [===>..........................] - ETA: 14s - loss: 0.9525 - accuracy: 0.6882 - recall: 0.5344 - specificity: 0.9858 - f1_score: 0.6429\n",
            "Epoch 00007: saving model to checkpoint_model.h5\n",
            "14/80 [====>.........................] - ETA: 14s - loss: 0.9409 - accuracy: 0.6933 - recall: 0.5419 - specificity: 0.9861 - f1_score: 0.6501\n",
            "Epoch 00007: saving model to checkpoint_model.h5\n",
            "15/80 [====>.........................] - ETA: 14s - loss: 0.9501 - accuracy: 0.6827 - recall: 0.5342 - specificity: 0.9858 - f1_score: 0.6423\n",
            "Epoch 00007: saving model to checkpoint_model.h5\n",
            "16/80 [=====>........................] - ETA: 13s - loss: 0.9639 - accuracy: 0.6800 - recall: 0.5292 - specificity: 0.9856 - f1_score: 0.6376\n",
            "Epoch 00007: saving model to checkpoint_model.h5\n",
            "17/80 [=====>........................] - ETA: 13s - loss: 0.9624 - accuracy: 0.6776 - recall: 0.5263 - specificity: 0.9856 - f1_score: 0.6351\n",
            "Epoch 00007: saving model to checkpoint_model.h5\n",
            "18/80 [=====>........................] - ETA: 13s - loss: 0.9531 - accuracy: 0.6822 - recall: 0.5289 - specificity: 0.9858 - f1_score: 0.6377\n",
            "Epoch 00007: saving model to checkpoint_model.h5\n",
            "19/80 [======>.......................] - ETA: 13s - loss: 0.9403 - accuracy: 0.6877 - recall: 0.5319 - specificity: 0.9861 - f1_score: 0.6415\n",
            "Epoch 00007: saving model to checkpoint_model.h5\n",
            "20/80 [======>.......................] - ETA: 13s - loss: 0.9482 - accuracy: 0.6847 - recall: 0.5313 - specificity: 0.9859 - f1_score: 0.6402\n",
            "Epoch 00007: saving model to checkpoint_model.h5\n",
            "21/80 [======>.......................] - ETA: 13s - loss: 0.9392 - accuracy: 0.6902 - recall: 0.5384 - specificity: 0.9863 - f1_score: 0.6473\n",
            "Epoch 00007: saving model to checkpoint_model.h5\n",
            "22/80 [=======>......................] - ETA: 12s - loss: 0.9395 - accuracy: 0.6909 - recall: 0.5412 - specificity: 0.9864 - f1_score: 0.6499\n",
            "Epoch 00007: saving model to checkpoint_model.h5\n",
            "23/80 [=======>......................] - ETA: 12s - loss: 0.9475 - accuracy: 0.6864 - recall: 0.5374 - specificity: 0.9862 - f1_score: 0.6460\n",
            "Epoch 00007: saving model to checkpoint_model.h5\n",
            "24/80 [========>.....................] - ETA: 12s - loss: 0.9382 - accuracy: 0.6894 - recall: 0.5411 - specificity: 0.9864 - f1_score: 0.6497\n",
            "Epoch 00007: saving model to checkpoint_model.h5\n",
            "25/80 [========>.....................] - ETA: 12s - loss: 0.9448 - accuracy: 0.6853 - recall: 0.5397 - specificity: 0.9864 - f1_score: 0.6487\n",
            "Epoch 00007: saving model to checkpoint_model.h5\n",
            "26/80 [========>.....................] - ETA: 12s - loss: 0.9357 - accuracy: 0.6877 - recall: 0.5431 - specificity: 0.9864 - f1_score: 0.6511\n",
            "Epoch 00007: saving model to checkpoint_model.h5\n",
            "27/80 [=========>....................] - ETA: 11s - loss: 0.9313 - accuracy: 0.6899 - recall: 0.5447 - specificity: 0.9864 - f1_score: 0.6526\n",
            "Epoch 00007: saving model to checkpoint_model.h5\n",
            "28/80 [=========>....................] - ETA: 11s - loss: 0.9354 - accuracy: 0.6862 - recall: 0.5438 - specificity: 0.9864 - f1_score: 0.6518\n",
            "Epoch 00007: saving model to checkpoint_model.h5\n",
            "29/80 [=========>....................] - ETA: 11s - loss: 0.9408 - accuracy: 0.6841 - recall: 0.5389 - specificity: 0.9863 - f1_score: 0.6470\n",
            "Epoch 00007: saving model to checkpoint_model.h5\n",
            "30/80 [==========>...................] - ETA: 11s - loss: 0.9376 - accuracy: 0.6844 - recall: 0.5391 - specificity: 0.9863 - f1_score: 0.6473\n",
            "Epoch 00007: saving model to checkpoint_model.h5\n",
            "31/80 [==========>...................] - ETA: 10s - loss: 0.9360 - accuracy: 0.6856 - recall: 0.5372 - specificity: 0.9863 - f1_score: 0.6459\n",
            "Epoch 00007: saving model to checkpoint_model.h5\n",
            "32/80 [===========>..................] - ETA: 10s - loss: 0.9387 - accuracy: 0.6854 - recall: 0.5362 - specificity: 0.9863 - f1_score: 0.6451\n",
            "Epoch 00007: saving model to checkpoint_model.h5\n",
            "33/80 [===========>..................] - ETA: 10s - loss: 0.9364 - accuracy: 0.6857 - recall: 0.5366 - specificity: 0.9864 - f1_score: 0.6459\n",
            "Epoch 00007: saving model to checkpoint_model.h5\n",
            "34/80 [===========>..................] - ETA: 10s - loss: 0.9295 - accuracy: 0.6867 - recall: 0.5396 - specificity: 0.9864 - f1_score: 0.6481\n",
            "Epoch 00007: saving model to checkpoint_model.h5\n",
            "35/80 [============>.................] - ETA: 10s - loss: 0.9270 - accuracy: 0.6872 - recall: 0.5390 - specificity: 0.9865 - f1_score: 0.6480\n",
            "Epoch 00007: saving model to checkpoint_model.h5\n",
            "36/80 [============>.................] - ETA: 9s - loss: 0.9251 - accuracy: 0.6874 - recall: 0.5381 - specificity: 0.9865 - f1_score: 0.6475 \n",
            "Epoch 00007: saving model to checkpoint_model.h5\n",
            "37/80 [============>.................] - ETA: 9s - loss: 0.9246 - accuracy: 0.6894 - recall: 0.5377 - specificity: 0.9867 - f1_score: 0.6478\n",
            "Epoch 00007: saving model to checkpoint_model.h5\n",
            "38/80 [=============>................] - ETA: 9s - loss: 0.9292 - accuracy: 0.6877 - recall: 0.5337 - specificity: 0.9867 - f1_score: 0.6443\n",
            "Epoch 00007: saving model to checkpoint_model.h5\n",
            "39/80 [=============>................] - ETA: 9s - loss: 0.9318 - accuracy: 0.6865 - recall: 0.5330 - specificity: 0.9867 - f1_score: 0.6437\n",
            "Epoch 00007: saving model to checkpoint_model.h5\n",
            "40/80 [==============>...............] - ETA: 9s - loss: 0.9309 - accuracy: 0.6873 - recall: 0.5323 - specificity: 0.9866 - f1_score: 0.6429\n",
            "Epoch 00007: saving model to checkpoint_model.h5\n",
            "41/80 [==============>...............] - ETA: 8s - loss: 0.9291 - accuracy: 0.6878 - recall: 0.5327 - specificity: 0.9864 - f1_score: 0.6426\n",
            "Epoch 00007: saving model to checkpoint_model.h5\n",
            "42/80 [==============>...............] - ETA: 8s - loss: 0.9313 - accuracy: 0.6863 - recall: 0.5298 - specificity: 0.9865 - f1_score: 0.6402\n",
            "Epoch 00007: saving model to checkpoint_model.h5\n",
            "43/80 [===============>..............] - ETA: 8s - loss: 0.9281 - accuracy: 0.6868 - recall: 0.5293 - specificity: 0.9864 - f1_score: 0.6396\n",
            "Epoch 00007: saving model to checkpoint_model.h5\n",
            "44/80 [===============>..............] - ETA: 8s - loss: 0.9267 - accuracy: 0.6894 - recall: 0.5303 - specificity: 0.9866 - f1_score: 0.6409\n",
            "Epoch 00007: saving model to checkpoint_model.h5\n",
            "45/80 [===============>..............] - ETA: 7s - loss: 0.9281 - accuracy: 0.6877 - recall: 0.5295 - specificity: 0.9865 - f1_score: 0.6399\n",
            "Epoch 00007: saving model to checkpoint_model.h5\n",
            "46/80 [================>.............] - ETA: 7s - loss: 0.9251 - accuracy: 0.6878 - recall: 0.5316 - specificity: 0.9866 - f1_score: 0.6421\n",
            "Epoch 00007: saving model to checkpoint_model.h5\n",
            "47/80 [================>.............] - ETA: 7s - loss: 0.9261 - accuracy: 0.6868 - recall: 0.5302 - specificity: 0.9864 - f1_score: 0.6403\n",
            "Epoch 00007: saving model to checkpoint_model.h5\n",
            "48/80 [=================>............] - ETA: 7s - loss: 0.9229 - accuracy: 0.6864 - recall: 0.5314 - specificity: 0.9864 - f1_score: 0.6412\n",
            "Epoch 00007: saving model to checkpoint_model.h5\n",
            "49/80 [=================>............] - ETA: 7s - loss: 0.9230 - accuracy: 0.6857 - recall: 0.5317 - specificity: 0.9864 - f1_score: 0.6415\n",
            "Epoch 00007: saving model to checkpoint_model.h5\n",
            "50/80 [=================>............] - ETA: 6s - loss: 0.9265 - accuracy: 0.6845 - recall: 0.5301 - specificity: 0.9862 - f1_score: 0.6396\n",
            "Epoch 00007: saving model to checkpoint_model.h5\n",
            "51/80 [==================>...........] - ETA: 6s - loss: 0.9275 - accuracy: 0.6855 - recall: 0.5297 - specificity: 0.9862 - f1_score: 0.6394\n",
            "Epoch 00007: saving model to checkpoint_model.h5\n",
            "52/80 [==================>...........] - ETA: 6s - loss: 0.9338 - accuracy: 0.6823 - recall: 0.5274 - specificity: 0.9860 - f1_score: 0.6368\n",
            "Epoch 00007: saving model to checkpoint_model.h5\n",
            "53/80 [==================>...........] - ETA: 6s - loss: 0.9328 - accuracy: 0.6830 - recall: 0.5270 - specificity: 0.9861 - f1_score: 0.6369\n",
            "Epoch 00007: saving model to checkpoint_model.h5\n",
            "54/80 [===================>..........] - ETA: 5s - loss: 0.9338 - accuracy: 0.6835 - recall: 0.5259 - specificity: 0.9861 - f1_score: 0.6357\n",
            "Epoch 00007: saving model to checkpoint_model.h5\n",
            "55/80 [===================>..........] - ETA: 5s - loss: 0.9299 - accuracy: 0.6846 - recall: 0.5280 - specificity: 0.9861 - f1_score: 0.6376\n",
            "Epoch 00007: saving model to checkpoint_model.h5\n",
            "56/80 [====================>.........] - ETA: 5s - loss: 0.9326 - accuracy: 0.6831 - recall: 0.5271 - specificity: 0.9860 - f1_score: 0.6364\n",
            "Epoch 00007: saving model to checkpoint_model.h5\n",
            "57/80 [====================>.........] - ETA: 5s - loss: 0.9308 - accuracy: 0.6837 - recall: 0.5282 - specificity: 0.9859 - f1_score: 0.6370\n",
            "Epoch 00007: saving model to checkpoint_model.h5\n",
            "58/80 [====================>.........] - ETA: 5s - loss: 0.9280 - accuracy: 0.6844 - recall: 0.5285 - specificity: 0.9859 - f1_score: 0.6373\n",
            "Epoch 00007: saving model to checkpoint_model.h5\n",
            "59/80 [=====================>........] - ETA: 4s - loss: 0.9300 - accuracy: 0.6827 - recall: 0.5272 - specificity: 0.9858 - f1_score: 0.6359\n",
            "Epoch 00007: saving model to checkpoint_model.h5\n",
            "60/80 [=====================>........] - ETA: 4s - loss: 0.9322 - accuracy: 0.6827 - recall: 0.5271 - specificity: 0.9857 - f1_score: 0.6356\n",
            "Epoch 00007: saving model to checkpoint_model.h5\n",
            "61/80 [=====================>........] - ETA: 4s - loss: 0.9306 - accuracy: 0.6826 - recall: 0.5272 - specificity: 0.9857 - f1_score: 0.6357\n",
            "Epoch 00007: saving model to checkpoint_model.h5\n",
            "62/80 [======================>.......] - ETA: 4s - loss: 0.9297 - accuracy: 0.6839 - recall: 0.5284 - specificity: 0.9857 - f1_score: 0.6365\n",
            "Epoch 00007: saving model to checkpoint_model.h5\n",
            "63/80 [======================>.......] - ETA: 3s - loss: 0.9292 - accuracy: 0.6832 - recall: 0.5295 - specificity: 0.9857 - f1_score: 0.6373\n",
            "Epoch 00007: saving model to checkpoint_model.h5\n",
            "64/80 [=======================>......] - ETA: 3s - loss: 0.9286 - accuracy: 0.6837 - recall: 0.5292 - specificity: 0.9857 - f1_score: 0.6371\n",
            "Epoch 00007: saving model to checkpoint_model.h5\n",
            "65/80 [=======================>......] - ETA: 3s - loss: 0.9300 - accuracy: 0.6825 - recall: 0.5280 - specificity: 0.9856 - f1_score: 0.6358\n",
            "Epoch 00007: saving model to checkpoint_model.h5\n",
            "66/80 [=======================>......] - ETA: 3s - loss: 0.9334 - accuracy: 0.6814 - recall: 0.5275 - specificity: 0.9854 - f1_score: 0.6348\n",
            "Epoch 00007: saving model to checkpoint_model.h5\n",
            "67/80 [========================>.....] - ETA: 2s - loss: 0.9351 - accuracy: 0.6804 - recall: 0.5274 - specificity: 0.9853 - f1_score: 0.6344\n",
            "Epoch 00007: saving model to checkpoint_model.h5\n",
            "68/80 [========================>.....] - ETA: 2s - loss: 0.9354 - accuracy: 0.6804 - recall: 0.5280 - specificity: 0.9853 - f1_score: 0.6350\n",
            "Epoch 00007: saving model to checkpoint_model.h5\n",
            "69/80 [========================>.....] - ETA: 2s - loss: 0.9388 - accuracy: 0.6794 - recall: 0.5270 - specificity: 0.9853 - f1_score: 0.6339\n",
            "Epoch 00007: saving model to checkpoint_model.h5\n",
            "70/80 [=========================>....] - ETA: 2s - loss: 0.9408 - accuracy: 0.6781 - recall: 0.5265 - specificity: 0.9852 - f1_score: 0.6333\n",
            "Epoch 00007: saving model to checkpoint_model.h5\n",
            "71/80 [=========================>....] - ETA: 2s - loss: 0.9404 - accuracy: 0.6783 - recall: 0.5264 - specificity: 0.9852 - f1_score: 0.6333\n",
            "Epoch 00007: saving model to checkpoint_model.h5\n",
            "72/80 [==========================>...] - ETA: 1s - loss: 0.9372 - accuracy: 0.6791 - recall: 0.5276 - specificity: 0.9853 - f1_score: 0.6345\n",
            "Epoch 00007: saving model to checkpoint_model.h5\n",
            "73/80 [==========================>...] - ETA: 1s - loss: 0.9360 - accuracy: 0.6796 - recall: 0.5273 - specificity: 0.9853 - f1_score: 0.6344\n",
            "Epoch 00007: saving model to checkpoint_model.h5\n",
            "74/80 [==========================>...] - ETA: 1s - loss: 0.9392 - accuracy: 0.6782 - recall: 0.5261 - specificity: 0.9852 - f1_score: 0.6332\n",
            "Epoch 00007: saving model to checkpoint_model.h5\n",
            "75/80 [===========================>..] - ETA: 1s - loss: 0.9405 - accuracy: 0.6768 - recall: 0.5248 - specificity: 0.9853 - f1_score: 0.6321\n",
            "Epoch 00007: saving model to checkpoint_model.h5\n",
            "76/80 [===========================>..] - ETA: 0s - loss: 0.9381 - accuracy: 0.6772 - recall: 0.5261 - specificity: 0.9853 - f1_score: 0.6334\n",
            "Epoch 00007: saving model to checkpoint_model.h5\n",
            "77/80 [===========================>..] - ETA: 0s - loss: 0.9366 - accuracy: 0.6771 - recall: 0.5262 - specificity: 0.9854 - f1_score: 0.6337\n",
            "Epoch 00007: saving model to checkpoint_model.h5\n",
            "78/80 [============================>.] - ETA: 0s - loss: 0.9354 - accuracy: 0.6774 - recall: 0.5262 - specificity: 0.9855 - f1_score: 0.6339\n",
            "Epoch 00007: saving model to checkpoint_model.h5\n",
            "79/80 [============================>.] - ETA: 0s - loss: 0.9350 - accuracy: 0.6775 - recall: 0.5259 - specificity: 0.9854 - f1_score: 0.6335\n",
            "Epoch 00007: saving model to checkpoint_model.h5\n",
            "80/80 [==============================] - 22s 272ms/step - loss: 0.9387 - accuracy: 0.6760 - recall: 0.5248 - specificity: 0.9854 - f1_score: 0.6324 - val_loss: 1.2896 - val_accuracy: 0.5510 - val_recall: 0.4114 - val_specificity: 0.9774 - val_f1_score: 0.5083\n",
            "Epoch 8/100\n",
            "\n",
            "Epoch 00008: saving model to checkpoint_model.h5\n",
            " 1/80 [..............................] - ETA: 0s - loss: 0.9036 - accuracy: 0.7200 - recall: 0.4933 - specificity: 0.9911 - f1_score: 0.6271\n",
            "Epoch 00008: saving model to checkpoint_model.h5\n",
            " 2/80 [..............................] - ETA: 8s - loss: 0.8498 - accuracy: 0.7400 - recall: 0.5067 - specificity: 0.9904 - f1_score: 0.6359\n",
            "Epoch 00008: saving model to checkpoint_model.h5\n",
            " 3/80 [>.............................] - ETA: 11s - loss: 0.8753 - accuracy: 0.7289 - recall: 0.5111 - specificity: 0.9886 - f1_score: 0.6336\n",
            "Epoch 00008: saving model to checkpoint_model.h5\n",
            " 4/80 [>.............................] - ETA: 12s - loss: 0.8690 - accuracy: 0.7367 - recall: 0.5333 - specificity: 0.9896 - f1_score: 0.6552\n",
            "Epoch 00008: saving model to checkpoint_model.h5\n",
            " 5/80 [>.............................] - ETA: 13s - loss: 0.8178 - accuracy: 0.7547 - recall: 0.5600 - specificity: 0.9905 - f1_score: 0.6792\n",
            "Epoch 00008: saving model to checkpoint_model.h5\n",
            " 6/80 [=>............................] - ETA: 13s - loss: 0.8007 - accuracy: 0.7422 - recall: 0.5600 - specificity: 0.9904 - f1_score: 0.6789\n",
            "Epoch 00008: saving model to checkpoint_model.h5\n",
            " 7/80 [=>............................] - ETA: 14s - loss: 0.8271 - accuracy: 0.7410 - recall: 0.5467 - specificity: 0.9907 - f1_score: 0.6689\n",
            "Epoch 00008: saving model to checkpoint_model.h5\n",
            " 8/80 [==>...........................] - ETA: 14s - loss: 0.8558 - accuracy: 0.7317 - recall: 0.5433 - specificity: 0.9902 - f1_score: 0.6645\n",
            "Epoch 00008: saving model to checkpoint_model.h5\n",
            " 9/80 [==>...........................] - ETA: 14s - loss: 0.8436 - accuracy: 0.7259 - recall: 0.5452 - specificity: 0.9891 - f1_score: 0.6625\n",
            "Epoch 00008: saving model to checkpoint_model.h5\n",
            "10/80 [==>...........................] - ETA: 14s - loss: 0.8520 - accuracy: 0.7267 - recall: 0.5533 - specificity: 0.9886 - f1_score: 0.6669\n",
            "Epoch 00008: saving model to checkpoint_model.h5\n",
            "11/80 [===>..........................] - ETA: 14s - loss: 0.8448 - accuracy: 0.7285 - recall: 0.5552 - specificity: 0.9883 - f1_score: 0.6674\n",
            "Epoch 00008: saving model to checkpoint_model.h5\n",
            "12/80 [===>..........................] - ETA: 14s - loss: 0.8415 - accuracy: 0.7267 - recall: 0.5522 - specificity: 0.9880 - f1_score: 0.6642\n",
            "Epoch 00008: saving model to checkpoint_model.h5\n",
            "13/80 [===>..........................] - ETA: 14s - loss: 0.8379 - accuracy: 0.7262 - recall: 0.5528 - specificity: 0.9879 - f1_score: 0.6644\n",
            "Epoch 00008: saving model to checkpoint_model.h5\n",
            "14/80 [====>.........................] - ETA: 14s - loss: 0.8479 - accuracy: 0.7190 - recall: 0.5476 - specificity: 0.9873 - f1_score: 0.6581\n",
            "Epoch 00008: saving model to checkpoint_model.h5\n",
            "15/80 [====>.........................] - ETA: 14s - loss: 0.8511 - accuracy: 0.7191 - recall: 0.5538 - specificity: 0.9876 - f1_score: 0.6638\n",
            "Epoch 00008: saving model to checkpoint_model.h5\n",
            "16/80 [=====>........................] - ETA: 14s - loss: 0.8551 - accuracy: 0.7167 - recall: 0.5525 - specificity: 0.9873 - f1_score: 0.6620\n",
            "Epoch 00008: saving model to checkpoint_model.h5\n",
            "17/80 [=====>........................] - ETA: 13s - loss: 0.8521 - accuracy: 0.7145 - recall: 0.5514 - specificity: 0.9871 - f1_score: 0.6604\n",
            "Epoch 00008: saving model to checkpoint_model.h5\n",
            "18/80 [=====>........................] - ETA: 13s - loss: 0.8605 - accuracy: 0.7096 - recall: 0.5489 - specificity: 0.9867 - f1_score: 0.6570\n",
            "Epoch 00008: saving model to checkpoint_model.h5\n",
            "19/80 [======>.......................] - ETA: 13s - loss: 0.8625 - accuracy: 0.7088 - recall: 0.5495 - specificity: 0.9864 - f1_score: 0.6566\n",
            "Epoch 00008: saving model to checkpoint_model.h5\n",
            "20/80 [======>.......................] - ETA: 13s - loss: 0.8652 - accuracy: 0.7067 - recall: 0.5487 - specificity: 0.9864 - f1_score: 0.6561\n",
            "Epoch 00008: saving model to checkpoint_model.h5\n",
            "21/80 [======>.......................] - ETA: 13s - loss: 0.8511 - accuracy: 0.7149 - recall: 0.5587 - specificity: 0.9869 - f1_score: 0.6650\n",
            "Epoch 00008: saving model to checkpoint_model.h5\n",
            "22/80 [=======>......................] - ETA: 12s - loss: 0.8525 - accuracy: 0.7158 - recall: 0.5624 - specificity: 0.9868 - f1_score: 0.6676\n",
            "Epoch 00008: saving model to checkpoint_model.h5\n",
            "23/80 [=======>......................] - ETA: 12s - loss: 0.8505 - accuracy: 0.7183 - recall: 0.5623 - specificity: 0.9869 - f1_score: 0.6681\n",
            "Epoch 00008: saving model to checkpoint_model.h5\n",
            "24/80 [========>.....................] - ETA: 12s - loss: 0.8423 - accuracy: 0.7217 - recall: 0.5672 - specificity: 0.9871 - f1_score: 0.6724\n",
            "Epoch 00008: saving model to checkpoint_model.h5\n",
            "25/80 [========>.....................] - ETA: 12s - loss: 0.8390 - accuracy: 0.7205 - recall: 0.5675 - specificity: 0.9870 - f1_score: 0.6724\n",
            "Epoch 00008: saving model to checkpoint_model.h5\n",
            "26/80 [========>.....................] - ETA: 12s - loss: 0.8429 - accuracy: 0.7195 - recall: 0.5708 - specificity: 0.9869 - f1_score: 0.6745\n",
            "Epoch 00008: saving model to checkpoint_model.h5\n",
            "27/80 [=========>....................] - ETA: 11s - loss: 0.8415 - accuracy: 0.7185 - recall: 0.5694 - specificity: 0.9870 - f1_score: 0.6738\n",
            "Epoch 00008: saving model to checkpoint_model.h5\n",
            "28/80 [=========>....................] - ETA: 11s - loss: 0.8452 - accuracy: 0.7167 - recall: 0.5686 - specificity: 0.9871 - f1_score: 0.6737\n",
            "Epoch 00008: saving model to checkpoint_model.h5\n",
            "29/80 [=========>....................] - ETA: 11s - loss: 0.8448 - accuracy: 0.7163 - recall: 0.5692 - specificity: 0.9870 - f1_score: 0.6738\n",
            "Epoch 00008: saving model to checkpoint_model.h5\n",
            "30/80 [==========>...................] - ETA: 11s - loss: 0.8414 - accuracy: 0.7160 - recall: 0.5702 - specificity: 0.9871 - f1_score: 0.6748\n",
            "Epoch 00008: saving model to checkpoint_model.h5\n",
            "31/80 [==========>...................] - ETA: 11s - loss: 0.8351 - accuracy: 0.7191 - recall: 0.5742 - specificity: 0.9874 - f1_score: 0.6790\n",
            "Epoch 00008: saving model to checkpoint_model.h5\n",
            "32/80 [===========>..................] - ETA: 10s - loss: 0.8332 - accuracy: 0.7208 - recall: 0.5754 - specificity: 0.9875 - f1_score: 0.6804\n",
            "Epoch 00008: saving model to checkpoint_model.h5\n",
            "33/80 [===========>..................] - ETA: 10s - loss: 0.8310 - accuracy: 0.7216 - recall: 0.5766 - specificity: 0.9876 - f1_score: 0.6816\n",
            "Epoch 00008: saving model to checkpoint_model.h5\n",
            "34/80 [===========>..................] - ETA: 10s - loss: 0.8341 - accuracy: 0.7188 - recall: 0.5745 - specificity: 0.9875 - f1_score: 0.6797\n",
            "Epoch 00008: saving model to checkpoint_model.h5\n",
            "35/80 [============>.................] - ETA: 10s - loss: 0.8305 - accuracy: 0.7196 - recall: 0.5745 - specificity: 0.9875 - f1_score: 0.6798\n",
            "Epoch 00008: saving model to checkpoint_model.h5\n",
            "36/80 [============>.................] - ETA: 10s - loss: 0.8290 - accuracy: 0.7207 - recall: 0.5759 - specificity: 0.9875 - f1_score: 0.6809\n",
            "Epoch 00008: saving model to checkpoint_model.h5\n",
            "37/80 [============>.................] - ETA: 9s - loss: 0.8328 - accuracy: 0.7193 - recall: 0.5751 - specificity: 0.9873 - f1_score: 0.6798 \n",
            "Epoch 00008: saving model to checkpoint_model.h5\n",
            "38/80 [=============>................] - ETA: 9s - loss: 0.8311 - accuracy: 0.7196 - recall: 0.5751 - specificity: 0.9873 - f1_score: 0.6797\n",
            "Epoch 00008: saving model to checkpoint_model.h5\n",
            "39/80 [=============>................] - ETA: 9s - loss: 0.8295 - accuracy: 0.7200 - recall: 0.5768 - specificity: 0.9874 - f1_score: 0.6812\n",
            "Epoch 00008: saving model to checkpoint_model.h5\n",
            "40/80 [==============>...............] - ETA: 9s - loss: 0.8286 - accuracy: 0.7200 - recall: 0.5770 - specificity: 0.9874 - f1_score: 0.6814\n",
            "Epoch 00008: saving model to checkpoint_model.h5\n",
            "41/80 [==============>...............] - ETA: 8s - loss: 0.8280 - accuracy: 0.7213 - recall: 0.5763 - specificity: 0.9873 - f1_score: 0.6805\n",
            "Epoch 00008: saving model to checkpoint_model.h5\n",
            "42/80 [==============>...............] - ETA: 8s - loss: 0.8250 - accuracy: 0.7225 - recall: 0.5794 - specificity: 0.9874 - f1_score: 0.6834\n",
            "Epoch 00008: saving model to checkpoint_model.h5\n",
            "43/80 [===============>..............] - ETA: 8s - loss: 0.8231 - accuracy: 0.7243 - recall: 0.5808 - specificity: 0.9874 - f1_score: 0.6842\n",
            "Epoch 00008: saving model to checkpoint_model.h5\n",
            "44/80 [===============>..............] - ETA: 8s - loss: 0.8216 - accuracy: 0.7239 - recall: 0.5815 - specificity: 0.9873 - f1_score: 0.6845\n",
            "Epoch 00008: saving model to checkpoint_model.h5\n",
            "45/80 [===============>..............] - ETA: 8s - loss: 0.8193 - accuracy: 0.7239 - recall: 0.5834 - specificity: 0.9873 - f1_score: 0.6861\n",
            "Epoch 00008: saving model to checkpoint_model.h5\n",
            "46/80 [================>.............] - ETA: 7s - loss: 0.8201 - accuracy: 0.7226 - recall: 0.5823 - specificity: 0.9873 - f1_score: 0.6851\n",
            "Epoch 00008: saving model to checkpoint_model.h5\n",
            "47/80 [================>.............] - ETA: 7s - loss: 0.8200 - accuracy: 0.7234 - recall: 0.5852 - specificity: 0.9873 - f1_score: 0.6872\n",
            "Epoch 00008: saving model to checkpoint_model.h5\n",
            "48/80 [=================>............] - ETA: 7s - loss: 0.8207 - accuracy: 0.7239 - recall: 0.5853 - specificity: 0.9873 - f1_score: 0.6874\n",
            "Epoch 00008: saving model to checkpoint_model.h5\n",
            "49/80 [=================>............] - ETA: 7s - loss: 0.8214 - accuracy: 0.7235 - recall: 0.5845 - specificity: 0.9872 - f1_score: 0.6862\n",
            "Epoch 00008: saving model to checkpoint_model.h5\n",
            "50/80 [=================>............] - ETA: 6s - loss: 0.8216 - accuracy: 0.7237 - recall: 0.5837 - specificity: 0.9872 - f1_score: 0.6857\n",
            "Epoch 00008: saving model to checkpoint_model.h5\n",
            "51/80 [==================>...........] - ETA: 6s - loss: 0.8254 - accuracy: 0.7224 - recall: 0.5835 - specificity: 0.9868 - f1_score: 0.6845\n",
            "Epoch 00008: saving model to checkpoint_model.h5\n",
            "52/80 [==================>...........] - ETA: 6s - loss: 0.8238 - accuracy: 0.7218 - recall: 0.5831 - specificity: 0.9867 - f1_score: 0.6836\n",
            "Epoch 00008: saving model to checkpoint_model.h5\n",
            "53/80 [==================>...........] - ETA: 6s - loss: 0.8242 - accuracy: 0.7218 - recall: 0.5836 - specificity: 0.9866 - f1_score: 0.6839\n",
            "Epoch 00008: saving model to checkpoint_model.h5\n",
            "54/80 [===================>..........] - ETA: 5s - loss: 0.8230 - accuracy: 0.7225 - recall: 0.5844 - specificity: 0.9867 - f1_score: 0.6849\n",
            "Epoch 00008: saving model to checkpoint_model.h5\n",
            "55/80 [===================>..........] - ETA: 5s - loss: 0.8221 - accuracy: 0.7222 - recall: 0.5842 - specificity: 0.9867 - f1_score: 0.6846\n",
            "Epoch 00008: saving model to checkpoint_model.h5\n",
            "56/80 [====================>.........] - ETA: 5s - loss: 0.8223 - accuracy: 0.7221 - recall: 0.5848 - specificity: 0.9866 - f1_score: 0.6849\n",
            "Epoch 00008: saving model to checkpoint_model.h5\n",
            "57/80 [====================>.........] - ETA: 5s - loss: 0.8233 - accuracy: 0.7212 - recall: 0.5839 - specificity: 0.9865 - f1_score: 0.6838\n",
            "Epoch 00008: saving model to checkpoint_model.h5\n",
            "58/80 [====================>.........] - ETA: 5s - loss: 0.8210 - accuracy: 0.7209 - recall: 0.5841 - specificity: 0.9865 - f1_score: 0.6840\n",
            "Epoch 00008: saving model to checkpoint_model.h5\n",
            "59/80 [=====================>........] - ETA: 4s - loss: 0.8192 - accuracy: 0.7216 - recall: 0.5849 - specificity: 0.9866 - f1_score: 0.6849\n",
            "Epoch 00008: saving model to checkpoint_model.h5\n",
            "60/80 [=====================>........] - ETA: 4s - loss: 0.8180 - accuracy: 0.7216 - recall: 0.5851 - specificity: 0.9867 - f1_score: 0.6853\n",
            "Epoch 00008: saving model to checkpoint_model.h5\n",
            "61/80 [=====================>........] - ETA: 4s - loss: 0.8167 - accuracy: 0.7220 - recall: 0.5854 - specificity: 0.9866 - f1_score: 0.6853\n",
            "Epoch 00008: saving model to checkpoint_model.h5\n",
            "62/80 [======================>.......] - ETA: 4s - loss: 0.8182 - accuracy: 0.7215 - recall: 0.5847 - specificity: 0.9867 - f1_score: 0.6850\n",
            "Epoch 00008: saving model to checkpoint_model.h5\n",
            "63/80 [======================>.......] - ETA: 3s - loss: 0.8182 - accuracy: 0.7213 - recall: 0.5848 - specificity: 0.9866 - f1_score: 0.6847\n",
            "Epoch 00008: saving model to checkpoint_model.h5\n",
            "64/80 [=======================>......] - ETA: 3s - loss: 0.8193 - accuracy: 0.7204 - recall: 0.5846 - specificity: 0.9865 - f1_score: 0.6844\n",
            "Epoch 00008: saving model to checkpoint_model.h5\n",
            "65/80 [=======================>......] - ETA: 3s - loss: 0.8201 - accuracy: 0.7204 - recall: 0.5852 - specificity: 0.9865 - f1_score: 0.6850\n",
            "Epoch 00008: saving model to checkpoint_model.h5\n",
            "66/80 [=======================>......] - ETA: 3s - loss: 0.8197 - accuracy: 0.7208 - recall: 0.5857 - specificity: 0.9865 - f1_score: 0.6853\n",
            "Epoch 00008: saving model to checkpoint_model.h5\n",
            "67/80 [========================>.....] - ETA: 2s - loss: 0.8198 - accuracy: 0.7210 - recall: 0.5857 - specificity: 0.9866 - f1_score: 0.6854\n",
            "Epoch 00008: saving model to checkpoint_model.h5\n",
            "68/80 [========================>.....] - ETA: 2s - loss: 0.8173 - accuracy: 0.7216 - recall: 0.5873 - specificity: 0.9867 - f1_score: 0.6870\n",
            "Epoch 00008: saving model to checkpoint_model.h5\n",
            "69/80 [========================>.....] - ETA: 2s - loss: 0.8218 - accuracy: 0.7202 - recall: 0.5861 - specificity: 0.9866 - f1_score: 0.6859\n",
            "Epoch 00008: saving model to checkpoint_model.h5\n",
            "70/80 [=========================>....] - ETA: 2s - loss: 0.8219 - accuracy: 0.7210 - recall: 0.5869 - specificity: 0.9866 - f1_score: 0.6863\n",
            "Epoch 00008: saving model to checkpoint_model.h5\n",
            "71/80 [=========================>....] - ETA: 2s - loss: 0.8195 - accuracy: 0.7217 - recall: 0.5880 - specificity: 0.9866 - f1_score: 0.6873\n",
            "Epoch 00008: saving model to checkpoint_model.h5\n",
            "72/80 [==========================>...] - ETA: 1s - loss: 0.8191 - accuracy: 0.7217 - recall: 0.5887 - specificity: 0.9866 - f1_score: 0.6878\n",
            "Epoch 00008: saving model to checkpoint_model.h5\n",
            "73/80 [==========================>...] - ETA: 1s - loss: 0.8187 - accuracy: 0.7215 - recall: 0.5889 - specificity: 0.9866 - f1_score: 0.6879\n",
            "Epoch 00008: saving model to checkpoint_model.h5\n",
            "74/80 [==========================>...] - ETA: 1s - loss: 0.8200 - accuracy: 0.7205 - recall: 0.5888 - specificity: 0.9865 - f1_score: 0.6878\n",
            "Epoch 00008: saving model to checkpoint_model.h5\n",
            "75/80 [===========================>..] - ETA: 1s - loss: 0.8216 - accuracy: 0.7191 - recall: 0.5877 - specificity: 0.9865 - f1_score: 0.6869\n",
            "Epoch 00008: saving model to checkpoint_model.h5\n",
            "76/80 [===========================>..] - ETA: 0s - loss: 0.8219 - accuracy: 0.7182 - recall: 0.5875 - specificity: 0.9865 - f1_score: 0.6866\n",
            "Epoch 00008: saving model to checkpoint_model.h5\n",
            "77/80 [===========================>..] - ETA: 0s - loss: 0.8231 - accuracy: 0.7179 - recall: 0.5872 - specificity: 0.9865 - f1_score: 0.6863\n",
            "Epoch 00008: saving model to checkpoint_model.h5\n",
            "78/80 [============================>.] - ETA: 0s - loss: 0.8254 - accuracy: 0.7173 - recall: 0.5868 - specificity: 0.9864 - f1_score: 0.6857\n",
            "Epoch 00008: saving model to checkpoint_model.h5\n",
            "79/80 [============================>.] - ETA: 0s - loss: 0.8237 - accuracy: 0.7183 - recall: 0.5878 - specificity: 0.9864 - f1_score: 0.6866\n",
            "Epoch 00008: saving model to checkpoint_model.h5\n",
            "80/80 [==============================] - 22s 273ms/step - loss: 0.8240 - accuracy: 0.7178 - recall: 0.5875 - specificity: 0.9865 - f1_score: 0.6865 - val_loss: 1.2210 - val_accuracy: 0.5822 - val_recall: 0.4617 - val_specificity: 0.9773 - val_f1_score: 0.5528\n",
            "Epoch 9/100\n",
            "\n",
            "Epoch 00009: saving model to checkpoint_model.h5\n",
            " 1/80 [..............................] - ETA: 0s - loss: 0.7280 - accuracy: 0.7200 - recall: 0.6267 - specificity: 0.9896 - f1_score: 0.7287\n",
            "Epoch 00009: saving model to checkpoint_model.h5\n",
            " 2/80 [..............................] - ETA: 9s - loss: 0.6475 - accuracy: 0.7800 - recall: 0.6933 - specificity: 0.9904 - f1_score: 0.7774\n",
            "Epoch 00009: saving model to checkpoint_model.h5\n",
            " 3/80 [>.............................] - ETA: 12s - loss: 0.6808 - accuracy: 0.7644 - recall: 0.6667 - specificity: 0.9886 - f1_score: 0.7524\n",
            "Epoch 00009: saving model to checkpoint_model.h5\n",
            " 4/80 [>.............................] - ETA: 13s - loss: 0.6922 - accuracy: 0.7567 - recall: 0.6567 - specificity: 0.9878 - f1_score: 0.7423\n",
            "Epoch 00009: saving model to checkpoint_model.h5\n",
            " 5/80 [>.............................] - ETA: 13s - loss: 0.6917 - accuracy: 0.7493 - recall: 0.6507 - specificity: 0.9870 - f1_score: 0.7352\n",
            "Epoch 00009: saving model to checkpoint_model.h5\n",
            " 6/80 [=>............................] - ETA: 14s - loss: 0.6877 - accuracy: 0.7489 - recall: 0.6444 - specificity: 0.9864 - f1_score: 0.7288\n",
            "Epoch 00009: saving model to checkpoint_model.h5\n",
            " 7/80 [=>............................] - ETA: 14s - loss: 0.7098 - accuracy: 0.7448 - recall: 0.6324 - specificity: 0.9862 - f1_score: 0.7192\n",
            "Epoch 00009: saving model to checkpoint_model.h5\n",
            " 8/80 [==>...........................] - ETA: 14s - loss: 0.7000 - accuracy: 0.7500 - recall: 0.6317 - specificity: 0.9870 - f1_score: 0.7218\n",
            "Epoch 00009: saving model to checkpoint_model.h5\n",
            " 9/80 [==>...........................] - ETA: 14s - loss: 0.6946 - accuracy: 0.7511 - recall: 0.6341 - specificity: 0.9870 - f1_score: 0.7235\n",
            "Epoch 00009: saving model to checkpoint_model.h5\n",
            "10/80 [==>...........................] - ETA: 14s - loss: 0.7013 - accuracy: 0.7520 - recall: 0.6333 - specificity: 0.9873 - f1_score: 0.7240\n",
            "Epoch 00009: saving model to checkpoint_model.h5\n",
            "11/80 [===>..........................] - ETA: 14s - loss: 0.7010 - accuracy: 0.7539 - recall: 0.6412 - specificity: 0.9877 - f1_score: 0.7315\n",
            "Epoch 00009: saving model to checkpoint_model.h5\n",
            "12/80 [===>..........................] - ETA: 14s - loss: 0.6902 - accuracy: 0.7544 - recall: 0.6444 - specificity: 0.9883 - f1_score: 0.7359\n",
            "Epoch 00009: saving model to checkpoint_model.h5\n",
            "13/80 [===>..........................] - ETA: 14s - loss: 0.7069 - accuracy: 0.7497 - recall: 0.6400 - specificity: 0.9879 - f1_score: 0.7313\n",
            "Epoch 00009: saving model to checkpoint_model.h5\n",
            "14/80 [====>.........................] - ETA: 14s - loss: 0.7166 - accuracy: 0.7486 - recall: 0.6343 - specificity: 0.9876 - f1_score: 0.7260\n",
            "Epoch 00009: saving model to checkpoint_model.h5\n",
            "15/80 [====>.........................] - ETA: 14s - loss: 0.7171 - accuracy: 0.7476 - recall: 0.6347 - specificity: 0.9875 - f1_score: 0.7257\n",
            "Epoch 00009: saving model to checkpoint_model.h5\n",
            "16/80 [=====>........................] - ETA: 13s - loss: 0.7314 - accuracy: 0.7433 - recall: 0.6308 - specificity: 0.9873 - f1_score: 0.7223\n",
            "Epoch 00009: saving model to checkpoint_model.h5\n",
            "17/80 [=====>........................] - ETA: 13s - loss: 0.7265 - accuracy: 0.7451 - recall: 0.6329 - specificity: 0.9874 - f1_score: 0.7241\n",
            "Epoch 00009: saving model to checkpoint_model.h5\n",
            "18/80 [=====>........................] - ETA: 13s - loss: 0.7232 - accuracy: 0.7481 - recall: 0.6370 - specificity: 0.9877 - f1_score: 0.7285\n",
            "Epoch 00009: saving model to checkpoint_model.h5\n",
            "19/80 [======>.......................] - ETA: 13s - loss: 0.7223 - accuracy: 0.7509 - recall: 0.6351 - specificity: 0.9875 - f1_score: 0.7263\n",
            "Epoch 00009: saving model to checkpoint_model.h5\n",
            "20/80 [======>.......................] - ETA: 13s - loss: 0.7271 - accuracy: 0.7507 - recall: 0.6327 - specificity: 0.9875 - f1_score: 0.7243\n",
            "Epoch 00009: saving model to checkpoint_model.h5\n",
            "21/80 [======>.......................] - ETA: 13s - loss: 0.7258 - accuracy: 0.7511 - recall: 0.6343 - specificity: 0.9875 - f1_score: 0.7257\n",
            "Epoch 00009: saving model to checkpoint_model.h5\n",
            "22/80 [=======>......................] - ETA: 12s - loss: 0.7235 - accuracy: 0.7515 - recall: 0.6358 - specificity: 0.9878 - f1_score: 0.7279\n",
            "Epoch 00009: saving model to checkpoint_model.h5\n",
            "23/80 [=======>......................] - ETA: 12s - loss: 0.7189 - accuracy: 0.7542 - recall: 0.6371 - specificity: 0.9881 - f1_score: 0.7302\n",
            "Epoch 00009: saving model to checkpoint_model.h5\n",
            "24/80 [========>.....................] - ETA: 12s - loss: 0.7261 - accuracy: 0.7511 - recall: 0.6333 - specificity: 0.9878 - f1_score: 0.7263\n",
            "Epoch 00009: saving model to checkpoint_model.h5\n",
            "25/80 [========>.....................] - ETA: 12s - loss: 0.7288 - accuracy: 0.7488 - recall: 0.6347 - specificity: 0.9876 - f1_score: 0.7262\n",
            "Epoch 00009: saving model to checkpoint_model.h5\n",
            "26/80 [========>.....................] - ETA: 12s - loss: 0.7281 - accuracy: 0.7487 - recall: 0.6349 - specificity: 0.9877 - f1_score: 0.7271\n",
            "Epoch 00009: saving model to checkpoint_model.h5\n",
            "27/80 [=========>....................] - ETA: 11s - loss: 0.7317 - accuracy: 0.7472 - recall: 0.6296 - specificity: 0.9874 - f1_score: 0.7220\n",
            "Epoch 00009: saving model to checkpoint_model.h5\n",
            "28/80 [=========>....................] - ETA: 11s - loss: 0.7270 - accuracy: 0.7510 - recall: 0.6343 - specificity: 0.9876 - f1_score: 0.7257\n",
            "Epoch 00009: saving model to checkpoint_model.h5\n",
            "29/80 [=========>....................] - ETA: 11s - loss: 0.7289 - accuracy: 0.7499 - recall: 0.6354 - specificity: 0.9875 - f1_score: 0.7262\n",
            "Epoch 00009: saving model to checkpoint_model.h5\n",
            "30/80 [==========>...................] - ETA: 11s - loss: 0.7291 - accuracy: 0.7480 - recall: 0.6338 - specificity: 0.9876 - f1_score: 0.7253\n",
            "Epoch 00009: saving model to checkpoint_model.h5\n",
            "31/80 [==========>...................] - ETA: 10s - loss: 0.7296 - accuracy: 0.7475 - recall: 0.6335 - specificity: 0.9876 - f1_score: 0.7254\n",
            "Epoch 00009: saving model to checkpoint_model.h5\n",
            "32/80 [===========>..................] - ETA: 10s - loss: 0.7364 - accuracy: 0.7450 - recall: 0.6317 - specificity: 0.9875 - f1_score: 0.7234\n",
            "Epoch 00009: saving model to checkpoint_model.h5\n",
            "33/80 [===========>..................] - ETA: 10s - loss: 0.7398 - accuracy: 0.7434 - recall: 0.6311 - specificity: 0.9875 - f1_score: 0.7231\n",
            "Epoch 00009: saving model to checkpoint_model.h5\n",
            "34/80 [===========>..................] - ETA: 10s - loss: 0.7454 - accuracy: 0.7412 - recall: 0.6286 - specificity: 0.9872 - f1_score: 0.7204\n",
            "Epoch 00009: saving model to checkpoint_model.h5\n",
            "35/80 [============>.................] - ETA: 10s - loss: 0.7446 - accuracy: 0.7398 - recall: 0.6293 - specificity: 0.9870 - f1_score: 0.7202\n",
            "Epoch 00009: saving model to checkpoint_model.h5\n",
            "36/80 [============>.................] - ETA: 9s - loss: 0.7419 - accuracy: 0.7407 - recall: 0.6300 - specificity: 0.9871 - f1_score: 0.7210 \n",
            "Epoch 00009: saving model to checkpoint_model.h5\n",
            "37/80 [============>.................] - ETA: 9s - loss: 0.7478 - accuracy: 0.7377 - recall: 0.6274 - specificity: 0.9869 - f1_score: 0.7184\n",
            "Epoch 00009: saving model to checkpoint_model.h5\n",
            "38/80 [=============>................] - ETA: 9s - loss: 0.7489 - accuracy: 0.7382 - recall: 0.6267 - specificity: 0.9871 - f1_score: 0.7183\n",
            "Epoch 00009: saving model to checkpoint_model.h5\n",
            "39/80 [=============>................] - ETA: 9s - loss: 0.7466 - accuracy: 0.7388 - recall: 0.6287 - specificity: 0.9871 - f1_score: 0.7199\n",
            "Epoch 00009: saving model to checkpoint_model.h5\n",
            "40/80 [==============>...............] - ETA: 9s - loss: 0.7506 - accuracy: 0.7383 - recall: 0.6270 - specificity: 0.9871 - f1_score: 0.7185\n",
            "Epoch 00009: saving model to checkpoint_model.h5\n",
            "41/80 [==============>...............] - ETA: 8s - loss: 0.7526 - accuracy: 0.7376 - recall: 0.6257 - specificity: 0.9870 - f1_score: 0.7173\n",
            "Epoch 00009: saving model to checkpoint_model.h5\n",
            "42/80 [==============>...............] - ETA: 8s - loss: 0.7499 - accuracy: 0.7378 - recall: 0.6260 - specificity: 0.9868 - f1_score: 0.7170\n",
            "Epoch 00009: saving model to checkpoint_model.h5\n",
            "43/80 [===============>..............] - ETA: 8s - loss: 0.7479 - accuracy: 0.7383 - recall: 0.6270 - specificity: 0.9869 - f1_score: 0.7181\n",
            "Epoch 00009: saving model to checkpoint_model.h5\n",
            "44/80 [===============>..............] - ETA: 8s - loss: 0.7489 - accuracy: 0.7385 - recall: 0.6273 - specificity: 0.9870 - f1_score: 0.7184\n",
            "Epoch 00009: saving model to checkpoint_model.h5\n",
            "45/80 [===============>..............] - ETA: 8s - loss: 0.7500 - accuracy: 0.7375 - recall: 0.6267 - specificity: 0.9870 - f1_score: 0.7181\n",
            "Epoch 00009: saving model to checkpoint_model.h5\n",
            "46/80 [================>.............] - ETA: 7s - loss: 0.7495 - accuracy: 0.7374 - recall: 0.6272 - specificity: 0.9870 - f1_score: 0.7186\n",
            "Epoch 00009: saving model to checkpoint_model.h5\n",
            "47/80 [================>.............] - ETA: 7s - loss: 0.7490 - accuracy: 0.7387 - recall: 0.6284 - specificity: 0.9871 - f1_score: 0.7197\n",
            "Epoch 00009: saving model to checkpoint_model.h5\n",
            "48/80 [=================>............] - ETA: 7s - loss: 0.7515 - accuracy: 0.7372 - recall: 0.6264 - specificity: 0.9868 - f1_score: 0.7173\n",
            "Epoch 00009: saving model to checkpoint_model.h5\n",
            "49/80 [=================>............] - ETA: 7s - loss: 0.7510 - accuracy: 0.7388 - recall: 0.6283 - specificity: 0.9869 - f1_score: 0.7188\n",
            "Epoch 00009: saving model to checkpoint_model.h5\n",
            "50/80 [=================>............] - ETA: 6s - loss: 0.7483 - accuracy: 0.7397 - recall: 0.6296 - specificity: 0.9868 - f1_score: 0.7197\n",
            "Epoch 00009: saving model to checkpoint_model.h5\n",
            "51/80 [==================>...........] - ETA: 6s - loss: 0.7492 - accuracy: 0.7393 - recall: 0.6282 - specificity: 0.9868 - f1_score: 0.7184\n",
            "Epoch 00009: saving model to checkpoint_model.h5\n",
            "52/80 [==================>...........] - ETA: 6s - loss: 0.7519 - accuracy: 0.7379 - recall: 0.6277 - specificity: 0.9866 - f1_score: 0.7172\n",
            "Epoch 00009: saving model to checkpoint_model.h5\n",
            "53/80 [==================>...........] - ETA: 6s - loss: 0.7518 - accuracy: 0.7384 - recall: 0.6267 - specificity: 0.9866 - f1_score: 0.7165\n",
            "Epoch 00009: saving model to checkpoint_model.h5\n",
            "54/80 [===================>..........] - ETA: 6s - loss: 0.7533 - accuracy: 0.7378 - recall: 0.6259 - specificity: 0.9865 - f1_score: 0.7157\n",
            "Epoch 00009: saving model to checkpoint_model.h5\n",
            "55/80 [===================>..........] - ETA: 5s - loss: 0.7497 - accuracy: 0.7394 - recall: 0.6276 - specificity: 0.9866 - f1_score: 0.7174\n",
            "Epoch 00009: saving model to checkpoint_model.h5\n",
            "56/80 [====================>.........] - ETA: 5s - loss: 0.7488 - accuracy: 0.7400 - recall: 0.6283 - specificity: 0.9867 - f1_score: 0.7182\n",
            "Epoch 00009: saving model to checkpoint_model.h5\n",
            "57/80 [====================>.........] - ETA: 5s - loss: 0.7491 - accuracy: 0.7399 - recall: 0.6288 - specificity: 0.9867 - f1_score: 0.7185\n",
            "Epoch 00009: saving model to checkpoint_model.h5\n",
            "58/80 [====================>.........] - ETA: 5s - loss: 0.7490 - accuracy: 0.7393 - recall: 0.6283 - specificity: 0.9867 - f1_score: 0.7183\n",
            "Epoch 00009: saving model to checkpoint_model.h5\n",
            "59/80 [=====================>........] - ETA: 4s - loss: 0.7489 - accuracy: 0.7399 - recall: 0.6294 - specificity: 0.9868 - f1_score: 0.7193\n",
            "Epoch 00009: saving model to checkpoint_model.h5\n",
            "60/80 [=====================>........] - ETA: 4s - loss: 0.7485 - accuracy: 0.7396 - recall: 0.6287 - specificity: 0.9868 - f1_score: 0.7189\n",
            "Epoch 00009: saving model to checkpoint_model.h5\n",
            "61/80 [=====================>........] - ETA: 4s - loss: 0.7496 - accuracy: 0.7395 - recall: 0.6282 - specificity: 0.9869 - f1_score: 0.7187\n",
            "Epoch 00009: saving model to checkpoint_model.h5\n",
            "62/80 [======================>.......] - ETA: 4s - loss: 0.7522 - accuracy: 0.7394 - recall: 0.6284 - specificity: 0.9868 - f1_score: 0.7185\n",
            "Epoch 00009: saving model to checkpoint_model.h5\n",
            "63/80 [======================>.......] - ETA: 3s - loss: 0.7533 - accuracy: 0.7388 - recall: 0.6275 - specificity: 0.9867 - f1_score: 0.7177\n",
            "Epoch 00009: saving model to checkpoint_model.h5\n",
            "64/80 [=======================>......] - ETA: 3s - loss: 0.7560 - accuracy: 0.7377 - recall: 0.6262 - specificity: 0.9866 - f1_score: 0.7165\n",
            "Epoch 00009: saving model to checkpoint_model.h5\n",
            "65/80 [=======================>......] - ETA: 3s - loss: 0.7548 - accuracy: 0.7383 - recall: 0.6271 - specificity: 0.9867 - f1_score: 0.7175\n",
            "Epoch 00009: saving model to checkpoint_model.h5\n",
            "66/80 [=======================>......] - ETA: 3s - loss: 0.7558 - accuracy: 0.7382 - recall: 0.6273 - specificity: 0.9866 - f1_score: 0.7173\n",
            "Epoch 00009: saving model to checkpoint_model.h5\n",
            "67/80 [========================>.....] - ETA: 3s - loss: 0.7527 - accuracy: 0.7389 - recall: 0.6289 - specificity: 0.9867 - f1_score: 0.7186\n",
            "Epoch 00009: saving model to checkpoint_model.h5\n",
            "68/80 [========================>.....] - ETA: 2s - loss: 0.7523 - accuracy: 0.7394 - recall: 0.6294 - specificity: 0.9868 - f1_score: 0.7193\n",
            "Epoch 00009: saving model to checkpoint_model.h5\n",
            "69/80 [========================>.....] - ETA: 2s - loss: 0.7524 - accuracy: 0.7395 - recall: 0.6301 - specificity: 0.9868 - f1_score: 0.7197\n",
            "Epoch 00009: saving model to checkpoint_model.h5\n",
            "70/80 [=========================>....] - ETA: 2s - loss: 0.7551 - accuracy: 0.7387 - recall: 0.6297 - specificity: 0.9866 - f1_score: 0.7189\n",
            "Epoch 00009: saving model to checkpoint_model.h5\n",
            "71/80 [=========================>....] - ETA: 2s - loss: 0.7532 - accuracy: 0.7401 - recall: 0.6323 - specificity: 0.9867 - f1_score: 0.7212\n",
            "Epoch 00009: saving model to checkpoint_model.h5\n",
            "72/80 [==========================>...] - ETA: 1s - loss: 0.7522 - accuracy: 0.7407 - recall: 0.6328 - specificity: 0.9867 - f1_score: 0.7214\n",
            "Epoch 00009: saving model to checkpoint_model.h5\n",
            "73/80 [==========================>...] - ETA: 1s - loss: 0.7509 - accuracy: 0.7416 - recall: 0.6331 - specificity: 0.9868 - f1_score: 0.7220\n",
            "Epoch 00009: saving model to checkpoint_model.h5\n",
            "74/80 [==========================>...] - ETA: 1s - loss: 0.7506 - accuracy: 0.7422 - recall: 0.6330 - specificity: 0.9868 - f1_score: 0.7219\n",
            "Epoch 00009: saving model to checkpoint_model.h5\n",
            "75/80 [===========================>..] - ETA: 1s - loss: 0.7478 - accuracy: 0.7436 - recall: 0.6338 - specificity: 0.9869 - f1_score: 0.7229\n",
            "Epoch 00009: saving model to checkpoint_model.h5\n",
            "76/80 [===========================>..] - ETA: 0s - loss: 0.7489 - accuracy: 0.7432 - recall: 0.6335 - specificity: 0.9869 - f1_score: 0.7226\n",
            "Epoch 00009: saving model to checkpoint_model.h5\n",
            "77/80 [===========================>..] - ETA: 0s - loss: 0.7467 - accuracy: 0.7441 - recall: 0.6343 - specificity: 0.9869 - f1_score: 0.7233\n",
            "Epoch 00009: saving model to checkpoint_model.h5\n",
            "78/80 [============================>.] - ETA: 0s - loss: 0.7463 - accuracy: 0.7441 - recall: 0.6344 - specificity: 0.9870 - f1_score: 0.7236\n",
            "Epoch 00009: saving model to checkpoint_model.h5\n",
            "79/80 [============================>.] - ETA: 0s - loss: 0.7482 - accuracy: 0.7433 - recall: 0.6334 - specificity: 0.9869 - f1_score: 0.7228\n",
            "Epoch 00009: saving model to checkpoint_model.h5\n",
            "80/80 [==============================] - 22s 274ms/step - loss: 0.7489 - accuracy: 0.7422 - recall: 0.6328 - specificity: 0.9869 - f1_score: 0.7222 - val_loss: 1.2475 - val_accuracy: 0.5903 - val_recall: 0.4936 - val_specificity: 0.9746 - val_f1_score: 0.5723\n",
            "Epoch 00009: early stopping\n"
          ],
          "name": "stdout"
        }
      ]
    },
    {
      "cell_type": "markdown",
      "metadata": {
        "id": "aMDf4PtWnpEC"
      },
      "source": [
        "#### 5.\n",
        "Visualisasikan _error_ dari proses training yang diperoleh dari tiap $\\text{epoch}$ dan tampilkan matrik evaluasi ($\\text{accuration}$, $\\text{sensitivity}$, $\\text{specifity}$, dan $f_{1} \\text{ score}$) dari data test."
      ]
    },
    {
      "cell_type": "code",
      "metadata": {
        "id": "t8_a1m38nl8e",
        "outputId": "cf3061f1-ebad-49c1-832a-5a09839e3694",
        "colab": {
          "base_uri": "https://localhost:8080/",
          "height": 80
        }
      },
      "source": [
        "predict_and_get_metrics(final_convolutional_model, x_test, y_test, label='Data Test')"
      ],
      "execution_count": 40,
      "outputs": [
        {
          "output_type": "execute_result",
          "data": {
            "text/html": [
              "<div>\n",
              "<style scoped>\n",
              "    .dataframe tbody tr th:only-of-type {\n",
              "        vertical-align: middle;\n",
              "    }\n",
              "\n",
              "    .dataframe tbody tr th {\n",
              "        vertical-align: top;\n",
              "    }\n",
              "\n",
              "    .dataframe thead th {\n",
              "        text-align: right;\n",
              "    }\n",
              "</style>\n",
              "<table border=\"1\" class=\"dataframe\">\n",
              "  <thead>\n",
              "    <tr style=\"text-align: right;\">\n",
              "      <th></th>\n",
              "      <th>Accuracy</th>\n",
              "      <th>Sensitivity</th>\n",
              "      <th>Specificity</th>\n",
              "      <th>F1 Score</th>\n",
              "    </tr>\n",
              "  </thead>\n",
              "  <tbody>\n",
              "    <tr>\n",
              "      <th>Data Test</th>\n",
              "      <td>0.59025</td>\n",
              "      <td>0.49525</td>\n",
              "      <td>0.974666</td>\n",
              "      <td>0.57313</td>\n",
              "    </tr>\n",
              "  </tbody>\n",
              "</table>\n",
              "</div>"
            ],
            "text/plain": [
              "           Accuracy  Sensitivity  Specificity  F1 Score\n",
              "Data Test   0.59025      0.49525     0.974666   0.57313"
            ]
          },
          "metadata": {
            "tags": []
          },
          "execution_count": 40
        }
      ]
    },
    {
      "cell_type": "code",
      "metadata": {
        "id": "ieBJk0MzAdcb",
        "outputId": "e84ff0a7-7253-4cb4-9332-10c1d4aa5e67",
        "colab": {
          "base_uri": "https://localhost:8080/",
          "height": 281
        }
      },
      "source": [
        "## Plot Training History\n",
        "plt.plot(history.history['loss'], label='train')\n",
        "plt.plot(history.history['val_loss'], label='test')\n",
        "plt.title('History Plot Error untuk Optimum Parameter Model')\n",
        "plt.legend()\n",
        "plt.show()"
      ],
      "execution_count": 42,
      "outputs": [
        {
          "output_type": "display_data",
          "data": {
            "image/png": "[encoded data removed]",
            "text/plain": [
              "<Figure size 432x288 with 1 Axes>"
            ]
          },
          "metadata": {
            "tags": [],
            "needs_background": "light"
          }
        }
      ]
    },
    {
      "cell_type": "markdown",
      "metadata": {
        "id": "yX94vmVUx2qi"
      },
      "source": [
        "#### 6.\n",
        "Gunakan _pre-trained_ model yg telah dibuat tersebut untuk diimplementasikan pada dataset $\\text{CIFAR 100}$ untuk kelas $1$ hingga kelas $10$ (masing-masing kelas terdiri dari\n",
        "$100$ citra) dengan rasio _data train_ dan _data test_ sebanyak $60\\% : 40\\%$. Kemudian hitung matrik evaluasi ($\\text{accuration}$, $\\text{sensitivity}$, $\\text{specifity}$, dan $f_{1}\\text{ score}$) dari _data train_ dan _data test_."
      ]
    },
    {
      "cell_type": "markdown",
      "metadata": {
        "id": "GQgmi0nUzkJM"
      },
      "source": [
        "##### Load Data CIFAR 100"
      ]
    },
    {
      "cell_type": "code",
      "metadata": {
        "id": "SE-tc_jToB0v",
        "outputId": "fd8263a4-a1df-4ef4-8f30-e03848e7e3ec",
        "colab": {
          "base_uri": "https://localhost:8080/",
          "height": 68
        }
      },
      "source": [
        "x_100, y_100 = load_dataset_cifar100()\n",
        "x_100.shape"
      ],
      "execution_count": 43,
      "outputs": [
        {
          "output_type": "stream",
          "text": [
            "Downloading data from https://www.cs.toronto.edu/~kriz/cifar-100-python.tar.gz\n",
            "169009152/169001437 [==============================] - 3s 0us/step\n"
          ],
          "name": "stdout"
        },
        {
          "output_type": "execute_result",
          "data": {
            "text/plain": [
              "(60000, 32, 32, 3)"
            ]
          },
          "metadata": {
            "tags": []
          },
          "execution_count": 43
        }
      ]
    },
    {
      "cell_type": "markdown",
      "metadata": {
        "id": "if9E1bWMz0A5"
      },
      "source": [
        "##### Mengambil Dataset Sebanyak 100 Per Kelasnya"
      ]
    },
    {
      "cell_type": "code",
      "metadata": {
        "id": "3s7Ne_JXzpra"
      },
      "source": [
        "idx_sample_100 = np.array([],dtype=int)\n",
        "\n",
        "for i in range(10):\n",
        "    idx = (y == i).reshape(x.shape[0])\n",
        "    idx_data = np.where(idx == True)\n",
        "    sampled_list = np.random.choice(idx_data[0], size=100, replace=False)\n",
        "    idx_sample_100 = np.concatenate((idx_sample_100, sampled_list), axis=0)"
      ],
      "execution_count": 44,
      "outputs": []
    },
    {
      "cell_type": "markdown",
      "metadata": {
        "id": "Q8oHYb840RIb"
      },
      "source": [
        "##### Melakukan Validasi Apakah Shape-nya Sudah Valid atau Belum"
      ]
    },
    {
      "cell_type": "code",
      "metadata": {
        "id": "5RLLMzSMz9ng",
        "outputId": "763de9ae-2a59-4ad0-ba7a-e8aaa8aba2e3",
        "colab": {
          "base_uri": "https://localhost:8080/",
          "height": 34
        }
      },
      "source": [
        "x_sample_100 = x[idx_sample_100]\n",
        "y_sample_100 = y[idx_sample_100]\n",
        "x_sample_100.shape, y_sample_100.shape"
      ],
      "execution_count": 45,
      "outputs": [
        {
          "output_type": "execute_result",
          "data": {
            "text/plain": [
              "((1000, 32, 32, 3), (1000, 1))"
            ]
          },
          "metadata": {
            "tags": []
          },
          "execution_count": 45
        }
      ]
    },
    {
      "cell_type": "markdown",
      "metadata": {
        "id": "ObThLqAm0fT6"
      },
      "source": [
        "##### Melakukan Normalisasi untuk $x$"
      ]
    },
    {
      "cell_type": "code",
      "metadata": {
        "id": "r3PzFC-U0XJX"
      },
      "source": [
        "x_sample_100 = normalize(x_sample_100)"
      ],
      "execution_count": 46,
      "outputs": []
    },
    {
      "cell_type": "markdown",
      "metadata": {
        "id": "wSUze6Hn0jIj"
      },
      "source": [
        "##### Merubah Menjadi Matrix Binary untuk $y$"
      ]
    },
    {
      "cell_type": "code",
      "metadata": {
        "id": "0lUkOWj_0oA-"
      },
      "source": [
        "y_sample_100 = tf.keras.utils.to_categorical(y_sample_100)"
      ],
      "execution_count": 47,
      "outputs": []
    },
    {
      "cell_type": "markdown",
      "metadata": {
        "id": "svmZMqY60t0T"
      },
      "source": [
        "##### Memecah Menjadi 60 : 40 ~ Train : Test"
      ]
    },
    {
      "cell_type": "code",
      "metadata": {
        "id": "mSsfU27X0tAT"
      },
      "source": [
        "x_train_100, x_test_100, y_train_100, y_test_100 = train_test_split(x_sample_100, y_sample_100, test_size=0.4)"
      ],
      "execution_count": 48,
      "outputs": []
    },
    {
      "cell_type": "markdown",
      "metadata": {
        "id": "NjI-gw5g2G7F"
      },
      "source": [
        "##### Melakukan Evaluasi Pre-Trained Model dari Train Sebelumnya"
      ]
    },
    {
      "cell_type": "code",
      "metadata": {
        "id": "JZ28E1dZ027O",
        "outputId": "93b9137c-8934-4bca-9e6c-0c279f7144f0",
        "colab": {
          "base_uri": "https://localhost:8080/",
          "height": 111
        }
      },
      "source": [
        "pre_trained_model = load_model('checkpoint_model.h5', compile=True, custom_objects={\n",
        "    \"recall\": recall,\n",
        "    \"specificity\": specificity,\n",
        "    \"f1_score\": f1_score\n",
        "})\n",
        "compare_train_and_test(pre_trained_model, x_train_100, y_train_100, x_test_100, y_test_100)"
      ],
      "execution_count": 78,
      "outputs": [
        {
          "output_type": "execute_result",
          "data": {
            "text/html": [
              "<div>\n",
              "<style scoped>\n",
              "    .dataframe tbody tr th:only-of-type {\n",
              "        vertical-align: middle;\n",
              "    }\n",
              "\n",
              "    .dataframe tbody tr th {\n",
              "        vertical-align: top;\n",
              "    }\n",
              "\n",
              "    .dataframe thead th {\n",
              "        text-align: right;\n",
              "    }\n",
              "</style>\n",
              "<table border=\"1\" class=\"dataframe\">\n",
              "  <thead>\n",
              "    <tr style=\"text-align: right;\">\n",
              "      <th></th>\n",
              "      <th>Accuracy</th>\n",
              "      <th>Sensitivity</th>\n",
              "      <th>Specificity</th>\n",
              "      <th>F1 Score</th>\n",
              "    </tr>\n",
              "  </thead>\n",
              "  <tbody>\n",
              "    <tr>\n",
              "      <th>Data Train</th>\n",
              "      <td>0.615</td>\n",
              "      <td>0.511513</td>\n",
              "      <td>0.978984</td>\n",
              "      <td>0.600037</td>\n",
              "    </tr>\n",
              "    <tr>\n",
              "      <th>Data Test</th>\n",
              "      <td>0.585</td>\n",
              "      <td>0.495192</td>\n",
              "      <td>0.978098</td>\n",
              "      <td>0.584703</td>\n",
              "    </tr>\n",
              "  </tbody>\n",
              "</table>\n",
              "</div>"
            ],
            "text/plain": [
              "             Accuracy  Sensitivity  Specificity  F1 Score\n",
              "Data Train      0.615     0.511513     0.978984  0.600037\n",
              "Data Test       0.585     0.495192     0.978098  0.584703"
            ]
          },
          "metadata": {
            "tags": []
          },
          "execution_count": 78
        }
      ]
    },
    {
      "cell_type": "markdown",
      "metadata": {
        "id": "boydKZeV_VaB"
      },
      "source": [
        "#### 7.\n",
        "Buat arsitektur $\\text{Convolutional Neural Network}$ yang baru dengan menggunakan semua _hidden layer pre-trained_ dari model sebelumnya, lakukan _freezing_ pada semua _hidden layer_ tersebut, lalu ganti _layer output_ $\\text{softmax}$ dengan layer baru."
      ]
    },
    {
      "cell_type": "code",
      "metadata": {
        "id": "kZnk38km2WoL"
      },
      "source": [
        "## Fungsi untuk melakukan freeze pada layer\n",
        "def make_freeze(layer):\n",
        "    layer.trainable = False\n",
        "    return layer\n",
        "\n",
        "## Melakukan copy untuk semua layer\n",
        "copy_layers = [make_freeze(layer) for layer in pre_trained_model.layers]\n",
        "\n",
        "## Me-replace ouput layer dengan layer baru yang trainable\n",
        "copy_layers[-1] = Dense(10, activation=tf.nn.softmax)\n",
        "\n",
        "## Membangun Model\n",
        "new_cnn_model = create_model(0.001, copy_layers)"
      ],
      "execution_count": 79,
      "outputs": []
    },
    {
      "cell_type": "markdown",
      "metadata": {
        "id": "eLMCF_C8Zly4"
      },
      "source": [
        "#### 8.\n",
        "Implementasikan model poin $(7)$ pada dataset $\\text{CIFAR 100}$ untuk kelas $1$ hingga kelas $10$ dengan rasio _data train_ dan _data test_ sebanyak $60\\% : 40\\%$. Kemudian hitung matrik evaluasi ($\\text{accuration}$, $\\text{sensitivity}$, $\\text{specificity}$, dan $f_{1}\\text{ score}$) dari _data train_ dan _data test_."
      ]
    },
    {
      "cell_type": "markdown",
      "metadata": {
        "id": "umCu24Z9bhrA"
      },
      "source": [
        "##### Melakukan Train pada Model CNN Baru"
      ]
    },
    {
      "cell_type": "code",
      "metadata": {
        "id": "BvBAH0_cpirq"
      },
      "source": [
        "## Mendefinisikan Early Stopping untuk Semua Model CNN Checkpoint dan Seterusnya\n",
        "## Menambah Parameter Patience karena Data Training Lebih Sedikit Sehingga Tidak Terlalu Masalah untuk Melakukan Iterasi Epoch Lebih Banyak Karena Proses Train Akan 100 kali Lebih Cepat dibandingkan Sebelumnya \n",
        "new_es = EarlyStopping(monitor='val_loss', mode='min', verbose=1, patience=50)"
      ],
      "execution_count": 80,
      "outputs": []
    },
    {
      "cell_type": "code",
      "metadata": {
        "id": "f2T7c_G3WoQN",
        "outputId": "63b2d316-f28c-45aa-a9e3-cf9614f9d450",
        "colab": {
          "base_uri": "https://localhost:8080/",
          "height": 1000
        }
      },
      "source": [
        "checkpoint = ModelCheckpoint(\"checkpoint_new_cnn_model.h5\", monitor='loss', verbose=0, mode='auto', save_freq=1)\n",
        "\n",
        "## Menurunkan jumlah batch seiring dengan berkurangnya jumlah data train\n",
        "new_cnn_model_history = new_cnn_model.fit(x_train_100, y_train_100, epochs=100, batch_size=10, validation_data=(x_test_100, y_test_100), use_multiprocessing=True, callbacks=[new_es, checkpoint])"
      ],
      "execution_count": 81,
      "outputs": [
        {
          "output_type": "stream",
          "text": [
            "Epoch 1/100\n",
            " 1/60 [..............................] - ETA: 0s - loss: 4.2232 - accuracy: 0.1000 - recall: 0.0000e+00 - specificity: 0.9333 - f1_score: 0.0000e+00WARNING:tensorflow:Callbacks method `on_train_batch_end` is slow compared to the batch time (batch time: 0.0082s vs `on_train_batch_end` time: 0.0173s). Check your callbacks.\n",
            "60/60 [==============================] - 2s 38ms/step - loss: 3.0900 - accuracy: 0.1650 - recall: 0.0633 - specificity: 0.9739 - f1_score: 0.0941 - val_loss: 2.5822 - val_accuracy: 0.2050 - val_recall: 0.0425 - val_specificity: 0.9844 - val_f1_score: 0.0669\n",
            "Epoch 2/100\n",
            "60/60 [==============================] - 2s 36ms/step - loss: 2.1876 - accuracy: 0.2467 - recall: 0.0667 - specificity: 0.9891 - f1_score: 0.1110 - val_loss: 2.1165 - val_accuracy: 0.2600 - val_recall: 0.0625 - val_specificity: 0.9872 - val_f1_score: 0.1006\n",
            "Epoch 3/100\n",
            "60/60 [==============================] - 2s 37ms/step - loss: 1.8347 - accuracy: 0.3383 - recall: 0.0967 - specificity: 0.9915 - f1_score: 0.1571 - val_loss: 1.8687 - val_accuracy: 0.3275 - val_recall: 0.1125 - val_specificity: 0.9867 - val_f1_score: 0.1748\n",
            "Epoch 4/100\n",
            "60/60 [==============================] - 2s 33ms/step - loss: 1.6343 - accuracy: 0.3967 - recall: 0.1433 - specificity: 0.9906 - f1_score: 0.2157 - val_loss: 1.7346 - val_accuracy: 0.3750 - val_recall: 0.1550 - val_specificity: 0.9867 - val_f1_score: 0.2333\n",
            "Epoch 5/100\n",
            "60/60 [==============================] - 2s 34ms/step - loss: 1.4963 - accuracy: 0.4800 - recall: 0.1933 - specificity: 0.9893 - f1_score: 0.2856 - val_loss: 1.6259 - val_accuracy: 0.4075 - val_recall: 0.1725 - val_specificity: 0.9864 - val_f1_score: 0.2578\n",
            "Epoch 6/100\n",
            "60/60 [==============================] - 2s 33ms/step - loss: 1.3986 - accuracy: 0.4900 - recall: 0.2233 - specificity: 0.9906 - f1_score: 0.3227 - val_loss: 1.5768 - val_accuracy: 0.4400 - val_recall: 0.2025 - val_specificity: 0.9847 - val_f1_score: 0.2935\n",
            "Epoch 7/100\n",
            "60/60 [==============================] - 2s 33ms/step - loss: 1.3232 - accuracy: 0.5283 - recall: 0.2750 - specificity: 0.9883 - f1_score: 0.3885 - val_loss: 1.5098 - val_accuracy: 0.4750 - val_recall: 0.2250 - val_specificity: 0.9872 - val_f1_score: 0.3258\n",
            "Epoch 8/100\n",
            "60/60 [==============================] - 2s 39ms/step - loss: 1.2726 - accuracy: 0.5633 - recall: 0.2967 - specificity: 0.9909 - f1_score: 0.4145 - val_loss: 1.4885 - val_accuracy: 0.4850 - val_recall: 0.2550 - val_specificity: 0.9856 - val_f1_score: 0.3571\n",
            "Epoch 9/100\n",
            "60/60 [==============================] - 2s 33ms/step - loss: 1.2289 - accuracy: 0.5567 - recall: 0.3067 - specificity: 0.9893 - f1_score: 0.4200 - val_loss: 1.4599 - val_accuracy: 0.4925 - val_recall: 0.2750 - val_specificity: 0.9858 - val_f1_score: 0.3834\n",
            "Epoch 10/100\n",
            "60/60 [==============================] - 2s 37ms/step - loss: 1.1936 - accuracy: 0.5783 - recall: 0.3517 - specificity: 0.9894 - f1_score: 0.4714 - val_loss: 1.4286 - val_accuracy: 0.5050 - val_recall: 0.2875 - val_specificity: 0.9853 - val_f1_score: 0.3985\n",
            "Epoch 11/100\n",
            "60/60 [==============================] - 2s 33ms/step - loss: 1.1658 - accuracy: 0.5800 - recall: 0.3617 - specificity: 0.9893 - f1_score: 0.4831 - val_loss: 1.4060 - val_accuracy: 0.5075 - val_recall: 0.3100 - val_specificity: 0.9864 - val_f1_score: 0.4244\n",
            "Epoch 12/100\n",
            "60/60 [==============================] - 2s 40ms/step - loss: 1.1425 - accuracy: 0.5983 - recall: 0.3750 - specificity: 0.9894 - f1_score: 0.4971 - val_loss: 1.3852 - val_accuracy: 0.5100 - val_recall: 0.3175 - val_specificity: 0.9850 - val_f1_score: 0.4297\n",
            "Epoch 13/100\n",
            "60/60 [==============================] - 2s 33ms/step - loss: 1.1181 - accuracy: 0.6100 - recall: 0.3783 - specificity: 0.9881 - f1_score: 0.4960 - val_loss: 1.3770 - val_accuracy: 0.5300 - val_recall: 0.3450 - val_specificity: 0.9844 - val_f1_score: 0.4594\n",
            "Epoch 14/100\n",
            "60/60 [==============================] - 2s 33ms/step - loss: 1.1005 - accuracy: 0.6117 - recall: 0.4100 - specificity: 0.9894 - f1_score: 0.5274 - val_loss: 1.3749 - val_accuracy: 0.5425 - val_recall: 0.3450 - val_specificity: 0.9825 - val_f1_score: 0.4551\n",
            "Epoch 15/100\n",
            "60/60 [==============================] - 2s 39ms/step - loss: 1.0882 - accuracy: 0.6067 - recall: 0.4183 - specificity: 0.9878 - f1_score: 0.5335 - val_loss: 1.3588 - val_accuracy: 0.5325 - val_recall: 0.3600 - val_specificity: 0.9833 - val_f1_score: 0.4706\n",
            "Epoch 16/100\n",
            "60/60 [==============================] - 2s 32ms/step - loss: 1.0703 - accuracy: 0.6483 - recall: 0.4217 - specificity: 0.9893 - f1_score: 0.5456 - val_loss: 1.3702 - val_accuracy: 0.5400 - val_recall: 0.3675 - val_specificity: 0.9831 - val_f1_score: 0.4747\n",
            "Epoch 17/100\n",
            "60/60 [==============================] - 2s 35ms/step - loss: 1.0594 - accuracy: 0.6317 - recall: 0.4350 - specificity: 0.9881 - f1_score: 0.5515 - val_loss: 1.3494 - val_accuracy: 0.5400 - val_recall: 0.3775 - val_specificity: 0.9831 - val_f1_score: 0.4875\n",
            "Epoch 18/100\n",
            "60/60 [==============================] - 2s 33ms/step - loss: 1.0512 - accuracy: 0.6417 - recall: 0.4383 - specificity: 0.9870 - f1_score: 0.5514 - val_loss: 1.3555 - val_accuracy: 0.5500 - val_recall: 0.3900 - val_specificity: 0.9831 - val_f1_score: 0.4998\n",
            "Epoch 19/100\n",
            "60/60 [==============================] - 2s 33ms/step - loss: 1.0393 - accuracy: 0.6350 - recall: 0.4467 - specificity: 0.9881 - f1_score: 0.5682 - val_loss: 1.3532 - val_accuracy: 0.5600 - val_recall: 0.3725 - val_specificity: 0.9811 - val_f1_score: 0.4776\n",
            "Epoch 20/100\n",
            "60/60 [==============================] - 2s 33ms/step - loss: 1.0298 - accuracy: 0.6367 - recall: 0.4600 - specificity: 0.9885 - f1_score: 0.5793 - val_loss: 1.3763 - val_accuracy: 0.5550 - val_recall: 0.3975 - val_specificity: 0.9825 - val_f1_score: 0.5052\n",
            "Epoch 21/100\n",
            "60/60 [==============================] - 2s 33ms/step - loss: 1.0216 - accuracy: 0.6450 - recall: 0.4583 - specificity: 0.9867 - f1_score: 0.5685 - val_loss: 1.3327 - val_accuracy: 0.5525 - val_recall: 0.3800 - val_specificity: 0.9814 - val_f1_score: 0.4858\n",
            "Epoch 22/100\n",
            "60/60 [==============================] - 2s 40ms/step - loss: 1.0149 - accuracy: 0.6400 - recall: 0.4550 - specificity: 0.9867 - f1_score: 0.5683 - val_loss: 1.3453 - val_accuracy: 0.5550 - val_recall: 0.4025 - val_specificity: 0.9817 - val_f1_score: 0.5065\n",
            "Epoch 23/100\n",
            "60/60 [==============================] - 2s 32ms/step - loss: 1.0047 - accuracy: 0.6433 - recall: 0.4667 - specificity: 0.9867 - f1_score: 0.5814 - val_loss: 1.3373 - val_accuracy: 0.5450 - val_recall: 0.3950 - val_specificity: 0.9811 - val_f1_score: 0.4997\n",
            "Epoch 24/100\n",
            "60/60 [==============================] - 2s 39ms/step - loss: 0.9964 - accuracy: 0.6567 - recall: 0.4767 - specificity: 0.9876 - f1_score: 0.5901 - val_loss: 1.3392 - val_accuracy: 0.5525 - val_recall: 0.4200 - val_specificity: 0.9806 - val_f1_score: 0.5221\n",
            "Epoch 25/100\n",
            "60/60 [==============================] - 2s 33ms/step - loss: 0.9880 - accuracy: 0.6617 - recall: 0.4767 - specificity: 0.9883 - f1_score: 0.5938 - val_loss: 1.3309 - val_accuracy: 0.5600 - val_recall: 0.4075 - val_specificity: 0.9814 - val_f1_score: 0.5110\n",
            "Epoch 26/100\n",
            "60/60 [==============================] - 2s 33ms/step - loss: 0.9822 - accuracy: 0.6583 - recall: 0.5033 - specificity: 0.9859 - f1_score: 0.6090 - val_loss: 1.3307 - val_accuracy: 0.5625 - val_recall: 0.4050 - val_specificity: 0.9800 - val_f1_score: 0.5059\n",
            "Epoch 27/100\n",
            "60/60 [==============================] - 2s 40ms/step - loss: 0.9873 - accuracy: 0.6550 - recall: 0.4867 - specificity: 0.9870 - f1_score: 0.6008 - val_loss: 1.3378 - val_accuracy: 0.5575 - val_recall: 0.4100 - val_specificity: 0.9792 - val_f1_score: 0.5087\n",
            "Epoch 28/100\n",
            "60/60 [==============================] - 2s 33ms/step - loss: 0.9768 - accuracy: 0.6700 - recall: 0.4867 - specificity: 0.9874 - f1_score: 0.5960 - val_loss: 1.3349 - val_accuracy: 0.5675 - val_recall: 0.4100 - val_specificity: 0.9803 - val_f1_score: 0.5127\n",
            "Epoch 29/100\n",
            "60/60 [==============================] - 2s 41ms/step - loss: 0.9731 - accuracy: 0.6617 - recall: 0.4867 - specificity: 0.9865 - f1_score: 0.5940 - val_loss: 1.3324 - val_accuracy: 0.5650 - val_recall: 0.4100 - val_specificity: 0.9792 - val_f1_score: 0.5092\n",
            "Epoch 30/100\n",
            "60/60 [==============================] - 2s 33ms/step - loss: 0.9651 - accuracy: 0.6700 - recall: 0.4983 - specificity: 0.9859 - f1_score: 0.6023 - val_loss: 1.3328 - val_accuracy: 0.5650 - val_recall: 0.4200 - val_specificity: 0.9764 - val_f1_score: 0.5073\n",
            "Epoch 31/100\n",
            "60/60 [==============================] - 2s 41ms/step - loss: 0.9620 - accuracy: 0.6583 - recall: 0.5000 - specificity: 0.9859 - f1_score: 0.6061 - val_loss: 1.3426 - val_accuracy: 0.5625 - val_recall: 0.4125 - val_specificity: 0.9772 - val_f1_score: 0.5057\n",
            "Epoch 32/100\n",
            "60/60 [==============================] - 2s 33ms/step - loss: 0.9644 - accuracy: 0.6533 - recall: 0.5000 - specificity: 0.9859 - f1_score: 0.6088 - val_loss: 1.3467 - val_accuracy: 0.5675 - val_recall: 0.4200 - val_specificity: 0.9783 - val_f1_score: 0.5159\n",
            "Epoch 33/100\n",
            "60/60 [==============================] - 2s 40ms/step - loss: 0.9544 - accuracy: 0.6700 - recall: 0.5150 - specificity: 0.9870 - f1_score: 0.6239 - val_loss: 1.3423 - val_accuracy: 0.5675 - val_recall: 0.4225 - val_specificity: 0.9778 - val_f1_score: 0.5142\n",
            "Epoch 34/100\n",
            "60/60 [==============================] - 2s 33ms/step - loss: 0.9507 - accuracy: 0.6733 - recall: 0.5150 - specificity: 0.9863 - f1_score: 0.6182 - val_loss: 1.3364 - val_accuracy: 0.5725 - val_recall: 0.4325 - val_specificity: 0.9778 - val_f1_score: 0.5244\n",
            "Epoch 35/100\n",
            "60/60 [==============================] - 2s 33ms/step - loss: 0.9508 - accuracy: 0.6683 - recall: 0.5067 - specificity: 0.9850 - f1_score: 0.6116 - val_loss: 1.3427 - val_accuracy: 0.5675 - val_recall: 0.4400 - val_specificity: 0.9781 - val_f1_score: 0.5327\n",
            "Epoch 36/100\n",
            "60/60 [==============================] - 2s 38ms/step - loss: 0.9457 - accuracy: 0.6650 - recall: 0.5233 - specificity: 0.9859 - f1_score: 0.6281 - val_loss: 1.3487 - val_accuracy: 0.5575 - val_recall: 0.4375 - val_specificity: 0.9769 - val_f1_score: 0.5285\n",
            "Epoch 37/100\n",
            "60/60 [==============================] - 2s 32ms/step - loss: 0.9405 - accuracy: 0.6733 - recall: 0.5200 - specificity: 0.9857 - f1_score: 0.6205 - val_loss: 1.3296 - val_accuracy: 0.5625 - val_recall: 0.4350 - val_specificity: 0.9769 - val_f1_score: 0.5238\n",
            "Epoch 38/100\n",
            "60/60 [==============================] - 2s 40ms/step - loss: 0.9383 - accuracy: 0.6700 - recall: 0.5150 - specificity: 0.9854 - f1_score: 0.6202 - val_loss: 1.3317 - val_accuracy: 0.5725 - val_recall: 0.4275 - val_specificity: 0.9769 - val_f1_score: 0.5163\n",
            "Epoch 39/100\n",
            "60/60 [==============================] - 2s 33ms/step - loss: 0.9328 - accuracy: 0.6733 - recall: 0.5183 - specificity: 0.9850 - f1_score: 0.6187 - val_loss: 1.3371 - val_accuracy: 0.5550 - val_recall: 0.4350 - val_specificity: 0.9769 - val_f1_score: 0.5255\n",
            "Epoch 40/100\n",
            "60/60 [==============================] - 2s 40ms/step - loss: 0.9311 - accuracy: 0.6767 - recall: 0.5183 - specificity: 0.9843 - f1_score: 0.6161 - val_loss: 1.3585 - val_accuracy: 0.5650 - val_recall: 0.4325 - val_specificity: 0.9769 - val_f1_score: 0.5244\n",
            "Epoch 41/100\n",
            "60/60 [==============================] - 2s 32ms/step - loss: 0.9306 - accuracy: 0.6700 - recall: 0.5217 - specificity: 0.9869 - f1_score: 0.6302 - val_loss: 1.3429 - val_accuracy: 0.5650 - val_recall: 0.4425 - val_specificity: 0.9761 - val_f1_score: 0.5307\n",
            "Epoch 42/100\n",
            "60/60 [==============================] - 2s 32ms/step - loss: 0.9260 - accuracy: 0.6783 - recall: 0.5200 - specificity: 0.9848 - f1_score: 0.6199 - val_loss: 1.3593 - val_accuracy: 0.5625 - val_recall: 0.4450 - val_specificity: 0.9753 - val_f1_score: 0.5314\n",
            "Epoch 43/100\n",
            "60/60 [==============================] - 2s 39ms/step - loss: 0.9236 - accuracy: 0.6733 - recall: 0.5333 - specificity: 0.9865 - f1_score: 0.6359 - val_loss: 1.3357 - val_accuracy: 0.5625 - val_recall: 0.4400 - val_specificity: 0.9772 - val_f1_score: 0.5302\n",
            "Epoch 44/100\n",
            "60/60 [==============================] - 2s 37ms/step - loss: 0.9241 - accuracy: 0.6750 - recall: 0.5250 - specificity: 0.9843 - f1_score: 0.6223 - val_loss: 1.3464 - val_accuracy: 0.5575 - val_recall: 0.4275 - val_specificity: 0.9758 - val_f1_score: 0.5151\n",
            "Epoch 45/100\n",
            "60/60 [==============================] - 3s 43ms/step - loss: 0.9165 - accuracy: 0.6650 - recall: 0.5233 - specificity: 0.9857 - f1_score: 0.6231 - val_loss: 1.3602 - val_accuracy: 0.5500 - val_recall: 0.4500 - val_specificity: 0.9736 - val_f1_score: 0.5296\n",
            "Epoch 46/100\n",
            "60/60 [==============================] - 2s 37ms/step - loss: 0.9200 - accuracy: 0.6700 - recall: 0.5400 - specificity: 0.9846 - f1_score: 0.6381 - val_loss: 1.3349 - val_accuracy: 0.5625 - val_recall: 0.4500 - val_specificity: 0.9761 - val_f1_score: 0.5356\n",
            "Epoch 47/100\n",
            "60/60 [==============================] - 3s 44ms/step - loss: 0.9133 - accuracy: 0.6633 - recall: 0.5283 - specificity: 0.9844 - f1_score: 0.6280 - val_loss: 1.3513 - val_accuracy: 0.5600 - val_recall: 0.4450 - val_specificity: 0.9744 - val_f1_score: 0.5292\n",
            "Epoch 48/100\n",
            "60/60 [==============================] - 2s 36ms/step - loss: 0.9111 - accuracy: 0.6733 - recall: 0.5217 - specificity: 0.9846 - f1_score: 0.6184 - val_loss: 1.3404 - val_accuracy: 0.5625 - val_recall: 0.4500 - val_specificity: 0.9750 - val_f1_score: 0.5337\n",
            "Epoch 49/100\n",
            "60/60 [==============================] - 3s 42ms/step - loss: 0.9131 - accuracy: 0.6717 - recall: 0.5350 - specificity: 0.9848 - f1_score: 0.6314 - val_loss: 1.3606 - val_accuracy: 0.5575 - val_recall: 0.4575 - val_specificity: 0.9753 - val_f1_score: 0.5422\n",
            "Epoch 50/100\n",
            "60/60 [==============================] - 2s 37ms/step - loss: 0.9116 - accuracy: 0.6717 - recall: 0.5300 - specificity: 0.9848 - f1_score: 0.6299 - val_loss: 1.3569 - val_accuracy: 0.5525 - val_recall: 0.4425 - val_specificity: 0.9722 - val_f1_score: 0.5194\n",
            "Epoch 51/100\n",
            "60/60 [==============================] - 3s 42ms/step - loss: 0.9094 - accuracy: 0.6717 - recall: 0.5283 - specificity: 0.9841 - f1_score: 0.6236 - val_loss: 1.3544 - val_accuracy: 0.5575 - val_recall: 0.4450 - val_specificity: 0.9756 - val_f1_score: 0.5314\n",
            "Epoch 52/100\n",
            "60/60 [==============================] - 2s 37ms/step - loss: 0.9062 - accuracy: 0.6767 - recall: 0.5317 - specificity: 0.9844 - f1_score: 0.6269 - val_loss: 1.3533 - val_accuracy: 0.5650 - val_recall: 0.4475 - val_specificity: 0.9758 - val_f1_score: 0.5333\n",
            "Epoch 53/100\n",
            "60/60 [==============================] - 2s 41ms/step - loss: 0.9081 - accuracy: 0.6667 - recall: 0.5383 - specificity: 0.9841 - f1_score: 0.6333 - val_loss: 1.3452 - val_accuracy: 0.5625 - val_recall: 0.4475 - val_specificity: 0.9756 - val_f1_score: 0.5321\n",
            "Epoch 54/100\n",
            "60/60 [==============================] - 2s 35ms/step - loss: 0.8976 - accuracy: 0.6783 - recall: 0.5450 - specificity: 0.9844 - f1_score: 0.6398 - val_loss: 1.3646 - val_accuracy: 0.5575 - val_recall: 0.4525 - val_specificity: 0.9747 - val_f1_score: 0.5359\n",
            "Epoch 55/100\n",
            "60/60 [==============================] - 2s 41ms/step - loss: 0.8984 - accuracy: 0.6633 - recall: 0.5383 - specificity: 0.9830 - f1_score: 0.6309 - val_loss: 1.3559 - val_accuracy: 0.5475 - val_recall: 0.4425 - val_specificity: 0.9742 - val_f1_score: 0.5256\n",
            "Epoch 56/100\n",
            "60/60 [==============================] - 2s 35ms/step - loss: 0.8936 - accuracy: 0.6867 - recall: 0.5367 - specificity: 0.9833 - f1_score: 0.6329 - val_loss: 1.3724 - val_accuracy: 0.5650 - val_recall: 0.4425 - val_specificity: 0.9758 - val_f1_score: 0.5305\n",
            "Epoch 57/100\n",
            "60/60 [==============================] - 2s 35ms/step - loss: 0.8979 - accuracy: 0.6800 - recall: 0.5383 - specificity: 0.9846 - f1_score: 0.6312 - val_loss: 1.3676 - val_accuracy: 0.5675 - val_recall: 0.4475 - val_specificity: 0.9742 - val_f1_score: 0.5309\n",
            "Epoch 58/100\n",
            "60/60 [==============================] - 2s 41ms/step - loss: 0.8936 - accuracy: 0.6750 - recall: 0.5417 - specificity: 0.9837 - f1_score: 0.6359 - val_loss: 1.3587 - val_accuracy: 0.5600 - val_recall: 0.4500 - val_specificity: 0.9742 - val_f1_score: 0.5323\n",
            "Epoch 59/100\n",
            "60/60 [==============================] - 2s 35ms/step - loss: 0.8882 - accuracy: 0.6850 - recall: 0.5400 - specificity: 0.9833 - f1_score: 0.6327 - val_loss: 1.3795 - val_accuracy: 0.5600 - val_recall: 0.4500 - val_specificity: 0.9717 - val_f1_score: 0.5254\n",
            "Epoch 60/100\n",
            "60/60 [==============================] - 2s 40ms/step - loss: 0.8908 - accuracy: 0.6717 - recall: 0.5450 - specificity: 0.9837 - f1_score: 0.6367 - val_loss: 1.3663 - val_accuracy: 0.5650 - val_recall: 0.4625 - val_specificity: 0.9750 - val_f1_score: 0.5445\n",
            "Epoch 61/100\n",
            "60/60 [==============================] - 2s 35ms/step - loss: 0.8857 - accuracy: 0.6833 - recall: 0.5417 - specificity: 0.9839 - f1_score: 0.6300 - val_loss: 1.3731 - val_accuracy: 0.5500 - val_recall: 0.4500 - val_specificity: 0.9733 - val_f1_score: 0.5279\n",
            "Epoch 62/100\n",
            "60/60 [==============================] - 3s 42ms/step - loss: 0.8913 - accuracy: 0.6817 - recall: 0.5483 - specificity: 0.9848 - f1_score: 0.6455 - val_loss: 1.3597 - val_accuracy: 0.5500 - val_recall: 0.4600 - val_specificity: 0.9744 - val_f1_score: 0.5409\n",
            "Epoch 63/100\n",
            "60/60 [==============================] - 2s 36ms/step - loss: 0.8837 - accuracy: 0.6800 - recall: 0.5467 - specificity: 0.9846 - f1_score: 0.6378 - val_loss: 1.3748 - val_accuracy: 0.5550 - val_recall: 0.4500 - val_specificity: 0.9744 - val_f1_score: 0.5315\n",
            "Epoch 64/100\n",
            "60/60 [==============================] - 2s 41ms/step - loss: 0.8854 - accuracy: 0.6750 - recall: 0.5617 - specificity: 0.9833 - f1_score: 0.6510 - val_loss: 1.3728 - val_accuracy: 0.5475 - val_recall: 0.4525 - val_specificity: 0.9736 - val_f1_score: 0.5319\n",
            "Epoch 65/100\n",
            "60/60 [==============================] - 2s 36ms/step - loss: 0.8837 - accuracy: 0.6800 - recall: 0.5467 - specificity: 0.9824 - f1_score: 0.6366 - val_loss: 1.3800 - val_accuracy: 0.5500 - val_recall: 0.4550 - val_specificity: 0.9722 - val_f1_score: 0.5313\n",
            "Epoch 66/100\n",
            "60/60 [==============================] - 3s 42ms/step - loss: 0.8883 - accuracy: 0.6817 - recall: 0.5617 - specificity: 0.9841 - f1_score: 0.6528 - val_loss: 1.3679 - val_accuracy: 0.5550 - val_recall: 0.4575 - val_specificity: 0.9744 - val_f1_score: 0.5382\n",
            "Epoch 67/100\n",
            "60/60 [==============================] - 2s 35ms/step - loss: 0.8844 - accuracy: 0.6967 - recall: 0.5517 - specificity: 0.9835 - f1_score: 0.6419 - val_loss: 1.3668 - val_accuracy: 0.5575 - val_recall: 0.4550 - val_specificity: 0.9739 - val_f1_score: 0.5345\n",
            "Epoch 68/100\n",
            "60/60 [==============================] - 2s 42ms/step - loss: 0.8818 - accuracy: 0.6867 - recall: 0.5517 - specificity: 0.9833 - f1_score: 0.6427 - val_loss: 1.3731 - val_accuracy: 0.5400 - val_recall: 0.4575 - val_specificity: 0.9733 - val_f1_score: 0.5337\n",
            "Epoch 69/100\n",
            "60/60 [==============================] - 2s 35ms/step - loss: 0.8802 - accuracy: 0.6867 - recall: 0.5567 - specificity: 0.9839 - f1_score: 0.6489 - val_loss: 1.3792 - val_accuracy: 0.5550 - val_recall: 0.4500 - val_specificity: 0.9744 - val_f1_score: 0.5338\n",
            "Epoch 70/100\n",
            "60/60 [==============================] - 2s 36ms/step - loss: 0.8751 - accuracy: 0.6833 - recall: 0.5533 - specificity: 0.9841 - f1_score: 0.6444 - val_loss: 1.3972 - val_accuracy: 0.5575 - val_recall: 0.4600 - val_specificity: 0.9733 - val_f1_score: 0.5391\n",
            "Epoch 71/100\n",
            "60/60 [==============================] - 2s 41ms/step - loss: 0.8820 - accuracy: 0.6883 - recall: 0.5533 - specificity: 0.9833 - f1_score: 0.6456 - val_loss: 1.3902 - val_accuracy: 0.5475 - val_recall: 0.4500 - val_specificity: 0.9733 - val_f1_score: 0.5295\n",
            "Epoch 72/100\n",
            "60/60 [==============================] - 2s 35ms/step - loss: 0.8719 - accuracy: 0.6850 - recall: 0.5633 - specificity: 0.9843 - f1_score: 0.6525 - val_loss: 1.3942 - val_accuracy: 0.5575 - val_recall: 0.4550 - val_specificity: 0.9725 - val_f1_score: 0.5321\n",
            "Epoch 73/100\n",
            "60/60 [==============================] - 3s 42ms/step - loss: 0.8722 - accuracy: 0.6817 - recall: 0.5517 - specificity: 0.9833 - f1_score: 0.6428 - val_loss: 1.3807 - val_accuracy: 0.5450 - val_recall: 0.4525 - val_specificity: 0.9744 - val_f1_score: 0.5340\n",
            "Epoch 74/100\n",
            "60/60 [==============================] - 2s 35ms/step - loss: 0.8751 - accuracy: 0.6867 - recall: 0.5533 - specificity: 0.9841 - f1_score: 0.6457 - val_loss: 1.3917 - val_accuracy: 0.5450 - val_recall: 0.4625 - val_specificity: 0.9733 - val_f1_score: 0.5402\n",
            "Epoch 75/100\n",
            "60/60 [==============================] - 2s 41ms/step - loss: 0.8733 - accuracy: 0.6750 - recall: 0.5700 - specificity: 0.9822 - f1_score: 0.6535 - val_loss: 1.3871 - val_accuracy: 0.5500 - val_recall: 0.4725 - val_specificity: 0.9747 - val_f1_score: 0.5532\n",
            "Epoch 76/100\n",
            "60/60 [==============================] - 2s 35ms/step - loss: 0.8676 - accuracy: 0.6883 - recall: 0.5683 - specificity: 0.9831 - f1_score: 0.6524 - val_loss: 1.3907 - val_accuracy: 0.5400 - val_recall: 0.4550 - val_specificity: 0.9731 - val_f1_score: 0.5341\n",
            "Epoch 77/100\n",
            "60/60 [==============================] - 2s 41ms/step - loss: 0.8677 - accuracy: 0.6900 - recall: 0.5683 - specificity: 0.9833 - f1_score: 0.6516 - val_loss: 1.3867 - val_accuracy: 0.5525 - val_recall: 0.4575 - val_specificity: 0.9731 - val_f1_score: 0.5348\n",
            "Epoch 78/100\n",
            "60/60 [==============================] - 2s 34ms/step - loss: 0.8691 - accuracy: 0.6867 - recall: 0.5483 - specificity: 0.9833 - f1_score: 0.6387 - val_loss: 1.3986 - val_accuracy: 0.5500 - val_recall: 0.4600 - val_specificity: 0.9731 - val_f1_score: 0.5392\n",
            "Epoch 79/100\n",
            "60/60 [==============================] - 2s 40ms/step - loss: 0.8613 - accuracy: 0.7017 - recall: 0.5683 - specificity: 0.9828 - f1_score: 0.6493 - val_loss: 1.3857 - val_accuracy: 0.5450 - val_recall: 0.4600 - val_specificity: 0.9728 - val_f1_score: 0.5375\n",
            "Epoch 80/100\n",
            "60/60 [==============================] - 2s 34ms/step - loss: 0.8627 - accuracy: 0.6800 - recall: 0.5550 - specificity: 0.9833 - f1_score: 0.6425 - val_loss: 1.4041 - val_accuracy: 0.5550 - val_recall: 0.4575 - val_specificity: 0.9742 - val_f1_score: 0.5380\n",
            "Epoch 81/100\n",
            "60/60 [==============================] - 2s 34ms/step - loss: 0.8645 - accuracy: 0.6883 - recall: 0.5600 - specificity: 0.9831 - f1_score: 0.6460 - val_loss: 1.3748 - val_accuracy: 0.5450 - val_recall: 0.4650 - val_specificity: 0.9733 - val_f1_score: 0.5430\n",
            "Epoch 82/100\n",
            "60/60 [==============================] - 2s 39ms/step - loss: 0.8604 - accuracy: 0.6900 - recall: 0.5700 - specificity: 0.9831 - f1_score: 0.6561 - val_loss: 1.3857 - val_accuracy: 0.5575 - val_recall: 0.4575 - val_specificity: 0.9736 - val_f1_score: 0.5365\n",
            "Epoch 83/100\n",
            "60/60 [==============================] - 2s 34ms/step - loss: 0.8596 - accuracy: 0.6933 - recall: 0.5567 - specificity: 0.9833 - f1_score: 0.6451 - val_loss: 1.3932 - val_accuracy: 0.5500 - val_recall: 0.4650 - val_specificity: 0.9731 - val_f1_score: 0.5426\n",
            "Epoch 84/100\n",
            "60/60 [==============================] - 2s 40ms/step - loss: 0.8595 - accuracy: 0.6900 - recall: 0.5700 - specificity: 0.9828 - f1_score: 0.6555 - val_loss: 1.3998 - val_accuracy: 0.5625 - val_recall: 0.4650 - val_specificity: 0.9731 - val_f1_score: 0.5422\n",
            "Epoch 85/100\n",
            "60/60 [==============================] - 2s 33ms/step - loss: 0.8616 - accuracy: 0.6867 - recall: 0.5667 - specificity: 0.9824 - f1_score: 0.6517 - val_loss: 1.3972 - val_accuracy: 0.5500 - val_recall: 0.4575 - val_specificity: 0.9725 - val_f1_score: 0.5343\n",
            "Epoch 86/100\n",
            "60/60 [==============================] - 2s 40ms/step - loss: 0.8601 - accuracy: 0.6883 - recall: 0.5600 - specificity: 0.9822 - f1_score: 0.6488 - val_loss: 1.3872 - val_accuracy: 0.5525 - val_recall: 0.4600 - val_specificity: 0.9728 - val_f1_score: 0.5379\n",
            "Epoch 87/100\n",
            "60/60 [==============================] - 2s 33ms/step - loss: 0.8608 - accuracy: 0.7000 - recall: 0.5633 - specificity: 0.9835 - f1_score: 0.6507 - val_loss: 1.4001 - val_accuracy: 0.5400 - val_recall: 0.4625 - val_specificity: 0.9731 - val_f1_score: 0.5396\n",
            "Epoch 00087: early stopping\n"
          ],
          "name": "stdout"
        }
      ]
    },
    {
      "cell_type": "markdown",
      "metadata": {
        "id": "JG_xUITrbnWD"
      },
      "source": [
        "##### Menghitung Matrik Evaluasi Model CNN Baru"
      ]
    },
    {
      "cell_type": "code",
      "metadata": {
        "id": "HXuLuLshbO4b",
        "outputId": "d93a7077-02d4-4896-a1c7-50605bec4d94",
        "colab": {
          "base_uri": "https://localhost:8080/",
          "height": 111
        }
      },
      "source": [
        "compare_train_and_test(new_cnn_model, x_train_100, y_train_100, x_test_100, y_test_100)"
      ],
      "execution_count": 82,
      "outputs": [
        {
          "output_type": "execute_result",
          "data": {
            "text/html": [
              "<div>\n",
              "<style scoped>\n",
              "    .dataframe tbody tr th:only-of-type {\n",
              "        vertical-align: middle;\n",
              "    }\n",
              "\n",
              "    .dataframe tbody tr th {\n",
              "        vertical-align: top;\n",
              "    }\n",
              "\n",
              "    .dataframe thead th {\n",
              "        text-align: right;\n",
              "    }\n",
              "</style>\n",
              "<table border=\"1\" class=\"dataframe\">\n",
              "  <thead>\n",
              "    <tr style=\"text-align: right;\">\n",
              "      <th></th>\n",
              "      <th>Accuracy</th>\n",
              "      <th>Sensitivity</th>\n",
              "      <th>Specificity</th>\n",
              "      <th>F1 Score</th>\n",
              "    </tr>\n",
              "  </thead>\n",
              "  <tbody>\n",
              "    <tr>\n",
              "      <th>Data Train</th>\n",
              "      <td>0.701667</td>\n",
              "      <td>0.572917</td>\n",
              "      <td>0.984101</td>\n",
              "      <td>0.664181</td>\n",
              "    </tr>\n",
              "    <tr>\n",
              "      <th>Data Test</th>\n",
              "      <td>0.540000</td>\n",
              "      <td>0.466346</td>\n",
              "      <td>0.973291</td>\n",
              "      <td>0.546970</td>\n",
              "    </tr>\n",
              "  </tbody>\n",
              "</table>\n",
              "</div>"
            ],
            "text/plain": [
              "             Accuracy  Sensitivity  Specificity  F1 Score\n",
              "Data Train   0.701667     0.572917     0.984101  0.664181\n",
              "Data Test    0.540000     0.466346     0.973291  0.546970"
            ]
          },
          "metadata": {
            "tags": []
          },
          "execution_count": 82
        }
      ]
    },
    {
      "cell_type": "markdown",
      "metadata": {
        "id": "SnBZO7pdkAqx"
      },
      "source": [
        "##### Melakukan _Plotting Error_"
      ]
    },
    {
      "cell_type": "code",
      "metadata": {
        "id": "tTXjP5NBkEIr",
        "outputId": "00ec0153-25d4-40e4-bf00-953c5df7068d",
        "colab": {
          "base_uri": "https://localhost:8080/",
          "height": 281
        }
      },
      "source": [
        "## Plot Training History\n",
        "plt.plot(new_cnn_model_history.history['loss'], label='train')\n",
        "plt.plot(new_cnn_model_history.history['val_loss'], label='test')\n",
        "plt.title('History Plot Error untuk Optimum Parameter Model CNN Baru')\n",
        "plt.legend()\n",
        "plt.show()"
      ],
      "execution_count": 83,
      "outputs": [
        {
          "output_type": "display_data",
          "data": {
            "image/png": "[encoded data removed]",
            "text/plain": [
              "<Figure size 432x288 with 1 Axes>"
            ]
          },
          "metadata": {
            "tags": [],
            "needs_background": "light"
          }
        }
      ]
    },
    {
      "cell_type": "markdown",
      "metadata": {
        "id": "4_y3I48gcB_A"
      },
      "source": [
        "#### 9.\n",
        "Lalu lakukan _unfreeze_ pada satu _hidden layer_ ($\\text{conv-pool-actv}$) paling atas dan lakukan kembali proses training menggunakan deskripsi data yang sama dengan poin $(8)$. Bagaimana hasil yang diperoleh dari perubahan ini?"
      ]
    },
    {
      "cell_type": "markdown",
      "metadata": {
        "id": "vd2rljaicNzF"
      },
      "source": [
        "##### Melakukan _unfreeze_ pada satu _hidden layer_ paling atas"
      ]
    },
    {
      "cell_type": "code",
      "metadata": {
        "id": "-5bB-T98b8zc"
      },
      "source": [
        "## Disclaimer: Asumsi model-nya sama dengan (8)\n",
        "## Melakukan unfreeze pada hidden layer paling atas\n",
        "new_cnn_model.layers[0].trainable = True"
      ],
      "execution_count": 84,
      "outputs": []
    },
    {
      "cell_type": "markdown",
      "metadata": {
        "id": "YDNGIwEzj4I0"
      },
      "source": [
        "##### Melanjutkan Proses Train"
      ]
    },
    {
      "cell_type": "code",
      "metadata": {
        "id": "DCC5hiRsj25_",
        "outputId": "6e7af875-f4ec-4567-ba99-3e1b2b7a7669",
        "colab": {
          "base_uri": "https://localhost:8080/",
          "height": 1000
        }
      },
      "source": [
        "checkpoint = ModelCheckpoint(\"checkpoint_new_cnn_model_phase_2.h5\", monitor='loss', verbose=0, mode='auto', save_freq=1)\n",
        "new_cnn_model_history_phase_2 = new_cnn_model.fit(x_train_100, y_train_100, epochs=100, batch_size=10, validation_data=(x_test_100, y_test_100), use_multiprocessing=True, callbacks=[new_es, checkpoint])"
      ],
      "execution_count": 85,
      "outputs": [
        {
          "output_type": "stream",
          "text": [
            "Epoch 1/100\n",
            " 1/60 [..............................] - ETA: 0s - loss: 1.0146 - accuracy: 0.6000 - recall: 0.5000 - specificity: 0.9889 - f1_score: 0.6250WARNING:tensorflow:Callbacks method `on_train_batch_end` is slow compared to the batch time (batch time: 0.0113s vs `on_train_batch_end` time: 0.0201s). Check your callbacks.\n",
            "60/60 [==============================] - 2s 33ms/step - loss: 0.8594 - accuracy: 0.6883 - recall: 0.5683 - specificity: 0.9820 - f1_score: 0.6511 - val_loss: 1.4077 - val_accuracy: 0.5450 - val_recall: 0.4575 - val_specificity: 0.9728 - val_f1_score: 0.5348\n",
            "Epoch 2/100\n",
            "60/60 [==============================] - 2s 33ms/step - loss: 0.8554 - accuracy: 0.6983 - recall: 0.5750 - specificity: 0.9835 - f1_score: 0.6634 - val_loss: 1.4036 - val_accuracy: 0.5450 - val_recall: 0.4600 - val_specificity: 0.9719 - val_f1_score: 0.5354\n",
            "Epoch 3/100\n",
            "60/60 [==============================] - 2s 35ms/step - loss: 0.8523 - accuracy: 0.6833 - recall: 0.5717 - specificity: 0.9831 - f1_score: 0.6566 - val_loss: 1.4184 - val_accuracy: 0.5475 - val_recall: 0.4500 - val_specificity: 0.9711 - val_f1_score: 0.5237\n",
            "Epoch 4/100\n",
            "60/60 [==============================] - 2s 33ms/step - loss: 0.8606 - accuracy: 0.6867 - recall: 0.5550 - specificity: 0.9824 - f1_score: 0.6422 - val_loss: 1.4005 - val_accuracy: 0.5425 - val_recall: 0.4725 - val_specificity: 0.9719 - val_f1_score: 0.5452\n",
            "Epoch 5/100\n",
            "60/60 [==============================] - 2s 33ms/step - loss: 0.8594 - accuracy: 0.6950 - recall: 0.5650 - specificity: 0.9831 - f1_score: 0.6549 - val_loss: 1.4150 - val_accuracy: 0.5525 - val_recall: 0.4675 - val_specificity: 0.9731 - val_f1_score: 0.5452\n",
            "Epoch 6/100\n",
            "60/60 [==============================] - 2s 40ms/step - loss: 0.8478 - accuracy: 0.6883 - recall: 0.5733 - specificity: 0.9837 - f1_score: 0.6590 - val_loss: 1.4000 - val_accuracy: 0.5450 - val_recall: 0.4725 - val_specificity: 0.9722 - val_f1_score: 0.5475\n",
            "Epoch 7/100\n",
            "60/60 [==============================] - 2s 33ms/step - loss: 0.8497 - accuracy: 0.6867 - recall: 0.5850 - specificity: 0.9835 - f1_score: 0.6666 - val_loss: 1.3878 - val_accuracy: 0.5400 - val_recall: 0.4675 - val_specificity: 0.9728 - val_f1_score: 0.5443\n",
            "Epoch 8/100\n",
            "60/60 [==============================] - 2s 40ms/step - loss: 0.8558 - accuracy: 0.6950 - recall: 0.5700 - specificity: 0.9826 - f1_score: 0.6524 - val_loss: 1.4152 - val_accuracy: 0.5575 - val_recall: 0.4625 - val_specificity: 0.9714 - val_f1_score: 0.5364\n",
            "Epoch 9/100\n",
            "60/60 [==============================] - 2s 33ms/step - loss: 0.8578 - accuracy: 0.6867 - recall: 0.5683 - specificity: 0.9830 - f1_score: 0.6541 - val_loss: 1.4173 - val_accuracy: 0.5550 - val_recall: 0.4600 - val_specificity: 0.9717 - val_f1_score: 0.5353\n",
            "Epoch 10/100\n",
            "60/60 [==============================] - 2s 40ms/step - loss: 0.8502 - accuracy: 0.6983 - recall: 0.5650 - specificity: 0.9839 - f1_score: 0.6556 - val_loss: 1.4120 - val_accuracy: 0.5500 - val_recall: 0.4600 - val_specificity: 0.9731 - val_f1_score: 0.5380\n",
            "Epoch 11/100\n",
            "60/60 [==============================] - 2s 33ms/step - loss: 0.8505 - accuracy: 0.6917 - recall: 0.5600 - specificity: 0.9837 - f1_score: 0.6504 - val_loss: 1.4135 - val_accuracy: 0.5350 - val_recall: 0.4550 - val_specificity: 0.9728 - val_f1_score: 0.5339\n",
            "Epoch 12/100\n",
            "60/60 [==============================] - 2s 35ms/step - loss: 0.8498 - accuracy: 0.6867 - recall: 0.5650 - specificity: 0.9822 - f1_score: 0.6500 - val_loss: 1.4332 - val_accuracy: 0.5625 - val_recall: 0.4650 - val_specificity: 0.9728 - val_f1_score: 0.5413\n",
            "Epoch 13/100\n",
            "60/60 [==============================] - 2s 32ms/step - loss: 0.8496 - accuracy: 0.6867 - recall: 0.5833 - specificity: 0.9837 - f1_score: 0.6700 - val_loss: 1.4076 - val_accuracy: 0.5500 - val_recall: 0.4650 - val_specificity: 0.9719 - val_f1_score: 0.5411\n",
            "Epoch 14/100\n",
            "60/60 [==============================] - 2s 34ms/step - loss: 0.8501 - accuracy: 0.6800 - recall: 0.5733 - specificity: 0.9833 - f1_score: 0.6607 - val_loss: 1.4265 - val_accuracy: 0.5425 - val_recall: 0.4675 - val_specificity: 0.9711 - val_f1_score: 0.5387\n",
            "Epoch 15/100\n",
            "60/60 [==============================] - 2s 37ms/step - loss: 0.8478 - accuracy: 0.6967 - recall: 0.5783 - specificity: 0.9828 - f1_score: 0.6620 - val_loss: 1.4004 - val_accuracy: 0.5525 - val_recall: 0.4700 - val_specificity: 0.9733 - val_f1_score: 0.5453\n",
            "Epoch 16/100\n",
            "60/60 [==============================] - 2s 34ms/step - loss: 0.8446 - accuracy: 0.7083 - recall: 0.5883 - specificity: 0.9830 - f1_score: 0.6678 - val_loss: 1.4123 - val_accuracy: 0.5425 - val_recall: 0.4625 - val_specificity: 0.9733 - val_f1_score: 0.5427\n",
            "Epoch 17/100\n",
            "60/60 [==============================] - 2s 38ms/step - loss: 0.8409 - accuracy: 0.6933 - recall: 0.5817 - specificity: 0.9841 - f1_score: 0.6655 - val_loss: 1.4045 - val_accuracy: 0.5550 - val_recall: 0.4850 - val_specificity: 0.9717 - val_f1_score: 0.5539\n",
            "Epoch 18/100\n",
            "60/60 [==============================] - 2s 33ms/step - loss: 0.8433 - accuracy: 0.6883 - recall: 0.5733 - specificity: 0.9822 - f1_score: 0.6557 - val_loss: 1.4256 - val_accuracy: 0.5450 - val_recall: 0.4650 - val_specificity: 0.9717 - val_f1_score: 0.5384\n",
            "Epoch 19/100\n",
            "60/60 [==============================] - 2s 33ms/step - loss: 0.8448 - accuracy: 0.7033 - recall: 0.5700 - specificity: 0.9824 - f1_score: 0.6550 - val_loss: 1.4437 - val_accuracy: 0.5425 - val_recall: 0.4650 - val_specificity: 0.9711 - val_f1_score: 0.5369\n",
            "Epoch 20/100\n",
            "60/60 [==============================] - 2s 39ms/step - loss: 0.8460 - accuracy: 0.6817 - recall: 0.5783 - specificity: 0.9830 - f1_score: 0.6586 - val_loss: 1.4489 - val_accuracy: 0.5325 - val_recall: 0.4550 - val_specificity: 0.9708 - val_f1_score: 0.5256\n",
            "Epoch 21/100\n",
            "60/60 [==============================] - 2s 33ms/step - loss: 0.8366 - accuracy: 0.6950 - recall: 0.5733 - specificity: 0.9831 - f1_score: 0.6548 - val_loss: 1.4160 - val_accuracy: 0.5500 - val_recall: 0.4650 - val_specificity: 0.9731 - val_f1_score: 0.5428\n",
            "Epoch 22/100\n",
            "60/60 [==============================] - 2s 41ms/step - loss: 0.8359 - accuracy: 0.6883 - recall: 0.5717 - specificity: 0.9828 - f1_score: 0.6538 - val_loss: 1.4182 - val_accuracy: 0.5425 - val_recall: 0.4575 - val_specificity: 0.9719 - val_f1_score: 0.5327\n",
            "Epoch 23/100\n",
            "60/60 [==============================] - 2s 33ms/step - loss: 0.8396 - accuracy: 0.6917 - recall: 0.5883 - specificity: 0.9822 - f1_score: 0.6679 - val_loss: 1.4546 - val_accuracy: 0.5475 - val_recall: 0.4575 - val_specificity: 0.9694 - val_f1_score: 0.5273\n",
            "Epoch 24/100\n",
            "60/60 [==============================] - 2s 41ms/step - loss: 0.8413 - accuracy: 0.6933 - recall: 0.5850 - specificity: 0.9824 - f1_score: 0.6656 - val_loss: 1.4173 - val_accuracy: 0.5525 - val_recall: 0.4725 - val_specificity: 0.9717 - val_f1_score: 0.5438\n",
            "Epoch 25/100\n",
            "60/60 [==============================] - 2s 33ms/step - loss: 0.8392 - accuracy: 0.6967 - recall: 0.5850 - specificity: 0.9828 - f1_score: 0.6636 - val_loss: 1.4275 - val_accuracy: 0.5375 - val_recall: 0.4600 - val_specificity: 0.9717 - val_f1_score: 0.5352\n",
            "Epoch 26/100\n",
            "60/60 [==============================] - 2s 40ms/step - loss: 0.8371 - accuracy: 0.6950 - recall: 0.5717 - specificity: 0.9839 - f1_score: 0.6567 - val_loss: 1.4184 - val_accuracy: 0.5500 - val_recall: 0.4775 - val_specificity: 0.9725 - val_f1_score: 0.5517\n",
            "Epoch 27/100\n",
            "60/60 [==============================] - 2s 33ms/step - loss: 0.8388 - accuracy: 0.6883 - recall: 0.5700 - specificity: 0.9826 - f1_score: 0.6522 - val_loss: 1.4424 - val_accuracy: 0.5425 - val_recall: 0.4550 - val_specificity: 0.9706 - val_f1_score: 0.5264\n",
            "Epoch 28/100\n",
            "60/60 [==============================] - 2s 35ms/step - loss: 0.8366 - accuracy: 0.6917 - recall: 0.5783 - specificity: 0.9828 - f1_score: 0.6617 - val_loss: 1.4404 - val_accuracy: 0.5325 - val_recall: 0.4675 - val_specificity: 0.9694 - val_f1_score: 0.5322\n",
            "Epoch 29/100\n",
            "60/60 [==============================] - 2s 39ms/step - loss: 0.8335 - accuracy: 0.6967 - recall: 0.5800 - specificity: 0.9833 - f1_score: 0.6625 - val_loss: 1.4240 - val_accuracy: 0.5500 - val_recall: 0.4775 - val_specificity: 0.9708 - val_f1_score: 0.5470\n",
            "Epoch 30/100\n",
            "60/60 [==============================] - 2s 32ms/step - loss: 0.8382 - accuracy: 0.6900 - recall: 0.5767 - specificity: 0.9828 - f1_score: 0.6617 - val_loss: 1.4226 - val_accuracy: 0.5475 - val_recall: 0.4775 - val_specificity: 0.9719 - val_f1_score: 0.5507\n",
            "Epoch 31/100\n",
            "60/60 [==============================] - 2s 38ms/step - loss: 0.8380 - accuracy: 0.6950 - recall: 0.5817 - specificity: 0.9830 - f1_score: 0.6635 - val_loss: 1.4347 - val_accuracy: 0.5425 - val_recall: 0.4675 - val_specificity: 0.9714 - val_f1_score: 0.5393\n",
            "Epoch 32/100\n",
            "60/60 [==============================] - 2s 33ms/step - loss: 0.8372 - accuracy: 0.6900 - recall: 0.5833 - specificity: 0.9830 - f1_score: 0.6659 - val_loss: 1.4343 - val_accuracy: 0.5400 - val_recall: 0.4725 - val_specificity: 0.9703 - val_f1_score: 0.5400\n",
            "Epoch 33/100\n",
            "60/60 [==============================] - 2s 40ms/step - loss: 0.8317 - accuracy: 0.6917 - recall: 0.5817 - specificity: 0.9822 - f1_score: 0.6595 - val_loss: 1.4604 - val_accuracy: 0.5350 - val_recall: 0.4700 - val_specificity: 0.9711 - val_f1_score: 0.5407\n",
            "Epoch 34/100\n",
            "60/60 [==============================] - 2s 33ms/step - loss: 0.8312 - accuracy: 0.6983 - recall: 0.5917 - specificity: 0.9839 - f1_score: 0.6728 - val_loss: 1.4468 - val_accuracy: 0.5625 - val_recall: 0.4700 - val_specificity: 0.9711 - val_f1_score: 0.5415\n",
            "Epoch 35/100\n",
            "60/60 [==============================] - 2s 33ms/step - loss: 0.8322 - accuracy: 0.6867 - recall: 0.5750 - specificity: 0.9826 - f1_score: 0.6555 - val_loss: 1.4214 - val_accuracy: 0.5475 - val_recall: 0.4650 - val_specificity: 0.9717 - val_f1_score: 0.5379\n",
            "Epoch 36/100\n",
            "60/60 [==============================] - 2s 39ms/step - loss: 0.8292 - accuracy: 0.7000 - recall: 0.5750 - specificity: 0.9841 - f1_score: 0.6617 - val_loss: 1.4429 - val_accuracy: 0.5425 - val_recall: 0.4675 - val_specificity: 0.9711 - val_f1_score: 0.5400\n",
            "Epoch 37/100\n",
            "60/60 [==============================] - 2s 33ms/step - loss: 0.8345 - accuracy: 0.6983 - recall: 0.5750 - specificity: 0.9819 - f1_score: 0.6549 - val_loss: 1.4399 - val_accuracy: 0.5300 - val_recall: 0.4550 - val_specificity: 0.9711 - val_f1_score: 0.5294\n",
            "Epoch 38/100\n",
            "60/60 [==============================] - 2s 39ms/step - loss: 0.8276 - accuracy: 0.6950 - recall: 0.5817 - specificity: 0.9835 - f1_score: 0.6662 - val_loss: 1.4397 - val_accuracy: 0.5525 - val_recall: 0.4725 - val_specificity: 0.9717 - val_f1_score: 0.5457\n",
            "Epoch 39/100\n",
            "60/60 [==============================] - 2s 33ms/step - loss: 0.8339 - accuracy: 0.6833 - recall: 0.5850 - specificity: 0.9820 - f1_score: 0.6628 - val_loss: 1.4420 - val_accuracy: 0.5575 - val_recall: 0.4700 - val_specificity: 0.9714 - val_f1_score: 0.5431\n",
            "Epoch 40/100\n",
            "60/60 [==============================] - 2s 40ms/step - loss: 0.8274 - accuracy: 0.6867 - recall: 0.5850 - specificity: 0.9839 - f1_score: 0.6682 - val_loss: 1.4305 - val_accuracy: 0.5375 - val_recall: 0.4675 - val_specificity: 0.9717 - val_f1_score: 0.5408\n",
            "Epoch 41/100\n",
            "60/60 [==============================] - 2s 33ms/step - loss: 0.8307 - accuracy: 0.6933 - recall: 0.5883 - specificity: 0.9830 - f1_score: 0.6676 - val_loss: 1.4495 - val_accuracy: 0.5425 - val_recall: 0.4625 - val_specificity: 0.9708 - val_f1_score: 0.5344\n",
            "Epoch 42/100\n",
            "60/60 [==============================] - 2s 34ms/step - loss: 0.8287 - accuracy: 0.6950 - recall: 0.5833 - specificity: 0.9831 - f1_score: 0.6648 - val_loss: 1.4482 - val_accuracy: 0.5550 - val_recall: 0.4700 - val_specificity: 0.9733 - val_f1_score: 0.5469\n",
            "Epoch 43/100\n",
            "60/60 [==============================] - 2s 32ms/step - loss: 0.8251 - accuracy: 0.6850 - recall: 0.5800 - specificity: 0.9839 - f1_score: 0.6671 - val_loss: 1.4371 - val_accuracy: 0.5525 - val_recall: 0.4700 - val_specificity: 0.9719 - val_f1_score: 0.5437\n",
            "Epoch 44/100\n",
            "60/60 [==============================] - 2s 33ms/step - loss: 0.8257 - accuracy: 0.6983 - recall: 0.5867 - specificity: 0.9813 - f1_score: 0.6616 - val_loss: 1.4397 - val_accuracy: 0.5425 - val_recall: 0.4675 - val_specificity: 0.9711 - val_f1_score: 0.5396\n",
            "Epoch 45/100\n",
            "60/60 [==============================] - 2s 40ms/step - loss: 0.8331 - accuracy: 0.6967 - recall: 0.5783 - specificity: 0.9820 - f1_score: 0.6613 - val_loss: 1.4617 - val_accuracy: 0.5450 - val_recall: 0.4725 - val_specificity: 0.9706 - val_f1_score: 0.5431\n",
            "Epoch 46/100\n",
            "60/60 [==============================] - 2s 33ms/step - loss: 0.8221 - accuracy: 0.7017 - recall: 0.5833 - specificity: 0.9841 - f1_score: 0.6673 - val_loss: 1.4429 - val_accuracy: 0.5575 - val_recall: 0.4575 - val_specificity: 0.9714 - val_f1_score: 0.5301\n",
            "Epoch 47/100\n",
            "60/60 [==============================] - 2s 40ms/step - loss: 0.8324 - accuracy: 0.6917 - recall: 0.5817 - specificity: 0.9809 - f1_score: 0.6584 - val_loss: 1.4532 - val_accuracy: 0.5600 - val_recall: 0.4625 - val_specificity: 0.9703 - val_f1_score: 0.5357\n",
            "Epoch 48/100\n",
            "60/60 [==============================] - 2s 32ms/step - loss: 0.8272 - accuracy: 0.6933 - recall: 0.5850 - specificity: 0.9826 - f1_score: 0.6668 - val_loss: 1.4436 - val_accuracy: 0.5550 - val_recall: 0.4700 - val_specificity: 0.9714 - val_f1_score: 0.5402\n",
            "Epoch 49/100\n",
            "60/60 [==============================] - 2s 33ms/step - loss: 0.8267 - accuracy: 0.6783 - recall: 0.5750 - specificity: 0.9828 - f1_score: 0.6608 - val_loss: 1.4586 - val_accuracy: 0.5400 - val_recall: 0.4725 - val_specificity: 0.9686 - val_f1_score: 0.5362\n",
            "Epoch 50/100\n",
            "60/60 [==============================] - 2s 38ms/step - loss: 0.8226 - accuracy: 0.6933 - recall: 0.5867 - specificity: 0.9831 - f1_score: 0.6693 - val_loss: 1.4355 - val_accuracy: 0.5500 - val_recall: 0.4750 - val_specificity: 0.9714 - val_f1_score: 0.5466\n",
            "Epoch 51/100\n",
            "60/60 [==============================] - 2s 32ms/step - loss: 0.8164 - accuracy: 0.6917 - recall: 0.5850 - specificity: 0.9822 - f1_score: 0.6654 - val_loss: 1.4525 - val_accuracy: 0.5525 - val_recall: 0.4750 - val_specificity: 0.9722 - val_f1_score: 0.5496\n",
            "Epoch 52/100\n",
            "60/60 [==============================] - 2s 40ms/step - loss: 0.8218 - accuracy: 0.6917 - recall: 0.5867 - specificity: 0.9820 - f1_score: 0.6670 - val_loss: 1.4556 - val_accuracy: 0.5425 - val_recall: 0.4725 - val_specificity: 0.9708 - val_f1_score: 0.5426\n",
            "Epoch 53/100\n",
            "60/60 [==============================] - 2s 33ms/step - loss: 0.8209 - accuracy: 0.6933 - recall: 0.5883 - specificity: 0.9828 - f1_score: 0.6683 - val_loss: 1.4589 - val_accuracy: 0.5575 - val_recall: 0.4725 - val_specificity: 0.9722 - val_f1_score: 0.5460\n",
            "Epoch 54/100\n",
            "60/60 [==============================] - 2s 40ms/step - loss: 0.8220 - accuracy: 0.6900 - recall: 0.5917 - specificity: 0.9830 - f1_score: 0.6741 - val_loss: 1.4494 - val_accuracy: 0.5525 - val_recall: 0.4725 - val_specificity: 0.9708 - val_f1_score: 0.5434\n",
            "Epoch 55/100\n",
            "60/60 [==============================] - 2s 33ms/step - loss: 0.8177 - accuracy: 0.7000 - recall: 0.5917 - specificity: 0.9835 - f1_score: 0.6739 - val_loss: 1.4488 - val_accuracy: 0.5575 - val_recall: 0.4725 - val_specificity: 0.9719 - val_f1_score: 0.5451\n",
            "Epoch 56/100\n",
            "60/60 [==============================] - 2s 33ms/step - loss: 0.8211 - accuracy: 0.6950 - recall: 0.5900 - specificity: 0.9822 - f1_score: 0.6678 - val_loss: 1.4622 - val_accuracy: 0.5425 - val_recall: 0.4775 - val_specificity: 0.9700 - val_f1_score: 0.5444\n",
            "Epoch 57/100\n",
            "60/60 [==============================] - 2s 40ms/step - loss: 0.8207 - accuracy: 0.6917 - recall: 0.5833 - specificity: 0.9837 - f1_score: 0.6676 - val_loss: 1.4593 - val_accuracy: 0.5425 - val_recall: 0.4675 - val_specificity: 0.9706 - val_f1_score: 0.5378\n",
            "Epoch 00057: early stopping\n"
          ],
          "name": "stdout"
        }
      ]
    },
    {
      "cell_type": "markdown",
      "metadata": {
        "id": "44t3vuKDk9jC"
      },
      "source": [
        "##### Menghitung Matrik Evaluasi Model CNN Baru Phase 2"
      ]
    },
    {
      "cell_type": "code",
      "metadata": {
        "id": "63Q7nq_4ky5j",
        "outputId": "b1b019f6-0403-4c00-a29a-609c640dd55a",
        "colab": {
          "base_uri": "https://localhost:8080/",
          "height": 111
        }
      },
      "source": [
        "compare_train_and_test(new_cnn_model, x_train_100, y_train_100, x_test_100, y_test_100)"
      ],
      "execution_count": 86,
      "outputs": [
        {
          "output_type": "execute_result",
          "data": {
            "text/html": [
              "<div>\n",
              "<style scoped>\n",
              "    .dataframe tbody tr th:only-of-type {\n",
              "        vertical-align: middle;\n",
              "    }\n",
              "\n",
              "    .dataframe tbody tr th {\n",
              "        vertical-align: top;\n",
              "    }\n",
              "\n",
              "    .dataframe thead th {\n",
              "        text-align: right;\n",
              "    }\n",
              "</style>\n",
              "<table border=\"1\" class=\"dataframe\">\n",
              "  <thead>\n",
              "    <tr style=\"text-align: right;\">\n",
              "      <th></th>\n",
              "      <th>Accuracy</th>\n",
              "      <th>Sensitivity</th>\n",
              "      <th>Specificity</th>\n",
              "      <th>F1 Score</th>\n",
              "    </tr>\n",
              "  </thead>\n",
              "  <tbody>\n",
              "    <tr>\n",
              "      <th>Data Train</th>\n",
              "      <td>0.698333</td>\n",
              "      <td>0.598136</td>\n",
              "      <td>0.983004</td>\n",
              "      <td>0.679903</td>\n",
              "    </tr>\n",
              "    <tr>\n",
              "      <th>Data Test</th>\n",
              "      <td>0.542500</td>\n",
              "      <td>0.471154</td>\n",
              "      <td>0.970620</td>\n",
              "      <td>0.543617</td>\n",
              "    </tr>\n",
              "  </tbody>\n",
              "</table>\n",
              "</div>"
            ],
            "text/plain": [
              "             Accuracy  Sensitivity  Specificity  F1 Score\n",
              "Data Train   0.698333     0.598136     0.983004  0.679903\n",
              "Data Test    0.542500     0.471154     0.970620  0.543617"
            ]
          },
          "metadata": {
            "tags": []
          },
          "execution_count": 86
        }
      ]
    },
    {
      "cell_type": "markdown",
      "metadata": {
        "id": "P5vHtxDRlG8t"
      },
      "source": [
        "##### Melakukan _Plotting Error Phase 2_"
      ]
    },
    {
      "cell_type": "code",
      "metadata": {
        "id": "s9RFyMHulBYO",
        "outputId": "1bdb3030-1a16-4467-ae53-8a7a286537ff",
        "colab": {
          "base_uri": "https://localhost:8080/",
          "height": 281
        }
      },
      "source": [
        "## Plot Training History\n",
        "plt.plot(new_cnn_model_history_phase_2.history['loss'], label='train')\n",
        "plt.plot(new_cnn_model_history_phase_2.history['val_loss'], label='test')\n",
        "plt.title('History Plot Error untuk Optimum Parameter Model CNN Baru Fase 2')\n",
        "plt.legend()\n",
        "plt.show()"
      ],
      "execution_count": 87,
      "outputs": [
        {
          "output_type": "display_data",
          "data": {
            "image/png": "[encoded data removed]",
            "text/plain": [
              "<Figure size 432x288 with 1 Axes>"
            ]
          },
          "metadata": {
            "tags": [],
            "needs_background": "light"
          }
        }
      ]
    },
    {
      "cell_type": "markdown",
      "metadata": {
        "id": "poQVrXcluAU4"
      },
      "source": [
        "##### Laporan Hasil"
      ]
    },
    {
      "cell_type": "markdown",
      "metadata": {
        "id": "XGL03QGktidP"
      },
      "source": [
        "Berdasarkan hasil train yang terakhir, melakukan _unfreeze_ pada layer paling depat tidak memberikan hasil metrik yang _significant_ dan cenderung sama dengan hasil saat semua layer kecuali _output layer_ di-_freeze_. Hal ini menunjukkan bahwa pembobotan _node_ sudah konvergen bahkan pada saat pertama kali _model_ ini di-_load_ dari _pre-trained_ model yang sudah dijalankan sebelumnya."
      ]
    },
    {
      "cell_type": "markdown",
      "metadata": {
        "id": "C2Cq5Nn9u1Jk"
      },
      "source": [
        "#### 10.\n",
        "Tuliskan analisis anda terkait implementasi menggunakan **Transfer Learning**."
      ]
    },
    {
      "cell_type": "markdown",
      "metadata": {
        "id": "2D4FNnpUu7mV"
      },
      "source": [
        ""
      ]
    }
  ]
}