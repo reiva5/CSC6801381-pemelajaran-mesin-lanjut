{
  "nbformat": 4,
  "nbformat_minor": 0,
  "metadata": {
    "kernelspec": {
      "display_name": "Python 3",
      "language": "python",
      "name": "python3"
    },
    "language_info": {
      "codemirror_mode": {
        "name": "ipython",
        "version": 3
      },
      "file_extension": ".py",
      "mimetype": "text/x-python",
      "name": "python",
      "nbconvert_exporter": "python",
      "pygments_lexer": "ipython3",
      "version": "3.6.9"
    },
    "colab": {
      "name": "Tugas3_Jehian Norman Saviero_2006609645.ipynb",
      "provenance": []
    }
  },
  "cells": [
    {
      "cell_type": "code",
      "metadata": {
        "id": "Yd7Tu89UXts8"
      },
      "source": [
        "import numpy as np\n",
        "import matplotlib.pyplot as plt\n",
        "import pandas as pd\n",
        "import random\n",
        "import tensorflow as tf\n",
        "\n",
        "from sklearn.model_selection import train_test_split\n",
        "from skimage import color, exposure, filters, io, morphology, util\n",
        "from math import sqrt\n",
        "from numpy import loadtxt\n",
        "from tensorflow import keras\n",
        "from keras import backend as K\n",
        "from keras.callbacks import EarlyStopping\n",
        "from keras.models import Sequential\n",
        "from keras.layers import Conv2D, Dense, Dropout, Flatten, MaxPooling2D, Reshape\n",
        "from keras.optimizers import SGD"
      ],
      "execution_count": 29,
      "outputs": []
    },
    {
      "cell_type": "markdown",
      "metadata": {
        "id": "kVPkBzPOY3nD"
      },
      "source": [
        "### TRANSFER LEARNING"
      ]
    },
    {
      "cell_type": "markdown",
      "metadata": {
        "id": "-8f0GynyY9PB"
      },
      "source": [
        "1. Bangun sebuah model $\\text{Convolutional Neural Network}$ dengan arsitektur dasar sebagai berikut :\n",
        "    - Convolutional Layer ($25$ maps, kernel $3 \\times 3$)\n",
        "    - Pooling Layer ($2 \\times 2$)\n",
        "    - Activation Function ($\\text{ReLU function}$)\n",
        "    - Convolutional Layer ($50$ maps, kernel $3 \\times 3$)\n",
        "    - Pooling Layer ($2 \\times 2$)\n",
        "    - Activation Function ($\\text{ReLU function}$)\n",
        "    - Convolutional Layer ($100$ maps, kernel $3 \\times 3$)\n",
        "    - Pooling Layer ($2 \\times 2$)\n",
        "    - Activation Function ($\\text{ReLU function}$)\n",
        "    - Hidden Layer ($100$ neuron)\n",
        "    - Activation Function ($\\text{ReLU function}$)\n",
        "    - Output Layer ($10$ kelas)\n",
        "    - Activation Function ($\\text{Softmax function}$)\n",
        "    - Classification Result\n",
        "\n",
        "  Dengan tambahan beberapa seperti:\n",
        "  - Adam optimization\n",
        "  - Early Stop\n",
        "\n",
        "2. Implementasi model $\\text{Convolutional Neural Network}$ tersebut pada dataset $\\text{CIFAR 10}$ (ambil random hanya $1000$ citra per kelas) dengan inisial $\\text{epoch} = 100$, $\\text{batch number} = 10$, $\\text{learning rate} = 0.1$, serta ratio data train dan data test sebanyak $60\\% : 40\\%$."
      ]
    },
    {
      "cell_type": "markdown",
      "metadata": {
        "id": "cRBOHdoNZwid"
      },
      "source": [
        "#### Mendefinisikan Fungsi Bantuan\n",
        "Untuk memudahkan implementasi, berikut beberapa fungsi bantuan yang akan dipakai"
      ]
    },
    {
      "cell_type": "markdown",
      "metadata": {
        "id": "Pu-1-wDXZ510"
      },
      "source": [
        "##### Menghitung $\\text{recall}$ atau $\\text{sensitivity}$\n",
        "$$\\text{recall} = \\frac{t_p}{t_p+t_n}$$"
      ]
    },
    {
      "cell_type": "code",
      "metadata": {
        "id": "73L3Si5GY8Bt"
      },
      "source": [
        "def recall(y_true, y_pred):\n",
        "    true_positives = K.sum(K.round(K.clip(y_true * y_pred, 0, 1)))\n",
        "    possible_positives = K.sum(K.round(K.clip(y_true, 0, 1)))\n",
        "    return true_positives / (possible_positives + K.epsilon())"
      ],
      "execution_count": 2,
      "outputs": []
    },
    {
      "cell_type": "markdown",
      "metadata": {
        "id": "vX56S8usaHok"
      },
      "source": [
        "##### Menghitung $\\text{precision}$\n",
        "$$\\text{precision} = \\frac{t_p}{t_p + f_p}$$"
      ]
    },
    {
      "cell_type": "code",
      "metadata": {
        "id": "b5R5nRHBaFxN"
      },
      "source": [
        "def precision(y_true, y_pred):\n",
        "    true_positives = K.sum(K.round(K.clip(y_true * y_pred, 0, 1)))\n",
        "    predicted_positives = K.sum(K.round(K.clip(y_pred, 0, 1)))\n",
        "    return true_positives / (predicted_positives + K.epsilon())"
      ],
      "execution_count": 3,
      "outputs": []
    },
    {
      "cell_type": "markdown",
      "metadata": {
        "id": "lSQF6ujjaR3u"
      },
      "source": [
        "##### Menghitung $\\text{specificity}$\n",
        "$$\\text{specificity} = \\frac{t_n}{t_n + f_p}$$"
      ]
    },
    {
      "cell_type": "code",
      "metadata": {
        "id": "HFNI1C0faMmF"
      },
      "source": [
        "def specificity(y_true, y_pred):\n",
        "    true_negatives = K.sum(K.round(K.clip((1 - y_true) * (1 - y_pred), 0, 1)))\n",
        "    possible_negatives = K.sum(K.round(K.clip(1 - y_true, 0, 1)))\n",
        "    return true_negatives / (possible_negatives + K.epsilon())"
      ],
      "execution_count": 4,
      "outputs": []
    },
    {
      "cell_type": "markdown",
      "metadata": {
        "id": "mTOySqnYaXMi"
      },
      "source": [
        "##### Menghitung $f_{1}\\text{ Score}$\n",
        "Kita tau bahwa\n",
        "$$f_{\\beta} = (1 + \\beta^{2}) \\cdot \\frac{\\text{precision} \\cdot \\text{recall}}{(\\beta^{2} \\cdot \\text{precision}) + \\text{recall}}$$\n",
        "Sehingga \n",
        "$$f_{1} = (1 + 1^{2}) \\cdot \\frac{\\text{precision} \\cdot \\text{recall}}{(1^{2} \\cdot \\text{precision}) + \\text{recall}}$$\n",
        "$$f_{1} = (2) \\cdot \\frac{\\text{precision} \\cdot \\text{recall}}{(\\text{precision}) + \\text{recall}}$$\n",
        "\n"
      ]
    },
    {
      "cell_type": "code",
      "metadata": {
        "id": "g29c08UWaVCZ"
      },
      "source": [
        "def f1_score(y_true, y_pred):\n",
        "    precision_val = precision(y_true, y_pred)\n",
        "    recall_val = recall(y_true, y_pred)\n",
        "    return 2*((precision_val * recall_val)/(precision_val + recall_val + K.epsilon()))"
      ],
      "execution_count": 5,
      "outputs": []
    },
    {
      "cell_type": "markdown",
      "metadata": {
        "id": "SJVCS5Q1aldQ"
      },
      "source": [
        "**n.b.: Semua fungsi pada bagian penyebut ditambah epsilon untuk menghindari dibagi $0$ dikarenakan memasukkan input sebanyak $0$**"
      ]
    },
    {
      "cell_type": "markdown",
      "metadata": {
        "id": "RJIOkA-caojX"
      },
      "source": [
        "##### Fungsi Bantuan untuk Melakukan Prediksi dan Menampilkan Metric"
      ]
    },
    {
      "cell_type": "code",
      "metadata": {
        "id": "PvFKE3jVagwj"
      },
      "source": [
        "def predict_and_get_metrics(model, x_test, y_test, label):\n",
        "    _, accuracy, sensitivity, specificity, score_f1 = model.evaluate(x_test, y_test, verbose=0)\n",
        "    return pd.DataFrame([[accuracy, sensitivity, specificity, score_f1]], columns=['Accuracy', 'Sensitivity', 'Specificity', 'F1 Score'], index=[label])\n",
        "\n",
        "def compare_train_and_test(model, x_train, y_train, x_test, y_test, extra_label=''):\n",
        "    metric_train = predict_and_get_metrics(model, x_train, y_train, 'Data Train %s' % (extra_label))\n",
        "    metric_test = predict_and_get_metrics(model, x_test, y_test, 'Data Test %s' % (extra_label))\n",
        "    return pd.concat([metric_train, metric_test])"
      ],
      "execution_count": 6,
      "outputs": []
    },
    {
      "cell_type": "markdown",
      "metadata": {
        "id": "E50lSCtWaxaP"
      },
      "source": [
        "##### Fungsi Bantuan untuk _Load Dataset_"
      ]
    },
    {
      "cell_type": "code",
      "metadata": {
        "id": "VRGsFnONasAe"
      },
      "source": [
        "def load_dataset_cifar10():\n",
        "\t(trainX, trainY), (testX, testY) = keras.datasets.cifar10.load_data()\n",
        "\treturn np.concatenate((trainX, testX), axis=0), np.concatenate((trainY, testY), axis=0)"
      ],
      "execution_count": 7,
      "outputs": []
    },
    {
      "cell_type": "markdown",
      "metadata": {
        "id": "S2YPie55cC8B"
      },
      "source": [
        "#### Load Dataset"
      ]
    },
    {
      "cell_type": "code",
      "metadata": {
        "id": "De3BijFyavrp",
        "outputId": "cb0b4bcb-48a1-4367-89a8-0d2b58c92b31",
        "colab": {
          "base_uri": "https://localhost:8080/",
          "height": 68
        }
      },
      "source": [
        "x, y = load_dataset_cifar10()\n",
        "x.shape"
      ],
      "execution_count": 8,
      "outputs": [
        {
          "output_type": "stream",
          "text": [
            "Downloading data from https://www.cs.toronto.edu/~kriz/cifar-10-python.tar.gz\n",
            "170500096/170498071 [==============================] - 11s 0us/step\n"
          ],
          "name": "stdout"
        },
        {
          "output_type": "execute_result",
          "data": {
            "text/plain": [
              "(60000, 32, 32, 3)"
            ]
          },
          "metadata": {
            "tags": []
          },
          "execution_count": 8
        }
      ]
    },
    {
      "cell_type": "markdown",
      "metadata": {
        "id": "Ol1gGZn1tXcU"
      },
      "source": [
        "#### Mengambil Dataset Sebanyak 1000 Per Kelasnya"
      ]
    },
    {
      "cell_type": "code",
      "metadata": {
        "id": "ZwB8cxdRcktx"
      },
      "source": [
        "idx_sample = np.array([],dtype=int)\n",
        "\n",
        "for i in range(10):\n",
        "    idx = (y == i).reshape(x.shape[0])\n",
        "    idx_data = np.where(idx == True)\n",
        "    sampled_list = np.random.choice(idx_data[0], size=1000, replace=False)\n",
        "    idx_sample = np.concatenate((idx_sample, sampled_list), axis=0)"
      ],
      "execution_count": 9,
      "outputs": []
    },
    {
      "cell_type": "markdown",
      "metadata": {
        "id": "BdnYBQdXtl16"
      },
      "source": [
        "#### Melakukan Validasi Apakah Shape-nya Sudah Valid atau Belum"
      ]
    },
    {
      "cell_type": "code",
      "metadata": {
        "id": "O_LteF08dnoP",
        "outputId": "fccd0e4b-9fa5-4a99-a645-ef36b9c6273a",
        "colab": {
          "base_uri": "https://localhost:8080/",
          "height": 34
        }
      },
      "source": [
        "x_sample = x[idx_sample]\n",
        "y_sample = y[idx_sample]\n",
        "x_sample.shape, y_sample.shape"
      ],
      "execution_count": 10,
      "outputs": [
        {
          "output_type": "execute_result",
          "data": {
            "text/plain": [
              "((10000, 32, 32, 3), (10000, 1))"
            ]
          },
          "metadata": {
            "tags": []
          },
          "execution_count": 10
        }
      ]
    },
    {
      "cell_type": "markdown",
      "metadata": {
        "id": "D2EMwzQyvRWE"
      },
      "source": [
        "#### Melakukan Normalisasi untuk $x$"
      ]
    },
    {
      "cell_type": "code",
      "metadata": {
        "id": "oyFNEK_pvVPA"
      },
      "source": [
        "def normalize(x):\n",
        "    return x / 255.0\n",
        "\n",
        "x_sample = normalize(x_sample)"
      ],
      "execution_count": 15,
      "outputs": []
    },
    {
      "cell_type": "markdown",
      "metadata": {
        "id": "2IeZh_cyu5tM"
      },
      "source": [
        "#### Merubah Menjadi Matrix Binary untuk $y$"
      ]
    },
    {
      "cell_type": "code",
      "metadata": {
        "id": "HWALf5B-vPM3"
      },
      "source": [
        "y_sample = tf.keras.utils.to_categorical(y_sample)"
      ],
      "execution_count": 11,
      "outputs": []
    },
    {
      "cell_type": "markdown",
      "metadata": {
        "id": "JPEUQiXyvjTT"
      },
      "source": [
        "#### Memecah Menjadi 60 : 40 ~ Train : Test"
      ]
    },
    {
      "cell_type": "code",
      "metadata": {
        "id": "q4zKyVvRvoJ4"
      },
      "source": [
        "x_train, x_test, y_train, y_test = train_test_split(x_sample, y_sample, test_size=0.4)"
      ],
      "execution_count": 16,
      "outputs": []
    },
    {
      "cell_type": "markdown",
      "metadata": {
        "id": "UupbLpNXtxff"
      },
      "source": [
        "#### Membangun Model Convolutional Neural Network"
      ]
    },
    {
      "cell_type": "code",
      "metadata": {
        "id": "OBc6Q_8ckvaL"
      },
      "source": [
        "def create_model(learning_rate):\n",
        "    convolutional_layers = []\n",
        "    ## Convolutional Layers 25 map, 3 x 3, activation = relu\n",
        "    convolutional_layers.append(Conv2D(25, kernel_size=(3, 3), activation=tf.nn.relu, padding='SAME', kernel_initializer=tf.keras.initializers.HeUniform()))\n",
        "\n",
        "    ## Pooling Layer 2 x 2\n",
        "    convolutional_layers.append(MaxPooling2D(2,2))\n",
        "\n",
        "    ## Convolutional Layers 50 map, 3 x 3, activation = relu\n",
        "    convolutional_layers.append(Conv2D(50, kernel_size=(3, 3), activation=tf.nn.relu, padding='SAME', kernel_initializer=tf.keras.initializers.HeUniform()))\n",
        "\n",
        "    ## Pooling Layer 2 x 2\n",
        "    convolutional_layers.append(MaxPooling2D(2,2))\n",
        "\n",
        "    ## Convolutional Layers 100 map, 3 x 3, activation = relu\n",
        "    convolutional_layers.append(Conv2D(100, kernel_size=(3, 3), activation=tf.nn.relu, padding='SAME', kernel_initializer=tf.keras.initializers.HeUniform()))\n",
        "\n",
        "    ## Pooling Layer 2 x 2\n",
        "    convolutional_layers.append(MaxPooling2D(2,2))\n",
        "\n",
        "    convolutional_layers.append(Flatten())\n",
        "\n",
        "    ## Hidden Layer 100 node\n",
        "    convolutional_layers.append(Dense(100, activation=tf.nn.relu))\n",
        "\n",
        "    ## Output 10 class\n",
        "    convolutional_layers.append(Dense(10, activation=tf.nn.softmax))\n",
        "\n",
        "    ## Menginisialisasi instance model\n",
        "    convolutional_model = Sequential(convolutional_layers)\n",
        "\n",
        "    ## Membangun model\n",
        "    convolutional_model.build(input_shape=x_train.shape)\n",
        "\n",
        "    ## Melakukan Kompilasi ke dalam Model\n",
        "    convolutional_model.compile(\n",
        "    optimizer=tf.keras.optimizers.Adam(learning_rate=learning_rate),\n",
        "    loss='categorical_crossentropy',\n",
        "    metrics=[\n",
        "      'accuracy',\n",
        "      recall,\n",
        "      specificity,\n",
        "      f1_score\n",
        "    ])\n",
        "\n",
        "    return convolutional_model"
      ],
      "execution_count": 47,
      "outputs": []
    },
    {
      "cell_type": "markdown",
      "metadata": {
        "id": "tbAYmxNOu70R"
      },
      "source": [
        "#### Melakukan _fitting_ dengan $\\text{epochs} = 100$, $\\text{batch_size} = 10$, dan $\\text{learning_rate} = 0.1$, dan $\\text{Early Stopping}$"
      ]
    },
    {
      "cell_type": "code",
      "metadata": {
        "id": "b0vPHzTdyB67",
        "outputId": "c7a6f9b9-6e68-4a16-890d-106fa3ccfd58",
        "colab": {
          "base_uri": "https://localhost:8080/",
          "height": 122
        }
      },
      "source": [
        "convolutional_model = create_model(0.1)\n",
        "es = EarlyStopping(monitor='val_loss')\n",
        "convolutional_model.fit(x_train, y_train, epochs=100, batch_size=10, validation_data=(x_test, y_test), use_multiprocessing=True, callbacks=[es])"
      ],
      "execution_count": 48,
      "outputs": [
        {
          "output_type": "stream",
          "text": [
            "Epoch 1/100\n",
            "600/600 [==============================] - 15s 25ms/step - loss: 15.5747 - accuracy: 0.1032 - recall: 3.3333e-04 - specificity: 0.9995 - f1_score: 3.3333e-04 - val_loss: 2.3144 - val_accuracy: 0.1028 - val_recall: 0.0000e+00 - val_specificity: 1.0000 - val_f1_score: 0.0000e+00\n",
            "Epoch 2/100\n",
            "600/600 [==============================] - 14s 24ms/step - loss: 2.3237 - accuracy: 0.1038 - recall: 0.0000e+00 - specificity: 1.0000 - f1_score: 0.0000e+00 - val_loss: 2.3170 - val_accuracy: 0.0960 - val_recall: 0.0000e+00 - val_specificity: 1.0000 - val_f1_score: 0.0000e+00\n"
          ],
          "name": "stdout"
        },
        {
          "output_type": "execute_result",
          "data": {
            "text/plain": [
              "<tensorflow.python.keras.callbacks.History at 0x7f6d61b80748>"
            ]
          },
          "metadata": {
            "tags": []
          },
          "execution_count": 48
        }
      ]
    },
    {
      "cell_type": "markdown",
      "metadata": {
        "id": "oeetNYtYv3ha"
      },
      "source": [
        "3. Lakukan skenario eksperimen untuk mendapatkan metrik evaluasi optimal ($\\text{akurasi}$, $\\text{sensitivity}$, $\\text{specifity}$, dan $f_{1} \\text{ score}$) dengan mengubah parameter yaitu:\n",
        "    1. Mengubah epoch, dengan $\\text{learning_rate} = 0.1$ dan $\\text\n",
        "{batch_number} = 10$.\n",
        "    2. Mengubah jumlah $\\text{batch number}$ dengan $\\text{epoch}$ optimal dari skenario (1) dan $\\text{learning_rate} = 0.1$.\n",
        "    3. Mengubah $\\text{learning_rate}$ dengan $\\text{epoch}$ optimal dari skenario (1) dan jumlah $\\text{batch_number}$ optimal dari skenario (2)."
      ]
    },
    {
      "cell_type": "markdown",
      "metadata": {
        "id": "fqK7vX6ExpeA"
      },
      "source": [
        "##### Melakukan Skenario 3.1. (Mengubah $\\text{epoch}$)"
      ]
    },
    {
      "cell_type": "markdown",
      "metadata": {
        "id": "eIKbzwL9xyGu"
      },
      "source": [
        "###### Skenario 3.1.1. ($\\text{epoch} = 50$)"
      ]
    },
    {
      "cell_type": "code",
      "metadata": {
        "id": "hiRP7I5HvzrS",
        "outputId": "a7327339-4a94-4db2-908c-1224a48eaeb3",
        "colab": {
          "base_uri": "https://localhost:8080/",
          "height": 122
        }
      },
      "source": [
        "convolutional_model = create_model(0.1)\n",
        "convolutional_model.fit(x_train, y_train, epochs=50, batch_size=10, validation_data=(x_test, y_test), use_multiprocessing=True, callbacks=[es])"
      ],
      "execution_count": 49,
      "outputs": [
        {
          "output_type": "stream",
          "text": [
            "Epoch 1/50\n",
            "600/600 [==============================] - 15s 25ms/step - loss: 32.3971 - accuracy: 0.0992 - recall: 5.0000e-04 - specificity: 0.9996 - f1_score: 5.8333e-04 - val_loss: 2.3097 - val_accuracy: 0.1055 - val_recall: 0.0000e+00 - val_specificity: 1.0000 - val_f1_score: 0.0000e+00\n",
            "Epoch 2/50\n",
            "600/600 [==============================] - 15s 24ms/step - loss: 2.3231 - accuracy: 0.1003 - recall: 0.0000e+00 - specificity: 1.0000 - f1_score: 0.0000e+00 - val_loss: 2.3266 - val_accuracy: 0.1040 - val_recall: 0.0000e+00 - val_specificity: 1.0000 - val_f1_score: 0.0000e+00\n"
          ],
          "name": "stdout"
        },
        {
          "output_type": "execute_result",
          "data": {
            "text/plain": [
              "<tensorflow.python.keras.callbacks.History at 0x7f6d65918630>"
            ]
          },
          "metadata": {
            "tags": []
          },
          "execution_count": 49
        }
      ]
    },
    {
      "cell_type": "markdown",
      "metadata": {
        "id": "z50yWQxxyDKv"
      },
      "source": [
        "###### Skenario 3.1.2. ($\\text{epoch}$ = 25)"
      ]
    },
    {
      "cell_type": "code",
      "metadata": {
        "id": "qoFAMbV1yAqy",
        "outputId": "e89d8475-1c60-4c0a-9abc-b6a66a25d804",
        "colab": {
          "base_uri": "https://localhost:8080/",
          "height": 122
        }
      },
      "source": [
        "convolutional_model = create_model(0.1)\n",
        "convolutional_model.fit(x_train, y_train, epochs=25, batch_size=10, validation_data=(x_test, y_test), use_multiprocessing=True, callbacks=[es])"
      ],
      "execution_count": 50,
      "outputs": [
        {
          "output_type": "stream",
          "text": [
            "Epoch 1/25\n",
            "600/600 [==============================] - 15s 24ms/step - loss: 37.5879 - accuracy: 0.1015 - recall: 8.3333e-04 - specificity: 0.9994 - f1_score: 8.8889e-04 - val_loss: 2.3227 - val_accuracy: 0.1028 - val_recall: 0.0000e+00 - val_specificity: 1.0000 - val_f1_score: 0.0000e+00\n",
            "Epoch 2/25\n",
            "600/600 [==============================] - 14s 24ms/step - loss: 2.3274 - accuracy: 0.0975 - recall: 0.0000e+00 - specificity: 1.0000 - f1_score: 0.0000e+00 - val_loss: 2.3280 - val_accuracy: 0.0965 - val_recall: 0.0000e+00 - val_specificity: 1.0000 - val_f1_score: 0.0000e+00\n"
          ],
          "name": "stdout"
        },
        {
          "output_type": "execute_result",
          "data": {
            "text/plain": [
              "<tensorflow.python.keras.callbacks.History at 0x7f6d65668630>"
            ]
          },
          "metadata": {
            "tags": []
          },
          "execution_count": 50
        }
      ]
    },
    {
      "cell_type": "markdown",
      "metadata": {
        "id": "sfFd4JoiyVL0"
      },
      "source": [
        "###### Skenario 3.1.3. ($\\text{epoch}$ = 10)"
      ]
    },
    {
      "cell_type": "code",
      "metadata": {
        "id": "My0WoXDnyTVL",
        "outputId": "67ab163a-5594-4fde-c5c1-9c60e24a437c",
        "colab": {
          "base_uri": "https://localhost:8080/",
          "height": 122
        }
      },
      "source": [
        "convolutional_model = create_model(0.1)\n",
        "convolutional_model.fit(x_train, y_train, epochs=10, batch_size=10, validation_data=(x_test, y_test), use_multiprocessing=True, callbacks=[es])"
      ],
      "execution_count": 51,
      "outputs": [
        {
          "output_type": "stream",
          "text": [
            "Epoch 1/10\n",
            "600/600 [==============================] - 15s 24ms/step - loss: 25.4538 - accuracy: 0.0953 - recall: 0.0012 - specificity: 0.9990 - f1_score: 0.0012 - val_loss: 2.3183 - val_accuracy: 0.1028 - val_recall: 0.0000e+00 - val_specificity: 1.0000 - val_f1_score: 0.0000e+00\n",
            "Epoch 2/10\n",
            "600/600 [==============================] - 15s 24ms/step - loss: 2.3247 - accuracy: 0.0978 - recall: 0.0000e+00 - specificity: 1.0000 - f1_score: 0.0000e+00 - val_loss: 2.3241 - val_accuracy: 0.0972 - val_recall: 0.0000e+00 - val_specificity: 1.0000 - val_f1_score: 0.0000e+00\n"
          ],
          "name": "stdout"
        },
        {
          "output_type": "execute_result",
          "data": {
            "text/plain": [
              "<tensorflow.python.keras.callbacks.History at 0x7f6d6543b080>"
            ]
          },
          "metadata": {
            "tags": []
          },
          "execution_count": 51
        }
      ]
    },
    {
      "cell_type": "markdown",
      "metadata": {
        "id": "JDjlsyWmuOO2"
      },
      "source": [
        "###### Kesimpulan Skenario $3.1.$"
      ]
    },
    {
      "cell_type": "markdown",
      "metadata": {
        "id": "aZVma5oUyhZ8"
      },
      "source": [
        "Berdasarkan hasil dari skenario $3.1.1$, $3.1.2$, dan $3.1.3$, ketiga skenario mengalami _early stop_ pada $\\text{epoch} \\leq 4$. Dengan demikian epoch optimal dari skenario-skenario tersebut adalah $\\text{epoch}$ dari skenario $3.1.3$, yaitu $10$."
      ]
    },
    {
      "cell_type": "markdown",
      "metadata": {
        "id": "UnZzodGOy-wu"
      },
      "source": [
        "##### Melakukan Skenario $3.2.$ (Mengubah $\\text{batch_number}$)"
      ]
    },
    {
      "cell_type": "markdown",
      "metadata": {
        "id": "Jpmk_tBlzTpp"
      },
      "source": [
        "###### Skenario $3.2.1.$ ($\\text{batch_number} = 25$)"
      ]
    },
    {
      "cell_type": "code",
      "metadata": {
        "id": "OxvebtnPzSsX",
        "outputId": "d025c7f5-a3fc-4bd9-8f82-8f7e3ae5fef7",
        "colab": {
          "base_uri": "https://localhost:8080/",
          "height": 190
        }
      },
      "source": [
        "convolutional_model = create_model(0.1)\n",
        "convolutional_model.fit(x_train, y_train, epochs=10, batch_size=25, validation_data=(x_test, y_test), use_multiprocessing=True, callbacks=[es])"
      ],
      "execution_count": 52,
      "outputs": [
        {
          "output_type": "stream",
          "text": [
            "Epoch 1/10\n",
            "240/240 [==============================] - 13s 53ms/step - loss: 63.2099 - accuracy: 0.0967 - recall: 3.3333e-04 - specificity: 0.9989 - f1_score: 4.3548e-04 - val_loss: 2.3440 - val_accuracy: 0.1028 - val_recall: 0.0000e+00 - val_specificity: 1.0000 - val_f1_score: 0.0000e+00\n",
            "Epoch 2/10\n",
            "240/240 [==============================] - 13s 52ms/step - loss: 2.3198 - accuracy: 0.0937 - recall: 0.0000e+00 - specificity: 1.0000 - f1_score: 0.0000e+00 - val_loss: 2.3260 - val_accuracy: 0.1010 - val_recall: 0.0000e+00 - val_specificity: 1.0000 - val_f1_score: 0.0000e+00\n",
            "Epoch 3/10\n",
            "240/240 [==============================] - 13s 53ms/step - loss: 2.3182 - accuracy: 0.0957 - recall: 0.0000e+00 - specificity: 1.0000 - f1_score: 0.0000e+00 - val_loss: 2.3128 - val_accuracy: 0.1040 - val_recall: 0.0000e+00 - val_specificity: 1.0000 - val_f1_score: 0.0000e+00\n",
            "Epoch 4/10\n",
            "240/240 [==============================] - 13s 53ms/step - loss: 2.3152 - accuracy: 0.1072 - recall: 0.0000e+00 - specificity: 1.0000 - f1_score: 0.0000e+00 - val_loss: 2.3191 - val_accuracy: 0.0995 - val_recall: 0.0000e+00 - val_specificity: 1.0000 - val_f1_score: 0.0000e+00\n"
          ],
          "name": "stdout"
        },
        {
          "output_type": "execute_result",
          "data": {
            "text/plain": [
              "<tensorflow.python.keras.callbacks.History at 0x7f6d65203cc0>"
            ]
          },
          "metadata": {
            "tags": []
          },
          "execution_count": 52
        }
      ]
    },
    {
      "cell_type": "markdown",
      "metadata": {
        "id": "DLCAlr4yzedO"
      },
      "source": [
        "###### Skenario $3.2.2.$ ($\\text{batch_number} = 50$)"
      ]
    },
    {
      "cell_type": "code",
      "metadata": {
        "id": "VyFLHqxczdk9",
        "outputId": "1786d371-ae14-4be9-eb96-8b1d6b8feb91",
        "colab": {
          "base_uri": "https://localhost:8080/",
          "height": 156
        }
      },
      "source": [
        "convolutional_model = create_model(0.1)\n",
        "convolutional_model.fit(x_train, y_train, epochs=10, batch_size=50, validation_data=(x_test, y_test), use_multiprocessing=True, callbacks=[es])"
      ],
      "execution_count": 53,
      "outputs": [
        {
          "output_type": "stream",
          "text": [
            "Epoch 1/10\n",
            "120/120 [==============================] - 12s 102ms/step - loss: 64.9252 - accuracy: 0.1012 - recall: 0.0032 - specificity: 0.9969 - f1_score: 0.0033 - val_loss: 2.3124 - val_accuracy: 0.0960 - val_recall: 0.0000e+00 - val_specificity: 1.0000 - val_f1_score: 0.0000e+00\n",
            "Epoch 2/10\n",
            "120/120 [==============================] - 12s 99ms/step - loss: 2.3151 - accuracy: 0.1025 - recall: 0.0000e+00 - specificity: 1.0000 - f1_score: 0.0000e+00 - val_loss: 2.3096 - val_accuracy: 0.1028 - val_recall: 0.0000e+00 - val_specificity: 1.0000 - val_f1_score: 0.0000e+00\n",
            "Epoch 3/10\n",
            "120/120 [==============================] - 12s 99ms/step - loss: 2.3092 - accuracy: 0.1038 - recall: 0.0000e+00 - specificity: 1.0000 - f1_score: 0.0000e+00 - val_loss: 2.3138 - val_accuracy: 0.1010 - val_recall: 0.0000e+00 - val_specificity: 1.0000 - val_f1_score: 0.0000e+00\n"
          ],
          "name": "stdout"
        },
        {
          "output_type": "execute_result",
          "data": {
            "text/plain": [
              "<tensorflow.python.keras.callbacks.History at 0x7f6d57f80ef0>"
            ]
          },
          "metadata": {
            "tags": []
          },
          "execution_count": 53
        }
      ]
    },
    {
      "cell_type": "markdown",
      "metadata": {
        "id": "idcvhcP_zmAj"
      },
      "source": [
        "###### Skenario $3.2.3.$ ($\\text{batch_number} = 100$)"
      ]
    },
    {
      "cell_type": "code",
      "metadata": {
        "id": "mzugkM5tzkEp",
        "outputId": "4b9267b2-ba66-4c4c-ea64-5223e1de0990",
        "colab": {
          "base_uri": "https://localhost:8080/",
          "height": 122
        }
      },
      "source": [
        "convolutional_model = create_model(0.1)\n",
        "convolutional_model.fit(x_train, y_train, epochs=10, batch_size=100, validation_data=(x_test, y_test), use_multiprocessing=True, callbacks=[es])"
      ],
      "execution_count": 54,
      "outputs": [
        {
          "output_type": "stream",
          "text": [
            "Epoch 1/10\n",
            "60/60 [==============================] - 11s 191ms/step - loss: 457.3477 - accuracy: 0.1007 - recall: 0.0075 - specificity: 0.9932 - f1_score: 0.0076 - val_loss: 2.3055 - val_accuracy: 0.0960 - val_recall: 0.0000e+00 - val_specificity: 1.0000 - val_f1_score: 0.0000e+00\n",
            "Epoch 2/10\n",
            "60/60 [==============================] - 11s 183ms/step - loss: 2.3066 - accuracy: 0.1005 - recall: 0.0000e+00 - specificity: 1.0000 - f1_score: 0.0000e+00 - val_loss: 2.3095 - val_accuracy: 0.0955 - val_recall: 0.0000e+00 - val_specificity: 1.0000 - val_f1_score: 0.0000e+00\n"
          ],
          "name": "stdout"
        },
        {
          "output_type": "execute_result",
          "data": {
            "text/plain": [
              "<tensorflow.python.keras.callbacks.History at 0x7f6d576e36a0>"
            ]
          },
          "metadata": {
            "tags": []
          },
          "execution_count": 54
        }
      ]
    },
    {
      "cell_type": "markdown",
      "metadata": {
        "id": "mAd4eT5NzqlH"
      },
      "source": [
        "###### Skenario $3.2.4.$ ($\\text{batch_number} = 500$)"
      ]
    },
    {
      "cell_type": "code",
      "metadata": {
        "id": "7JLN26Grzp74",
        "outputId": "d9507994-cc10-4dc0-b74f-b9cd579a4a91",
        "colab": {
          "base_uri": "https://localhost:8080/",
          "height": 156
        }
      },
      "source": [
        "convolutional_model = create_model(0.1)\n",
        "convolutional_model.fit(x_train, y_train, epochs=10, batch_size=500, validation_data=(x_test, y_test), use_multiprocessing=True, callbacks=[es])"
      ],
      "execution_count": 55,
      "outputs": [
        {
          "output_type": "stream",
          "text": [
            "Epoch 1/10\n",
            "12/12 [==============================] - 10s 841ms/step - loss: 798.4647 - accuracy: 0.0987 - recall: 0.0170 - specificity: 0.9797 - f1_score: 0.0180 - val_loss: 2.3108 - val_accuracy: 0.0955 - val_recall: 0.0000e+00 - val_specificity: 1.0000 - val_f1_score: 0.0000e+00\n",
            "Epoch 2/10\n",
            "12/12 [==============================] - 10s 819ms/step - loss: 2.3081 - accuracy: 0.0997 - recall: 0.0000e+00 - specificity: 1.0000 - f1_score: 0.0000e+00 - val_loss: 2.3042 - val_accuracy: 0.0960 - val_recall: 0.0000e+00 - val_specificity: 1.0000 - val_f1_score: 0.0000e+00\n",
            "Epoch 3/10\n",
            "12/12 [==============================] - 10s 818ms/step - loss: 2.3082 - accuracy: 0.1047 - recall: 0.0000e+00 - specificity: 1.0000 - f1_score: 0.0000e+00 - val_loss: 2.3054 - val_accuracy: 0.0965 - val_recall: 0.0000e+00 - val_specificity: 1.0000 - val_f1_score: 0.0000e+00\n"
          ],
          "name": "stdout"
        },
        {
          "output_type": "execute_result",
          "data": {
            "text/plain": [
              "<tensorflow.python.keras.callbacks.History at 0x7f6d57441fd0>"
            ]
          },
          "metadata": {
            "tags": []
          },
          "execution_count": 55
        }
      ]
    },
    {
      "cell_type": "markdown",
      "metadata": {
        "id": "cpQnJ960zxRW"
      },
      "source": [
        "###### Skenario $3.2.5.$ ($\\text{batch_number} = 1000$)"
      ]
    },
    {
      "cell_type": "code",
      "metadata": {
        "id": "LXYpKC3czufj",
        "outputId": "d4f48729-326e-44be-fadf-76f169989016",
        "colab": {
          "base_uri": "https://localhost:8080/",
          "height": 258
        }
      },
      "source": [
        "convolutional_model = create_model(0.1)\n",
        "convolutional_model.fit(x_train, y_train, epochs=10, batch_size=1000, validation_data=(x_test, y_test), use_multiprocessing=True, callbacks=[es])"
      ],
      "execution_count": 56,
      "outputs": [
        {
          "output_type": "stream",
          "text": [
            "Epoch 1/10\n",
            "6/6 [==============================] - 9s 2s/step - loss: 1637.4381 - accuracy: 0.0962 - recall: 0.0473 - specificity: 0.9494 - f1_score: 0.0473 - val_loss: 2.4419 - val_accuracy: 0.0965 - val_recall: 0.0000e+00 - val_specificity: 1.0000 - val_f1_score: 0.0000e+00\n",
            "Epoch 2/10\n",
            "6/6 [==============================] - 9s 1s/step - loss: 2.3754 - accuracy: 0.0967 - recall: 0.0000e+00 - specificity: 1.0000 - f1_score: 0.0000e+00 - val_loss: 2.3395 - val_accuracy: 0.1028 - val_recall: 0.0000e+00 - val_specificity: 1.0000 - val_f1_score: 0.0000e+00\n",
            "Epoch 3/10\n",
            "6/6 [==============================] - 9s 1s/step - loss: 2.3338 - accuracy: 0.1008 - recall: 0.0000e+00 - specificity: 1.0000 - f1_score: 0.0000e+00 - val_loss: 2.3277 - val_accuracy: 0.0960 - val_recall: 0.0000e+00 - val_specificity: 1.0000 - val_f1_score: 0.0000e+00\n",
            "Epoch 4/10\n",
            "6/6 [==============================] - 9s 1s/step - loss: 2.3178 - accuracy: 0.1027 - recall: 0.0000e+00 - specificity: 1.0000 - f1_score: 0.0000e+00 - val_loss: 2.3147 - val_accuracy: 0.1020 - val_recall: 0.0000e+00 - val_specificity: 1.0000 - val_f1_score: 0.0000e+00\n",
            "Epoch 5/10\n",
            "6/6 [==============================] - 9s 1s/step - loss: 2.3087 - accuracy: 0.0987 - recall: 0.0000e+00 - specificity: 1.0000 - f1_score: 0.0000e+00 - val_loss: 2.3072 - val_accuracy: 0.1020 - val_recall: 0.0000e+00 - val_specificity: 1.0000 - val_f1_score: 0.0000e+00\n",
            "Epoch 6/10\n",
            "6/6 [==============================] - 9s 1s/step - loss: 2.3041 - accuracy: 0.0990 - recall: 0.0000e+00 - specificity: 1.0000 - f1_score: 0.0000e+00 - val_loss: 2.3238 - val_accuracy: 0.1015 - val_recall: 0.0000e+00 - val_specificity: 0.9999 - val_f1_score: 0.0000e+00\n"
          ],
          "name": "stdout"
        },
        {
          "output_type": "execute_result",
          "data": {
            "text/plain": [
              "<tensorflow.python.keras.callbacks.History at 0x7f6d57219710>"
            ]
          },
          "metadata": {
            "tags": []
          },
          "execution_count": 56
        }
      ]
    },
    {
      "cell_type": "markdown",
      "metadata": {
        "id": "pll9r-Aw0Hpv"
      },
      "source": [
        "###### Kesimpulan Skenario $3.2.$"
      ]
    },
    {
      "cell_type": "markdown",
      "metadata": {
        "id": "xIjeqYBxuJBa"
      },
      "source": [
        "Berdasarkan hasil dari skenario $3.2.1$, $3.2.2$, $3.2.3$, $3.2.4$, dan $3.2.5$, kelima skenario mengalami _early stop_ pada $\\text{epoch} \\leq 4$. Dengan demikian $\\text{batch_size}$ optimal dari skenario-skenario tersebut adalah $\\text{batch_size}$ dari skenario $3.2.1$, yaitu $25$."
      ]
    },
    {
      "cell_type": "markdown",
      "metadata": {
        "id": "YcX10i1J0cso"
      },
      "source": [
        "##### Melakukan Skenario $3.3.$ (Mengubah $\\text{learning_rate}$)"
      ]
    },
    {
      "cell_type": "markdown",
      "metadata": {
        "id": "urtNgG400yNq"
      },
      "source": [
        "##### Skenario $3.3.1.$ ($\\text{learning_rate} = 0.25$)"
      ]
    },
    {
      "cell_type": "code",
      "metadata": {
        "id": "OlsPZP911QSa",
        "outputId": "aa83663b-2755-4028-df2e-77abc4be66f4",
        "colab": {
          "base_uri": "https://localhost:8080/",
          "height": 224
        }
      },
      "source": [
        "convolutional_model = create_model(0.25)\n",
        "convolutional_model.fit(x_train, y_train, epochs=10, batch_size=25, validation_data=(x_test, y_test), use_multiprocessing=True, callbacks=[es])"
      ],
      "execution_count": 57,
      "outputs": [
        {
          "output_type": "stream",
          "text": [
            "Epoch 1/10\n",
            "240/240 [==============================] - 13s 55ms/step - loss: 2822.5432 - accuracy: 0.1062 - recall: 0.0030 - specificity: 0.9975 - f1_score: 0.0030 - val_loss: 2.3322 - val_accuracy: 0.1040 - val_recall: 0.0000e+00 - val_specificity: 1.0000 - val_f1_score: 0.0000e+00\n",
            "Epoch 2/10\n",
            "240/240 [==============================] - 13s 52ms/step - loss: 2.3369 - accuracy: 0.1000 - recall: 0.0000e+00 - specificity: 1.0000 - f1_score: 0.0000e+00 - val_loss: 2.3236 - val_accuracy: 0.0995 - val_recall: 0.0000e+00 - val_specificity: 1.0000 - val_f1_score: 0.0000e+00\n",
            "Epoch 3/10\n",
            "240/240 [==============================] - 13s 52ms/step - loss: 2.3304 - accuracy: 0.1010 - recall: 0.0000e+00 - specificity: 1.0000 - f1_score: 0.0000e+00 - val_loss: 2.3168 - val_accuracy: 0.1040 - val_recall: 0.0000e+00 - val_specificity: 1.0000 - val_f1_score: 0.0000e+00\n",
            "Epoch 4/10\n",
            "240/240 [==============================] - 13s 52ms/step - loss: 2.3378 - accuracy: 0.0962 - recall: 0.0000e+00 - specificity: 1.0000 - f1_score: 0.0000e+00 - val_loss: 2.3042 - val_accuracy: 0.1028 - val_recall: 0.0000e+00 - val_specificity: 1.0000 - val_f1_score: 0.0000e+00\n",
            "Epoch 5/10\n",
            "240/240 [==============================] - 13s 52ms/step - loss: 2.3363 - accuracy: 0.0997 - recall: 0.0000e+00 - specificity: 1.0000 - f1_score: 0.0000e+00 - val_loss: 2.3525 - val_accuracy: 0.0965 - val_recall: 0.0000e+00 - val_specificity: 1.0000 - val_f1_score: 0.0000e+00\n"
          ],
          "name": "stdout"
        },
        {
          "output_type": "execute_result",
          "data": {
            "text/plain": [
              "<tensorflow.python.keras.callbacks.History at 0x7f6d56fecb70>"
            ]
          },
          "metadata": {
            "tags": []
          },
          "execution_count": 57
        }
      ]
    },
    {
      "cell_type": "markdown",
      "metadata": {
        "id": "rN1n-0po08De"
      },
      "source": [
        "##### Skenario $3.3.2.$ ($\\text{learning_rate} = 0.05$)"
      ]
    },
    {
      "cell_type": "code",
      "metadata": {
        "id": "iuxjL3uI1Xxz",
        "outputId": "e5aa60f0-c4c6-4b37-b574-82e538014a55",
        "colab": {
          "base_uri": "https://localhost:8080/",
          "height": 122
        }
      },
      "source": [
        "convolutional_model = create_model(0.05)\n",
        "convolutional_model.fit(x_train, y_train, epochs=10, batch_size=25, validation_data=(x_test, y_test), use_multiprocessing=True, callbacks=[es])"
      ],
      "execution_count": 58,
      "outputs": [
        {
          "output_type": "stream",
          "text": [
            "Epoch 1/10\n",
            "240/240 [==============================] - 13s 53ms/step - loss: 4.4686 - accuracy: 0.0973 - recall: 6.6667e-04 - specificity: 0.9994 - f1_score: 0.0011 - val_loss: 2.3061 - val_accuracy: 0.0960 - val_recall: 0.0000e+00 - val_specificity: 1.0000 - val_f1_score: 0.0000e+00\n",
            "Epoch 2/10\n",
            "240/240 [==============================] - 12s 52ms/step - loss: 2.3111 - accuracy: 0.1013 - recall: 0.0000e+00 - specificity: 1.0000 - f1_score: 0.0000e+00 - val_loss: 2.3070 - val_accuracy: 0.1020 - val_recall: 0.0000e+00 - val_specificity: 1.0000 - val_f1_score: 0.0000e+00\n"
          ],
          "name": "stdout"
        },
        {
          "output_type": "execute_result",
          "data": {
            "text/plain": [
              "<tensorflow.python.keras.callbacks.History at 0x7f6d5361db70>"
            ]
          },
          "metadata": {
            "tags": []
          },
          "execution_count": 58
        }
      ]
    },
    {
      "cell_type": "markdown",
      "metadata": {
        "id": "mkMNveC-0-tK"
      },
      "source": [
        "##### Skenario $3.3.3.$ ($\\text{learning_rate} = 0.01$)"
      ]
    },
    {
      "cell_type": "code",
      "metadata": {
        "id": "eE2bPsLs1ayE",
        "outputId": "d5708db1-41d2-410c-9c36-e5aee49a6e66",
        "colab": {
          "base_uri": "https://localhost:8080/",
          "height": 156
        }
      },
      "source": [
        "convolutional_model = create_model(0.01)\n",
        "convolutional_model.fit(x_train, y_train, epochs=10, batch_size=25, validation_data=(x_test, y_test), use_multiprocessing=True, callbacks=[es])"
      ],
      "execution_count": 59,
      "outputs": [
        {
          "output_type": "stream",
          "text": [
            "Epoch 1/10\n",
            "240/240 [==============================] - 13s 53ms/step - loss: 2.2564 - accuracy: 0.2162 - recall: 0.0212 - specificity: 0.9969 - f1_score: 0.0368 - val_loss: 1.8174 - val_accuracy: 0.3305 - val_recall: 0.0840 - val_specificity: 0.9938 - val_f1_score: 0.1440\n",
            "Epoch 2/10\n",
            "240/240 [==============================] - 13s 52ms/step - loss: 1.8135 - accuracy: 0.3285 - recall: 0.0773 - specificity: 0.9923 - f1_score: 0.1287 - val_loss: 1.6918 - val_accuracy: 0.3790 - val_recall: 0.1385 - val_specificity: 0.9886 - val_f1_score: 0.2184\n",
            "Epoch 3/10\n",
            "240/240 [==============================] - 12s 52ms/step - loss: 1.6848 - accuracy: 0.3852 - recall: 0.1412 - specificity: 0.9894 - f1_score: 0.2217 - val_loss: 1.6921 - val_accuracy: 0.3778 - val_recall: 0.1528 - val_specificity: 0.9871 - val_f1_score: 0.2374\n"
          ],
          "name": "stdout"
        },
        {
          "output_type": "execute_result",
          "data": {
            "text/plain": [
              "<tensorflow.python.keras.callbacks.History at 0x7f6d52bd99b0>"
            ]
          },
          "metadata": {
            "tags": []
          },
          "execution_count": 59
        }
      ]
    },
    {
      "cell_type": "markdown",
      "metadata": {
        "id": "vPZChoED1An_"
      },
      "source": [
        "##### Skenario $3.3.4.$ ($\\text{learning_rate} = 0.005$)"
      ]
    },
    {
      "cell_type": "code",
      "metadata": {
        "id": "SvPgU0-Z1dTI",
        "outputId": "ec51001b-889b-4df6-ccff-21c6fe6272ca",
        "colab": {
          "base_uri": "https://localhost:8080/",
          "height": 224
        }
      },
      "source": [
        "convolutional_model = create_model(0.005)\n",
        "convolutional_model.fit(x_train, y_train, epochs=10, batch_size=25, validation_data=(x_test, y_test), use_multiprocessing=True, callbacks=[es])"
      ],
      "execution_count": 60,
      "outputs": [
        {
          "output_type": "stream",
          "text": [
            "Epoch 1/10\n",
            "240/240 [==============================] - 13s 53ms/step - loss: 2.0047 - accuracy: 0.2705 - recall: 0.0398 - specificity: 0.9953 - f1_score: 0.0677 - val_loss: 1.7832 - val_accuracy: 0.3305 - val_recall: 0.1015 - val_specificity: 0.9882 - val_f1_score: 0.1642\n",
            "Epoch 2/10\n",
            "240/240 [==============================] - 13s 52ms/step - loss: 1.6248 - accuracy: 0.4052 - recall: 0.1622 - specificity: 0.9893 - f1_score: 0.2509 - val_loss: 1.6142 - val_accuracy: 0.4145 - val_recall: 0.1853 - val_specificity: 0.9869 - val_f1_score: 0.2804\n",
            "Epoch 3/10\n",
            "240/240 [==============================] - 13s 52ms/step - loss: 1.4660 - accuracy: 0.4650 - recall: 0.2543 - specificity: 0.9863 - f1_score: 0.3633 - val_loss: 1.5383 - val_accuracy: 0.4552 - val_recall: 0.3028 - val_specificity: 0.9783 - val_f1_score: 0.4010\n",
            "Epoch 4/10\n",
            "240/240 [==============================] - 13s 53ms/step - loss: 1.3508 - accuracy: 0.5108 - recall: 0.3183 - specificity: 0.9850 - f1_score: 0.4333 - val_loss: 1.4329 - val_accuracy: 0.4815 - val_recall: 0.3277 - val_specificity: 0.9812 - val_f1_score: 0.4344\n",
            "Epoch 5/10\n",
            "240/240 [==============================] - 13s 53ms/step - loss: 1.2536 - accuracy: 0.5510 - recall: 0.3765 - specificity: 0.9825 - f1_score: 0.4873 - val_loss: 1.4498 - val_accuracy: 0.4875 - val_recall: 0.3328 - val_specificity: 0.9784 - val_f1_score: 0.4335\n"
          ],
          "name": "stdout"
        },
        {
          "output_type": "execute_result",
          "data": {
            "text/plain": [
              "<tensorflow.python.keras.callbacks.History at 0x7f6d521362e8>"
            ]
          },
          "metadata": {
            "tags": []
          },
          "execution_count": 60
        }
      ]
    },
    {
      "cell_type": "markdown",
      "metadata": {
        "id": "wJr_rlhB1JGh"
      },
      "source": [
        "##### Skenario $3.3.5.$ ($\\text{learning_rate} = 0.001$)"
      ]
    },
    {
      "cell_type": "code",
      "metadata": {
        "id": "KFwKZqUP1fBz",
        "outputId": "f1051675-1fa6-44c6-bca6-f533134a17b0",
        "colab": {
          "base_uri": "https://localhost:8080/",
          "height": 122
        }
      },
      "source": [
        "convolutional_model = create_model(0.001)\n",
        "convolutional_model.fit(x_train, y_train, epochs=10, batch_size=25, validation_data=(x_test, y_test), use_multiprocessing=True, callbacks=[es])"
      ],
      "execution_count": 61,
      "outputs": [
        {
          "output_type": "stream",
          "text": [
            "Epoch 1/10\n",
            "240/240 [==============================] - 13s 55ms/step - loss: 1.9290 - accuracy: 0.2995 - recall: 0.0450 - specificity: 0.9961 - f1_score: 0.0777 - val_loss: 1.6785 - val_accuracy: 0.3785 - val_recall: 0.0997 - val_specificity: 0.9934 - val_f1_score: 0.1680\n",
            "Epoch 2/10\n",
            "240/240 [==============================] - 13s 54ms/step - loss: 1.5386 - accuracy: 0.4405 - recall: 0.1965 - specificity: 0.9891 - f1_score: 0.2950 - val_loss: 1.7035 - val_accuracy: 0.4055 - val_recall: 0.2423 - val_specificity: 0.9781 - val_f1_score: 0.3333\n"
          ],
          "name": "stdout"
        },
        {
          "output_type": "execute_result",
          "data": {
            "text/plain": [
              "<tensorflow.python.keras.callbacks.History at 0x7f6d51f50550>"
            ]
          },
          "metadata": {
            "tags": []
          },
          "execution_count": 61
        }
      ]
    },
    {
      "cell_type": "markdown",
      "metadata": {
        "id": "eNWcw6jIuAx9"
      },
      "source": [
        "###### Kesimpulan Skenario $3.3.$"
      ]
    },
    {
      "cell_type": "markdown",
      "metadata": {
        "id": "Psug-8DHua_m"
      },
      "source": [
        "Berdasarkan hasil dari skenario $3.3.1$, $3.3.2$, $3.3.3$, $3.3.4$, dan $3.3.5$, skenario yang menghasilkan akurasi terbaik adalah skenario $3.3.4$. Dengan demikian $\\text{learning_rate}$ optimal dari skenario-skenario tersebut adalah $\\text{learning}$ dari skenario $3.3.4$, yaitu $0.005$."
      ]
    },
    {
      "cell_type": "code",
      "metadata": {
        "id": "0pzItHWEz1u0"
      },
      "source": [
        ""
      ],
      "execution_count": null,
      "outputs": []
    }
  ]
}